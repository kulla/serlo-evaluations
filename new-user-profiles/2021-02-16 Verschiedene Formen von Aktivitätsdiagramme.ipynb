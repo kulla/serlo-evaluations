{
 "cells": [
  {
   "cell_type": "code",
   "execution_count": 19,
   "id": "searching-syndrome",
   "metadata": {},
   "outputs": [
    {
     "data": {
      "text/html": [
       "<svg style=\"width: 100%\" viewBox=\"0 0 102 20\">\n",
       "<line y1=\"5.0\" x1=\"1\" y2=\"5.0\" x2=\"100\" stroke=\"#ddd\"\n",
       "                        stroke-linecap=\"round\"/>\n",
       "<line y1=\"5.0\" x1=\"1\" y2=\"5.0\" x2=\"12.0\" stroke=\"#456\"\n",
       "                        stroke-linecap=\"round\"/>\n",
       "<line y1=\"15.0\" x1=\"1\" y2=\"15.0\" x2=\"100\" stroke=\"#ddd\"\n",
       "                        stroke-linecap=\"round\"/>\n",
       "<line y1=\"15.0\" x1=\"1\" y2=\"15.0\" x2=\"62.19\" stroke=\"green\"\n",
       "                        stroke-linecap=\"round\"/>\n",
       "</svg>"
      ],
      "text/plain": [
       "<IPython.core.display.HTML object>"
      ]
     },
     "metadata": {},
     "output_type": "display_data"
    }
   ],
   "source": [
    "import itertools\n",
    "\n",
    "from IPython.display import display, Markdown, HTML\n",
    "\n",
    "def create_bars(action_numbers, colors, max_actions=10000, scaling=lambda x: x, descaling=lambda x: x,\n",
    "                grey=\"#ddd\", height_per_bar=10, bins=4):\n",
    "    \n",
    "    def create_hline(y, color, progress=1):\n",
    "        return \"\"\"<line y1=\"%s\" x1=\"1\" y2=\"%s\" x2=\"%s\" stroke=\"%s\"\n",
    "                        stroke-linecap=\"round\"/>\"\"\" % (y, y, progress*100, color)\n",
    "    \n",
    "    result = []\n",
    "    \n",
    "    height = height_per_bar * len(action_numbers)\n",
    "    \n",
    "    result.append('<svg style=\"width: 100%%\" viewBox=\"0 0 102 %s\">' % height)\n",
    "    \n",
    "    for action_number, color, y in zip(action_numbers, colors, itertools.count(height_per_bar/2, height_per_bar)):\n",
    "        progress = min(1, scaling(action_number) / scaling(max_actions))\n",
    "        \n",
    "        result.append(create_hline(y, grey))\n",
    "        result.append(create_hline(y, color, progress=progress))\n",
    "        \n",
    "    result.append('</svg>')\n",
    "    \n",
    "    return \"\\n\".join(result)\n",
    "\n",
    "display(HTML(create_bars([1200, 6219], [\"#456\", \"green\"])))"
   ]
  }
 ],
 "metadata": {
  "kernelspec": {
   "display_name": "Python 3",
   "language": "python",
   "name": "python3"
  },
  "language_info": {
   "codemirror_mode": {
    "name": "ipython",
    "version": 3
   },
   "file_extension": ".py",
   "mimetype": "text/x-python",
   "name": "python",
   "nbconvert_exporter": "python",
   "pygments_lexer": "ipython3",
   "version": "3.9.1"
  }
 },
 "nbformat": 4,
 "nbformat_minor": 5
}
