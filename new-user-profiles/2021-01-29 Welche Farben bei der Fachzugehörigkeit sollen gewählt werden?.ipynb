{
 "cells": [
  {
   "cell_type": "markdown",
   "id": "mature-picture",
   "metadata": {},
   "source": [
    "# Wie viele Fächer gibt es unter de.serlo.org (mit Fächer im Aufbau)?"
   ]
  },
  {
   "cell_type": "code",
   "execution_count": 1,
   "id": "interesting-metadata",
   "metadata": {},
   "outputs": [
    {
     "data": {
      "text/markdown": [
       "**Anzahl Fächer:** 45"
      ],
      "text/plain": [
       "<IPython.core.display.Markdown object>"
      ]
     },
     "metadata": {},
     "output_type": "display_data"
    },
    {
     "data": {
      "text/markdown": [
       "**Liste aller Fächer:**"
      ],
      "text/plain": [
       "<IPython.core.display.Markdown object>"
      ]
     },
     "metadata": {},
     "output_type": "display_data"
    },
    {
     "data": {
      "text/plain": [
       "['Mathe',\n",
       " 'Blog',\n",
       " 'Mathematik Forum',\n",
       " 'Nachhaltigkeit',\n",
       " 'Permakultur Forum',\n",
       " 'Chemie',\n",
       " 'Chemie Forum',\n",
       " 'Nutzerprofile, Hilfe, Community und Allgemeines',\n",
       " 'Communityseiten - faecheruebergreifend',\n",
       " 'Biologie',\n",
       " 'Biologie Forum',\n",
       " 'Mathematik Forum - test',\n",
       " 'dev:blog',\n",
       " 'Mathematik Blog',\n",
       " 'Deutsch als Fremdsprache',\n",
       " 'Englisch',\n",
       " 'Betriebswirtschaftslehre mit Rechnungswesen',\n",
       " 'Englisch Forum',\n",
       " 'Deutsch als Fremdsprache Forum',\n",
       " 'Latein',\n",
       " 'Physik',\n",
       " 'Physik Forum',\n",
       " 'Informatik',\n",
       " 'Musik',\n",
       " 'Politik',\n",
       " 'Community',\n",
       " 'Testbereich',\n",
       " 'Lerntipps',\n",
       " 'Medienbildung',\n",
       " 'Geographie',\n",
       " 'Latein',\n",
       " 'Psychologie',\n",
       " 'Politik',\n",
       " 'Englisch',\n",
       " 'Rechnungswesen',\n",
       " 'Deutsch als Zweit- und Fremdsprache',\n",
       " 'English for Spanish Natives',\n",
       " 'Methodenkiste',\n",
       " 'Recht',\n",
       " 'Geschichte',\n",
       " 'Wirtschaft',\n",
       " 'Pschologie',\n",
       " 'Musik',\n",
       " 'Kommunikation',\n",
       " 'Spanisch']"
      ]
     },
     "metadata": {},
     "output_type": "display_data"
    }
   ],
   "source": [
    "from IPython.display import display, Markdown\n",
    "import mysql.connector\n",
    "\n",
    "db = mysql.connector.connect(\n",
    "    host=\"localhost\",\n",
    "    user=\"root\",\n",
    "    password=\"secret\",\n",
    "    port=\"3306\",\n",
    "    database=\"serlo\"\n",
    ")\n",
    "\n",
    "def markdown(text):\n",
    "    display(Markdown(text))\n",
    "\n",
    "def query(sql):\n",
    "    c = db.cursor()\n",
    "    c.execute(sql)\n",
    "    \n",
    "    return c.fetchall()\n",
    "\n",
    "def querySingleton(sql):\n",
    "    return [ x[0] for x in query(sql) ]\n",
    "\n",
    "subjects = querySingleton(\"\"\"\n",
    "    select term.name from term_taxonomy\n",
    "    join term_taxonomy parent on parent.id = term_taxonomy.parent_id\n",
    "    join term on term.id = term_taxonomy.term_id\n",
    "    where term.instance_id = 1 and (term_taxonomy.parent_id = 106081 or parent.parent_id is null);\n",
    "\"\"\")\n",
    "\n",
    "markdown(\"**Anzahl Fächer:** %s\" % len(subjects))\n",
    "markdown(\"**Liste aller Fächer:**\")\n",
    "\n",
    "display(subjects)"
   ]
  },
  {
   "cell_type": "markdown",
   "id": "radio-zimbabwe",
   "metadata": {},
   "source": [
    "# Utility-Funktionen für mich"
   ]
  },
  {
   "cell_type": "code",
   "execution_count": 2,
   "id": "million-region",
   "metadata": {},
   "outputs": [
    {
     "name": "stderr",
     "output_type": "stream",
     "text": [
      "/home/kulla/.local/share/asdf/installs/python/3.9.1/lib/python3.9/site-packages/pandas/compat/__init__.py:97: UserWarning: Could not import the lzma module. Your installed Python is incomplete. Attempting to use lzma compression will result in a RuntimeError.\n",
      "  warnings.warn(msg)\n"
     ]
    }
   ],
   "source": [
    "import pandas as pd\n",
    "import math\n",
    "import matplotlib.pyplot as plt\n",
    "\n",
    "from random import Random\n",
    "from IPython.display import HTML\n",
    "from colormap.colors import _normalise, Color\n",
    "from collections.abc import Iterable\n",
    "\n",
    "def cached(func):\n",
    "    cache = dict()\n",
    "    \n",
    "    def return_func(arg):\n",
    "        if (arg in cache):\n",
    "            return cache[arg]\n",
    "        else:\n",
    "            result = func(arg)\n",
    "            cache[arg] = result\n",
    "            return result\n",
    "    \n",
    "    return return_func\n",
    "\n",
    "@cached\n",
    "def getParent(termId):\n",
    "    return querySingleton(\"\"\"\n",
    "        select parent_id from term_taxonomy where id = %s;\n",
    "    \"\"\" % termId)[0]\n",
    "\n",
    "@cached\n",
    "def getSubject(termId):\n",
    "    parent = getParent(termId)\n",
    "    grandparent = getParent(parent)\n",
    "    \n",
    "    if (parent == 106081):\n",
    "        return termId\n",
    "    \n",
    "    return getSubject(parent) if grandparent != None else termId\n",
    "\n",
    "@cached\n",
    "def getTermName(termId):\n",
    "    return querySingleton(\"\"\"\n",
    "        select term.name from term_taxonomy\n",
    "        join term on term.id = term_taxonomy.term_id\n",
    "        where term_taxonomy.id = %s;\n",
    "    \"\"\" % termId)[0]\n",
    "\n",
    "def display_pies(df, nr_columns, random_color_func):\n",
    "    nr_rows = math.ceil(len(df.columns) / nr_columns)\n",
    "    fig, axes = plt.subplots(nr_rows, nr_columns)\n",
    "\n",
    "    if isinstance(axes[0], Iterable):\n",
    "        axes = sum([list(x) for x in axes], [])\n",
    "\n",
    "    handles = []\n",
    "    labels = []\n",
    "    \n",
    "    for (ax, column) in zip(axes, df.columns):\n",
    "        colors = [random_color_func(s) for s in df.index]\n",
    "        df.plot.pie(y=column, ax=ax, figsize=(15,15), fontsize=10,\n",
    "                    ylabel=\"\", legend=None, colors=colors)\n",
    "        ax.set_title(column)\n",
    "        new = ax.get_legend_handles_labels()\n",
    "\n",
    "        for h, l in zip(*new):\n",
    "            if l not in labels:\n",
    "                handles.append(h)\n",
    "                labels.append(l)\n",
    "\n",
    "    fig.legend(handles, labels, loc='lower center', ncol=3)\n",
    "    plt.show()\n",
    "\n",
    "def show_results(random_color_func):\n",
    "    markdown(\"### Welche Farben gewählt werden:\")\n",
    "    \n",
    "    for subject in subjects:\n",
    "        color = random_color_func(subject)\n",
    "\n",
    "        display(HTML(\"\"\"\n",
    "          <div style=\"display: flex; margin-bottom: 10px;\">\n",
    "            <div style=\"background-color: %s; width: 20%%; margin-right: 5px;\"></div>\n",
    "            <p style=\"font-size: 1.2em;\">%s</p>\n",
    "          </div>\n",
    "        \"\"\" % (color, subject)))\n",
    "        \n",
    "    markdown(\"### Wie die Diagramme zur Fachzugehörigkeit aussehen würden:\")\n",
    "    \n",
    "    userIds = [266, 18981, 146443, 146133, 63374, 26217]\n",
    "    userSQL = \"(%s)\" % \",\".join(map(str, userIds))\n",
    "    \n",
    "    d = pd.read_sql(\"\"\"\n",
    "        select user.username, event_log.id, term_taxonomy_entity.term_taxonomy_id as termId\n",
    "        from event_log join uuid on uuid.id = event_log.uuid_id\n",
    "        join entity_revision on entity_revision.id = uuid.id\n",
    "        join entity on entity.id = entity_revision.repository_id\n",
    "        join term_taxonomy_entity on term_taxonomy_entity.entity_id  = entity.id\n",
    "        join user on user.id = event_log.actor_id\n",
    "        where event_log.event_id = 5\n",
    "            and event_log.instance_id = 1\n",
    "            and uuid.discriminator = \"entityRevision\"\n",
    "            and event_log.actor_id in %s;\n",
    "    \"\"\" % userSQL, db)\n",
    "\n",
    "    d[\"subject\"] = d[\"termId\"].map(lambda termId: getTermName(getSubject(termId)))\n",
    "\n",
    "    d = d.groupby([\"username\", \"subject\"]).count()\n",
    "    d = d[\"id\"].unstack().fillna(0).transpose()\n",
    "\n",
    "    for c in d.columns:\n",
    "        d[c] = d[c] / sum(d[c]) * 100\n",
    "\n",
    "    d = d.mask(lambda x: x < 1.5, 0)\n",
    "\n",
    "    display_pies(d*1000, 2, random_color_func)"
   ]
  },
  {
   "cell_type": "markdown",
   "id": "sporting-saturn",
   "metadata": {},
   "source": [
    "# Vorschläge für die Farbwahl\n",
    "\n",
    "**Grundidee:** Wir definieren einen Algorithmus, der einem Text (hier den Namen des Fachs) eine Farbe zuordnet, ohne dabei auf eine vordefinierte Farbparlette zuzugreifen. Dabei gestalten wir den Algorithmus so, dass er stets beim selben Text dieselbe Farbe bestimmt, jedoch die Zuordnung \"zufällig\" erscheint. Selbst kleinste Änderungen des Texts verändern die Farbe sehr.\n",
    "\n",
    "Hierzu nutzen wir Pseudozufallszahlen, wie sie jeder Zufallszahlengenerator einer Sprachbibliothek erzeugt (siehe Wikipedia-Artikel [\"Pseudorandom number generator\"](https://en.wikipedia.org/wiki/Pseudorandom_number_generator)). Als Seed nutzen wir den jeweiligen Text (hier den Namen des Fachs). Wenn die Bibliothek nur Zahlen als Seed akzeptiert, dann kann der Text mit Hilfe eines [Hash-Algorithmus](https://en.wikipedia.org/wiki/Hash_function) wie MD5 oder SHA1 in einen Hash und damit in eine Zahl umgewandelt werden.\n",
    "\n",
    "Der Zufallszahlengenerator kann nun genutzt werden, um eine zufällige Farbe zu generieren. So kann beispielsweise durch die Bestimmung von 3 zufälligen Zahlen zwischen 0 und 255 ein zufälliger RGB-Wert bestimmt werden. Hier erhalten wir folgende Farben:"
   ]
  },
  {
   "cell_type": "code",
   "execution_count": 3,
   "id": "preliminary-jaguar",
   "metadata": {
    "scrolled": false
   },
   "outputs": [
    {
     "data": {
      "text/markdown": [
       "### Welche Farben gewählt werden:"
      ],
      "text/plain": [
       "<IPython.core.display.Markdown object>"
      ]
     },
     "metadata": {},
     "output_type": "display_data"
    },
    {
     "data": {
      "text/html": [
       "\n",
       "          <div style=\"display: flex; margin-bottom: 10px;\">\n",
       "            <div style=\"background-color: #761D98; width: 20%; margin-right: 5px;\"></div>\n",
       "            <p style=\"font-size: 1.2em;\">Mathe</p>\n",
       "          </div>\n",
       "        "
      ],
      "text/plain": [
       "<IPython.core.display.HTML object>"
      ]
     },
     "metadata": {},
     "output_type": "display_data"
    },
    {
     "data": {
      "text/html": [
       "\n",
       "          <div style=\"display: flex; margin-bottom: 10px;\">\n",
       "            <div style=\"background-color: #EAB838; width: 20%; margin-right: 5px;\"></div>\n",
       "            <p style=\"font-size: 1.2em;\">Blog</p>\n",
       "          </div>\n",
       "        "
      ],
      "text/plain": [
       "<IPython.core.display.HTML object>"
      ]
     },
     "metadata": {},
     "output_type": "display_data"
    },
    {
     "data": {
      "text/html": [
       "\n",
       "          <div style=\"display: flex; margin-bottom: 10px;\">\n",
       "            <div style=\"background-color: #EC01A9; width: 20%; margin-right: 5px;\"></div>\n",
       "            <p style=\"font-size: 1.2em;\">Mathematik Forum</p>\n",
       "          </div>\n",
       "        "
      ],
      "text/plain": [
       "<IPython.core.display.HTML object>"
      ]
     },
     "metadata": {},
     "output_type": "display_data"
    },
    {
     "data": {
      "text/html": [
       "\n",
       "          <div style=\"display: flex; margin-bottom: 10px;\">\n",
       "            <div style=\"background-color: #127BBB; width: 20%; margin-right: 5px;\"></div>\n",
       "            <p style=\"font-size: 1.2em;\">Nachhaltigkeit</p>\n",
       "          </div>\n",
       "        "
      ],
      "text/plain": [
       "<IPython.core.display.HTML object>"
      ]
     },
     "metadata": {},
     "output_type": "display_data"
    },
    {
     "data": {
      "text/html": [
       "\n",
       "          <div style=\"display: flex; margin-bottom: 10px;\">\n",
       "            <div style=\"background-color: #380ACE; width: 20%; margin-right: 5px;\"></div>\n",
       "            <p style=\"font-size: 1.2em;\">Permakultur Forum</p>\n",
       "          </div>\n",
       "        "
      ],
      "text/plain": [
       "<IPython.core.display.HTML object>"
      ]
     },
     "metadata": {},
     "output_type": "display_data"
    },
    {
     "data": {
      "text/html": [
       "\n",
       "          <div style=\"display: flex; margin-bottom: 10px;\">\n",
       "            <div style=\"background-color: #5887E4; width: 20%; margin-right: 5px;\"></div>\n",
       "            <p style=\"font-size: 1.2em;\">Chemie</p>\n",
       "          </div>\n",
       "        "
      ],
      "text/plain": [
       "<IPython.core.display.HTML object>"
      ]
     },
     "metadata": {},
     "output_type": "display_data"
    },
    {
     "data": {
      "text/html": [
       "\n",
       "          <div style=\"display: flex; margin-bottom: 10px;\">\n",
       "            <div style=\"background-color: #7D4F8E; width: 20%; margin-right: 5px;\"></div>\n",
       "            <p style=\"font-size: 1.2em;\">Chemie Forum</p>\n",
       "          </div>\n",
       "        "
      ],
      "text/plain": [
       "<IPython.core.display.HTML object>"
      ]
     },
     "metadata": {},
     "output_type": "display_data"
    },
    {
     "data": {
      "text/html": [
       "\n",
       "          <div style=\"display: flex; margin-bottom: 10px;\">\n",
       "            <div style=\"background-color: #310678; width: 20%; margin-right: 5px;\"></div>\n",
       "            <p style=\"font-size: 1.2em;\">Nutzerprofile, Hilfe, Community und Allgemeines</p>\n",
       "          </div>\n",
       "        "
      ],
      "text/plain": [
       "<IPython.core.display.HTML object>"
      ]
     },
     "metadata": {},
     "output_type": "display_data"
    },
    {
     "data": {
      "text/html": [
       "\n",
       "          <div style=\"display: flex; margin-bottom: 10px;\">\n",
       "            <div style=\"background-color: #86CB6B; width: 20%; margin-right: 5px;\"></div>\n",
       "            <p style=\"font-size: 1.2em;\">Communityseiten - faecheruebergreifend</p>\n",
       "          </div>\n",
       "        "
      ],
      "text/plain": [
       "<IPython.core.display.HTML object>"
      ]
     },
     "metadata": {},
     "output_type": "display_data"
    },
    {
     "data": {
      "text/html": [
       "\n",
       "          <div style=\"display: flex; margin-bottom: 10px;\">\n",
       "            <div style=\"background-color: #FDEF79; width: 20%; margin-right: 5px;\"></div>\n",
       "            <p style=\"font-size: 1.2em;\">Biologie</p>\n",
       "          </div>\n",
       "        "
      ],
      "text/plain": [
       "<IPython.core.display.HTML object>"
      ]
     },
     "metadata": {},
     "output_type": "display_data"
    },
    {
     "data": {
      "text/html": [
       "\n",
       "          <div style=\"display: flex; margin-bottom: 10px;\">\n",
       "            <div style=\"background-color: #E2088A; width: 20%; margin-right: 5px;\"></div>\n",
       "            <p style=\"font-size: 1.2em;\">Biologie Forum</p>\n",
       "          </div>\n",
       "        "
      ],
      "text/plain": [
       "<IPython.core.display.HTML object>"
      ]
     },
     "metadata": {},
     "output_type": "display_data"
    },
    {
     "data": {
      "text/html": [
       "\n",
       "          <div style=\"display: flex; margin-bottom: 10px;\">\n",
       "            <div style=\"background-color: #99752D; width: 20%; margin-right: 5px;\"></div>\n",
       "            <p style=\"font-size: 1.2em;\">Mathematik Forum - test</p>\n",
       "          </div>\n",
       "        "
      ],
      "text/plain": [
       "<IPython.core.display.HTML object>"
      ]
     },
     "metadata": {},
     "output_type": "display_data"
    },
    {
     "data": {
      "text/html": [
       "\n",
       "          <div style=\"display: flex; margin-bottom: 10px;\">\n",
       "            <div style=\"background-color: #0287AF; width: 20%; margin-right: 5px;\"></div>\n",
       "            <p style=\"font-size: 1.2em;\">dev:blog</p>\n",
       "          </div>\n",
       "        "
      ],
      "text/plain": [
       "<IPython.core.display.HTML object>"
      ]
     },
     "metadata": {},
     "output_type": "display_data"
    },
    {
     "data": {
      "text/html": [
       "\n",
       "          <div style=\"display: flex; margin-bottom: 10px;\">\n",
       "            <div style=\"background-color: #DEDCB7; width: 20%; margin-right: 5px;\"></div>\n",
       "            <p style=\"font-size: 1.2em;\">Mathematik Blog</p>\n",
       "          </div>\n",
       "        "
      ],
      "text/plain": [
       "<IPython.core.display.HTML object>"
      ]
     },
     "metadata": {},
     "output_type": "display_data"
    },
    {
     "data": {
      "text/html": [
       "\n",
       "          <div style=\"display: flex; margin-bottom: 10px;\">\n",
       "            <div style=\"background-color: #82AF8D; width: 20%; margin-right: 5px;\"></div>\n",
       "            <p style=\"font-size: 1.2em;\">Deutsch als Fremdsprache</p>\n",
       "          </div>\n",
       "        "
      ],
      "text/plain": [
       "<IPython.core.display.HTML object>"
      ]
     },
     "metadata": {},
     "output_type": "display_data"
    },
    {
     "data": {
      "text/html": [
       "\n",
       "          <div style=\"display: flex; margin-bottom: 10px;\">\n",
       "            <div style=\"background-color: #305534; width: 20%; margin-right: 5px;\"></div>\n",
       "            <p style=\"font-size: 1.2em;\">Englisch</p>\n",
       "          </div>\n",
       "        "
      ],
      "text/plain": [
       "<IPython.core.display.HTML object>"
      ]
     },
     "metadata": {},
     "output_type": "display_data"
    },
    {
     "data": {
      "text/html": [
       "\n",
       "          <div style=\"display: flex; margin-bottom: 10px;\">\n",
       "            <div style=\"background-color: #48FD52; width: 20%; margin-right: 5px;\"></div>\n",
       "            <p style=\"font-size: 1.2em;\">Betriebswirtschaftslehre mit Rechnungswesen</p>\n",
       "          </div>\n",
       "        "
      ],
      "text/plain": [
       "<IPython.core.display.HTML object>"
      ]
     },
     "metadata": {},
     "output_type": "display_data"
    },
    {
     "data": {
      "text/html": [
       "\n",
       "          <div style=\"display: flex; margin-bottom: 10px;\">\n",
       "            <div style=\"background-color: #4F24B8; width: 20%; margin-right: 5px;\"></div>\n",
       "            <p style=\"font-size: 1.2em;\">Englisch Forum</p>\n",
       "          </div>\n",
       "        "
      ],
      "text/plain": [
       "<IPython.core.display.HTML object>"
      ]
     },
     "metadata": {},
     "output_type": "display_data"
    },
    {
     "data": {
      "text/html": [
       "\n",
       "          <div style=\"display: flex; margin-bottom: 10px;\">\n",
       "            <div style=\"background-color: #E81B1C; width: 20%; margin-right: 5px;\"></div>\n",
       "            <p style=\"font-size: 1.2em;\">Deutsch als Fremdsprache Forum</p>\n",
       "          </div>\n",
       "        "
      ],
      "text/plain": [
       "<IPython.core.display.HTML object>"
      ]
     },
     "metadata": {},
     "output_type": "display_data"
    },
    {
     "data": {
      "text/html": [
       "\n",
       "          <div style=\"display: flex; margin-bottom: 10px;\">\n",
       "            <div style=\"background-color: #6F741D; width: 20%; margin-right: 5px;\"></div>\n",
       "            <p style=\"font-size: 1.2em;\">Latein</p>\n",
       "          </div>\n",
       "        "
      ],
      "text/plain": [
       "<IPython.core.display.HTML object>"
      ]
     },
     "metadata": {},
     "output_type": "display_data"
    },
    {
     "data": {
      "text/html": [
       "\n",
       "          <div style=\"display: flex; margin-bottom: 10px;\">\n",
       "            <div style=\"background-color: #69CB51; width: 20%; margin-right: 5px;\"></div>\n",
       "            <p style=\"font-size: 1.2em;\">Physik</p>\n",
       "          </div>\n",
       "        "
      ],
      "text/plain": [
       "<IPython.core.display.HTML object>"
      ]
     },
     "metadata": {},
     "output_type": "display_data"
    },
    {
     "data": {
      "text/html": [
       "\n",
       "          <div style=\"display: flex; margin-bottom: 10px;\">\n",
       "            <div style=\"background-color: #04A2BD; width: 20%; margin-right: 5px;\"></div>\n",
       "            <p style=\"font-size: 1.2em;\">Physik Forum</p>\n",
       "          </div>\n",
       "        "
      ],
      "text/plain": [
       "<IPython.core.display.HTML object>"
      ]
     },
     "metadata": {},
     "output_type": "display_data"
    },
    {
     "data": {
      "text/html": [
       "\n",
       "          <div style=\"display: flex; margin-bottom: 10px;\">\n",
       "            <div style=\"background-color: #705FED; width: 20%; margin-right: 5px;\"></div>\n",
       "            <p style=\"font-size: 1.2em;\">Informatik</p>\n",
       "          </div>\n",
       "        "
      ],
      "text/plain": [
       "<IPython.core.display.HTML object>"
      ]
     },
     "metadata": {},
     "output_type": "display_data"
    },
    {
     "data": {
      "text/html": [
       "\n",
       "          <div style=\"display: flex; margin-bottom: 10px;\">\n",
       "            <div style=\"background-color: #317837; width: 20%; margin-right: 5px;\"></div>\n",
       "            <p style=\"font-size: 1.2em;\">Musik</p>\n",
       "          </div>\n",
       "        "
      ],
      "text/plain": [
       "<IPython.core.display.HTML object>"
      ]
     },
     "metadata": {},
     "output_type": "display_data"
    },
    {
     "data": {
      "text/html": [
       "\n",
       "          <div style=\"display: flex; margin-bottom: 10px;\">\n",
       "            <div style=\"background-color: #17848E; width: 20%; margin-right: 5px;\"></div>\n",
       "            <p style=\"font-size: 1.2em;\">Politik</p>\n",
       "          </div>\n",
       "        "
      ],
      "text/plain": [
       "<IPython.core.display.HTML object>"
      ]
     },
     "metadata": {},
     "output_type": "display_data"
    },
    {
     "data": {
      "text/html": [
       "\n",
       "          <div style=\"display: flex; margin-bottom: 10px;\">\n",
       "            <div style=\"background-color: #56FE92; width: 20%; margin-right: 5px;\"></div>\n",
       "            <p style=\"font-size: 1.2em;\">Community</p>\n",
       "          </div>\n",
       "        "
      ],
      "text/plain": [
       "<IPython.core.display.HTML object>"
      ]
     },
     "metadata": {},
     "output_type": "display_data"
    },
    {
     "data": {
      "text/html": [
       "\n",
       "          <div style=\"display: flex; margin-bottom: 10px;\">\n",
       "            <div style=\"background-color: #0FE291; width: 20%; margin-right: 5px;\"></div>\n",
       "            <p style=\"font-size: 1.2em;\">Testbereich</p>\n",
       "          </div>\n",
       "        "
      ],
      "text/plain": [
       "<IPython.core.display.HTML object>"
      ]
     },
     "metadata": {},
     "output_type": "display_data"
    },
    {
     "data": {
      "text/html": [
       "\n",
       "          <div style=\"display: flex; margin-bottom: 10px;\">\n",
       "            <div style=\"background-color: #0A9B25; width: 20%; margin-right: 5px;\"></div>\n",
       "            <p style=\"font-size: 1.2em;\">Lerntipps</p>\n",
       "          </div>\n",
       "        "
      ],
      "text/plain": [
       "<IPython.core.display.HTML object>"
      ]
     },
     "metadata": {},
     "output_type": "display_data"
    },
    {
     "data": {
      "text/html": [
       "\n",
       "          <div style=\"display: flex; margin-bottom: 10px;\">\n",
       "            <div style=\"background-color: #E2C520; width: 20%; margin-right: 5px;\"></div>\n",
       "            <p style=\"font-size: 1.2em;\">Medienbildung</p>\n",
       "          </div>\n",
       "        "
      ],
      "text/plain": [
       "<IPython.core.display.HTML object>"
      ]
     },
     "metadata": {},
     "output_type": "display_data"
    },
    {
     "data": {
      "text/html": [
       "\n",
       "          <div style=\"display: flex; margin-bottom: 10px;\">\n",
       "            <div style=\"background-color: #F7815C; width: 20%; margin-right: 5px;\"></div>\n",
       "            <p style=\"font-size: 1.2em;\">Geographie</p>\n",
       "          </div>\n",
       "        "
      ],
      "text/plain": [
       "<IPython.core.display.HTML object>"
      ]
     },
     "metadata": {},
     "output_type": "display_data"
    },
    {
     "data": {
      "text/html": [
       "\n",
       "          <div style=\"display: flex; margin-bottom: 10px;\">\n",
       "            <div style=\"background-color: #6F741D; width: 20%; margin-right: 5px;\"></div>\n",
       "            <p style=\"font-size: 1.2em;\">Latein</p>\n",
       "          </div>\n",
       "        "
      ],
      "text/plain": [
       "<IPython.core.display.HTML object>"
      ]
     },
     "metadata": {},
     "output_type": "display_data"
    },
    {
     "data": {
      "text/html": [
       "\n",
       "          <div style=\"display: flex; margin-bottom: 10px;\">\n",
       "            <div style=\"background-color: #8289AE; width: 20%; margin-right: 5px;\"></div>\n",
       "            <p style=\"font-size: 1.2em;\">Psychologie</p>\n",
       "          </div>\n",
       "        "
      ],
      "text/plain": [
       "<IPython.core.display.HTML object>"
      ]
     },
     "metadata": {},
     "output_type": "display_data"
    },
    {
     "data": {
      "text/html": [
       "\n",
       "          <div style=\"display: flex; margin-bottom: 10px;\">\n",
       "            <div style=\"background-color: #17848E; width: 20%; margin-right: 5px;\"></div>\n",
       "            <p style=\"font-size: 1.2em;\">Politik</p>\n",
       "          </div>\n",
       "        "
      ],
      "text/plain": [
       "<IPython.core.display.HTML object>"
      ]
     },
     "metadata": {},
     "output_type": "display_data"
    },
    {
     "data": {
      "text/html": [
       "\n",
       "          <div style=\"display: flex; margin-bottom: 10px;\">\n",
       "            <div style=\"background-color: #305534; width: 20%; margin-right: 5px;\"></div>\n",
       "            <p style=\"font-size: 1.2em;\">Englisch</p>\n",
       "          </div>\n",
       "        "
      ],
      "text/plain": [
       "<IPython.core.display.HTML object>"
      ]
     },
     "metadata": {},
     "output_type": "display_data"
    },
    {
     "data": {
      "text/html": [
       "\n",
       "          <div style=\"display: flex; margin-bottom: 10px;\">\n",
       "            <div style=\"background-color: #729AAF; width: 20%; margin-right: 5px;\"></div>\n",
       "            <p style=\"font-size: 1.2em;\">Rechnungswesen</p>\n",
       "          </div>\n",
       "        "
      ],
      "text/plain": [
       "<IPython.core.display.HTML object>"
      ]
     },
     "metadata": {},
     "output_type": "display_data"
    },
    {
     "data": {
      "text/html": [
       "\n",
       "          <div style=\"display: flex; margin-bottom: 10px;\">\n",
       "            <div style=\"background-color: #BCA2ED; width: 20%; margin-right: 5px;\"></div>\n",
       "            <p style=\"font-size: 1.2em;\">Deutsch als Zweit- und Fremdsprache</p>\n",
       "          </div>\n",
       "        "
      ],
      "text/plain": [
       "<IPython.core.display.HTML object>"
      ]
     },
     "metadata": {},
     "output_type": "display_data"
    },
    {
     "data": {
      "text/html": [
       "\n",
       "          <div style=\"display: flex; margin-bottom: 10px;\">\n",
       "            <div style=\"background-color: #3E48ED; width: 20%; margin-right: 5px;\"></div>\n",
       "            <p style=\"font-size: 1.2em;\">English for Spanish Natives</p>\n",
       "          </div>\n",
       "        "
      ],
      "text/plain": [
       "<IPython.core.display.HTML object>"
      ]
     },
     "metadata": {},
     "output_type": "display_data"
    },
    {
     "data": {
      "text/html": [
       "\n",
       "          <div style=\"display: flex; margin-bottom: 10px;\">\n",
       "            <div style=\"background-color: #CE24F0; width: 20%; margin-right: 5px;\"></div>\n",
       "            <p style=\"font-size: 1.2em;\">Methodenkiste</p>\n",
       "          </div>\n",
       "        "
      ],
      "text/plain": [
       "<IPython.core.display.HTML object>"
      ]
     },
     "metadata": {},
     "output_type": "display_data"
    },
    {
     "data": {
      "text/html": [
       "\n",
       "          <div style=\"display: flex; margin-bottom: 10px;\">\n",
       "            <div style=\"background-color: #104BA8; width: 20%; margin-right: 5px;\"></div>\n",
       "            <p style=\"font-size: 1.2em;\">Recht</p>\n",
       "          </div>\n",
       "        "
      ],
      "text/plain": [
       "<IPython.core.display.HTML object>"
      ]
     },
     "metadata": {},
     "output_type": "display_data"
    },
    {
     "data": {
      "text/html": [
       "\n",
       "          <div style=\"display: flex; margin-bottom: 10px;\">\n",
       "            <div style=\"background-color: #948DFB; width: 20%; margin-right: 5px;\"></div>\n",
       "            <p style=\"font-size: 1.2em;\">Geschichte</p>\n",
       "          </div>\n",
       "        "
      ],
      "text/plain": [
       "<IPython.core.display.HTML object>"
      ]
     },
     "metadata": {},
     "output_type": "display_data"
    },
    {
     "data": {
      "text/html": [
       "\n",
       "          <div style=\"display: flex; margin-bottom: 10px;\">\n",
       "            <div style=\"background-color: #7A5734; width: 20%; margin-right: 5px;\"></div>\n",
       "            <p style=\"font-size: 1.2em;\">Wirtschaft</p>\n",
       "          </div>\n",
       "        "
      ],
      "text/plain": [
       "<IPython.core.display.HTML object>"
      ]
     },
     "metadata": {},
     "output_type": "display_data"
    },
    {
     "data": {
      "text/html": [
       "\n",
       "          <div style=\"display: flex; margin-bottom: 10px;\">\n",
       "            <div style=\"background-color: #E34BB1; width: 20%; margin-right: 5px;\"></div>\n",
       "            <p style=\"font-size: 1.2em;\">Pschologie</p>\n",
       "          </div>\n",
       "        "
      ],
      "text/plain": [
       "<IPython.core.display.HTML object>"
      ]
     },
     "metadata": {},
     "output_type": "display_data"
    },
    {
     "data": {
      "text/html": [
       "\n",
       "          <div style=\"display: flex; margin-bottom: 10px;\">\n",
       "            <div style=\"background-color: #317837; width: 20%; margin-right: 5px;\"></div>\n",
       "            <p style=\"font-size: 1.2em;\">Musik</p>\n",
       "          </div>\n",
       "        "
      ],
      "text/plain": [
       "<IPython.core.display.HTML object>"
      ]
     },
     "metadata": {},
     "output_type": "display_data"
    },
    {
     "data": {
      "text/html": [
       "\n",
       "          <div style=\"display: flex; margin-bottom: 10px;\">\n",
       "            <div style=\"background-color: #C3B06B; width: 20%; margin-right: 5px;\"></div>\n",
       "            <p style=\"font-size: 1.2em;\">Kommunikation</p>\n",
       "          </div>\n",
       "        "
      ],
      "text/plain": [
       "<IPython.core.display.HTML object>"
      ]
     },
     "metadata": {},
     "output_type": "display_data"
    },
    {
     "data": {
      "text/html": [
       "\n",
       "          <div style=\"display: flex; margin-bottom: 10px;\">\n",
       "            <div style=\"background-color: #387BB6; width: 20%; margin-right: 5px;\"></div>\n",
       "            <p style=\"font-size: 1.2em;\">Spanisch</p>\n",
       "          </div>\n",
       "        "
      ],
      "text/plain": [
       "<IPython.core.display.HTML object>"
      ]
     },
     "metadata": {},
     "output_type": "display_data"
    },
    {
     "data": {
      "text/markdown": [
       "### Wie die Diagramme zur Fachzugehörigkeit aussehen würden:"
      ],
      "text/plain": [
       "<IPython.core.display.Markdown object>"
      ]
     },
     "metadata": {},
     "output_type": "display_data"
    },
    {
     "data": {
      "image/png": "[encoded data removed]",
      "text/plain": [
       "<Figure size 1080x1080 with 6 Axes>"
      ]
     },
     "metadata": {},
     "output_type": "display_data"
    }
   ],
   "source": [
    "def text_to_random(text):\n",
    "    random = Random()\n",
    "    random.seed(text)\n",
    "    \n",
    "    return random\n",
    "    \n",
    "def text_to_random_rgb(text):\n",
    "    random = text_to_random(text)\n",
    "    \n",
    "    r = random.randint(0,255)\n",
    "    g = random.randint(0,255)\n",
    "    b = random.randint(0,255)\n",
    "    \n",
    "    return Color(rgb=_normalise(r, g, b, mode=\"rgb\")).hex\n",
    "\n",
    "show_results(text_to_random_rgb)"
   ]
  },
  {
   "cell_type": "markdown",
   "id": "atlantic-oakland",
   "metadata": {},
   "source": [
    "Ein Problem dabei ist, dass die Farben unterschiedliche Helligkeit / Saturierungen aufweisen. Dies können wir umgehen, indem wir in den [HSL bzw HSV Farbraum](https://en.wikipedia.org/wiki/HSL_and_HSV) gehen. Im folgenden Beispiel ist der Farbwert (hue) zufällig, die brightness bei 0,5 und die Saturierung bei 0,75:"
   ]
  },
  {
   "cell_type": "code",
   "execution_count": 4,
   "id": "expected-terminology",
   "metadata": {
    "scrolled": false
   },
   "outputs": [
    {
     "data": {
      "text/markdown": [
       "### Welche Farben gewählt werden:"
      ],
      "text/plain": [
       "<IPython.core.display.Markdown object>"
      ]
     },
     "metadata": {},
     "output_type": "display_data"
    },
    {
     "data": {
      "text/html": [
       "\n",
       "          <div style=\"display: flex; margin-bottom: 10px;\">\n",
       "            <div style=\"background-color: #841FDF; width: 20%; margin-right: 5px;\"></div>\n",
       "            <p style=\"font-size: 1.2em;\">Mathe</p>\n",
       "          </div>\n",
       "        "
      ],
      "text/plain": [
       "<IPython.core.display.HTML object>"
      ]
     },
     "metadata": {},
     "output_type": "display_data"
    },
    {
     "data": {
      "text/html": [
       "\n",
       "          <div style=\"display: flex; margin-bottom: 10px;\">\n",
       "            <div style=\"background-color: #1F51DF; width: 20%; margin-right: 5px;\"></div>\n",
       "            <p style=\"font-size: 1.2em;\">Blog</p>\n",
       "          </div>\n",
       "        "
      ],
      "text/plain": [
       "<IPython.core.display.HTML object>"
      ]
     },
     "metadata": {},
     "output_type": "display_data"
    },
    {
     "data": {
      "text/html": [
       "\n",
       "          <div style=\"display: flex; margin-bottom: 10px;\">\n",
       "            <div style=\"background-color: #DF1FD4; width: 20%; margin-right: 5px;\"></div>\n",
       "            <p style=\"font-size: 1.2em;\">Mathematik Forum</p>\n",
       "          </div>\n",
       "        "
      ],
      "text/plain": [
       "<IPython.core.display.HTML object>"
      ]
     },
     "metadata": {},
     "output_type": "display_data"
    },
    {
     "data": {
      "text/html": [
       "\n",
       "          <div style=\"display: flex; margin-bottom: 10px;\">\n",
       "            <div style=\"background-color: #DF491F; width: 20%; margin-right: 5px;\"></div>\n",
       "            <p style=\"font-size: 1.2em;\">Nachhaltigkeit</p>\n",
       "          </div>\n",
       "        "
      ],
      "text/plain": [
       "<IPython.core.display.HTML object>"
      ]
     },
     "metadata": {},
     "output_type": "display_data"
    },
    {
     "data": {
      "text/html": [
       "\n",
       "          <div style=\"display: flex; margin-bottom: 10px;\">\n",
       "            <div style=\"background-color: #DF9D1F; width: 20%; margin-right: 5px;\"></div>\n",
       "            <p style=\"font-size: 1.2em;\">Permakultur Forum</p>\n",
       "          </div>\n",
       "        "
      ],
      "text/plain": [
       "<IPython.core.display.HTML object>"
      ]
     },
     "metadata": {},
     "output_type": "display_data"
    },
    {
     "data": {
      "text/html": [
       "\n",
       "          <div style=\"display: flex; margin-bottom: 10px;\">\n",
       "            <div style=\"background-color: #1FAFDF; width: 20%; margin-right: 5px;\"></div>\n",
       "            <p style=\"font-size: 1.2em;\">Chemie</p>\n",
       "          </div>\n",
       "        "
      ],
      "text/plain": [
       "<IPython.core.display.HTML object>"
      ]
     },
     "metadata": {},
     "output_type": "display_data"
    },
    {
     "data": {
      "text/html": [
       "\n",
       "          <div style=\"display: flex; margin-bottom: 10px;\">\n",
       "            <div style=\"background-color: #DF1F3C; width: 20%; margin-right: 5px;\"></div>\n",
       "            <p style=\"font-size: 1.2em;\">Chemie Forum</p>\n",
       "          </div>\n",
       "        "
      ],
      "text/plain": [
       "<IPython.core.display.HTML object>"
      ]
     },
     "metadata": {},
     "output_type": "display_data"
    },
    {
     "data": {
      "text/html": [
       "\n",
       "          <div style=\"display: flex; margin-bottom: 10px;\">\n",
       "            <div style=\"background-color: #DF8E1F; width: 20%; margin-right: 5px;\"></div>\n",
       "            <p style=\"font-size: 1.2em;\">Nutzerprofile, Hilfe, Community und Allgemeines</p>\n",
       "          </div>\n",
       "        "
      ],
      "text/plain": [
       "<IPython.core.display.HTML object>"
      ]
     },
     "metadata": {},
     "output_type": "display_data"
    },
    {
     "data": {
      "text/html": [
       "\n",
       "          <div style=\"display: flex; margin-bottom: 10px;\">\n",
       "            <div style=\"background-color: #DF1F81; width: 20%; margin-right: 5px;\"></div>\n",
       "            <p style=\"font-size: 1.2em;\">Communityseiten - faecheruebergreifend</p>\n",
       "          </div>\n",
       "        "
      ],
      "text/plain": [
       "<IPython.core.display.HTML object>"
      ]
     },
     "metadata": {},
     "output_type": "display_data"
    },
    {
     "data": {
      "text/html": [
       "\n",
       "          <div style=\"display: flex; margin-bottom: 10px;\">\n",
       "            <div style=\"background-color: #DF1F7F; width: 20%; margin-right: 5px;\"></div>\n",
       "            <p style=\"font-size: 1.2em;\">Biologie</p>\n",
       "          </div>\n",
       "        "
      ],
      "text/plain": [
       "<IPython.core.display.HTML object>"
      ]
     },
     "metadata": {},
     "output_type": "display_data"
    },
    {
     "data": {
      "text/html": [
       "\n",
       "          <div style=\"display: flex; margin-bottom: 10px;\">\n",
       "            <div style=\"background-color: #1FDF9D; width: 20%; margin-right: 5px;\"></div>\n",
       "            <p style=\"font-size: 1.2em;\">Biologie Forum</p>\n",
       "          </div>\n",
       "        "
      ],
      "text/plain": [
       "<IPython.core.display.HTML object>"
      ]
     },
     "metadata": {},
     "output_type": "display_data"
    },
    {
     "data": {
      "text/html": [
       "\n",
       "          <div style=\"display: flex; margin-bottom: 10px;\">\n",
       "            <div style=\"background-color: #DF1F93; width: 20%; margin-right: 5px;\"></div>\n",
       "            <p style=\"font-size: 1.2em;\">Mathematik Forum - test</p>\n",
       "          </div>\n",
       "        "
      ],
      "text/plain": [
       "<IPython.core.display.HTML object>"
      ]
     },
     "metadata": {},
     "output_type": "display_data"
    },
    {
     "data": {
      "text/html": [
       "\n",
       "          <div style=\"display: flex; margin-bottom: 10px;\">\n",
       "            <div style=\"background-color: #1F4ADF; width: 20%; margin-right: 5px;\"></div>\n",
       "            <p style=\"font-size: 1.2em;\">dev:blog</p>\n",
       "          </div>\n",
       "        "
      ],
      "text/plain": [
       "<IPython.core.display.HTML object>"
      ]
     },
     "metadata": {},
     "output_type": "display_data"
    },
    {
     "data": {
      "text/html": [
       "\n",
       "          <div style=\"display: flex; margin-bottom: 10px;\">\n",
       "            <div style=\"background-color: #461FDF; width: 20%; margin-right: 5px;\"></div>\n",
       "            <p style=\"font-size: 1.2em;\">Mathematik Blog</p>\n",
       "          </div>\n",
       "        "
      ],
      "text/plain": [
       "<IPython.core.display.HTML object>"
      ]
     },
     "metadata": {},
     "output_type": "display_data"
    },
    {
     "data": {
      "text/html": [
       "\n",
       "          <div style=\"display: flex; margin-bottom: 10px;\">\n",
       "            <div style=\"background-color: #DF1F93; width: 20%; margin-right: 5px;\"></div>\n",
       "            <p style=\"font-size: 1.2em;\">Deutsch als Fremdsprache</p>\n",
       "          </div>\n",
       "        "
      ],
      "text/plain": [
       "<IPython.core.display.HTML object>"
      ]
     },
     "metadata": {},
     "output_type": "display_data"
    },
    {
     "data": {
      "text/html": [
       "\n",
       "          <div style=\"display: flex; margin-bottom: 10px;\">\n",
       "            <div style=\"background-color: #DF8C1F; width: 20%; margin-right: 5px;\"></div>\n",
       "            <p style=\"font-size: 1.2em;\">Englisch</p>\n",
       "          </div>\n",
       "        "
      ],
      "text/plain": [
       "<IPython.core.display.HTML object>"
      ]
     },
     "metadata": {},
     "output_type": "display_data"
    },
    {
     "data": {
      "text/html": [
       "\n",
       "          <div style=\"display: flex; margin-bottom: 10px;\">\n",
       "            <div style=\"background-color: #DFC11F; width: 20%; margin-right: 5px;\"></div>\n",
       "            <p style=\"font-size: 1.2em;\">Betriebswirtschaftslehre mit Rechnungswesen</p>\n",
       "          </div>\n",
       "        "
      ],
      "text/plain": [
       "<IPython.core.display.HTML object>"
      ]
     },
     "metadata": {},
     "output_type": "display_data"
    },
    {
     "data": {
      "text/html": [
       "\n",
       "          <div style=\"display: flex; margin-bottom: 10px;\">\n",
       "            <div style=\"background-color: #DFD21F; width: 20%; margin-right: 5px;\"></div>\n",
       "            <p style=\"font-size: 1.2em;\">Englisch Forum</p>\n",
       "          </div>\n",
       "        "
      ],
      "text/plain": [
       "<IPython.core.display.HTML object>"
      ]
     },
     "metadata": {},
     "output_type": "display_data"
    },
    {
     "data": {
      "text/html": [
       "\n",
       "          <div style=\"display: flex; margin-bottom: 10px;\">\n",
       "            <div style=\"background-color: #4F1FDF; width: 20%; margin-right: 5px;\"></div>\n",
       "            <p style=\"font-size: 1.2em;\">Deutsch als Fremdsprache Forum</p>\n",
       "          </div>\n",
       "        "
      ],
      "text/plain": [
       "<IPython.core.display.HTML object>"
      ]
     },
     "metadata": {},
     "output_type": "display_data"
    },
    {
     "data": {
      "text/html": [
       "\n",
       "          <div style=\"display: flex; margin-bottom: 10px;\">\n",
       "            <div style=\"background-color: #1F51DF; width: 20%; margin-right: 5px;\"></div>\n",
       "            <p style=\"font-size: 1.2em;\">Latein</p>\n",
       "          </div>\n",
       "        "
      ],
      "text/plain": [
       "<IPython.core.display.HTML object>"
      ]
     },
     "metadata": {},
     "output_type": "display_data"
    },
    {
     "data": {
      "text/html": [
       "\n",
       "          <div style=\"display: flex; margin-bottom: 10px;\">\n",
       "            <div style=\"background-color: #DF1F76; width: 20%; margin-right: 5px;\"></div>\n",
       "            <p style=\"font-size: 1.2em;\">Physik</p>\n",
       "          </div>\n",
       "        "
      ],
      "text/plain": [
       "<IPython.core.display.HTML object>"
      ]
     },
     "metadata": {},
     "output_type": "display_data"
    },
    {
     "data": {
      "text/html": [
       "\n",
       "          <div style=\"display: flex; margin-bottom: 10px;\">\n",
       "            <div style=\"background-color: #DF2A1F; width: 20%; margin-right: 5px;\"></div>\n",
       "            <p style=\"font-size: 1.2em;\">Physik Forum</p>\n",
       "          </div>\n",
       "        "
      ],
      "text/plain": [
       "<IPython.core.display.HTML object>"
      ]
     },
     "metadata": {},
     "output_type": "display_data"
    },
    {
     "data": {
      "text/html": [
       "\n",
       "          <div style=\"display: flex; margin-bottom: 10px;\">\n",
       "            <div style=\"background-color: #A1DF1F; width: 20%; margin-right: 5px;\"></div>\n",
       "            <p style=\"font-size: 1.2em;\">Informatik</p>\n",
       "          </div>\n",
       "        "
      ],
      "text/plain": [
       "<IPython.core.display.HTML object>"
      ]
     },
     "metadata": {},
     "output_type": "display_data"
    },
    {
     "data": {
      "text/html": [
       "\n",
       "          <div style=\"display: flex; margin-bottom: 10px;\">\n",
       "            <div style=\"background-color: #DF1F9F; width: 20%; margin-right: 5px;\"></div>\n",
       "            <p style=\"font-size: 1.2em;\">Musik</p>\n",
       "          </div>\n",
       "        "
      ],
      "text/plain": [
       "<IPython.core.display.HTML object>"
      ]
     },
     "metadata": {},
     "output_type": "display_data"
    },
    {
     "data": {
      "text/html": [
       "\n",
       "          <div style=\"display: flex; margin-bottom: 10px;\">\n",
       "            <div style=\"background-color: #DF531F; width: 20%; margin-right: 5px;\"></div>\n",
       "            <p style=\"font-size: 1.2em;\">Politik</p>\n",
       "          </div>\n",
       "        "
      ],
      "text/plain": [
       "<IPython.core.display.HTML object>"
      ]
     },
     "metadata": {},
     "output_type": "display_data"
    },
    {
     "data": {
      "text/html": [
       "\n",
       "          <div style=\"display: flex; margin-bottom: 10px;\">\n",
       "            <div style=\"background-color: #DCDF1F; width: 20%; margin-right: 5px;\"></div>\n",
       "            <p style=\"font-size: 1.2em;\">Community</p>\n",
       "          </div>\n",
       "        "
      ],
      "text/plain": [
       "<IPython.core.display.HTML object>"
      ]
     },
     "metadata": {},
     "output_type": "display_data"
    },
    {
     "data": {
      "text/html": [
       "\n",
       "          <div style=\"display: flex; margin-bottom: 10px;\">\n",
       "            <div style=\"background-color: #1F48DF; width: 20%; margin-right: 5px;\"></div>\n",
       "            <p style=\"font-size: 1.2em;\">Testbereich</p>\n",
       "          </div>\n",
       "        "
      ],
      "text/plain": [
       "<IPython.core.display.HTML object>"
      ]
     },
     "metadata": {},
     "output_type": "display_data"
    },
    {
     "data": {
      "text/html": [
       "\n",
       "          <div style=\"display: flex; margin-bottom: 10px;\">\n",
       "            <div style=\"background-color: #DF361F; width: 20%; margin-right: 5px;\"></div>\n",
       "            <p style=\"font-size: 1.2em;\">Lerntipps</p>\n",
       "          </div>\n",
       "        "
      ],
      "text/plain": [
       "<IPython.core.display.HTML object>"
      ]
     },
     "metadata": {},
     "output_type": "display_data"
    },
    {
     "data": {
      "text/html": [
       "\n",
       "          <div style=\"display: flex; margin-bottom: 10px;\">\n",
       "            <div style=\"background-color: #741FDF; width: 20%; margin-right: 5px;\"></div>\n",
       "            <p style=\"font-size: 1.2em;\">Medienbildung</p>\n",
       "          </div>\n",
       "        "
      ],
      "text/plain": [
       "<IPython.core.display.HTML object>"
      ]
     },
     "metadata": {},
     "output_type": "display_data"
    },
    {
     "data": {
      "text/html": [
       "\n",
       "          <div style=\"display: flex; margin-bottom: 10px;\">\n",
       "            <div style=\"background-color: #1FDFCB; width: 20%; margin-right: 5px;\"></div>\n",
       "            <p style=\"font-size: 1.2em;\">Geographie</p>\n",
       "          </div>\n",
       "        "
      ],
      "text/plain": [
       "<IPython.core.display.HTML object>"
      ]
     },
     "metadata": {},
     "output_type": "display_data"
    },
    {
     "data": {
      "text/html": [
       "\n",
       "          <div style=\"display: flex; margin-bottom: 10px;\">\n",
       "            <div style=\"background-color: #1F51DF; width: 20%; margin-right: 5px;\"></div>\n",
       "            <p style=\"font-size: 1.2em;\">Latein</p>\n",
       "          </div>\n",
       "        "
      ],
      "text/plain": [
       "<IPython.core.display.HTML object>"
      ]
     },
     "metadata": {},
     "output_type": "display_data"
    },
    {
     "data": {
      "text/html": [
       "\n",
       "          <div style=\"display: flex; margin-bottom: 10px;\">\n",
       "            <div style=\"background-color: #79DF1F; width: 20%; margin-right: 5px;\"></div>\n",
       "            <p style=\"font-size: 1.2em;\">Psychologie</p>\n",
       "          </div>\n",
       "        "
      ],
      "text/plain": [
       "<IPython.core.display.HTML object>"
      ]
     },
     "metadata": {},
     "output_type": "display_data"
    },
    {
     "data": {
      "text/html": [
       "\n",
       "          <div style=\"display: flex; margin-bottom: 10px;\">\n",
       "            <div style=\"background-color: #DF531F; width: 20%; margin-right: 5px;\"></div>\n",
       "            <p style=\"font-size: 1.2em;\">Politik</p>\n",
       "          </div>\n",
       "        "
      ],
      "text/plain": [
       "<IPython.core.display.HTML object>"
      ]
     },
     "metadata": {},
     "output_type": "display_data"
    },
    {
     "data": {
      "text/html": [
       "\n",
       "          <div style=\"display: flex; margin-bottom: 10px;\">\n",
       "            <div style=\"background-color: #DF8C1F; width: 20%; margin-right: 5px;\"></div>\n",
       "            <p style=\"font-size: 1.2em;\">Englisch</p>\n",
       "          </div>\n",
       "        "
      ],
      "text/plain": [
       "<IPython.core.display.HTML object>"
      ]
     },
     "metadata": {},
     "output_type": "display_data"
    },
    {
     "data": {
      "text/html": [
       "\n",
       "          <div style=\"display: flex; margin-bottom: 10px;\">\n",
       "            <div style=\"background-color: #1F9ADF; width: 20%; margin-right: 5px;\"></div>\n",
       "            <p style=\"font-size: 1.2em;\">Rechnungswesen</p>\n",
       "          </div>\n",
       "        "
      ],
      "text/plain": [
       "<IPython.core.display.HTML object>"
      ]
     },
     "metadata": {},
     "output_type": "display_data"
    },
    {
     "data": {
      "text/html": [
       "\n",
       "          <div style=\"display: flex; margin-bottom: 10px;\">\n",
       "            <div style=\"background-color: #AC1FDF; width: 20%; margin-right: 5px;\"></div>\n",
       "            <p style=\"font-size: 1.2em;\">Deutsch als Zweit- und Fremdsprache</p>\n",
       "          </div>\n",
       "        "
      ],
      "text/plain": [
       "<IPython.core.display.HTML object>"
      ]
     },
     "metadata": {},
     "output_type": "display_data"
    },
    {
     "data": {
      "text/html": [
       "\n",
       "          <div style=\"display: flex; margin-bottom: 10px;\">\n",
       "            <div style=\"background-color: #1F28DF; width: 20%; margin-right: 5px;\"></div>\n",
       "            <p style=\"font-size: 1.2em;\">English for Spanish Natives</p>\n",
       "          </div>\n",
       "        "
      ],
      "text/plain": [
       "<IPython.core.display.HTML object>"
      ]
     },
     "metadata": {},
     "output_type": "display_data"
    },
    {
     "data": {
      "text/html": [
       "\n",
       "          <div style=\"display: flex; margin-bottom: 10px;\">\n",
       "            <div style=\"background-color: #221FDF; width: 20%; margin-right: 5px;\"></div>\n",
       "            <p style=\"font-size: 1.2em;\">Methodenkiste</p>\n",
       "          </div>\n",
       "        "
      ],
      "text/plain": [
       "<IPython.core.display.HTML object>"
      ]
     },
     "metadata": {},
     "output_type": "display_data"
    },
    {
     "data": {
      "text/html": [
       "\n",
       "          <div style=\"display: flex; margin-bottom: 10px;\">\n",
       "            <div style=\"background-color: #DF441F; width: 20%; margin-right: 5px;\"></div>\n",
       "            <p style=\"font-size: 1.2em;\">Recht</p>\n",
       "          </div>\n",
       "        "
      ],
      "text/plain": [
       "<IPython.core.display.HTML object>"
      ]
     },
     "metadata": {},
     "output_type": "display_data"
    },
    {
     "data": {
      "text/html": [
       "\n",
       "          <div style=\"display: flex; margin-bottom: 10px;\">\n",
       "            <div style=\"background-color: #581FDF; width: 20%; margin-right: 5px;\"></div>\n",
       "            <p style=\"font-size: 1.2em;\">Geschichte</p>\n",
       "          </div>\n",
       "        "
      ],
      "text/plain": [
       "<IPython.core.display.HTML object>"
      ]
     },
     "metadata": {},
     "output_type": "display_data"
    },
    {
     "data": {
      "text/html": [
       "\n",
       "          <div style=\"display: flex; margin-bottom: 10px;\">\n",
       "            <div style=\"background-color: #DF1FD0; width: 20%; margin-right: 5px;\"></div>\n",
       "            <p style=\"font-size: 1.2em;\">Wirtschaft</p>\n",
       "          </div>\n",
       "        "
      ],
      "text/plain": [
       "<IPython.core.display.HTML object>"
      ]
     },
     "metadata": {},
     "output_type": "display_data"
    },
    {
     "data": {
      "text/html": [
       "\n",
       "          <div style=\"display: flex; margin-bottom: 10px;\">\n",
       "            <div style=\"background-color: #C71FDF; width: 20%; margin-right: 5px;\"></div>\n",
       "            <p style=\"font-size: 1.2em;\">Pschologie</p>\n",
       "          </div>\n",
       "        "
      ],
      "text/plain": [
       "<IPython.core.display.HTML object>"
      ]
     },
     "metadata": {},
     "output_type": "display_data"
    },
    {
     "data": {
      "text/html": [
       "\n",
       "          <div style=\"display: flex; margin-bottom: 10px;\">\n",
       "            <div style=\"background-color: #DF1F9F; width: 20%; margin-right: 5px;\"></div>\n",
       "            <p style=\"font-size: 1.2em;\">Musik</p>\n",
       "          </div>\n",
       "        "
      ],
      "text/plain": [
       "<IPython.core.display.HTML object>"
      ]
     },
     "metadata": {},
     "output_type": "display_data"
    },
    {
     "data": {
      "text/html": [
       "\n",
       "          <div style=\"display: flex; margin-bottom: 10px;\">\n",
       "            <div style=\"background-color: #6F1FDF; width: 20%; margin-right: 5px;\"></div>\n",
       "            <p style=\"font-size: 1.2em;\">Kommunikation</p>\n",
       "          </div>\n",
       "        "
      ],
      "text/plain": [
       "<IPython.core.display.HTML object>"
      ]
     },
     "metadata": {},
     "output_type": "display_data"
    },
    {
     "data": {
      "text/html": [
       "\n",
       "          <div style=\"display: flex; margin-bottom: 10px;\">\n",
       "            <div style=\"background-color: #DF1F82; width: 20%; margin-right: 5px;\"></div>\n",
       "            <p style=\"font-size: 1.2em;\">Spanisch</p>\n",
       "          </div>\n",
       "        "
      ],
      "text/plain": [
       "<IPython.core.display.HTML object>"
      ]
     },
     "metadata": {},
     "output_type": "display_data"
    },
    {
     "data": {
      "text/markdown": [
       "### Wie die Diagramme zur Fachzugehörigkeit aussehen würden:"
      ],
      "text/plain": [
       "<IPython.core.display.Markdown object>"
      ]
     },
     "metadata": {},
     "output_type": "display_data"
    },
    {
     "data": {
      "image/png": "[encoded data removed]",
      "text/plain": [
       "<Figure size 1080x1080 with 6 Axes>"
      ]
     },
     "metadata": {},
     "output_type": "display_data"
    }
   ],
   "source": [
    " def text_to_random_hsv(text):\n",
    "    random = text_to_random(text)\n",
    "    \n",
    "    return Color(hls=(random.random(), 0.5, 0.75)).hex\n",
    "\n",
    "show_results(text_to_random_hsv)"
   ]
  },
  {
   "cell_type": "markdown",
   "id": "balanced-opera",
   "metadata": {},
   "source": [
    "Nun ist das Problem, dass alle möglichen Farben ausgewählt werden, auch solche, die nicht zu unserem Farbdesign passen. Um Beispielsweise Rot-Lila auszuschließen, können wir uns aus Werte mit 40° <= hue <= 260° einschränken (im folgenden Beispiel ist außerdem 0,4 <= lightness <= 0.6 und 0,6 <= saturation <= 0,9) "
   ]
  },
  {
   "cell_type": "code",
   "execution_count": 5,
   "id": "plain-martin",
   "metadata": {
    "scrolled": false
   },
   "outputs": [
    {
     "data": {
      "text/markdown": [
       "### Welche Farben gewählt werden:"
      ],
      "text/plain": [
       "<IPython.core.display.Markdown object>"
      ]
     },
     "metadata": {},
     "output_type": "display_data"
    },
    {
     "data": {
      "text/html": [
       "\n",
       "          <div style=\"display: flex; margin-bottom: 10px;\">\n",
       "            <div style=\"background-color: #2335C0; width: 20%; margin-right: 5px;\"></div>\n",
       "            <p style=\"font-size: 1.2em;\">Mathe</p>\n",
       "          </div>\n",
       "        "
      ],
      "text/plain": [
       "<IPython.core.display.HTML object>"
      ]
     },
     "metadata": {},
     "output_type": "display_data"
    },
    {
     "data": {
      "text/html": [
       "\n",
       "          <div style=\"display: flex; margin-bottom: 10px;\">\n",
       "            <div style=\"background-color: #2E9ACC; width: 20%; margin-right: 5px;\"></div>\n",
       "            <p style=\"font-size: 1.2em;\">Blog</p>\n",
       "          </div>\n",
       "        "
      ],
      "text/plain": [
       "<IPython.core.display.HTML object>"
      ]
     },
     "metadata": {},
     "output_type": "display_data"
    },
    {
     "data": {
      "text/html": [
       "\n",
       "          <div style=\"display: flex; margin-bottom: 10px;\">\n",
       "            <div style=\"background-color: #582AE3; width: 20%; margin-right: 5px;\"></div>\n",
       "            <p style=\"font-size: 1.2em;\">Mathematik Forum</p>\n",
       "          </div>\n",
       "        "
      ],
      "text/plain": [
       "<IPython.core.display.HTML object>"
      ]
     },
     "metadata": {},
     "output_type": "display_data"
    },
    {
     "data": {
      "text/html": [
       "\n",
       "          <div style=\"display: flex; margin-bottom: 10px;\">\n",
       "            <div style=\"background-color: #D0AD14; width: 20%; margin-right: 5px;\"></div>\n",
       "            <p style=\"font-size: 1.2em;\">Nachhaltigkeit</p>\n",
       "          </div>\n",
       "        "
      ],
      "text/plain": [
       "<IPython.core.display.HTML object>"
      ]
     },
     "metadata": {},
     "output_type": "display_data"
    },
    {
     "data": {
      "text/html": [
       "\n",
       "          <div style=\"display: flex; margin-bottom: 10px;\">\n",
       "            <div style=\"background-color: #CAE22C; width: 20%; margin-right: 5px;\"></div>\n",
       "            <p style=\"font-size: 1.2em;\">Permakultur Forum</p>\n",
       "          </div>\n",
       "        "
      ],
      "text/plain": [
       "<IPython.core.display.HTML object>"
      ]
     },
     "metadata": {},
     "output_type": "display_data"
    },
    {
     "data": {
      "text/html": [
       "\n",
       "          <div style=\"display: flex; margin-bottom: 10px;\">\n",
       "            <div style=\"background-color: #32D4CE; width: 20%; margin-right: 5px;\"></div>\n",
       "            <p style=\"font-size: 1.2em;\">Chemie</p>\n",
       "          </div>\n",
       "        "
      ],
      "text/plain": [
       "<IPython.core.display.HTML object>"
      ]
     },
     "metadata": {},
     "output_type": "display_data"
    },
    {
     "data": {
      "text/html": [
       "\n",
       "          <div style=\"display: flex; margin-bottom: 10px;\">\n",
       "            <div style=\"background-color: #52B12A; width: 20%; margin-right: 5px;\"></div>\n",
       "            <p style=\"font-size: 1.2em;\">Chemie Forum</p>\n",
       "          </div>\n",
       "        "
      ],
      "text/plain": [
       "<IPython.core.display.HTML object>"
      ]
     },
     "metadata": {},
     "output_type": "display_data"
    },
    {
     "data": {
      "text/html": [
       "\n",
       "          <div style=\"display: flex; margin-bottom: 10px;\">\n",
       "            <div style=\"background-color: #C6D041; width: 20%; margin-right: 5px;\"></div>\n",
       "            <p style=\"font-size: 1.2em;\">Nutzerprofile, Hilfe, Community und Allgemeines</p>\n",
       "          </div>\n",
       "        "
      ],
      "text/plain": [
       "<IPython.core.display.HTML object>"
      ]
     },
     "metadata": {},
     "output_type": "display_data"
    },
    {
     "data": {
      "text/html": [
       "\n",
       "          <div style=\"display: flex; margin-bottom: 10px;\">\n",
       "            <div style=\"background-color: #46D61E; width: 20%; margin-right: 5px;\"></div>\n",
       "            <p style=\"font-size: 1.2em;\">Communityseiten - faecheruebergreifend</p>\n",
       "          </div>\n",
       "        "
      ],
      "text/plain": [
       "<IPython.core.display.HTML object>"
      ]
     },
     "metadata": {},
     "output_type": "display_data"
    },
    {
     "data": {
      "text/html": [
       "\n",
       "          <div style=\"display: flex; margin-bottom: 10px;\">\n",
       "            <div style=\"background-color: #2BE7BB; width: 20%; margin-right: 5px;\"></div>\n",
       "            <p style=\"font-size: 1.2em;\">Biologie</p>\n",
       "          </div>\n",
       "        "
      ],
      "text/plain": [
       "<IPython.core.display.HTML object>"
      ]
     },
     "metadata": {},
     "output_type": "display_data"
    },
    {
     "data": {
      "text/html": [
       "\n",
       "          <div style=\"display: flex; margin-bottom: 10px;\">\n",
       "            <div style=\"background-color: #48E9A0; width: 20%; margin-right: 5px;\"></div>\n",
       "            <p style=\"font-size: 1.2em;\">Biologie Forum</p>\n",
       "          </div>\n",
       "        "
      ],
      "text/plain": [
       "<IPython.core.display.HTML object>"
      ]
     },
     "metadata": {},
     "output_type": "display_data"
    },
    {
     "data": {
      "text/html": [
       "\n",
       "          <div style=\"display: flex; margin-bottom: 10px;\">\n",
       "            <div style=\"background-color: #292FE1; width: 20%; margin-right: 5px;\"></div>\n",
       "            <p style=\"font-size: 1.2em;\">Mathematik Forum - test</p>\n",
       "          </div>\n",
       "        "
      ],
      "text/plain": [
       "<IPython.core.display.HTML object>"
      ]
     },
     "metadata": {},
     "output_type": "display_data"
    },
    {
     "data": {
      "text/html": [
       "\n",
       "          <div style=\"display: flex; margin-bottom: 10px;\">\n",
       "            <div style=\"background-color: #1B9FE6; width: 20%; margin-right: 5px;\"></div>\n",
       "            <p style=\"font-size: 1.2em;\">dev:blog</p>\n",
       "          </div>\n",
       "        "
      ],
      "text/plain": [
       "<IPython.core.display.HTML object>"
      ]
     },
     "metadata": {},
     "output_type": "display_data"
    },
    {
     "data": {
      "text/html": [
       "\n",
       "          <div style=\"display: flex; margin-bottom: 10px;\">\n",
       "            <div style=\"background-color: #2161D6; width: 20%; margin-right: 5px;\"></div>\n",
       "            <p style=\"font-size: 1.2em;\">Mathematik Blog</p>\n",
       "          </div>\n",
       "        "
      ],
      "text/plain": [
       "<IPython.core.display.HTML object>"
      ]
     },
     "metadata": {},
     "output_type": "display_data"
    },
    {
     "data": {
      "text/html": [
       "\n",
       "          <div style=\"display: flex; margin-bottom: 10px;\">\n",
       "            <div style=\"background-color: #1289D3; width: 20%; margin-right: 5px;\"></div>\n",
       "            <p style=\"font-size: 1.2em;\">Deutsch als Fremdsprache</p>\n",
       "          </div>\n",
       "        "
      ],
      "text/plain": [
       "<IPython.core.display.HTML object>"
      ]
     },
     "metadata": {},
     "output_type": "display_data"
    },
    {
     "data": {
      "text/html": [
       "\n",
       "          <div style=\"display: flex; margin-bottom: 10px;\">\n",
       "            <div style=\"background-color: #DBE82C; width: 20%; margin-right: 5px;\"></div>\n",
       "            <p style=\"font-size: 1.2em;\">Englisch</p>\n",
       "          </div>\n",
       "        "
      ],
      "text/plain": [
       "<IPython.core.display.HTML object>"
      ]
     },
     "metadata": {},
     "output_type": "display_data"
    },
    {
     "data": {
      "text/html": [
       "\n",
       "          <div style=\"display: flex; margin-bottom: 10px;\">\n",
       "            <div style=\"background-color: #B4E72A; width: 20%; margin-right: 5px;\"></div>\n",
       "            <p style=\"font-size: 1.2em;\">Betriebswirtschaftslehre mit Rechnungswesen</p>\n",
       "          </div>\n",
       "        "
      ],
      "text/plain": [
       "<IPython.core.display.HTML object>"
      ]
     },
     "metadata": {},
     "output_type": "display_data"
    },
    {
     "data": {
      "text/html": [
       "\n",
       "          <div style=\"display: flex; margin-bottom: 10px;\">\n",
       "            <div style=\"background-color: #87B919; width: 20%; margin-right: 5px;\"></div>\n",
       "            <p style=\"font-size: 1.2em;\">Englisch Forum</p>\n",
       "          </div>\n",
       "        "
      ],
      "text/plain": [
       "<IPython.core.display.HTML object>"
      ]
     },
     "metadata": {},
     "output_type": "display_data"
    },
    {
     "data": {
      "text/html": [
       "\n",
       "          <div style=\"display: flex; margin-bottom: 10px;\">\n",
       "            <div style=\"background-color: #4C7CE3; width: 20%; margin-right: 5px;\"></div>\n",
       "            <p style=\"font-size: 1.2em;\">Deutsch als Fremdsprache Forum</p>\n",
       "          </div>\n",
       "        "
      ],
      "text/plain": [
       "<IPython.core.display.HTML object>"
      ]
     },
     "metadata": {},
     "output_type": "display_data"
    },
    {
     "data": {
      "text/html": [
       "\n",
       "          <div style=\"display: flex; margin-bottom: 10px;\">\n",
       "            <div style=\"background-color: #0B96D6; width: 20%; margin-right: 5px;\"></div>\n",
       "            <p style=\"font-size: 1.2em;\">Latein</p>\n",
       "          </div>\n",
       "        "
      ],
      "text/plain": [
       "<IPython.core.display.HTML object>"
      ]
     },
     "metadata": {},
     "output_type": "display_data"
    },
    {
     "data": {
      "text/html": [
       "\n",
       "          <div style=\"display: flex; margin-bottom: 10px;\">\n",
       "            <div style=\"background-color: #23D4EF; width: 20%; margin-right: 5px;\"></div>\n",
       "            <p style=\"font-size: 1.2em;\">Physik</p>\n",
       "          </div>\n",
       "        "
      ],
      "text/plain": [
       "<IPython.core.display.HTML object>"
      ]
     },
     "metadata": {},
     "output_type": "display_data"
    },
    {
     "data": {
      "text/html": [
       "\n",
       "          <div style=\"display: flex; margin-bottom: 10px;\">\n",
       "            <div style=\"background-color: #D29B19; width: 20%; margin-right: 5px;\"></div>\n",
       "            <p style=\"font-size: 1.2em;\">Physik Forum</p>\n",
       "          </div>\n",
       "        "
      ],
      "text/plain": [
       "<IPython.core.display.HTML object>"
      ]
     },
     "metadata": {},
     "output_type": "display_data"
    },
    {
     "data": {
      "text/html": [
       "\n",
       "          <div style=\"display: flex; margin-bottom: 10px;\">\n",
       "            <div style=\"background-color: #5DC816; width: 20%; margin-right: 5px;\"></div>\n",
       "            <p style=\"font-size: 1.2em;\">Informatik</p>\n",
       "          </div>\n",
       "        "
      ],
      "text/plain": [
       "<IPython.core.display.HTML object>"
      ]
     },
     "metadata": {},
     "output_type": "display_data"
    },
    {
     "data": {
      "text/html": [
       "\n",
       "          <div style=\"display: flex; margin-bottom: 10px;\">\n",
       "            <div style=\"background-color: #C2CF14; width: 20%; margin-right: 5px;\"></div>\n",
       "            <p style=\"font-size: 1.2em;\">Musik</p>\n",
       "          </div>\n",
       "        "
      ],
      "text/plain": [
       "<IPython.core.display.HTML object>"
      ]
     },
     "metadata": {},
     "output_type": "display_data"
    },
    {
     "data": {
      "text/html": [
       "\n",
       "          <div style=\"display: flex; margin-bottom: 10px;\">\n",
       "            <div style=\"background-color: #D9BA0C; width: 20%; margin-right: 5px;\"></div>\n",
       "            <p style=\"font-size: 1.2em;\">Politik</p>\n",
       "          </div>\n",
       "        "
      ],
      "text/plain": [
       "<IPython.core.display.HTML object>"
      ]
     },
     "metadata": {},
     "output_type": "display_data"
    },
    {
     "data": {
      "text/html": [
       "\n",
       "          <div style=\"display: flex; margin-bottom: 10px;\">\n",
       "            <div style=\"background-color: #98E915; width: 20%; margin-right: 5px;\"></div>\n",
       "            <p style=\"font-size: 1.2em;\">Community</p>\n",
       "          </div>\n",
       "        "
      ],
      "text/plain": [
       "<IPython.core.display.HTML object>"
      ]
     },
     "metadata": {},
     "output_type": "display_data"
    },
    {
     "data": {
      "text/html": [
       "\n",
       "          <div style=\"display: flex; margin-bottom: 10px;\">\n",
       "            <div style=\"background-color: #3DABE6; width: 20%; margin-right: 5px;\"></div>\n",
       "            <p style=\"font-size: 1.2em;\">Testbereich</p>\n",
       "          </div>\n",
       "        "
      ],
      "text/plain": [
       "<IPython.core.display.HTML object>"
      ]
     },
     "metadata": {},
     "output_type": "display_data"
    },
    {
     "data": {
      "text/html": [
       "\n",
       "          <div style=\"display: flex; margin-bottom: 10px;\">\n",
       "            <div style=\"background-color: #F2C53D; width: 20%; margin-right: 5px;\"></div>\n",
       "            <p style=\"font-size: 1.2em;\">Lerntipps</p>\n",
       "          </div>\n",
       "        "
      ],
      "text/plain": [
       "<IPython.core.display.HTML object>"
      ]
     },
     "metadata": {},
     "output_type": "display_data"
    },
    {
     "data": {
      "text/html": [
       "\n",
       "          <div style=\"display: flex; margin-bottom: 10px;\">\n",
       "            <div style=\"background-color: #2F4BC9; width: 20%; margin-right: 5px;\"></div>\n",
       "            <p style=\"font-size: 1.2em;\">Medienbildung</p>\n",
       "          </div>\n",
       "        "
      ],
      "text/plain": [
       "<IPython.core.display.HTML object>"
      ]
     },
     "metadata": {},
     "output_type": "display_data"
    },
    {
     "data": {
      "text/html": [
       "\n",
       "          <div style=\"display: flex; margin-bottom: 10px;\">\n",
       "            <div style=\"background-color: #1FF2B6; width: 20%; margin-right: 5px;\"></div>\n",
       "            <p style=\"font-size: 1.2em;\">Geographie</p>\n",
       "          </div>\n",
       "        "
      ],
      "text/plain": [
       "<IPython.core.display.HTML object>"
      ]
     },
     "metadata": {},
     "output_type": "display_data"
    },
    {
     "data": {
      "text/html": [
       "\n",
       "          <div style=\"display: flex; margin-bottom: 10px;\">\n",
       "            <div style=\"background-color: #0B96D6; width: 20%; margin-right: 5px;\"></div>\n",
       "            <p style=\"font-size: 1.2em;\">Latein</p>\n",
       "          </div>\n",
       "        "
      ],
      "text/plain": [
       "<IPython.core.display.HTML object>"
      ]
     },
     "metadata": {},
     "output_type": "display_data"
    },
    {
     "data": {
      "text/html": [
       "\n",
       "          <div style=\"display: flex; margin-bottom: 10px;\">\n",
       "            <div style=\"background-color: #41D70F; width: 20%; margin-right: 5px;\"></div>\n",
       "            <p style=\"font-size: 1.2em;\">Psychologie</p>\n",
       "          </div>\n",
       "        "
      ],
      "text/plain": [
       "<IPython.core.display.HTML object>"
      ]
     },
     "metadata": {},
     "output_type": "display_data"
    },
    {
     "data": {
      "text/html": [
       "\n",
       "          <div style=\"display: flex; margin-bottom: 10px;\">\n",
       "            <div style=\"background-color: #D9BA0C; width: 20%; margin-right: 5px;\"></div>\n",
       "            <p style=\"font-size: 1.2em;\">Politik</p>\n",
       "          </div>\n",
       "        "
      ],
      "text/plain": [
       "<IPython.core.display.HTML object>"
      ]
     },
     "metadata": {},
     "output_type": "display_data"
    },
    {
     "data": {
      "text/html": [
       "\n",
       "          <div style=\"display: flex; margin-bottom: 10px;\">\n",
       "            <div style=\"background-color: #DBE82C; width: 20%; margin-right: 5px;\"></div>\n",
       "            <p style=\"font-size: 1.2em;\">Englisch</p>\n",
       "          </div>\n",
       "        "
      ],
      "text/plain": [
       "<IPython.core.display.HTML object>"
      ]
     },
     "metadata": {},
     "output_type": "display_data"
    },
    {
     "data": {
      "text/html": [
       "\n",
       "          <div style=\"display: flex; margin-bottom: 10px;\">\n",
       "            <div style=\"background-color: #16C3CC; width: 20%; margin-right: 5px;\"></div>\n",
       "            <p style=\"font-size: 1.2em;\">Rechnungswesen</p>\n",
       "          </div>\n",
       "        "
      ],
      "text/plain": [
       "<IPython.core.display.HTML object>"
      ]
     },
     "metadata": {},
     "output_type": "display_data"
    },
    {
     "data": {
      "text/html": [
       "\n",
       "          <div style=\"display: flex; margin-bottom: 10px;\">\n",
       "            <div style=\"background-color: #251FD2; width: 20%; margin-right: 5px;\"></div>\n",
       "            <p style=\"font-size: 1.2em;\">Deutsch als Zweit- und Fremdsprache</p>\n",
       "          </div>\n",
       "        "
      ],
      "text/plain": [
       "<IPython.core.display.HTML object>"
      ]
     },
     "metadata": {},
     "output_type": "display_data"
    },
    {
     "data": {
      "text/html": [
       "\n",
       "          <div style=\"display: flex; margin-bottom: 10px;\">\n",
       "            <div style=\"background-color: #238AE4; width: 20%; margin-right: 5px;\"></div>\n",
       "            <p style=\"font-size: 1.2em;\">English for Spanish Natives</p>\n",
       "          </div>\n",
       "        "
      ],
      "text/plain": [
       "<IPython.core.display.HTML object>"
      ]
     },
     "metadata": {},
     "output_type": "display_data"
    },
    {
     "data": {
      "text/html": [
       "\n",
       "          <div style=\"display: flex; margin-bottom: 10px;\">\n",
       "            <div style=\"background-color: #3D94F1; width: 20%; margin-right: 5px;\"></div>\n",
       "            <p style=\"font-size: 1.2em;\">Methodenkiste</p>\n",
       "          </div>\n",
       "        "
      ],
      "text/plain": [
       "<IPython.core.display.HTML object>"
      ]
     },
     "metadata": {},
     "output_type": "display_data"
    },
    {
     "data": {
      "text/html": [
       "\n",
       "          <div style=\"display: flex; margin-bottom: 10px;\">\n",
       "            <div style=\"background-color: #EAC328; width: 20%; margin-right: 5px;\"></div>\n",
       "            <p style=\"font-size: 1.2em;\">Recht</p>\n",
       "          </div>\n",
       "        "
      ],
      "text/plain": [
       "<IPython.core.display.HTML object>"
      ]
     },
     "metadata": {},
     "output_type": "display_data"
    },
    {
     "data": {
      "text/html": [
       "\n",
       "          <div style=\"display: flex; margin-bottom: 10px;\">\n",
       "            <div style=\"background-color: #4E77DD; width: 20%; margin-right: 5px;\"></div>\n",
       "            <p style=\"font-size: 1.2em;\">Geschichte</p>\n",
       "          </div>\n",
       "        "
      ],
      "text/plain": [
       "<IPython.core.display.HTML object>"
      ]
     },
     "metadata": {},
     "output_type": "display_data"
    },
    {
     "data": {
      "text/html": [
       "\n",
       "          <div style=\"display: flex; margin-bottom: 10px;\">\n",
       "            <div style=\"background-color: #693BE6; width: 20%; margin-right: 5px;\"></div>\n",
       "            <p style=\"font-size: 1.2em;\">Wirtschaft</p>\n",
       "          </div>\n",
       "        "
      ],
      "text/plain": [
       "<IPython.core.display.HTML object>"
      ]
     },
     "metadata": {},
     "output_type": "display_data"
    },
    {
     "data": {
      "text/html": [
       "\n",
       "          <div style=\"display: flex; margin-bottom: 10px;\">\n",
       "            <div style=\"background-color: #3B20E9; width: 20%; margin-right: 5px;\"></div>\n",
       "            <p style=\"font-size: 1.2em;\">Pschologie</p>\n",
       "          </div>\n",
       "        "
      ],
      "text/plain": [
       "<IPython.core.display.HTML object>"
      ]
     },
     "metadata": {},
     "output_type": "display_data"
    },
    {
     "data": {
      "text/html": [
       "\n",
       "          <div style=\"display: flex; margin-bottom: 10px;\">\n",
       "            <div style=\"background-color: #C2CF14; width: 20%; margin-right: 5px;\"></div>\n",
       "            <p style=\"font-size: 1.2em;\">Musik</p>\n",
       "          </div>\n",
       "        "
      ],
      "text/plain": [
       "<IPython.core.display.HTML object>"
      ]
     },
     "metadata": {},
     "output_type": "display_data"
    },
    {
     "data": {
      "text/html": [
       "\n",
       "          <div style=\"display: flex; margin-bottom: 10px;\">\n",
       "            <div style=\"background-color: #1D42D5; width: 20%; margin-right: 5px;\"></div>\n",
       "            <p style=\"font-size: 1.2em;\">Kommunikation</p>\n",
       "          </div>\n",
       "        "
      ],
      "text/plain": [
       "<IPython.core.display.HTML object>"
      ]
     },
     "metadata": {},
     "output_type": "display_data"
    },
    {
     "data": {
      "text/html": [
       "\n",
       "          <div style=\"display: flex; margin-bottom: 10px;\">\n",
       "            <div style=\"background-color: #0EC9C9; width: 20%; margin-right: 5px;\"></div>\n",
       "            <p style=\"font-size: 1.2em;\">Spanisch</p>\n",
       "          </div>\n",
       "        "
      ],
      "text/plain": [
       "<IPython.core.display.HTML object>"
      ]
     },
     "metadata": {},
     "output_type": "display_data"
    },
    {
     "data": {
      "text/markdown": [
       "### Wie die Diagramme zur Fachzugehörigkeit aussehen würden:"
      ],
      "text/plain": [
       "<IPython.core.display.Markdown object>"
      ]
     },
     "metadata": {},
     "output_type": "display_data"
    },
    {
     "data": {
      "image/png": "[encoded data removed]",
      "text/plain": [
       "<Figure size 1080x1080 with 6 Axes>"
      ]
     },
     "metadata": {},
     "output_type": "display_data"
    }
   ],
   "source": [
    "def text_to_random_hsv2(text):\n",
    "    random = text_to_random(text)\n",
    "    \n",
    "    h = random.randint(40, 260) / 360\n",
    "    l = random.uniform(0.4, 0.6)\n",
    "    s = random.uniform(0.6, 0.9)\n",
    "    \n",
    "    return Color(hls=(h, l, s)).hex\n",
    "\n",
    "show_results(text_to_random_hsv2)"
   ]
  },
  {
   "cell_type": "code",
   "execution_count": 6,
   "id": "substantial-repair",
   "metadata": {},
   "outputs": [
    {
     "data": {
      "image/png": "[encoded data removed]",
      "text/plain": [
       "<Figure size 432x288 with 1 Axes>"
      ]
     },
     "metadata": {
      "needs_background": "light"
     },
     "output_type": "display_data"
    }
   ],
   "source": [
    "import numpy as np\n",
    "\n",
    "gradient = (np.linspace(0, 1, 220) * 10 + 40) / 360\n",
    "gradient = np.vstack((gradient, gradient))\n",
    "\n",
    "plt.imshow(gradient, cmap=\"hsv\", aspect=15)\n",
    "plt.ylim(0,1)\n",
    "plt.show()\n",
    "\n"
   ]
  },
  {
   "cell_type": "code",
   "execution_count": 7,
   "id": "boolean-blade",
   "metadata": {
    "scrolled": false
   },
   "outputs": [
    {
     "data": {
      "text/markdown": [
       "### Welche Farben gewählt werden:"
      ],
      "text/plain": [
       "<IPython.core.display.Markdown object>"
      ]
     },
     "metadata": {},
     "output_type": "display_data"
    },
    {
     "data": {
      "text/html": [
       "\n",
       "          <div style=\"display: flex; margin-bottom: 10px;\">\n",
       "            <div style=\"background-color: #D8DF1F; width: 20%; margin-right: 5px;\"></div>\n",
       "            <p style=\"font-size: 1.2em;\">Mathe</p>\n",
       "          </div>\n",
       "        "
      ],
      "text/plain": [
       "<IPython.core.display.HTML object>"
      ]
     },
     "metadata": {},
     "output_type": "display_data"
    },
    {
     "data": {
      "text/html": [
       "\n",
       "          <div style=\"display: flex; margin-bottom: 10px;\">\n",
       "            <div style=\"background-color: #1FA5DF; width: 20%; margin-right: 5px;\"></div>\n",
       "            <p style=\"font-size: 1.2em;\">Blog</p>\n",
       "          </div>\n",
       "        "
      ],
      "text/plain": [
       "<IPython.core.display.HTML object>"
      ]
     },
     "metadata": {},
     "output_type": "display_data"
    },
    {
     "data": {
      "text/html": [
       "\n",
       "          <div style=\"display: flex; margin-bottom: 10px;\">\n",
       "            <div style=\"background-color: #33DF1F; width: 20%; margin-right: 5px;\"></div>\n",
       "            <p style=\"font-size: 1.2em;\">Mathematik Forum</p>\n",
       "          </div>\n",
       "        "
      ],
      "text/plain": [
       "<IPython.core.display.HTML object>"
      ]
     },
     "metadata": {},
     "output_type": "display_data"
    },
    {
     "data": {
      "text/html": [
       "\n",
       "          <div style=\"display: flex; margin-bottom: 10px;\">\n",
       "            <div style=\"background-color: #3F1FDF; width: 20%; margin-right: 5px;\"></div>\n",
       "            <p style=\"font-size: 1.2em;\">Nachhaltigkeit</p>\n",
       "          </div>\n",
       "        "
      ],
      "text/plain": [
       "<IPython.core.display.HTML object>"
      ]
     },
     "metadata": {},
     "output_type": "display_data"
    },
    {
     "data": {
      "text/html": [
       "\n",
       "          <div style=\"display: flex; margin-bottom: 10px;\">\n",
       "            <div style=\"background-color: #1FDFB2; width: 20%; margin-right: 5px;\"></div>\n",
       "            <p style=\"font-size: 1.2em;\">Permakultur Forum</p>\n",
       "          </div>\n",
       "        "
      ],
      "text/plain": [
       "<IPython.core.display.HTML object>"
      ]
     },
     "metadata": {},
     "output_type": "display_data"
    },
    {
     "data": {
      "text/html": [
       "\n",
       "          <div style=\"display: flex; margin-bottom: 10px;\">\n",
       "            <div style=\"background-color: #99DF1F; width: 20%; margin-right: 5px;\"></div>\n",
       "            <p style=\"font-size: 1.2em;\">Chemie</p>\n",
       "          </div>\n",
       "        "
      ],
      "text/plain": [
       "<IPython.core.display.HTML object>"
      ]
     },
     "metadata": {},
     "output_type": "display_data"
    },
    {
     "data": {
      "text/html": [
       "\n",
       "          <div style=\"display: flex; margin-bottom: 10px;\">\n",
       "            <div style=\"background-color: #1F66DF; width: 20%; margin-right: 5px;\"></div>\n",
       "            <p style=\"font-size: 1.2em;\">Chemie Forum</p>\n",
       "          </div>\n",
       "        "
      ],
      "text/plain": [
       "<IPython.core.display.HTML object>"
      ]
     },
     "metadata": {},
     "output_type": "display_data"
    },
    {
     "data": {
      "text/html": [
       "\n",
       "          <div style=\"display: flex; margin-bottom: 10px;\">\n",
       "            <div style=\"background-color: #1FDF4B; width: 20%; margin-right: 5px;\"></div>\n",
       "            <p style=\"font-size: 1.2em;\">Nutzerprofile, Hilfe, Community und Allgemeines</p>\n",
       "          </div>\n",
       "        "
      ],
      "text/plain": [
       "<IPython.core.display.HTML object>"
      ]
     },
     "metadata": {},
     "output_type": "display_data"
    },
    {
     "data": {
      "text/html": [
       "\n",
       "          <div style=\"display: flex; margin-bottom: 10px;\">\n",
       "            <div style=\"background-color: #DFBE1F; width: 20%; margin-right: 5px;\"></div>\n",
       "            <p style=\"font-size: 1.2em;\">Communityseiten - faecheruebergreifend</p>\n",
       "          </div>\n",
       "        "
      ],
      "text/plain": [
       "<IPython.core.display.HTML object>"
      ]
     },
     "metadata": {},
     "output_type": "display_data"
    },
    {
     "data": {
      "text/html": [
       "\n",
       "          <div style=\"display: flex; margin-bottom: 10px;\">\n",
       "            <div style=\"background-color: #1FCCDF; width: 20%; margin-right: 5px;\"></div>\n",
       "            <p style=\"font-size: 1.2em;\">Biologie</p>\n",
       "          </div>\n",
       "        "
      ],
      "text/plain": [
       "<IPython.core.display.HTML object>"
      ]
     },
     "metadata": {},
     "output_type": "display_data"
    },
    {
     "data": {
      "text/html": [
       "\n",
       "          <div style=\"display: flex; margin-bottom: 10px;\">\n",
       "            <div style=\"background-color: #5ADF1F; width: 20%; margin-right: 5px;\"></div>\n",
       "            <p style=\"font-size: 1.2em;\">Biologie Forum</p>\n",
       "          </div>\n",
       "        "
      ],
      "text/plain": [
       "<IPython.core.display.HTML object>"
      ]
     },
     "metadata": {},
     "output_type": "display_data"
    },
    {
     "data": {
      "text/html": [
       "\n",
       "          <div style=\"display: flex; margin-bottom: 10px;\">\n",
       "            <div style=\"background-color: #1F27DF; width: 20%; margin-right: 5px;\"></div>\n",
       "            <p style=\"font-size: 1.2em;\">Mathematik Forum - test</p>\n",
       "          </div>\n",
       "        "
      ],
      "text/plain": [
       "<IPython.core.display.HTML object>"
      ]
     },
     "metadata": {},
     "output_type": "display_data"
    },
    {
     "data": {
      "text/html": [
       "\n",
       "          <div style=\"display: flex; margin-bottom: 10px;\">\n",
       "            <div style=\"background-color: #1FDF8B; width: 20%; margin-right: 5px;\"></div>\n",
       "            <p style=\"font-size: 1.2em;\">dev:blog</p>\n",
       "          </div>\n",
       "        "
      ],
      "text/plain": [
       "<IPython.core.display.HTML object>"
      ]
     },
     "metadata": {},
     "output_type": "display_data"
    },
    {
     "data": {
      "text/html": [
       "\n",
       "          <div style=\"display: flex; margin-bottom: 10px;\">\n",
       "            <div style=\"background-color: #C0DF1F; width: 20%; margin-right: 5px;\"></div>\n",
       "            <p style=\"font-size: 1.2em;\">Mathematik Blog</p>\n",
       "          </div>\n",
       "        "
      ],
      "text/plain": [
       "<IPython.core.display.HTML object>"
      ]
     },
     "metadata": {},
     "output_type": "display_data"
    },
    {
     "data": {
      "text/html": [
       "\n",
       "          <div style=\"display: flex; margin-bottom: 10px;\">\n",
       "            <div style=\"background-color: #1F8DDF; width: 20%; margin-right: 5px;\"></div>\n",
       "            <p style=\"font-size: 1.2em;\">Deutsch als Fremdsprache</p>\n",
       "          </div>\n",
       "        "
      ],
      "text/plain": [
       "<IPython.core.display.HTML object>"
      ]
     },
     "metadata": {},
     "output_type": "display_data"
    },
    {
     "data": {
      "text/html": [
       "\n",
       "          <div style=\"display: flex; margin-bottom: 10px;\">\n",
       "            <div style=\"background-color: #1FDF24; width: 20%; margin-right: 5px;\"></div>\n",
       "            <p style=\"font-size: 1.2em;\">Englisch</p>\n",
       "          </div>\n",
       "        "
      ],
      "text/plain": [
       "<IPython.core.display.HTML object>"
      ]
     },
     "metadata": {},
     "output_type": "display_data"
    },
    {
     "data": {
      "text/html": [
       "\n",
       "          <div style=\"display: flex; margin-bottom: 10px;\">\n",
       "            <div style=\"background-color: #571FDF; width: 20%; margin-right: 5px;\"></div>\n",
       "            <p style=\"font-size: 1.2em;\">Betriebswirtschaftslehre mit Rechnungswesen</p>\n",
       "          </div>\n",
       "        "
      ],
      "text/plain": [
       "<IPython.core.display.HTML object>"
      ]
     },
     "metadata": {},
     "output_type": "display_data"
    },
    {
     "data": {
      "text/html": [
       "\n",
       "          <div style=\"display: flex; margin-bottom: 10px;\">\n",
       "            <div style=\"background-color: #1FDFCA; width: 20%; margin-right: 5px;\"></div>\n",
       "            <p style=\"font-size: 1.2em;\">Englisch Forum</p>\n",
       "          </div>\n",
       "        "
      ],
      "text/plain": [
       "<IPython.core.display.HTML object>"
      ]
     },
     "metadata": {},
     "output_type": "display_data"
    },
    {
     "data": {
      "text/html": [
       "\n",
       "          <div style=\"display: flex; margin-bottom: 10px;\">\n",
       "            <div style=\"background-color: #81DF1F; width: 20%; margin-right: 5px;\"></div>\n",
       "            <p style=\"font-size: 1.2em;\">Deutsch als Fremdsprache Forum</p>\n",
       "          </div>\n",
       "        "
      ],
      "text/plain": [
       "<IPython.core.display.HTML object>"
      ]
     },
     "metadata": {},
     "output_type": "display_data"
    },
    {
     "data": {
      "text/html": [
       "\n",
       "          <div style=\"display: flex; margin-bottom: 10px;\">\n",
       "            <div style=\"background-color: #1F4EDF; width: 20%; margin-right: 5px;\"></div>\n",
       "            <p style=\"font-size: 1.2em;\">Latein</p>\n",
       "          </div>\n",
       "        "
      ],
      "text/plain": [
       "<IPython.core.display.HTML object>"
      ]
     },
     "metadata": {},
     "output_type": "display_data"
    },
    {
     "data": {
      "text/html": [
       "\n",
       "          <div style=\"display: flex; margin-bottom: 10px;\">\n",
       "            <div style=\"background-color: #1FDF63; width: 20%; margin-right: 5px;\"></div>\n",
       "            <p style=\"font-size: 1.2em;\">Physik</p>\n",
       "          </div>\n",
       "        "
      ],
      "text/plain": [
       "<IPython.core.display.HTML object>"
      ]
     },
     "metadata": {},
     "output_type": "display_data"
    },
    {
     "data": {
      "text/html": [
       "\n",
       "          <div style=\"display: flex; margin-bottom: 10px;\">\n",
       "            <div style=\"background-color: #DFD61F; width: 20%; margin-right: 5px;\"></div>\n",
       "            <p style=\"font-size: 1.2em;\">Physik Forum</p>\n",
       "          </div>\n",
       "        "
      ],
      "text/plain": [
       "<IPython.core.display.HTML object>"
      ]
     },
     "metadata": {},
     "output_type": "display_data"
    },
    {
     "data": {
      "text/html": [
       "\n",
       "          <div style=\"display: flex; margin-bottom: 10px;\">\n",
       "            <div style=\"background-color: #1FB4DF; width: 20%; margin-right: 5px;\"></div>\n",
       "            <p style=\"font-size: 1.2em;\">Informatik</p>\n",
       "          </div>\n",
       "        "
      ],
      "text/plain": [
       "<IPython.core.display.HTML object>"
      ]
     },
     "metadata": {},
     "output_type": "display_data"
    },
    {
     "data": {
      "text/html": [
       "\n",
       "          <div style=\"display: flex; margin-bottom: 10px;\">\n",
       "            <div style=\"background-color: #42DF1F; width: 20%; margin-right: 5px;\"></div>\n",
       "            <p style=\"font-size: 1.2em;\">Musik</p>\n",
       "          </div>\n",
       "        "
      ],
      "text/plain": [
       "<IPython.core.display.HTML object>"
      ]
     },
     "metadata": {},
     "output_type": "display_data"
    },
    {
     "data": {
      "text/html": [
       "\n",
       "          <div style=\"display: flex; margin-bottom: 10px;\">\n",
       "            <div style=\"background-color: #301FDF; width: 20%; margin-right: 5px;\"></div>\n",
       "            <p style=\"font-size: 1.2em;\">Politik</p>\n",
       "          </div>\n",
       "        "
      ],
      "text/plain": [
       "<IPython.core.display.HTML object>"
      ]
     },
     "metadata": {},
     "output_type": "display_data"
    },
    {
     "data": {
      "text/html": [
       "\n",
       "          <div style=\"display: flex; margin-bottom: 10px;\">\n",
       "            <div style=\"background-color: #1FDFA3; width: 20%; margin-right: 5px;\"></div>\n",
       "            <p style=\"font-size: 1.2em;\">Community</p>\n",
       "          </div>\n",
       "        "
      ],
      "text/plain": [
       "<IPython.core.display.HTML object>"
      ]
     },
     "metadata": {},
     "output_type": "display_data"
    },
    {
     "data": {
      "text/html": [
       "\n",
       "          <div style=\"display: flex; margin-bottom: 10px;\">\n",
       "            <div style=\"background-color: #A8DF1F; width: 20%; margin-right: 5px;\"></div>\n",
       "            <p style=\"font-size: 1.2em;\">Testbereich</p>\n",
       "          </div>\n",
       "        "
      ],
      "text/plain": [
       "<IPython.core.display.HTML object>"
      ]
     },
     "metadata": {},
     "output_type": "display_data"
    },
    {
     "data": {
      "text/html": [
       "\n",
       "          <div style=\"display: flex; margin-bottom: 10px;\">\n",
       "            <div style=\"background-color: #1F75DF; width: 20%; margin-right: 5px;\"></div>\n",
       "            <p style=\"font-size: 1.2em;\">Lerntipps</p>\n",
       "          </div>\n",
       "        "
      ],
      "text/plain": [
       "<IPython.core.display.HTML object>"
      ]
     },
     "metadata": {},
     "output_type": "display_data"
    },
    {
     "data": {
      "text/html": [
       "\n",
       "          <div style=\"display: flex; margin-bottom: 10px;\">\n",
       "            <div style=\"background-color: #1FDF3C; width: 20%; margin-right: 5px;\"></div>\n",
       "            <p style=\"font-size: 1.2em;\">Medienbildung</p>\n",
       "          </div>\n",
       "        "
      ],
      "text/plain": [
       "<IPython.core.display.HTML object>"
      ]
     },
     "metadata": {},
     "output_type": "display_data"
    },
    {
     "data": {
      "text/html": [
       "\n",
       "          <div style=\"display: flex; margin-bottom: 10px;\">\n",
       "            <div style=\"background-color: #DFAF1F; width: 20%; margin-right: 5px;\"></div>\n",
       "            <p style=\"font-size: 1.2em;\">Geographie</p>\n",
       "          </div>\n",
       "        "
      ],
      "text/plain": [
       "<IPython.core.display.HTML object>"
      ]
     },
     "metadata": {},
     "output_type": "display_data"
    },
    {
     "data": {
      "text/html": [
       "\n",
       "          <div style=\"display: flex; margin-bottom: 10px;\">\n",
       "            <div style=\"background-color: #1F4EDF; width: 20%; margin-right: 5px;\"></div>\n",
       "            <p style=\"font-size: 1.2em;\">Latein</p>\n",
       "          </div>\n",
       "        "
      ],
      "text/plain": [
       "<IPython.core.display.HTML object>"
      ]
     },
     "metadata": {},
     "output_type": "display_data"
    },
    {
     "data": {
      "text/html": [
       "\n",
       "          <div style=\"display: flex; margin-bottom: 10px;\">\n",
       "            <div style=\"background-color: #1FDBDF; width: 20%; margin-right: 5px;\"></div>\n",
       "            <p style=\"font-size: 1.2em;\">Psychologie</p>\n",
       "          </div>\n",
       "        "
      ],
      "text/plain": [
       "<IPython.core.display.HTML object>"
      ]
     },
     "metadata": {},
     "output_type": "display_data"
    },
    {
     "data": {
      "text/html": [
       "\n",
       "          <div style=\"display: flex; margin-bottom: 10px;\">\n",
       "            <div style=\"background-color: #301FDF; width: 20%; margin-right: 5px;\"></div>\n",
       "            <p style=\"font-size: 1.2em;\">Politik</p>\n",
       "          </div>\n",
       "        "
      ],
      "text/plain": [
       "<IPython.core.display.HTML object>"
      ]
     },
     "metadata": {},
     "output_type": "display_data"
    },
    {
     "data": {
      "text/html": [
       "\n",
       "          <div style=\"display: flex; margin-bottom: 10px;\">\n",
       "            <div style=\"background-color: #1FDF24; width: 20%; margin-right: 5px;\"></div>\n",
       "            <p style=\"font-size: 1.2em;\">Englisch</p>\n",
       "          </div>\n",
       "        "
      ],
      "text/plain": [
       "<IPython.core.display.HTML object>"
      ]
     },
     "metadata": {},
     "output_type": "display_data"
    },
    {
     "data": {
      "text/html": [
       "\n",
       "          <div style=\"display: flex; margin-bottom: 10px;\">\n",
       "            <div style=\"background-color: #69DF1F; width: 20%; margin-right: 5px;\"></div>\n",
       "            <p style=\"font-size: 1.2em;\">Rechnungswesen</p>\n",
       "          </div>\n",
       "        "
      ],
      "text/plain": [
       "<IPython.core.display.HTML object>"
      ]
     },
     "metadata": {},
     "output_type": "display_data"
    },
    {
     "data": {
      "text/html": [
       "\n",
       "          <div style=\"display: flex; margin-bottom: 10px;\">\n",
       "            <div style=\"background-color: #1F36DF; width: 20%; margin-right: 5px;\"></div>\n",
       "            <p style=\"font-size: 1.2em;\">Deutsch als Zweit- und Fremdsprache</p>\n",
       "          </div>\n",
       "        "
      ],
      "text/plain": [
       "<IPython.core.display.HTML object>"
      ]
     },
     "metadata": {},
     "output_type": "display_data"
    },
    {
     "data": {
      "text/html": [
       "\n",
       "          <div style=\"display: flex; margin-bottom: 10px;\">\n",
       "            <div style=\"background-color: #1FDF7C; width: 20%; margin-right: 5px;\"></div>\n",
       "            <p style=\"font-size: 1.2em;\">English for Spanish Natives</p>\n",
       "          </div>\n",
       "        "
      ],
      "text/plain": [
       "<IPython.core.display.HTML object>"
      ]
     },
     "metadata": {},
     "output_type": "display_data"
    },
    {
     "data": {
      "text/html": [
       "\n",
       "          <div style=\"display: flex; margin-bottom: 10px;\">\n",
       "            <div style=\"background-color: #CFDF1F; width: 20%; margin-right: 5px;\"></div>\n",
       "            <p style=\"font-size: 1.2em;\">Methodenkiste</p>\n",
       "          </div>\n",
       "        "
      ],
      "text/plain": [
       "<IPython.core.display.HTML object>"
      ]
     },
     "metadata": {},
     "output_type": "display_data"
    },
    {
     "data": {
      "text/html": [
       "\n",
       "          <div style=\"display: flex; margin-bottom: 10px;\">\n",
       "            <div style=\"background-color: #1F9CDF; width: 20%; margin-right: 5px;\"></div>\n",
       "            <p style=\"font-size: 1.2em;\">Recht</p>\n",
       "          </div>\n",
       "        "
      ],
      "text/plain": [
       "<IPython.core.display.HTML object>"
      ]
     },
     "metadata": {},
     "output_type": "display_data"
    },
    {
     "data": {
      "text/html": [
       "\n",
       "          <div style=\"display: flex; margin-bottom: 10px;\">\n",
       "            <div style=\"background-color: #29DF1F; width: 20%; margin-right: 5px;\"></div>\n",
       "            <p style=\"font-size: 1.2em;\">Geschichte</p>\n",
       "          </div>\n",
       "        "
      ],
      "text/plain": [
       "<IPython.core.display.HTML object>"
      ]
     },
     "metadata": {},
     "output_type": "display_data"
    },
    {
     "data": {
      "text/html": [
       "\n",
       "          <div style=\"display: flex; margin-bottom: 10px;\">\n",
       "            <div style=\"background-color: #481FDF; width: 20%; margin-right: 5px;\"></div>\n",
       "            <p style=\"font-size: 1.2em;\">Wirtschaft</p>\n",
       "          </div>\n",
       "        "
      ],
      "text/plain": [
       "<IPython.core.display.HTML object>"
      ]
     },
     "metadata": {},
     "output_type": "display_data"
    },
    {
     "data": {
      "text/html": [
       "\n",
       "          <div style=\"display: flex; margin-bottom: 10px;\">\n",
       "            <div style=\"background-color: #1FDFBB; width: 20%; margin-right: 5px;\"></div>\n",
       "            <p style=\"font-size: 1.2em;\">Pschologie</p>\n",
       "          </div>\n",
       "        "
      ],
      "text/plain": [
       "<IPython.core.display.HTML object>"
      ]
     },
     "metadata": {},
     "output_type": "display_data"
    },
    {
     "data": {
      "text/html": [
       "\n",
       "          <div style=\"display: flex; margin-bottom: 10px;\">\n",
       "            <div style=\"background-color: #42DF1F; width: 20%; margin-right: 5px;\"></div>\n",
       "            <p style=\"font-size: 1.2em;\">Musik</p>\n",
       "          </div>\n",
       "        "
      ],
      "text/plain": [
       "<IPython.core.display.HTML object>"
      ]
     },
     "metadata": {},
     "output_type": "display_data"
    },
    {
     "data": {
      "text/html": [
       "\n",
       "          <div style=\"display: flex; margin-bottom: 10px;\">\n",
       "            <div style=\"background-color: #90DF1F; width: 20%; margin-right: 5px;\"></div>\n",
       "            <p style=\"font-size: 1.2em;\">Kommunikation</p>\n",
       "          </div>\n",
       "        "
      ],
      "text/plain": [
       "<IPython.core.display.HTML object>"
      ]
     },
     "metadata": {},
     "output_type": "display_data"
    },
    {
     "data": {
      "text/html": [
       "\n",
       "          <div style=\"display: flex; margin-bottom: 10px;\">\n",
       "            <div style=\"background-color: #1F5DDF; width: 20%; margin-right: 5px;\"></div>\n",
       "            <p style=\"font-size: 1.2em;\">Spanisch</p>\n",
       "          </div>\n",
       "        "
      ],
      "text/plain": [
       "<IPython.core.display.HTML object>"
      ]
     },
     "metadata": {},
     "output_type": "display_data"
    },
    {
     "data": {
      "text/markdown": [
       "### Wie die Diagramme zur Fachzugehörigkeit aussehen würden:"
      ],
      "text/plain": [
       "<IPython.core.display.Markdown object>"
      ]
     },
     "metadata": {},
     "output_type": "display_data"
    },
    {
     "data": {
      "image/png": "[encoded data removed]",
      "text/plain": [
       "<Figure size 1080x1080 with 6 Axes>"
      ]
     },
     "metadata": {},
     "output_type": "display_data"
    }
   ],
   "source": [
    "golden_ratio_conjugate = 0.618033988749895\n",
    "\n",
    "id_of_text = dict()\n",
    "\n",
    "def new_hsl_random_func(text):\n",
    "    if text not in id_of_text:\n",
    "        id_of_text[text] = len(id_of_text)\n",
    "    \n",
    "    nr = id_of_text[text]\n",
    "    \n",
    "    h = 0.1 + golden_ratio_conjugate * nr\n",
    "    h %= 1\n",
    "    h = (h * 220 + 40) / 360 \n",
    "    \n",
    "    return Color(hls=(h, 0.5, 0.75)).hex\n",
    "\n",
    "show_results(new_hsl_random_func)"
   ]
  },
  {
   "cell_type": "code",
   "execution_count": 28,
   "id": "classical-standard",
   "metadata": {},
   "outputs": [
    {
     "data": {
      "text/plain": [
       "[<matplotlib.lines.Line2D at 0x7f6f2430a5e0>]"
      ]
     },
     "execution_count": 28,
     "metadata": {},
     "output_type": "execute_result"
    },
    {
     "data": {
      "image/png": "[encoded data removed]",
      "text/plain": [
       "<Figure size 432x288 with 1 Axes>"
      ]
     },
     "metadata": {
      "needs_background": "light"
     },
     "output_type": "display_data"
    }
   ],
   "source": [
    "import numpy as np\n",
    "\n",
    "def from_basic2(func):\n",
    "    def g(x):\n",
    "        x2 = (x-0.5)*2\n",
    "        \n",
    "        if x2 >= 0:\n",
    "            return func(x2)/2+0.5\n",
    "        else:\n",
    "            return -func(-x2)/2+0.5\n",
    "    \n",
    "    return g\n",
    "\n",
    "def from_basic(func):\n",
    "    def f(x):\n",
    "        a = 3*x\n",
    "        b = math.floor(a)/3\n",
    "        c = a - math.floor(a)\n",
    "\n",
    "        return b + func(c)/3\n",
    "    \n",
    "    return f\n",
    "\n",
    "def invert(func):\n",
    "    def f(y):\n",
    "        for x in np.linspace(0, 1, 1000):\n",
    "            if func(x) >= y:\n",
    "                return x\n",
    "            \n",
    "        return 1\n",
    "    return f\n",
    "\n",
    "n = 1.9473684210526314\n",
    "g = from_basic(from_basic2(lambda x: x ** n))\n",
    "f = invert(from_basic(from_basic2(lambda x: x ** n)))\n",
    "\n",
    "xs = np.linspace(0,1,1000)\n",
    "ys = np.vectorize(f)(xs)\n",
    "\n",
    "plt.plot(xs, ys)"
   ]
  },
  {
   "cell_type": "code",
   "execution_count": 29,
   "id": "heated-interface",
   "metadata": {
    "scrolled": false
   },
   "outputs": [
    {
     "data": {
      "text/markdown": [
       "### Welche Farben gewählt werden:"
      ],
      "text/plain": [
       "<IPython.core.display.Markdown object>"
      ]
     },
     "metadata": {},
     "output_type": "display_data"
    },
    {
     "data": {
      "text/html": [
       "\n",
       "          <div style=\"display: flex; margin-bottom: 10px;\">\n",
       "            <div style=\"background-color: #3796A0; width: 20%; margin-right: 5px;\"></div>\n",
       "            <p style=\"font-size: 1.2em;\">Mathe</p>\n",
       "          </div>\n",
       "        "
      ],
      "text/plain": [
       "<IPython.core.display.HTML object>"
      ]
     },
     "metadata": {},
     "output_type": "display_data"
    },
    {
     "data": {
      "text/html": [
       "\n",
       "          <div style=\"display: flex; margin-bottom: 10px;\">\n",
       "            <div style=\"background-color: #39DCD1; width: 20%; margin-right: 5px;\"></div>\n",
       "            <p style=\"font-size: 1.2em;\">Blog</p>\n",
       "          </div>\n",
       "        "
      ],
      "text/plain": [
       "<IPython.core.display.HTML object>"
      ]
     },
     "metadata": {},
     "output_type": "display_data"
    },
    {
     "data": {
      "text/html": [
       "\n",
       "          <div style=\"display: flex; margin-bottom: 10px;\">\n",
       "            <div style=\"background-color: #3BA0EF; width: 20%; margin-right: 5px;\"></div>\n",
       "            <p style=\"font-size: 1.2em;\">Mathematik Forum</p>\n",
       "          </div>\n",
       "        "
      ],
      "text/plain": [
       "<IPython.core.display.HTML object>"
      ]
     },
     "metadata": {},
     "output_type": "display_data"
    },
    {
     "data": {
      "text/html": [
       "\n",
       "          <div style=\"display: flex; margin-bottom: 10px;\">\n",
       "            <div style=\"background-color: #D59341; width: 20%; margin-right: 5px;\"></div>\n",
       "            <p style=\"font-size: 1.2em;\">Nachhaltigkeit</p>\n",
       "          </div>\n",
       "        "
      ],
      "text/plain": [
       "<IPython.core.display.HTML object>"
      ]
     },
     "metadata": {},
     "output_type": "display_data"
    },
    {
     "data": {
      "text/html": [
       "\n",
       "          <div style=\"display: flex; margin-bottom: 10px;\">\n",
       "            <div style=\"background-color: #C8BE7C; width: 20%; margin-right: 5px;\"></div>\n",
       "            <p style=\"font-size: 1.2em;\">Permakultur Forum</p>\n",
       "          </div>\n",
       "        "
      ],
      "text/plain": [
       "<IPython.core.display.HTML object>"
      ]
     },
     "metadata": {},
     "output_type": "display_data"
    },
    {
     "data": {
      "text/html": [
       "\n",
       "          <div style=\"display: flex; margin-bottom: 10px;\">\n",
       "            <div style=\"background-color: #86DABC; width: 20%; margin-right: 5px;\"></div>\n",
       "            <p style=\"font-size: 1.2em;\">Chemie</p>\n",
       "          </div>\n",
       "        "
      ],
      "text/plain": [
       "<IPython.core.display.HTML object>"
      ]
     },
     "metadata": {},
     "output_type": "display_data"
    },
    {
     "data": {
      "text/html": [
       "\n",
       "          <div style=\"display: flex; margin-bottom: 10px;\">\n",
       "            <div style=\"background-color: #6A3AC3; width: 20%; margin-right: 5px;\"></div>\n",
       "            <p style=\"font-size: 1.2em;\">Chemie Forum</p>\n",
       "          </div>\n",
       "        "
      ],
      "text/plain": [
       "<IPython.core.display.HTML object>"
      ]
     },
     "metadata": {},
     "output_type": "display_data"
    },
    {
     "data": {
      "text/html": [
       "\n",
       "          <div style=\"display: flex; margin-bottom: 10px;\">\n",
       "            <div style=\"background-color: #DACC8C; width: 20%; margin-right: 5px;\"></div>\n",
       "            <p style=\"font-size: 1.2em;\">Nutzerprofile, Hilfe, Community und Allgemeines</p>\n",
       "          </div>\n",
       "        "
      ],
      "text/plain": [
       "<IPython.core.display.HTML object>"
      ]
     },
     "metadata": {},
     "output_type": "display_data"
    },
    {
     "data": {
      "text/html": [
       "\n",
       "          <div style=\"display: flex; margin-bottom: 10px;\">\n",
       "            <div style=\"background-color: #4452D8; width: 20%; margin-right: 5px;\"></div>\n",
       "            <p style=\"font-size: 1.2em;\">Communityseiten - faecheruebergreifend</p>\n",
       "          </div>\n",
       "        "
      ],
      "text/plain": [
       "<IPython.core.display.HTML object>"
      ]
     },
     "metadata": {},
     "output_type": "display_data"
    },
    {
     "data": {
      "text/html": [
       "\n",
       "          <div style=\"display: flex; margin-bottom: 10px;\">\n",
       "            <div style=\"background-color: #7079E8; width: 20%; margin-right: 5px;\"></div>\n",
       "            <p style=\"font-size: 1.2em;\">Biologie</p>\n",
       "          </div>\n",
       "        "
      ],
      "text/plain": [
       "<IPython.core.display.HTML object>"
      ]
     },
     "metadata": {},
     "output_type": "display_data"
    },
    {
     "data": {
      "text/html": [
       "\n",
       "          <div style=\"display: flex; margin-bottom: 10px;\">\n",
       "            <div style=\"background-color: #309F32; width: 20%; margin-right: 5px;\"></div>\n",
       "            <p style=\"font-size: 1.2em;\">Biologie Forum</p>\n",
       "          </div>\n",
       "        "
      ],
      "text/plain": [
       "<IPython.core.display.HTML object>"
      ]
     },
     "metadata": {},
     "output_type": "display_data"
    },
    {
     "data": {
      "text/html": [
       "\n",
       "          <div style=\"display: flex; margin-bottom: 10px;\">\n",
       "            <div style=\"background-color: #6982E0; width: 20%; margin-right: 5px;\"></div>\n",
       "            <p style=\"font-size: 1.2em;\">Mathematik Forum - test</p>\n",
       "          </div>\n",
       "        "
      ],
      "text/plain": [
       "<IPython.core.display.HTML object>"
      ]
     },
     "metadata": {},
     "output_type": "display_data"
    },
    {
     "data": {
      "text/html": [
       "\n",
       "          <div style=\"display: flex; margin-bottom: 10px;\">\n",
       "            <div style=\"background-color: #8ACDC9; width: 20%; margin-right: 5px;\"></div>\n",
       "            <p style=\"font-size: 1.2em;\">dev:blog</p>\n",
       "          </div>\n",
       "        "
      ],
      "text/plain": [
       "<IPython.core.display.HTML object>"
      ]
     },
     "metadata": {},
     "output_type": "display_data"
    },
    {
     "data": {
      "text/html": [
       "\n",
       "          <div style=\"display: flex; margin-bottom: 10px;\">\n",
       "            <div style=\"background-color: #A0F1F1; width: 20%; margin-right: 5px;\"></div>\n",
       "            <p style=\"font-size: 1.2em;\">Mathematik Blog</p>\n",
       "          </div>\n",
       "        "
      ],
      "text/plain": [
       "<IPython.core.display.HTML object>"
      ]
     },
     "metadata": {},
     "output_type": "display_data"
    },
    {
     "data": {
      "text/html": [
       "\n",
       "          <div style=\"display: flex; margin-bottom: 10px;\">\n",
       "            <div style=\"background-color: #1A45E5; width: 20%; margin-right: 5px;\"></div>\n",
       "            <p style=\"font-size: 1.2em;\">Deutsch als Fremdsprache</p>\n",
       "          </div>\n",
       "        "
      ],
      "text/plain": [
       "<IPython.core.display.HTML object>"
      ]
     },
     "metadata": {},
     "output_type": "display_data"
    },
    {
     "data": {
      "text/html": [
       "\n",
       "          <div style=\"display: flex; margin-bottom: 10px;\">\n",
       "            <div style=\"background-color: #ECD882; width: 20%; margin-right: 5px;\"></div>\n",
       "            <p style=\"font-size: 1.2em;\">Englisch</p>\n",
       "          </div>\n",
       "        "
      ],
      "text/plain": [
       "<IPython.core.display.HTML object>"
      ]
     },
     "metadata": {},
     "output_type": "display_data"
    },
    {
     "data": {
      "text/html": [
       "\n",
       "          <div style=\"display: flex; margin-bottom: 10px;\">\n",
       "            <div style=\"background-color: #EFE541; width: 20%; margin-right: 5px;\"></div>\n",
       "            <p style=\"font-size: 1.2em;\">Betriebswirtschaftslehre mit Rechnungswesen</p>\n",
       "          </div>\n",
       "        "
      ],
      "text/plain": [
       "<IPython.core.display.HTML object>"
      ]
     },
     "metadata": {},
     "output_type": "display_data"
    },
    {
     "data": {
      "text/html": [
       "\n",
       "          <div style=\"display: flex; margin-bottom: 10px;\">\n",
       "            <div style=\"background-color: #F3F094; width: 20%; margin-right: 5px;\"></div>\n",
       "            <p style=\"font-size: 1.2em;\">Englisch Forum</p>\n",
       "          </div>\n",
       "        "
      ],
      "text/plain": [
       "<IPython.core.display.HTML object>"
      ]
     },
     "metadata": {},
     "output_type": "display_data"
    },
    {
     "data": {
      "text/html": [
       "\n",
       "          <div style=\"display: flex; margin-bottom: 10px;\">\n",
       "            <div style=\"background-color: #83CCCD; width: 20%; margin-right: 5px;\"></div>\n",
       "            <p style=\"font-size: 1.2em;\">Deutsch als Fremdsprache Forum</p>\n",
       "          </div>\n",
       "        "
      ],
      "text/plain": [
       "<IPython.core.display.HTML object>"
      ]
     },
     "metadata": {},
     "output_type": "display_data"
    },
    {
     "data": {
      "text/html": [
       "\n",
       "          <div style=\"display: flex; margin-bottom: 10px;\">\n",
       "            <div style=\"background-color: #20DACD; width: 20%; margin-right: 5px;\"></div>\n",
       "            <p style=\"font-size: 1.2em;\">Latein</p>\n",
       "          </div>\n",
       "        "
      ],
      "text/plain": [
       "<IPython.core.display.HTML object>"
      ]
     },
     "metadata": {},
     "output_type": "display_data"
    },
    {
     "data": {
      "text/html": [
       "\n",
       "          <div style=\"display: flex; margin-bottom: 10px;\">\n",
       "            <div style=\"background-color: #6769F2; width: 20%; margin-right: 5px;\"></div>\n",
       "            <p style=\"font-size: 1.2em;\">Physik</p>\n",
       "          </div>\n",
       "        "
      ],
      "text/plain": [
       "<IPython.core.display.HTML object>"
      ]
     },
     "metadata": {},
     "output_type": "display_data"
    },
    {
     "data": {
      "text/html": [
       "\n",
       "          <div style=\"display: flex; margin-bottom: 10px;\">\n",
       "            <div style=\"background-color: #D47D42; width: 20%; margin-right: 5px;\"></div>\n",
       "            <p style=\"font-size: 1.2em;\">Physik Forum</p>\n",
       "          </div>\n",
       "        "
      ],
      "text/plain": [
       "<IPython.core.display.HTML object>"
      ]
     },
     "metadata": {},
     "output_type": "display_data"
    },
    {
     "data": {
      "text/html": [
       "\n",
       "          <div style=\"display: flex; margin-bottom: 10px;\">\n",
       "            <div style=\"background-color: #F0F237; width: 20%; margin-right: 5px;\"></div>\n",
       "            <p style=\"font-size: 1.2em;\">Informatik</p>\n",
       "          </div>\n",
       "        "
      ],
      "text/plain": [
       "<IPython.core.display.HTML object>"
      ]
     },
     "metadata": {},
     "output_type": "display_data"
    },
    {
     "data": {
      "text/html": [
       "\n",
       "          <div style=\"display: flex; margin-bottom: 10px;\">\n",
       "            <div style=\"background-color: #3D59A2; width: 20%; margin-right: 5px;\"></div>\n",
       "            <p style=\"font-size: 1.2em;\">Musik</p>\n",
       "          </div>\n",
       "        "
      ],
      "text/plain": [
       "<IPython.core.display.HTML object>"
      ]
     },
     "metadata": {},
     "output_type": "display_data"
    },
    {
     "data": {
      "text/html": [
       "\n",
       "          <div style=\"display: flex; margin-bottom: 10px;\">\n",
       "            <div style=\"background-color: #CC9137; width: 20%; margin-right: 5px;\"></div>\n",
       "            <p style=\"font-size: 1.2em;\">Politik</p>\n",
       "          </div>\n",
       "        "
      ],
      "text/plain": [
       "<IPython.core.display.HTML object>"
      ]
     },
     "metadata": {},
     "output_type": "display_data"
    },
    {
     "data": {
      "text/html": [
       "\n",
       "          <div style=\"display: flex; margin-bottom: 10px;\">\n",
       "            <div style=\"background-color: #B4B351; width: 20%; margin-right: 5px;\"></div>\n",
       "            <p style=\"font-size: 1.2em;\">Community</p>\n",
       "          </div>\n",
       "        "
      ],
      "text/plain": [
       "<IPython.core.display.HTML object>"
      ]
     },
     "metadata": {},
     "output_type": "display_data"
    },
    {
     "data": {
      "text/html": [
       "\n",
       "          <div style=\"display: flex; margin-bottom: 10px;\">\n",
       "            <div style=\"background-color: #73E8E2; width: 20%; margin-right: 5px;\"></div>\n",
       "            <p style=\"font-size: 1.2em;\">Testbereich</p>\n",
       "          </div>\n",
       "        "
      ],
      "text/plain": [
       "<IPython.core.display.HTML object>"
      ]
     },
     "metadata": {},
     "output_type": "display_data"
    },
    {
     "data": {
      "text/html": [
       "\n",
       "          <div style=\"display: flex; margin-bottom: 10px;\">\n",
       "            <div style=\"background-color: #F4C094; width: 20%; margin-right: 5px;\"></div>\n",
       "            <p style=\"font-size: 1.2em;\">Lerntipps</p>\n",
       "          </div>\n",
       "        "
      ],
      "text/plain": [
       "<IPython.core.display.HTML object>"
      ]
     },
     "metadata": {},
     "output_type": "display_data"
    },
    {
     "data": {
      "text/html": [
       "\n",
       "          <div style=\"display: flex; margin-bottom: 10px;\">\n",
       "            <div style=\"background-color: #5FB5BA; width: 20%; margin-right: 5px;\"></div>\n",
       "            <p style=\"font-size: 1.2em;\">Medienbildung</p>\n",
       "          </div>\n",
       "        "
      ],
      "text/plain": [
       "<IPython.core.display.HTML object>"
      ]
     },
     "metadata": {},
     "output_type": "display_data"
    },
    {
     "data": {
      "text/html": [
       "\n",
       "          <div style=\"display: flex; margin-bottom: 10px;\">\n",
       "            <div style=\"background-color: #82D89D; width: 20%; margin-right: 5px;\"></div>\n",
       "            <p style=\"font-size: 1.2em;\">Geographie</p>\n",
       "          </div>\n",
       "        "
      ],
      "text/plain": [
       "<IPython.core.display.HTML object>"
      ]
     },
     "metadata": {},
     "output_type": "display_data"
    },
    {
     "data": {
      "text/html": [
       "\n",
       "          <div style=\"display: flex; margin-bottom: 10px;\">\n",
       "            <div style=\"background-color: #20DACD; width: 20%; margin-right: 5px;\"></div>\n",
       "            <p style=\"font-size: 1.2em;\">Latein</p>\n",
       "          </div>\n",
       "        "
      ],
      "text/plain": [
       "<IPython.core.display.HTML object>"
      ]
     },
     "metadata": {},
     "output_type": "display_data"
    },
    {
     "data": {
      "text/html": [
       "\n",
       "          <div style=\"display: flex; margin-bottom: 10px;\">\n",
       "            <div style=\"background-color: #E5EA98; width: 20%; margin-right: 5px;\"></div>\n",
       "            <p style=\"font-size: 1.2em;\">Psychologie</p>\n",
       "          </div>\n",
       "        "
      ],
      "text/plain": [
       "<IPython.core.display.HTML object>"
      ]
     },
     "metadata": {},
     "output_type": "display_data"
    },
    {
     "data": {
      "text/html": [
       "\n",
       "          <div style=\"display: flex; margin-bottom: 10px;\">\n",
       "            <div style=\"background-color: #CC9137; width: 20%; margin-right: 5px;\"></div>\n",
       "            <p style=\"font-size: 1.2em;\">Politik</p>\n",
       "          </div>\n",
       "        "
      ],
      "text/plain": [
       "<IPython.core.display.HTML object>"
      ]
     },
     "metadata": {},
     "output_type": "display_data"
    },
    {
     "data": {
      "text/html": [
       "\n",
       "          <div style=\"display: flex; margin-bottom: 10px;\">\n",
       "            <div style=\"background-color: #ECD882; width: 20%; margin-right: 5px;\"></div>\n",
       "            <p style=\"font-size: 1.2em;\">Englisch</p>\n",
       "          </div>\n",
       "        "
      ],
      "text/plain": [
       "<IPython.core.display.HTML object>"
      ]
     },
     "metadata": {},
     "output_type": "display_data"
    },
    {
     "data": {
      "text/html": [
       "\n",
       "          <div style=\"display: flex; margin-bottom: 10px;\">\n",
       "            <div style=\"background-color: #3ECAA5; width: 20%; margin-right: 5px;\"></div>\n",
       "            <p style=\"font-size: 1.2em;\">Rechnungswesen</p>\n",
       "          </div>\n",
       "        "
      ],
      "text/plain": [
       "<IPython.core.display.HTML object>"
      ]
     },
     "metadata": {},
     "output_type": "display_data"
    },
    {
     "data": {
      "text/html": [
       "\n",
       "          <div style=\"display: flex; margin-bottom: 10px;\">\n",
       "            <div style=\"background-color: #3DB2CF; width: 20%; margin-right: 5px;\"></div>\n",
       "            <p style=\"font-size: 1.2em;\">Deutsch als Zweit- und Fremdsprache</p>\n",
       "          </div>\n",
       "        "
      ],
      "text/plain": [
       "<IPython.core.display.HTML object>"
      ]
     },
     "metadata": {},
     "output_type": "display_data"
    },
    {
     "data": {
      "text/html": [
       "\n",
       "          <div style=\"display: flex; margin-bottom: 10px;\">\n",
       "            <div style=\"background-color: #3CA8A7; width: 20%; margin-right: 5px;\"></div>\n",
       "            <p style=\"font-size: 1.2em;\">English for Spanish Natives</p>\n",
       "          </div>\n",
       "        "
      ],
      "text/plain": [
       "<IPython.core.display.HTML object>"
      ]
     },
     "metadata": {},
     "output_type": "display_data"
    },
    {
     "data": {
      "text/html": [
       "\n",
       "          <div style=\"display: flex; margin-bottom: 10px;\">\n",
       "            <div style=\"background-color: #7AEEED; width: 20%; margin-right: 5px;\"></div>\n",
       "            <p style=\"font-size: 1.2em;\">Methodenkiste</p>\n",
       "          </div>\n",
       "        "
      ],
      "text/plain": [
       "<IPython.core.display.HTML object>"
      ]
     },
     "metadata": {},
     "output_type": "display_data"
    },
    {
     "data": {
      "text/html": [
       "\n",
       "          <div style=\"display: flex; margin-bottom: 10px;\">\n",
       "            <div style=\"background-color: #F2B46E; width: 20%; margin-right: 5px;\"></div>\n",
       "            <p style=\"font-size: 1.2em;\">Recht</p>\n",
       "          </div>\n",
       "        "
      ],
      "text/plain": [
       "<IPython.core.display.HTML object>"
      ]
     },
     "metadata": {},
     "output_type": "display_data"
    },
    {
     "data": {
      "text/html": [
       "\n",
       "          <div style=\"display: flex; margin-bottom: 10px;\">\n",
       "            <div style=\"background-color: #33D0D3; width: 20%; margin-right: 5px;\"></div>\n",
       "            <p style=\"font-size: 1.2em;\">Geschichte</p>\n",
       "          </div>\n",
       "        "
      ],
      "text/plain": [
       "<IPython.core.display.HTML object>"
      ]
     },
     "metadata": {},
     "output_type": "display_data"
    },
    {
     "data": {
      "text/html": [
       "\n",
       "          <div style=\"display: flex; margin-bottom: 10px;\">\n",
       "            <div style=\"background-color: #A4CDEF; width: 20%; margin-right: 5px;\"></div>\n",
       "            <p style=\"font-size: 1.2em;\">Wirtschaft</p>\n",
       "          </div>\n",
       "        "
      ],
      "text/plain": [
       "<IPython.core.display.HTML object>"
      ]
     },
     "metadata": {},
     "output_type": "display_data"
    },
    {
     "data": {
      "text/html": [
       "\n",
       "          <div style=\"display: flex; margin-bottom: 10px;\">\n",
       "            <div style=\"background-color: #6BC5EA; width: 20%; margin-right: 5px;\"></div>\n",
       "            <p style=\"font-size: 1.2em;\">Pschologie</p>\n",
       "          </div>\n",
       "        "
      ],
      "text/plain": [
       "<IPython.core.display.HTML object>"
      ]
     },
     "metadata": {},
     "output_type": "display_data"
    },
    {
     "data": {
      "text/html": [
       "\n",
       "          <div style=\"display: flex; margin-bottom: 10px;\">\n",
       "            <div style=\"background-color: #3D59A2; width: 20%; margin-right: 5px;\"></div>\n",
       "            <p style=\"font-size: 1.2em;\">Musik</p>\n",
       "          </div>\n",
       "        "
      ],
      "text/plain": [
       "<IPython.core.display.HTML object>"
      ]
     },
     "metadata": {},
     "output_type": "display_data"
    },
    {
     "data": {
      "text/html": [
       "\n",
       "          <div style=\"display: flex; margin-bottom: 10px;\">\n",
       "            <div style=\"background-color: #5DD9E0; width: 20%; margin-right: 5px;\"></div>\n",
       "            <p style=\"font-size: 1.2em;\">Kommunikation</p>\n",
       "          </div>\n",
       "        "
      ],
      "text/plain": [
       "<IPython.core.display.HTML object>"
      ]
     },
     "metadata": {},
     "output_type": "display_data"
    },
    {
     "data": {
      "text/html": [
       "\n",
       "          <div style=\"display: flex; margin-bottom: 10px;\">\n",
       "            <div style=\"background-color: #1124D1; width: 20%; margin-right: 5px;\"></div>\n",
       "            <p style=\"font-size: 1.2em;\">Spanisch</p>\n",
       "          </div>\n",
       "        "
      ],
      "text/plain": [
       "<IPython.core.display.HTML object>"
      ]
     },
     "metadata": {},
     "output_type": "display_data"
    },
    {
     "data": {
      "text/markdown": [
       "### Wie die Diagramme zur Fachzugehörigkeit aussehen würden:"
      ],
      "text/plain": [
       "<IPython.core.display.Markdown object>"
      ]
     },
     "metadata": {},
     "output_type": "display_data"
    },
    {
     "data": {
      "image/png": "[encoded data removed]",
      "text/plain": [
       "<Figure size 1080x1080 with 6 Axes>"
      ]
     },
     "metadata": {},
     "output_type": "display_data"
    }
   ],
   "source": [
    "def text_to_random_hsv3(text):\n",
    "    random = text_to_random(text)\n",
    "    \n",
    "    h = g(random.uniform(f(20/360), f(270/360)))\n",
    "    l = random.uniform(0.4,0.8)\n",
    "    s = random.uniform(0.4,0.9)\n",
    "    \n",
    "    return Color(hls=(h, l, s)).hex\n",
    "\n",
    "show_results(text_to_random_hsv3)"
   ]
  },
  {
   "cell_type": "code",
   "execution_count": 23,
   "id": "suffering-broad",
   "metadata": {
    "scrolled": false
   },
   "outputs": [
    {
     "data": {
      "text/markdown": [
       "### Welche Farben gewählt werden:"
      ],
      "text/plain": [
       "<IPython.core.display.Markdown object>"
      ]
     },
     "metadata": {},
     "output_type": "display_data"
    },
    {
     "data": {
      "text/html": [
       "\n",
       "          <div style=\"display: flex; margin-bottom: 10px;\">\n",
       "            <div style=\"background-color: #DFB81F; width: 20%; margin-right: 5px;\"></div>\n",
       "            <p style=\"font-size: 1.2em;\">Mathe</p>\n",
       "          </div>\n",
       "        "
      ],
      "text/plain": [
       "<IPython.core.display.HTML object>"
      ]
     },
     "metadata": {},
     "output_type": "display_data"
    },
    {
     "data": {
      "text/html": [
       "\n",
       "          <div style=\"display: flex; margin-bottom: 10px;\">\n",
       "            <div style=\"background-color: #1F55DF; width: 20%; margin-right: 5px;\"></div>\n",
       "            <p style=\"font-size: 1.2em;\">Blog</p>\n",
       "          </div>\n",
       "        "
      ],
      "text/plain": [
       "<IPython.core.display.HTML object>"
      ]
     },
     "metadata": {},
     "output_type": "display_data"
    },
    {
     "data": {
      "text/html": [
       "\n",
       "          <div style=\"display: flex; margin-bottom: 10px;\">\n",
       "            <div style=\"background-color: #25DF1F; width: 20%; margin-right: 5px;\"></div>\n",
       "            <p style=\"font-size: 1.2em;\">Mathematik Forum</p>\n",
       "          </div>\n",
       "        "
      ],
      "text/plain": [
       "<IPython.core.display.HTML object>"
      ]
     },
     "metadata": {},
     "output_type": "display_data"
    },
    {
     "data": {
      "text/html": [
       "\n",
       "          <div style=\"display: flex; margin-bottom: 10px;\">\n",
       "            <div style=\"background-color: #601FDF; width: 20%; margin-right: 5px;\"></div>\n",
       "            <p style=\"font-size: 1.2em;\">Nachhaltigkeit</p>\n",
       "          </div>\n",
       "        "
      ],
      "text/plain": [
       "<IPython.core.display.HTML object>"
      ]
     },
     "metadata": {},
     "output_type": "display_data"
    },
    {
     "data": {
      "text/html": [
       "\n",
       "          <div style=\"display: flex; margin-bottom: 10px;\">\n",
       "            <div style=\"background-color: #1FDFB1; width: 20%; margin-right: 5px;\"></div>\n",
       "            <p style=\"font-size: 1.2em;\">Permakultur Forum</p>\n",
       "          </div>\n",
       "        "
      ],
      "text/plain": [
       "<IPython.core.display.HTML object>"
      ]
     },
     "metadata": {},
     "output_type": "display_data"
    },
    {
     "data": {
      "text/html": [
       "\n",
       "          <div style=\"display: flex; margin-bottom: 10px;\">\n",
       "            <div style=\"background-color: #77DF1F; width: 20%; margin-right: 5px;\"></div>\n",
       "            <p style=\"font-size: 1.2em;\">Chemie</p>\n",
       "          </div>\n",
       "        "
      ],
      "text/plain": [
       "<IPython.core.display.HTML object>"
      ]
     },
     "metadata": {},
     "output_type": "display_data"
    },
    {
     "data": {
      "text/html": [
       "\n",
       "          <div style=\"display: flex; margin-bottom: 10px;\">\n",
       "            <div style=\"background-color: #1F27DF; width: 20%; margin-right: 5px;\"></div>\n",
       "            <p style=\"font-size: 1.2em;\">Chemie Forum</p>\n",
       "          </div>\n",
       "        "
      ],
      "text/plain": [
       "<IPython.core.display.HTML object>"
      ]
     },
     "metadata": {},
     "output_type": "display_data"
    },
    {
     "data": {
      "text/html": [
       "\n",
       "          <div style=\"display: flex; margin-bottom: 10px;\">\n",
       "            <div style=\"background-color: #1FDF43; width: 20%; margin-right: 5px;\"></div>\n",
       "            <p style=\"font-size: 1.2em;\">Nutzerprofile, Hilfe, Community und Allgemeines</p>\n",
       "          </div>\n",
       "        "
      ],
      "text/plain": [
       "<IPython.core.display.HTML object>"
      ]
     },
     "metadata": {},
     "output_type": "display_data"
    },
    {
     "data": {
      "text/html": [
       "\n",
       "          <div style=\"display: flex; margin-bottom: 10px;\">\n",
       "            <div style=\"background-color: #DF7E1F; width: 20%; margin-right: 5px;\"></div>\n",
       "            <p style=\"font-size: 1.2em;\">Communityseiten - faecheruebergreifend</p>\n",
       "          </div>\n",
       "        "
      ],
      "text/plain": [
       "<IPython.core.display.HTML object>"
      ]
     },
     "metadata": {},
     "output_type": "display_data"
    },
    {
     "data": {
      "text/html": [
       "\n",
       "          <div style=\"display: flex; margin-bottom: 10px;\">\n",
       "            <div style=\"background-color: #1F7ADF; width: 20%; margin-right: 5px;\"></div>\n",
       "            <p style=\"font-size: 1.2em;\">Biologie</p>\n",
       "          </div>\n",
       "        "
      ],
      "text/plain": [
       "<IPython.core.display.HTML object>"
      ]
     },
     "metadata": {},
     "output_type": "display_data"
    },
    {
     "data": {
      "text/html": [
       "\n",
       "          <div style=\"display: flex; margin-bottom: 10px;\">\n",
       "            <div style=\"background-color: #41DF1F; width: 20%; margin-right: 5px;\"></div>\n",
       "            <p style=\"font-size: 1.2em;\">Biologie Forum</p>\n",
       "          </div>\n",
       "        "
      ],
      "text/plain": [
       "<IPython.core.display.HTML object>"
      ]
     },
     "metadata": {},
     "output_type": "display_data"
    },
    {
     "data": {
      "text/html": [
       "\n",
       "          <div style=\"display: flex; margin-bottom: 10px;\">\n",
       "            <div style=\"background-color: #411FDF; width: 20%; margin-right: 5px;\"></div>\n",
       "            <p style=\"font-size: 1.2em;\">Mathematik Forum - test</p>\n",
       "          </div>\n",
       "        "
      ],
      "text/plain": [
       "<IPython.core.display.HTML object>"
      ]
     },
     "metadata": {},
     "output_type": "display_data"
    },
    {
     "data": {
      "text/html": [
       "\n",
       "          <div style=\"display: flex; margin-bottom: 10px;\">\n",
       "            <div style=\"background-color: #1FDF7A; width: 20%; margin-right: 5px;\"></div>\n",
       "            <p style=\"font-size: 1.2em;\">dev:blog</p>\n",
       "          </div>\n",
       "        "
      ],
      "text/plain": [
       "<IPython.core.display.HTML object>"
      ]
     },
     "metadata": {},
     "output_type": "display_data"
    },
    {
     "data": {
      "text/html": [
       "\n",
       "          <div style=\"display: flex; margin-bottom: 10px;\">\n",
       "            <div style=\"background-color: #AADF1F; width: 20%; margin-right: 5px;\"></div>\n",
       "            <p style=\"font-size: 1.2em;\">Mathematik Blog</p>\n",
       "          </div>\n",
       "        "
      ],
      "text/plain": [
       "<IPython.core.display.HTML object>"
      ]
     },
     "metadata": {},
     "output_type": "display_data"
    },
    {
     "data": {
      "text/html": [
       "\n",
       "          <div style=\"display: flex; margin-bottom: 10px;\">\n",
       "            <div style=\"background-color: #1F43DF; width: 20%; margin-right: 5px;\"></div>\n",
       "            <p style=\"font-size: 1.2em;\">Deutsch als Fremdsprache</p>\n",
       "          </div>\n",
       "        "
      ],
      "text/plain": [
       "<IPython.core.display.HTML object>"
      ]
     },
     "metadata": {},
     "output_type": "display_data"
    },
    {
     "data": {
      "text/html": [
       "\n",
       "          <div style=\"display: flex; margin-bottom: 10px;\">\n",
       "            <div style=\"background-color: #1FDF29; width: 20%; margin-right: 5px;\"></div>\n",
       "            <p style=\"font-size: 1.2em;\">Englisch</p>\n",
       "          </div>\n",
       "        "
      ],
      "text/plain": [
       "<IPython.core.display.HTML object>"
      ]
     },
     "metadata": {},
     "output_type": "display_data"
    },
    {
     "data": {
      "text/html": [
       "\n",
       "          <div style=\"display: flex; margin-bottom: 10px;\">\n",
       "            <div style=\"background-color: #771FDF; width: 20%; margin-right: 5px;\"></div>\n",
       "            <p style=\"font-size: 1.2em;\">Betriebswirtschaftslehre mit Rechnungswesen</p>\n",
       "          </div>\n",
       "        "
      ],
      "text/plain": [
       "<IPython.core.display.HTML object>"
      ]
     },
     "metadata": {},
     "output_type": "display_data"
    },
    {
     "data": {
      "text/html": [
       "\n",
       "          <div style=\"display: flex; margin-bottom: 10px;\">\n",
       "            <div style=\"background-color: #1FB0DF; width: 20%; margin-right: 5px;\"></div>\n",
       "            <p style=\"font-size: 1.2em;\">Englisch Forum</p>\n",
       "          </div>\n",
       "        "
      ],
      "text/plain": [
       "<IPython.core.display.HTML object>"
      ]
     },
     "metadata": {},
     "output_type": "display_data"
    },
    {
     "data": {
      "text/html": [
       "\n",
       "          <div style=\"display: flex; margin-bottom: 10px;\">\n",
       "            <div style=\"background-color: #60DF1F; width: 20%; margin-right: 5px;\"></div>\n",
       "            <p style=\"font-size: 1.2em;\">Deutsch als Fremdsprache Forum</p>\n",
       "          </div>\n",
       "        "
      ],
      "text/plain": [
       "<IPython.core.display.HTML object>"
      ]
     },
     "metadata": {},
     "output_type": "display_data"
    },
    {
     "data": {
      "text/html": [
       "\n",
       "          <div style=\"display: flex; margin-bottom: 10px;\">\n",
       "            <div style=\"background-color: #261FDF; width: 20%; margin-right: 5px;\"></div>\n",
       "            <p style=\"font-size: 1.2em;\">Latein</p>\n",
       "          </div>\n",
       "        "
      ],
      "text/plain": [
       "<IPython.core.display.HTML object>"
      ]
     },
     "metadata": {},
     "output_type": "display_data"
    },
    {
     "data": {
      "text/html": [
       "\n",
       "          <div style=\"display: flex; margin-bottom: 10px;\">\n",
       "            <div style=\"background-color: #1FDF57; width: 20%; margin-right: 5px;\"></div>\n",
       "            <p style=\"font-size: 1.2em;\">Physik</p>\n",
       "          </div>\n",
       "        "
      ],
      "text/plain": [
       "<IPython.core.display.HTML object>"
      ]
     },
     "metadata": {},
     "output_type": "display_data"
    },
    {
     "data": {
      "text/html": [
       "\n",
       "          <div style=\"display: flex; margin-bottom: 10px;\">\n",
       "            <div style=\"background-color: #DF9D1F; width: 20%; margin-right: 5px;\"></div>\n",
       "            <p style=\"font-size: 1.2em;\">Physik Forum</p>\n",
       "          </div>\n",
       "        "
      ],
      "text/plain": [
       "<IPython.core.display.HTML object>"
      ]
     },
     "metadata": {},
     "output_type": "display_data"
    },
    {
     "data": {
      "text/html": [
       "\n",
       "          <div style=\"display: flex; margin-bottom: 10px;\">\n",
       "            <div style=\"background-color: #1F62DF; width: 20%; margin-right: 5px;\"></div>\n",
       "            <p style=\"font-size: 1.2em;\">Informatik</p>\n",
       "          </div>\n",
       "        "
      ],
      "text/plain": [
       "<IPython.core.display.HTML object>"
      ]
     },
     "metadata": {},
     "output_type": "display_data"
    },
    {
     "data": {
      "text/html": [
       "\n",
       "          <div style=\"display: flex; margin-bottom: 10px;\">\n",
       "            <div style=\"background-color: #2FDF1F; width: 20%; margin-right: 5px;\"></div>\n",
       "            <p style=\"font-size: 1.2em;\">Musik</p>\n",
       "          </div>\n",
       "        "
      ],
      "text/plain": [
       "<IPython.core.display.HTML object>"
      ]
     },
     "metadata": {},
     "output_type": "display_data"
    },
    {
     "data": {
      "text/html": [
       "\n",
       "          <div style=\"display: flex; margin-bottom: 10px;\">\n",
       "            <div style=\"background-color: #531FDF; width: 20%; margin-right: 5px;\"></div>\n",
       "            <p style=\"font-size: 1.2em;\">Politik</p>\n",
       "          </div>\n",
       "        "
      ],
      "text/plain": [
       "<IPython.core.display.HTML object>"
      ]
     },
     "metadata": {},
     "output_type": "display_data"
    },
    {
     "data": {
      "text/html": [
       "\n",
       "          <div style=\"display: flex; margin-bottom: 10px;\">\n",
       "            <div style=\"background-color: #1FDF98; width: 20%; margin-right: 5px;\"></div>\n",
       "            <p style=\"font-size: 1.2em;\">Community</p>\n",
       "          </div>\n",
       "        "
      ],
      "text/plain": [
       "<IPython.core.display.HTML object>"
      ]
     },
     "metadata": {},
     "output_type": "display_data"
    },
    {
     "data": {
      "text/html": [
       "\n",
       "          <div style=\"display: flex; margin-bottom: 10px;\">\n",
       "            <div style=\"background-color: #87DF1F; width: 20%; margin-right: 5px;\"></div>\n",
       "            <p style=\"font-size: 1.2em;\">Testbereich</p>\n",
       "          </div>\n",
       "        "
      ],
      "text/plain": [
       "<IPython.core.display.HTML object>"
      ]
     },
     "metadata": {},
     "output_type": "display_data"
    },
    {
     "data": {
      "text/html": [
       "\n",
       "          <div style=\"display: flex; margin-bottom: 10px;\">\n",
       "            <div style=\"background-color: #1F32DF; width: 20%; margin-right: 5px;\"></div>\n",
       "            <p style=\"font-size: 1.2em;\">Lerntipps</p>\n",
       "          </div>\n",
       "        "
      ],
      "text/plain": [
       "<IPython.core.display.HTML object>"
      ]
     },
     "metadata": {},
     "output_type": "display_data"
    },
    {
     "data": {
      "text/html": [
       "\n",
       "          <div style=\"display: flex; margin-bottom: 10px;\">\n",
       "            <div style=\"background-color: #1FDF39; width: 20%; margin-right: 5px;\"></div>\n",
       "            <p style=\"font-size: 1.2em;\">Medienbildung</p>\n",
       "          </div>\n",
       "        "
      ],
      "text/plain": [
       "<IPython.core.display.HTML object>"
      ]
     },
     "metadata": {},
     "output_type": "display_data"
    },
    {
     "data": {
      "text/html": [
       "\n",
       "          <div style=\"display: flex; margin-bottom: 10px;\">\n",
       "            <div style=\"background-color: #DF6F1F; width: 20%; margin-right: 5px;\"></div>\n",
       "            <p style=\"font-size: 1.2em;\">Geographie</p>\n",
       "          </div>\n",
       "        "
      ],
      "text/plain": [
       "<IPython.core.display.HTML object>"
      ]
     },
     "metadata": {},
     "output_type": "display_data"
    },
    {
     "data": {
      "text/html": [
       "\n",
       "          <div style=\"display: flex; margin-bottom: 10px;\">\n",
       "            <div style=\"background-color: #261FDF; width: 20%; margin-right: 5px;\"></div>\n",
       "            <p style=\"font-size: 1.2em;\">Latein</p>\n",
       "          </div>\n",
       "        "
      ],
      "text/plain": [
       "<IPython.core.display.HTML object>"
      ]
     },
     "metadata": {},
     "output_type": "display_data"
    },
    {
     "data": {
      "text/html": [
       "\n",
       "          <div style=\"display: flex; margin-bottom: 10px;\">\n",
       "            <div style=\"background-color: #1F8BDF; width: 20%; margin-right: 5px;\"></div>\n",
       "            <p style=\"font-size: 1.2em;\">Psychologie</p>\n",
       "          </div>\n",
       "        "
      ],
      "text/plain": [
       "<IPython.core.display.HTML object>"
      ]
     },
     "metadata": {},
     "output_type": "display_data"
    },
    {
     "data": {
      "text/html": [
       "\n",
       "          <div style=\"display: flex; margin-bottom: 10px;\">\n",
       "            <div style=\"background-color: #531FDF; width: 20%; margin-right: 5px;\"></div>\n",
       "            <p style=\"font-size: 1.2em;\">Politik</p>\n",
       "          </div>\n",
       "        "
      ],
      "text/plain": [
       "<IPython.core.display.HTML object>"
      ]
     },
     "metadata": {},
     "output_type": "display_data"
    },
    {
     "data": {
      "text/html": [
       "\n",
       "          <div style=\"display: flex; margin-bottom: 10px;\">\n",
       "            <div style=\"background-color: #1FDF29; width: 20%; margin-right: 5px;\"></div>\n",
       "            <p style=\"font-size: 1.2em;\">Englisch</p>\n",
       "          </div>\n",
       "        "
      ],
      "text/plain": [
       "<IPython.core.display.HTML object>"
      ]
     },
     "metadata": {},
     "output_type": "display_data"
    },
    {
     "data": {
      "text/html": [
       "\n",
       "          <div style=\"display: flex; margin-bottom: 10px;\">\n",
       "            <div style=\"background-color: #4BDF1F; width: 20%; margin-right: 5px;\"></div>\n",
       "            <p style=\"font-size: 1.2em;\">Rechnungswesen</p>\n",
       "          </div>\n",
       "        "
      ],
      "text/plain": [
       "<IPython.core.display.HTML object>"
      ]
     },
     "metadata": {},
     "output_type": "display_data"
    },
    {
     "data": {
      "text/html": [
       "\n",
       "          <div style=\"display: flex; margin-bottom: 10px;\">\n",
       "            <div style=\"background-color: #361FDF; width: 20%; margin-right: 5px;\"></div>\n",
       "            <p style=\"font-size: 1.2em;\">Deutsch als Zweit- und Fremdsprache</p>\n",
       "          </div>\n",
       "        "
      ],
      "text/plain": [
       "<IPython.core.display.HTML object>"
      ]
     },
     "metadata": {},
     "output_type": "display_data"
    },
    {
     "data": {
      "text/html": [
       "\n",
       "          <div style=\"display: flex; margin-bottom: 10px;\">\n",
       "            <div style=\"background-color: #1FDF6B; width: 20%; margin-right: 5px;\"></div>\n",
       "            <p style=\"font-size: 1.2em;\">English for Spanish Natives</p>\n",
       "          </div>\n",
       "        "
      ],
      "text/plain": [
       "<IPython.core.display.HTML object>"
      ]
     },
     "metadata": {},
     "output_type": "display_data"
    },
    {
     "data": {
      "text/html": [
       "\n",
       "          <div style=\"display: flex; margin-bottom: 10px;\">\n",
       "            <div style=\"background-color: #D9DF1F; width: 20%; margin-right: 5px;\"></div>\n",
       "            <p style=\"font-size: 1.2em;\">Methodenkiste</p>\n",
       "          </div>\n",
       "        "
      ],
      "text/plain": [
       "<IPython.core.display.HTML object>"
      ]
     },
     "metadata": {},
     "output_type": "display_data"
    },
    {
     "data": {
      "text/html": [
       "\n",
       "          <div style=\"display: flex; margin-bottom: 10px;\">\n",
       "            <div style=\"background-color: #1F4EDF; width: 20%; margin-right: 5px;\"></div>\n",
       "            <p style=\"font-size: 1.2em;\">Recht</p>\n",
       "          </div>\n",
       "        "
      ],
      "text/plain": [
       "<IPython.core.display.HTML object>"
      ]
     },
     "metadata": {},
     "output_type": "display_data"
    },
    {
     "data": {
      "text/html": [
       "\n",
       "          <div style=\"display: flex; margin-bottom: 10px;\">\n",
       "            <div style=\"background-color: #1FDF1F; width: 20%; margin-right: 5px;\"></div>\n",
       "            <p style=\"font-size: 1.2em;\">Geschichte</p>\n",
       "          </div>\n",
       "        "
      ],
      "text/plain": [
       "<IPython.core.display.HTML object>"
      ]
     },
     "metadata": {},
     "output_type": "display_data"
    },
    {
     "data": {
      "text/html": [
       "\n",
       "          <div style=\"display: flex; margin-bottom: 10px;\">\n",
       "            <div style=\"background-color: #691FDF; width: 20%; margin-right: 5px;\"></div>\n",
       "            <p style=\"font-size: 1.2em;\">Wirtschaft</p>\n",
       "          </div>\n",
       "        "
      ],
      "text/plain": [
       "<IPython.core.display.HTML object>"
      ]
     },
     "metadata": {},
     "output_type": "display_data"
    },
    {
     "data": {
      "text/html": [
       "\n",
       "          <div style=\"display: flex; margin-bottom: 10px;\">\n",
       "            <div style=\"background-color: #1FDFC9; width: 20%; margin-right: 5px;\"></div>\n",
       "            <p style=\"font-size: 1.2em;\">Pschologie</p>\n",
       "          </div>\n",
       "        "
      ],
      "text/plain": [
       "<IPython.core.display.HTML object>"
      ]
     },
     "metadata": {},
     "output_type": "display_data"
    },
    {
     "data": {
      "text/html": [
       "\n",
       "          <div style=\"display: flex; margin-bottom: 10px;\">\n",
       "            <div style=\"background-color: #2FDF1F; width: 20%; margin-right: 5px;\"></div>\n",
       "            <p style=\"font-size: 1.2em;\">Musik</p>\n",
       "          </div>\n",
       "        "
      ],
      "text/plain": [
       "<IPython.core.display.HTML object>"
      ]
     },
     "metadata": {},
     "output_type": "display_data"
    },
    {
     "data": {
      "text/html": [
       "\n",
       "          <div style=\"display: flex; margin-bottom: 10px;\">\n",
       "            <div style=\"background-color: #6DDF1F; width: 20%; margin-right: 5px;\"></div>\n",
       "            <p style=\"font-size: 1.2em;\">Kommunikation</p>\n",
       "          </div>\n",
       "        "
      ],
      "text/plain": [
       "<IPython.core.display.HTML object>"
      ]
     },
     "metadata": {},
     "output_type": "display_data"
    },
    {
     "data": {
      "text/html": [
       "\n",
       "          <div style=\"display: flex; margin-bottom: 10px;\">\n",
       "            <div style=\"background-color: #1F22DF; width: 20%; margin-right: 5px;\"></div>\n",
       "            <p style=\"font-size: 1.2em;\">Spanisch</p>\n",
       "          </div>\n",
       "        "
      ],
      "text/plain": [
       "<IPython.core.display.HTML object>"
      ]
     },
     "metadata": {},
     "output_type": "display_data"
    },
    {
     "data": {
      "text/markdown": [
       "### Wie die Diagramme zur Fachzugehörigkeit aussehen würden:"
      ],
      "text/plain": [
       "<IPython.core.display.Markdown object>"
      ]
     },
     "metadata": {},
     "output_type": "display_data"
    },
    {
     "data": {
      "image/png": "[encoded data removed]",
      "text/plain": [
       "<Figure size 1080x1080 with 6 Axes>"
      ]
     },
     "metadata": {},
     "output_type": "display_data"
    }
   ],
   "source": [
    "golden_ratio_conjugate = 0.618033988749895\n",
    "\n",
    "id_of_text = dict()\n",
    "\n",
    "def new_hsl_random_func(text):\n",
    "    if text not in id_of_text:\n",
    "        id_of_text[text] = len(id_of_text)\n",
    "    \n",
    "    nr = id_of_text[text]\n",
    "    \n",
    "    a = g(20/360)\n",
    "    b = g(270/360)\n",
    "    h = 0.1 + golden_ratio_conjugate * nr\n",
    "    h %= 1\n",
    "    h = f(h * (b-a) + a)\n",
    "    \n",
    "    return Color(hls=(h, 0.5, 0.75)).hex\n",
    "\n",
    "show_results(new_hsl_random_func)"
   ]
  }
 ],
 "metadata": {
  "kernelspec": {
   "display_name": "Python 3",
   "language": "python",
   "name": "python3"
  },
  "language_info": {
   "codemirror_mode": {
    "name": "ipython",
    "version": 3
   },
   "file_extension": ".py",
   "mimetype": "text/x-python",
   "name": "python",
   "nbconvert_exporter": "python",
   "pygments_lexer": "ipython3",
   "version": "3.9.1"
  }
 },
 "nbformat": 4,
 "nbformat_minor": 5
}
