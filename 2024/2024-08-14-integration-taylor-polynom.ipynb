{
 "cells": [
  {
   "cell_type": "code",
   "execution_count": 1,
   "id": "f7e8640d-c528-4ef4-8f6b-d0f0521f379b",
   "metadata": {},
   "outputs": [],
   "source": [
    "import sympy as sp"
   ]
  },
  {
   "cell_type": "code",
   "execution_count": 8,
   "id": "0f1cc3c1-9e6e-4d86-be8c-172ebb34a606",
   "metadata": {},
   "outputs": [],
   "source": [
    "a = sp.symbols(\"a\")"
   ]
  },
  {
   "cell_type": "code",
   "execution_count": 7,
   "id": "371560d7-0deb-45a3-aa09-b2472cfbd80f",
   "metadata": {},
   "outputs": [],
   "source": [
    "x = sp.symbols('x')"
   ]
  },
  {
   "cell_type": "code",
   "execution_count": 12,
   "id": "b03d86c7-3aa5-4c6b-92ad-117733b2adbd",
   "metadata": {},
   "outputs": [
    {
     "name": "stdout",
     "output_type": "stream",
     "text": [
      "sin(x)\n",
      "1 - cos(a)\n",
      "a*(1 - cos(a))\n",
      "a**2*(1 - cos(a))\n",
      "a**3*(1 - cos(a))\n",
      "a**4*(1 - cos(a))\n",
      "a**5*(1 - cos(a))\n",
      "a**6*(1 - cos(a))\n",
      "a**7*(1 - cos(a))\n",
      "a**8*(1 - cos(a))\n"
     ]
    }
   ],
   "source": [
    "f = sp.sin(x)\n",
    "\n",
    "for i in range(0,10):\n",
    "    print(f)\n",
    "    f = sp.integrate(f, (x, 0, a))"
   ]
  },
  {
   "cell_type": "code",
   "execution_count": null,
   "id": "32dde9f3-fc8e-46dd-b813-c5164e3ad72e",
   "metadata": {},
   "outputs": [],
   "source": []
  }
 ],
 "metadata": {
  "kernelspec": {
   "display_name": "Python 3",
   "language": "python",
   "name": "python3"
  },
  "language_info": {
   "codemirror_mode": {
    "name": "ipython",
    "version": 3
   },
   "file_extension": ".py",
   "mimetype": "text/x-python",
   "name": "python",
   "nbconvert_exporter": "python",
   "pygments_lexer": "ipython3",
   "version": "3.9.1"
  }
 },
 "nbformat": 4,
 "nbformat_minor": 5
}
