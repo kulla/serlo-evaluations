{
 "cells": [
  {
   "cell_type": "markdown",
   "id": "strong-voluntary",
   "metadata": {},
   "source": [
    "# Serlo Keywords"
   ]
  },
  {
   "cell_type": "code",
   "execution_count": 69,
   "id": "smoking-contractor",
   "metadata": {
    "scrolled": false
   },
   "outputs": [
    {
     "data": {
      "text/html": [
       "<div>\n",
       "<style scoped>\n",
       "    .dataframe tbody tr th:only-of-type {\n",
       "        vertical-align: middle;\n",
       "    }\n",
       "\n",
       "    .dataframe tbody tr th {\n",
       "        vertical-align: top;\n",
       "    }\n",
       "\n",
       "    .dataframe thead th {\n",
       "        text-align: right;\n",
       "    }\n",
       "</style>\n",
       "<table border=\"1\" class=\"dataframe\">\n",
       "  <thead>\n",
       "    <tr style=\"text-align: right;\">\n",
       "      <th></th>\n",
       "      <th>title</th>\n",
       "      <th>keyword</th>\n",
       "      <th>uuid</th>\n",
       "      <th>subject</th>\n",
       "      <th>language</th>\n",
       "      <th>scope</th>\n",
       "    </tr>\n",
       "  </thead>\n",
       "  <tbody>\n",
       "    <tr>\n",
       "      <th>0</th>\n",
       "      <td>Addition</td>\n",
       "      <td>addition</td>\n",
       "      <td>1495</td>\n",
       "      <td>Mathe</td>\n",
       "      <td>de</td>\n",
       "      <td>schule</td>\n",
       "    </tr>\n",
       "    <tr>\n",
       "      <th>17</th>\n",
       "      <td>Binomische Formeln</td>\n",
       "      <td>binomische formeln</td>\n",
       "      <td>1499</td>\n",
       "      <td>Mathe</td>\n",
       "      <td>de</td>\n",
       "      <td>schule</td>\n",
       "    </tr>\n",
       "    <tr>\n",
       "      <th>29</th>\n",
       "      <td>Ergebnismenge</td>\n",
       "      <td>ergebnismenge</td>\n",
       "      <td>1501</td>\n",
       "      <td>Mathe</td>\n",
       "      <td>de</td>\n",
       "      <td>schule</td>\n",
       "    </tr>\n",
       "    <tr>\n",
       "      <th>45</th>\n",
       "      <td>Relative Häufigkeit</td>\n",
       "      <td>relative häufigkeit</td>\n",
       "      <td>1503</td>\n",
       "      <td>Mathe</td>\n",
       "      <td>de</td>\n",
       "      <td>schule</td>\n",
       "    </tr>\n",
       "    <tr>\n",
       "      <th>63</th>\n",
       "      <td>Ereignis</td>\n",
       "      <td>ereignis</td>\n",
       "      <td>1505</td>\n",
       "      <td>Mathe</td>\n",
       "      <td>de</td>\n",
       "      <td>schule</td>\n",
       "    </tr>\n",
       "    <tr>\n",
       "      <th>75</th>\n",
       "      <td>Subtraktion</td>\n",
       "      <td>subtraktion</td>\n",
       "      <td>1507</td>\n",
       "      <td>Mathe</td>\n",
       "      <td>de</td>\n",
       "      <td>schule</td>\n",
       "    </tr>\n",
       "    <tr>\n",
       "      <th>95</th>\n",
       "      <td>Wurzel</td>\n",
       "      <td>wurzel</td>\n",
       "      <td>1511</td>\n",
       "      <td>Mathe</td>\n",
       "      <td>de</td>\n",
       "      <td>schule</td>\n",
       "    </tr>\n",
       "    <tr>\n",
       "      <th>113</th>\n",
       "      <td>Diskriminante</td>\n",
       "      <td>diskriminante</td>\n",
       "      <td>1513</td>\n",
       "      <td>Mathe</td>\n",
       "      <td>de</td>\n",
       "      <td>schule</td>\n",
       "    </tr>\n",
       "    <tr>\n",
       "      <th>123</th>\n",
       "      <td>Satz des Pythagoras</td>\n",
       "      <td>satz pythagoras</td>\n",
       "      <td>1515</td>\n",
       "      <td>Mathe</td>\n",
       "      <td>de</td>\n",
       "      <td>schule</td>\n",
       "    </tr>\n",
       "    <tr>\n",
       "      <th>137</th>\n",
       "      <td>Geometrie</td>\n",
       "      <td>geometrie</td>\n",
       "      <td>1519</td>\n",
       "      <td>Mathe</td>\n",
       "      <td>de</td>\n",
       "      <td>schule</td>\n",
       "    </tr>\n",
       "    <tr>\n",
       "      <th>138</th>\n",
       "      <td>Stochastik</td>\n",
       "      <td>stochastik</td>\n",
       "      <td>1521</td>\n",
       "      <td>Mathe</td>\n",
       "      <td>de</td>\n",
       "      <td>schule</td>\n",
       "    </tr>\n",
       "    <tr>\n",
       "      <th>140</th>\n",
       "      <td>Polstelle</td>\n",
       "      <td>polstelle</td>\n",
       "      <td>1523</td>\n",
       "      <td>Mathe</td>\n",
       "      <td>de</td>\n",
       "      <td>schule</td>\n",
       "    </tr>\n",
       "    <tr>\n",
       "      <th>150</th>\n",
       "      <td>Klammern ausmultiplizieren</td>\n",
       "      <td>klammern ausmultiplizieren</td>\n",
       "      <td>1525</td>\n",
       "      <td>Mathe</td>\n",
       "      <td>de</td>\n",
       "      <td>schule</td>\n",
       "    </tr>\n",
       "    <tr>\n",
       "      <th>166</th>\n",
       "      <td>Brüche multiplizieren</td>\n",
       "      <td>brüche multiplizieren</td>\n",
       "      <td>1527</td>\n",
       "      <td>Mathe</td>\n",
       "      <td>de</td>\n",
       "      <td>schule</td>\n",
       "    </tr>\n",
       "    <tr>\n",
       "      <th>174</th>\n",
       "      <td>Hebbare Definitionslücke</td>\n",
       "      <td>hebbare definitionslücke</td>\n",
       "      <td>1529</td>\n",
       "      <td>Mathe</td>\n",
       "      <td>de</td>\n",
       "      <td>schule</td>\n",
       "    </tr>\n",
       "    <tr>\n",
       "      <th>182</th>\n",
       "      <td>Nullstellen berechnen</td>\n",
       "      <td>nullstellen berechnen</td>\n",
       "      <td>1531</td>\n",
       "      <td>Mathe</td>\n",
       "      <td>de</td>\n",
       "      <td>schule</td>\n",
       "    </tr>\n",
       "    <tr>\n",
       "      <th>196</th>\n",
       "      <td>Polynomdivision</td>\n",
       "      <td>polynomdivision</td>\n",
       "      <td>1533</td>\n",
       "      <td>Mathe</td>\n",
       "      <td>de</td>\n",
       "      <td>schule</td>\n",
       "    </tr>\n",
       "    <tr>\n",
       "      <th>206</th>\n",
       "      <td>Steigung und Steigungswinkel</td>\n",
       "      <td>steigung steigungswinkel</td>\n",
       "      <td>1535</td>\n",
       "      <td>Mathe</td>\n",
       "      <td>de</td>\n",
       "      <td>schule</td>\n",
       "    </tr>\n",
       "    <tr>\n",
       "      <th>218</th>\n",
       "      <td>Koordinatensystem</td>\n",
       "      <td>koordinatensystem</td>\n",
       "      <td>1537</td>\n",
       "      <td>Mathe</td>\n",
       "      <td>de</td>\n",
       "      <td>schule</td>\n",
       "    </tr>\n",
       "    <tr>\n",
       "      <th>228</th>\n",
       "      <td>Winkelhalbierende</td>\n",
       "      <td>winkelhalbierende</td>\n",
       "      <td>1539</td>\n",
       "      <td>Mathe</td>\n",
       "      <td>de</td>\n",
       "      <td>schule</td>\n",
       "    </tr>\n",
       "    <tr>\n",
       "      <th>238</th>\n",
       "      <td>Hypotenuse</td>\n",
       "      <td>hypotenuse</td>\n",
       "      <td>1541</td>\n",
       "      <td>Mathe</td>\n",
       "      <td>de</td>\n",
       "      <td>schule</td>\n",
       "    </tr>\n",
       "    <tr>\n",
       "      <th>264</th>\n",
       "      <td>Kathete</td>\n",
       "      <td>kathete</td>\n",
       "      <td>1543</td>\n",
       "      <td>Mathe</td>\n",
       "      <td>de</td>\n",
       "      <td>schule</td>\n",
       "    </tr>\n",
       "    <tr>\n",
       "      <th>277</th>\n",
       "      <td>Brüche potenzieren</td>\n",
       "      <td>brüche potenzieren</td>\n",
       "      <td>1545</td>\n",
       "      <td>Mathe</td>\n",
       "      <td>de</td>\n",
       "      <td>schule</td>\n",
       "    </tr>\n",
       "    <tr>\n",
       "      <th>287</th>\n",
       "      <td>Quersumme</td>\n",
       "      <td>quersumme</td>\n",
       "      <td>1547</td>\n",
       "      <td>Mathe</td>\n",
       "      <td>de</td>\n",
       "      <td>schule</td>\n",
       "    </tr>\n",
       "    <tr>\n",
       "      <th>297</th>\n",
       "      <td>Mitternachtsformel</td>\n",
       "      <td>mitternachtsformel</td>\n",
       "      <td>1549</td>\n",
       "      <td>Mathe</td>\n",
       "      <td>de</td>\n",
       "      <td>schule</td>\n",
       "    </tr>\n",
       "    <tr>\n",
       "      <th>305</th>\n",
       "      <td>Rechnen mit Logarithmus</td>\n",
       "      <td>rechnen logarithmus</td>\n",
       "      <td>1551</td>\n",
       "      <td>Mathe</td>\n",
       "      <td>de</td>\n",
       "      <td>schule</td>\n",
       "    </tr>\n",
       "    <tr>\n",
       "      <th>319</th>\n",
       "      <td>Berechnungen am Kreis</td>\n",
       "      <td>berechnungen kreis</td>\n",
       "      <td>1553</td>\n",
       "      <td>Mathe</td>\n",
       "      <td>de</td>\n",
       "      <td>schule</td>\n",
       "    </tr>\n",
       "    <tr>\n",
       "      <th>333</th>\n",
       "      <td>Zylinder</td>\n",
       "      <td>zylinder</td>\n",
       "      <td>1555</td>\n",
       "      <td>Mathe</td>\n",
       "      <td>de</td>\n",
       "      <td>schule</td>\n",
       "    </tr>\n",
       "    <tr>\n",
       "      <th>351</th>\n",
       "      <td>Radius</td>\n",
       "      <td>radius</td>\n",
       "      <td>1557</td>\n",
       "      <td>Mathe</td>\n",
       "      <td>de</td>\n",
       "      <td>schule</td>\n",
       "    </tr>\n",
       "    <tr>\n",
       "      <th>365</th>\n",
       "      <td>Mantellinie</td>\n",
       "      <td>mantellinie</td>\n",
       "      <td>1559</td>\n",
       "      <td>Mathe</td>\n",
       "      <td>de</td>\n",
       "      <td>schule</td>\n",
       "    </tr>\n",
       "    <tr>\n",
       "      <th>371</th>\n",
       "      <td>Kegel</td>\n",
       "      <td>kegel</td>\n",
       "      <td>1561</td>\n",
       "      <td>Mathe</td>\n",
       "      <td>de</td>\n",
       "      <td>schule</td>\n",
       "    </tr>\n",
       "    <tr>\n",
       "      <th>383</th>\n",
       "      <td>Kugel</td>\n",
       "      <td>kugel</td>\n",
       "      <td>1563</td>\n",
       "      <td>Mathe</td>\n",
       "      <td>de</td>\n",
       "      <td>schule</td>\n",
       "    </tr>\n",
       "    <tr>\n",
       "      <th>423</th>\n",
       "      <td>Stammfunktion finden</td>\n",
       "      <td>stammfunktion finden</td>\n",
       "      <td>1571</td>\n",
       "      <td>Mathe</td>\n",
       "      <td>de</td>\n",
       "      <td>schule</td>\n",
       "    </tr>\n",
       "    <tr>\n",
       "      <th>427</th>\n",
       "      <td>Vektor</td>\n",
       "      <td>vektor</td>\n",
       "      <td>1573</td>\n",
       "      <td>Mathe</td>\n",
       "      <td>de</td>\n",
       "      <td>schule</td>\n",
       "    </tr>\n",
       "    <tr>\n",
       "      <th>441</th>\n",
       "      <td>Definitionsbereich einer Funktion</td>\n",
       "      <td>definitionsbereich funktion</td>\n",
       "      <td>1575</td>\n",
       "      <td>Mathe</td>\n",
       "      <td>de</td>\n",
       "      <td>schule</td>\n",
       "    </tr>\n",
       "    <tr>\n",
       "      <th>459</th>\n",
       "      <td>Kurvendiskussion</td>\n",
       "      <td>kurvendiskussion</td>\n",
       "      <td>1577</td>\n",
       "      <td>Mathe</td>\n",
       "      <td>de</td>\n",
       "      <td>schule</td>\n",
       "    </tr>\n",
       "    <tr>\n",
       "      <th>469</th>\n",
       "      <td>Extremum</td>\n",
       "      <td>extremum</td>\n",
       "      <td>1579</td>\n",
       "      <td>Mathe</td>\n",
       "      <td>de</td>\n",
       "      <td>schule</td>\n",
       "    </tr>\n",
       "    <tr>\n",
       "      <th>481</th>\n",
       "      <td>Gaußverfahren</td>\n",
       "      <td>gaußverfahren</td>\n",
       "      <td>1581</td>\n",
       "      <td>Mathe</td>\n",
       "      <td>de</td>\n",
       "      <td>schule</td>\n",
       "    </tr>\n",
       "    <tr>\n",
       "      <th>491</th>\n",
       "      <td>Was ist eine Funktion?</td>\n",
       "      <td>funktion</td>\n",
       "      <td>1583</td>\n",
       "      <td>Mathe</td>\n",
       "      <td>de</td>\n",
       "      <td>schule</td>\n",
       "    </tr>\n",
       "    <tr>\n",
       "      <th>527</th>\n",
       "      <td>Binomialverteilung</td>\n",
       "      <td>binomialverteilung</td>\n",
       "      <td>1587</td>\n",
       "      <td>Mathe</td>\n",
       "      <td>de</td>\n",
       "      <td>schule</td>\n",
       "    </tr>\n",
       "    <tr>\n",
       "      <th>533</th>\n",
       "      <td>Mächtigkeit</td>\n",
       "      <td>mächtigkeit</td>\n",
       "      <td>1589</td>\n",
       "      <td>Mathe</td>\n",
       "      <td>de</td>\n",
       "      <td>schule</td>\n",
       "    </tr>\n",
       "    <tr>\n",
       "      <th>547</th>\n",
       "      <td>Erwartungswert</td>\n",
       "      <td>erwartungswert</td>\n",
       "      <td>1591</td>\n",
       "      <td>Mathe</td>\n",
       "      <td>de</td>\n",
       "      <td>schule</td>\n",
       "    </tr>\n",
       "    <tr>\n",
       "      <th>553</th>\n",
       "      <td>Varianz</td>\n",
       "      <td>varianz</td>\n",
       "      <td>1593</td>\n",
       "      <td>Mathe</td>\n",
       "      <td>de</td>\n",
       "      <td>schule</td>\n",
       "    </tr>\n",
       "    <tr>\n",
       "      <th>559</th>\n",
       "      <td>Integral</td>\n",
       "      <td>integral</td>\n",
       "      <td>1595</td>\n",
       "      <td>Mathe</td>\n",
       "      <td>de</td>\n",
       "      <td>schule</td>\n",
       "    </tr>\n",
       "    <tr>\n",
       "      <th>565</th>\n",
       "      <td>Stetigkeit</td>\n",
       "      <td>stetigkeit</td>\n",
       "      <td>1597</td>\n",
       "      <td>Mathe</td>\n",
       "      <td>de</td>\n",
       "      <td>schule</td>\n",
       "    </tr>\n",
       "    <tr>\n",
       "      <th>573</th>\n",
       "      <td>Grenzwertbetrachtung</td>\n",
       "      <td>grenzwertbetrachtung</td>\n",
       "      <td>1599</td>\n",
       "      <td>Mathe</td>\n",
       "      <td>de</td>\n",
       "      <td>schule</td>\n",
       "    </tr>\n",
       "    <tr>\n",
       "      <th>589</th>\n",
       "      <td>Umrechnen von Einheiten</td>\n",
       "      <td>umrechnen einheiten</td>\n",
       "      <td>1603</td>\n",
       "      <td>Mathe</td>\n",
       "      <td>de</td>\n",
       "      <td>schule</td>\n",
       "    </tr>\n",
       "    <tr>\n",
       "      <th>594</th>\n",
       "      <td>Die wichtigsten Umrechnungswerte - Lernen mit ...</td>\n",
       "      <td>wichtigsten umrechnungswerte</td>\n",
       "      <td>1603</td>\n",
       "      <td>Mathe</td>\n",
       "      <td>de</td>\n",
       "      <td>schule</td>\n",
       "    </tr>\n",
       "    <tr>\n",
       "      <th>599</th>\n",
       "      <td>Faktorisieren</td>\n",
       "      <td>faktorisieren</td>\n",
       "      <td>1605</td>\n",
       "      <td>Mathe</td>\n",
       "      <td>de</td>\n",
       "      <td>schule</td>\n",
       "    </tr>\n",
       "    <tr>\n",
       "      <th>604</th>\n",
       "      <td>Satz von Vieta</td>\n",
       "      <td>satz vieta</td>\n",
       "      <td>1607</td>\n",
       "      <td>Mathe</td>\n",
       "      <td>de</td>\n",
       "      <td>schule</td>\n",
       "    </tr>\n",
       "    <tr>\n",
       "      <th>612</th>\n",
       "      <td>Schnittmenge</td>\n",
       "      <td>schnittmenge</td>\n",
       "      <td>1609</td>\n",
       "      <td>Mathe</td>\n",
       "      <td>de</td>\n",
       "      <td>schule</td>\n",
       "    </tr>\n",
       "    <tr>\n",
       "      <th>618</th>\n",
       "      <td>Parameter und Koeffizient</td>\n",
       "      <td>parameter koeffizient</td>\n",
       "      <td>1611</td>\n",
       "      <td>Mathe</td>\n",
       "      <td>de</td>\n",
       "      <td>schule</td>\n",
       "    </tr>\n",
       "    <tr>\n",
       "      <th>620</th>\n",
       "      <td>Funktionenschar</td>\n",
       "      <td>funktionenschar</td>\n",
       "      <td>1613</td>\n",
       "      <td>Mathe</td>\n",
       "      <td>de</td>\n",
       "      <td>schule</td>\n",
       "    </tr>\n",
       "    <tr>\n",
       "      <th>646</th>\n",
       "      <td>Quadratische Funktion</td>\n",
       "      <td>quadratische funktion</td>\n",
       "      <td>1621</td>\n",
       "      <td>Mathe</td>\n",
       "      <td>de</td>\n",
       "      <td>schule</td>\n",
       "    </tr>\n",
       "    <tr>\n",
       "      <th>660</th>\n",
       "      <td>Polynom</td>\n",
       "      <td>polynom</td>\n",
       "      <td>1623</td>\n",
       "      <td>Mathe</td>\n",
       "      <td>de</td>\n",
       "      <td>schule</td>\n",
       "    </tr>\n",
       "    <tr>\n",
       "      <th>664</th>\n",
       "      <td>Polynome</td>\n",
       "      <td>polynome</td>\n",
       "      <td>1623</td>\n",
       "      <td>Mathe</td>\n",
       "      <td>de</td>\n",
       "      <td>schule</td>\n",
       "    </tr>\n",
       "    <tr>\n",
       "      <th>668</th>\n",
       "      <td>Prisma</td>\n",
       "      <td>prisma</td>\n",
       "      <td>1625</td>\n",
       "      <td>Mathe</td>\n",
       "      <td>de</td>\n",
       "      <td>schule</td>\n",
       "    </tr>\n",
       "    <tr>\n",
       "      <th>688</th>\n",
       "      <td>Prozent</td>\n",
       "      <td>prozent</td>\n",
       "      <td>1627</td>\n",
       "      <td>Mathe</td>\n",
       "      <td>de</td>\n",
       "      <td>schule</td>\n",
       "    </tr>\n",
       "    <tr>\n",
       "      <th>698</th>\n",
       "      <td>Pyramide</td>\n",
       "      <td>pyramide</td>\n",
       "      <td>1629</td>\n",
       "      <td>Mathe</td>\n",
       "      <td>de</td>\n",
       "      <td>schule</td>\n",
       "    </tr>\n",
       "    <tr>\n",
       "      <th>710</th>\n",
       "      <td>Quadratische Ergänzung</td>\n",
       "      <td>quadratische ergänzung</td>\n",
       "      <td>1631</td>\n",
       "      <td>Mathe</td>\n",
       "      <td>de</td>\n",
       "      <td>schule</td>\n",
       "    </tr>\n",
       "    <tr>\n",
       "      <th>724</th>\n",
       "      <td>Division</td>\n",
       "      <td>division</td>\n",
       "      <td>1633</td>\n",
       "      <td>Mathe</td>\n",
       "      <td>de</td>\n",
       "      <td>schule</td>\n",
       "    </tr>\n",
       "    <tr>\n",
       "      <th>736</th>\n",
       "      <td>Standardabweichung</td>\n",
       "      <td>standardabweichung</td>\n",
       "      <td>1635</td>\n",
       "      <td>Mathe</td>\n",
       "      <td>de</td>\n",
       "      <td>schule</td>\n",
       "    </tr>\n",
       "    <tr>\n",
       "      <th>739</th>\n",
       "      <td>Sekante</td>\n",
       "      <td>sekante</td>\n",
       "      <td>1637</td>\n",
       "      <td>Mathe</td>\n",
       "      <td>de</td>\n",
       "      <td>schule</td>\n",
       "    </tr>\n",
       "    <tr>\n",
       "      <th>740</th>\n",
       "      <td>Multiplikation</td>\n",
       "      <td>multiplikation</td>\n",
       "      <td>1639</td>\n",
       "      <td>Mathe</td>\n",
       "      <td>de</td>\n",
       "      <td>schule</td>\n",
       "    </tr>\n",
       "    <tr>\n",
       "      <th>752</th>\n",
       "      <td>Analysis</td>\n",
       "      <td>analysis</td>\n",
       "      <td>1641</td>\n",
       "      <td>Mathe</td>\n",
       "      <td>de</td>\n",
       "      <td>schule</td>\n",
       "    </tr>\n",
       "    <tr>\n",
       "      <th>753</th>\n",
       "      <td>Betrag</td>\n",
       "      <td>betrag</td>\n",
       "      <td>1643</td>\n",
       "      <td>Mathe</td>\n",
       "      <td>de</td>\n",
       "      <td>schule</td>\n",
       "    </tr>\n",
       "    <tr>\n",
       "      <th>755</th>\n",
       "      <td>Symmetrie</td>\n",
       "      <td>symmetrie</td>\n",
       "      <td>1645</td>\n",
       "      <td>Mathe</td>\n",
       "      <td>de</td>\n",
       "      <td>schule</td>\n",
       "    </tr>\n",
       "    <tr>\n",
       "      <th>763</th>\n",
       "      <td>Tangente an Kreis</td>\n",
       "      <td>tangente kreis</td>\n",
       "      <td>1647</td>\n",
       "      <td>Mathe</td>\n",
       "      <td>de</td>\n",
       "      <td>schule</td>\n",
       "    </tr>\n",
       "    <tr>\n",
       "      <th>764</th>\n",
       "      <td>Krümmungsverhalten eines Funktionsgraphen</td>\n",
       "      <td>krümmungsverhalten funktionsgraphen</td>\n",
       "      <td>1649</td>\n",
       "      <td>Mathe</td>\n",
       "      <td>de</td>\n",
       "      <td>schule</td>\n",
       "    </tr>\n",
       "    <tr>\n",
       "      <th>770</th>\n",
       "      <td>Differenzierbarkeit</td>\n",
       "      <td>differenzierbarkeit</td>\n",
       "      <td>1651</td>\n",
       "      <td>Mathe</td>\n",
       "      <td>de</td>\n",
       "      <td>schule</td>\n",
       "    </tr>\n",
       "    <tr>\n",
       "      <th>780</th>\n",
       "      <td>Wendepunkt und Terrassenpunkt</td>\n",
       "      <td>wendepunkt terrassenpunkt</td>\n",
       "      <td>1653</td>\n",
       "      <td>Mathe</td>\n",
       "      <td>de</td>\n",
       "      <td>schule</td>\n",
       "    </tr>\n",
       "    <tr>\n",
       "      <th>786</th>\n",
       "      <td>Wertemenge</td>\n",
       "      <td>wertemenge</td>\n",
       "      <td>1655</td>\n",
       "      <td>Mathe</td>\n",
       "      <td>de</td>\n",
       "      <td>schule</td>\n",
       "    </tr>\n",
       "    <tr>\n",
       "      <th>802</th>\n",
       "      <td>Brüche</td>\n",
       "      <td>brüche</td>\n",
       "      <td>1657</td>\n",
       "      <td>Mathe</td>\n",
       "      <td>de</td>\n",
       "      <td>schule</td>\n",
       "    </tr>\n",
       "    <tr>\n",
       "      <th>820</th>\n",
       "      <td>Additionsverfahren</td>\n",
       "      <td>additionsverfahren</td>\n",
       "      <td>1661</td>\n",
       "      <td>Mathe</td>\n",
       "      <td>de</td>\n",
       "      <td>schule</td>\n",
       "    </tr>\n",
       "    <tr>\n",
       "      <th>836</th>\n",
       "      <td>Potenzen</td>\n",
       "      <td>potenzen</td>\n",
       "      <td>1663</td>\n",
       "      <td>Mathe</td>\n",
       "      <td>de</td>\n",
       "      <td>schule</td>\n",
       "    </tr>\n",
       "    <tr>\n",
       "      <th>852</th>\n",
       "      <td>Lineare (Un)abhängigkeit</td>\n",
       "      <td>lineare abhängigkeit</td>\n",
       "      <td>1665</td>\n",
       "      <td>Mathe</td>\n",
       "      <td>de</td>\n",
       "      <td>schule</td>\n",
       "    </tr>\n",
       "    <tr>\n",
       "      <th>858</th>\n",
       "      <td>Absolute Häufigkeit</td>\n",
       "      <td>absolute häufigkeit</td>\n",
       "      <td>1667</td>\n",
       "      <td>Mathe</td>\n",
       "      <td>de</td>\n",
       "      <td>schule</td>\n",
       "    </tr>\n",
       "    <tr>\n",
       "      <th>878</th>\n",
       "      <td>Differenzenquotient</td>\n",
       "      <td>differenzenquotient</td>\n",
       "      <td>1669</td>\n",
       "      <td>Mathe</td>\n",
       "      <td>de</td>\n",
       "      <td>schule</td>\n",
       "    </tr>\n",
       "    <tr>\n",
       "      <th>890</th>\n",
       "      <td>Assoziativgesetz</td>\n",
       "      <td>assoziativgesetz</td>\n",
       "      <td>1671</td>\n",
       "      <td>Mathe</td>\n",
       "      <td>de</td>\n",
       "      <td>schule</td>\n",
       "    </tr>\n",
       "    <tr>\n",
       "      <th>898</th>\n",
       "      <td>Flächeneinheiten</td>\n",
       "      <td>flächeneinheiten</td>\n",
       "      <td>1673</td>\n",
       "      <td>Mathe</td>\n",
       "      <td>de</td>\n",
       "      <td>schule</td>\n",
       "    </tr>\n",
       "    <tr>\n",
       "      <th>904</th>\n",
       "      <td>Geldeinheiten</td>\n",
       "      <td>geldeinheiten</td>\n",
       "      <td>1675</td>\n",
       "      <td>Mathe</td>\n",
       "      <td>de</td>\n",
       "      <td>schule</td>\n",
       "    </tr>\n",
       "    <tr>\n",
       "      <th>912</th>\n",
       "      <td>Distributivgesetz</td>\n",
       "      <td>distributivgesetz</td>\n",
       "      <td>1677</td>\n",
       "      <td>Mathe</td>\n",
       "      <td>de</td>\n",
       "      <td>schule</td>\n",
       "    </tr>\n",
       "    <tr>\n",
       "      <th>922</th>\n",
       "      <td>Kommutativgesetz</td>\n",
       "      <td>kommutativgesetz</td>\n",
       "      <td>1679</td>\n",
       "      <td>Mathe</td>\n",
       "      <td>de</td>\n",
       "      <td>schule</td>\n",
       "    </tr>\n",
       "    <tr>\n",
       "      <th>930</th>\n",
       "      <td>Längeneinheiten</td>\n",
       "      <td>längeneinheiten</td>\n",
       "      <td>1681</td>\n",
       "      <td>Mathe</td>\n",
       "      <td>de</td>\n",
       "      <td>schule</td>\n",
       "    </tr>\n",
       "    <tr>\n",
       "      <th>935</th>\n",
       "      <td>Umrechnen von Längeneinheiten</td>\n",
       "      <td>umrechnen längeneinheiten</td>\n",
       "      <td>1681</td>\n",
       "      <td>Mathe</td>\n",
       "      <td>de</td>\n",
       "      <td>schule</td>\n",
       "    </tr>\n",
       "    <tr>\n",
       "      <th>940</th>\n",
       "      <td>Gewichtseinheiten</td>\n",
       "      <td>gewichtseinheiten</td>\n",
       "      <td>1683</td>\n",
       "      <td>Mathe</td>\n",
       "      <td>de</td>\n",
       "      <td>schule</td>\n",
       "    </tr>\n",
       "    <tr>\n",
       "      <th>948</th>\n",
       "      <td>Volumeneinheiten</td>\n",
       "      <td>volumeneinheiten</td>\n",
       "      <td>1685</td>\n",
       "      <td>Mathe</td>\n",
       "      <td>de</td>\n",
       "      <td>schule</td>\n",
       "    </tr>\n",
       "    <tr>\n",
       "      <th>956</th>\n",
       "      <td>Potenzfunktion</td>\n",
       "      <td>potenzfunktion</td>\n",
       "      <td>1687</td>\n",
       "      <td>Mathe</td>\n",
       "      <td>de</td>\n",
       "      <td>schule</td>\n",
       "    </tr>\n",
       "    <tr>\n",
       "      <th>964</th>\n",
       "      <td>Regel von L'Hospital</td>\n",
       "      <td>regel hospital</td>\n",
       "      <td>1689</td>\n",
       "      <td>Mathe</td>\n",
       "      <td>de</td>\n",
       "      <td>schule</td>\n",
       "    </tr>\n",
       "    <tr>\n",
       "      <th>966</th>\n",
       "      <td>Gegenereignis</td>\n",
       "      <td>gegenereignis</td>\n",
       "      <td>1691</td>\n",
       "      <td>Mathe</td>\n",
       "      <td>de</td>\n",
       "      <td>schule</td>\n",
       "    </tr>\n",
       "    <tr>\n",
       "      <th>978</th>\n",
       "      <td>Wichtige Zahlenmengen</td>\n",
       "      <td>wichtige zahlenmengen</td>\n",
       "      <td>1693</td>\n",
       "      <td>Mathe</td>\n",
       "      <td>de</td>\n",
       "      <td>schule</td>\n",
       "    </tr>\n",
       "    <tr>\n",
       "      <th>986</th>\n",
       "      <td>Zahlenmengen - Lernen mit Serlo!</td>\n",
       "      <td>zahlenmengen</td>\n",
       "      <td>1693</td>\n",
       "      <td>Mathe</td>\n",
       "      <td>de</td>\n",
       "      <td>schule</td>\n",
       "    </tr>\n",
       "    <tr>\n",
       "      <th>1002</th>\n",
       "      <td>Rechteck</td>\n",
       "      <td>rechteck</td>\n",
       "      <td>1697</td>\n",
       "      <td>Mathe</td>\n",
       "      <td>de</td>\n",
       "      <td>schule</td>\n",
       "    </tr>\n",
       "    <tr>\n",
       "      <th>1024</th>\n",
       "      <td>Quader</td>\n",
       "      <td>quader</td>\n",
       "      <td>1699</td>\n",
       "      <td>Mathe</td>\n",
       "      <td>de</td>\n",
       "      <td>schule</td>\n",
       "    </tr>\n",
       "    <tr>\n",
       "      <th>1040</th>\n",
       "      <td>Monotonieverhalten berechnen</td>\n",
       "      <td>monotonieverhalten berechnen</td>\n",
       "      <td>1701</td>\n",
       "      <td>Mathe</td>\n",
       "      <td>de</td>\n",
       "      <td>schule</td>\n",
       "    </tr>\n",
       "    <tr>\n",
       "      <th>1052</th>\n",
       "      <td>Griechisches Alphabet</td>\n",
       "      <td>griechisches alphabet</td>\n",
       "      <td>1703</td>\n",
       "      <td>Mathe</td>\n",
       "      <td>de</td>\n",
       "      <td>schule</td>\n",
       "    </tr>\n",
       "    <tr>\n",
       "      <th>1054</th>\n",
       "      <td>Das Viereck</td>\n",
       "      <td>viereck</td>\n",
       "      <td>1705</td>\n",
       "      <td>Mathe</td>\n",
       "      <td>de</td>\n",
       "      <td>schule</td>\n",
       "    </tr>\n",
       "    <tr>\n",
       "      <th>1074</th>\n",
       "      <td>Winkel</td>\n",
       "      <td>winkel</td>\n",
       "      <td>1707</td>\n",
       "      <td>Mathe</td>\n",
       "      <td>de</td>\n",
       "      <td>schule</td>\n",
       "    </tr>\n",
       "    <tr>\n",
       "      <th>1090</th>\n",
       "      <td>Trapez</td>\n",
       "      <td>trapez</td>\n",
       "      <td>1709</td>\n",
       "      <td>Mathe</td>\n",
       "      <td>de</td>\n",
       "      <td>schule</td>\n",
       "    </tr>\n",
       "    <tr>\n",
       "      <th>1102</th>\n",
       "      <td>Konstante und Variable</td>\n",
       "      <td>konstante variable</td>\n",
       "      <td>1711</td>\n",
       "      <td>Mathe</td>\n",
       "      <td>de</td>\n",
       "      <td>schule</td>\n",
       "    </tr>\n",
       "    <tr>\n",
       "      <th>1103</th>\n",
       "      <td>Infinitesimalrechnung</td>\n",
       "      <td>infinitesimalrechnung</td>\n",
       "      <td>1713</td>\n",
       "      <td>Mathe</td>\n",
       "      <td>de</td>\n",
       "      <td>schule</td>\n",
       "    </tr>\n",
       "    <tr>\n",
       "      <th>1104</th>\n",
       "      <td>Skalarprodukt</td>\n",
       "      <td>skalarprodukt</td>\n",
       "      <td>1715</td>\n",
       "      <td>Mathe</td>\n",
       "      <td>de</td>\n",
       "      <td>schule</td>\n",
       "    </tr>\n",
       "    <tr>\n",
       "      <th>1110</th>\n",
       "      <td>Gleichung</td>\n",
       "      <td>gleichung</td>\n",
       "      <td>1717</td>\n",
       "      <td>Mathe</td>\n",
       "      <td>de</td>\n",
       "      <td>schule</td>\n",
       "    </tr>\n",
       "    <tr>\n",
       "      <th>1144</th>\n",
       "      <td>Baumdiagramm und Pfadregeln</td>\n",
       "      <td>baumdiagramm pfadregeln</td>\n",
       "      <td>1721</td>\n",
       "      <td>Mathe</td>\n",
       "      <td>de</td>\n",
       "      <td>schule</td>\n",
       "    </tr>\n",
       "    <tr>\n",
       "      <th>1174</th>\n",
       "      <td>Pascalsches Dreieck</td>\n",
       "      <td>pascalsches dreieck</td>\n",
       "      <td>1723</td>\n",
       "      <td>Mathe</td>\n",
       "      <td>de</td>\n",
       "      <td>schule</td>\n",
       "    </tr>\n",
       "    <tr>\n",
       "      <th>1176</th>\n",
       "      <td>h-Methode</td>\n",
       "      <td>methode</td>\n",
       "      <td>1725</td>\n",
       "      <td>Mathe</td>\n",
       "      <td>de</td>\n",
       "      <td>schule</td>\n",
       "    </tr>\n",
       "    <tr>\n",
       "      <th>1180</th>\n",
       "      <td>Parallelogramm</td>\n",
       "      <td>parallelogramm</td>\n",
       "      <td>1727</td>\n",
       "      <td>Mathe</td>\n",
       "      <td>de</td>\n",
       "      <td>schule</td>\n",
       "    </tr>\n",
       "    <tr>\n",
       "      <th>1194</th>\n",
       "      <td>Sprungstelle</td>\n",
       "      <td>sprungstelle</td>\n",
       "      <td>1729</td>\n",
       "      <td>Mathe</td>\n",
       "      <td>de</td>\n",
       "      <td>schule</td>\n",
       "    </tr>\n",
       "    <tr>\n",
       "      <th>1198</th>\n",
       "      <td>Raute</td>\n",
       "      <td>raute</td>\n",
       "      <td>1731</td>\n",
       "      <td>Mathe</td>\n",
       "      <td>de</td>\n",
       "      <td>schule</td>\n",
       "    </tr>\n",
       "    <tr>\n",
       "      <th>1208</th>\n",
       "      <td>Drachenviereck</td>\n",
       "      <td>drachenviereck</td>\n",
       "      <td>1733</td>\n",
       "      <td>Mathe</td>\n",
       "      <td>de</td>\n",
       "      <td>schule</td>\n",
       "    </tr>\n",
       "    <tr>\n",
       "      <th>1220</th>\n",
       "      <td>Einsetzungsverfahren</td>\n",
       "      <td>einsetzungsverfahren</td>\n",
       "      <td>1735</td>\n",
       "      <td>Mathe</td>\n",
       "      <td>de</td>\n",
       "      <td>schule</td>\n",
       "    </tr>\n",
       "    <tr>\n",
       "      <th>1236</th>\n",
       "      <td>Gleichsetzungsverfahren</td>\n",
       "      <td>gleichsetzungsverfahren</td>\n",
       "      <td>1737</td>\n",
       "      <td>Mathe</td>\n",
       "      <td>de</td>\n",
       "      <td>schule</td>\n",
       "    </tr>\n",
       "    <tr>\n",
       "      <th>1252</th>\n",
       "      <td>Gemischter Bruch</td>\n",
       "      <td>gemischter bruch</td>\n",
       "      <td>1739</td>\n",
       "      <td>Mathe</td>\n",
       "      <td>de</td>\n",
       "      <td>schule</td>\n",
       "    </tr>\n",
       "    <tr>\n",
       "      <th>1272</th>\n",
       "      <td>Satz des Thales</td>\n",
       "      <td>satz thales</td>\n",
       "      <td>1743</td>\n",
       "      <td>Mathe</td>\n",
       "      <td>de</td>\n",
       "      <td>schule</td>\n",
       "    </tr>\n",
       "    <tr>\n",
       "      <th>1276</th>\n",
       "      <td>Symmetrie von Graphen</td>\n",
       "      <td>symmetrie graphen</td>\n",
       "      <td>1745</td>\n",
       "      <td>Mathe</td>\n",
       "      <td>de</td>\n",
       "      <td>schule</td>\n",
       "    </tr>\n",
       "    <tr>\n",
       "      <th>1288</th>\n",
       "      <td>Geradengleichung</td>\n",
       "      <td>geradengleichung</td>\n",
       "      <td>1747</td>\n",
       "      <td>Mathe</td>\n",
       "      <td>de</td>\n",
       "      <td>schule</td>\n",
       "    </tr>\n",
       "    <tr>\n",
       "      <th>1304</th>\n",
       "      <td>Lineares Gleichungssystem</td>\n",
       "      <td>lineares gleichungssystem</td>\n",
       "      <td>1749</td>\n",
       "      <td>Mathe</td>\n",
       "      <td>de</td>\n",
       "      <td>schule</td>\n",
       "    </tr>\n",
       "    <tr>\n",
       "      <th>1316</th>\n",
       "      <td>Kombinatorik</td>\n",
       "      <td>kombinatorik</td>\n",
       "      <td>1751</td>\n",
       "      <td>Mathe</td>\n",
       "      <td>de</td>\n",
       "      <td>schule</td>\n",
       "    </tr>\n",
       "    <tr>\n",
       "      <th>1328</th>\n",
       "      <td>Wahrscheinlichkeit</td>\n",
       "      <td>wahrscheinlichkeit</td>\n",
       "      <td>1753</td>\n",
       "      <td>Mathe</td>\n",
       "      <td>de</td>\n",
       "      <td>schule</td>\n",
       "    </tr>\n",
       "    <tr>\n",
       "      <th>1346</th>\n",
       "      <td>Laplace-Experiment</td>\n",
       "      <td>laplace experiment</td>\n",
       "      <td>1755</td>\n",
       "      <td>Mathe</td>\n",
       "      <td>de</td>\n",
       "      <td>schule</td>\n",
       "    </tr>\n",
       "    <tr>\n",
       "      <th>1366</th>\n",
       "      <td>Wurzelfunktion</td>\n",
       "      <td>wurzelfunktion</td>\n",
       "      <td>1757</td>\n",
       "      <td>Mathe</td>\n",
       "      <td>de</td>\n",
       "      <td>schule</td>\n",
       "    </tr>\n",
       "    <tr>\n",
       "      <th>1386</th>\n",
       "      <td>Vektor- oder Kreuzprodukt</td>\n",
       "      <td>vektor kreuzprodukt</td>\n",
       "      <td>1761</td>\n",
       "      <td>Mathe</td>\n",
       "      <td>de</td>\n",
       "      <td>schule</td>\n",
       "    </tr>\n",
       "    <tr>\n",
       "      <th>1392</th>\n",
       "      <td>Große Zahlen</td>\n",
       "      <td>große zahlen</td>\n",
       "      <td>1763</td>\n",
       "      <td>Mathe</td>\n",
       "      <td>de</td>\n",
       "      <td>schule</td>\n",
       "    </tr>\n",
       "    <tr>\n",
       "      <th>1398</th>\n",
       "      <td>Fakultät</td>\n",
       "      <td>fakultät</td>\n",
       "      <td>1765</td>\n",
       "      <td>Mathe</td>\n",
       "      <td>de</td>\n",
       "      <td>schule</td>\n",
       "    </tr>\n",
       "    <tr>\n",
       "      <th>1402</th>\n",
       "      <td>Primzahlen</td>\n",
       "      <td>primzahlen</td>\n",
       "      <td>1767</td>\n",
       "      <td>Mathe</td>\n",
       "      <td>de</td>\n",
       "      <td>schule</td>\n",
       "    </tr>\n",
       "    <tr>\n",
       "      <th>1404</th>\n",
       "      <td>Dreisatz</td>\n",
       "      <td>dreisatz</td>\n",
       "      <td>1769</td>\n",
       "      <td>Mathe</td>\n",
       "      <td>de</td>\n",
       "      <td>schule</td>\n",
       "    </tr>\n",
       "    <tr>\n",
       "      <th>1414</th>\n",
       "      <td>Direkte Proportionalität</td>\n",
       "      <td>direkte proportionalität</td>\n",
       "      <td>1771</td>\n",
       "      <td>Mathe</td>\n",
       "      <td>de</td>\n",
       "      <td>schule</td>\n",
       "    </tr>\n",
       "    <tr>\n",
       "      <th>1434</th>\n",
       "      <td>Hauptnenner bilden</td>\n",
       "      <td>hauptnenner bilden</td>\n",
       "      <td>1773</td>\n",
       "      <td>Mathe</td>\n",
       "      <td>de</td>\n",
       "      <td>schule</td>\n",
       "    </tr>\n",
       "    <tr>\n",
       "      <th>1454</th>\n",
       "      <td>Länge eines Vektors</td>\n",
       "      <td>länge vektors</td>\n",
       "      <td>1777</td>\n",
       "      <td>Mathe</td>\n",
       "      <td>de</td>\n",
       "      <td>schule</td>\n",
       "    </tr>\n",
       "    <tr>\n",
       "      <th>1466</th>\n",
       "      <td>Primfaktorzerlegung</td>\n",
       "      <td>primfaktorzerlegung</td>\n",
       "      <td>1779</td>\n",
       "      <td>Mathe</td>\n",
       "      <td>de</td>\n",
       "      <td>schule</td>\n",
       "    </tr>\n",
       "    <tr>\n",
       "      <th>1468</th>\n",
       "      <td>Scheitelpunkt einer Parabel</td>\n",
       "      <td>scheitelpunkt parabel</td>\n",
       "      <td>1781</td>\n",
       "      <td>Mathe</td>\n",
       "      <td>de</td>\n",
       "      <td>schule</td>\n",
       "    </tr>\n",
       "    <tr>\n",
       "      <th>1484</th>\n",
       "      <td>Geradensteigung</td>\n",
       "      <td>geradensteigung</td>\n",
       "      <td>1785</td>\n",
       "      <td>Mathe</td>\n",
       "      <td>de</td>\n",
       "      <td>schule</td>\n",
       "    </tr>\n",
       "    <tr>\n",
       "      <th>1500</th>\n",
       "      <td>Temperatureinheiten</td>\n",
       "      <td>temperatureinheiten</td>\n",
       "      <td>1787</td>\n",
       "      <td>Mathe</td>\n",
       "      <td>de</td>\n",
       "      <td>schule</td>\n",
       "    </tr>\n",
       "    <tr>\n",
       "      <th>1502</th>\n",
       "      <td>Normale</td>\n",
       "      <td>normale</td>\n",
       "      <td>1789</td>\n",
       "      <td>Mathe</td>\n",
       "      <td>de</td>\n",
       "      <td>schule</td>\n",
       "    </tr>\n",
       "    <tr>\n",
       "      <th>1503</th>\n",
       "      <td>Orthogonalität</td>\n",
       "      <td>orthogonalität</td>\n",
       "      <td>1791</td>\n",
       "      <td>Mathe</td>\n",
       "      <td>de</td>\n",
       "      <td>schule</td>\n",
       "    </tr>\n",
       "    <tr>\n",
       "      <th>1506</th>\n",
       "      <td>Ebene</td>\n",
       "      <td>ebene</td>\n",
       "      <td>1793</td>\n",
       "      <td>Mathe</td>\n",
       "      <td>de</td>\n",
       "      <td>schule</td>\n",
       "    </tr>\n",
       "    <tr>\n",
       "      <th>1512</th>\n",
       "      <td>Ableitung</td>\n",
       "      <td>ableitung</td>\n",
       "      <td>1795</td>\n",
       "      <td>Mathe</td>\n",
       "      <td>de</td>\n",
       "      <td>schule</td>\n",
       "    </tr>\n",
       "    <tr>\n",
       "      <th>1524</th>\n",
       "      <td>Kettenregel</td>\n",
       "      <td>kettenregel</td>\n",
       "      <td>1797</td>\n",
       "      <td>Mathe</td>\n",
       "      <td>de</td>\n",
       "      <td>schule</td>\n",
       "    </tr>\n",
       "    <tr>\n",
       "      <th>1536</th>\n",
       "      <td>Summenregel</td>\n",
       "      <td>summenregel</td>\n",
       "      <td>1799</td>\n",
       "      <td>Mathe</td>\n",
       "      <td>de</td>\n",
       "      <td>schule</td>\n",
       "    </tr>\n",
       "    <tr>\n",
       "      <th>1539</th>\n",
       "      <td>Quotientenregel</td>\n",
       "      <td>quotientenregel</td>\n",
       "      <td>1801</td>\n",
       "      <td>Mathe</td>\n",
       "      <td>de</td>\n",
       "      <td>schule</td>\n",
       "    </tr>\n",
       "    <tr>\n",
       "      <th>1549</th>\n",
       "      <td>Produktregel</td>\n",
       "      <td>produktregel</td>\n",
       "      <td>1803</td>\n",
       "      <td>Mathe</td>\n",
       "      <td>de</td>\n",
       "      <td>schule</td>\n",
       "    </tr>\n",
       "    <tr>\n",
       "      <th>1559</th>\n",
       "      <td>Ableitung der Umkehrfunktion</td>\n",
       "      <td>ableitung umkehrfunktion</td>\n",
       "      <td>1805</td>\n",
       "      <td>Mathe</td>\n",
       "      <td>de</td>\n",
       "      <td>schule</td>\n",
       "    </tr>\n",
       "    <tr>\n",
       "      <th>1570</th>\n",
       "      <td>Zählergrad und Nennergrad</td>\n",
       "      <td>zählergrad nennergrad</td>\n",
       "      <td>1811</td>\n",
       "      <td>Mathe</td>\n",
       "      <td>de</td>\n",
       "      <td>schule</td>\n",
       "    </tr>\n",
       "    <tr>\n",
       "      <th>1580</th>\n",
       "      <td>Umkehrfunktion</td>\n",
       "      <td>umkehrfunktion</td>\n",
       "      <td>1815</td>\n",
       "      <td>Mathe</td>\n",
       "      <td>de</td>\n",
       "      <td>schule</td>\n",
       "    </tr>\n",
       "    <tr>\n",
       "      <th>1584</th>\n",
       "      <td>Extremwertaufgabe</td>\n",
       "      <td>extremwertaufgabe</td>\n",
       "      <td>1817</td>\n",
       "      <td>Mathe</td>\n",
       "      <td>de</td>\n",
       "      <td>schule</td>\n",
       "    </tr>\n",
       "    <tr>\n",
       "      <th>1596</th>\n",
       "      <td>Teilerfremd</td>\n",
       "      <td>teilerfremd</td>\n",
       "      <td>1819</td>\n",
       "      <td>Mathe</td>\n",
       "      <td>de</td>\n",
       "      <td>schule</td>\n",
       "    </tr>\n",
       "    <tr>\n",
       "      <th>1600</th>\n",
       "      <td>Quadratische Gleichung</td>\n",
       "      <td>quadratische gleichung</td>\n",
       "      <td>1821</td>\n",
       "      <td>Mathe</td>\n",
       "      <td>de</td>\n",
       "      <td>schule</td>\n",
       "    </tr>\n",
       "    <tr>\n",
       "      <th>1610</th>\n",
       "      <td>Term</td>\n",
       "      <td>term</td>\n",
       "      <td>1823</td>\n",
       "      <td>Mathe</td>\n",
       "      <td>de</td>\n",
       "      <td>schule</td>\n",
       "    </tr>\n",
       "    <tr>\n",
       "      <th>1626</th>\n",
       "      <td>Partielle Integration</td>\n",
       "      <td>partielle integration</td>\n",
       "      <td>1825</td>\n",
       "      <td>Mathe</td>\n",
       "      <td>de</td>\n",
       "      <td>schule</td>\n",
       "    </tr>\n",
       "    <tr>\n",
       "      <th>1630</th>\n",
       "      <td>Flächenberechnung mit Integralen</td>\n",
       "      <td>flächenberechnung integralen</td>\n",
       "      <td>1827</td>\n",
       "      <td>Mathe</td>\n",
       "      <td>de</td>\n",
       "      <td>schule</td>\n",
       "    </tr>\n",
       "    <tr>\n",
       "      <th>1642</th>\n",
       "      <td>Partialbruchzerlegung</td>\n",
       "      <td>partialbruchzerlegung</td>\n",
       "      <td>1831</td>\n",
       "      <td>Mathe</td>\n",
       "      <td>de</td>\n",
       "      <td>schule</td>\n",
       "    </tr>\n",
       "    <tr>\n",
       "      <th>1643</th>\n",
       "      <td>Asymptote</td>\n",
       "      <td>asymptote</td>\n",
       "      <td>1833</td>\n",
       "      <td>Mathe</td>\n",
       "      <td>de</td>\n",
       "      <td>schule</td>\n",
       "    </tr>\n",
       "    <tr>\n",
       "      <th>1655</th>\n",
       "      <td>Nullstelle</td>\n",
       "      <td>nullstelle</td>\n",
       "      <td>1835</td>\n",
       "      <td>Mathe</td>\n",
       "      <td>de</td>\n",
       "      <td>schule</td>\n",
       "    </tr>\n",
       "    <tr>\n",
       "      <th>1665</th>\n",
       "      <td>Nullstellen</td>\n",
       "      <td>nullstellen</td>\n",
       "      <td>1835</td>\n",
       "      <td>Mathe</td>\n",
       "      <td>de</td>\n",
       "      <td>schule</td>\n",
       "    </tr>\n",
       "    <tr>\n",
       "      <th>1675</th>\n",
       "      <td>Rechnen mit Proportionalitäten</td>\n",
       "      <td>rechnen proportionalitäten</td>\n",
       "      <td>1837</td>\n",
       "      <td>Mathe</td>\n",
       "      <td>de</td>\n",
       "      <td>schule</td>\n",
       "    </tr>\n",
       "    <tr>\n",
       "      <th>1689</th>\n",
       "      <td>Definitionsbereich bestimmen</td>\n",
       "      <td>definitionsbereich bestimmen</td>\n",
       "      <td>1839</td>\n",
       "      <td>Mathe</td>\n",
       "      <td>de</td>\n",
       "      <td>schule</td>\n",
       "    </tr>\n",
       "    <tr>\n",
       "      <th>1699</th>\n",
       "      <td>Termumformung mit Variablen</td>\n",
       "      <td>termumformung variablen</td>\n",
       "      <td>1841</td>\n",
       "      <td>Mathe</td>\n",
       "      <td>de</td>\n",
       "      <td>schule</td>\n",
       "    </tr>\n",
       "    <tr>\n",
       "      <th>1708</th>\n",
       "      <td>Graph einer Funktion</td>\n",
       "      <td>graph funktion</td>\n",
       "      <td>1843</td>\n",
       "      <td>Mathe</td>\n",
       "      <td>de</td>\n",
       "      <td>schule</td>\n",
       "    </tr>\n",
       "    <tr>\n",
       "      <th>1728</th>\n",
       "      <td>Extrema berechnen</td>\n",
       "      <td>extrema berechnen</td>\n",
       "      <td>1845</td>\n",
       "      <td>Mathe</td>\n",
       "      <td>de</td>\n",
       "      <td>schule</td>\n",
       "    </tr>\n",
       "    <tr>\n",
       "      <th>1734</th>\n",
       "      <td>Äquivalenzumformungen</td>\n",
       "      <td>äquivalenzumformungen</td>\n",
       "      <td>1847</td>\n",
       "      <td>Mathe</td>\n",
       "      <td>de</td>\n",
       "      <td>schule</td>\n",
       "    </tr>\n",
       "    <tr>\n",
       "      <th>1752</th>\n",
       "      <td>Zinsrechnung</td>\n",
       "      <td>zinsrechnung</td>\n",
       "      <td>1849</td>\n",
       "      <td>Mathe</td>\n",
       "      <td>de</td>\n",
       "      <td>schule</td>\n",
       "    </tr>\n",
       "    <tr>\n",
       "      <th>1758</th>\n",
       "      <td>Bruchgleichungen lösen</td>\n",
       "      <td>bruchgleichungen lösen</td>\n",
       "      <td>1851</td>\n",
       "      <td>Mathe</td>\n",
       "      <td>de</td>\n",
       "      <td>schule</td>\n",
       "    </tr>\n",
       "    <tr>\n",
       "      <th>1770</th>\n",
       "      <td>Grenzwert bestimmen</td>\n",
       "      <td>grenzwert bestimmen</td>\n",
       "      <td>1853</td>\n",
       "      <td>Mathe</td>\n",
       "      <td>de</td>\n",
       "      <td>schule</td>\n",
       "    </tr>\n",
       "    <tr>\n",
       "      <th>1780</th>\n",
       "      <td>Parabel</td>\n",
       "      <td>parabel</td>\n",
       "      <td>1855</td>\n",
       "      <td>Mathe</td>\n",
       "      <td>de</td>\n",
       "      <td>schule</td>\n",
       "    </tr>\n",
       "    <tr>\n",
       "      <th>1792</th>\n",
       "      <td>Substitution</td>\n",
       "      <td>substitution</td>\n",
       "      <td>1857</td>\n",
       "      <td>Mathe</td>\n",
       "      <td>de</td>\n",
       "      <td>schule</td>\n",
       "    </tr>\n",
       "    <tr>\n",
       "      <th>1808</th>\n",
       "      <td>Funktionsgraphen verschieben</td>\n",
       "      <td>funktionsgraphen verschieben</td>\n",
       "      <td>1861</td>\n",
       "      <td>Mathe</td>\n",
       "      <td>de</td>\n",
       "      <td>schule</td>\n",
       "    </tr>\n",
       "    <tr>\n",
       "      <th>1812</th>\n",
       "      <td>Quadrat</td>\n",
       "      <td>quadrat</td>\n",
       "      <td>1863</td>\n",
       "      <td>Mathe</td>\n",
       "      <td>de</td>\n",
       "      <td>schule</td>\n",
       "    </tr>\n",
       "    <tr>\n",
       "      <th>1822</th>\n",
       "      <td>Eigenschaften des Quadrats</td>\n",
       "      <td>eigenschaften quadrats</td>\n",
       "      <td>1863</td>\n",
       "      <td>Mathe</td>\n",
       "      <td>de</td>\n",
       "      <td>schule</td>\n",
       "    </tr>\n",
       "    <tr>\n",
       "      <th>1838</th>\n",
       "      <td>Schnittpunkte von Funktionen - Lernen mit Serlo!</td>\n",
       "      <td>schnittpunkte funktionen</td>\n",
       "      <td>1865</td>\n",
       "      <td>Mathe</td>\n",
       "      <td>de</td>\n",
       "      <td>schule</td>\n",
       "    </tr>\n",
       "    <tr>\n",
       "      <th>1844</th>\n",
       "      <td>Potenzgesetze</td>\n",
       "      <td>potenzgesetze</td>\n",
       "      <td>1867</td>\n",
       "      <td>Mathe</td>\n",
       "      <td>de</td>\n",
       "      <td>schule</td>\n",
       "    </tr>\n",
       "    <tr>\n",
       "      <th>1852</th>\n",
       "      <td>Trigonometrische Umkehrfunktionen</td>\n",
       "      <td>trigonometrische umkehrfunktionen</td>\n",
       "      <td>1869</td>\n",
       "      <td>Mathe</td>\n",
       "      <td>de</td>\n",
       "      <td>schule</td>\n",
       "    </tr>\n",
       "    <tr>\n",
       "      <th>1860</th>\n",
       "      <td>Grundrechenarten</td>\n",
       "      <td>grundrechenarten</td>\n",
       "      <td>1871</td>\n",
       "      <td>Mathe</td>\n",
       "      <td>de</td>\n",
       "      <td>schule</td>\n",
       "    </tr>\n",
       "    <tr>\n",
       "      <th>1876</th>\n",
       "      <td>Winkelsumme im Dreieck</td>\n",
       "      <td>winkelsumme dreieck</td>\n",
       "      <td>1873</td>\n",
       "      <td>Mathe</td>\n",
       "      <td>de</td>\n",
       "      <td>schule</td>\n",
       "    </tr>\n",
       "    <tr>\n",
       "      <th>1883</th>\n",
       "      <td>Vierfeldertafel</td>\n",
       "      <td>vierfeldertafel</td>\n",
       "      <td>1875</td>\n",
       "      <td>Mathe</td>\n",
       "      <td>de</td>\n",
       "      <td>schule</td>\n",
       "    </tr>\n",
       "    <tr>\n",
       "      <th>1889</th>\n",
       "      <td>Test Sammlung</td>\n",
       "      <td>sammlung</td>\n",
       "      <td>1877</td>\n",
       "      <td>Mathe</td>\n",
       "      <td>de</td>\n",
       "      <td>schule</td>\n",
       "    </tr>\n",
       "    <tr>\n",
       "      <th>1891</th>\n",
       "      <td>Mittelsenkrechte</td>\n",
       "      <td>mittelsenkrechte</td>\n",
       "      <td>1879</td>\n",
       "      <td>Mathe</td>\n",
       "      <td>de</td>\n",
       "      <td>schule</td>\n",
       "    </tr>\n",
       "    <tr>\n",
       "      <th>1913</th>\n",
       "      <td>Durchschnitt berechnen</td>\n",
       "      <td>durchschnitt berechnen</td>\n",
       "      <td>1887</td>\n",
       "      <td>Mathe</td>\n",
       "      <td>de</td>\n",
       "      <td>schule</td>\n",
       "    </tr>\n",
       "    <tr>\n",
       "      <th>1919</th>\n",
       "      <td>Stetigkeit nachweisen</td>\n",
       "      <td>stetigkeit nachweisen</td>\n",
       "      <td>1889</td>\n",
       "      <td>Mathe</td>\n",
       "      <td>de</td>\n",
       "      <td>schule</td>\n",
       "    </tr>\n",
       "    <tr>\n",
       "      <th>1966</th>\n",
       "      <td>Sinusfunktion und Kosinusfunktion</td>\n",
       "      <td>sinusfunktion kosinusfunktion</td>\n",
       "      <td>1909</td>\n",
       "      <td>Mathe</td>\n",
       "      <td>de</td>\n",
       "      <td>schule</td>\n",
       "    </tr>\n",
       "    <tr>\n",
       "      <th>1971</th>\n",
       "      <td>Sinus und Kosinus</td>\n",
       "      <td>sinus kosinus</td>\n",
       "      <td>1909</td>\n",
       "      <td>Mathe</td>\n",
       "      <td>de</td>\n",
       "      <td>schule</td>\n",
       "    </tr>\n",
       "    <tr>\n",
       "      <th>1976</th>\n",
       "      <td>Monotonie</td>\n",
       "      <td>monotonie</td>\n",
       "      <td>1911</td>\n",
       "      <td>Mathe</td>\n",
       "      <td>de</td>\n",
       "      <td>schule</td>\n",
       "    </tr>\n",
       "    <tr>\n",
       "      <th>1990</th>\n",
       "      <td>Seitenhalbierende</td>\n",
       "      <td>seitenhalbierende</td>\n",
       "      <td>1913</td>\n",
       "      <td>Mathe</td>\n",
       "      <td>de</td>\n",
       "      <td>schule</td>\n",
       "    </tr>\n",
       "    <tr>\n",
       "      <th>1994</th>\n",
       "      <td>Schwerpunkt</td>\n",
       "      <td>schwerpunkt</td>\n",
       "      <td>1915</td>\n",
       "      <td>Mathe</td>\n",
       "      <td>de</td>\n",
       "      <td>schule</td>\n",
       "    </tr>\n",
       "    <tr>\n",
       "      <th>2002</th>\n",
       "      <td>Umkreis eines Dreiecks</td>\n",
       "      <td>umkreis dreiecks</td>\n",
       "      <td>1917</td>\n",
       "      <td>Mathe</td>\n",
       "      <td>de</td>\n",
       "      <td>schule</td>\n",
       "    </tr>\n",
       "    <tr>\n",
       "      <th>2006</th>\n",
       "      <td>Inkreis eines Dreiecks</td>\n",
       "      <td>inkreis dreiecks</td>\n",
       "      <td>1919</td>\n",
       "      <td>Mathe</td>\n",
       "      <td>de</td>\n",
       "      <td>schule</td>\n",
       "    </tr>\n",
       "    <tr>\n",
       "      <th>2010</th>\n",
       "      <td>Höhe eines Dreiecks</td>\n",
       "      <td>höhe dreiecks</td>\n",
       "      <td>1921</td>\n",
       "      <td>Mathe</td>\n",
       "      <td>de</td>\n",
       "      <td>schule</td>\n",
       "    </tr>\n",
       "    <tr>\n",
       "      <th>2022</th>\n",
       "      <td>Geltende Ziffern</td>\n",
       "      <td>geltende ziffern</td>\n",
       "      <td>1923</td>\n",
       "      <td>Mathe</td>\n",
       "      <td>de</td>\n",
       "      <td>schule</td>\n",
       "    </tr>\n",
       "    <tr>\n",
       "      <th>2023</th>\n",
       "      <td>Kongruenz</td>\n",
       "      <td>kongruenz</td>\n",
       "      <td>1925</td>\n",
       "      <td>Mathe</td>\n",
       "      <td>de</td>\n",
       "      <td>schule</td>\n",
       "    </tr>\n",
       "    <tr>\n",
       "      <th>2029</th>\n",
       "      <td>Komplexe Zahlen</td>\n",
       "      <td>komplexe zahlen</td>\n",
       "      <td>1927</td>\n",
       "      <td>Mathe</td>\n",
       "      <td>de</td>\n",
       "      <td>schule</td>\n",
       "    </tr>\n",
       "    <tr>\n",
       "      <th>2031</th>\n",
       "      <td>Ähnlichkeit</td>\n",
       "      <td>ähnlichkeit</td>\n",
       "      <td>1929</td>\n",
       "      <td>Mathe</td>\n",
       "      <td>de</td>\n",
       "      <td>schule</td>\n",
       "    </tr>\n",
       "    <tr>\n",
       "      <th>2051</th>\n",
       "      <td>Höhere Wurzel</td>\n",
       "      <td>höhere wurzel</td>\n",
       "      <td>1933</td>\n",
       "      <td>Mathe</td>\n",
       "      <td>de</td>\n",
       "      <td>schule</td>\n",
       "    </tr>\n",
       "    <tr>\n",
       "      <th>2054</th>\n",
       "      <td>allgemeine Wurzel</td>\n",
       "      <td>allgemeine wurzel</td>\n",
       "      <td>1933</td>\n",
       "      <td>Mathe</td>\n",
       "      <td>de</td>\n",
       "      <td>schule</td>\n",
       "    </tr>\n",
       "    <tr>\n",
       "      <th>2057</th>\n",
       "      <td>Bruchterme</td>\n",
       "      <td>bruchterme</td>\n",
       "      <td>1935</td>\n",
       "      <td>Mathe</td>\n",
       "      <td>de</td>\n",
       "      <td>schule</td>\n",
       "    </tr>\n",
       "    <tr>\n",
       "      <th>2080</th>\n",
       "      <td>Winkel konstruieren</td>\n",
       "      <td>winkel konstruieren</td>\n",
       "      <td>1943</td>\n",
       "      <td>Mathe</td>\n",
       "      <td>de</td>\n",
       "      <td>schule</td>\n",
       "    </tr>\n",
       "    <tr>\n",
       "      <th>2086</th>\n",
       "      <td>Intervalle</td>\n",
       "      <td>intervalle</td>\n",
       "      <td>1947</td>\n",
       "      <td>Mathe</td>\n",
       "      <td>de</td>\n",
       "      <td>schule</td>\n",
       "    </tr>\n",
       "    <tr>\n",
       "      <th>2092</th>\n",
       "      <td>Dreieck</td>\n",
       "      <td>dreieck</td>\n",
       "      <td>1949</td>\n",
       "      <td>Mathe</td>\n",
       "      <td>de</td>\n",
       "      <td>schule</td>\n",
       "    </tr>\n",
       "    <tr>\n",
       "      <th>2112</th>\n",
       "      <td>Halbgerade</td>\n",
       "      <td>halbgerade</td>\n",
       "      <td>1951</td>\n",
       "      <td>Mathe</td>\n",
       "      <td>de</td>\n",
       "      <td>schule</td>\n",
       "    </tr>\n",
       "    <tr>\n",
       "      <th>2118</th>\n",
       "      <td>Strecke</td>\n",
       "      <td>strecke</td>\n",
       "      <td>1953</td>\n",
       "      <td>Mathe</td>\n",
       "      <td>de</td>\n",
       "      <td>schule</td>\n",
       "    </tr>\n",
       "    <tr>\n",
       "      <th>2126</th>\n",
       "      <td>Geometrisches Mittel</td>\n",
       "      <td>geometrisches mittel</td>\n",
       "      <td>1955</td>\n",
       "      <td>Mathe</td>\n",
       "      <td>de</td>\n",
       "      <td>schule</td>\n",
       "    </tr>\n",
       "    <tr>\n",
       "      <th>2128</th>\n",
       "      <td>Dreiecke konstruieren</td>\n",
       "      <td>dreiecke konstruieren</td>\n",
       "      <td>1957</td>\n",
       "      <td>Mathe</td>\n",
       "      <td>de</td>\n",
       "      <td>schule</td>\n",
       "    </tr>\n",
       "    <tr>\n",
       "      <th>2136</th>\n",
       "      <td>Statistik</td>\n",
       "      <td>statistik</td>\n",
       "      <td>1959</td>\n",
       "      <td>Mathe</td>\n",
       "      <td>de</td>\n",
       "      <td>schule</td>\n",
       "    </tr>\n",
       "    <tr>\n",
       "      <th>2137</th>\n",
       "      <td>Trigonometrie am Einheitskreis</td>\n",
       "      <td>trigonometrie einheitskreis</td>\n",
       "      <td>1961</td>\n",
       "      <td>Mathe</td>\n",
       "      <td>de</td>\n",
       "      <td>schule</td>\n",
       "    </tr>\n",
       "    <tr>\n",
       "      <th>2147</th>\n",
       "      <td>Bogenmaß</td>\n",
       "      <td>bogenmaß</td>\n",
       "      <td>1963</td>\n",
       "      <td>Mathe</td>\n",
       "      <td>de</td>\n",
       "      <td>schule</td>\n",
       "    </tr>\n",
       "    <tr>\n",
       "      <th>2161</th>\n",
       "      <td>Hypothesentest</td>\n",
       "      <td>hypothesentest</td>\n",
       "      <td>1965</td>\n",
       "      <td>Mathe</td>\n",
       "      <td>de</td>\n",
       "      <td>schule</td>\n",
       "    </tr>\n",
       "    <tr>\n",
       "      <th>2165</th>\n",
       "      <td>Indirekte Proportionalität</td>\n",
       "      <td>indirekte proportionalität</td>\n",
       "      <td>1967</td>\n",
       "      <td>Mathe</td>\n",
       "      <td>de</td>\n",
       "      <td>schule</td>\n",
       "    </tr>\n",
       "    <tr>\n",
       "      <th>2177</th>\n",
       "      <td>Kehrwert</td>\n",
       "      <td>kehrwert</td>\n",
       "      <td>1969</td>\n",
       "      <td>Mathe</td>\n",
       "      <td>de</td>\n",
       "      <td>schule</td>\n",
       "    </tr>\n",
       "    <tr>\n",
       "      <th>2183</th>\n",
       "      <td>Strahlensatz (Vierstreckensatz)</td>\n",
       "      <td>strahlensatz vierstreckensatz</td>\n",
       "      <td>1971</td>\n",
       "      <td>Mathe</td>\n",
       "      <td>de</td>\n",
       "      <td>schule</td>\n",
       "    </tr>\n",
       "    <tr>\n",
       "      <th>2189</th>\n",
       "      <td>Bedingte Wahrscheinlichkeit</td>\n",
       "      <td>bedingte wahrscheinlichkeit</td>\n",
       "      <td>1973</td>\n",
       "      <td>Mathe</td>\n",
       "      <td>de</td>\n",
       "      <td>schule</td>\n",
       "    </tr>\n",
       "    <tr>\n",
       "      <th>2195</th>\n",
       "      <td>Tafelwerk der Stochastik</td>\n",
       "      <td>tafelwerk stochastik</td>\n",
       "      <td>1975</td>\n",
       "      <td>Mathe</td>\n",
       "      <td>de</td>\n",
       "      <td>schule</td>\n",
       "    </tr>\n",
       "    <tr>\n",
       "      <th>2201</th>\n",
       "      <td>Unabhängigkeit von Ereignissen</td>\n",
       "      <td>unabhängigkeit ereignissen</td>\n",
       "      <td>1977</td>\n",
       "      <td>Mathe</td>\n",
       "      <td>de</td>\n",
       "      <td>schule</td>\n",
       "    </tr>\n",
       "    <tr>\n",
       "      <th>2215</th>\n",
       "      <td>Menge</td>\n",
       "      <td>menge</td>\n",
       "      <td>1981</td>\n",
       "      <td>Mathe</td>\n",
       "      <td>de</td>\n",
       "      <td>schule</td>\n",
       "    </tr>\n",
       "    <tr>\n",
       "      <th>2221</th>\n",
       "      <td>Erzeugendensystem</td>\n",
       "      <td>erzeugendensystem</td>\n",
       "      <td>1983</td>\n",
       "      <td>Mathe</td>\n",
       "      <td>de</td>\n",
       "      <td>schule</td>\n",
       "    </tr>\n",
       "    <tr>\n",
       "      <th>2225</th>\n",
       "      <td>Basis eines Vektorraums</td>\n",
       "      <td>basis vektorraums</td>\n",
       "      <td>1985</td>\n",
       "      <td>Mathe</td>\n",
       "      <td>de</td>\n",
       "      <td>schule</td>\n",
       "    </tr>\n",
       "    <tr>\n",
       "      <th>2231</th>\n",
       "      <td>Linearkombination</td>\n",
       "      <td>linearkombination</td>\n",
       "      <td>1987</td>\n",
       "      <td>Mathe</td>\n",
       "      <td>de</td>\n",
       "      <td>schule</td>\n",
       "    </tr>\n",
       "    <tr>\n",
       "      <th>2237</th>\n",
       "      <td>Newtonsches Näherungsverfahren</td>\n",
       "      <td>newtonsches näherungsverfahren</td>\n",
       "      <td>1989</td>\n",
       "      <td>Mathe</td>\n",
       "      <td>de</td>\n",
       "      <td>schule</td>\n",
       "    </tr>\n",
       "    <tr>\n",
       "      <th>2240</th>\n",
       "      <td>Newton-Verfahren</td>\n",
       "      <td>newton verfahren</td>\n",
       "      <td>1989</td>\n",
       "      <td>Mathe</td>\n",
       "      <td>de</td>\n",
       "      <td>schule</td>\n",
       "    </tr>\n",
       "    <tr>\n",
       "      <th>2243</th>\n",
       "      <td>Vereinigungsmenge</td>\n",
       "      <td>vereinigungsmenge</td>\n",
       "      <td>1991</td>\n",
       "      <td>Mathe</td>\n",
       "      <td>de</td>\n",
       "      <td>schule</td>\n",
       "    </tr>\n",
       "    <tr>\n",
       "      <th>2249</th>\n",
       "      <td>Ungleichung</td>\n",
       "      <td>ungleichung</td>\n",
       "      <td>1993</td>\n",
       "      <td>Mathe</td>\n",
       "      <td>de</td>\n",
       "      <td>schule</td>\n",
       "    </tr>\n",
       "    <tr>\n",
       "      <th>2258</th>\n",
       "      <td>Ungleichungen - Lernen mit Serlo!</td>\n",
       "      <td>ungleichungen</td>\n",
       "      <td>1993</td>\n",
       "      <td>Mathe</td>\n",
       "      <td>de</td>\n",
       "      <td>schule</td>\n",
       "    </tr>\n",
       "    <tr>\n",
       "      <th>2267</th>\n",
       "      <td>Ungleichungen lösen</td>\n",
       "      <td>ungleichungen lösen</td>\n",
       "      <td>1995</td>\n",
       "      <td>Mathe</td>\n",
       "      <td>de</td>\n",
       "      <td>schule</td>\n",
       "    </tr>\n",
       "    <tr>\n",
       "      <th>2279</th>\n",
       "      <td>Urnenmodell</td>\n",
       "      <td>urnenmodell</td>\n",
       "      <td>1997</td>\n",
       "      <td>Mathe</td>\n",
       "      <td>de</td>\n",
       "      <td>schule</td>\n",
       "    </tr>\n",
       "    <tr>\n",
       "      <th>2289</th>\n",
       "      <td>Schrägbilder zeichnen</td>\n",
       "      <td>schrägbilder zeichnen</td>\n",
       "      <td>1999</td>\n",
       "      <td>Mathe</td>\n",
       "      <td>de</td>\n",
       "      <td>schule</td>\n",
       "    </tr>\n",
       "    <tr>\n",
       "      <th>2295</th>\n",
       "      <td>Nullhypothese und Gegenhypothese</td>\n",
       "      <td>nullhypothese gegenhypothese</td>\n",
       "      <td>2001</td>\n",
       "      <td>Mathe</td>\n",
       "      <td>de</td>\n",
       "      <td>schule</td>\n",
       "    </tr>\n",
       "    <tr>\n",
       "      <th>2299</th>\n",
       "      <td>Exponentialgleichung</td>\n",
       "      <td>exponentialgleichung</td>\n",
       "      <td>2003</td>\n",
       "      <td>Mathe</td>\n",
       "      <td>de</td>\n",
       "      <td>schule</td>\n",
       "    </tr>\n",
       "    <tr>\n",
       "      <th>2302</th>\n",
       "      <td>Lineare Funktion</td>\n",
       "      <td>lineare funktion</td>\n",
       "      <td>2005</td>\n",
       "      <td>Mathe</td>\n",
       "      <td>de</td>\n",
       "      <td>schule</td>\n",
       "    </tr>\n",
       "    <tr>\n",
       "      <th>2322</th>\n",
       "      <td>Hypothesentest-Arten</td>\n",
       "      <td>hypothesentest arten</td>\n",
       "      <td>2007</td>\n",
       "      <td>Mathe</td>\n",
       "      <td>de</td>\n",
       "      <td>schule</td>\n",
       "    </tr>\n",
       "    <tr>\n",
       "      <th>2326</th>\n",
       "      <td>Matrizen</td>\n",
       "      <td>matrizen</td>\n",
       "      <td>2009</td>\n",
       "      <td>Mathe</td>\n",
       "      <td>de</td>\n",
       "      <td>schule</td>\n",
       "    </tr>\n",
       "    <tr>\n",
       "      <th>2330</th>\n",
       "      <td>Stichprobe eines Hypothesentests</td>\n",
       "      <td>stichprobe hypothesentests</td>\n",
       "      <td>2011</td>\n",
       "      <td>Mathe</td>\n",
       "      <td>de</td>\n",
       "      <td>schule</td>\n",
       "    </tr>\n",
       "    <tr>\n",
       "      <th>2334</th>\n",
       "      <td>Bernoulli-Experiment</td>\n",
       "      <td>bernoulli experiment</td>\n",
       "      <td>2013</td>\n",
       "      <td>Mathe</td>\n",
       "      <td>de</td>\n",
       "      <td>schule</td>\n",
       "    </tr>\n",
       "    <tr>\n",
       "      <th>2340</th>\n",
       "      <td>Bernoulli-Kette</td>\n",
       "      <td>bernoulli kette</td>\n",
       "      <td>2015</td>\n",
       "      <td>Mathe</td>\n",
       "      <td>de</td>\n",
       "      <td>schule</td>\n",
       "    </tr>\n",
       "    <tr>\n",
       "      <th>2346</th>\n",
       "      <td>Determinante</td>\n",
       "      <td>determinante</td>\n",
       "      <td>2017</td>\n",
       "      <td>Mathe</td>\n",
       "      <td>de</td>\n",
       "      <td>schule</td>\n",
       "    </tr>\n",
       "    <tr>\n",
       "      <th>2347</th>\n",
       "      <td>Determinanten berechnen</td>\n",
       "      <td>determinanten berechnen</td>\n",
       "      <td>2019</td>\n",
       "      <td>Mathe</td>\n",
       "      <td>de</td>\n",
       "      <td>schule</td>\n",
       "    </tr>\n",
       "    <tr>\n",
       "      <th>2357</th>\n",
       "      <td>Cramersche Regel</td>\n",
       "      <td>cramersche regel</td>\n",
       "      <td>2023</td>\n",
       "      <td>Mathe</td>\n",
       "      <td>de</td>\n",
       "      <td>schule</td>\n",
       "    </tr>\n",
       "    <tr>\n",
       "      <th>2367</th>\n",
       "      <td>Entscheidungsregel eines Hypothesentests</td>\n",
       "      <td>entscheidungsregel hypothesentests</td>\n",
       "      <td>2025</td>\n",
       "      <td>Mathe</td>\n",
       "      <td>de</td>\n",
       "      <td>schule</td>\n",
       "    </tr>\n",
       "    <tr>\n",
       "      <th>2375</th>\n",
       "      <td>Winkelsumme</td>\n",
       "      <td>winkelsumme</td>\n",
       "      <td>2029</td>\n",
       "      <td>Mathe</td>\n",
       "      <td>de</td>\n",
       "      <td>schule</td>\n",
       "    </tr>\n",
       "    <tr>\n",
       "      <th>2377</th>\n",
       "      <td>Diagonale</td>\n",
       "      <td>diagonale</td>\n",
       "      <td>2031</td>\n",
       "      <td>Mathe</td>\n",
       "      <td>de</td>\n",
       "      <td>schule</td>\n",
       "    </tr>\n",
       "    <tr>\n",
       "      <th>2398</th>\n",
       "      <td>Exponentielles Wachstum</td>\n",
       "      <td>exponentielles wachstum</td>\n",
       "      <td>2035</td>\n",
       "      <td>Mathe</td>\n",
       "      <td>de</td>\n",
       "      <td>schule</td>\n",
       "    </tr>\n",
       "    <tr>\n",
       "      <th>2412</th>\n",
       "      <td>Lineares Wachstum</td>\n",
       "      <td>lineares wachstum</td>\n",
       "      <td>2039</td>\n",
       "      <td>Mathe</td>\n",
       "      <td>de</td>\n",
       "      <td>schule</td>\n",
       "    </tr>\n",
       "    <tr>\n",
       "      <th>2422</th>\n",
       "      <td>Zeichnen im 3D-Koordinatensystem</td>\n",
       "      <td>zeichnen koordinatensystem</td>\n",
       "      <td>2043</td>\n",
       "      <td>Mathe</td>\n",
       "      <td>de</td>\n",
       "      <td>schule</td>\n",
       "    </tr>\n",
       "    <tr>\n",
       "      <th>2430</th>\n",
       "      <td>Integralfunktion</td>\n",
       "      <td>integralfunktion</td>\n",
       "      <td>2045</td>\n",
       "      <td>Mathe</td>\n",
       "      <td>de</td>\n",
       "      <td>schule</td>\n",
       "    </tr>\n",
       "    <tr>\n",
       "      <th>2438</th>\n",
       "      <td>Verteilungsfunktion</td>\n",
       "      <td>verteilungsfunktion</td>\n",
       "      <td>2047</td>\n",
       "      <td>Mathe</td>\n",
       "      <td>de</td>\n",
       "      <td>schule</td>\n",
       "    </tr>\n",
       "    <tr>\n",
       "      <th>2448</th>\n",
       "      <td>Gerade im Koordinatensystem</td>\n",
       "      <td>gerade koordinatensystem</td>\n",
       "      <td>2051</td>\n",
       "      <td>Mathe</td>\n",
       "      <td>de</td>\n",
       "      <td>schule</td>\n",
       "    </tr>\n",
       "    <tr>\n",
       "      <th>2464</th>\n",
       "      <td>Gerade</td>\n",
       "      <td>gerade</td>\n",
       "      <td>2053</td>\n",
       "      <td>Mathe</td>\n",
       "      <td>de</td>\n",
       "      <td>schule</td>\n",
       "    </tr>\n",
       "    <tr>\n",
       "      <th>2476</th>\n",
       "      <td>Zufallsgröße</td>\n",
       "      <td>zufallsgröße</td>\n",
       "      <td>2055</td>\n",
       "      <td>Mathe</td>\n",
       "      <td>de</td>\n",
       "      <td>schule</td>\n",
       "    </tr>\n",
       "    <tr>\n",
       "      <th>2488</th>\n",
       "      <td>Ober- und Untersumme</td>\n",
       "      <td>ober untersumme</td>\n",
       "      <td>2059</td>\n",
       "      <td>Mathe</td>\n",
       "      <td>de</td>\n",
       "      <td>schule</td>\n",
       "    </tr>\n",
       "    <tr>\n",
       "      <th>2492</th>\n",
       "      <td>Uneigentliches Integral</td>\n",
       "      <td>uneigentliches integral</td>\n",
       "      <td>2061</td>\n",
       "      <td>Mathe</td>\n",
       "      <td>de</td>\n",
       "      <td>schule</td>\n",
       "    </tr>\n",
       "    <tr>\n",
       "      <th>2498</th>\n",
       "      <td>Höhen- und Kathetensatz</td>\n",
       "      <td>höhen kathetensatz</td>\n",
       "      <td>2063</td>\n",
       "      <td>Mathe</td>\n",
       "      <td>de</td>\n",
       "      <td>schule</td>\n",
       "    </tr>\n",
       "    <tr>\n",
       "      <th>2510</th>\n",
       "      <td>Euklidischer Algorithmus</td>\n",
       "      <td>euklidischer algorithmus</td>\n",
       "      <td>2065</td>\n",
       "      <td>Mathe</td>\n",
       "      <td>de</td>\n",
       "      <td>schule</td>\n",
       "    </tr>\n",
       "    <tr>\n",
       "      <th>2511</th>\n",
       "      <td>Zahlengerade</td>\n",
       "      <td>zahlengerade</td>\n",
       "      <td>2067</td>\n",
       "      <td>Mathe</td>\n",
       "      <td>de</td>\n",
       "      <td>schule</td>\n",
       "    </tr>\n",
       "    <tr>\n",
       "      <th>2529</th>\n",
       "      <td>Parabel zeichnen</td>\n",
       "      <td>parabel zeichnen</td>\n",
       "      <td>2071</td>\n",
       "      <td>Mathe</td>\n",
       "      <td>de</td>\n",
       "      <td>schule</td>\n",
       "    </tr>\n",
       "    <tr>\n",
       "      <th>2559</th>\n",
       "      <td>Venn-Diagramm</td>\n",
       "      <td>venn diagramm</td>\n",
       "      <td>2075</td>\n",
       "      <td>Mathe</td>\n",
       "      <td>de</td>\n",
       "      <td>schule</td>\n",
       "    </tr>\n",
       "    <tr>\n",
       "      <th>2565</th>\n",
       "      <td>Römische Zahlen</td>\n",
       "      <td>römische zahlen</td>\n",
       "      <td>2077</td>\n",
       "      <td>Mathe</td>\n",
       "      <td>de</td>\n",
       "      <td>schule</td>\n",
       "    </tr>\n",
       "    <tr>\n",
       "      <th>2573</th>\n",
       "      <td>Relationen</td>\n",
       "      <td>relationen</td>\n",
       "      <td>2079</td>\n",
       "      <td>Mathe</td>\n",
       "      <td>de</td>\n",
       "      <td>schule</td>\n",
       "    </tr>\n",
       "    <tr>\n",
       "      <th>2579</th>\n",
       "      <td>Quantor</td>\n",
       "      <td>quantor</td>\n",
       "      <td>2081</td>\n",
       "      <td>Mathe</td>\n",
       "      <td>de</td>\n",
       "      <td>schule</td>\n",
       "    </tr>\n",
       "    <tr>\n",
       "      <th>2580</th>\n",
       "      <td>Logikverknüpfungen</td>\n",
       "      <td>logikverknüpfungen</td>\n",
       "      <td>2083</td>\n",
       "      <td>Mathe</td>\n",
       "      <td>de</td>\n",
       "      <td>schule</td>\n",
       "    </tr>\n",
       "    <tr>\n",
       "      <th>2581</th>\n",
       "      <td>Verknüpfungen von Mengen</td>\n",
       "      <td>verknüpfungen mengen</td>\n",
       "      <td>2085</td>\n",
       "      <td>Mathe</td>\n",
       "      <td>de</td>\n",
       "      <td>schule</td>\n",
       "    </tr>\n",
       "    <tr>\n",
       "      <th>2583</th>\n",
       "      <td>Teilmenge einer Menge</td>\n",
       "      <td>teilmenge menge</td>\n",
       "      <td>2087</td>\n",
       "      <td>Mathe</td>\n",
       "      <td>de</td>\n",
       "      <td>schule</td>\n",
       "    </tr>\n",
       "    <tr>\n",
       "      <th>2585</th>\n",
       "      <td>Partition einer Menge</td>\n",
       "      <td>partition menge</td>\n",
       "      <td>2089</td>\n",
       "      <td>Mathe</td>\n",
       "      <td>de</td>\n",
       "      <td>schule</td>\n",
       "    </tr>\n",
       "    <tr>\n",
       "      <th>2586</th>\n",
       "      <td>Zahlensysteme</td>\n",
       "      <td>zahlensysteme</td>\n",
       "      <td>2091</td>\n",
       "      <td>Mathe</td>\n",
       "      <td>de</td>\n",
       "      <td>schule</td>\n",
       "    </tr>\n",
       "    <tr>\n",
       "      <th>2588</th>\n",
       "      <td>Komposition von Funktionen</td>\n",
       "      <td>komposition funktionen</td>\n",
       "      <td>2093</td>\n",
       "      <td>Mathe</td>\n",
       "      <td>de</td>\n",
       "      <td>schule</td>\n",
       "    </tr>\n",
       "    <tr>\n",
       "      <th>2596</th>\n",
       "      <td>Fasskreisbogen</td>\n",
       "      <td>fasskreisbogen</td>\n",
       "      <td>2095</td>\n",
       "      <td>Mathe</td>\n",
       "      <td>de</td>\n",
       "      <td>schule</td>\n",
       "    </tr>\n",
       "    <tr>\n",
       "      <th>2612</th>\n",
       "      <td>Reguläre Vielecke</td>\n",
       "      <td>reguläre vielecke</td>\n",
       "      <td>2103</td>\n",
       "      <td>Mathe</td>\n",
       "      <td>de</td>\n",
       "      <td>schule</td>\n",
       "    </tr>\n",
       "    <tr>\n",
       "      <th>2622</th>\n",
       "      <td>Median</td>\n",
       "      <td>median</td>\n",
       "      <td>2105</td>\n",
       "      <td>Mathe</td>\n",
       "      <td>de</td>\n",
       "      <td>schule</td>\n",
       "    </tr>\n",
       "    <tr>\n",
       "      <th>2626</th>\n",
       "      <td>Kreiszahl Pi</td>\n",
       "      <td>kreiszahl</td>\n",
       "      <td>2107</td>\n",
       "      <td>Mathe</td>\n",
       "      <td>de</td>\n",
       "      <td>schule</td>\n",
       "    </tr>\n",
       "    <tr>\n",
       "      <th>2640</th>\n",
       "      <td>Termbeschreibungen</td>\n",
       "      <td>termbeschreibungen</td>\n",
       "      <td>2111</td>\n",
       "      <td>Mathe</td>\n",
       "      <td>de</td>\n",
       "      <td>schule</td>\n",
       "    </tr>\n",
       "    <tr>\n",
       "      <th>2648</th>\n",
       "      <td>Periode (einer Funktion)</td>\n",
       "      <td>periode funktion</td>\n",
       "      <td>2113</td>\n",
       "      <td>Mathe</td>\n",
       "      <td>de</td>\n",
       "      <td>schule</td>\n",
       "    </tr>\n",
       "    <tr>\n",
       "      <th>2653</th>\n",
       "      <td>Periode (eines Bruchs)</td>\n",
       "      <td>periode bruchs</td>\n",
       "      <td>2115</td>\n",
       "      <td>Mathe</td>\n",
       "      <td>de</td>\n",
       "      <td>schule</td>\n",
       "    </tr>\n",
       "    <tr>\n",
       "      <th>2659</th>\n",
       "      <td>Kartesisches Produkt</td>\n",
       "      <td>kartesisches produkt</td>\n",
       "      <td>2117</td>\n",
       "      <td>Mathe</td>\n",
       "      <td>de</td>\n",
       "      <td>schule</td>\n",
       "    </tr>\n",
       "    <tr>\n",
       "      <th>2668</th>\n",
       "      <td>Goldener Schnitt</td>\n",
       "      <td>goldener schnitt</td>\n",
       "      <td>2125</td>\n",
       "      <td>Mathe</td>\n",
       "      <td>de</td>\n",
       "      <td>schule</td>\n",
       "    </tr>\n",
       "    <tr>\n",
       "      <th>2674</th>\n",
       "      <td>Zwischenwertsatz</td>\n",
       "      <td>zwischenwertsatz</td>\n",
       "      <td>2129</td>\n",
       "      <td>Mathe</td>\n",
       "      <td>de</td>\n",
       "      <td>schule</td>\n",
       "    </tr>\n",
       "    <tr>\n",
       "      <th>2678</th>\n",
       "      <td>Testartikel</td>\n",
       "      <td>testartikel</td>\n",
       "      <td>2131</td>\n",
       "      <td>Mathe</td>\n",
       "      <td>de</td>\n",
       "      <td>schule</td>\n",
       "    </tr>\n",
       "    <tr>\n",
       "      <th>2680</th>\n",
       "      <td>Normalverteilung</td>\n",
       "      <td>normalverteilung</td>\n",
       "      <td>2133</td>\n",
       "      <td>Mathe</td>\n",
       "      <td>de</td>\n",
       "      <td>schule</td>\n",
       "    </tr>\n",
       "    <tr>\n",
       "      <th>2684</th>\n",
       "      <td>Parallelotop</td>\n",
       "      <td>parallelotop</td>\n",
       "      <td>2135</td>\n",
       "      <td>Mathe</td>\n",
       "      <td>de</td>\n",
       "      <td>schule</td>\n",
       "    </tr>\n",
       "    <tr>\n",
       "      <th>2690</th>\n",
       "      <td>Abstand berechnen</td>\n",
       "      <td>abstand berechnen</td>\n",
       "      <td>2139</td>\n",
       "      <td>Mathe</td>\n",
       "      <td>de</td>\n",
       "      <td>schule</td>\n",
       "    </tr>\n",
       "    <tr>\n",
       "      <th>2696</th>\n",
       "      <td>Exponentialfunktion</td>\n",
       "      <td>exponentialfunktion</td>\n",
       "      <td>2143</td>\n",
       "      <td>Mathe</td>\n",
       "      <td>de</td>\n",
       "      <td>schule</td>\n",
       "    </tr>\n",
       "    <tr>\n",
       "      <th>2721</th>\n",
       "      <td>Schriftliche Addition</td>\n",
       "      <td>schriftliche addition</td>\n",
       "      <td>2153</td>\n",
       "      <td>Mathe</td>\n",
       "      <td>de</td>\n",
       "      <td>schule</td>\n",
       "    </tr>\n",
       "    <tr>\n",
       "      <th>2737</th>\n",
       "      <td>Steckbriefaufgabe</td>\n",
       "      <td>steckbriefaufgabe</td>\n",
       "      <td>2157</td>\n",
       "      <td>Mathe</td>\n",
       "      <td>de</td>\n",
       "      <td>schule</td>\n",
       "    </tr>\n",
       "    <tr>\n",
       "      <th>2748</th>\n",
       "      <td>Lineare Gleichung</td>\n",
       "      <td>lineare gleichung</td>\n",
       "      <td>2171</td>\n",
       "      <td>Mathe</td>\n",
       "      <td>de</td>\n",
       "      <td>schule</td>\n",
       "    </tr>\n",
       "    <tr>\n",
       "      <th>2774</th>\n",
       "      <td>Ausbildung Metallbearbeitung</td>\n",
       "      <td>ausbildung metallbearbeitung</td>\n",
       "      <td>2183</td>\n",
       "      <td>Mathe</td>\n",
       "      <td>de</td>\n",
       "      <td>schule</td>\n",
       "    </tr>\n",
       "    <tr>\n",
       "      <th>2776</th>\n",
       "      <td>Rotationskörper</td>\n",
       "      <td>rotationskörper</td>\n",
       "      <td>2187</td>\n",
       "      <td>Mathe</td>\n",
       "      <td>de</td>\n",
       "      <td>schule</td>\n",
       "    </tr>\n",
       "    <tr>\n",
       "      <th>2780</th>\n",
       "      <td>Linearfaktorzerlegung durchführen</td>\n",
       "      <td>linearfaktorzerlegung durchführen</td>\n",
       "      <td>2189</td>\n",
       "      <td>Mathe</td>\n",
       "      <td>de</td>\n",
       "      <td>schule</td>\n",
       "    </tr>\n",
       "    <tr>\n",
       "      <th>2805</th>\n",
       "      <td>Prozentrechnung mit Formeln - Lernen mit Serlo!</td>\n",
       "      <td>prozentrechnung formeln</td>\n",
       "      <td>2193</td>\n",
       "      <td>Mathe</td>\n",
       "      <td>de</td>\n",
       "      <td>schule</td>\n",
       "    </tr>\n",
       "    <tr>\n",
       "      <th>2812</th>\n",
       "      <td>Schnittpunkte mit den Koordinatenachsen</td>\n",
       "      <td>schnittpunkte koordinatenachsen</td>\n",
       "      <td>2195</td>\n",
       "      <td>Mathe</td>\n",
       "      <td>de</td>\n",
       "      <td>schule</td>\n",
       "    </tr>\n",
       "    <tr>\n",
       "      <th>2853</th>\n",
       "      <td>Ortskurve bestimmen</td>\n",
       "      <td>ortskurve bestimmen</td>\n",
       "      <td>2203</td>\n",
       "      <td>Mathe</td>\n",
       "      <td>de</td>\n",
       "      <td>schule</td>\n",
       "    </tr>\n",
       "    <tr>\n",
       "      <th>2854</th>\n",
       "      <td>Kurvendiskussion mit Parameter</td>\n",
       "      <td>kurvendiskussion parameter</td>\n",
       "      <td>2205</td>\n",
       "      <td>Mathe</td>\n",
       "      <td>de</td>\n",
       "      <td>schule</td>\n",
       "    </tr>\n",
       "    <tr>\n",
       "      <th>2855</th>\n",
       "      <td>Funktionsgraphen spiegeln</td>\n",
       "      <td>funktionsgraphen spiegeln</td>\n",
       "      <td>2207</td>\n",
       "      <td>Mathe</td>\n",
       "      <td>de</td>\n",
       "      <td>schule</td>\n",
       "    </tr>\n",
       "    <tr>\n",
       "      <th>2861</th>\n",
       "      <td>Tangente an Graph</td>\n",
       "      <td>tangente graph</td>\n",
       "      <td>2213</td>\n",
       "      <td>Mathe</td>\n",
       "      <td>de</td>\n",
       "      <td>schule</td>\n",
       "    </tr>\n",
       "    <tr>\n",
       "      <th>2869</th>\n",
       "      <td>Ableitung berechnen</td>\n",
       "      <td>ableitung berechnen</td>\n",
       "      <td>2215</td>\n",
       "      <td>Mathe</td>\n",
       "      <td>de</td>\n",
       "      <td>schule</td>\n",
       "    </tr>\n",
       "    <tr>\n",
       "      <th>2872</th>\n",
       "      <td>Differentialquotient</td>\n",
       "      <td>differentialquotient</td>\n",
       "      <td>18529</td>\n",
       "      <td>Mathe</td>\n",
       "      <td>de</td>\n",
       "      <td>schule</td>\n",
       "    </tr>\n",
       "    <tr>\n",
       "      <th>2882</th>\n",
       "      <td>Was ist Humus?</td>\n",
       "      <td>humus</td>\n",
       "      <td>20891</td>\n",
       "      <td>Nachhaltigkeit</td>\n",
       "      <td>de</td>\n",
       "      <td>schule</td>\n",
       "    </tr>\n",
       "    <tr>\n",
       "      <th>2884</th>\n",
       "      <td>Rauschmittel</td>\n",
       "      <td>rauschmittel</td>\n",
       "      <td>23953</td>\n",
       "      <td>Biologie</td>\n",
       "      <td>de</td>\n",
       "      <td>schule</td>\n",
       "    </tr>\n",
       "    <tr>\n",
       "      <th>2896</th>\n",
       "      <td>Sucht und Abhängigkeit</td>\n",
       "      <td>sucht abhängigkeit</td>\n",
       "      <td>23988</td>\n",
       "      <td>Biologie</td>\n",
       "      <td>de</td>\n",
       "      <td>schule</td>\n",
       "    </tr>\n",
       "    <tr>\n",
       "      <th>2902</th>\n",
       "      <td>Stoffliche Abhängigkeit</td>\n",
       "      <td>stoffliche abhängigkeit</td>\n",
       "      <td>23996</td>\n",
       "      <td>Biologie</td>\n",
       "      <td>de</td>\n",
       "      <td>schule</td>\n",
       "    </tr>\n",
       "    <tr>\n",
       "      <th>2914</th>\n",
       "      <td>Nichtstoffliche Abhängigkeit</td>\n",
       "      <td>nichtstoffliche abhängigkeit</td>\n",
       "      <td>24004</td>\n",
       "      <td>Biologie</td>\n",
       "      <td>de</td>\n",
       "      <td>schule</td>\n",
       "    </tr>\n",
       "    <tr>\n",
       "      <th>2920</th>\n",
       "      <td>Therapie von Abhängigkeit</td>\n",
       "      <td>therapie abhängigkeit</td>\n",
       "      <td>24013</td>\n",
       "      <td>Biologie</td>\n",
       "      <td>de</td>\n",
       "      <td>schule</td>\n",
       "    </tr>\n",
       "    <tr>\n",
       "      <th>2926</th>\n",
       "      <td>Essstörungen</td>\n",
       "      <td>essstörungen</td>\n",
       "      <td>24020</td>\n",
       "      <td>Biologie</td>\n",
       "      <td>de</td>\n",
       "      <td>schule</td>\n",
       "    </tr>\n",
       "    <tr>\n",
       "      <th>2938</th>\n",
       "      <td>Internetabhängigkeit</td>\n",
       "      <td>internetabhängigkeit</td>\n",
       "      <td>24727</td>\n",
       "      <td>Biologie</td>\n",
       "      <td>de</td>\n",
       "      <td>schule</td>\n",
       "    </tr>\n",
       "    <tr>\n",
       "      <th>2944</th>\n",
       "      <td>Sucht und Computerspiel</td>\n",
       "      <td>sucht computerspiel</td>\n",
       "      <td>24732</td>\n",
       "      <td>Biologie</td>\n",
       "      <td>de</td>\n",
       "      <td>schule</td>\n",
       "    </tr>\n",
       "    <tr>\n",
       "      <th>2950</th>\n",
       "      <td>Allgemeines zur Chemie</td>\n",
       "      <td>allgemeines chemie</td>\n",
       "      <td>25247</td>\n",
       "      <td>Chemie</td>\n",
       "      <td>de</td>\n",
       "      <td>schule</td>\n",
       "    </tr>\n",
       "    <tr>\n",
       "      <th>2952</th>\n",
       "      <td>Geschichtlicher Hintergrund (x)</td>\n",
       "      <td>geschichtlicher hintergrund</td>\n",
       "      <td>25249</td>\n",
       "      <td>Chemie</td>\n",
       "      <td>de</td>\n",
       "      <td>schule</td>\n",
       "    </tr>\n",
       "    <tr>\n",
       "      <th>2956</th>\n",
       "      <td>Optische Aktivität</td>\n",
       "      <td>optische aktivität</td>\n",
       "      <td>25361</td>\n",
       "      <td>Chemie</td>\n",
       "      <td>de</td>\n",
       "      <td>schule</td>\n",
       "    </tr>\n",
       "    <tr>\n",
       "      <th>2958</th>\n",
       "      <td>Isomerie</td>\n",
       "      <td>isomerie</td>\n",
       "      <td>25369</td>\n",
       "      <td>Chemie</td>\n",
       "      <td>de</td>\n",
       "      <td>schule</td>\n",
       "    </tr>\n",
       "    <tr>\n",
       "      <th>2960</th>\n",
       "      <td>Aggregatzustand</td>\n",
       "      <td>aggregatzustand</td>\n",
       "      <td>25371</td>\n",
       "      <td>Chemie</td>\n",
       "      <td>de</td>\n",
       "      <td>schule</td>\n",
       "    </tr>\n",
       "    <tr>\n",
       "      <th>2963</th>\n",
       "      <td>Brennbarkeit</td>\n",
       "      <td>brennbarkeit</td>\n",
       "      <td>25398</td>\n",
       "      <td>Chemie</td>\n",
       "      <td>de</td>\n",
       "      <td>schule</td>\n",
       "    </tr>\n",
       "    <tr>\n",
       "      <th>2964</th>\n",
       "      <td>Indikatoren</td>\n",
       "      <td>indikatoren</td>\n",
       "      <td>25400</td>\n",
       "      <td>Chemie</td>\n",
       "      <td>de</td>\n",
       "      <td>schule</td>\n",
       "    </tr>\n",
       "    <tr>\n",
       "      <th>2965</th>\n",
       "      <td>Löslichkeit</td>\n",
       "      <td>löslichkeit</td>\n",
       "      <td>25402</td>\n",
       "      <td>Chemie</td>\n",
       "      <td>de</td>\n",
       "      <td>schule</td>\n",
       "    </tr>\n",
       "    <tr>\n",
       "      <th>2967</th>\n",
       "      <td>Leitfähigkeit</td>\n",
       "      <td>leitfähigkeit</td>\n",
       "      <td>25404</td>\n",
       "      <td>Chemie</td>\n",
       "      <td>de</td>\n",
       "      <td>schule</td>\n",
       "    </tr>\n",
       "    <tr>\n",
       "      <th>2968</th>\n",
       "      <td>Siede- und Schmelzpunkte</td>\n",
       "      <td>siede schmelzpunkte</td>\n",
       "      <td>25406</td>\n",
       "      <td>Chemie</td>\n",
       "      <td>de</td>\n",
       "      <td>schule</td>\n",
       "    </tr>\n",
       "    <tr>\n",
       "      <th>2969</th>\n",
       "      <td>Was ist Permakultur?</td>\n",
       "      <td>permakultur</td>\n",
       "      <td>25507</td>\n",
       "      <td>Nachhaltigkeit</td>\n",
       "      <td>de</td>\n",
       "      <td>schule</td>\n",
       "    </tr>\n",
       "    <tr>\n",
       "      <th>2971</th>\n",
       "      <td>Arten der Konservierung</td>\n",
       "      <td>arten konservierung</td>\n",
       "      <td>25509</td>\n",
       "      <td>Nachhaltigkeit</td>\n",
       "      <td>de</td>\n",
       "      <td>schule</td>\n",
       "    </tr>\n",
       "    <tr>\n",
       "      <th>2973</th>\n",
       "      <td>Naturfarben</td>\n",
       "      <td>naturfarben</td>\n",
       "      <td>25545</td>\n",
       "      <td>Nachhaltigkeit</td>\n",
       "      <td>de</td>\n",
       "      <td>schule</td>\n",
       "    </tr>\n",
       "    <tr>\n",
       "      <th>2974</th>\n",
       "      <td>Herstellung von Naturfasern</td>\n",
       "      <td>herstellung naturfasern</td>\n",
       "      <td>25547</td>\n",
       "      <td>Nachhaltigkeit</td>\n",
       "      <td>de</td>\n",
       "      <td>schule</td>\n",
       "    </tr>\n",
       "    <tr>\n",
       "      <th>2976</th>\n",
       "      <td>Kerzen</td>\n",
       "      <td>kerzen</td>\n",
       "      <td>25549</td>\n",
       "      <td>Nachhaltigkeit</td>\n",
       "      <td>de</td>\n",
       "      <td>schule</td>\n",
       "    </tr>\n",
       "    <tr>\n",
       "      <th>2980</th>\n",
       "      <td>Chemische Verbindung</td>\n",
       "      <td>chemische verbindung</td>\n",
       "      <td>25869</td>\n",
       "      <td>Chemie</td>\n",
       "      <td>de</td>\n",
       "      <td>schule</td>\n",
       "    </tr>\n",
       "    <tr>\n",
       "      <th>2981</th>\n",
       "      <td>Elemente</td>\n",
       "      <td>elemente</td>\n",
       "      <td>25871</td>\n",
       "      <td>Chemie</td>\n",
       "      <td>de</td>\n",
       "      <td>schule</td>\n",
       "    </tr>\n",
       "    <tr>\n",
       "      <th>2982</th>\n",
       "      <td>Heterogene Gemische</td>\n",
       "      <td>heterogene gemische</td>\n",
       "      <td>25873</td>\n",
       "      <td>Chemie</td>\n",
       "      <td>de</td>\n",
       "      <td>schule</td>\n",
       "    </tr>\n",
       "    <tr>\n",
       "      <th>2983</th>\n",
       "      <td>Homogene Gemische</td>\n",
       "      <td>homogene gemische</td>\n",
       "      <td>25875</td>\n",
       "      <td>Chemie</td>\n",
       "      <td>de</td>\n",
       "      <td>schule</td>\n",
       "    </tr>\n",
       "    <tr>\n",
       "      <th>2984</th>\n",
       "      <td>Trennverfahren von Gemischen</td>\n",
       "      <td>trennverfahren gemischen</td>\n",
       "      <td>25878</td>\n",
       "      <td>Chemie</td>\n",
       "      <td>de</td>\n",
       "      <td>schule</td>\n",
       "    </tr>\n",
       "    <tr>\n",
       "      <th>2985</th>\n",
       "      <td>Aktivierungsenergie (x)</td>\n",
       "      <td>aktivierungsenergie</td>\n",
       "      <td>25880</td>\n",
       "      <td>Chemie</td>\n",
       "      <td>de</td>\n",
       "      <td>schule</td>\n",
       "    </tr>\n",
       "    <tr>\n",
       "      <th>2987</th>\n",
       "      <td>Energieprofil (x)</td>\n",
       "      <td>energieprofil</td>\n",
       "      <td>25882</td>\n",
       "      <td>Chemie</td>\n",
       "      <td>de</td>\n",
       "      <td>schule</td>\n",
       "    </tr>\n",
       "    <tr>\n",
       "      <th>2989</th>\n",
       "      <td>Massenerhaltung (x)</td>\n",
       "      <td>massenerhaltung</td>\n",
       "      <td>25886</td>\n",
       "      <td>Chemie</td>\n",
       "      <td>de</td>\n",
       "      <td>schule</td>\n",
       "    </tr>\n",
       "    <tr>\n",
       "      <th>2991</th>\n",
       "      <td>Substitutionsreaktion (x)</td>\n",
       "      <td>substitutionsreaktion</td>\n",
       "      <td>25889</td>\n",
       "      <td>Chemie</td>\n",
       "      <td>de</td>\n",
       "      <td>schule</td>\n",
       "    </tr>\n",
       "    <tr>\n",
       "      <th>2993</th>\n",
       "      <td>Additionsreaktion (X)</td>\n",
       "      <td>additionsreaktion</td>\n",
       "      <td>25891</td>\n",
       "      <td>Chemie</td>\n",
       "      <td>de</td>\n",
       "      <td>schule</td>\n",
       "    </tr>\n",
       "    <tr>\n",
       "      <th>2995</th>\n",
       "      <td>Analyse (x)</td>\n",
       "      <td>analyse</td>\n",
       "      <td>25893</td>\n",
       "      <td>Chemie</td>\n",
       "      <td>de</td>\n",
       "      <td>schule</td>\n",
       "    </tr>\n",
       "    <tr>\n",
       "      <th>2997</th>\n",
       "      <td>Synthese (x)</td>\n",
       "      <td>synthese</td>\n",
       "      <td>25895</td>\n",
       "      <td>Chemie</td>\n",
       "      <td>de</td>\n",
       "      <td>schule</td>\n",
       "    </tr>\n",
       "    <tr>\n",
       "      <th>2999</th>\n",
       "      <td>Bodenlebewesen und Mikroorganismen</td>\n",
       "      <td>bodenlebewesen mikroorganismen</td>\n",
       "      <td>26053</td>\n",
       "      <td>Nachhaltigkeit</td>\n",
       "      <td>de</td>\n",
       "      <td>schule</td>\n",
       "    </tr>\n",
       "    <tr>\n",
       "      <th>3000</th>\n",
       "      <td>Kompostierung</td>\n",
       "      <td>kompostierung</td>\n",
       "      <td>26058</td>\n",
       "      <td>Nachhaltigkeit</td>\n",
       "      <td>de</td>\n",
       "      <td>schule</td>\n",
       "    </tr>\n",
       "    <tr>\n",
       "      <th>3004</th>\n",
       "      <td>Kunststoffe in der Kleidung</td>\n",
       "      <td>kunststoffe kleidung</td>\n",
       "      <td>26137</td>\n",
       "      <td>Chemie</td>\n",
       "      <td>de</td>\n",
       "      <td>schule</td>\n",
       "    </tr>\n",
       "    <tr>\n",
       "      <th>3006</th>\n",
       "      <td>Elastan</td>\n",
       "      <td>elastan</td>\n",
       "      <td>26144</td>\n",
       "      <td>Chemie</td>\n",
       "      <td>de</td>\n",
       "      <td>schule</td>\n",
       "    </tr>\n",
       "    <tr>\n",
       "      <th>3007</th>\n",
       "      <td>Polyacrylate</td>\n",
       "      <td>polyacrylate</td>\n",
       "      <td>26147</td>\n",
       "      <td>Chemie</td>\n",
       "      <td>de</td>\n",
       "      <td>schule</td>\n",
       "    </tr>\n",
       "    <tr>\n",
       "      <th>3008</th>\n",
       "      <td>Polyamid</td>\n",
       "      <td>polyamid</td>\n",
       "      <td>26149</td>\n",
       "      <td>Chemie</td>\n",
       "      <td>de</td>\n",
       "      <td>schule</td>\n",
       "    </tr>\n",
       "    <tr>\n",
       "      <th>3009</th>\n",
       "      <td>Polyester</td>\n",
       "      <td>polyester</td>\n",
       "      <td>26151</td>\n",
       "      <td>Chemie</td>\n",
       "      <td>de</td>\n",
       "      <td>schule</td>\n",
       "    </tr>\n",
       "    <tr>\n",
       "      <th>3010</th>\n",
       "      <td>Polymerisation</td>\n",
       "      <td>polymerisation</td>\n",
       "      <td>26158</td>\n",
       "      <td>Chemie</td>\n",
       "      <td>de</td>\n",
       "      <td>schule</td>\n",
       "    </tr>\n",
       "    <tr>\n",
       "      <th>3011</th>\n",
       "      <td>Radikalische Polymerisation</td>\n",
       "      <td>radikalische polymerisation</td>\n",
       "      <td>26163</td>\n",
       "      <td>Chemie</td>\n",
       "      <td>de</td>\n",
       "      <td>schule</td>\n",
       "    </tr>\n",
       "    <tr>\n",
       "      <th>3012</th>\n",
       "      <td>Ionische Polymerisation (x)</td>\n",
       "      <td>ionische polymerisation</td>\n",
       "      <td>26165</td>\n",
       "      <td>Chemie</td>\n",
       "      <td>de</td>\n",
       "      <td>schule</td>\n",
       "    </tr>\n",
       "    <tr>\n",
       "      <th>3016</th>\n",
       "      <td>Ringsöffnungspolymerisation (x)</td>\n",
       "      <td>ringsöffnungspolymerisation</td>\n",
       "      <td>26169</td>\n",
       "      <td>Chemie</td>\n",
       "      <td>de</td>\n",
       "      <td>schule</td>\n",
       "    </tr>\n",
       "    <tr>\n",
       "      <th>3018</th>\n",
       "      <td>Kettenreaktion (x)</td>\n",
       "      <td>kettenreaktion</td>\n",
       "      <td>26214</td>\n",
       "      <td>Chemie</td>\n",
       "      <td>de</td>\n",
       "      <td>schule</td>\n",
       "    </tr>\n",
       "    <tr>\n",
       "      <th>3020</th>\n",
       "      <td>PVC (Polychlorethen)</td>\n",
       "      <td>polychlorethen</td>\n",
       "      <td>26360</td>\n",
       "      <td>Chemie</td>\n",
       "      <td>de</td>\n",
       "      <td>schule</td>\n",
       "    </tr>\n",
       "    <tr>\n",
       "      <th>3021</th>\n",
       "      <td>Teflon (Polytetrafluorethen)</td>\n",
       "      <td>teflon polytetrafluorethen</td>\n",
       "      <td>26362</td>\n",
       "      <td>Chemie</td>\n",
       "      <td>de</td>\n",
       "      <td>schule</td>\n",
       "    </tr>\n",
       "    <tr>\n",
       "      <th>3022</th>\n",
       "      <td>Styropor (Polystyrol)</td>\n",
       "      <td>styropor polystyrol</td>\n",
       "      <td>26364</td>\n",
       "      <td>Chemie</td>\n",
       "      <td>de</td>\n",
       "      <td>schule</td>\n",
       "    </tr>\n",
       "    <tr>\n",
       "      <th>3023</th>\n",
       "      <td>Plexiglas (Polymethylacrylsäure)</td>\n",
       "      <td>plexiglas polymethylacrylsäure</td>\n",
       "      <td>26366</td>\n",
       "      <td>Chemie</td>\n",
       "      <td>de</td>\n",
       "      <td>schule</td>\n",
       "    </tr>\n",
       "    <tr>\n",
       "      <th>3024</th>\n",
       "      <td>Polyethen (PE)</td>\n",
       "      <td>polyethen</td>\n",
       "      <td>26368</td>\n",
       "      <td>Chemie</td>\n",
       "      <td>de</td>\n",
       "      <td>schule</td>\n",
       "    </tr>\n",
       "    <tr>\n",
       "      <th>3025</th>\n",
       "      <td>Polykondensation</td>\n",
       "      <td>polykondensation</td>\n",
       "      <td>26371</td>\n",
       "      <td>Chemie</td>\n",
       "      <td>de</td>\n",
       "      <td>schule</td>\n",
       "    </tr>\n",
       "    <tr>\n",
       "      <th>3036</th>\n",
       "      <td>Stufenreaktion</td>\n",
       "      <td>stufenreaktion</td>\n",
       "      <td>26509</td>\n",
       "      <td>Chemie</td>\n",
       "      <td>de</td>\n",
       "      <td>schule</td>\n",
       "    </tr>\n",
       "    <tr>\n",
       "      <th>3051</th>\n",
       "      <td>Veresterung</td>\n",
       "      <td>veresterung</td>\n",
       "      <td>26753</td>\n",
       "      <td>Chemie</td>\n",
       "      <td>de</td>\n",
       "      <td>schule</td>\n",
       "    </tr>\n",
       "    <tr>\n",
       "      <th>3055</th>\n",
       "      <td>Gründüngung</td>\n",
       "      <td>gründüngung</td>\n",
       "      <td>26834</td>\n",
       "      <td>Nachhaltigkeit</td>\n",
       "      <td>de</td>\n",
       "      <td>schule</td>\n",
       "    </tr>\n",
       "    <tr>\n",
       "      <th>3064</th>\n",
       "      <td>Wie erstellt man ein Diagramm?</td>\n",
       "      <td>erstellt diagramm</td>\n",
       "      <td>26953</td>\n",
       "      <td>Mathe</td>\n",
       "      <td>de</td>\n",
       "      <td>schule</td>\n",
       "    </tr>\n",
       "    <tr>\n",
       "      <th>3065</th>\n",
       "      <td>Wie erstellt man ein Diagramm?</td>\n",
       "      <td>erstellt diagramm</td>\n",
       "      <td>26953</td>\n",
       "      <td>Biologie</td>\n",
       "      <td>de</td>\n",
       "      <td>schule</td>\n",
       "    </tr>\n",
       "    <tr>\n",
       "      <th>3068</th>\n",
       "      <td>Wie recherchiert man im Internet?</td>\n",
       "      <td>recherchiert internet</td>\n",
       "      <td>26954</td>\n",
       "      <td>Biologie</td>\n",
       "      <td>de</td>\n",
       "      <td>schule</td>\n",
       "    </tr>\n",
       "    <tr>\n",
       "      <th>3069</th>\n",
       "      <td>Wie funktionieren Experimente?</td>\n",
       "      <td>funktionieren experimente</td>\n",
       "      <td>27023</td>\n",
       "      <td>Biologie</td>\n",
       "      <td>de</td>\n",
       "      <td>schule</td>\n",
       "    </tr>\n",
       "    <tr>\n",
       "      <th>3073</th>\n",
       "      <td>Wie wertet man ein Diagramm aus?</td>\n",
       "      <td>wertet diagramm</td>\n",
       "      <td>27334</td>\n",
       "      <td>Mathe</td>\n",
       "      <td>de</td>\n",
       "      <td>schule</td>\n",
       "    </tr>\n",
       "    <tr>\n",
       "      <th>3076</th>\n",
       "      <td>Wie wertet man ein Diagramm aus?</td>\n",
       "      <td>wertet diagramm</td>\n",
       "      <td>27334</td>\n",
       "      <td>Biologie</td>\n",
       "      <td>de</td>\n",
       "      <td>schule</td>\n",
       "    </tr>\n",
       "    <tr>\n",
       "      <th>3079</th>\n",
       "      <td>Auswerten eines Diagramms - Lernen mit Serlo!</td>\n",
       "      <td>auswerten diagramms</td>\n",
       "      <td>27334</td>\n",
       "      <td>Mathe</td>\n",
       "      <td>de</td>\n",
       "      <td>schule</td>\n",
       "    </tr>\n",
       "    <tr>\n",
       "      <th>3082</th>\n",
       "      <td>Auswerten eines Diagramms - Lernen mit Serlo!</td>\n",
       "      <td>auswerten diagramms</td>\n",
       "      <td>27334</td>\n",
       "      <td>Biologie</td>\n",
       "      <td>de</td>\n",
       "      <td>schule</td>\n",
       "    </tr>\n",
       "    <tr>\n",
       "      <th>3085</th>\n",
       "      <td>Was Amphibien ausmacht</td>\n",
       "      <td>amphibien ausmacht</td>\n",
       "      <td>27365</td>\n",
       "      <td>Biologie</td>\n",
       "      <td>de</td>\n",
       "      <td>schule</td>\n",
       "    </tr>\n",
       "    <tr>\n",
       "      <th>3089</th>\n",
       "      <td>Frösche und Kröten</td>\n",
       "      <td>frösche kröten</td>\n",
       "      <td>27368</td>\n",
       "      <td>Biologie</td>\n",
       "      <td>de</td>\n",
       "      <td>schule</td>\n",
       "    </tr>\n",
       "    <tr>\n",
       "      <th>3093</th>\n",
       "      <td>Wie geht man mit Modellen um?</td>\n",
       "      <td>geht modellen</td>\n",
       "      <td>27403</td>\n",
       "      <td>Biologie</td>\n",
       "      <td>de</td>\n",
       "      <td>schule</td>\n",
       "    </tr>\n",
       "    <tr>\n",
       "      <th>3095</th>\n",
       "      <td>Molche und Salamander</td>\n",
       "      <td>molche salamander</td>\n",
       "      <td>27443</td>\n",
       "      <td>Biologie</td>\n",
       "      <td>de</td>\n",
       "      <td>schule</td>\n",
       "    </tr>\n",
       "    <tr>\n",
       "      <th>3099</th>\n",
       "      <td>Was Reptilien ausmacht</td>\n",
       "      <td>reptilien ausmacht</td>\n",
       "      <td>27471</td>\n",
       "      <td>Biologie</td>\n",
       "      <td>de</td>\n",
       "      <td>schule</td>\n",
       "    </tr>\n",
       "    <tr>\n",
       "      <th>3103</th>\n",
       "      <td>Was Vögel ausmacht</td>\n",
       "      <td>vögel ausmacht</td>\n",
       "      <td>27475</td>\n",
       "      <td>Biologie</td>\n",
       "      <td>de</td>\n",
       "      <td>schule</td>\n",
       "    </tr>\n",
       "    <tr>\n",
       "      <th>3109</th>\n",
       "      <td>Von Nattern und Vipern</td>\n",
       "      <td>nattern vipern</td>\n",
       "      <td>27521</td>\n",
       "      <td>Biologie</td>\n",
       "      <td>de</td>\n",
       "      <td>schule</td>\n",
       "    </tr>\n",
       "    <tr>\n",
       "      <th>3138</th>\n",
       "      <td>Parallele Ebenen</td>\n",
       "      <td>parallele ebenen</td>\n",
       "      <td>27784</td>\n",
       "      <td>Mathe</td>\n",
       "      <td>de</td>\n",
       "      <td>schule</td>\n",
       "    </tr>\n",
       "    <tr>\n",
       "      <th>3159</th>\n",
       "      <td>Multiplikation von Dezimalbrüchen</td>\n",
       "      <td>multiplikation dezimalbrüchen</td>\n",
       "      <td>27802</td>\n",
       "      <td>Mathe</td>\n",
       "      <td>de</td>\n",
       "      <td>schule</td>\n",
       "    </tr>\n",
       "    <tr>\n",
       "      <th>3167</th>\n",
       "      <td>Einbinden von Aufgaben</td>\n",
       "      <td>einbinden aufgaben</td>\n",
       "      <td>27803</td>\n",
       "      <td>Mathe</td>\n",
       "      <td>de</td>\n",
       "      <td>schule</td>\n",
       "    </tr>\n",
       "    <tr>\n",
       "      <th>3168</th>\n",
       "      <td>Dezimalbruch</td>\n",
       "      <td>dezimalbruch</td>\n",
       "      <td>27823</td>\n",
       "      <td>Mathe</td>\n",
       "      <td>de</td>\n",
       "      <td>schule</td>\n",
       "    </tr>\n",
       "    <tr>\n",
       "      <th>3176</th>\n",
       "      <td>Vergleich von Dezimalzahlen</td>\n",
       "      <td>vergleich dezimalzahlen</td>\n",
       "      <td>27826</td>\n",
       "      <td>Mathe</td>\n",
       "      <td>de</td>\n",
       "      <td>schule</td>\n",
       "    </tr>\n",
       "    <tr>\n",
       "      <th>3186</th>\n",
       "      <td>Division von Dezimalbrüchen</td>\n",
       "      <td>division dezimalbrüchen</td>\n",
       "      <td>28009</td>\n",
       "      <td>Mathe</td>\n",
       "      <td>de</td>\n",
       "      <td>schule</td>\n",
       "    </tr>\n",
       "    <tr>\n",
       "      <th>3210</th>\n",
       "      <td>Was Säugetiere ausmacht</td>\n",
       "      <td>säugetiere ausmacht</td>\n",
       "      <td>28380</td>\n",
       "      <td>Biologie</td>\n",
       "      <td>de</td>\n",
       "      <td>schule</td>\n",
       "    </tr>\n",
       "    <tr>\n",
       "      <th>3222</th>\n",
       "      <td>Binomialkoeffizient</td>\n",
       "      <td>binomialkoeffizient</td>\n",
       "      <td>28557</td>\n",
       "      <td>Mathe</td>\n",
       "      <td>de</td>\n",
       "      <td>schule</td>\n",
       "    </tr>\n",
       "    <tr>\n",
       "      <th>3224</th>\n",
       "      <td>Stellenwertsysteme</td>\n",
       "      <td>stellenwertsysteme</td>\n",
       "      <td>28903</td>\n",
       "      <td>Mathe</td>\n",
       "      <td>de</td>\n",
       "      <td>schule</td>\n",
       "    </tr>\n",
       "    <tr>\n",
       "      <th>3230</th>\n",
       "      <td>Dezimalsystem</td>\n",
       "      <td>dezimalsystem</td>\n",
       "      <td>29291</td>\n",
       "      <td>Mathe</td>\n",
       "      <td>de</td>\n",
       "      <td>schule</td>\n",
       "    </tr>\n",
       "    <tr>\n",
       "      <th>3231</th>\n",
       "      <td>Unabhängigkeit von Zufallsgrößen</td>\n",
       "      <td>unabhängigkeit zufallsgrößen</td>\n",
       "      <td>29482</td>\n",
       "      <td>Mathe</td>\n",
       "      <td>de</td>\n",
       "      <td>schule</td>\n",
       "    </tr>\n",
       "    <tr>\n",
       "      <th>3232</th>\n",
       "      <td>Abzählen mit dem Baumdiagramm</td>\n",
       "      <td>abzählen baumdiagramm</td>\n",
       "      <td>29574</td>\n",
       "      <td>Mathe</td>\n",
       "      <td>de</td>\n",
       "      <td>schule</td>\n",
       "    </tr>\n",
       "    <tr>\n",
       "      <th>3258</th>\n",
       "      <td>Zählprinzip</td>\n",
       "      <td>zählprinzip</td>\n",
       "      <td>29910</td>\n",
       "      <td>Mathe</td>\n",
       "      <td>de</td>\n",
       "      <td>schule</td>\n",
       "    </tr>\n",
       "    <tr>\n",
       "      <th>3278</th>\n",
       "      <td>Stoffe und Eigenschaften</td>\n",
       "      <td>stoffe eigenschaften</td>\n",
       "      <td>30676</td>\n",
       "      <td>Chemie</td>\n",
       "      <td>de</td>\n",
       "      <td>schule</td>\n",
       "    </tr>\n",
       "    <tr>\n",
       "      <th>3285</th>\n",
       "      <td>Liste von Stoffeigenschaften</td>\n",
       "      <td>liste stoffeigenschaften</td>\n",
       "      <td>31700</td>\n",
       "      <td>Chemie</td>\n",
       "      <td>de</td>\n",
       "      <td>schule</td>\n",
       "    </tr>\n",
       "    <tr>\n",
       "      <th>3293</th>\n",
       "      <td>Ionen</td>\n",
       "      <td>ionen</td>\n",
       "      <td>32005</td>\n",
       "      <td>Chemie</td>\n",
       "      <td>de</td>\n",
       "      <td>schule</td>\n",
       "    </tr>\n",
       "    <tr>\n",
       "      <th>3295</th>\n",
       "      <td>Thermoplasten</td>\n",
       "      <td>thermoplasten</td>\n",
       "      <td>32042</td>\n",
       "      <td>Chemie</td>\n",
       "      <td>de</td>\n",
       "      <td>schule</td>\n",
       "    </tr>\n",
       "    <tr>\n",
       "      <th>3297</th>\n",
       "      <td>Duroplaste</td>\n",
       "      <td>duroplaste</td>\n",
       "      <td>32044</td>\n",
       "      <td>Chemie</td>\n",
       "      <td>de</td>\n",
       "      <td>schule</td>\n",
       "    </tr>\n",
       "    <tr>\n",
       "      <th>3299</th>\n",
       "      <td>Eigenschaften von Kunststoffen</td>\n",
       "      <td>eigenschaften kunststoffen</td>\n",
       "      <td>32048</td>\n",
       "      <td>Chemie</td>\n",
       "      <td>de</td>\n",
       "      <td>schule</td>\n",
       "    </tr>\n",
       "    <tr>\n",
       "      <th>3301</th>\n",
       "      <td>Was Fische ausmacht</td>\n",
       "      <td>fische ausmacht</td>\n",
       "      <td>32173</td>\n",
       "      <td>Biologie</td>\n",
       "      <td>de</td>\n",
       "      <td>schule</td>\n",
       "    </tr>\n",
       "    <tr>\n",
       "      <th>3305</th>\n",
       "      <td>Polypropen (PP)</td>\n",
       "      <td>polypropen</td>\n",
       "      <td>32181</td>\n",
       "      <td>Chemie</td>\n",
       "      <td>de</td>\n",
       "      <td>schule</td>\n",
       "    </tr>\n",
       "    <tr>\n",
       "      <th>3306</th>\n",
       "      <td>Polystyrol</td>\n",
       "      <td>polystyrol</td>\n",
       "      <td>32183</td>\n",
       "      <td>Chemie</td>\n",
       "      <td>de</td>\n",
       "      <td>schule</td>\n",
       "    </tr>\n",
       "    <tr>\n",
       "      <th>3313</th>\n",
       "      <td>Dissoziationsgleichung</td>\n",
       "      <td>dissoziationsgleichung</td>\n",
       "      <td>32305</td>\n",
       "      <td>Chemie</td>\n",
       "      <td>de</td>\n",
       "      <td>schule</td>\n",
       "    </tr>\n",
       "    <tr>\n",
       "      <th>3315</th>\n",
       "      <td>Chemische Zeichensprache</td>\n",
       "      <td>chemische zeichensprache</td>\n",
       "      <td>32387</td>\n",
       "      <td>Chemie</td>\n",
       "      <td>de</td>\n",
       "      <td>schule</td>\n",
       "    </tr>\n",
       "    <tr>\n",
       "      <th>3317</th>\n",
       "      <td>Was Spinnentiere ausmacht</td>\n",
       "      <td>spinnentiere ausmacht</td>\n",
       "      <td>32427</td>\n",
       "      <td>Biologie</td>\n",
       "      <td>de</td>\n",
       "      <td>schule</td>\n",
       "    </tr>\n",
       "    <tr>\n",
       "      <th>3321</th>\n",
       "      <td>Was Insekten ausmacht</td>\n",
       "      <td>insekten ausmacht</td>\n",
       "      <td>32429</td>\n",
       "      <td>Biologie</td>\n",
       "      <td>de</td>\n",
       "      <td>schule</td>\n",
       "    </tr>\n",
       "    <tr>\n",
       "      <th>3334</th>\n",
       "      <td>Aufbau eines Neurons</td>\n",
       "      <td>aufbau neurons</td>\n",
       "      <td>33055</td>\n",
       "      <td>Biologie</td>\n",
       "      <td>de</td>\n",
       "      <td>schule</td>\n",
       "    </tr>\n",
       "    <tr>\n",
       "      <th>3346</th>\n",
       "      <td>Das Ruhepotential</td>\n",
       "      <td>ruhepotential</td>\n",
       "      <td>33157</td>\n",
       "      <td>Biologie</td>\n",
       "      <td>de</td>\n",
       "      <td>schule</td>\n",
       "    </tr>\n",
       "    <tr>\n",
       "      <th>3352</th>\n",
       "      <td>Das Aktionspotential</td>\n",
       "      <td>aktionspotential</td>\n",
       "      <td>33412</td>\n",
       "      <td>Biologie</td>\n",
       "      <td>de</td>\n",
       "      <td>schule</td>\n",
       "    </tr>\n",
       "    <tr>\n",
       "      <th>3377</th>\n",
       "      <td>Erregungsleitung im Axon</td>\n",
       "      <td>erregungsleitung axon</td>\n",
       "      <td>34019</td>\n",
       "      <td>Biologie</td>\n",
       "      <td>de</td>\n",
       "      <td>schule</td>\n",
       "    </tr>\n",
       "    <tr>\n",
       "      <th>3383</th>\n",
       "      <td>Artikel</td>\n",
       "      <td>artikel</td>\n",
       "      <td>34159</td>\n",
       "      <td>Nachhaltigkeit</td>\n",
       "      <td>de</td>\n",
       "      <td>schule</td>\n",
       "    </tr>\n",
       "    <tr>\n",
       "      <th>3385</th>\n",
       "      <td>Schlüssellochbeet</td>\n",
       "      <td>schlüssellochbeet</td>\n",
       "      <td>34249</td>\n",
       "      <td>Nachhaltigkeit</td>\n",
       "      <td>de</td>\n",
       "      <td>schule</td>\n",
       "    </tr>\n",
       "    <tr>\n",
       "      <th>3386</th>\n",
       "      <td>Hochbeet</td>\n",
       "      <td>hochbeet</td>\n",
       "      <td>34307</td>\n",
       "      <td>Nachhaltigkeit</td>\n",
       "      <td>de</td>\n",
       "      <td>schule</td>\n",
       "    </tr>\n",
       "    <tr>\n",
       "      <th>3388</th>\n",
       "      <td>Vertikale Gärten</td>\n",
       "      <td>vertikale gärten</td>\n",
       "      <td>34329</td>\n",
       "      <td>Nachhaltigkeit</td>\n",
       "      <td>de</td>\n",
       "      <td>schule</td>\n",
       "    </tr>\n",
       "    <tr>\n",
       "      <th>3390</th>\n",
       "      <td>Kräuterspirale</td>\n",
       "      <td>kräuterspirale</td>\n",
       "      <td>34331</td>\n",
       "      <td>Nachhaltigkeit</td>\n",
       "      <td>de</td>\n",
       "      <td>schule</td>\n",
       "    </tr>\n",
       "    <tr>\n",
       "      <th>3452</th>\n",
       "      <td>Die Ethik der Permakultur</td>\n",
       "      <td>ethik permakultur</td>\n",
       "      <td>35135</td>\n",
       "      <td>Nachhaltigkeit</td>\n",
       "      <td>de</td>\n",
       "      <td>schule</td>\n",
       "    </tr>\n",
       "    <tr>\n",
       "      <th>3455</th>\n",
       "      <td>Nachhaltigkeit</td>\n",
       "      <td>nachhaltigkeit</td>\n",
       "      <td>35149</td>\n",
       "      <td>Nachhaltigkeit</td>\n",
       "      <td>de</td>\n",
       "      <td>schule</td>\n",
       "    </tr>\n",
       "    <tr>\n",
       "      <th>3472</th>\n",
       "      <td>Gewächshäuser</td>\n",
       "      <td>gewächshäuser</td>\n",
       "      <td>35554</td>\n",
       "      <td>Nachhaltigkeit</td>\n",
       "      <td>de</td>\n",
       "      <td>schule</td>\n",
       "    </tr>\n",
       "    <tr>\n",
       "      <th>3474</th>\n",
       "      <td>Achsensymmetrie</td>\n",
       "      <td>achsensymmetrie</td>\n",
       "      <td>35620</td>\n",
       "      <td>Mathe</td>\n",
       "      <td>de</td>\n",
       "      <td>schule</td>\n",
       "    </tr>\n",
       "    <tr>\n",
       "      <th>3482</th>\n",
       "      <td>Körpernetze</td>\n",
       "      <td>körpernetze</td>\n",
       "      <td>35621</td>\n",
       "      <td>Mathe</td>\n",
       "      <td>de</td>\n",
       "      <td>schule</td>\n",
       "    </tr>\n",
       "    <tr>\n",
       "      <th>3500</th>\n",
       "      <td>Besondere Dreiecke</td>\n",
       "      <td>besondere dreiecke</td>\n",
       "      <td>35663</td>\n",
       "      <td>Mathe</td>\n",
       "      <td>de</td>\n",
       "      <td>schule</td>\n",
       "    </tr>\n",
       "    <tr>\n",
       "      <th>3506</th>\n",
       "      <td>Punktsymmetrie</td>\n",
       "      <td>punktsymmetrie</td>\n",
       "      <td>35721</td>\n",
       "      <td>Mathe</td>\n",
       "      <td>de</td>\n",
       "      <td>schule</td>\n",
       "    </tr>\n",
       "    <tr>\n",
       "      <th>3516</th>\n",
       "      <td>Gleichschenkliges Dreieck</td>\n",
       "      <td>gleichschenkliges dreieck</td>\n",
       "      <td>35866</td>\n",
       "      <td>Mathe</td>\n",
       "      <td>de</td>\n",
       "      <td>schule</td>\n",
       "    </tr>\n",
       "    <tr>\n",
       "      <th>3530</th>\n",
       "      <td>Gleichseitiges Dreieck</td>\n",
       "      <td>gleichseitiges dreieck</td>\n",
       "      <td>35991</td>\n",
       "      <td>Mathe</td>\n",
       "      <td>de</td>\n",
       "      <td>schule</td>\n",
       "    </tr>\n",
       "    <tr>\n",
       "      <th>3538</th>\n",
       "      <td>Terrassierung</td>\n",
       "      <td>terrassierung</td>\n",
       "      <td>36026</td>\n",
       "      <td>Nachhaltigkeit</td>\n",
       "      <td>de</td>\n",
       "      <td>schule</td>\n",
       "    </tr>\n",
       "    <tr>\n",
       "      <th>3540</th>\n",
       "      <td>Rechtwinkliges Dreieck</td>\n",
       "      <td>rechtwinkliges dreieck</td>\n",
       "      <td>36070</td>\n",
       "      <td>Mathe</td>\n",
       "      <td>de</td>\n",
       "      <td>schule</td>\n",
       "    </tr>\n",
       "    <tr>\n",
       "      <th>3546</th>\n",
       "      <td>Erdmiete</td>\n",
       "      <td>erdmiete</td>\n",
       "      <td>36153</td>\n",
       "      <td>Nachhaltigkeit</td>\n",
       "      <td>de</td>\n",
       "      <td>schule</td>\n",
       "    </tr>\n",
       "    <tr>\n",
       "      <th>3550</th>\n",
       "      <td>Würfel (Kubus)</td>\n",
       "      <td>würfel kubus</td>\n",
       "      <td>36160</td>\n",
       "      <td>Mathe</td>\n",
       "      <td>de</td>\n",
       "      <td>schule</td>\n",
       "    </tr>\n",
       "    <tr>\n",
       "      <th>3562</th>\n",
       "      <td>Kreis</td>\n",
       "      <td>kreis</td>\n",
       "      <td>36162</td>\n",
       "      <td>Mathe</td>\n",
       "      <td>de</td>\n",
       "      <td>schule</td>\n",
       "    </tr>\n",
       "    <tr>\n",
       "      <th>3578</th>\n",
       "      <td>Tetraeder</td>\n",
       "      <td>tetraeder</td>\n",
       "      <td>36213</td>\n",
       "      <td>Mathe</td>\n",
       "      <td>de</td>\n",
       "      <td>schule</td>\n",
       "    </tr>\n",
       "    <tr>\n",
       "      <th>3580</th>\n",
       "      <td>Kreissektor</td>\n",
       "      <td>kreissektor</td>\n",
       "      <td>36264</td>\n",
       "      <td>Mathe</td>\n",
       "      <td>de</td>\n",
       "      <td>schule</td>\n",
       "    </tr>\n",
       "    <tr>\n",
       "      <th>3585</th>\n",
       "      <td>Maßstab</td>\n",
       "      <td>maßstab</td>\n",
       "      <td>36268</td>\n",
       "      <td>Mathe</td>\n",
       "      <td>de</td>\n",
       "      <td>schule</td>\n",
       "    </tr>\n",
       "    <tr>\n",
       "      <th>3595</th>\n",
       "      <td>Umrechnungsfaktoren</td>\n",
       "      <td>umrechnungsfaktoren</td>\n",
       "      <td>36570</td>\n",
       "      <td>Mathe</td>\n",
       "      <td>de</td>\n",
       "      <td>schule</td>\n",
       "    </tr>\n",
       "    <tr>\n",
       "      <th>3603</th>\n",
       "      <td>Prozent und Prozentpunkte</td>\n",
       "      <td>prozent prozentpunkte</td>\n",
       "      <td>37054</td>\n",
       "      <td>Mathe</td>\n",
       "      <td>de</td>\n",
       "      <td>schule</td>\n",
       "    </tr>\n",
       "    <tr>\n",
       "      <th>3609</th>\n",
       "      <td>Zonierung</td>\n",
       "      <td>zonierung</td>\n",
       "      <td>37914</td>\n",
       "      <td>Nachhaltigkeit</td>\n",
       "      <td>de</td>\n",
       "      <td>schule</td>\n",
       "    </tr>\n",
       "    <tr>\n",
       "      <th>3619</th>\n",
       "      <td>Wurmfarm</td>\n",
       "      <td>wurmfarm</td>\n",
       "      <td>38903</td>\n",
       "      <td>Nachhaltigkeit</td>\n",
       "      <td>de</td>\n",
       "      <td>schule</td>\n",
       "    </tr>\n",
       "    <tr>\n",
       "      <th>3621</th>\n",
       "      <td>Komposttoilette</td>\n",
       "      <td>komposttoilette</td>\n",
       "      <td>38906</td>\n",
       "      <td>Nachhaltigkeit</td>\n",
       "      <td>de</td>\n",
       "      <td>schule</td>\n",
       "    </tr>\n",
       "    <tr>\n",
       "      <th>3623</th>\n",
       "      <td>Neurologische Messtechniken</td>\n",
       "      <td>neurologische messtechniken</td>\n",
       "      <td>39805</td>\n",
       "      <td>Biologie</td>\n",
       "      <td>de</td>\n",
       "      <td>schule</td>\n",
       "    </tr>\n",
       "    <tr>\n",
       "      <th>3629</th>\n",
       "      <td>Nervengifte - wo und wie sie wirken</td>\n",
       "      <td>nervengifte wirken</td>\n",
       "      <td>39810</td>\n",
       "      <td>Biologie</td>\n",
       "      <td>de</td>\n",
       "      <td>schule</td>\n",
       "    </tr>\n",
       "    <tr>\n",
       "      <th>3632</th>\n",
       "      <td>Nervengifte - Lernen mit Serlo!</td>\n",
       "      <td>nervengifte</td>\n",
       "      <td>39810</td>\n",
       "      <td>Biologie</td>\n",
       "      <td>de</td>\n",
       "      <td>schule</td>\n",
       "    </tr>\n",
       "    <tr>\n",
       "      <th>3641</th>\n",
       "      <td>Reflexe</td>\n",
       "      <td>reflexe</td>\n",
       "      <td>39822</td>\n",
       "      <td>Biologie</td>\n",
       "      <td>de</td>\n",
       "      <td>schule</td>\n",
       "    </tr>\n",
       "    <tr>\n",
       "      <th>3647</th>\n",
       "      <td>Wiris</td>\n",
       "      <td>wiris</td>\n",
       "      <td>39889</td>\n",
       "      <td>Mathe</td>\n",
       "      <td>de</td>\n",
       "      <td>schule</td>\n",
       "    </tr>\n",
       "    <tr>\n",
       "      <th>3649</th>\n",
       "      <td>Wie mikroskopiere ich richtig?</td>\n",
       "      <td>mikroskopiere richtig</td>\n",
       "      <td>39986</td>\n",
       "      <td>Biologie</td>\n",
       "      <td>de</td>\n",
       "      <td>schule</td>\n",
       "    </tr>\n",
       "    <tr>\n",
       "      <th>3657</th>\n",
       "      <td>Eckpunkt</td>\n",
       "      <td>eckpunkt</td>\n",
       "      <td>40036</td>\n",
       "      <td>Mathe</td>\n",
       "      <td>de</td>\n",
       "      <td>schule</td>\n",
       "    </tr>\n",
       "    <tr>\n",
       "      <th>3667</th>\n",
       "      <td>Kante</td>\n",
       "      <td>kante</td>\n",
       "      <td>40041</td>\n",
       "      <td>Mathe</td>\n",
       "      <td>de</td>\n",
       "      <td>schule</td>\n",
       "    </tr>\n",
       "    <tr>\n",
       "      <th>3673</th>\n",
       "      <td>Was sind Hormone?</td>\n",
       "      <td>hormone</td>\n",
       "      <td>40346</td>\n",
       "      <td>Biologie</td>\n",
       "      <td>de</td>\n",
       "      <td>schule</td>\n",
       "    </tr>\n",
       "    <tr>\n",
       "      <th>3683</th>\n",
       "      <td>Die prokaryotische Zelle</td>\n",
       "      <td>prokaryotische zelle</td>\n",
       "      <td>40572</td>\n",
       "      <td>Biologie</td>\n",
       "      <td>de</td>\n",
       "      <td>schule</td>\n",
       "    </tr>\n",
       "    <tr>\n",
       "      <th>3691</th>\n",
       "      <td>Elektrischer Stromkreis</td>\n",
       "      <td>elektrischer stromkreis</td>\n",
       "      <td>41473</td>\n",
       "      <td>Physik</td>\n",
       "      <td>de</td>\n",
       "      <td>schule</td>\n",
       "    </tr>\n",
       "    <tr>\n",
       "      <th>3697</th>\n",
       "      <td>Dezimalzahl bzw. Dezimalbruch</td>\n",
       "      <td>dezimalzahl dezimalbruch</td>\n",
       "      <td>41695</td>\n",
       "      <td>Mathe</td>\n",
       "      <td>de</td>\n",
       "      <td>schule</td>\n",
       "    </tr>\n",
       "    <tr>\n",
       "      <th>3699</th>\n",
       "      <td>Runden</td>\n",
       "      <td>runden</td>\n",
       "      <td>41763</td>\n",
       "      <td>Mathe</td>\n",
       "      <td>de</td>\n",
       "      <td>schule</td>\n",
       "    </tr>\n",
       "    <tr>\n",
       "      <th>3701</th>\n",
       "      <td>Runden einer Dezimalzahl</td>\n",
       "      <td>runden dezimalzahl</td>\n",
       "      <td>41805</td>\n",
       "      <td>Mathe</td>\n",
       "      <td>de</td>\n",
       "      <td>schule</td>\n",
       "    </tr>\n",
       "    <tr>\n",
       "      <th>3703</th>\n",
       "      <td>Elektrische Ladung</td>\n",
       "      <td>elektrische ladung</td>\n",
       "      <td>42017</td>\n",
       "      <td>Physik</td>\n",
       "      <td>de</td>\n",
       "      <td>schule</td>\n",
       "    </tr>\n",
       "    <tr>\n",
       "      <th>3715</th>\n",
       "      <td>Elektrisches Feld</td>\n",
       "      <td>elektrisches feld</td>\n",
       "      <td>42090</td>\n",
       "      <td>Physik</td>\n",
       "      <td>de</td>\n",
       "      <td>schule</td>\n",
       "    </tr>\n",
       "    <tr>\n",
       "      <th>3717</th>\n",
       "      <td>Elektrische Spannung</td>\n",
       "      <td>elektrische spannung</td>\n",
       "      <td>42091</td>\n",
       "      <td>Physik</td>\n",
       "      <td>de</td>\n",
       "      <td>schule</td>\n",
       "    </tr>\n",
       "    <tr>\n",
       "      <th>3721</th>\n",
       "      <td>Längen im Koordinatensystem</td>\n",
       "      <td>längen koordinatensystem</td>\n",
       "      <td>42242</td>\n",
       "      <td>Mathe</td>\n",
       "      <td>de</td>\n",
       "      <td>schule</td>\n",
       "    </tr>\n",
       "    <tr>\n",
       "      <th>3723</th>\n",
       "      <td>Spiegelung</td>\n",
       "      <td>spiegelung</td>\n",
       "      <td>42246</td>\n",
       "      <td>Mathe</td>\n",
       "      <td>de</td>\n",
       "      <td>schule</td>\n",
       "    </tr>\n",
       "    <tr>\n",
       "      <th>3728</th>\n",
       "      <td>Wertetabelle</td>\n",
       "      <td>wertetabelle</td>\n",
       "      <td>42380</td>\n",
       "      <td>Mathe</td>\n",
       "      <td>de</td>\n",
       "      <td>schule</td>\n",
       "    </tr>\n",
       "    <tr>\n",
       "      <th>3752</th>\n",
       "      <td>Spiegeln im Gitternetz</td>\n",
       "      <td>spiegeln gitternetz</td>\n",
       "      <td>42406</td>\n",
       "      <td>Mathe</td>\n",
       "      <td>de</td>\n",
       "      <td>schule</td>\n",
       "    </tr>\n",
       "    <tr>\n",
       "      <th>3761</th>\n",
       "      <td>1. Potenzen und Polynome</td>\n",
       "      <td>potenzen polynome</td>\n",
       "      <td>43048</td>\n",
       "      <td>Mathe</td>\n",
       "      <td>de</td>\n",
       "      <td>schule</td>\n",
       "    </tr>\n",
       "    <tr>\n",
       "      <th>3764</th>\n",
       "      <td>Abbildungen in der Ebene</td>\n",
       "      <td>abbildungen ebene</td>\n",
       "      <td>43184</td>\n",
       "      <td>Mathe</td>\n",
       "      <td>de</td>\n",
       "      <td>schule</td>\n",
       "    </tr>\n",
       "    <tr>\n",
       "      <th>3772</th>\n",
       "      <td>3. Aussagenlogik</td>\n",
       "      <td>aussagenlogik</td>\n",
       "      <td>43254</td>\n",
       "      <td>Mathe</td>\n",
       "      <td>de</td>\n",
       "      <td>schule</td>\n",
       "    </tr>\n",
       "    <tr>\n",
       "      <th>3774</th>\n",
       "      <td>5. Mengen</td>\n",
       "      <td>mengen</td>\n",
       "      <td>43256</td>\n",
       "      <td>Mathe</td>\n",
       "      <td>de</td>\n",
       "      <td>schule</td>\n",
       "    </tr>\n",
       "    <tr>\n",
       "      <th>3776</th>\n",
       "      <td>7. Ordnungsrelationen</td>\n",
       "      <td>ordnungsrelationen</td>\n",
       "      <td>43258</td>\n",
       "      <td>Mathe</td>\n",
       "      <td>de</td>\n",
       "      <td>schule</td>\n",
       "    </tr>\n",
       "    <tr>\n",
       "      <th>3780</th>\n",
       "      <td>9. Folgen</td>\n",
       "      <td>folgen</td>\n",
       "      <td>43285</td>\n",
       "      <td>Mathe</td>\n",
       "      <td>de</td>\n",
       "      <td>schule</td>\n",
       "    </tr>\n",
       "    <tr>\n",
       "      <th>3783</th>\n",
       "      <td>4. Beweise</td>\n",
       "      <td>beweise</td>\n",
       "      <td>43309</td>\n",
       "      <td>Mathe</td>\n",
       "      <td>de</td>\n",
       "      <td>schule</td>\n",
       "    </tr>\n",
       "    <tr>\n",
       "      <th>3785</th>\n",
       "      <td>2. Logarithmen</td>\n",
       "      <td>logarithmen</td>\n",
       "      <td>43367</td>\n",
       "      <td>Mathe</td>\n",
       "      <td>de</td>\n",
       "      <td>schule</td>\n",
       "    </tr>\n",
       "    <tr>\n",
       "      <th>3787</th>\n",
       "      <td>0. Einstimmung</td>\n",
       "      <td>einstimmung</td>\n",
       "      <td>43433</td>\n",
       "      <td>Mathe</td>\n",
       "      <td>de</td>\n",
       "      <td>schule</td>\n",
       "    </tr>\n",
       "    <tr>\n",
       "      <th>3790</th>\n",
       "      <td>8. Abbildungen</td>\n",
       "      <td>abbildungen</td>\n",
       "      <td>43455</td>\n",
       "      <td>Mathe</td>\n",
       "      <td>de</td>\n",
       "      <td>schule</td>\n",
       "    </tr>\n",
       "    <tr>\n",
       "      <th>3793</th>\n",
       "      <td>12. Lineare Gleichungssysteme</td>\n",
       "      <td>lineare gleichungssysteme</td>\n",
       "      <td>43477</td>\n",
       "      <td>Mathe</td>\n",
       "      <td>de</td>\n",
       "      <td>schule</td>\n",
       "    </tr>\n",
       "    <tr>\n",
       "      <th>3795</th>\n",
       "      <td>Parallelverschiebung</td>\n",
       "      <td>parallelverschiebung</td>\n",
       "      <td>43629</td>\n",
       "      <td>Mathe</td>\n",
       "      <td>de</td>\n",
       "      <td>schule</td>\n",
       "    </tr>\n",
       "    <tr>\n",
       "      <th>3799</th>\n",
       "      <td>Orthogonale Affinität</td>\n",
       "      <td>orthogonale affinität</td>\n",
       "      <td>43633</td>\n",
       "      <td>Mathe</td>\n",
       "      <td>de</td>\n",
       "      <td>schule</td>\n",
       "    </tr>\n",
       "    <tr>\n",
       "      <th>3807</th>\n",
       "      <td>Spiegelung an einer Ursprungsgeraden</td>\n",
       "      <td>spiegelung ursprungsgeraden</td>\n",
       "      <td>43778</td>\n",
       "      <td>Mathe</td>\n",
       "      <td>de</td>\n",
       "      <td>schule</td>\n",
       "    </tr>\n",
       "    <tr>\n",
       "      <th>3811</th>\n",
       "      <td>Abszisse und Ordinate</td>\n",
       "      <td>abszisse ordinate</td>\n",
       "      <td>44993</td>\n",
       "      <td>Mathe</td>\n",
       "      <td>de</td>\n",
       "      <td>schule</td>\n",
       "    </tr>\n",
       "    <tr>\n",
       "      <th>3813</th>\n",
       "      <td>Verknüpfung von Abbildungen</td>\n",
       "      <td>verknüpfung abbildungen</td>\n",
       "      <td>45468</td>\n",
       "      <td>Mathe</td>\n",
       "      <td>de</td>\n",
       "      <td>schule</td>\n",
       "    </tr>\n",
       "    <tr>\n",
       "      <th>3817</th>\n",
       "      <td>Fixpunkte und Fixgeraden</td>\n",
       "      <td>fixpunkte fixgeraden</td>\n",
       "      <td>45506</td>\n",
       "      <td>Mathe</td>\n",
       "      <td>de</td>\n",
       "      <td>schule</td>\n",
       "    </tr>\n",
       "    <tr>\n",
       "      <th>3819</th>\n",
       "      <td>Polarkoordinaten</td>\n",
       "      <td>polarkoordinaten</td>\n",
       "      <td>45643</td>\n",
       "      <td>Mathe</td>\n",
       "      <td>de</td>\n",
       "      <td>schule</td>\n",
       "    </tr>\n",
       "    <tr>\n",
       "      <th>3822</th>\n",
       "      <td>Summenzeichen</td>\n",
       "      <td>summenzeichen</td>\n",
       "      <td>45699</td>\n",
       "      <td>Mathe</td>\n",
       "      <td>de</td>\n",
       "      <td>schule</td>\n",
       "    </tr>\n",
       "    <tr>\n",
       "      <th>3834</th>\n",
       "      <td>Kirchhoffsche Regeln</td>\n",
       "      <td>kirchhoffsche regeln</td>\n",
       "      <td>46687</td>\n",
       "      <td>Physik</td>\n",
       "      <td>de</td>\n",
       "      <td>schule</td>\n",
       "    </tr>\n",
       "    <tr>\n",
       "      <th>3864</th>\n",
       "      <td>Unterteilung der Stoffe (x)</td>\n",
       "      <td>unterteilung stoffe</td>\n",
       "      <td>47551</td>\n",
       "      <td>Chemie</td>\n",
       "      <td>de</td>\n",
       "      <td>schule</td>\n",
       "    </tr>\n",
       "    <tr>\n",
       "      <th>3876</th>\n",
       "      <td>Bruchgleichung</td>\n",
       "      <td>bruchgleichung</td>\n",
       "      <td>47773</td>\n",
       "      <td>Mathe</td>\n",
       "      <td>de</td>\n",
       "      <td>schule</td>\n",
       "    </tr>\n",
       "    <tr>\n",
       "      <th>3881</th>\n",
       "      <td>Bruchgleichungen</td>\n",
       "      <td>bruchgleichungen</td>\n",
       "      <td>47773</td>\n",
       "      <td>Mathe</td>\n",
       "      <td>de</td>\n",
       "      <td>schule</td>\n",
       "    </tr>\n",
       "    <tr>\n",
       "      <th>3889</th>\n",
       "      <td>Caesar-Verschlüsselung</td>\n",
       "      <td>caesar verschlüsselung</td>\n",
       "      <td>48121</td>\n",
       "      <td>Informatik</td>\n",
       "      <td>de</td>\n",
       "      <td>schule</td>\n",
       "    </tr>\n",
       "    <tr>\n",
       "      <th>3891</th>\n",
       "      <td>Photoelektrischer Effekt</td>\n",
       "      <td>photoelektrischer effekt</td>\n",
       "      <td>48261</td>\n",
       "      <td>Physik</td>\n",
       "      <td>de</td>\n",
       "      <td>schule</td>\n",
       "    </tr>\n",
       "    <tr>\n",
       "      <th>3895</th>\n",
       "      <td>Vigenère-Verschlüsselung</td>\n",
       "      <td>vigenère verschlüsselung</td>\n",
       "      <td>48392</td>\n",
       "      <td>Informatik</td>\n",
       "      <td>de</td>\n",
       "      <td>schule</td>\n",
       "    </tr>\n",
       "    <tr>\n",
       "      <th>3897</th>\n",
       "      <td>Das menschliche Skelett</td>\n",
       "      <td>menschliche skelett</td>\n",
       "      <td>48682</td>\n",
       "      <td>Biologie</td>\n",
       "      <td>de</td>\n",
       "      <td>schule</td>\n",
       "    </tr>\n",
       "    <tr>\n",
       "      <th>3899</th>\n",
       "      <td>Die menschliche Wirbelsäule</td>\n",
       "      <td>menschliche wirbelsäule</td>\n",
       "      <td>48684</td>\n",
       "      <td>Biologie</td>\n",
       "      <td>de</td>\n",
       "      <td>schule</td>\n",
       "    </tr>\n",
       "    <tr>\n",
       "      <th>3901</th>\n",
       "      <td>Der menschliche Schädel</td>\n",
       "      <td>menschliche schädel</td>\n",
       "      <td>48687</td>\n",
       "      <td>Biologie</td>\n",
       "      <td>de</td>\n",
       "      <td>schule</td>\n",
       "    </tr>\n",
       "    <tr>\n",
       "      <th>3905</th>\n",
       "      <td>Funktion von Muskeln</td>\n",
       "      <td>funktion muskeln</td>\n",
       "      <td>48692</td>\n",
       "      <td>Biologie</td>\n",
       "      <td>de</td>\n",
       "      <td>schule</td>\n",
       "    </tr>\n",
       "    <tr>\n",
       "      <th>3909</th>\n",
       "      <td>So sind Knochen aufgebaut</td>\n",
       "      <td>knochen aufgebaut</td>\n",
       "      <td>48696</td>\n",
       "      <td>Biologie</td>\n",
       "      <td>de</td>\n",
       "      <td>schule</td>\n",
       "    </tr>\n",
       "    <tr>\n",
       "      <th>3911</th>\n",
       "      <td>Wie entsteht Humus?</td>\n",
       "      <td>entsteht humus</td>\n",
       "      <td>48713</td>\n",
       "      <td>Nachhaltigkeit</td>\n",
       "      <td>de</td>\n",
       "      <td>schule</td>\n",
       "    </tr>\n",
       "    <tr>\n",
       "      <th>3919</th>\n",
       "      <td>Boolesche Ausdrücke</td>\n",
       "      <td>boolesche ausdrücke</td>\n",
       "      <td>48907</td>\n",
       "      <td>Informatik</td>\n",
       "      <td>de</td>\n",
       "      <td>schule</td>\n",
       "    </tr>\n",
       "    <tr>\n",
       "      <th>3921</th>\n",
       "      <td>Logarithmusfunktion</td>\n",
       "      <td>logarithmusfunktion</td>\n",
       "      <td>49133</td>\n",
       "      <td>Mathe</td>\n",
       "      <td>de</td>\n",
       "      <td>schule</td>\n",
       "    </tr>\n",
       "    <tr>\n",
       "      <th>3925</th>\n",
       "      <td>Zähler eines Bruches</td>\n",
       "      <td>zähler bruches</td>\n",
       "      <td>49349</td>\n",
       "      <td>Mathe</td>\n",
       "      <td>de</td>\n",
       "      <td>schule</td>\n",
       "    </tr>\n",
       "    <tr>\n",
       "      <th>3931</th>\n",
       "      <td>Halbwerts- und Verdoppelungszeit</td>\n",
       "      <td>halbwerts verdoppelungszeit</td>\n",
       "      <td>49388</td>\n",
       "      <td>Mathe</td>\n",
       "      <td>de</td>\n",
       "      <td>schule</td>\n",
       "    </tr>\n",
       "    <tr>\n",
       "      <th>3936</th>\n",
       "      <td>Bruchzahlen in Worten</td>\n",
       "      <td>bruchzahlen worten</td>\n",
       "      <td>49468</td>\n",
       "      <td>Mathe</td>\n",
       "      <td>de</td>\n",
       "      <td>schule</td>\n",
       "    </tr>\n",
       "    <tr>\n",
       "      <th>3942</th>\n",
       "      <td>Compton-Effekt</td>\n",
       "      <td>compton effekt</td>\n",
       "      <td>49487</td>\n",
       "      <td>Physik</td>\n",
       "      <td>de</td>\n",
       "      <td>schule</td>\n",
       "    </tr>\n",
       "    <tr>\n",
       "      <th>3946</th>\n",
       "      <td>Elektrisches Potential</td>\n",
       "      <td>elektrisches potential</td>\n",
       "      <td>49677</td>\n",
       "      <td>Physik</td>\n",
       "      <td>de</td>\n",
       "      <td>schule</td>\n",
       "    </tr>\n",
       "    <tr>\n",
       "      <th>3948</th>\n",
       "      <td>Nenner eines Bruches</td>\n",
       "      <td>nenner bruches</td>\n",
       "      <td>49720</td>\n",
       "      <td>Mathe</td>\n",
       "      <td>de</td>\n",
       "      <td>schule</td>\n",
       "    </tr>\n",
       "    <tr>\n",
       "      <th>3951</th>\n",
       "      <td>Eulersche Zahl</td>\n",
       "      <td>eulersche zahl</td>\n",
       "      <td>49745</td>\n",
       "      <td>Mathe</td>\n",
       "      <td>de</td>\n",
       "      <td>schule</td>\n",
       "    </tr>\n",
       "    <tr>\n",
       "      <th>3958</th>\n",
       "      <td>Elektrische Feldlinien</td>\n",
       "      <td>elektrische feldlinien</td>\n",
       "      <td>50383</td>\n",
       "      <td>Physik</td>\n",
       "      <td>de</td>\n",
       "      <td>schule</td>\n",
       "    </tr>\n",
       "    <tr>\n",
       "      <th>3962</th>\n",
       "      <td>Rechnen mit Brüchen - Lernen mit Serlo!</td>\n",
       "      <td>rechnen brüchen</td>\n",
       "      <td>50493</td>\n",
       "      <td>Mathe</td>\n",
       "      <td>de</td>\n",
       "      <td>schule</td>\n",
       "    </tr>\n",
       "    <tr>\n",
       "      <th>3964</th>\n",
       "      <td>Termumformung mit Zahlen</td>\n",
       "      <td>termumformung zahlen</td>\n",
       "      <td>50515</td>\n",
       "      <td>Mathe</td>\n",
       "      <td>de</td>\n",
       "      <td>schule</td>\n",
       "    </tr>\n",
       "    <tr>\n",
       "      <th>3965</th>\n",
       "      <td>Kehrbruch</td>\n",
       "      <td>kehrbruch</td>\n",
       "      <td>50567</td>\n",
       "      <td>Mathe</td>\n",
       "      <td>de</td>\n",
       "      <td>schule</td>\n",
       "    </tr>\n",
       "    <tr>\n",
       "      <th>3969</th>\n",
       "      <td>Echter Bruch</td>\n",
       "      <td>echter bruch</td>\n",
       "      <td>50581</td>\n",
       "      <td>Mathe</td>\n",
       "      <td>de</td>\n",
       "      <td>schule</td>\n",
       "    </tr>\n",
       "    <tr>\n",
       "      <th>3971</th>\n",
       "      <td>Unechter Bruch</td>\n",
       "      <td>unechter bruch</td>\n",
       "      <td>50583</td>\n",
       "      <td>Mathe</td>\n",
       "      <td>de</td>\n",
       "      <td>schule</td>\n",
       "    </tr>\n",
       "    <tr>\n",
       "      <th>3973</th>\n",
       "      <td>Terme gliedern</td>\n",
       "      <td>terme gliedern</td>\n",
       "      <td>50884</td>\n",
       "      <td>Mathe</td>\n",
       "      <td>de</td>\n",
       "      <td>schule</td>\n",
       "    </tr>\n",
       "    <tr>\n",
       "      <th>3982</th>\n",
       "      <td>Ablauf einer Messfeier</td>\n",
       "      <td>ablauf messfeier</td>\n",
       "      <td>51112</td>\n",
       "      <td>Mathe</td>\n",
       "      <td>de</td>\n",
       "      <td>schule</td>\n",
       "    </tr>\n",
       "    <tr>\n",
       "      <th>3987</th>\n",
       "      <td>Ganzrationale Funktionen</td>\n",
       "      <td>ganzrationale funktionen</td>\n",
       "      <td>51369</td>\n",
       "      <td>Mathe</td>\n",
       "      <td>de</td>\n",
       "      <td>schule</td>\n",
       "    </tr>\n",
       "    <tr>\n",
       "      <th>3991</th>\n",
       "      <td>Pflanzzeiten</td>\n",
       "      <td>pflanzzeiten</td>\n",
       "      <td>51384</td>\n",
       "      <td>Nachhaltigkeit</td>\n",
       "      <td>de</td>\n",
       "      <td>schule</td>\n",
       "    </tr>\n",
       "    <tr>\n",
       "      <th>3993</th>\n",
       "      <td>Vorkulturen und Direktsaat</td>\n",
       "      <td>vorkulturen direktsaat</td>\n",
       "      <td>51385</td>\n",
       "      <td>Nachhaltigkeit</td>\n",
       "      <td>de</td>\n",
       "      <td>schule</td>\n",
       "    </tr>\n",
       "    <tr>\n",
       "      <th>3995</th>\n",
       "      <td>Keimung und Wachstumsbedingungen</td>\n",
       "      <td>keimung wachstumsbedingungen</td>\n",
       "      <td>51392</td>\n",
       "      <td>Nachhaltigkeit</td>\n",
       "      <td>de</td>\n",
       "      <td>schule</td>\n",
       "    </tr>\n",
       "    <tr>\n",
       "      <th>3997</th>\n",
       "      <td>Potenzfunktionen (2)</td>\n",
       "      <td>potenzfunktionen</td>\n",
       "      <td>51404</td>\n",
       "      <td>Mathe</td>\n",
       "      <td>de</td>\n",
       "      <td>schule</td>\n",
       "    </tr>\n",
       "    <tr>\n",
       "      <th>4001</th>\n",
       "      <td>Ausklammern</td>\n",
       "      <td>ausklammern</td>\n",
       "      <td>51468</td>\n",
       "      <td>Mathe</td>\n",
       "      <td>de</td>\n",
       "      <td>schule</td>\n",
       "    </tr>\n",
       "    <tr>\n",
       "      <th>4007</th>\n",
       "      <td>Flächeninhalt eines Dreiecks</td>\n",
       "      <td>flächeninhalt dreiecks</td>\n",
       "      <td>51490</td>\n",
       "      <td>Mathe</td>\n",
       "      <td>de</td>\n",
       "      <td>schule</td>\n",
       "    </tr>\n",
       "    <tr>\n",
       "      <th>4013</th>\n",
       "      <td>Rutherfordscher Streuversuch</td>\n",
       "      <td>rutherfordscher streuversuch</td>\n",
       "      <td>52673</td>\n",
       "      <td>Physik</td>\n",
       "      <td>de</td>\n",
       "      <td>schule</td>\n",
       "    </tr>\n",
       "    <tr>\n",
       "      <th>4021</th>\n",
       "      <td>Tangensfunktion</td>\n",
       "      <td>tangensfunktion</td>\n",
       "      <td>52973</td>\n",
       "      <td>Mathe</td>\n",
       "      <td>de</td>\n",
       "      <td>schule</td>\n",
       "    </tr>\n",
       "    <tr>\n",
       "      <th>4041</th>\n",
       "      <td>Photon</td>\n",
       "      <td>photon</td>\n",
       "      <td>53073</td>\n",
       "      <td>Physik</td>\n",
       "      <td>de</td>\n",
       "      <td>schule</td>\n",
       "    </tr>\n",
       "    <tr>\n",
       "      <th>4047</th>\n",
       "      <td>Atomkern</td>\n",
       "      <td>atomkern</td>\n",
       "      <td>53415</td>\n",
       "      <td>Physik</td>\n",
       "      <td>de</td>\n",
       "      <td>schule</td>\n",
       "    </tr>\n",
       "    <tr>\n",
       "      <th>4053</th>\n",
       "      <td>Radioaktivität</td>\n",
       "      <td>radioaktivität</td>\n",
       "      <td>53417</td>\n",
       "      <td>Physik</td>\n",
       "      <td>de</td>\n",
       "      <td>schule</td>\n",
       "    </tr>\n",
       "    <tr>\n",
       "      <th>4059</th>\n",
       "      <td>Aktivität</td>\n",
       "      <td>aktivität</td>\n",
       "      <td>53420</td>\n",
       "      <td>Physik</td>\n",
       "      <td>de</td>\n",
       "      <td>schule</td>\n",
       "    </tr>\n",
       "    <tr>\n",
       "      <th>4060</th>\n",
       "      <td>Energiedosis</td>\n",
       "      <td>energiedosis</td>\n",
       "      <td>53475</td>\n",
       "      <td>Physik</td>\n",
       "      <td>de</td>\n",
       "      <td>schule</td>\n",
       "    </tr>\n",
       "    <tr>\n",
       "      <th>4062</th>\n",
       "      <td>Äquivalentdosis</td>\n",
       "      <td>äquivalentdosis</td>\n",
       "      <td>53494</td>\n",
       "      <td>Physik</td>\n",
       "      <td>de</td>\n",
       "      <td>schule</td>\n",
       "    </tr>\n",
       "    <tr>\n",
       "      <th>4064</th>\n",
       "      <td>Halbwertszeit</td>\n",
       "      <td>halbwertszeit</td>\n",
       "      <td>53514</td>\n",
       "      <td>Physik</td>\n",
       "      <td>de</td>\n",
       "      <td>schule</td>\n",
       "    </tr>\n",
       "    <tr>\n",
       "      <th>4066</th>\n",
       "      <td>Entwicklung der Atomvorstellung</td>\n",
       "      <td>entwicklung atomvorstellung</td>\n",
       "      <td>53951</td>\n",
       "      <td>Physik</td>\n",
       "      <td>de</td>\n",
       "      <td>schule</td>\n",
       "    </tr>\n",
       "    <tr>\n",
       "      <th>4068</th>\n",
       "      <td>Rutherfordsches Atommodell</td>\n",
       "      <td>rutherfordsches atommodell</td>\n",
       "      <td>53962</td>\n",
       "      <td>Physik</td>\n",
       "      <td>de</td>\n",
       "      <td>schule</td>\n",
       "    </tr>\n",
       "    <tr>\n",
       "      <th>4082</th>\n",
       "      <td>Doppelbruch</td>\n",
       "      <td>doppelbruch</td>\n",
       "      <td>54253</td>\n",
       "      <td>Mathe</td>\n",
       "      <td>de</td>\n",
       "      <td>schule</td>\n",
       "    </tr>\n",
       "    <tr>\n",
       "      <th>4083</th>\n",
       "      <td>Brüche dividieren</td>\n",
       "      <td>brüche dividieren</td>\n",
       "      <td>54317</td>\n",
       "      <td>Mathe</td>\n",
       "      <td>de</td>\n",
       "      <td>schule</td>\n",
       "    </tr>\n",
       "    <tr>\n",
       "      <th>4087</th>\n",
       "      <td>Scheinbruch</td>\n",
       "      <td>scheinbruch</td>\n",
       "      <td>54352</td>\n",
       "      <td>Mathe</td>\n",
       "      <td>de</td>\n",
       "      <td>schule</td>\n",
       "    </tr>\n",
       "    <tr>\n",
       "      <th>4088</th>\n",
       "      <td>Stammbruch</td>\n",
       "      <td>stammbruch</td>\n",
       "      <td>54372</td>\n",
       "      <td>Mathe</td>\n",
       "      <td>de</td>\n",
       "      <td>schule</td>\n",
       "    </tr>\n",
       "    <tr>\n",
       "      <th>4103</th>\n",
       "      <td>Schriftliche Division</td>\n",
       "      <td>schriftliche division</td>\n",
       "      <td>54618</td>\n",
       "      <td>Mathe</td>\n",
       "      <td>de</td>\n",
       "      <td>schule</td>\n",
       "    </tr>\n",
       "    <tr>\n",
       "      <th>4110</th>\n",
       "      <td>Schriftliche Multiplikation</td>\n",
       "      <td>schriftliche multiplikation</td>\n",
       "      <td>54829</td>\n",
       "      <td>Mathe</td>\n",
       "      <td>de</td>\n",
       "      <td>schule</td>\n",
       "    </tr>\n",
       "    <tr>\n",
       "      <th>4111</th>\n",
       "      <td>Community</td>\n",
       "      <td>community</td>\n",
       "      <td>54858</td>\n",
       "      <td>Mathe</td>\n",
       "      <td>de</td>\n",
       "      <td>schule</td>\n",
       "    </tr>\n",
       "    <tr>\n",
       "      <th>4112</th>\n",
       "      <td>Satz vom Nullprodukt</td>\n",
       "      <td>satz nullprodukt</td>\n",
       "      <td>55437</td>\n",
       "      <td>Mathe</td>\n",
       "      <td>de</td>\n",
       "      <td>schule</td>\n",
       "    </tr>\n",
       "    <tr>\n",
       "      <th>4113</th>\n",
       "      <td>Wellencharakter des Elektrons</td>\n",
       "      <td>wellencharakter elektrons</td>\n",
       "      <td>55476</td>\n",
       "      <td>Physik</td>\n",
       "      <td>de</td>\n",
       "      <td>schule</td>\n",
       "    </tr>\n",
       "    <tr>\n",
       "      <th>4129</th>\n",
       "      <td>Rechentricks und -vorteile</td>\n",
       "      <td>rechentricks vorteile</td>\n",
       "      <td>55603</td>\n",
       "      <td>Mathe</td>\n",
       "      <td>de</td>\n",
       "      <td>schule</td>\n",
       "    </tr>\n",
       "    <tr>\n",
       "      <th>4131</th>\n",
       "      <td>Einheitskreis</td>\n",
       "      <td>einheitskreis</td>\n",
       "      <td>55637</td>\n",
       "      <td>Mathe</td>\n",
       "      <td>de</td>\n",
       "      <td>schule</td>\n",
       "    </tr>\n",
       "    <tr>\n",
       "      <th>4136</th>\n",
       "      <td>Natürliche Zahlen</td>\n",
       "      <td>natürliche zahlen</td>\n",
       "      <td>55999</td>\n",
       "      <td>Mathe</td>\n",
       "      <td>de</td>\n",
       "      <td>schule</td>\n",
       "    </tr>\n",
       "    <tr>\n",
       "      <th>4139</th>\n",
       "      <td>Ganze Zahlen</td>\n",
       "      <td>ganze zahlen</td>\n",
       "      <td>56099</td>\n",
       "      <td>Mathe</td>\n",
       "      <td>de</td>\n",
       "      <td>schule</td>\n",
       "    </tr>\n",
       "    <tr>\n",
       "      <th>4145</th>\n",
       "      <td>Rationale Zahlen</td>\n",
       "      <td>rationale zahlen</td>\n",
       "      <td>56112</td>\n",
       "      <td>Mathe</td>\n",
       "      <td>de</td>\n",
       "      <td>schule</td>\n",
       "    </tr>\n",
       "    <tr>\n",
       "      <th>4153</th>\n",
       "      <td>Reelle Zahlen</td>\n",
       "      <td>reelle zahlen</td>\n",
       "      <td>56179</td>\n",
       "      <td>Mathe</td>\n",
       "      <td>de</td>\n",
       "      <td>schule</td>\n",
       "    </tr>\n",
       "    <tr>\n",
       "      <th>4161</th>\n",
       "      <td>Thaleskreis</td>\n",
       "      <td>thaleskreis</td>\n",
       "      <td>56288</td>\n",
       "      <td>Mathe</td>\n",
       "      <td>de</td>\n",
       "      <td>schule</td>\n",
       "    </tr>\n",
       "    <tr>\n",
       "      <th>4162</th>\n",
       "      <td>Saatgutauswahl</td>\n",
       "      <td>saatgutauswahl</td>\n",
       "      <td>56561</td>\n",
       "      <td>Nachhaltigkeit</td>\n",
       "      <td>de</td>\n",
       "      <td>schule</td>\n",
       "    </tr>\n",
       "    <tr>\n",
       "      <th>4164</th>\n",
       "      <td>Mischkultur</td>\n",
       "      <td>mischkultur</td>\n",
       "      <td>56563</td>\n",
       "      <td>Nachhaltigkeit</td>\n",
       "      <td>de</td>\n",
       "      <td>schule</td>\n",
       "    </tr>\n",
       "    <tr>\n",
       "      <th>4166</th>\n",
       "      <td>Fruchtfolge</td>\n",
       "      <td>fruchtfolge</td>\n",
       "      <td>56565</td>\n",
       "      <td>Nachhaltigkeit</td>\n",
       "      <td>de</td>\n",
       "      <td>schule</td>\n",
       "    </tr>\n",
       "    <tr>\n",
       "      <th>4168</th>\n",
       "      <td>Fruchtwechsel</td>\n",
       "      <td>fruchtwechsel</td>\n",
       "      <td>56567</td>\n",
       "      <td>Nachhaltigkeit</td>\n",
       "      <td>de</td>\n",
       "      <td>schule</td>\n",
       "    </tr>\n",
       "    <tr>\n",
       "      <th>4170</th>\n",
       "      <td>SMS-Kampgane 2016</td>\n",
       "      <td>kampgane 2016</td>\n",
       "      <td>56662</td>\n",
       "      <td>Mathe</td>\n",
       "      <td>de</td>\n",
       "      <td>schule</td>\n",
       "    </tr>\n",
       "    <tr>\n",
       "      <th>4171</th>\n",
       "      <td>Äquivalenzrelationen</td>\n",
       "      <td>äquivalenzrelationen</td>\n",
       "      <td>56795</td>\n",
       "      <td>Mathe</td>\n",
       "      <td>de</td>\n",
       "      <td>schule</td>\n",
       "    </tr>\n",
       "    <tr>\n",
       "      <th>4173</th>\n",
       "      <td>Pflanzenfamilien</td>\n",
       "      <td>pflanzenfamilien</td>\n",
       "      <td>56872</td>\n",
       "      <td>Nachhaltigkeit</td>\n",
       "      <td>de</td>\n",
       "      <td>schule</td>\n",
       "    </tr>\n",
       "    <tr>\n",
       "      <th>4174</th>\n",
       "      <td>Die Pflanzenfamilien in der Übersicht</td>\n",
       "      <td>pflanzenfamilien übersicht</td>\n",
       "      <td>56872</td>\n",
       "      <td>Nachhaltigkeit</td>\n",
       "      <td>de</td>\n",
       "      <td>schule</td>\n",
       "    </tr>\n",
       "    <tr>\n",
       "      <th>4175</th>\n",
       "      <td>Klassen</td>\n",
       "      <td>klassen</td>\n",
       "      <td>57029</td>\n",
       "      <td>Informatik</td>\n",
       "      <td>de</td>\n",
       "      <td>schule</td>\n",
       "    </tr>\n",
       "    <tr>\n",
       "      <th>4185</th>\n",
       "      <td>Gärtnerische Grundlagen</td>\n",
       "      <td>gärtnerische grundlagen</td>\n",
       "      <td>57467</td>\n",
       "      <td>Nachhaltigkeit</td>\n",
       "      <td>de</td>\n",
       "      <td>schule</td>\n",
       "    </tr>\n",
       "    <tr>\n",
       "      <th>4187</th>\n",
       "      <td>Material und Platzbedarf</td>\n",
       "      <td>material platzbedarf</td>\n",
       "      <td>57477</td>\n",
       "      <td>Nachhaltigkeit</td>\n",
       "      <td>de</td>\n",
       "      <td>schule</td>\n",
       "    </tr>\n",
       "    <tr>\n",
       "      <th>4195</th>\n",
       "      <td>Vektor- und Pixelgrafik</td>\n",
       "      <td>vektor pixelgrafik</td>\n",
       "      <td>57636</td>\n",
       "      <td>Informatik</td>\n",
       "      <td>de</td>\n",
       "      <td>schule</td>\n",
       "    </tr>\n",
       "    <tr>\n",
       "      <th>4199</th>\n",
       "      <td>Sektorierung</td>\n",
       "      <td>sektorierung</td>\n",
       "      <td>58305</td>\n",
       "      <td>Nachhaltigkeit</td>\n",
       "      <td>de</td>\n",
       "      <td>schule</td>\n",
       "    </tr>\n",
       "    <tr>\n",
       "      <th>4201</th>\n",
       "      <td>Volumenformeln</td>\n",
       "      <td>volumenformeln</td>\n",
       "      <td>59099</td>\n",
       "      <td>Mathe</td>\n",
       "      <td>de</td>\n",
       "      <td>schule</td>\n",
       "    </tr>\n",
       "    <tr>\n",
       "      <th>4203</th>\n",
       "      <td>Nachhaltige Ernährung</td>\n",
       "      <td>nachhaltige ernährung</td>\n",
       "      <td>59178</td>\n",
       "      <td>Nachhaltigkeit</td>\n",
       "      <td>de</td>\n",
       "      <td>schule</td>\n",
       "    </tr>\n",
       "    <tr>\n",
       "      <th>4214</th>\n",
       "      <td>Zufallsexperiment</td>\n",
       "      <td>zufallsexperiment</td>\n",
       "      <td>60088</td>\n",
       "      <td>Mathe</td>\n",
       "      <td>de</td>\n",
       "      <td>schule</td>\n",
       "    </tr>\n",
       "    <tr>\n",
       "      <th>4228</th>\n",
       "      <td>Klassen der Grafikdokumente</td>\n",
       "      <td>klassen grafikdokumente</td>\n",
       "      <td>60404</td>\n",
       "      <td>Informatik</td>\n",
       "      <td>de</td>\n",
       "      <td>schule</td>\n",
       "    </tr>\n",
       "    <tr>\n",
       "      <th>4230</th>\n",
       "      <td>Klasse Grafikdokument - Lernen mit Serlo!</td>\n",
       "      <td>klasse grafikdokument</td>\n",
       "      <td>60404</td>\n",
       "      <td>Informatik</td>\n",
       "      <td>de</td>\n",
       "      <td>schule</td>\n",
       "    </tr>\n",
       "    <tr>\n",
       "      <th>4232</th>\n",
       "      <td>Mantelfläche</td>\n",
       "      <td>mantelfläche</td>\n",
       "      <td>60970</td>\n",
       "      <td>Mathe</td>\n",
       "      <td>de</td>\n",
       "      <td>schule</td>\n",
       "    </tr>\n",
       "    <tr>\n",
       "      <th>4233</th>\n",
       "      <td>Negative Zahlen</td>\n",
       "      <td>negative zahlen</td>\n",
       "      <td>61990</td>\n",
       "      <td>Mathe</td>\n",
       "      <td>de</td>\n",
       "      <td>schule</td>\n",
       "    </tr>\n",
       "    <tr>\n",
       "      <th>4239</th>\n",
       "      <td>Vorzeichen und Gegenzahl</td>\n",
       "      <td>vorzeichen gegenzahl</td>\n",
       "      <td>62547</td>\n",
       "      <td>Mathe</td>\n",
       "      <td>de</td>\n",
       "      <td>schule</td>\n",
       "    </tr>\n",
       "    <tr>\n",
       "      <th>4241</th>\n",
       "      <td>Vorzeichen</td>\n",
       "      <td>vorzeichen</td>\n",
       "      <td>62547</td>\n",
       "      <td>Mathe</td>\n",
       "      <td>de</td>\n",
       "      <td>schule</td>\n",
       "    </tr>\n",
       "    <tr>\n",
       "      <th>4249</th>\n",
       "      <td>Ableiten von Potenzfunktionen</td>\n",
       "      <td>ableiten potenzfunktionen</td>\n",
       "      <td>63350</td>\n",
       "      <td>Mathe</td>\n",
       "      <td>de</td>\n",
       "      <td>schule</td>\n",
       "    </tr>\n",
       "    <tr>\n",
       "      <th>4253</th>\n",
       "      <td>Adam Ries</td>\n",
       "      <td>adam ries</td>\n",
       "      <td>64002</td>\n",
       "      <td>Mathe</td>\n",
       "      <td>de</td>\n",
       "      <td>schule</td>\n",
       "    </tr>\n",
       "    <tr>\n",
       "      <th>4254</th>\n",
       "      <td>Tangenten an Parabeln</td>\n",
       "      <td>tangenten parabeln</td>\n",
       "      <td>64134</td>\n",
       "      <td>Mathe</td>\n",
       "      <td>de</td>\n",
       "      <td>schule</td>\n",
       "    </tr>\n",
       "    <tr>\n",
       "      <th>4256</th>\n",
       "      <td>Organisation von Gemeinschaftsgärten</td>\n",
       "      <td>organisation gemeinschaftsgärten</td>\n",
       "      <td>64343</td>\n",
       "      <td>Nachhaltigkeit</td>\n",
       "      <td>de</td>\n",
       "      <td>schule</td>\n",
       "    </tr>\n",
       "    <tr>\n",
       "      <th>4257</th>\n",
       "      <td>Einführung in die Infektionskrankheiten</td>\n",
       "      <td>einführung infektionskrankheiten</td>\n",
       "      <td>64500</td>\n",
       "      <td>Biologie</td>\n",
       "      <td>de</td>\n",
       "      <td>schule</td>\n",
       "    </tr>\n",
       "    <tr>\n",
       "      <th>4261</th>\n",
       "      <td>Bakterieninfektionen</td>\n",
       "      <td>bakterieninfektionen</td>\n",
       "      <td>64513</td>\n",
       "      <td>Biologie</td>\n",
       "      <td>de</td>\n",
       "      <td>schule</td>\n",
       "    </tr>\n",
       "    <tr>\n",
       "      <th>4265</th>\n",
       "      <td>Virusinfektionen</td>\n",
       "      <td>virusinfektionen</td>\n",
       "      <td>64515</td>\n",
       "      <td>Biologie</td>\n",
       "      <td>de</td>\n",
       "      <td>schule</td>\n",
       "    </tr>\n",
       "    <tr>\n",
       "      <th>4269</th>\n",
       "      <td>Das Blut</td>\n",
       "      <td>blut</td>\n",
       "      <td>64572</td>\n",
       "      <td>Biologie</td>\n",
       "      <td>de</td>\n",
       "      <td>schule</td>\n",
       "    </tr>\n",
       "    <tr>\n",
       "      <th>4277</th>\n",
       "      <td>Enthält-Beziehung</td>\n",
       "      <td>enthält beziehung</td>\n",
       "      <td>64636</td>\n",
       "      <td>Informatik</td>\n",
       "      <td>de</td>\n",
       "      <td>schule</td>\n",
       "    </tr>\n",
       "    <tr>\n",
       "      <th>4279</th>\n",
       "      <td>Oberflächenformeln</td>\n",
       "      <td>oberflächenformeln</td>\n",
       "      <td>64697</td>\n",
       "      <td>Mathe</td>\n",
       "      <td>de</td>\n",
       "      <td>schule</td>\n",
       "    </tr>\n",
       "    <tr>\n",
       "      <th>4285</th>\n",
       "      <td>Mutationen</td>\n",
       "      <td>mutationen</td>\n",
       "      <td>64742</td>\n",
       "      <td>Biologie</td>\n",
       "      <td>de</td>\n",
       "      <td>schule</td>\n",
       "    </tr>\n",
       "    <tr>\n",
       "      <th>4293</th>\n",
       "      <td>Verdauung des Menschen</td>\n",
       "      <td>verdauung menschen</td>\n",
       "      <td>64745</td>\n",
       "      <td>Biologie</td>\n",
       "      <td>de</td>\n",
       "      <td>schule</td>\n",
       "    </tr>\n",
       "    <tr>\n",
       "      <th>4301</th>\n",
       "      <td>Klassen der Multimediadokumente</td>\n",
       "      <td>klassen multimediadokumente</td>\n",
       "      <td>64842</td>\n",
       "      <td>Informatik</td>\n",
       "      <td>de</td>\n",
       "      <td>schule</td>\n",
       "    </tr>\n",
       "    <tr>\n",
       "      <th>4303</th>\n",
       "      <td>Eine gute Präsentation</td>\n",
       "      <td>gute präsentation</td>\n",
       "      <td>64855</td>\n",
       "      <td>Informatik</td>\n",
       "      <td>de</td>\n",
       "      <td>schule</td>\n",
       "    </tr>\n",
       "    <tr>\n",
       "      <th>4307</th>\n",
       "      <td>Mitose (= Zellteilung)</td>\n",
       "      <td>mitose zellteilung</td>\n",
       "      <td>65162</td>\n",
       "      <td>Biologie</td>\n",
       "      <td>de</td>\n",
       "      <td>schule</td>\n",
       "    </tr>\n",
       "    <tr>\n",
       "      <th>4313</th>\n",
       "      <td>Meiose (= Reifeteilung)</td>\n",
       "      <td>meiose reifeteilung</td>\n",
       "      <td>65164</td>\n",
       "      <td>Biologie</td>\n",
       "      <td>de</td>\n",
       "      <td>schule</td>\n",
       "    </tr>\n",
       "    <tr>\n",
       "      <th>4325</th>\n",
       "      <td>Objekte</td>\n",
       "      <td>objekte</td>\n",
       "      <td>65231</td>\n",
       "      <td>Informatik</td>\n",
       "      <td>de</td>\n",
       "      <td>schule</td>\n",
       "    </tr>\n",
       "    <tr>\n",
       "      <th>4329</th>\n",
       "      <td>Attribute</td>\n",
       "      <td>attribute</td>\n",
       "      <td>65234</td>\n",
       "      <td>Informatik</td>\n",
       "      <td>de</td>\n",
       "      <td>schule</td>\n",
       "    </tr>\n",
       "    <tr>\n",
       "      <th>4333</th>\n",
       "      <td>Attributwerte</td>\n",
       "      <td>attributwerte</td>\n",
       "      <td>65237</td>\n",
       "      <td>Informatik</td>\n",
       "      <td>de</td>\n",
       "      <td>schule</td>\n",
       "    </tr>\n",
       "    <tr>\n",
       "      <th>4337</th>\n",
       "      <td>Methoden</td>\n",
       "      <td>methoden</td>\n",
       "      <td>65239</td>\n",
       "      <td>Informatik</td>\n",
       "      <td>de</td>\n",
       "      <td>schule</td>\n",
       "    </tr>\n",
       "    <tr>\n",
       "      <th>4341</th>\n",
       "      <td>Punktnotation</td>\n",
       "      <td>punktnotation</td>\n",
       "      <td>65737</td>\n",
       "      <td>Informatik</td>\n",
       "      <td>de</td>\n",
       "      <td>schule</td>\n",
       "    </tr>\n",
       "    <tr>\n",
       "      <th>4343</th>\n",
       "      <td>Der Aufbau des Internets</td>\n",
       "      <td>aufbau internets</td>\n",
       "      <td>65747</td>\n",
       "      <td>Informatik</td>\n",
       "      <td>de</td>\n",
       "      <td>schule</td>\n",
       "    </tr>\n",
       "    <tr>\n",
       "      <th>4346</th>\n",
       "      <td>Vierfeldertafel mit Häufigkeiten</td>\n",
       "      <td>vierfeldertafel häufigkeiten</td>\n",
       "      <td>66166</td>\n",
       "      <td>Mathe</td>\n",
       "      <td>de</td>\n",
       "      <td>schule</td>\n",
       "    </tr>\n",
       "    <tr>\n",
       "      <th>4348</th>\n",
       "      <td>Gedächtnis</td>\n",
       "      <td>gedächtnis</td>\n",
       "      <td>66440</td>\n",
       "      <td>Biologie</td>\n",
       "      <td>de</td>\n",
       "      <td>schule</td>\n",
       "    </tr>\n",
       "    <tr>\n",
       "      <th>4349</th>\n",
       "      <td>Internetseiten aufrufen</td>\n",
       "      <td>internetseiten aufrufen</td>\n",
       "      <td>66519</td>\n",
       "      <td>Informatik</td>\n",
       "      <td>de</td>\n",
       "      <td>schule</td>\n",
       "    </tr>\n",
       "    <tr>\n",
       "      <th>4351</th>\n",
       "      <td>Düngen mit Pflanzenjauchen</td>\n",
       "      <td>düngen pflanzenjauchen</td>\n",
       "      <td>67683</td>\n",
       "      <td>Nachhaltigkeit</td>\n",
       "      <td>de</td>\n",
       "      <td>schule</td>\n",
       "    </tr>\n",
       "    <tr>\n",
       "      <th>4353</th>\n",
       "      <td>Düngen mit Mist</td>\n",
       "      <td>düngen mist</td>\n",
       "      <td>67732</td>\n",
       "      <td>Nachhaltigkeit</td>\n",
       "      <td>de</td>\n",
       "      <td>schule</td>\n",
       "    </tr>\n",
       "    <tr>\n",
       "      <th>4355</th>\n",
       "      <td>Düngung</td>\n",
       "      <td>düngung</td>\n",
       "      <td>67907</td>\n",
       "      <td>Nachhaltigkeit</td>\n",
       "      <td>de</td>\n",
       "      <td>schule</td>\n",
       "    </tr>\n",
       "    <tr>\n",
       "      <th>4357</th>\n",
       "      <td>Zerlegungsgleichheit</td>\n",
       "      <td>zerlegungsgleichheit</td>\n",
       "      <td>67957</td>\n",
       "      <td>Mathe</td>\n",
       "      <td>de</td>\n",
       "      <td>schule</td>\n",
       "    </tr>\n",
       "    <tr>\n",
       "      <th>4359</th>\n",
       "      <td>Bewässerungssysteme</td>\n",
       "      <td>bewässerungssysteme</td>\n",
       "      <td>68119</td>\n",
       "      <td>Nachhaltigkeit</td>\n",
       "      <td>de</td>\n",
       "      <td>schule</td>\n",
       "    </tr>\n",
       "    <tr>\n",
       "      <th>4361</th>\n",
       "      <td>Gießen von Hand</td>\n",
       "      <td>gießen hand</td>\n",
       "      <td>68137</td>\n",
       "      <td>Nachhaltigkeit</td>\n",
       "      <td>de</td>\n",
       "      <td>schule</td>\n",
       "    </tr>\n",
       "    <tr>\n",
       "      <th>4363</th>\n",
       "      <td>Pflanzenschutz vor Schädlingen</td>\n",
       "      <td>pflanzenschutz schädlingen</td>\n",
       "      <td>68141</td>\n",
       "      <td>Nachhaltigkeit</td>\n",
       "      <td>de</td>\n",
       "      <td>schule</td>\n",
       "    </tr>\n",
       "    <tr>\n",
       "      <th>4369</th>\n",
       "      <td>Passwortsicherheit</td>\n",
       "      <td>passwortsicherheit</td>\n",
       "      <td>69504</td>\n",
       "      <td>Informatik</td>\n",
       "      <td>de</td>\n",
       "      <td>schule</td>\n",
       "    </tr>\n",
       "    <tr>\n",
       "      <th>4373</th>\n",
       "      <td>Rechnen mit Funktionen</td>\n",
       "      <td>rechnen funktionen</td>\n",
       "      <td>69556</td>\n",
       "      <td>Informatik</td>\n",
       "      <td>de</td>\n",
       "      <td>schule</td>\n",
       "    </tr>\n",
       "    <tr>\n",
       "      <th>4375</th>\n",
       "      <td>Bedingte Funktionen</td>\n",
       "      <td>bedingte funktionen</td>\n",
       "      <td>69568</td>\n",
       "      <td>Informatik</td>\n",
       "      <td>de</td>\n",
       "      <td>schule</td>\n",
       "    </tr>\n",
       "    <tr>\n",
       "      <th>4377</th>\n",
       "      <td>Spezielle Funktionen</td>\n",
       "      <td>spezielle funktionen</td>\n",
       "      <td>69587</td>\n",
       "      <td>Informatik</td>\n",
       "      <td>de</td>\n",
       "      <td>schule</td>\n",
       "    </tr>\n",
       "    <tr>\n",
       "      <th>4379</th>\n",
       "      <td>Datenbankverwaltungssystem (DBMS)</td>\n",
       "      <td>datenbankverwaltungssystem dbms</td>\n",
       "      <td>69730</td>\n",
       "      <td>Informatik</td>\n",
       "      <td>de</td>\n",
       "      <td>schule</td>\n",
       "    </tr>\n",
       "    <tr>\n",
       "      <th>4387</th>\n",
       "      <td>Schlüssel</td>\n",
       "      <td>schlüssel</td>\n",
       "      <td>69734</td>\n",
       "      <td>Informatik</td>\n",
       "      <td>de</td>\n",
       "      <td>schule</td>\n",
       "    </tr>\n",
       "    <tr>\n",
       "      <th>4389</th>\n",
       "      <td>Schlüssel in Datenbanken</td>\n",
       "      <td>schlüssel datenbanken</td>\n",
       "      <td>69734</td>\n",
       "      <td>Informatik</td>\n",
       "      <td>de</td>\n",
       "      <td>schule</td>\n",
       "    </tr>\n",
       "    <tr>\n",
       "      <th>4391</th>\n",
       "      <td>SQL-Abfragen</td>\n",
       "      <td>abfragen</td>\n",
       "      <td>69747</td>\n",
       "      <td>Informatik</td>\n",
       "      <td>de</td>\n",
       "      <td>schule</td>\n",
       "    </tr>\n",
       "    <tr>\n",
       "      <th>4395</th>\n",
       "      <td>Vordefinierte Anweisungen</td>\n",
       "      <td>vordefinierte anweisungen</td>\n",
       "      <td>70055</td>\n",
       "      <td>Informatik</td>\n",
       "      <td>de</td>\n",
       "      <td>schule</td>\n",
       "    </tr>\n",
       "    <tr>\n",
       "      <th>4397</th>\n",
       "      <td>Vordefinierte Bedingungen</td>\n",
       "      <td>vordefinierte bedingungen</td>\n",
       "      <td>70058</td>\n",
       "      <td>Informatik</td>\n",
       "      <td>de</td>\n",
       "      <td>schule</td>\n",
       "    </tr>\n",
       "    <tr>\n",
       "      <th>4401</th>\n",
       "      <td>Wiederholungen</td>\n",
       "      <td>wiederholungen</td>\n",
       "      <td>70070</td>\n",
       "      <td>Informatik</td>\n",
       "      <td>de</td>\n",
       "      <td>schule</td>\n",
       "    </tr>\n",
       "    <tr>\n",
       "      <th>4403</th>\n",
       "      <td>Struktogramme</td>\n",
       "      <td>struktogramme</td>\n",
       "      <td>70180</td>\n",
       "      <td>Informatik</td>\n",
       "      <td>de</td>\n",
       "      <td>schule</td>\n",
       "    </tr>\n",
       "    <tr>\n",
       "      <th>4405</th>\n",
       "      <td>Pflanzliche Pflanzenmedizin</td>\n",
       "      <td>pflanzliche pflanzenmedizin</td>\n",
       "      <td>70263</td>\n",
       "      <td>Nachhaltigkeit</td>\n",
       "      <td>de</td>\n",
       "      <td>schule</td>\n",
       "    </tr>\n",
       "    <tr>\n",
       "      <th>4407</th>\n",
       "      <td>E-Mail allgemein</td>\n",
       "      <td>mail allgemein</td>\n",
       "      <td>70308</td>\n",
       "      <td>Informatik</td>\n",
       "      <td>de</td>\n",
       "      <td>schule</td>\n",
       "    </tr>\n",
       "    <tr>\n",
       "      <th>4419</th>\n",
       "      <td>Verschicken einer E-Mail</td>\n",
       "      <td>verschicken mail</td>\n",
       "      <td>70714</td>\n",
       "      <td>Informatik</td>\n",
       "      <td>de</td>\n",
       "      <td>schule</td>\n",
       "    </tr>\n",
       "    <tr>\n",
       "      <th>4421</th>\n",
       "      <td>DNA - Was ist das?</td>\n",
       "      <td>dna</td>\n",
       "      <td>70762</td>\n",
       "      <td>Biologie</td>\n",
       "      <td>de</td>\n",
       "      <td>schule</td>\n",
       "    </tr>\n",
       "    <tr>\n",
       "      <th>4439</th>\n",
       "      <td>Das Auge</td>\n",
       "      <td>auge</td>\n",
       "      <td>70830</td>\n",
       "      <td>Biologie</td>\n",
       "      <td>de</td>\n",
       "      <td>schule</td>\n",
       "    </tr>\n",
       "    <tr>\n",
       "      <th>4449</th>\n",
       "      <td>Was sind Chromosomen?</td>\n",
       "      <td>chromosomen</td>\n",
       "      <td>70854</td>\n",
       "      <td>Biologie</td>\n",
       "      <td>de</td>\n",
       "      <td>schule</td>\n",
       "    </tr>\n",
       "    <tr>\n",
       "      <th>4461</th>\n",
       "      <td>Abweichende Chromosomenzahlen</td>\n",
       "      <td>abweichende chromosomenzahlen</td>\n",
       "      <td>70869</td>\n",
       "      <td>Biologie</td>\n",
       "      <td>de</td>\n",
       "      <td>schule</td>\n",
       "    </tr>\n",
       "    <tr>\n",
       "      <th>4467</th>\n",
       "      <td>Die Klasse E-Mail</td>\n",
       "      <td>klasse mail</td>\n",
       "      <td>71267</td>\n",
       "      <td>Informatik</td>\n",
       "      <td>de</td>\n",
       "      <td>schule</td>\n",
       "    </tr>\n",
       "    <tr>\n",
       "      <th>4469</th>\n",
       "      <td>Dichte</td>\n",
       "      <td>dichte</td>\n",
       "      <td>71276</td>\n",
       "      <td>Physik</td>\n",
       "      <td>de</td>\n",
       "      <td>schule</td>\n",
       "    </tr>\n",
       "    <tr>\n",
       "      <th>4471</th>\n",
       "      <td>Rechnen mit Einheiten</td>\n",
       "      <td>rechnen einheiten</td>\n",
       "      <td>71315</td>\n",
       "      <td>Mathe</td>\n",
       "      <td>de</td>\n",
       "      <td>schule</td>\n",
       "    </tr>\n",
       "    <tr>\n",
       "      <th>4475</th>\n",
       "      <td>Haus der Vierecke</td>\n",
       "      <td>haus vierecke</td>\n",
       "      <td>71317</td>\n",
       "      <td>Mathe</td>\n",
       "      <td>de</td>\n",
       "      <td>schule</td>\n",
       "    </tr>\n",
       "    <tr>\n",
       "      <th>4481</th>\n",
       "      <td>Das ABC der Evolutionsbiologie</td>\n",
       "      <td>evolutionsbiologie</td>\n",
       "      <td>71520</td>\n",
       "      <td>Biologie</td>\n",
       "      <td>de</td>\n",
       "      <td>schule</td>\n",
       "    </tr>\n",
       "    <tr>\n",
       "      <th>4484</th>\n",
       "      <td>Grundbegriffe der Evolutionsbiologie</td>\n",
       "      <td>grundbegriffe evolutionsbiologie</td>\n",
       "      <td>71520</td>\n",
       "      <td>Biologie</td>\n",
       "      <td>de</td>\n",
       "      <td>schule</td>\n",
       "    </tr>\n",
       "    <tr>\n",
       "      <th>4495</th>\n",
       "      <td>Prägung</td>\n",
       "      <td>prägung</td>\n",
       "      <td>71592</td>\n",
       "      <td>Biologie</td>\n",
       "      <td>de</td>\n",
       "      <td>schule</td>\n",
       "    </tr>\n",
       "    <tr>\n",
       "      <th>4499</th>\n",
       "      <td>Symmetrisches Trapez</td>\n",
       "      <td>symmetrisches trapez</td>\n",
       "      <td>71611</td>\n",
       "      <td>Mathe</td>\n",
       "      <td>de</td>\n",
       "      <td>schule</td>\n",
       "    </tr>\n",
       "    <tr>\n",
       "      <th>4505</th>\n",
       "      <td>Volumen</td>\n",
       "      <td>volumen</td>\n",
       "      <td>71630</td>\n",
       "      <td>Mathe</td>\n",
       "      <td>de</td>\n",
       "      <td>schule</td>\n",
       "    </tr>\n",
       "    <tr>\n",
       "      <th>4507</th>\n",
       "      <td>Tierische Zelle</td>\n",
       "      <td>tierische zelle</td>\n",
       "      <td>71631</td>\n",
       "      <td>Biologie</td>\n",
       "      <td>de</td>\n",
       "      <td>schule</td>\n",
       "    </tr>\n",
       "    <tr>\n",
       "      <th>4515</th>\n",
       "      <td>Pflanzliche Zelle</td>\n",
       "      <td>pflanzliche zelle</td>\n",
       "      <td>71639</td>\n",
       "      <td>Biologie</td>\n",
       "      <td>de</td>\n",
       "      <td>schule</td>\n",
       "    </tr>\n",
       "    <tr>\n",
       "      <th>4523</th>\n",
       "      <td>Biomembranen</td>\n",
       "      <td>biomembranen</td>\n",
       "      <td>71649</td>\n",
       "      <td>Biologie</td>\n",
       "      <td>de</td>\n",
       "      <td>schule</td>\n",
       "    </tr>\n",
       "    <tr>\n",
       "      <th>4535</th>\n",
       "      <td>Merkmale eines Ökosystems</td>\n",
       "      <td>merkmale ökosystems</td>\n",
       "      <td>71867</td>\n",
       "      <td>Biologie</td>\n",
       "      <td>de</td>\n",
       "      <td>schule</td>\n",
       "    </tr>\n",
       "    <tr>\n",
       "      <th>4539</th>\n",
       "      <td>Inkreis und Umkreis</td>\n",
       "      <td>inkreis umkreis</td>\n",
       "      <td>71892</td>\n",
       "      <td>Mathe</td>\n",
       "      <td>de</td>\n",
       "      <td>schule</td>\n",
       "    </tr>\n",
       "    <tr>\n",
       "      <th>4541</th>\n",
       "      <td>HTML</td>\n",
       "      <td>html</td>\n",
       "      <td>73649</td>\n",
       "      <td>Informatik</td>\n",
       "      <td>de</td>\n",
       "      <td>schule</td>\n",
       "    </tr>\n",
       "    <tr>\n",
       "      <th>4543</th>\n",
       "      <td>Palettenholz nutzen</td>\n",
       "      <td>palettenholz nutzen</td>\n",
       "      <td>74575</td>\n",
       "      <td>Nachhaltigkeit</td>\n",
       "      <td>de</td>\n",
       "      <td>schule</td>\n",
       "    </tr>\n",
       "    <tr>\n",
       "      <th>4544</th>\n",
       "      <td>Ist Palettenholz giftig?</td>\n",
       "      <td>palettenholz giftig</td>\n",
       "      <td>74575</td>\n",
       "      <td>Nachhaltigkeit</td>\n",
       "      <td>de</td>\n",
       "      <td>schule</td>\n",
       "    </tr>\n",
       "    <tr>\n",
       "      <th>4545</th>\n",
       "      <td>Klimawandel</td>\n",
       "      <td>klimawandel</td>\n",
       "      <td>74639</td>\n",
       "      <td>Nachhaltigkeit</td>\n",
       "      <td>de</td>\n",
       "      <td>schule</td>\n",
       "    </tr>\n",
       "    <tr>\n",
       "      <th>4547</th>\n",
       "      <td>Treibhauseffekt</td>\n",
       "      <td>treibhauseffekt</td>\n",
       "      <td>74653</td>\n",
       "      <td>Nachhaltigkeit</td>\n",
       "      <td>de</td>\n",
       "      <td>schule</td>\n",
       "    </tr>\n",
       "    <tr>\n",
       "      <th>4549</th>\n",
       "      <td>Plastik in den Ozeanen</td>\n",
       "      <td>plastik ozeanen</td>\n",
       "      <td>74686</td>\n",
       "      <td>Nachhaltigkeit</td>\n",
       "      <td>de</td>\n",
       "      <td>schule</td>\n",
       "    </tr>\n",
       "    <tr>\n",
       "      <th>4551</th>\n",
       "      <td>Virtuelles Wasser</td>\n",
       "      <td>virtuelles wasser</td>\n",
       "      <td>74829</td>\n",
       "      <td>Nachhaltigkeit</td>\n",
       "      <td>de</td>\n",
       "      <td>schule</td>\n",
       "    </tr>\n",
       "    <tr>\n",
       "      <th>4553</th>\n",
       "      <td>Treibhausgase</td>\n",
       "      <td>treibhausgase</td>\n",
       "      <td>74888</td>\n",
       "      <td>Nachhaltigkeit</td>\n",
       "      <td>de</td>\n",
       "      <td>schule</td>\n",
       "    </tr>\n",
       "    <tr>\n",
       "      <th>4555</th>\n",
       "      <td>Folgen des Klimawandels</td>\n",
       "      <td>folgen klimawandels</td>\n",
       "      <td>75079</td>\n",
       "      <td>Nachhaltigkeit</td>\n",
       "      <td>de</td>\n",
       "      <td>schule</td>\n",
       "    </tr>\n",
       "    <tr>\n",
       "      <th>4557</th>\n",
       "      <td>Rechentricks für die Addition</td>\n",
       "      <td>rechentricks addition</td>\n",
       "      <td>75512</td>\n",
       "      <td>Mathe</td>\n",
       "      <td>de</td>\n",
       "      <td>schule</td>\n",
       "    </tr>\n",
       "    <tr>\n",
       "      <th>4559</th>\n",
       "      <td>Klima</td>\n",
       "      <td>klima</td>\n",
       "      <td>76089</td>\n",
       "      <td>Nachhaltigkeit</td>\n",
       "      <td>de</td>\n",
       "      <td>schule</td>\n",
       "    </tr>\n",
       "    <tr>\n",
       "      <th>4561</th>\n",
       "      <td>Vorratskammer</td>\n",
       "      <td>vorratskammer</td>\n",
       "      <td>76270</td>\n",
       "      <td>Nachhaltigkeit</td>\n",
       "      <td>de</td>\n",
       "      <td>schule</td>\n",
       "    </tr>\n",
       "    <tr>\n",
       "      <th>4563</th>\n",
       "      <td>Erntezeitpunkt</td>\n",
       "      <td>erntezeitpunkt</td>\n",
       "      <td>76278</td>\n",
       "      <td>Nachhaltigkeit</td>\n",
       "      <td>de</td>\n",
       "      <td>schule</td>\n",
       "    </tr>\n",
       "    <tr>\n",
       "      <th>4565</th>\n",
       "      <td>Erntetricks</td>\n",
       "      <td>erntetricks</td>\n",
       "      <td>76284</td>\n",
       "      <td>Nachhaltigkeit</td>\n",
       "      <td>de</td>\n",
       "      <td>schule</td>\n",
       "    </tr>\n",
       "    <tr>\n",
       "      <th>4567</th>\n",
       "      <td>Vegetative Vermehrung</td>\n",
       "      <td>vegetative vermehrung</td>\n",
       "      <td>76657</td>\n",
       "      <td>Nachhaltigkeit</td>\n",
       "      <td>de</td>\n",
       "      <td>schule</td>\n",
       "    </tr>\n",
       "    <tr>\n",
       "      <th>4569</th>\n",
       "      <td>Das menschliche Herz</td>\n",
       "      <td>menschliche herz</td>\n",
       "      <td>76985</td>\n",
       "      <td>Biologie</td>\n",
       "      <td>de</td>\n",
       "      <td>schule</td>\n",
       "    </tr>\n",
       "    <tr>\n",
       "      <th>4573</th>\n",
       "      <td>Die äußere Atmung</td>\n",
       "      <td>äußere atmung</td>\n",
       "      <td>77093</td>\n",
       "      <td>Biologie</td>\n",
       "      <td>de</td>\n",
       "      <td>schule</td>\n",
       "    </tr>\n",
       "    <tr>\n",
       "      <th>4575</th>\n",
       "      <td>Enzymatische Prozesse</td>\n",
       "      <td>enzymatische prozesse</td>\n",
       "      <td>77105</td>\n",
       "      <td>Biologie</td>\n",
       "      <td>de</td>\n",
       "      <td>schule</td>\n",
       "    </tr>\n",
       "    <tr>\n",
       "      <th>4577</th>\n",
       "      <td>Salze</td>\n",
       "      <td>salze</td>\n",
       "      <td>77125</td>\n",
       "      <td>Chemie</td>\n",
       "      <td>de</td>\n",
       "      <td>schule</td>\n",
       "    </tr>\n",
       "    <tr>\n",
       "      <th>4579</th>\n",
       "      <td>Diffusion</td>\n",
       "      <td>diffusion</td>\n",
       "      <td>77149</td>\n",
       "      <td>Biologie</td>\n",
       "      <td>de</td>\n",
       "      <td>schule</td>\n",
       "    </tr>\n",
       "    <tr>\n",
       "      <th>4585</th>\n",
       "      <td>Populationsdynamik</td>\n",
       "      <td>populationsdynamik</td>\n",
       "      <td>77223</td>\n",
       "      <td>Biologie</td>\n",
       "      <td>de</td>\n",
       "      <td>schule</td>\n",
       "    </tr>\n",
       "    <tr>\n",
       "      <th>4587</th>\n",
       "      <td>Katalysator</td>\n",
       "      <td>katalysator</td>\n",
       "      <td>77224</td>\n",
       "      <td>Chemie</td>\n",
       "      <td>de</td>\n",
       "      <td>schule</td>\n",
       "    </tr>\n",
       "    <tr>\n",
       "      <th>4591</th>\n",
       "      <td>Silberspiegelprobe | Tollensprobe</td>\n",
       "      <td>silberspiegelprobe tollensprobe</td>\n",
       "      <td>77322</td>\n",
       "      <td>Chemie</td>\n",
       "      <td>de</td>\n",
       "      <td>schule</td>\n",
       "    </tr>\n",
       "    <tr>\n",
       "      <th>4597</th>\n",
       "      <td>Die Haut</td>\n",
       "      <td>haut</td>\n",
       "      <td>77390</td>\n",
       "      <td>Biologie</td>\n",
       "      <td>de</td>\n",
       "      <td>schule</td>\n",
       "    </tr>\n",
       "    <tr>\n",
       "      <th>4599</th>\n",
       "      <td>Stammzellenforschung</td>\n",
       "      <td>stammzellenforschung</td>\n",
       "      <td>77652</td>\n",
       "      <td>Biologie</td>\n",
       "      <td>de</td>\n",
       "      <td>schule</td>\n",
       "    </tr>\n",
       "    <tr>\n",
       "      <th>4601</th>\n",
       "      <td>Endosymbiontentheorie</td>\n",
       "      <td>endosymbiontentheorie</td>\n",
       "      <td>77673</td>\n",
       "      <td>Biologie</td>\n",
       "      <td>de</td>\n",
       "      <td>schule</td>\n",
       "    </tr>\n",
       "    <tr>\n",
       "      <th>4605</th>\n",
       "      <td>Die Leber</td>\n",
       "      <td>leber</td>\n",
       "      <td>77705</td>\n",
       "      <td>Biologie</td>\n",
       "      <td>de</td>\n",
       "      <td>schule</td>\n",
       "    </tr>\n",
       "    <tr>\n",
       "      <th>4607</th>\n",
       "      <td>Die Lunge</td>\n",
       "      <td>lunge</td>\n",
       "      <td>77721</td>\n",
       "      <td>Biologie</td>\n",
       "      <td>de</td>\n",
       "      <td>schule</td>\n",
       "    </tr>\n",
       "    <tr>\n",
       "      <th>4609</th>\n",
       "      <td>Immunisierung</td>\n",
       "      <td>immunisierung</td>\n",
       "      <td>77735</td>\n",
       "      <td>Biologie</td>\n",
       "      <td>de</td>\n",
       "      <td>schule</td>\n",
       "    </tr>\n",
       "    <tr>\n",
       "      <th>4611</th>\n",
       "      <td>Das Immunsystem des Menschen</td>\n",
       "      <td>immunsystem menschen</td>\n",
       "      <td>77781</td>\n",
       "      <td>Biologie</td>\n",
       "      <td>de</td>\n",
       "      <td>schule</td>\n",
       "    </tr>\n",
       "    <tr>\n",
       "      <th>4613</th>\n",
       "      <td>Alkane</td>\n",
       "      <td>alkane</td>\n",
       "      <td>77792</td>\n",
       "      <td>Chemie</td>\n",
       "      <td>de</td>\n",
       "      <td>schule</td>\n",
       "    </tr>\n",
       "    <tr>\n",
       "      <th>4615</th>\n",
       "      <td>Alkene</td>\n",
       "      <td>alkene</td>\n",
       "      <td>77809</td>\n",
       "      <td>Chemie</td>\n",
       "      <td>de</td>\n",
       "      <td>schule</td>\n",
       "    </tr>\n",
       "    <tr>\n",
       "      <th>4619</th>\n",
       "      <td>Haploid und diploid</td>\n",
       "      <td>haploid diploid</td>\n",
       "      <td>77988</td>\n",
       "      <td>Biologie</td>\n",
       "      <td>de</td>\n",
       "      <td>schule</td>\n",
       "    </tr>\n",
       "    <tr>\n",
       "      <th>4621</th>\n",
       "      <td>Der Zellkern</td>\n",
       "      <td>zellkern</td>\n",
       "      <td>77992</td>\n",
       "      <td>Biologie</td>\n",
       "      <td>de</td>\n",
       "      <td>schule</td>\n",
       "    </tr>\n",
       "    <tr>\n",
       "      <th>4623</th>\n",
       "      <td>Zeiteinheiten</td>\n",
       "      <td>zeiteinheiten</td>\n",
       "      <td>77998</td>\n",
       "      <td>Mathe</td>\n",
       "      <td>de</td>\n",
       "      <td>schule</td>\n",
       "    </tr>\n",
       "    <tr>\n",
       "      <th>4627</th>\n",
       "      <td>Das AB0-System</td>\n",
       "      <td>system</td>\n",
       "      <td>78063</td>\n",
       "      <td>Biologie</td>\n",
       "      <td>de</td>\n",
       "      <td>schule</td>\n",
       "    </tr>\n",
       "    <tr>\n",
       "      <th>4631</th>\n",
       "      <td>Mesomerie</td>\n",
       "      <td>mesomerie</td>\n",
       "      <td>78079</td>\n",
       "      <td>Chemie</td>\n",
       "      <td>de</td>\n",
       "      <td>schule</td>\n",
       "    </tr>\n",
       "    <tr>\n",
       "      <th>4633</th>\n",
       "      <td>Monosaccharide</td>\n",
       "      <td>monosaccharide</td>\n",
       "      <td>78089</td>\n",
       "      <td>Chemie</td>\n",
       "      <td>de</td>\n",
       "      <td>schule</td>\n",
       "    </tr>\n",
       "    <tr>\n",
       "      <th>4635</th>\n",
       "      <td>Die Glucose</td>\n",
       "      <td>glucose</td>\n",
       "      <td>78110</td>\n",
       "      <td>Chemie</td>\n",
       "      <td>de</td>\n",
       "      <td>schule</td>\n",
       "    </tr>\n",
       "    <tr>\n",
       "      <th>4637</th>\n",
       "      <td>Generative Vermehrung</td>\n",
       "      <td>generative vermehrung</td>\n",
       "      <td>78129</td>\n",
       "      <td>Nachhaltigkeit</td>\n",
       "      <td>de</td>\n",
       "      <td>schule</td>\n",
       "    </tr>\n",
       "    <tr>\n",
       "      <th>4639</th>\n",
       "      <td>Saatgutlagerung</td>\n",
       "      <td>saatgutlagerung</td>\n",
       "      <td>78136</td>\n",
       "      <td>Nachhaltigkeit</td>\n",
       "      <td>de</td>\n",
       "      <td>schule</td>\n",
       "    </tr>\n",
       "    <tr>\n",
       "      <th>4641</th>\n",
       "      <td>Erneuerbare Energie</td>\n",
       "      <td>erneuerbare energie</td>\n",
       "      <td>78256</td>\n",
       "      <td>Nachhaltigkeit</td>\n",
       "      <td>de</td>\n",
       "      <td>schule</td>\n",
       "    </tr>\n",
       "    <tr>\n",
       "      <th>4645</th>\n",
       "      <td>Urheberrecht</td>\n",
       "      <td>urheberrecht</td>\n",
       "      <td>79220</td>\n",
       "      <td>Informatik</td>\n",
       "      <td>de</td>\n",
       "      <td>schule</td>\n",
       "    </tr>\n",
       "    <tr>\n",
       "      <th>4647</th>\n",
       "      <td>Informationssicherheit</td>\n",
       "      <td>informationssicherheit</td>\n",
       "      <td>79221</td>\n",
       "      <td>Informatik</td>\n",
       "      <td>de</td>\n",
       "      <td>schule</td>\n",
       "    </tr>\n",
       "    <tr>\n",
       "      <th>4651</th>\n",
       "      <td>Datenschutz im Internet</td>\n",
       "      <td>datenschutz internet</td>\n",
       "      <td>79389</td>\n",
       "      <td>Informatik</td>\n",
       "      <td>de</td>\n",
       "      <td>schule</td>\n",
       "    </tr>\n",
       "    <tr>\n",
       "      <th>4655</th>\n",
       "      <td>Geschichte der Informatik</td>\n",
       "      <td>geschichte informatik</td>\n",
       "      <td>79723</td>\n",
       "      <td>Informatik</td>\n",
       "      <td>de</td>\n",
       "      <td>schule</td>\n",
       "    </tr>\n",
       "    <tr>\n",
       "      <th>4659</th>\n",
       "      <td>Pilze im Überblick</td>\n",
       "      <td>pilze überblick</td>\n",
       "      <td>80412</td>\n",
       "      <td>Biologie</td>\n",
       "      <td>de</td>\n",
       "      <td>schule</td>\n",
       "    </tr>\n",
       "    <tr>\n",
       "      <th>4661</th>\n",
       "      <td>Vermehrung von Bakterien</td>\n",
       "      <td>vermehrung bakterien</td>\n",
       "      <td>80435</td>\n",
       "      <td>Biologie</td>\n",
       "      <td>de</td>\n",
       "      <td>schule</td>\n",
       "    </tr>\n",
       "    <tr>\n",
       "      <th>4663</th>\n",
       "      <td>Der Mund</td>\n",
       "      <td>mund</td>\n",
       "      <td>80464</td>\n",
       "      <td>Biologie</td>\n",
       "      <td>de</td>\n",
       "      <td>schule</td>\n",
       "    </tr>\n",
       "    <tr>\n",
       "      <th>4667</th>\n",
       "      <td>Belege für die Evolution</td>\n",
       "      <td>belege evolution</td>\n",
       "      <td>80524</td>\n",
       "      <td>Biologie</td>\n",
       "      <td>de</td>\n",
       "      <td>schule</td>\n",
       "    </tr>\n",
       "    <tr>\n",
       "      <th>4669</th>\n",
       "      <td>Artbildung</td>\n",
       "      <td>artbildung</td>\n",
       "      <td>80653</td>\n",
       "      <td>Biologie</td>\n",
       "      <td>de</td>\n",
       "      <td>schule</td>\n",
       "    </tr>\n",
       "    <tr>\n",
       "      <th>4671</th>\n",
       "      <td>Evolutionsfaktoren</td>\n",
       "      <td>evolutionsfaktoren</td>\n",
       "      <td>80737</td>\n",
       "      <td>Biologie</td>\n",
       "      <td>de</td>\n",
       "      <td>schule</td>\n",
       "    </tr>\n",
       "    <tr>\n",
       "      <th>4673</th>\n",
       "      <td>Aufbau von Pflanzen</td>\n",
       "      <td>aufbau pflanzen</td>\n",
       "      <td>80748</td>\n",
       "      <td>Biologie</td>\n",
       "      <td>de</td>\n",
       "      <td>schule</td>\n",
       "    </tr>\n",
       "    <tr>\n",
       "      <th>4675</th>\n",
       "      <td>Kovalente Bindung</td>\n",
       "      <td>kovalente bindung</td>\n",
       "      <td>80760</td>\n",
       "      <td>Chemie</td>\n",
       "      <td>de</td>\n",
       "      <td>schule</td>\n",
       "    </tr>\n",
       "    <tr>\n",
       "      <th>4677</th>\n",
       "      <td>Metallbindung</td>\n",
       "      <td>metallbindung</td>\n",
       "      <td>80774</td>\n",
       "      <td>Chemie</td>\n",
       "      <td>de</td>\n",
       "      <td>schule</td>\n",
       "    </tr>\n",
       "    <tr>\n",
       "      <th>4681</th>\n",
       "      <td>Kooperation</td>\n",
       "      <td>kooperation</td>\n",
       "      <td>80864</td>\n",
       "      <td>Biologie</td>\n",
       "      <td>de</td>\n",
       "      <td>schule</td>\n",
       "    </tr>\n",
       "    <tr>\n",
       "      <th>4687</th>\n",
       "      <td>Nachhaltigkeit im Alltag</td>\n",
       "      <td>nachhaltigkeit alltag</td>\n",
       "      <td>80879</td>\n",
       "      <td>Nachhaltigkeit</td>\n",
       "      <td>de</td>\n",
       "      <td>schule</td>\n",
       "    </tr>\n",
       "    <tr>\n",
       "      <th>4689</th>\n",
       "      <td>Umkehrbare Reaktionen</td>\n",
       "      <td>umkehrbare reaktionen</td>\n",
       "      <td>80883</td>\n",
       "      <td>Chemie</td>\n",
       "      <td>de</td>\n",
       "      <td>schule</td>\n",
       "    </tr>\n",
       "    <tr>\n",
       "      <th>4695</th>\n",
       "      <td>Was ist Glück?</td>\n",
       "      <td>glück</td>\n",
       "      <td>80966</td>\n",
       "      <td>Nachhaltigkeit</td>\n",
       "      <td>de</td>\n",
       "      <td>schule</td>\n",
       "    </tr>\n",
       "    <tr>\n",
       "      <th>4697</th>\n",
       "      <td>Titel</td>\n",
       "      <td>titel</td>\n",
       "      <td>81073</td>\n",
       "      <td>Nachhaltigkeit</td>\n",
       "      <td>de</td>\n",
       "      <td>schule</td>\n",
       "    </tr>\n",
       "    <tr>\n",
       "      <th>4699</th>\n",
       "      <td>Kommunikation</td>\n",
       "      <td>kommunikation</td>\n",
       "      <td>81914</td>\n",
       "      <td>Biologie</td>\n",
       "      <td>de</td>\n",
       "      <td>schule</td>\n",
       "    </tr>\n",
       "    <tr>\n",
       "      <th>4701</th>\n",
       "      <td>Formen von Aggression</td>\n",
       "      <td>formen aggression</td>\n",
       "      <td>81963</td>\n",
       "      <td>Biologie</td>\n",
       "      <td>de</td>\n",
       "      <td>schule</td>\n",
       "    </tr>\n",
       "    <tr>\n",
       "      <th>4713</th>\n",
       "      <td>Codierungen</td>\n",
       "      <td>codierungen</td>\n",
       "      <td>84604</td>\n",
       "      <td>Informatik</td>\n",
       "      <td>de</td>\n",
       "      <td>schule</td>\n",
       "    </tr>\n",
       "    <tr>\n",
       "      <th>4717</th>\n",
       "      <td>Alphanumerische Codes</td>\n",
       "      <td>alphanumerische codes</td>\n",
       "      <td>85855</td>\n",
       "      <td>Informatik</td>\n",
       "      <td>de</td>\n",
       "      <td>schule</td>\n",
       "    </tr>\n",
       "    <tr>\n",
       "      <th>4719</th>\n",
       "      <td>Graphische Codes</td>\n",
       "      <td>graphische codes</td>\n",
       "      <td>85858</td>\n",
       "      <td>Informatik</td>\n",
       "      <td>de</td>\n",
       "      <td>schule</td>\n",
       "    </tr>\n",
       "    <tr>\n",
       "      <th>4721</th>\n",
       "      <td>Numerische Codes</td>\n",
       "      <td>numerische codes</td>\n",
       "      <td>85864</td>\n",
       "      <td>Informatik</td>\n",
       "      <td>de</td>\n",
       "      <td>schule</td>\n",
       "    </tr>\n",
       "    <tr>\n",
       "      <th>4729</th>\n",
       "      <td>Energieträger</td>\n",
       "      <td>energieträger</td>\n",
       "      <td>86766</td>\n",
       "      <td>Biologie</td>\n",
       "      <td>de</td>\n",
       "      <td>schule</td>\n",
       "    </tr>\n",
       "    <tr>\n",
       "      <th>4731</th>\n",
       "      <td>Blütenaufbau</td>\n",
       "      <td>blütenaufbau</td>\n",
       "      <td>86771</td>\n",
       "      <td>Biologie</td>\n",
       "      <td>de</td>\n",
       "      <td>schule</td>\n",
       "    </tr>\n",
       "    <tr>\n",
       "      <th>4733</th>\n",
       "      <td>Was sind Lebewesen?</td>\n",
       "      <td>lebewesen</td>\n",
       "      <td>86779</td>\n",
       "      <td>Biologie</td>\n",
       "      <td>de</td>\n",
       "      <td>schule</td>\n",
       "    </tr>\n",
       "    <tr>\n",
       "      <th>4737</th>\n",
       "      <td>Nahrungsbestandteile</td>\n",
       "      <td>nahrungsbestandteile</td>\n",
       "      <td>86790</td>\n",
       "      <td>Biologie</td>\n",
       "      <td>de</td>\n",
       "      <td>schule</td>\n",
       "    </tr>\n",
       "    <tr>\n",
       "      <th>4739</th>\n",
       "      <td>Evolution bis zum Vielzeller</td>\n",
       "      <td>evolution vielzeller</td>\n",
       "      <td>86805</td>\n",
       "      <td>Biologie</td>\n",
       "      <td>de</td>\n",
       "      <td>schule</td>\n",
       "    </tr>\n",
       "    <tr>\n",
       "      <th>4741</th>\n",
       "      <td>Koevolution</td>\n",
       "      <td>koevolution</td>\n",
       "      <td>86813</td>\n",
       "      <td>Biologie</td>\n",
       "      <td>de</td>\n",
       "      <td>schule</td>\n",
       "    </tr>\n",
       "    <tr>\n",
       "      <th>4743</th>\n",
       "      <td>Experimente zur Photosynthese</td>\n",
       "      <td>experimente photosynthese</td>\n",
       "      <td>86861</td>\n",
       "      <td>Biologie</td>\n",
       "      <td>de</td>\n",
       "      <td>schule</td>\n",
       "    </tr>\n",
       "    <tr>\n",
       "      <th>4749</th>\n",
       "      <td>Partnerfindung &amp; -bindung</td>\n",
       "      <td>partnerfindung bindung</td>\n",
       "      <td>86898</td>\n",
       "      <td>Biologie</td>\n",
       "      <td>de</td>\n",
       "      <td>schule</td>\n",
       "    </tr>\n",
       "    <tr>\n",
       "      <th>4751</th>\n",
       "      <td>Paarungssysteme &amp; Infantizid</td>\n",
       "      <td>paarungssysteme infantizid</td>\n",
       "      <td>86914</td>\n",
       "      <td>Biologie</td>\n",
       "      <td>de</td>\n",
       "      <td>schule</td>\n",
       "    </tr>\n",
       "    <tr>\n",
       "      <th>4753</th>\n",
       "      <td>Altruismus</td>\n",
       "      <td>altruismus</td>\n",
       "      <td>86925</td>\n",
       "      <td>Biologie</td>\n",
       "      <td>de</td>\n",
       "      <td>schule</td>\n",
       "    </tr>\n",
       "    <tr>\n",
       "      <th>4755</th>\n",
       "      <td>Intensitätsstufen der Aggression</td>\n",
       "      <td>intensitätsstufen aggression</td>\n",
       "      <td>86936</td>\n",
       "      <td>Biologie</td>\n",
       "      <td>de</td>\n",
       "      <td>schule</td>\n",
       "    </tr>\n",
       "    <tr>\n",
       "      <th>4757</th>\n",
       "      <td>Formen der Aggressionskontrolle</td>\n",
       "      <td>formen aggressionskontrolle</td>\n",
       "      <td>86944</td>\n",
       "      <td>Biologie</td>\n",
       "      <td>de</td>\n",
       "      <td>schule</td>\n",
       "    </tr>\n",
       "    <tr>\n",
       "      <th>4761</th>\n",
       "      <td>Aggressionsmodelle</td>\n",
       "      <td>aggressionsmodelle</td>\n",
       "      <td>86950</td>\n",
       "      <td>Biologie</td>\n",
       "      <td>de</td>\n",
       "      <td>schule</td>\n",
       "    </tr>\n",
       "    <tr>\n",
       "      <th>4765</th>\n",
       "      <td>Unbedingte Reflexe</td>\n",
       "      <td>unbedingte reflexe</td>\n",
       "      <td>86974</td>\n",
       "      <td>Biologie</td>\n",
       "      <td>de</td>\n",
       "      <td>schule</td>\n",
       "    </tr>\n",
       "    <tr>\n",
       "      <th>4767</th>\n",
       "      <td>Komplexe Erbkoordination</td>\n",
       "      <td>komplexe erbkoordination</td>\n",
       "      <td>87008</td>\n",
       "      <td>Biologie</td>\n",
       "      <td>de</td>\n",
       "      <td>schule</td>\n",
       "    </tr>\n",
       "    <tr>\n",
       "      <th>4771</th>\n",
       "      <td>Bedeutsame Methoden</td>\n",
       "      <td>bedeutsame methoden</td>\n",
       "      <td>87020</td>\n",
       "      <td>Biologie</td>\n",
       "      <td>de</td>\n",
       "      <td>schule</td>\n",
       "    </tr>\n",
       "    <tr>\n",
       "      <th>4811</th>\n",
       "      <td>Samenernte</td>\n",
       "      <td>samenernte</td>\n",
       "      <td>91050</td>\n",
       "      <td>Nachhaltigkeit</td>\n",
       "      <td>de</td>\n",
       "      <td>schule</td>\n",
       "    </tr>\n",
       "    <tr>\n",
       "      <th>4813</th>\n",
       "      <td>Sortenvielfalt</td>\n",
       "      <td>sortenvielfalt</td>\n",
       "      <td>91172</td>\n",
       "      <td>Nachhaltigkeit</td>\n",
       "      <td>de</td>\n",
       "      <td>schule</td>\n",
       "    </tr>\n",
       "    <tr>\n",
       "      <th>4815</th>\n",
       "      <td>Bodenpflege</td>\n",
       "      <td>bodenpflege</td>\n",
       "      <td>91212</td>\n",
       "      <td>Nachhaltigkeit</td>\n",
       "      <td>de</td>\n",
       "      <td>schule</td>\n",
       "    </tr>\n",
       "    <tr>\n",
       "      <th>4817</th>\n",
       "      <td>Textil- und Modeindustrie</td>\n",
       "      <td>textil modeindustrie</td>\n",
       "      <td>91567</td>\n",
       "      <td>Nachhaltigkeit</td>\n",
       "      <td>de</td>\n",
       "      <td>schule</td>\n",
       "    </tr>\n",
       "    <tr>\n",
       "      <th>4819</th>\n",
       "      <td>Einkochen und Einwecken</td>\n",
       "      <td>einkochen einwecken</td>\n",
       "      <td>92106</td>\n",
       "      <td>Nachhaltigkeit</td>\n",
       "      <td>de</td>\n",
       "      <td>schule</td>\n",
       "    </tr>\n",
       "    <tr>\n",
       "      <th>4821</th>\n",
       "      <td>Photosyntheserate und Absorptionsspektrum</td>\n",
       "      <td>photosyntheserate absorptionsspektrum</td>\n",
       "      <td>92234</td>\n",
       "      <td>Biologie</td>\n",
       "      <td>de</td>\n",
       "      <td>schule</td>\n",
       "    </tr>\n",
       "    <tr>\n",
       "      <th>4823</th>\n",
       "      <td>Sauerteigbrot</td>\n",
       "      <td>sauerteigbrot</td>\n",
       "      <td>92945</td>\n",
       "      <td>Nachhaltigkeit</td>\n",
       "      <td>de</td>\n",
       "      <td>schule</td>\n",
       "    </tr>\n",
       "    <tr>\n",
       "      <th>4825</th>\n",
       "      <td>Milchprodukte</td>\n",
       "      <td>milchprodukte</td>\n",
       "      <td>92947</td>\n",
       "      <td>Nachhaltigkeit</td>\n",
       "      <td>de</td>\n",
       "      <td>schule</td>\n",
       "    </tr>\n",
       "    <tr>\n",
       "      <th>4829</th>\n",
       "      <td>Kleber und Kleister</td>\n",
       "      <td>kleber kleister</td>\n",
       "      <td>92956</td>\n",
       "      <td>Nachhaltigkeit</td>\n",
       "      <td>de</td>\n",
       "      <td>schule</td>\n",
       "    </tr>\n",
       "    <tr>\n",
       "      <th>4831</th>\n",
       "      <td>Grundlagen von Datenspeicherung</td>\n",
       "      <td>grundlagen datenspeicherung</td>\n",
       "      <td>92969</td>\n",
       "      <td>Informatik</td>\n",
       "      <td>de</td>\n",
       "      <td>schule</td>\n",
       "    </tr>\n",
       "    <tr>\n",
       "      <th>4833</th>\n",
       "      <td>Was ist ein Algorithmus?</td>\n",
       "      <td>algorithmus</td>\n",
       "      <td>92988</td>\n",
       "      <td>Informatik</td>\n",
       "      <td>de</td>\n",
       "      <td>schule</td>\n",
       "    </tr>\n",
       "    <tr>\n",
       "      <th>4835</th>\n",
       "      <td>Das Binärsystem</td>\n",
       "      <td>binärsystem</td>\n",
       "      <td>92991</td>\n",
       "      <td>Informatik</td>\n",
       "      <td>de</td>\n",
       "      <td>schule</td>\n",
       "    </tr>\n",
       "    <tr>\n",
       "      <th>4837</th>\n",
       "      <td>Join-Operationen</td>\n",
       "      <td>join operationen</td>\n",
       "      <td>93029</td>\n",
       "      <td>Informatik</td>\n",
       "      <td>de</td>\n",
       "      <td>schule</td>\n",
       "    </tr>\n",
       "    <tr>\n",
       "      <th>4843</th>\n",
       "      <td>Regenwasser sammeln</td>\n",
       "      <td>regenwasser sammeln</td>\n",
       "      <td>93838</td>\n",
       "      <td>Nachhaltigkeit</td>\n",
       "      <td>de</td>\n",
       "      <td>schule</td>\n",
       "    </tr>\n",
       "    <tr>\n",
       "      <th>4849</th>\n",
       "      <td>Das Sieb des Eratosthenes</td>\n",
       "      <td>sieb eratosthenes</td>\n",
       "      <td>96712</td>\n",
       "      <td>Mathe</td>\n",
       "      <td>de</td>\n",
       "      <td>schule</td>\n",
       "    </tr>\n",
       "    <tr>\n",
       "      <th>4851</th>\n",
       "      <td>Balkongärten</td>\n",
       "      <td>balkongärten</td>\n",
       "      <td>96859</td>\n",
       "      <td>Nachhaltigkeit</td>\n",
       "      <td>de</td>\n",
       "      <td>schule</td>\n",
       "    </tr>\n",
       "    <tr>\n",
       "      <th>4853</th>\n",
       "      <td>Hexadezimalsystem</td>\n",
       "      <td>hexadezimalsystem</td>\n",
       "      <td>97552</td>\n",
       "      <td>Mathe</td>\n",
       "      <td>de</td>\n",
       "      <td>schule</td>\n",
       "    </tr>\n",
       "    <tr>\n",
       "      <th>4857</th>\n",
       "      <td>Nullstellenform</td>\n",
       "      <td>nullstellenform</td>\n",
       "      <td>99497</td>\n",
       "      <td>Mathe</td>\n",
       "      <td>de</td>\n",
       "      <td>schule</td>\n",
       "    </tr>\n",
       "    <tr>\n",
       "      <th>4862</th>\n",
       "      <td>Vegetation des Regenwaldes</td>\n",
       "      <td>vegetation regenwaldes</td>\n",
       "      <td>99517</td>\n",
       "      <td>Geographie</td>\n",
       "      <td>de</td>\n",
       "      <td>schule</td>\n",
       "    </tr>\n",
       "    <tr>\n",
       "      <th>4863</th>\n",
       "      <td>Hauptnenner mit Variablen</td>\n",
       "      <td>hauptnenner variablen</td>\n",
       "      <td>99597</td>\n",
       "      <td>Mathe</td>\n",
       "      <td>de</td>\n",
       "      <td>schule</td>\n",
       "    </tr>\n",
       "    <tr>\n",
       "      <th>4871</th>\n",
       "      <td>Tropischer Regenwald - Was ist das?</td>\n",
       "      <td>tropischer regenwald</td>\n",
       "      <td>99914</td>\n",
       "      <td>Geographie</td>\n",
       "      <td>de</td>\n",
       "      <td>schule</td>\n",
       "    </tr>\n",
       "    <tr>\n",
       "      <th>4881</th>\n",
       "      <td>Klimadiagramme auswerten</td>\n",
       "      <td>klimadiagramme auswerten</td>\n",
       "      <td>100130</td>\n",
       "      <td>Geographie</td>\n",
       "      <td>de</td>\n",
       "      <td>schule</td>\n",
       "    </tr>\n",
       "    <tr>\n",
       "      <th>4883</th>\n",
       "      <td>Thermoisoplethendiagramme auswerten</td>\n",
       "      <td>thermoisoplethendiagramme auswerten</td>\n",
       "      <td>100589</td>\n",
       "      <td>Geographie</td>\n",
       "      <td>de</td>\n",
       "      <td>schule</td>\n",
       "    </tr>\n",
       "    <tr>\n",
       "      <th>4884</th>\n",
       "      <td>Thermoisoplethendiagramm auswerten</td>\n",
       "      <td>thermoisoplethendiagramm auswerten</td>\n",
       "      <td>100589</td>\n",
       "      <td>Geographie</td>\n",
       "      <td>de</td>\n",
       "      <td>schule</td>\n",
       "    </tr>\n",
       "    <tr>\n",
       "      <th>4891</th>\n",
       "      <td>Regenwaldzerstörung</td>\n",
       "      <td>regenwaldzerstörung</td>\n",
       "      <td>104206</td>\n",
       "      <td>Geographie</td>\n",
       "      <td>de</td>\n",
       "      <td>schule</td>\n",
       "    </tr>\n",
       "    <tr>\n",
       "      <th>4895</th>\n",
       "      <td>Weiterführende Themen</td>\n",
       "      <td>weiterführende themen</td>\n",
       "      <td>105640</td>\n",
       "      <td>Physik</td>\n",
       "      <td>de</td>\n",
       "      <td>schule</td>\n",
       "    </tr>\n",
       "    <tr>\n",
       "      <th>4914</th>\n",
       "      <td>Färbe- und Bleichverfahren</td>\n",
       "      <td>färbe bleichverfahren</td>\n",
       "      <td>108562</td>\n",
       "      <td>Nachhaltigkeit</td>\n",
       "      <td>de</td>\n",
       "      <td>schule</td>\n",
       "    </tr>\n",
       "    <tr>\n",
       "      <th>4916</th>\n",
       "      <td>Entstehung von Plastik</td>\n",
       "      <td>entstehung plastik</td>\n",
       "      <td>108660</td>\n",
       "      <td>Nachhaltigkeit</td>\n",
       "      <td>de</td>\n",
       "      <td>schule</td>\n",
       "    </tr>\n",
       "    <tr>\n",
       "      <th>4919</th>\n",
       "      <td>Plastikalternativen</td>\n",
       "      <td>plastikalternativen</td>\n",
       "      <td>108675</td>\n",
       "      <td>Nachhaltigkeit</td>\n",
       "      <td>de</td>\n",
       "      <td>schule</td>\n",
       "    </tr>\n",
       "    <tr>\n",
       "      <th>4920</th>\n",
       "      <td>Plastikrecycling und –alternativen</td>\n",
       "      <td>plastikrecycling alternativen</td>\n",
       "      <td>108675</td>\n",
       "      <td>Nachhaltigkeit</td>\n",
       "      <td>de</td>\n",
       "      <td>schule</td>\n",
       "    </tr>\n",
       "    <tr>\n",
       "      <th>4925</th>\n",
       "      <td>Genmutation</td>\n",
       "      <td>genmutation</td>\n",
       "      <td>111179</td>\n",
       "      <td>Biologie</td>\n",
       "      <td>de</td>\n",
       "      <td>schule</td>\n",
       "    </tr>\n",
       "    <tr>\n",
       "      <th>4927</th>\n",
       "      <td>Chromosomenmutation</td>\n",
       "      <td>chromosomenmutation</td>\n",
       "      <td>111181</td>\n",
       "      <td>Biologie</td>\n",
       "      <td>de</td>\n",
       "      <td>schule</td>\n",
       "    </tr>\n",
       "    <tr>\n",
       "      <th>4929</th>\n",
       "      <td>Genommutation</td>\n",
       "      <td>genommutation</td>\n",
       "      <td>111185</td>\n",
       "      <td>Biologie</td>\n",
       "      <td>de</td>\n",
       "      <td>schule</td>\n",
       "    </tr>\n",
       "    <tr>\n",
       "      <th>4931</th>\n",
       "      <td>Allopatrische Artbildung</td>\n",
       "      <td>allopatrische artbildung</td>\n",
       "      <td>111578</td>\n",
       "      <td>Biologie</td>\n",
       "      <td>de</td>\n",
       "      <td>schule</td>\n",
       "    </tr>\n",
       "    <tr>\n",
       "      <th>4933</th>\n",
       "      <td>Sympatrische Artbildung</td>\n",
       "      <td>sympatrische artbildung</td>\n",
       "      <td>111603</td>\n",
       "      <td>Biologie</td>\n",
       "      <td>de</td>\n",
       "      <td>schule</td>\n",
       "    </tr>\n",
       "    <tr>\n",
       "      <th>4934</th>\n",
       "      <td>sympatrische Artenbildung - Lernen mit Serlo!</td>\n",
       "      <td>sympatrische artenbildung</td>\n",
       "      <td>111603</td>\n",
       "      <td>Biologie</td>\n",
       "      <td>de</td>\n",
       "      <td>schule</td>\n",
       "    </tr>\n",
       "    <tr>\n",
       "      <th>4935</th>\n",
       "      <td>Überschlag</td>\n",
       "      <td>überschlag</td>\n",
       "      <td>111922</td>\n",
       "      <td>Mathe</td>\n",
       "      <td>de</td>\n",
       "      <td>schule</td>\n",
       "    </tr>\n",
       "    <tr>\n",
       "      <th>4949</th>\n",
       "      <td>Datentypen</td>\n",
       "      <td>datentypen</td>\n",
       "      <td>112377</td>\n",
       "      <td>Informatik</td>\n",
       "      <td>de</td>\n",
       "      <td>schule</td>\n",
       "    </tr>\n",
       "    <tr>\n",
       "      <th>4951</th>\n",
       "      <td>Poisson-Klammer</td>\n",
       "      <td>poisson klammer</td>\n",
       "      <td>112627</td>\n",
       "      <td>Physik</td>\n",
       "      <td>de</td>\n",
       "      <td>schule</td>\n",
       "    </tr>\n",
       "    <tr>\n",
       "      <th>4953</th>\n",
       "      <td>Datenflussdiagramm</td>\n",
       "      <td>datenflussdiagramm</td>\n",
       "      <td>113289</td>\n",
       "      <td>Informatik</td>\n",
       "      <td>de</td>\n",
       "      <td>schule</td>\n",
       "    </tr>\n",
       "    <tr>\n",
       "      <th>4957</th>\n",
       "      <td>Hamiltonsches Prinzip</td>\n",
       "      <td>hamiltonsches prinzip</td>\n",
       "      <td>114026</td>\n",
       "      <td>Physik</td>\n",
       "      <td>de</td>\n",
       "      <td>schule</td>\n",
       "    </tr>\n",
       "    <tr>\n",
       "      <th>4958</th>\n",
       "      <td>Hamiltonsches Variationsprinzip</td>\n",
       "      <td>hamiltonsches variationsprinzip</td>\n",
       "      <td>114026</td>\n",
       "      <td>Physik</td>\n",
       "      <td>de</td>\n",
       "      <td>schule</td>\n",
       "    </tr>\n",
       "    <tr>\n",
       "      <th>4959</th>\n",
       "      <td>Warum Lagrange?</td>\n",
       "      <td>warum lagrange</td>\n",
       "      <td>114027</td>\n",
       "      <td>Physik</td>\n",
       "      <td>de</td>\n",
       "      <td>schule</td>\n",
       "    </tr>\n",
       "    <tr>\n",
       "      <th>4961</th>\n",
       "      <td>Noether-Theorem</td>\n",
       "      <td>noether theorem</td>\n",
       "      <td>114028</td>\n",
       "      <td>Physik</td>\n",
       "      <td>de</td>\n",
       "      <td>schule</td>\n",
       "    </tr>\n",
       "    <tr>\n",
       "      <th>4963</th>\n",
       "      <td>d'Alembert Prinzip</td>\n",
       "      <td>alembert prinzip</td>\n",
       "      <td>114029</td>\n",
       "      <td>Physik</td>\n",
       "      <td>de</td>\n",
       "      <td>schule</td>\n",
       "    </tr>\n",
       "    <tr>\n",
       "      <th>4964</th>\n",
       "      <td>d'Alemberg Prinzip</td>\n",
       "      <td>alemberg prinzip</td>\n",
       "      <td>114029</td>\n",
       "      <td>Physik</td>\n",
       "      <td>de</td>\n",
       "      <td>schule</td>\n",
       "    </tr>\n",
       "    <tr>\n",
       "      <th>4965</th>\n",
       "      <td>Legendre Transformation</td>\n",
       "      <td>legendre transformation</td>\n",
       "      <td>114034</td>\n",
       "      <td>Physik</td>\n",
       "      <td>de</td>\n",
       "      <td>schule</td>\n",
       "    </tr>\n",
       "    <tr>\n",
       "      <th>4967</th>\n",
       "      <td>Lagrange Gleichungen 2. Art</td>\n",
       "      <td>lagrange gleichungen</td>\n",
       "      <td>114042</td>\n",
       "      <td>Physik</td>\n",
       "      <td>de</td>\n",
       "      <td>schule</td>\n",
       "    </tr>\n",
       "    <tr>\n",
       "      <th>4969</th>\n",
       "      <td>Was Weichtiere ausmacht</td>\n",
       "      <td>weichtiere ausmacht</td>\n",
       "      <td>114265</td>\n",
       "      <td>Biologie</td>\n",
       "      <td>de</td>\n",
       "      <td>schule</td>\n",
       "    </tr>\n",
       "    <tr>\n",
       "      <th>4971</th>\n",
       "      <td>Was Ringelwürmer ausmacht</td>\n",
       "      <td>ringelwürmer ausmacht</td>\n",
       "      <td>114329</td>\n",
       "      <td>Biologie</td>\n",
       "      <td>de</td>\n",
       "      <td>schule</td>\n",
       "    </tr>\n",
       "    <tr>\n",
       "      <th>4973</th>\n",
       "      <td>Was macht Hohltiere aus</td>\n",
       "      <td>macht hohltiere</td>\n",
       "      <td>114587</td>\n",
       "      <td>Biologie</td>\n",
       "      <td>de</td>\n",
       "      <td>schule</td>\n",
       "    </tr>\n",
       "    <tr>\n",
       "      <th>4975</th>\n",
       "      <td>Parapatrische Artbildung</td>\n",
       "      <td>parapatrische artbildung</td>\n",
       "      <td>114866</td>\n",
       "      <td>Biologie</td>\n",
       "      <td>de</td>\n",
       "      <td>schule</td>\n",
       "    </tr>\n",
       "    <tr>\n",
       "      <th>4977</th>\n",
       "      <td>Die Seewespe</td>\n",
       "      <td>seewespe</td>\n",
       "      <td>115095</td>\n",
       "      <td>Biologie</td>\n",
       "      <td>de</td>\n",
       "      <td>schule</td>\n",
       "    </tr>\n",
       "    <tr>\n",
       "      <th>4979</th>\n",
       "      <td>Rekombination</td>\n",
       "      <td>rekombination</td>\n",
       "      <td>115139</td>\n",
       "      <td>Biologie</td>\n",
       "      <td>de</td>\n",
       "      <td>schule</td>\n",
       "    </tr>\n",
       "    <tr>\n",
       "      <th>4981</th>\n",
       "      <td>Gendrift</td>\n",
       "      <td>gendrift</td>\n",
       "      <td>115141</td>\n",
       "      <td>Biologie</td>\n",
       "      <td>de</td>\n",
       "      <td>schule</td>\n",
       "    </tr>\n",
       "    <tr>\n",
       "      <th>4983</th>\n",
       "      <td>Selektion</td>\n",
       "      <td>selektion</td>\n",
       "      <td>115146</td>\n",
       "      <td>Biologie</td>\n",
       "      <td>de</td>\n",
       "      <td>schule</td>\n",
       "    </tr>\n",
       "    <tr>\n",
       "      <th>4985</th>\n",
       "      <td>Isolation</td>\n",
       "      <td>isolation</td>\n",
       "      <td>115148</td>\n",
       "      <td>Biologie</td>\n",
       "      <td>de</td>\n",
       "      <td>schule</td>\n",
       "    </tr>\n",
       "    <tr>\n",
       "      <th>4987</th>\n",
       "      <td>Belege der Paläontologie</td>\n",
       "      <td>belege paläontologie</td>\n",
       "      <td>115817</td>\n",
       "      <td>Biologie</td>\n",
       "      <td>de</td>\n",
       "      <td>schule</td>\n",
       "    </tr>\n",
       "    <tr>\n",
       "      <th>4989</th>\n",
       "      <td>Divergenz und Konvergenz</td>\n",
       "      <td>divergenz konvergenz</td>\n",
       "      <td>115932</td>\n",
       "      <td>Biologie</td>\n",
       "      <td>de</td>\n",
       "      <td>schule</td>\n",
       "    </tr>\n",
       "    <tr>\n",
       "      <th>4995</th>\n",
       "      <td>Belege der Biogeographie</td>\n",
       "      <td>belege biogeographie</td>\n",
       "      <td>116006</td>\n",
       "      <td>Biologie</td>\n",
       "      <td>de</td>\n",
       "      <td>schule</td>\n",
       "    </tr>\n",
       "    <tr>\n",
       "      <th>4997</th>\n",
       "      <td>Planetarische Leitplanken</td>\n",
       "      <td>planetarische leitplanken</td>\n",
       "      <td>116795</td>\n",
       "      <td>Nachhaltigkeit</td>\n",
       "      <td>de</td>\n",
       "      <td>schule</td>\n",
       "    </tr>\n",
       "    <tr>\n",
       "      <th>5009</th>\n",
       "      <td>Geschwindigkeit (Grundlagen)</td>\n",
       "      <td>geschwindigkeit grundlagen</td>\n",
       "      <td>117326</td>\n",
       "      <td>Physik</td>\n",
       "      <td>de</td>\n",
       "      <td>schule</td>\n",
       "    </tr>\n",
       "    <tr>\n",
       "      <th>5013</th>\n",
       "      <td>Belegung von Variablen</td>\n",
       "      <td>belegung variablen</td>\n",
       "      <td>117669</td>\n",
       "      <td>Mathe</td>\n",
       "      <td>de</td>\n",
       "      <td>schule</td>\n",
       "    </tr>\n",
       "    <tr>\n",
       "      <th>5023</th>\n",
       "      <td>Ableitungsregel der Wurzelfunktion</td>\n",
       "      <td>ableitungsregel wurzelfunktion</td>\n",
       "      <td>117722</td>\n",
       "      <td>Mathe</td>\n",
       "      <td>de</td>\n",
       "      <td>schule</td>\n",
       "    </tr>\n",
       "    <tr>\n",
       "      <th>5028</th>\n",
       "      <td>Biodiversität</td>\n",
       "      <td>biodiversität</td>\n",
       "      <td>120649</td>\n",
       "      <td>Nachhaltigkeit</td>\n",
       "      <td>de</td>\n",
       "      <td>schule</td>\n",
       "    </tr>\n",
       "    <tr>\n",
       "      <th>5033</th>\n",
       "      <td>Kreislauf einer Plastikflasche</td>\n",
       "      <td>kreislauf plastikflasche</td>\n",
       "      <td>121489</td>\n",
       "      <td>Nachhaltigkeit</td>\n",
       "      <td>de</td>\n",
       "      <td>schule</td>\n",
       "    </tr>\n",
       "    <tr>\n",
       "      <th>5035</th>\n",
       "      <td>Anweisungen</td>\n",
       "      <td>anweisungen</td>\n",
       "      <td>121801</td>\n",
       "      <td>Informatik</td>\n",
       "      <td>de</td>\n",
       "      <td>schule</td>\n",
       "    </tr>\n",
       "    <tr>\n",
       "      <th>5039</th>\n",
       "      <td>Möglichkeiten für die Plastikverwertung</td>\n",
       "      <td>möglichkeiten plastikverwertung</td>\n",
       "      <td>123349</td>\n",
       "      <td>Nachhaltigkeit</td>\n",
       "      <td>de</td>\n",
       "      <td>schule</td>\n",
       "    </tr>\n",
       "    <tr>\n",
       "      <th>5043</th>\n",
       "      <td>Demokrit Atommodell</td>\n",
       "      <td>demokrit atommodell</td>\n",
       "      <td>124233</td>\n",
       "      <td>Chemie</td>\n",
       "      <td>de</td>\n",
       "      <td>schule</td>\n",
       "    </tr>\n",
       "    <tr>\n",
       "      <th>5053</th>\n",
       "      <td>Stammfunktion</td>\n",
       "      <td>stammfunktion</td>\n",
       "      <td>126401</td>\n",
       "      <td>Mathe</td>\n",
       "      <td>de</td>\n",
       "      <td>schule</td>\n",
       "    </tr>\n",
       "    <tr>\n",
       "      <th>5057</th>\n",
       "      <td>Kohlenwasserstoffe</td>\n",
       "      <td>kohlenwasserstoffe</td>\n",
       "      <td>127338</td>\n",
       "      <td>Chemie</td>\n",
       "      <td>de</td>\n",
       "      <td>schule</td>\n",
       "    </tr>\n",
       "    <tr>\n",
       "      <th>5061</th>\n",
       "      <td>Die Stoffmenge</td>\n",
       "      <td>stoffmenge</td>\n",
       "      <td>127465</td>\n",
       "      <td>Chemie</td>\n",
       "      <td>de</td>\n",
       "      <td>schule</td>\n",
       "    </tr>\n",
       "    <tr>\n",
       "      <th>5063</th>\n",
       "      <td>Die molare Masse</td>\n",
       "      <td>molare masse</td>\n",
       "      <td>127473</td>\n",
       "      <td>Chemie</td>\n",
       "      <td>de</td>\n",
       "      <td>schule</td>\n",
       "    </tr>\n",
       "    <tr>\n",
       "      <th>5065</th>\n",
       "      <td>Das molare Volumen</td>\n",
       "      <td>molare volumen</td>\n",
       "      <td>127479</td>\n",
       "      <td>Chemie</td>\n",
       "      <td>de</td>\n",
       "      <td>schule</td>\n",
       "    </tr>\n",
       "    <tr>\n",
       "      <th>5075</th>\n",
       "      <td>Quantitative Analysen</td>\n",
       "      <td>quantitative analysen</td>\n",
       "      <td>128519</td>\n",
       "      <td>Chemie</td>\n",
       "      <td>de</td>\n",
       "      <td>schule</td>\n",
       "    </tr>\n",
       "    <tr>\n",
       "      <th>5077</th>\n",
       "      <td>Intermolekulare Kräfte</td>\n",
       "      <td>intermolekulare kräfte</td>\n",
       "      <td>128636</td>\n",
       "      <td>Chemie</td>\n",
       "      <td>de</td>\n",
       "      <td>schule</td>\n",
       "    </tr>\n",
       "    <tr>\n",
       "      <th>5111</th>\n",
       "      <td>Wörter</td>\n",
       "      <td>wörter</td>\n",
       "      <td>130076</td>\n",
       "      <td>Informatik</td>\n",
       "      <td>de</td>\n",
       "      <td>schule</td>\n",
       "    </tr>\n",
       "    <tr>\n",
       "      <th>5113</th>\n",
       "      <td>Formale Sprachen</td>\n",
       "      <td>formale sprachen</td>\n",
       "      <td>130097</td>\n",
       "      <td>Informatik</td>\n",
       "      <td>de</td>\n",
       "      <td>schule</td>\n",
       "    </tr>\n",
       "    <tr>\n",
       "      <th>5134</th>\n",
       "      <td>Das Rhesus-System</td>\n",
       "      <td>rhesus system</td>\n",
       "      <td>130954</td>\n",
       "      <td>Biologie</td>\n",
       "      <td>de</td>\n",
       "      <td>schule</td>\n",
       "    </tr>\n",
       "    <tr>\n",
       "      <th>5144</th>\n",
       "      <td>Beschleunigung (Grundlagen)</td>\n",
       "      <td>beschleunigung grundlagen</td>\n",
       "      <td>131535</td>\n",
       "      <td>Physik</td>\n",
       "      <td>de</td>\n",
       "      <td>schule</td>\n",
       "    </tr>\n",
       "    <tr>\n",
       "      <th>5162</th>\n",
       "      <td>Der Golgi-Apparat</td>\n",
       "      <td>golgi apparat</td>\n",
       "      <td>133567</td>\n",
       "      <td>Biologie</td>\n",
       "      <td>de</td>\n",
       "      <td>schule</td>\n",
       "    </tr>\n",
       "    <tr>\n",
       "      <th>5164</th>\n",
       "      <td>Das Endoplasmatische Retikulum</td>\n",
       "      <td>endoplasmatische retikulum</td>\n",
       "      <td>133613</td>\n",
       "      <td>Biologie</td>\n",
       "      <td>de</td>\n",
       "      <td>schule</td>\n",
       "    </tr>\n",
       "    <tr>\n",
       "      <th>5200</th>\n",
       "      <td>Zusammenfassen von Termen</td>\n",
       "      <td>zusammenfassen termen</td>\n",
       "      <td>135559</td>\n",
       "      <td>Mathe</td>\n",
       "      <td>de</td>\n",
       "      <td>schule</td>\n",
       "    </tr>\n",
       "    <tr>\n",
       "      <th>5230</th>\n",
       "      <td>Display ansteuern</td>\n",
       "      <td>display ansteuern</td>\n",
       "      <td>136531</td>\n",
       "      <td>Informatik</td>\n",
       "      <td>de</td>\n",
       "      <td>schule</td>\n",
       "    </tr>\n",
       "    <tr>\n",
       "      <th>5234</th>\n",
       "      <td>Piezo-Summer</td>\n",
       "      <td>piezo summer</td>\n",
       "      <td>136566</td>\n",
       "      <td>Informatik</td>\n",
       "      <td>de</td>\n",
       "      <td>schule</td>\n",
       "    </tr>\n",
       "    <tr>\n",
       "      <th>5236</th>\n",
       "      <td>Analoge Sensoren</td>\n",
       "      <td>analoge sensoren</td>\n",
       "      <td>136568</td>\n",
       "      <td>Informatik</td>\n",
       "      <td>de</td>\n",
       "      <td>schule</td>\n",
       "    </tr>\n",
       "    <tr>\n",
       "      <th>5240</th>\n",
       "      <td>RFID-Kartenleser</td>\n",
       "      <td>rfid kartenleser</td>\n",
       "      <td>136572</td>\n",
       "      <td>Informatik</td>\n",
       "      <td>de</td>\n",
       "      <td>schule</td>\n",
       "    </tr>\n",
       "    <tr>\n",
       "      <th>5242</th>\n",
       "      <td>LED-Matrix ansteuern</td>\n",
       "      <td>matrix ansteuern</td>\n",
       "      <td>136574</td>\n",
       "      <td>Informatik</td>\n",
       "      <td>de</td>\n",
       "      <td>schule</td>\n",
       "    </tr>\n",
       "    <tr>\n",
       "      <th>5246</th>\n",
       "      <td>Drehimpulsgeber</td>\n",
       "      <td>drehimpulsgeber</td>\n",
       "      <td>136580</td>\n",
       "      <td>Informatik</td>\n",
       "      <td>de</td>\n",
       "      <td>schule</td>\n",
       "    </tr>\n",
       "    <tr>\n",
       "      <th>5266</th>\n",
       "      <td>Der Homo Oeconomicus</td>\n",
       "      <td>homo oeconomicus</td>\n",
       "      <td>139194</td>\n",
       "      <td>Wirtschaft</td>\n",
       "      <td>de</td>\n",
       "      <td>schule</td>\n",
       "    </tr>\n",
       "    <tr>\n",
       "      <th>5274</th>\n",
       "      <td>Der Herzinfarkt</td>\n",
       "      <td>herzinfarkt</td>\n",
       "      <td>139475</td>\n",
       "      <td>Biologie</td>\n",
       "      <td>de</td>\n",
       "      <td>schule</td>\n",
       "    </tr>\n",
       "    <tr>\n",
       "      <th>5276</th>\n",
       "      <td>Das Inventar</td>\n",
       "      <td>inventar</td>\n",
       "      <td>139497</td>\n",
       "      <td>Wirtschaft</td>\n",
       "      <td>de</td>\n",
       "      <td>schule</td>\n",
       "    </tr>\n",
       "    <tr>\n",
       "      <th>5278</th>\n",
       "      <td>Die Bilanz</td>\n",
       "      <td>bilanz</td>\n",
       "      <td>139549</td>\n",
       "      <td>Wirtschaft</td>\n",
       "      <td>de</td>\n",
       "      <td>schule</td>\n",
       "    </tr>\n",
       "    <tr>\n",
       "      <th>5282</th>\n",
       "      <td>Der Betrieb</td>\n",
       "      <td>betrieb</td>\n",
       "      <td>139705</td>\n",
       "      <td>Wirtschaft</td>\n",
       "      <td>de</td>\n",
       "      <td>schule</td>\n",
       "    </tr>\n",
       "    <tr>\n",
       "      <th>5284</th>\n",
       "      <td>Angebot und Nachfrage</td>\n",
       "      <td>angebot nachfrage</td>\n",
       "      <td>139990</td>\n",
       "      <td>Wirtschaft</td>\n",
       "      <td>de</td>\n",
       "      <td>schule</td>\n",
       "    </tr>\n",
       "    <tr>\n",
       "      <th>5308</th>\n",
       "      <td>Array</td>\n",
       "      <td>array</td>\n",
       "      <td>143284</td>\n",
       "      <td>Informatik</td>\n",
       "      <td>de</td>\n",
       "      <td>schule</td>\n",
       "    </tr>\n",
       "    <tr>\n",
       "      <th>5316</th>\n",
       "      <td>Kraft (Grundlagen)</td>\n",
       "      <td>kraft grundlagen</td>\n",
       "      <td>143554</td>\n",
       "      <td>Physik</td>\n",
       "      <td>de</td>\n",
       "      <td>schule</td>\n",
       "    </tr>\n",
       "    <tr>\n",
       "      <th>5332</th>\n",
       "      <td>Die Corioliskraft</td>\n",
       "      <td>corioliskraft</td>\n",
       "      <td>148782</td>\n",
       "      <td>Geographie</td>\n",
       "      <td>de</td>\n",
       "      <td>schule</td>\n",
       "    </tr>\n",
       "    <tr>\n",
       "      <th>5350</th>\n",
       "      <td>Teilermenge</td>\n",
       "      <td>teilermenge</td>\n",
       "      <td>150401</td>\n",
       "      <td>Mathe</td>\n",
       "      <td>de</td>\n",
       "      <td>schule</td>\n",
       "    </tr>\n",
       "    <tr>\n",
       "      <th>5360</th>\n",
       "      <td>Energieformen</td>\n",
       "      <td>energieformen</td>\n",
       "      <td>152028</td>\n",
       "      <td>Physik</td>\n",
       "      <td>de</td>\n",
       "      <td>schule</td>\n",
       "    </tr>\n",
       "    <tr>\n",
       "      <th>5362</th>\n",
       "      <td>Viskosität (X)</td>\n",
       "      <td>viskosität</td>\n",
       "      <td>152287</td>\n",
       "      <td>Chemie</td>\n",
       "      <td>de</td>\n",
       "      <td>schule</td>\n",
       "    </tr>\n",
       "    <tr>\n",
       "      <th>5364</th>\n",
       "      <td>Oberflächenspannung (x)</td>\n",
       "      <td>oberflächenspannung</td>\n",
       "      <td>152289</td>\n",
       "      <td>Chemie</td>\n",
       "      <td>de</td>\n",
       "      <td>schule</td>\n",
       "    </tr>\n",
       "    <tr>\n",
       "      <th>5366</th>\n",
       "      <td>Schallgeschwindigkeit (X)</td>\n",
       "      <td>schallgeschwindigkeit</td>\n",
       "      <td>152291</td>\n",
       "      <td>Chemie</td>\n",
       "      <td>de</td>\n",
       "      <td>schule</td>\n",
       "    </tr>\n",
       "    <tr>\n",
       "      <th>5368</th>\n",
       "      <td>Verformbarkeit (x)</td>\n",
       "      <td>verformbarkeit</td>\n",
       "      <td>152293</td>\n",
       "      <td>Chemie</td>\n",
       "      <td>de</td>\n",
       "      <td>schule</td>\n",
       "    </tr>\n",
       "    <tr>\n",
       "      <th>5370</th>\n",
       "      <td>Reaktivität (x)</td>\n",
       "      <td>reaktivität</td>\n",
       "      <td>152303</td>\n",
       "      <td>Chemie</td>\n",
       "      <td>de</td>\n",
       "      <td>schule</td>\n",
       "    </tr>\n",
       "    <tr>\n",
       "      <th>5372</th>\n",
       "      <td>Säurekonstante (x)</td>\n",
       "      <td>säurekonstante</td>\n",
       "      <td>152305</td>\n",
       "      <td>Chemie</td>\n",
       "      <td>de</td>\n",
       "      <td>schule</td>\n",
       "    </tr>\n",
       "    <tr>\n",
       "      <th>5374</th>\n",
       "      <td>Basenkonstante (x)</td>\n",
       "      <td>basenkonstante</td>\n",
       "      <td>152307</td>\n",
       "      <td>Chemie</td>\n",
       "      <td>de</td>\n",
       "      <td>schule</td>\n",
       "    </tr>\n",
       "    <tr>\n",
       "      <th>5376</th>\n",
       "      <td>Elektronegativität</td>\n",
       "      <td>elektronegativität</td>\n",
       "      <td>152309</td>\n",
       "      <td>Chemie</td>\n",
       "      <td>de</td>\n",
       "      <td>schule</td>\n",
       "    </tr>\n",
       "    <tr>\n",
       "      <th>5378</th>\n",
       "      <td>Bindungsenergie (x)</td>\n",
       "      <td>bindungsenergie</td>\n",
       "      <td>152311</td>\n",
       "      <td>Chemie</td>\n",
       "      <td>de</td>\n",
       "      <td>schule</td>\n",
       "    </tr>\n",
       "    <tr>\n",
       "      <th>5384</th>\n",
       "      <td>Die Oxidationszahl, die Oxidationsstufe</td>\n",
       "      <td>oxidationszahl oxidationsstufe</td>\n",
       "      <td>152323</td>\n",
       "      <td>Chemie</td>\n",
       "      <td>de</td>\n",
       "      <td>schule</td>\n",
       "    </tr>\n",
       "    <tr>\n",
       "      <th>5386</th>\n",
       "      <td>Das Periodensystem der Elemente</td>\n",
       "      <td>periodensystem elemente</td>\n",
       "      <td>152324</td>\n",
       "      <td>Chemie</td>\n",
       "      <td>de</td>\n",
       "      <td>schule</td>\n",
       "    </tr>\n",
       "    <tr>\n",
       "      <th>5388</th>\n",
       "      <td>Edelgaszustand</td>\n",
       "      <td>edelgaszustand</td>\n",
       "      <td>152450</td>\n",
       "      <td>Chemie</td>\n",
       "      <td>de</td>\n",
       "      <td>schule</td>\n",
       "    </tr>\n",
       "    <tr>\n",
       "      <th>5390</th>\n",
       "      <td>Rechengesetze für die Addition</td>\n",
       "      <td>rechengesetze addition</td>\n",
       "      <td>153072</td>\n",
       "      <td>Mathe</td>\n",
       "      <td>de</td>\n",
       "      <td>schule</td>\n",
       "    </tr>\n",
       "    <tr>\n",
       "      <th>5438</th>\n",
       "      <td>Chiralität</td>\n",
       "      <td>chiralität</td>\n",
       "      <td>153419</td>\n",
       "      <td>Chemie</td>\n",
       "      <td>de</td>\n",
       "      <td>schule</td>\n",
       "    </tr>\n",
       "    <tr>\n",
       "      <th>5598</th>\n",
       "      <td>Eigenschaften von Metallen</td>\n",
       "      <td>eigenschaften metallen</td>\n",
       "      <td>154244</td>\n",
       "      <td>Chemie</td>\n",
       "      <td>de</td>\n",
       "      <td>schule</td>\n",
       "    </tr>\n",
       "    <tr>\n",
       "      <th>5602</th>\n",
       "      <td>Atome</td>\n",
       "      <td>atome</td>\n",
       "      <td>154653</td>\n",
       "      <td>Chemie</td>\n",
       "      <td>de</td>\n",
       "      <td>schule</td>\n",
       "    </tr>\n",
       "    <tr>\n",
       "      <th>5604</th>\n",
       "      <td>Aufstellen von Reaktionsgleichungen (x)</td>\n",
       "      <td>aufstellen reaktionsgleichungen</td>\n",
       "      <td>154656</td>\n",
       "      <td>Chemie</td>\n",
       "      <td>de</td>\n",
       "      <td>schule</td>\n",
       "    </tr>\n",
       "    <tr>\n",
       "      <th>5606</th>\n",
       "      <td>Moleküle</td>\n",
       "      <td>moleküle</td>\n",
       "      <td>154658</td>\n",
       "      <td>Chemie</td>\n",
       "      <td>de</td>\n",
       "      <td>schule</td>\n",
       "    </tr>\n",
       "    <tr>\n",
       "      <th>5608</th>\n",
       "      <td>Reduktion</td>\n",
       "      <td>reduktion</td>\n",
       "      <td>154665</td>\n",
       "      <td>Chemie</td>\n",
       "      <td>de</td>\n",
       "      <td>schule</td>\n",
       "    </tr>\n",
       "    <tr>\n",
       "      <th>5610</th>\n",
       "      <td>Oxidation</td>\n",
       "      <td>oxidation</td>\n",
       "      <td>154812</td>\n",
       "      <td>Chemie</td>\n",
       "      <td>de</td>\n",
       "      <td>schule</td>\n",
       "    </tr>\n",
       "    <tr>\n",
       "      <th>5614</th>\n",
       "      <td>Test der Zweite</td>\n",
       "      <td>zweite</td>\n",
       "      <td>154829</td>\n",
       "      <td>Chemie</td>\n",
       "      <td>de</td>\n",
       "      <td>schule</td>\n",
       "    </tr>\n",
       "    <tr>\n",
       "      <th>5618</th>\n",
       "      <td>Äquivalente Gleichungen</td>\n",
       "      <td>äquivalente gleichungen</td>\n",
       "      <td>154956</td>\n",
       "      <td>Mathe</td>\n",
       "      <td>de</td>\n",
       "      <td>schule</td>\n",
       "    </tr>\n",
       "    <tr>\n",
       "      <th>5622</th>\n",
       "      <td>Grundmenge einer Gleichung</td>\n",
       "      <td>grundmenge gleichung</td>\n",
       "      <td>154957</td>\n",
       "      <td>Mathe</td>\n",
       "      <td>de</td>\n",
       "      <td>schule</td>\n",
       "    </tr>\n",
       "    <tr>\n",
       "      <th>5624</th>\n",
       "      <td>Lösungsmenge einer Gleichung</td>\n",
       "      <td>lösungsmenge gleichung</td>\n",
       "      <td>154971</td>\n",
       "      <td>Mathe</td>\n",
       "      <td>de</td>\n",
       "      <td>schule</td>\n",
       "    </tr>\n",
       "    <tr>\n",
       "      <th>5630</th>\n",
       "      <td>Aromaten (X)</td>\n",
       "      <td>aromaten</td>\n",
       "      <td>155090</td>\n",
       "      <td>Chemie</td>\n",
       "      <td>de</td>\n",
       "      <td>schule</td>\n",
       "    </tr>\n",
       "    <tr>\n",
       "      <th>5632</th>\n",
       "      <td>Wertigkeiten (x)</td>\n",
       "      <td>wertigkeiten</td>\n",
       "      <td>155163</td>\n",
       "      <td>Chemie</td>\n",
       "      <td>de</td>\n",
       "      <td>schule</td>\n",
       "    </tr>\n",
       "    <tr>\n",
       "      <th>5638</th>\n",
       "      <td>Molekülbaukasten zum Selbstbauen</td>\n",
       "      <td>molekülbaukasten selbstbauen</td>\n",
       "      <td>155299</td>\n",
       "      <td>Chemie</td>\n",
       "      <td>de</td>\n",
       "      <td>schule</td>\n",
       "    </tr>\n",
       "    <tr>\n",
       "      <th>5642</th>\n",
       "      <td>Der Schalenbau der Erde</td>\n",
       "      <td>schalenbau erde</td>\n",
       "      <td>155971</td>\n",
       "      <td>Geographie</td>\n",
       "      <td>de</td>\n",
       "      <td>schule</td>\n",
       "    </tr>\n",
       "    <tr>\n",
       "      <th>5646</th>\n",
       "      <td>Mehrstufige Zufallsexperimente</td>\n",
       "      <td>mehrstufige zufallsexperimente</td>\n",
       "      <td>156048</td>\n",
       "      <td>Mathe</td>\n",
       "      <td>de</td>\n",
       "      <td>schule</td>\n",
       "    </tr>\n",
       "    <tr>\n",
       "      <th>5650</th>\n",
       "      <td>Sequenz</td>\n",
       "      <td>sequenz</td>\n",
       "      <td>156879</td>\n",
       "      <td>Informatik</td>\n",
       "      <td>de</td>\n",
       "      <td>schule</td>\n",
       "    </tr>\n",
       "    <tr>\n",
       "      <th>5654</th>\n",
       "      <td>Plattentektonik</td>\n",
       "      <td>plattentektonik</td>\n",
       "      <td>157071</td>\n",
       "      <td>Geographie</td>\n",
       "      <td>de</td>\n",
       "      <td>schule</td>\n",
       "    </tr>\n",
       "    <tr>\n",
       "      <th>5656</th>\n",
       "      <td>Formalladung (x)</td>\n",
       "      <td>formalladung</td>\n",
       "      <td>157203</td>\n",
       "      <td>Chemie</td>\n",
       "      <td>de</td>\n",
       "      <td>schule</td>\n",
       "    </tr>\n",
       "    <tr>\n",
       "      <th>5660</th>\n",
       "      <td>Ionenbindung</td>\n",
       "      <td>ionenbindung</td>\n",
       "      <td>157270</td>\n",
       "      <td>Chemie</td>\n",
       "      <td>de</td>\n",
       "      <td>schule</td>\n",
       "    </tr>\n",
       "    <tr>\n",
       "      <th>5664</th>\n",
       "      <td>Die Stoffmengenkonzentration (x)</td>\n",
       "      <td>stoffmengenkonzentration</td>\n",
       "      <td>157510</td>\n",
       "      <td>Chemie</td>\n",
       "      <td>de</td>\n",
       "      <td>schule</td>\n",
       "    </tr>\n",
       "    <tr>\n",
       "      <th>5666</th>\n",
       "      <td>RedOx-Reaktion</td>\n",
       "      <td>redox reaktion</td>\n",
       "      <td>157600</td>\n",
       "      <td>Chemie</td>\n",
       "      <td>de</td>\n",
       "      <td>schule</td>\n",
       "    </tr>\n",
       "    <tr>\n",
       "      <th>5668</th>\n",
       "      <td>Salat-Ampel</td>\n",
       "      <td>salat ampel</td>\n",
       "      <td>157778</td>\n",
       "      <td>Nachhaltigkeit</td>\n",
       "      <td>de</td>\n",
       "      <td>schule</td>\n",
       "    </tr>\n",
       "    <tr>\n",
       "      <th>5670</th>\n",
       "      <td>Mandala-Garten</td>\n",
       "      <td>mandala garten</td>\n",
       "      <td>157784</td>\n",
       "      <td>Nachhaltigkeit</td>\n",
       "      <td>de</td>\n",
       "      <td>schule</td>\n",
       "    </tr>\n",
       "    <tr>\n",
       "      <th>5672</th>\n",
       "      <td>Ionenladung</td>\n",
       "      <td>ionenladung</td>\n",
       "      <td>158031</td>\n",
       "      <td>Chemie</td>\n",
       "      <td>de</td>\n",
       "      <td>schule</td>\n",
       "    </tr>\n",
       "    <tr>\n",
       "      <th>5674</th>\n",
       "      <td>Edelgase</td>\n",
       "      <td>edelgase</td>\n",
       "      <td>158092</td>\n",
       "      <td>Chemie</td>\n",
       "      <td>de</td>\n",
       "      <td>schule</td>\n",
       "    </tr>\n",
       "    <tr>\n",
       "      <th>5676</th>\n",
       "      <td>Schalenmodell</td>\n",
       "      <td>schalenmodell</td>\n",
       "      <td>158205</td>\n",
       "      <td>Chemie</td>\n",
       "      <td>de</td>\n",
       "      <td>schule</td>\n",
       "    </tr>\n",
       "    <tr>\n",
       "      <th>5677</th>\n",
       "      <td>Schalenmodell</td>\n",
       "      <td>schalenmodell</td>\n",
       "      <td>158205</td>\n",
       "      <td>Physik</td>\n",
       "      <td>de</td>\n",
       "      <td>schule</td>\n",
       "    </tr>\n",
       "    <tr>\n",
       "      <th>5680</th>\n",
       "      <td>Orbitaltheorie</td>\n",
       "      <td>orbitaltheorie</td>\n",
       "      <td>158511</td>\n",
       "      <td>Chemie</td>\n",
       "      <td>de</td>\n",
       "      <td>schule</td>\n",
       "    </tr>\n",
       "    <tr>\n",
       "      <th>5681</th>\n",
       "      <td>Orbitaltheorie</td>\n",
       "      <td>orbitaltheorie</td>\n",
       "      <td>158511</td>\n",
       "      <td>Physik</td>\n",
       "      <td>de</td>\n",
       "      <td>schule</td>\n",
       "    </tr>\n",
       "    <tr>\n",
       "      <th>5684</th>\n",
       "      <td>Polarität von Lösungsmitteln (x)</td>\n",
       "      <td>polarität lösungsmitteln</td>\n",
       "      <td>158528</td>\n",
       "      <td>Chemie</td>\n",
       "      <td>de</td>\n",
       "      <td>schule</td>\n",
       "    </tr>\n",
       "    <tr>\n",
       "      <th>5686</th>\n",
       "      <td>1. Definitionen von „Big Data“</td>\n",
       "      <td>definitionen data</td>\n",
       "      <td>158541</td>\n",
       "      <td>Informatik</td>\n",
       "      <td>de</td>\n",
       "      <td>schule</td>\n",
       "    </tr>\n",
       "    <tr>\n",
       "      <th>5690</th>\n",
       "      <td>Alkohole (x)</td>\n",
       "      <td>alkohole</td>\n",
       "      <td>158562</td>\n",
       "      <td>Chemie</td>\n",
       "      <td>de</td>\n",
       "      <td>schule</td>\n",
       "    </tr>\n",
       "    <tr>\n",
       "      <th>5694</th>\n",
       "      <td>IUPAC- Nomeklatur</td>\n",
       "      <td>iupac nomeklatur</td>\n",
       "      <td>158568</td>\n",
       "      <td>Chemie</td>\n",
       "      <td>de</td>\n",
       "      <td>schule</td>\n",
       "    </tr>\n",
       "    <tr>\n",
       "      <th>5698</th>\n",
       "      <td>Radikale (x)</td>\n",
       "      <td>radikale</td>\n",
       "      <td>159666</td>\n",
       "      <td>Chemie</td>\n",
       "      <td>de</td>\n",
       "      <td>schule</td>\n",
       "    </tr>\n",
       "    <tr>\n",
       "      <th>5700</th>\n",
       "      <td>Cracken</td>\n",
       "      <td>cracken</td>\n",
       "      <td>159668</td>\n",
       "      <td>Chemie</td>\n",
       "      <td>de</td>\n",
       "      <td>schule</td>\n",
       "    </tr>\n",
       "    <tr>\n",
       "      <th>5702</th>\n",
       "      <td>Alkine</td>\n",
       "      <td>alkine</td>\n",
       "      <td>159967</td>\n",
       "      <td>Chemie</td>\n",
       "      <td>de</td>\n",
       "      <td>schule</td>\n",
       "    </tr>\n",
       "    <tr>\n",
       "      <th>5704</th>\n",
       "      <td>Objektorientiertes Datenmodell</td>\n",
       "      <td>objektorientiertes datenmodell</td>\n",
       "      <td>160080</td>\n",
       "      <td>Informatik</td>\n",
       "      <td>de</td>\n",
       "      <td>schule</td>\n",
       "    </tr>\n",
       "    <tr>\n",
       "      <th>5708</th>\n",
       "      <td>Pflichtenheft</td>\n",
       "      <td>pflichtenheft</td>\n",
       "      <td>160083</td>\n",
       "      <td>Informatik</td>\n",
       "      <td>de</td>\n",
       "      <td>schule</td>\n",
       "    </tr>\n",
       "    <tr>\n",
       "      <th>5710</th>\n",
       "      <td>relationales Datenbankschema</td>\n",
       "      <td>relationales datenbankschema</td>\n",
       "      <td>160123</td>\n",
       "      <td>Informatik</td>\n",
       "      <td>de</td>\n",
       "      <td>schule</td>\n",
       "    </tr>\n",
       "    <tr>\n",
       "      <th>5714</th>\n",
       "      <td>Tabellen und Relationen</td>\n",
       "      <td>tabellen relationen</td>\n",
       "      <td>160124</td>\n",
       "      <td>Informatik</td>\n",
       "      <td>de</td>\n",
       "      <td>schule</td>\n",
       "    </tr>\n",
       "    <tr>\n",
       "      <th>5718</th>\n",
       "      <td>Datenintegrität</td>\n",
       "      <td>datenintegrität</td>\n",
       "      <td>160140</td>\n",
       "      <td>Informatik</td>\n",
       "      <td>de</td>\n",
       "      <td>schule</td>\n",
       "    </tr>\n",
       "    <tr>\n",
       "      <th>5734</th>\n",
       "      <td>Der Passatkreislauf - in Bearbeitung</td>\n",
       "      <td>passatkreislauf bearbeitung</td>\n",
       "      <td>160226</td>\n",
       "      <td>Geographie</td>\n",
       "      <td>de</td>\n",
       "      <td>schule</td>\n",
       "    </tr>\n",
       "    <tr>\n",
       "      <th>5736</th>\n",
       "      <td>Datenbanktransaktionen</td>\n",
       "      <td>datenbanktransaktionen</td>\n",
       "      <td>160256</td>\n",
       "      <td>Informatik</td>\n",
       "      <td>de</td>\n",
       "      <td>schule</td>\n",
       "    </tr>\n",
       "    <tr>\n",
       "      <th>5740</th>\n",
       "      <td>Strukturformeln</td>\n",
       "      <td>strukturformeln</td>\n",
       "      <td>160405</td>\n",
       "      <td>Chemie</td>\n",
       "      <td>de</td>\n",
       "      <td>schule</td>\n",
       "    </tr>\n",
       "    <tr>\n",
       "      <th>5742</th>\n",
       "      <td>ACID-Eigenschaften</td>\n",
       "      <td>acid eigenschaften</td>\n",
       "      <td>160497</td>\n",
       "      <td>Informatik</td>\n",
       "      <td>de</td>\n",
       "      <td>schule</td>\n",
       "    </tr>\n",
       "    <tr>\n",
       "      <th>5744</th>\n",
       "      <td>Radikalische Substitution</td>\n",
       "      <td>radikalische substitution</td>\n",
       "      <td>160615</td>\n",
       "      <td>Chemie</td>\n",
       "      <td>de</td>\n",
       "      <td>schule</td>\n",
       "    </tr>\n",
       "    <tr>\n",
       "      <th>5746</th>\n",
       "      <td>Halogene (x)</td>\n",
       "      <td>halogene</td>\n",
       "      <td>160616</td>\n",
       "      <td>Chemie</td>\n",
       "      <td>de</td>\n",
       "      <td>schule</td>\n",
       "    </tr>\n",
       "    <tr>\n",
       "      <th>5748</th>\n",
       "      <td>Elektrophile Addition</td>\n",
       "      <td>elektrophile addition</td>\n",
       "      <td>160788</td>\n",
       "      <td>Chemie</td>\n",
       "      <td>de</td>\n",
       "      <td>schule</td>\n",
       "    </tr>\n",
       "    <tr>\n",
       "      <th>5750</th>\n",
       "      <td>Isotope (x)</td>\n",
       "      <td>isotope</td>\n",
       "      <td>160845</td>\n",
       "      <td>Chemie</td>\n",
       "      <td>de</td>\n",
       "      <td>schule</td>\n",
       "    </tr>\n",
       "    <tr>\n",
       "      <th>5752</th>\n",
       "      <td>Referenzattribute</td>\n",
       "      <td>referenzattribute</td>\n",
       "      <td>161293</td>\n",
       "      <td>Informatik</td>\n",
       "      <td>de</td>\n",
       "      <td>schule</td>\n",
       "    </tr>\n",
       "    <tr>\n",
       "      <th>5758</th>\n",
       "      <td>rekursive Beziehungen</td>\n",
       "      <td>rekursive beziehungen</td>\n",
       "      <td>161407</td>\n",
       "      <td>Informatik</td>\n",
       "      <td>de</td>\n",
       "      <td>schule</td>\n",
       "    </tr>\n",
       "    <tr>\n",
       "      <th>5760</th>\n",
       "      <td>Redundanz in Datenbanken</td>\n",
       "      <td>redundanz datenbanken</td>\n",
       "      <td>161423</td>\n",
       "      <td>Informatik</td>\n",
       "      <td>de</td>\n",
       "      <td>schule</td>\n",
       "    </tr>\n",
       "    <tr>\n",
       "      <th>5762</th>\n",
       "      <td>Alkalimetalle</td>\n",
       "      <td>alkalimetalle</td>\n",
       "      <td>161845</td>\n",
       "      <td>Chemie</td>\n",
       "      <td>de</td>\n",
       "      <td>schule</td>\n",
       "    </tr>\n",
       "    <tr>\n",
       "      <th>5764</th>\n",
       "      <td>Trends im Periodensystem</td>\n",
       "      <td>trends periodensystem</td>\n",
       "      <td>161873</td>\n",
       "      <td>Chemie</td>\n",
       "      <td>de</td>\n",
       "      <td>schule</td>\n",
       "    </tr>\n",
       "    <tr>\n",
       "      <th>5766</th>\n",
       "      <td>Die Molekülmasse</td>\n",
       "      <td>molekülmasse</td>\n",
       "      <td>161890</td>\n",
       "      <td>Chemie</td>\n",
       "      <td>de</td>\n",
       "      <td>schule</td>\n",
       "    </tr>\n",
       "    <tr>\n",
       "      <th>5768</th>\n",
       "      <td>NULL in der Datenbank</td>\n",
       "      <td>null datenbank</td>\n",
       "      <td>161967</td>\n",
       "      <td>Informatik</td>\n",
       "      <td>de</td>\n",
       "      <td>schule</td>\n",
       "    </tr>\n",
       "    <tr>\n",
       "      <th>5770</th>\n",
       "      <td>Ionisierungsenergie (x)</td>\n",
       "      <td>ionisierungsenergie</td>\n",
       "      <td>162004</td>\n",
       "      <td>Chemie</td>\n",
       "      <td>de</td>\n",
       "      <td>schule</td>\n",
       "    </tr>\n",
       "    <tr>\n",
       "      <th>5772</th>\n",
       "      <td>Elektronenaffinität (x)</td>\n",
       "      <td>elektronenaffinität</td>\n",
       "      <td>162007</td>\n",
       "      <td>Chemie</td>\n",
       "      <td>de</td>\n",
       "      <td>schule</td>\n",
       "    </tr>\n",
       "    <tr>\n",
       "      <th>5780</th>\n",
       "      <td>Cheatsheet zur Funktionsmodellierung</td>\n",
       "      <td>cheatsheet funktionsmodellierung</td>\n",
       "      <td>163790</td>\n",
       "      <td>Mathe</td>\n",
       "      <td>de</td>\n",
       "      <td>schule</td>\n",
       "    </tr>\n",
       "    <tr>\n",
       "      <th>5788</th>\n",
       "      <td>Schätzen</td>\n",
       "      <td>schätzen</td>\n",
       "      <td>165193</td>\n",
       "      <td>Mathe</td>\n",
       "      <td>de</td>\n",
       "      <td>schule</td>\n",
       "    </tr>\n",
       "    <tr>\n",
       "      <th>5790</th>\n",
       "      <td>Ortslinien und Ortsbereiche</td>\n",
       "      <td>ortslinien ortsbereiche</td>\n",
       "      <td>165195</td>\n",
       "      <td>Mathe</td>\n",
       "      <td>de</td>\n",
       "      <td>schule</td>\n",
       "    </tr>\n",
       "    <tr>\n",
       "      <th>5794</th>\n",
       "      <td>Gleichungen aufstellen</td>\n",
       "      <td>gleichungen aufstellen</td>\n",
       "      <td>165218</td>\n",
       "      <td>Mathe</td>\n",
       "      <td>de</td>\n",
       "      <td>schule</td>\n",
       "    </tr>\n",
       "    <tr>\n",
       "      <th>5796</th>\n",
       "      <td>Vulkanismus - In Bearbeitung</td>\n",
       "      <td>vulkanismus bearbeitung</td>\n",
       "      <td>166757</td>\n",
       "      <td>Geographie</td>\n",
       "      <td>de</td>\n",
       "      <td>schule</td>\n",
       "    </tr>\n",
       "    <tr>\n",
       "      <th>5812</th>\n",
       "      <td>Quellennachweise</td>\n",
       "      <td>quellennachweise</td>\n",
       "      <td>167847</td>\n",
       "      <td>Informatik</td>\n",
       "      <td>de</td>\n",
       "      <td>schule</td>\n",
       "    </tr>\n",
       "    <tr>\n",
       "      <th>5814</th>\n",
       "      <td>Kategorien von Quellen</td>\n",
       "      <td>kategorien quellen</td>\n",
       "      <td>167851</td>\n",
       "      <td>Informatik</td>\n",
       "      <td>de</td>\n",
       "      <td>schule</td>\n",
       "    </tr>\n",
       "    <tr>\n",
       "      <th>5850</th>\n",
       "      <td>Der Aufbau der Atmosphäre</td>\n",
       "      <td>aufbau atmosphäre</td>\n",
       "      <td>169056</td>\n",
       "      <td>Geographie</td>\n",
       "      <td>de</td>\n",
       "      <td>schule</td>\n",
       "    </tr>\n",
       "    <tr>\n",
       "      <th>5852</th>\n",
       "      <td>Vulkanismus in Deutschland?</td>\n",
       "      <td>vulkanismus deutschland</td>\n",
       "      <td>169596</td>\n",
       "      <td>Geographie</td>\n",
       "      <td>de</td>\n",
       "      <td>schule</td>\n",
       "    </tr>\n",
       "    <tr>\n",
       "      <th>5856</th>\n",
       "      <td>Satz und Kehrsatz</td>\n",
       "      <td>satz kehrsatz</td>\n",
       "      <td>169704</td>\n",
       "      <td>Mathe</td>\n",
       "      <td>de</td>\n",
       "      <td>schule</td>\n",
       "    </tr>\n",
       "    <tr>\n",
       "      <th>5860</th>\n",
       "      <td>Einheitsvektor</td>\n",
       "      <td>einheitsvektor</td>\n",
       "      <td>169766</td>\n",
       "      <td>Mathe</td>\n",
       "      <td>de</td>\n",
       "      <td>schule</td>\n",
       "    </tr>\n",
       "    <tr>\n",
       "      <th>5862</th>\n",
       "      <td>Skalare Multiplikation</td>\n",
       "      <td>skalare multiplikation</td>\n",
       "      <td>169805</td>\n",
       "      <td>Mathe</td>\n",
       "      <td>de</td>\n",
       "      <td>schule</td>\n",
       "    </tr>\n",
       "    <tr>\n",
       "      <th>5864</th>\n",
       "      <td>Skalar</td>\n",
       "      <td>skalar</td>\n",
       "      <td>169806</td>\n",
       "      <td>Mathe</td>\n",
       "      <td>de</td>\n",
       "      <td>schule</td>\n",
       "    </tr>\n",
       "    <tr>\n",
       "      <th>5866</th>\n",
       "      <td>Vektorkette</td>\n",
       "      <td>vektorkette</td>\n",
       "      <td>169839</td>\n",
       "      <td>Mathe</td>\n",
       "      <td>de</td>\n",
       "      <td>schule</td>\n",
       "    </tr>\n",
       "    <tr>\n",
       "      <th>5868</th>\n",
       "      <td>Ortsunabhängigkeit von Vektoren</td>\n",
       "      <td>ortsunabhängigkeit vektoren</td>\n",
       "      <td>169845</td>\n",
       "      <td>Mathe</td>\n",
       "      <td>de</td>\n",
       "      <td>schule</td>\n",
       "    </tr>\n",
       "    <tr>\n",
       "      <th>5890</th>\n",
       "      <td>El Niño und La Niña</td>\n",
       "      <td>niño niña</td>\n",
       "      <td>173317</td>\n",
       "      <td>Geographie</td>\n",
       "      <td>de</td>\n",
       "      <td>schule</td>\n",
       "    </tr>\n",
       "    <tr>\n",
       "      <th>5894</th>\n",
       "      <td>Objektkarte</td>\n",
       "      <td>objektkarte</td>\n",
       "      <td>174877</td>\n",
       "      <td>Informatik</td>\n",
       "      <td>de</td>\n",
       "      <td>schule</td>\n",
       "    </tr>\n",
       "    <tr>\n",
       "      <th>5896</th>\n",
       "      <td>Zahlensysteme</td>\n",
       "      <td>zahlensysteme</td>\n",
       "      <td>174955</td>\n",
       "      <td>Informatik</td>\n",
       "      <td>de</td>\n",
       "      <td>schule</td>\n",
       "    </tr>\n",
       "    <tr>\n",
       "      <th>5902</th>\n",
       "      <td>Promille</td>\n",
       "      <td>promille</td>\n",
       "      <td>175766</td>\n",
       "      <td>Mathe</td>\n",
       "      <td>de</td>\n",
       "      <td>schule</td>\n",
       "    </tr>\n",
       "    <tr>\n",
       "      <th>5908</th>\n",
       "      <td>Klassenkarte</td>\n",
       "      <td>klassenkarte</td>\n",
       "      <td>176564</td>\n",
       "      <td>Informatik</td>\n",
       "      <td>de</td>\n",
       "      <td>schule</td>\n",
       "    </tr>\n",
       "    <tr>\n",
       "      <th>5912</th>\n",
       "      <td>Parameter (Informatik)</td>\n",
       "      <td>parameter informatik</td>\n",
       "      <td>176581</td>\n",
       "      <td>Informatik</td>\n",
       "      <td>de</td>\n",
       "      <td>schule</td>\n",
       "    </tr>\n",
       "    <tr>\n",
       "      <th>5914</th>\n",
       "      <td>Modellierung (Informatik)</td>\n",
       "      <td>modellierung informatik</td>\n",
       "      <td>176590</td>\n",
       "      <td>Informatik</td>\n",
       "      <td>de</td>\n",
       "      <td>schule</td>\n",
       "    </tr>\n",
       "    <tr>\n",
       "      <th>5916</th>\n",
       "      <td>Gegenvektor</td>\n",
       "      <td>gegenvektor</td>\n",
       "      <td>177622</td>\n",
       "      <td>Mathe</td>\n",
       "      <td>de</td>\n",
       "      <td>schule</td>\n",
       "    </tr>\n",
       "    <tr>\n",
       "      <th>5918</th>\n",
       "      <td>Variable</td>\n",
       "      <td>variable</td>\n",
       "      <td>177823</td>\n",
       "      <td>Mathe</td>\n",
       "      <td>de</td>\n",
       "      <td>schule</td>\n",
       "    </tr>\n",
       "    <tr>\n",
       "      <th>5920</th>\n",
       "      <td>Skonto</td>\n",
       "      <td>skonto</td>\n",
       "      <td>178142</td>\n",
       "      <td>Wirtschaft</td>\n",
       "      <td>de</td>\n",
       "      <td>schule</td>\n",
       "    </tr>\n",
       "    <tr>\n",
       "      <th>5928</th>\n",
       "      <td>Rabatte</td>\n",
       "      <td>rabatte</td>\n",
       "      <td>178355</td>\n",
       "      <td>Wirtschaft</td>\n",
       "      <td>de</td>\n",
       "      <td>schule</td>\n",
       "    </tr>\n",
       "    <tr>\n",
       "      <th>5930</th>\n",
       "      <td>Bonus</td>\n",
       "      <td>bonus</td>\n",
       "      <td>178732</td>\n",
       "      <td>Wirtschaft</td>\n",
       "      <td>de</td>\n",
       "      <td>schule</td>\n",
       "    </tr>\n",
       "    <tr>\n",
       "      <th>5934</th>\n",
       "      <td>Kreisdiagramm</td>\n",
       "      <td>kreisdiagramm</td>\n",
       "      <td>178914</td>\n",
       "      <td>Mathe</td>\n",
       "      <td>de</td>\n",
       "      <td>schule</td>\n",
       "    </tr>\n",
       "    <tr>\n",
       "      <th>5936</th>\n",
       "      <td>Lineare Abbildungen</td>\n",
       "      <td>lineare abbildungen</td>\n",
       "      <td>179161</td>\n",
       "      <td>Mathe</td>\n",
       "      <td>de</td>\n",
       "      <td>schule</td>\n",
       "    </tr>\n",
       "    <tr>\n",
       "      <th>5980</th>\n",
       "      <td>Definition</td>\n",
       "      <td>definition</td>\n",
       "      <td>179744</td>\n",
       "      <td>Mathe</td>\n",
       "      <td>de</td>\n",
       "      <td>schule</td>\n",
       "    </tr>\n",
       "    <tr>\n",
       "      <th>5992</th>\n",
       "      <td>Die Gewinn-und Verlustrechnung(GuV)</td>\n",
       "      <td>gewinn verlustrechnung</td>\n",
       "      <td>180173</td>\n",
       "      <td>Wirtschaft</td>\n",
       "      <td>de</td>\n",
       "      <td>schule</td>\n",
       "    </tr>\n",
       "    <tr>\n",
       "      <th>5996</th>\n",
       "      <td>Gewinn und Verlust</td>\n",
       "      <td>gewinn verlust</td>\n",
       "      <td>180846</td>\n",
       "      <td>Wirtschaft</td>\n",
       "      <td>de</td>\n",
       "      <td>schule</td>\n",
       "    </tr>\n",
       "    <tr>\n",
       "      <th>5998</th>\n",
       "      <td>Stellenwertsysteme</td>\n",
       "      <td>stellenwertsysteme</td>\n",
       "      <td>180887</td>\n",
       "      <td>Informatik</td>\n",
       "      <td>de</td>\n",
       "      <td>schule</td>\n",
       "    </tr>\n",
       "    <tr>\n",
       "      <th>6000</th>\n",
       "      <td>Einstieg</td>\n",
       "      <td>einstieg</td>\n",
       "      <td>181020</td>\n",
       "      <td>Nachhaltigkeit</td>\n",
       "      <td>de</td>\n",
       "      <td>schule</td>\n",
       "    </tr>\n",
       "    <tr>\n",
       "      <th>6008</th>\n",
       "      <td>Dezimalsystem</td>\n",
       "      <td>dezimalsystem</td>\n",
       "      <td>181051</td>\n",
       "      <td>Informatik</td>\n",
       "      <td>de</td>\n",
       "      <td>schule</td>\n",
       "    </tr>\n",
       "    <tr>\n",
       "      <th>6012</th>\n",
       "      <td>Oktalsystem</td>\n",
       "      <td>oktalsystem</td>\n",
       "      <td>181056</td>\n",
       "      <td>Informatik</td>\n",
       "      <td>de</td>\n",
       "      <td>schule</td>\n",
       "    </tr>\n",
       "    <tr>\n",
       "      <th>6016</th>\n",
       "      <td>Additionssysteme</td>\n",
       "      <td>additionssysteme</td>\n",
       "      <td>181133</td>\n",
       "      <td>Informatik</td>\n",
       "      <td>de</td>\n",
       "      <td>schule</td>\n",
       "    </tr>\n",
       "    <tr>\n",
       "      <th>6018</th>\n",
       "      <td>Hybridsysteme</td>\n",
       "      <td>hybridsysteme</td>\n",
       "      <td>181135</td>\n",
       "      <td>Informatik</td>\n",
       "      <td>de</td>\n",
       "      <td>schule</td>\n",
       "    </tr>\n",
       "    <tr>\n",
       "      <th>6032</th>\n",
       "      <td>Designmethoden</td>\n",
       "      <td>designmethoden</td>\n",
       "      <td>183223</td>\n",
       "      <td>Nachhaltigkeit</td>\n",
       "      <td>de</td>\n",
       "      <td>schule</td>\n",
       "    </tr>\n",
       "    <tr>\n",
       "      <th>6034</th>\n",
       "      <td>Vermehrung</td>\n",
       "      <td>vermehrung</td>\n",
       "      <td>184178</td>\n",
       "      <td>Nachhaltigkeit</td>\n",
       "      <td>de</td>\n",
       "      <td>schule</td>\n",
       "    </tr>\n",
       "    <tr>\n",
       "      <th>6038</th>\n",
       "      <td>Mehrwertsteuer</td>\n",
       "      <td>mehrwertsteuer</td>\n",
       "      <td>184495</td>\n",
       "      <td>Wirtschaft</td>\n",
       "      <td>de</td>\n",
       "      <td>schule</td>\n",
       "    </tr>\n",
       "    <tr>\n",
       "      <th>6040</th>\n",
       "      <td>Steuern</td>\n",
       "      <td>steuern</td>\n",
       "      <td>184763</td>\n",
       "      <td>Wirtschaft</td>\n",
       "      <td>de</td>\n",
       "      <td>schule</td>\n",
       "    </tr>\n",
       "    <tr>\n",
       "      <th>6048</th>\n",
       "      <td>Gartensuche</td>\n",
       "      <td>gartensuche</td>\n",
       "      <td>185551</td>\n",
       "      <td>Nachhaltigkeit</td>\n",
       "      <td>de</td>\n",
       "      <td>schule</td>\n",
       "    </tr>\n",
       "    <tr>\n",
       "      <th>6082</th>\n",
       "      <td>Eigenschaften von Algorithmen</td>\n",
       "      <td>eigenschaften algorithmen</td>\n",
       "      <td>185855</td>\n",
       "      <td>Informatik</td>\n",
       "      <td>de</td>\n",
       "      <td>schule</td>\n",
       "    </tr>\n",
       "    <tr>\n",
       "      <th>6086</th>\n",
       "      <td>Hexadezimalsystem</td>\n",
       "      <td>hexadezimalsystem</td>\n",
       "      <td>186051</td>\n",
       "      <td>Informatik</td>\n",
       "      <td>de</td>\n",
       "      <td>schule</td>\n",
       "    </tr>\n",
       "    <tr>\n",
       "      <th>6088</th>\n",
       "      <td>Ergebnisräume übertragen</td>\n",
       "      <td>ergebnisräume übertragen</td>\n",
       "      <td>186077</td>\n",
       "      <td>Mathe</td>\n",
       "      <td>de</td>\n",
       "      <td>schule</td>\n",
       "    </tr>\n",
       "    <tr>\n",
       "      <th>6090</th>\n",
       "      <td>Anpassung der Ergebnismenge</td>\n",
       "      <td>anpassung ergebnismenge</td>\n",
       "      <td>186079</td>\n",
       "      <td>Mathe</td>\n",
       "      <td>de</td>\n",
       "      <td>schule</td>\n",
       "    </tr>\n",
       "    <tr>\n",
       "      <th>6098</th>\n",
       "      <td>Methoden mit Rückgabewert</td>\n",
       "      <td>methoden rückgabewert</td>\n",
       "      <td>186798</td>\n",
       "      <td>Informatik</td>\n",
       "      <td>de</td>\n",
       "      <td>schule</td>\n",
       "    </tr>\n",
       "    <tr>\n",
       "      <th>6106</th>\n",
       "      <td>Kontenplan und Kontenrahmen</td>\n",
       "      <td>kontenplan kontenrahmen</td>\n",
       "      <td>187106</td>\n",
       "      <td>Wirtschaft</td>\n",
       "      <td>de</td>\n",
       "      <td>schule</td>\n",
       "    </tr>\n",
       "    <tr>\n",
       "      <th>6108</th>\n",
       "      <td>Interaktive Aufgaben</td>\n",
       "      <td>interaktive aufgaben</td>\n",
       "      <td>187304</td>\n",
       "      <td>Mathe</td>\n",
       "      <td>de</td>\n",
       "      <td>schule</td>\n",
       "    </tr>\n",
       "    <tr>\n",
       "      <th>6110</th>\n",
       "      <td>Römische  Zahlen</td>\n",
       "      <td>römische zahlen</td>\n",
       "      <td>187487</td>\n",
       "      <td>Informatik</td>\n",
       "      <td>de</td>\n",
       "      <td>schule</td>\n",
       "    </tr>\n",
       "    <tr>\n",
       "      <th>6116</th>\n",
       "      <td>Cluster</td>\n",
       "      <td>cluster</td>\n",
       "      <td>188985</td>\n",
       "      <td>Wirtschaft</td>\n",
       "      <td>de</td>\n",
       "      <td>schule</td>\n",
       "    </tr>\n",
       "    <tr>\n",
       "      <th>6117</th>\n",
       "      <td>Cluster</td>\n",
       "      <td>cluster</td>\n",
       "      <td>188985</td>\n",
       "      <td>Geographie</td>\n",
       "      <td>de</td>\n",
       "      <td>schule</td>\n",
       "    </tr>\n",
       "    <tr>\n",
       "      <th>6122</th>\n",
       "      <td>Pfadregeln</td>\n",
       "      <td>pfadregeln</td>\n",
       "      <td>189811</td>\n",
       "      <td>Mathe</td>\n",
       "      <td>de</td>\n",
       "      <td>schule</td>\n",
       "    </tr>\n",
       "    <tr>\n",
       "      <th>6124</th>\n",
       "      <td>Die Klasse Textdokument</td>\n",
       "      <td>klasse textdokument</td>\n",
       "      <td>190446</td>\n",
       "      <td>Informatik</td>\n",
       "      <td>de</td>\n",
       "      <td>schule</td>\n",
       "    </tr>\n",
       "    <tr>\n",
       "      <th>6126</th>\n",
       "      <td>Die Klasse Absatz</td>\n",
       "      <td>klasse absatz</td>\n",
       "      <td>190456</td>\n",
       "      <td>Informatik</td>\n",
       "      <td>de</td>\n",
       "      <td>schule</td>\n",
       "    </tr>\n",
       "    <tr>\n",
       "      <th>6128</th>\n",
       "      <td>Die Klasse Zeichen</td>\n",
       "      <td>klasse zeichen</td>\n",
       "      <td>190480</td>\n",
       "      <td>Informatik</td>\n",
       "      <td>de</td>\n",
       "      <td>schule</td>\n",
       "    </tr>\n",
       "    <tr>\n",
       "      <th>6134</th>\n",
       "      <td>Porters Diamantenmodell</td>\n",
       "      <td>porters diamantenmodell</td>\n",
       "      <td>191608</td>\n",
       "      <td>Geographie</td>\n",
       "      <td>de</td>\n",
       "      <td>schule</td>\n",
       "    </tr>\n",
       "    <tr>\n",
       "      <th>6136</th>\n",
       "      <td>Grundsätze der Besteuerung</td>\n",
       "      <td>grundsätze besteuerung</td>\n",
       "      <td>192935</td>\n",
       "      <td>Wirtschaft</td>\n",
       "      <td>de</td>\n",
       "      <td>schule</td>\n",
       "    </tr>\n",
       "    <tr>\n",
       "      <th>6138</th>\n",
       "      <td>Einkommensteuer</td>\n",
       "      <td>einkommensteuer</td>\n",
       "      <td>193131</td>\n",
       "      <td>Wirtschaft</td>\n",
       "      <td>de</td>\n",
       "      <td>schule</td>\n",
       "    </tr>\n",
       "    <tr>\n",
       "      <th>6140</th>\n",
       "      <td>Lohnsteuer</td>\n",
       "      <td>lohnsteuer</td>\n",
       "      <td>193200</td>\n",
       "      <td>Wirtschaft</td>\n",
       "      <td>de</td>\n",
       "      <td>schule</td>\n",
       "    </tr>\n",
       "    <tr>\n",
       "      <th>6142</th>\n",
       "      <td>Umsatzsteuer</td>\n",
       "      <td>umsatzsteuer</td>\n",
       "      <td>193413</td>\n",
       "      <td>Wirtschaft</td>\n",
       "      <td>de</td>\n",
       "      <td>schule</td>\n",
       "    </tr>\n",
       "    <tr>\n",
       "      <th>6144</th>\n",
       "      <td>Hundesteuer</td>\n",
       "      <td>hundesteuer</td>\n",
       "      <td>193439</td>\n",
       "      <td>Wirtschaft</td>\n",
       "      <td>de</td>\n",
       "      <td>schule</td>\n",
       "    </tr>\n",
       "    <tr>\n",
       "      <th>6146</th>\n",
       "      <td>Kirchensteuer</td>\n",
       "      <td>kirchensteuer</td>\n",
       "      <td>193464</td>\n",
       "      <td>Wirtschaft</td>\n",
       "      <td>de</td>\n",
       "      <td>schule</td>\n",
       "    </tr>\n",
       "    <tr>\n",
       "      <th>6148</th>\n",
       "      <td>Kraftfahrzeugsteuer</td>\n",
       "      <td>kraftfahrzeugsteuer</td>\n",
       "      <td>193486</td>\n",
       "      <td>Wirtschaft</td>\n",
       "      <td>de</td>\n",
       "      <td>schule</td>\n",
       "    </tr>\n",
       "    <tr>\n",
       "      <th>6152</th>\n",
       "      <td>Gewerbesteuer</td>\n",
       "      <td>gewerbesteuer</td>\n",
       "      <td>193578</td>\n",
       "      <td>Wirtschaft</td>\n",
       "      <td>de</td>\n",
       "      <td>schule</td>\n",
       "    </tr>\n",
       "    <tr>\n",
       "      <th>6156</th>\n",
       "      <td>Bedingungen</td>\n",
       "      <td>bedingungen</td>\n",
       "      <td>194047</td>\n",
       "      <td>Informatik</td>\n",
       "      <td>de</td>\n",
       "      <td>schule</td>\n",
       "    </tr>\n",
       "    <tr>\n",
       "      <th>6177</th>\n",
       "      <td>Geometrie Übungsbausteine</td>\n",
       "      <td>geometrie übungsbausteine</td>\n",
       "      <td>18574</td>\n",
       "      <td>Mathe</td>\n",
       "      <td>de</td>\n",
       "      <td>schule</td>\n",
       "    </tr>\n",
       "    <tr>\n",
       "      <th>6198</th>\n",
       "      <td>Einführung in die Raummessung</td>\n",
       "      <td>einführung raummessung</td>\n",
       "      <td>19200</td>\n",
       "      <td>Mathe</td>\n",
       "      <td>de</td>\n",
       "      <td>schule</td>\n",
       "    </tr>\n",
       "    <tr>\n",
       "      <th>6199</th>\n",
       "      <td>Einführung zu Brüchen</td>\n",
       "      <td>einführung brüchen</td>\n",
       "      <td>19479</td>\n",
       "      <td>Mathe</td>\n",
       "      <td>de</td>\n",
       "      <td>schule</td>\n",
       "    </tr>\n",
       "    <tr>\n",
       "      <th>6204</th>\n",
       "      <td>Dezimalbrüche</td>\n",
       "      <td>dezimalbrüche</td>\n",
       "      <td>19482</td>\n",
       "      <td>Mathe</td>\n",
       "      <td>de</td>\n",
       "      <td>schule</td>\n",
       "    </tr>\n",
       "    <tr>\n",
       "      <th>6209</th>\n",
       "      <td>Abiturkurs Analysis</td>\n",
       "      <td>abiturkurs analysis</td>\n",
       "      <td>19500</td>\n",
       "      <td>Mathe</td>\n",
       "      <td>de</td>\n",
       "      <td>schule</td>\n",
       "    </tr>\n",
       "    <tr>\n",
       "      <th>6239</th>\n",
       "      <td>Lineare Gleichungen</td>\n",
       "      <td>lineare gleichungen</td>\n",
       "      <td>19550</td>\n",
       "      <td>Mathe</td>\n",
       "      <td>de</td>\n",
       "      <td>schule</td>\n",
       "    </tr>\n",
       "    <tr>\n",
       "      <th>6245</th>\n",
       "      <td>Sachaufgaben zu den Grundrechenarten</td>\n",
       "      <td>sachaufgaben grundrechenarten</td>\n",
       "      <td>19552</td>\n",
       "      <td>Mathe</td>\n",
       "      <td>de</td>\n",
       "      <td>schule</td>\n",
       "    </tr>\n",
       "    <tr>\n",
       "      <th>6246</th>\n",
       "      <td>Überblick zur Achsenspiegelung</td>\n",
       "      <td>überblick achsenspiegelung</td>\n",
       "      <td>19581</td>\n",
       "      <td>Mathe</td>\n",
       "      <td>de</td>\n",
       "      <td>schule</td>\n",
       "    </tr>\n",
       "    <tr>\n",
       "      <th>6251</th>\n",
       "      <td>Überblick zur Geometrie</td>\n",
       "      <td>überblick geometrie</td>\n",
       "      <td>20693</td>\n",
       "      <td>Mathe</td>\n",
       "      <td>de</td>\n",
       "      <td>schule</td>\n",
       "    </tr>\n",
       "    <tr>\n",
       "      <th>6254</th>\n",
       "      <td>Übersicht zu Vektoren</td>\n",
       "      <td>übersicht vektoren</td>\n",
       "      <td>30188</td>\n",
       "      <td>Mathe</td>\n",
       "      <td>de</td>\n",
       "      <td>schule</td>\n",
       "    </tr>\n",
       "    <tr>\n",
       "      <th>6262</th>\n",
       "      <td>Nullstellen einer Funktion</td>\n",
       "      <td>nullstellen funktion</td>\n",
       "      <td>31371</td>\n",
       "      <td>Mathe</td>\n",
       "      <td>de</td>\n",
       "      <td>schule</td>\n",
       "    </tr>\n",
       "    <tr>\n",
       "      <th>6277</th>\n",
       "      <td>Testkurs</td>\n",
       "      <td>testkurs</td>\n",
       "      <td>34278</td>\n",
       "      <td>Nachhaltigkeit</td>\n",
       "      <td>de</td>\n",
       "      <td>schule</td>\n",
       "    </tr>\n",
       "    <tr>\n",
       "      <th>6304</th>\n",
       "      <td>Anleitung zum Bau einer Kräuterspirale</td>\n",
       "      <td>anleitung kräuterspirale</td>\n",
       "      <td>35104</td>\n",
       "      <td>Nachhaltigkeit</td>\n",
       "      <td>de</td>\n",
       "      <td>schule</td>\n",
       "    </tr>\n",
       "    <tr>\n",
       "      <th>6318</th>\n",
       "      <td>Anleitung zum Bau eines Solartrockners</td>\n",
       "      <td>anleitung solartrockners</td>\n",
       "      <td>36087</td>\n",
       "      <td>Nachhaltigkeit</td>\n",
       "      <td>de</td>\n",
       "      <td>schule</td>\n",
       "    </tr>\n",
       "    <tr>\n",
       "      <th>6320</th>\n",
       "      <td>Anleitung zum Bau eines Salatturms</td>\n",
       "      <td>anleitung salatturms</td>\n",
       "      <td>36731</td>\n",
       "      <td>Nachhaltigkeit</td>\n",
       "      <td>de</td>\n",
       "      <td>schule</td>\n",
       "    </tr>\n",
       "    <tr>\n",
       "      <th>6338</th>\n",
       "      <td>Einführung in die Programmierung</td>\n",
       "      <td>einführung programmierung</td>\n",
       "      <td>39186</td>\n",
       "      <td>Informatik</td>\n",
       "      <td>de</td>\n",
       "      <td>schule</td>\n",
       "    </tr>\n",
       "    <tr>\n",
       "      <th>6340</th>\n",
       "      <td>Anleitung zum Bau eines Hochbeets</td>\n",
       "      <td>anleitung hochbeets</td>\n",
       "      <td>40382</td>\n",
       "      <td>Nachhaltigkeit</td>\n",
       "      <td>de</td>\n",
       "      <td>schule</td>\n",
       "    </tr>\n",
       "    <tr>\n",
       "      <th>6346</th>\n",
       "      <td>Testkurs</td>\n",
       "      <td>testkurs</td>\n",
       "      <td>41479</td>\n",
       "      <td>Mathe</td>\n",
       "      <td>de</td>\n",
       "      <td>schule</td>\n",
       "    </tr>\n",
       "    <tr>\n",
       "      <th>6366</th>\n",
       "      <td>DNA isolieren</td>\n",
       "      <td>dna isolieren</td>\n",
       "      <td>46541</td>\n",
       "      <td>Biologie</td>\n",
       "      <td>de</td>\n",
       "      <td>schule</td>\n",
       "    </tr>\n",
       "    <tr>\n",
       "      <th>6367</th>\n",
       "      <td>Abiturkurs Stochastik</td>\n",
       "      <td>abiturkurs stochastik</td>\n",
       "      <td>46743</td>\n",
       "      <td>Mathe</td>\n",
       "      <td>de</td>\n",
       "      <td>schule</td>\n",
       "    </tr>\n",
       "    <tr>\n",
       "      <th>6373</th>\n",
       "      <td>Informatik</td>\n",
       "      <td>informatik</td>\n",
       "      <td>47871</td>\n",
       "      <td>Informatik</td>\n",
       "      <td>de</td>\n",
       "      <td>schule</td>\n",
       "    </tr>\n",
       "    <tr>\n",
       "      <th>6374</th>\n",
       "      <td>Kompostgüte testen</td>\n",
       "      <td>kompostgüte testen</td>\n",
       "      <td>48823</td>\n",
       "      <td>Nachhaltigkeit</td>\n",
       "      <td>de</td>\n",
       "      <td>schule</td>\n",
       "    </tr>\n",
       "    <tr>\n",
       "      <th>6378</th>\n",
       "      <td>Die Teebeutelrakete</td>\n",
       "      <td>teebeutelrakete</td>\n",
       "      <td>50701</td>\n",
       "      <td>Biologie</td>\n",
       "      <td>de</td>\n",
       "      <td>schule</td>\n",
       "    </tr>\n",
       "    <tr>\n",
       "      <th>6385</th>\n",
       "      <td>Teilchencharakter des Photons</td>\n",
       "      <td>teilchencharakter photons</td>\n",
       "      <td>51971</td>\n",
       "      <td>Physik</td>\n",
       "      <td>de</td>\n",
       "      <td>schule</td>\n",
       "    </tr>\n",
       "    <tr>\n",
       "      <th>6390</th>\n",
       "      <td>Kursseiten - Speicherung</td>\n",
       "      <td>kursseiten speicherung</td>\n",
       "      <td>52197</td>\n",
       "      <td>Mathe</td>\n",
       "      <td>de</td>\n",
       "      <td>schule</td>\n",
       "    </tr>\n",
       "    <tr>\n",
       "      <th>6395</th>\n",
       "      <td>Vielfachheit von Nullstellen</td>\n",
       "      <td>vielfachheit nullstellen</td>\n",
       "      <td>53852</td>\n",
       "      <td>Mathe</td>\n",
       "      <td>de</td>\n",
       "      <td>schule</td>\n",
       "    </tr>\n",
       "    <tr>\n",
       "      <th>6403</th>\n",
       "      <td>Umwandeln von Ebenendarstellungen</td>\n",
       "      <td>umwandeln ebenendarstellungen</td>\n",
       "      <td>56476</td>\n",
       "      <td>Mathe</td>\n",
       "      <td>de</td>\n",
       "      <td>schule</td>\n",
       "    </tr>\n",
       "    <tr>\n",
       "      <th>6405</th>\n",
       "      <td>Abiturkurs Geometrie</td>\n",
       "      <td>abiturkurs geometrie</td>\n",
       "      <td>57668</td>\n",
       "      <td>Mathe</td>\n",
       "      <td>de</td>\n",
       "      <td>schule</td>\n",
       "    </tr>\n",
       "    <tr>\n",
       "      <th>6408</th>\n",
       "      <td>Chromatographie - wie es funktioniert!</td>\n",
       "      <td>chromatographie funktioniert</td>\n",
       "      <td>58381</td>\n",
       "      <td>Biologie</td>\n",
       "      <td>de</td>\n",
       "      <td>schule</td>\n",
       "    </tr>\n",
       "    <tr>\n",
       "      <th>6409</th>\n",
       "      <td>Problematische Prozentangaben</td>\n",
       "      <td>problematische prozentangaben</td>\n",
       "      <td>59964</td>\n",
       "      <td>Mathe</td>\n",
       "      <td>de</td>\n",
       "      <td>schule</td>\n",
       "    </tr>\n",
       "    <tr>\n",
       "      <th>6419</th>\n",
       "      <td>Videokurs zu Exponentialfunktionen</td>\n",
       "      <td>videokurs exponentialfunktionen</td>\n",
       "      <td>62900</td>\n",
       "      <td>Mathe</td>\n",
       "      <td>de</td>\n",
       "      <td>schule</td>\n",
       "    </tr>\n",
       "    <tr>\n",
       "      <th>6423</th>\n",
       "      <td>Stoffe und Stoffeigenschaften</td>\n",
       "      <td>stoffe stoffeigenschaften</td>\n",
       "      <td>63494</td>\n",
       "      <td>Chemie</td>\n",
       "      <td>de</td>\n",
       "      <td>schule</td>\n",
       "    </tr>\n",
       "    <tr>\n",
       "      <th>6431</th>\n",
       "      <td>Polynomdivision - Das Verfahren</td>\n",
       "      <td>polynomdivision verfahren</td>\n",
       "      <td>67222</td>\n",
       "      <td>Mathe</td>\n",
       "      <td>de</td>\n",
       "      <td>schule</td>\n",
       "    </tr>\n",
       "    <tr>\n",
       "      <th>6435</th>\n",
       "      <td>Richtig Düngen</td>\n",
       "      <td>richtig düngen</td>\n",
       "      <td>67734</td>\n",
       "      <td>Nachhaltigkeit</td>\n",
       "      <td>de</td>\n",
       "      <td>schule</td>\n",
       "    </tr>\n",
       "    <tr>\n",
       "      <th>6438</th>\n",
       "      <td>Aussaaterde</td>\n",
       "      <td>aussaaterde</td>\n",
       "      <td>69841</td>\n",
       "      <td>Nachhaltigkeit</td>\n",
       "      <td>de</td>\n",
       "      <td>schule</td>\n",
       "    </tr>\n",
       "    <tr>\n",
       "      <th>6460</th>\n",
       "      <td>Schnecken! Was tun?</td>\n",
       "      <td>schnecken</td>\n",
       "      <td>75941</td>\n",
       "      <td>Nachhaltigkeit</td>\n",
       "      <td>de</td>\n",
       "      <td>schule</td>\n",
       "    </tr>\n",
       "    <tr>\n",
       "      <th>6464</th>\n",
       "      <td>Konstruierbare Dreiecke</td>\n",
       "      <td>konstruierbare dreiecke</td>\n",
       "      <td>78680</td>\n",
       "      <td>Mathe</td>\n",
       "      <td>de</td>\n",
       "      <td>schule</td>\n",
       "    </tr>\n",
       "    <tr>\n",
       "      <th>6466</th>\n",
       "      <td>Konstruktion von Dreiecken</td>\n",
       "      <td>konstruktion dreiecken</td>\n",
       "      <td>79128</td>\n",
       "      <td>Mathe</td>\n",
       "      <td>de</td>\n",
       "      <td>schule</td>\n",
       "    </tr>\n",
       "    <tr>\n",
       "      <th>6468</th>\n",
       "      <td>Boden untersuchen</td>\n",
       "      <td>boden untersuchen</td>\n",
       "      <td>79849</td>\n",
       "      <td>Nachhaltigkeit</td>\n",
       "      <td>de</td>\n",
       "      <td>schule</td>\n",
       "    </tr>\n",
       "    <tr>\n",
       "      <th>6470</th>\n",
       "      <td>Quadratwurzeln</td>\n",
       "      <td>quadratwurzeln</td>\n",
       "      <td>83733</td>\n",
       "      <td>Mathe</td>\n",
       "      <td>de</td>\n",
       "      <td>schule</td>\n",
       "    </tr>\n",
       "    <tr>\n",
       "      <th>6472</th>\n",
       "      <td>Berechnungen von Wurzeln</td>\n",
       "      <td>berechnungen wurzeln</td>\n",
       "      <td>84096</td>\n",
       "      <td>Mathe</td>\n",
       "      <td>de</td>\n",
       "      <td>schule</td>\n",
       "    </tr>\n",
       "    <tr>\n",
       "      <th>6480</th>\n",
       "      <td>Nullstellenberechnung</td>\n",
       "      <td>nullstellenberechnung</td>\n",
       "      <td>86799</td>\n",
       "      <td>Mathe</td>\n",
       "      <td>de</td>\n",
       "      <td>schule</td>\n",
       "    </tr>\n",
       "    <tr>\n",
       "      <th>6481</th>\n",
       "      <td>Einführungskurs zur Ableitung</td>\n",
       "      <td>einführungskurs ableitung</td>\n",
       "      <td>90902</td>\n",
       "      <td>Mathe</td>\n",
       "      <td>de</td>\n",
       "      <td>schule</td>\n",
       "    </tr>\n",
       "    <tr>\n",
       "      <th>6484</th>\n",
       "      <td>Wintervorbereitung</td>\n",
       "      <td>wintervorbereitung</td>\n",
       "      <td>91091</td>\n",
       "      <td>Nachhaltigkeit</td>\n",
       "      <td>de</td>\n",
       "      <td>schule</td>\n",
       "    </tr>\n",
       "    <tr>\n",
       "      <th>6485</th>\n",
       "      <td>Das Ziegenproblem</td>\n",
       "      <td>ziegenproblem</td>\n",
       "      <td>91405</td>\n",
       "      <td>Mathe</td>\n",
       "      <td>de</td>\n",
       "      <td>schule</td>\n",
       "    </tr>\n",
       "    <tr>\n",
       "      <th>6486</th>\n",
       "      <td>Richtig Lagern</td>\n",
       "      <td>richtig lagern</td>\n",
       "      <td>91964</td>\n",
       "      <td>Nachhaltigkeit</td>\n",
       "      <td>de</td>\n",
       "      <td>schule</td>\n",
       "    </tr>\n",
       "    <tr>\n",
       "      <th>6488</th>\n",
       "      <td>Keimprobe machen</td>\n",
       "      <td>keimprobe machen</td>\n",
       "      <td>92163</td>\n",
       "      <td>Nachhaltigkeit</td>\n",
       "      <td>de</td>\n",
       "      <td>schule</td>\n",
       "    </tr>\n",
       "    <tr>\n",
       "      <th>6490</th>\n",
       "      <td>Bau und Installation einer Tröpfchenbewässerung</td>\n",
       "      <td>installation tröpfchenbewässerung</td>\n",
       "      <td>93814</td>\n",
       "      <td>Nachhaltigkeit</td>\n",
       "      <td>de</td>\n",
       "      <td>schule</td>\n",
       "    </tr>\n",
       "    <tr>\n",
       "      <th>6495</th>\n",
       "      <td>Einführung zu Bruchgleichungen</td>\n",
       "      <td>einführung bruchgleichungen</td>\n",
       "      <td>99489</td>\n",
       "      <td>Mathe</td>\n",
       "      <td>de</td>\n",
       "      <td>schule</td>\n",
       "    </tr>\n",
       "    <tr>\n",
       "      <th>6500</th>\n",
       "      <td>Normalizer’s test</td>\n",
       "      <td>normalizer</td>\n",
       "      <td>104840</td>\n",
       "      <td>Mathe</td>\n",
       "      <td>de</td>\n",
       "      <td>schule</td>\n",
       "    </tr>\n",
       "    <tr>\n",
       "      <th>6518</th>\n",
       "      <td>Upcycling von Kleidung</td>\n",
       "      <td>upcycling kleidung</td>\n",
       "      <td>108472</td>\n",
       "      <td>Nachhaltigkeit</td>\n",
       "      <td>de</td>\n",
       "      <td>schule</td>\n",
       "    </tr>\n",
       "    <tr>\n",
       "      <th>6519</th>\n",
       "      <td>PET-Flasche als Anzuchttopf</td>\n",
       "      <td>flasche anzuchttopf</td>\n",
       "      <td>108699</td>\n",
       "      <td>Nachhaltigkeit</td>\n",
       "      <td>de</td>\n",
       "      <td>schule</td>\n",
       "    </tr>\n",
       "    <tr>\n",
       "      <th>6520</th>\n",
       "      <td>Einführungskurs Schaltnetze</td>\n",
       "      <td>einführungskurs schaltnetze</td>\n",
       "      <td>109267</td>\n",
       "      <td>Informatik</td>\n",
       "      <td>de</td>\n",
       "      <td>schule</td>\n",
       "    </tr>\n",
       "    <tr>\n",
       "      <th>6522</th>\n",
       "      <td>Ableitung/Integral Kurs</td>\n",
       "      <td>ableitung integral</td>\n",
       "      <td>113124</td>\n",
       "      <td>Mathe</td>\n",
       "      <td>de</td>\n",
       "      <td>schule</td>\n",
       "    </tr>\n",
       "    <tr>\n",
       "      <th>6524</th>\n",
       "      <td>Funktionen</td>\n",
       "      <td>funktionen</td>\n",
       "      <td>113266</td>\n",
       "      <td>Informatik</td>\n",
       "      <td>de</td>\n",
       "      <td>schule</td>\n",
       "    </tr>\n",
       "    <tr>\n",
       "      <th>6525</th>\n",
       "      <td>Aufbau eines Tabellenkalkulationsprogramms</td>\n",
       "      <td>aufbau tabellenkalkulationsprogramms</td>\n",
       "      <td>113543</td>\n",
       "      <td>Informatik</td>\n",
       "      <td>de</td>\n",
       "      <td>schule</td>\n",
       "    </tr>\n",
       "    <tr>\n",
       "      <th>6532</th>\n",
       "      <td>Einführung in die Geschwindigkeit</td>\n",
       "      <td>einführung geschwindigkeit</td>\n",
       "      <td>117482</td>\n",
       "      <td>Physik</td>\n",
       "      <td>de</td>\n",
       "      <td>schule</td>\n",
       "    </tr>\n",
       "    <tr>\n",
       "      <th>6544</th>\n",
       "      <td>Vertiefungskurs - RedOx</td>\n",
       "      <td>vertiefungskurs redox</td>\n",
       "      <td>127658</td>\n",
       "      <td>Chemie</td>\n",
       "      <td>de</td>\n",
       "      <td>schule</td>\n",
       "    </tr>\n",
       "    <tr>\n",
       "      <th>6545</th>\n",
       "      <td>Metalle</td>\n",
       "      <td>metalle</td>\n",
       "      <td>127687</td>\n",
       "      <td>Chemie</td>\n",
       "      <td>de</td>\n",
       "      <td>schule</td>\n",
       "    </tr>\n",
       "    <tr>\n",
       "      <th>6547</th>\n",
       "      <td>Vorwort</td>\n",
       "      <td>vorwort</td>\n",
       "      <td>129861</td>\n",
       "      <td>Informatik</td>\n",
       "      <td>de</td>\n",
       "      <td>schule</td>\n",
       "    </tr>\n",
       "    <tr>\n",
       "      <th>6548</th>\n",
       "      <td>Vorbereitung (Installation)</td>\n",
       "      <td>vorbereitung installation</td>\n",
       "      <td>129900</td>\n",
       "      <td>Informatik</td>\n",
       "      <td>de</td>\n",
       "      <td>schule</td>\n",
       "    </tr>\n",
       "    <tr>\n",
       "      <th>6549</th>\n",
       "      <td>Grundlagen 2</td>\n",
       "      <td>grundlagen</td>\n",
       "      <td>129917</td>\n",
       "      <td>Informatik</td>\n",
       "      <td>de</td>\n",
       "      <td>schule</td>\n",
       "    </tr>\n",
       "    <tr>\n",
       "      <th>6561</th>\n",
       "      <td>Ordnen von Brüchen</td>\n",
       "      <td>ordnen brüchen</td>\n",
       "      <td>132762</td>\n",
       "      <td>Mathe</td>\n",
       "      <td>de</td>\n",
       "      <td>schule</td>\n",
       "    </tr>\n",
       "    <tr>\n",
       "      <th>6570</th>\n",
       "      <td>Grundbaustoffe von Zellen</td>\n",
       "      <td>grundbaustoffe zellen</td>\n",
       "      <td>137226</td>\n",
       "      <td>Biologie</td>\n",
       "      <td>de</td>\n",
       "      <td>schule</td>\n",
       "    </tr>\n",
       "    <tr>\n",
       "      <th>6575</th>\n",
       "      <td>Erweiterungskurs Internet</td>\n",
       "      <td>erweiterungskurs internet</td>\n",
       "      <td>138936</td>\n",
       "      <td>Informatik</td>\n",
       "      <td>de</td>\n",
       "      <td>schule</td>\n",
       "    </tr>\n",
       "    <tr>\n",
       "      <th>6578</th>\n",
       "      <td>Einführung in die Integralfunktion</td>\n",
       "      <td>einführung integralfunktion</td>\n",
       "      <td>139222</td>\n",
       "      <td>Mathe</td>\n",
       "      <td>de</td>\n",
       "      <td>schule</td>\n",
       "    </tr>\n",
       "    <tr>\n",
       "      <th>6579</th>\n",
       "      <td>Plastikfrei im Alltag</td>\n",
       "      <td>plastikfrei alltag</td>\n",
       "      <td>140256</td>\n",
       "      <td>Nachhaltigkeit</td>\n",
       "      <td>de</td>\n",
       "      <td>schule</td>\n",
       "    </tr>\n",
       "    <tr>\n",
       "      <th>6583</th>\n",
       "      <td>Bewerbungsschreiben</td>\n",
       "      <td>bewerbungsschreiben</td>\n",
       "      <td>143447</td>\n",
       "      <td>Wirtschaft</td>\n",
       "      <td>de</td>\n",
       "      <td>schule</td>\n",
       "    </tr>\n",
       "    <tr>\n",
       "      <th>6585</th>\n",
       "      <td>Bewerbungsgespräch</td>\n",
       "      <td>bewerbungsgespräch</td>\n",
       "      <td>143460</td>\n",
       "      <td>Wirtschaft</td>\n",
       "      <td>de</td>\n",
       "      <td>schule</td>\n",
       "    </tr>\n",
       "    <tr>\n",
       "      <th>6587</th>\n",
       "      <td>Einheiten</td>\n",
       "      <td>einheiten</td>\n",
       "      <td>145421</td>\n",
       "      <td>Mathe</td>\n",
       "      <td>de</td>\n",
       "      <td>schule</td>\n",
       "    </tr>\n",
       "    <tr>\n",
       "      <th>6590</th>\n",
       "      <td>Experimentieren in der Chemie (x)</td>\n",
       "      <td>experimentieren chemie</td>\n",
       "      <td>155715</td>\n",
       "      <td>Chemie</td>\n",
       "      <td>de</td>\n",
       "      <td>schule</td>\n",
       "    </tr>\n",
       "    <tr>\n",
       "      <th>6597</th>\n",
       "      <td>Rechnen mit Bruchtermen</td>\n",
       "      <td>rechnen bruchtermen</td>\n",
       "      <td>156343</td>\n",
       "      <td>Mathe</td>\n",
       "      <td>de</td>\n",
       "      <td>schule</td>\n",
       "    </tr>\n",
       "    <tr>\n",
       "      <th>6601</th>\n",
       "      <td>Einführung in Abfragen mit SQL</td>\n",
       "      <td>einführung abfragen</td>\n",
       "      <td>161018</td>\n",
       "      <td>Informatik</td>\n",
       "      <td>de</td>\n",
       "      <td>schule</td>\n",
       "    </tr>\n",
       "    <tr>\n",
       "      <th>6603</th>\n",
       "      <td>Beziehungen in Datenbanken</td>\n",
       "      <td>beziehungen datenbanken</td>\n",
       "      <td>161276</td>\n",
       "      <td>Informatik</td>\n",
       "      <td>de</td>\n",
       "      <td>schule</td>\n",
       "    </tr>\n",
       "    <tr>\n",
       "      <th>6605</th>\n",
       "      <td>Anomalien in Datenbanken</td>\n",
       "      <td>anomalien datenbanken</td>\n",
       "      <td>161470</td>\n",
       "      <td>Informatik</td>\n",
       "      <td>de</td>\n",
       "      <td>schule</td>\n",
       "    </tr>\n",
       "    <tr>\n",
       "      <th>6607</th>\n",
       "      <td>Negative Exponenten</td>\n",
       "      <td>negative exponenten</td>\n",
       "      <td>162011</td>\n",
       "      <td>Mathe</td>\n",
       "      <td>de</td>\n",
       "      <td>schule</td>\n",
       "    </tr>\n",
       "    <tr>\n",
       "      <th>6613</th>\n",
       "      <td>Linsengleichung</td>\n",
       "      <td>linsengleichung</td>\n",
       "      <td>167868</td>\n",
       "      <td>Physik</td>\n",
       "      <td>de</td>\n",
       "      <td>schule</td>\n",
       "    </tr>\n",
       "    <tr>\n",
       "      <th>6618</th>\n",
       "      <td>Einführung in Java</td>\n",
       "      <td>einführung java</td>\n",
       "      <td>174673</td>\n",
       "      <td>Informatik</td>\n",
       "      <td>de</td>\n",
       "      <td>schule</td>\n",
       "    </tr>\n",
       "    <tr>\n",
       "      <th>6623</th>\n",
       "      <td>Terme vereinfachen</td>\n",
       "      <td>terme vereinfachen</td>\n",
       "      <td>177820</td>\n",
       "      <td>Mathe</td>\n",
       "      <td>de</td>\n",
       "      <td>schule</td>\n",
       "    </tr>\n",
       "    <tr>\n",
       "      <th>6626</th>\n",
       "      <td>Rechnen mit Variablen</td>\n",
       "      <td>rechnen variablen</td>\n",
       "      <td>177829</td>\n",
       "      <td>Mathe</td>\n",
       "      <td>de</td>\n",
       "      <td>schule</td>\n",
       "    </tr>\n",
       "    <tr>\n",
       "      <th>6636</th>\n",
       "      <td>Ein Balkon für Insekten</td>\n",
       "      <td>balkon insekten</td>\n",
       "      <td>186265</td>\n",
       "      <td>Nachhaltigkeit</td>\n",
       "      <td>de</td>\n",
       "      <td>schule</td>\n",
       "    </tr>\n",
       "    <tr>\n",
       "      <th>6644</th>\n",
       "      <td>Datenstrukturen und Algorithmen</td>\n",
       "      <td>datenstrukturen algorithmen</td>\n",
       "      <td>194044</td>\n",
       "      <td>Informatik</td>\n",
       "      <td>de</td>\n",
       "      <td>schule</td>\n",
       "    </tr>\n",
       "  </tbody>\n",
       "</table>\n",
       "</div>"
      ],
      "text/plain": [
       "                                                  title  \\\n",
       "0                                              Addition   \n",
       "17                                   Binomische Formeln   \n",
       "29                                        Ergebnismenge   \n",
       "45                                  Relative Häufigkeit   \n",
       "63                                             Ereignis   \n",
       "75                                          Subtraktion   \n",
       "95                                               Wurzel   \n",
       "113                                       Diskriminante   \n",
       "123                                 Satz des Pythagoras   \n",
       "137                                           Geometrie   \n",
       "138                                          Stochastik   \n",
       "140                                           Polstelle   \n",
       "150                          Klammern ausmultiplizieren   \n",
       "166                               Brüche multiplizieren   \n",
       "174                            Hebbare Definitionslücke   \n",
       "182                               Nullstellen berechnen   \n",
       "196                                     Polynomdivision   \n",
       "206                        Steigung und Steigungswinkel   \n",
       "218                                   Koordinatensystem   \n",
       "228                                   Winkelhalbierende   \n",
       "238                                          Hypotenuse   \n",
       "264                                             Kathete   \n",
       "277                                  Brüche potenzieren   \n",
       "287                                           Quersumme   \n",
       "297                                  Mitternachtsformel   \n",
       "305                             Rechnen mit Logarithmus   \n",
       "319                               Berechnungen am Kreis   \n",
       "333                                            Zylinder   \n",
       "351                                              Radius   \n",
       "365                                         Mantellinie   \n",
       "371                                               Kegel   \n",
       "383                                               Kugel   \n",
       "423                                Stammfunktion finden   \n",
       "427                                              Vektor   \n",
       "441                   Definitionsbereich einer Funktion   \n",
       "459                                    Kurvendiskussion   \n",
       "469                                            Extremum   \n",
       "481                                       Gaußverfahren   \n",
       "491                              Was ist eine Funktion?   \n",
       "527                                  Binomialverteilung   \n",
       "533                                         Mächtigkeit   \n",
       "547                                      Erwartungswert   \n",
       "553                                             Varianz   \n",
       "559                                            Integral   \n",
       "565                                          Stetigkeit   \n",
       "573                                Grenzwertbetrachtung   \n",
       "589                             Umrechnen von Einheiten   \n",
       "594   Die wichtigsten Umrechnungswerte - Lernen mit ...   \n",
       "599                                       Faktorisieren   \n",
       "604                                      Satz von Vieta   \n",
       "612                                        Schnittmenge   \n",
       "618                           Parameter und Koeffizient   \n",
       "620                                     Funktionenschar   \n",
       "646                               Quadratische Funktion   \n",
       "660                                             Polynom   \n",
       "664                                            Polynome   \n",
       "668                                              Prisma   \n",
       "688                                             Prozent   \n",
       "698                                            Pyramide   \n",
       "710                              Quadratische Ergänzung   \n",
       "724                                            Division   \n",
       "736                                  Standardabweichung   \n",
       "739                                             Sekante   \n",
       "740                                      Multiplikation   \n",
       "752                                            Analysis   \n",
       "753                                              Betrag   \n",
       "755                                           Symmetrie   \n",
       "763                                   Tangente an Kreis   \n",
       "764           Krümmungsverhalten eines Funktionsgraphen   \n",
       "770                                 Differenzierbarkeit   \n",
       "780                       Wendepunkt und Terrassenpunkt   \n",
       "786                                          Wertemenge   \n",
       "802                                              Brüche   \n",
       "820                                  Additionsverfahren   \n",
       "836                                            Potenzen   \n",
       "852                            Lineare (Un)abhängigkeit   \n",
       "858                                 Absolute Häufigkeit   \n",
       "878                                 Differenzenquotient   \n",
       "890                                    Assoziativgesetz   \n",
       "898                                    Flächeneinheiten   \n",
       "904                                       Geldeinheiten   \n",
       "912                                   Distributivgesetz   \n",
       "922                                    Kommutativgesetz   \n",
       "930                                     Längeneinheiten   \n",
       "935                       Umrechnen von Längeneinheiten   \n",
       "940                                   Gewichtseinheiten   \n",
       "948                                    Volumeneinheiten   \n",
       "956                                      Potenzfunktion   \n",
       "964                                Regel von L'Hospital   \n",
       "966                                       Gegenereignis   \n",
       "978                               Wichtige Zahlenmengen   \n",
       "986                    Zahlenmengen - Lernen mit Serlo!   \n",
       "1002                                           Rechteck   \n",
       "1024                                             Quader   \n",
       "1040                       Monotonieverhalten berechnen   \n",
       "1052                              Griechisches Alphabet   \n",
       "1054                                        Das Viereck   \n",
       "1074                                             Winkel   \n",
       "1090                                             Trapez   \n",
       "1102                             Konstante und Variable   \n",
       "1103                              Infinitesimalrechnung   \n",
       "1104                                      Skalarprodukt   \n",
       "1110                                          Gleichung   \n",
       "1144                        Baumdiagramm und Pfadregeln   \n",
       "1174                                Pascalsches Dreieck   \n",
       "1176                                          h-Methode   \n",
       "1180                                     Parallelogramm   \n",
       "1194                                       Sprungstelle   \n",
       "1198                                              Raute   \n",
       "1208                                     Drachenviereck   \n",
       "1220                               Einsetzungsverfahren   \n",
       "1236                            Gleichsetzungsverfahren   \n",
       "1252                                   Gemischter Bruch   \n",
       "1272                                    Satz des Thales   \n",
       "1276                              Symmetrie von Graphen   \n",
       "1288                                   Geradengleichung   \n",
       "1304                          Lineares Gleichungssystem   \n",
       "1316                                       Kombinatorik   \n",
       "1328                                 Wahrscheinlichkeit   \n",
       "1346                                 Laplace-Experiment   \n",
       "1366                                     Wurzelfunktion   \n",
       "1386                          Vektor- oder Kreuzprodukt   \n",
       "1392                                       Große Zahlen   \n",
       "1398                                           Fakultät   \n",
       "1402                                         Primzahlen   \n",
       "1404                                           Dreisatz   \n",
       "1414                           Direkte Proportionalität   \n",
       "1434                                 Hauptnenner bilden   \n",
       "1454                                Länge eines Vektors   \n",
       "1466                                Primfaktorzerlegung   \n",
       "1468                        Scheitelpunkt einer Parabel   \n",
       "1484                                    Geradensteigung   \n",
       "1500                                Temperatureinheiten   \n",
       "1502                                            Normale   \n",
       "1503                                     Orthogonalität   \n",
       "1506                                              Ebene   \n",
       "1512                                          Ableitung   \n",
       "1524                                        Kettenregel   \n",
       "1536                                        Summenregel   \n",
       "1539                                    Quotientenregel   \n",
       "1549                                       Produktregel   \n",
       "1559                       Ableitung der Umkehrfunktion   \n",
       "1570                          Zählergrad und Nennergrad   \n",
       "1580                                     Umkehrfunktion   \n",
       "1584                                  Extremwertaufgabe   \n",
       "1596                                        Teilerfremd   \n",
       "1600                             Quadratische Gleichung   \n",
       "1610                                               Term   \n",
       "1626                              Partielle Integration   \n",
       "1630                   Flächenberechnung mit Integralen   \n",
       "1642                              Partialbruchzerlegung   \n",
       "1643                                          Asymptote   \n",
       "1655                                         Nullstelle   \n",
       "1665                                        Nullstellen   \n",
       "1675                     Rechnen mit Proportionalitäten   \n",
       "1689                       Definitionsbereich bestimmen   \n",
       "1699                        Termumformung mit Variablen   \n",
       "1708                               Graph einer Funktion   \n",
       "1728                                  Extrema berechnen   \n",
       "1734                              Äquivalenzumformungen   \n",
       "1752                                       Zinsrechnung   \n",
       "1758                             Bruchgleichungen lösen   \n",
       "1770                                Grenzwert bestimmen   \n",
       "1780                                            Parabel   \n",
       "1792                                       Substitution   \n",
       "1808                       Funktionsgraphen verschieben   \n",
       "1812                                            Quadrat   \n",
       "1822                         Eigenschaften des Quadrats   \n",
       "1838   Schnittpunkte von Funktionen - Lernen mit Serlo!   \n",
       "1844                                      Potenzgesetze   \n",
       "1852                  Trigonometrische Umkehrfunktionen   \n",
       "1860                                   Grundrechenarten   \n",
       "1876                             Winkelsumme im Dreieck   \n",
       "1883                                    Vierfeldertafel   \n",
       "1889                                      Test Sammlung   \n",
       "1891                                   Mittelsenkrechte   \n",
       "1913                             Durchschnitt berechnen   \n",
       "1919                              Stetigkeit nachweisen   \n",
       "1966                  Sinusfunktion und Kosinusfunktion   \n",
       "1971                                  Sinus und Kosinus   \n",
       "1976                                          Monotonie   \n",
       "1990                                  Seitenhalbierende   \n",
       "1994                                        Schwerpunkt   \n",
       "2002                             Umkreis eines Dreiecks   \n",
       "2006                             Inkreis eines Dreiecks   \n",
       "2010                                Höhe eines Dreiecks   \n",
       "2022                                   Geltende Ziffern   \n",
       "2023                                          Kongruenz   \n",
       "2029                                    Komplexe Zahlen   \n",
       "2031                                        Ähnlichkeit   \n",
       "2051                                      Höhere Wurzel   \n",
       "2054                                  allgemeine Wurzel   \n",
       "2057                                         Bruchterme   \n",
       "2080                                Winkel konstruieren   \n",
       "2086                                         Intervalle   \n",
       "2092                                            Dreieck   \n",
       "2112                                         Halbgerade   \n",
       "2118                                            Strecke   \n",
       "2126                               Geometrisches Mittel   \n",
       "2128                              Dreiecke konstruieren   \n",
       "2136                                          Statistik   \n",
       "2137                     Trigonometrie am Einheitskreis   \n",
       "2147                                           Bogenmaß   \n",
       "2161                                     Hypothesentest   \n",
       "2165                         Indirekte Proportionalität   \n",
       "2177                                           Kehrwert   \n",
       "2183                    Strahlensatz (Vierstreckensatz)   \n",
       "2189                        Bedingte Wahrscheinlichkeit   \n",
       "2195                           Tafelwerk der Stochastik   \n",
       "2201                     Unabhängigkeit von Ereignissen   \n",
       "2215                                              Menge   \n",
       "2221                                  Erzeugendensystem   \n",
       "2225                            Basis eines Vektorraums   \n",
       "2231                                  Linearkombination   \n",
       "2237                     Newtonsches Näherungsverfahren   \n",
       "2240                                   Newton-Verfahren   \n",
       "2243                                  Vereinigungsmenge   \n",
       "2249                                        Ungleichung   \n",
       "2258                 Ungleichungen - Lernen mit Serlo!    \n",
       "2267                                Ungleichungen lösen   \n",
       "2279                                        Urnenmodell   \n",
       "2289                              Schrägbilder zeichnen   \n",
       "2295                   Nullhypothese und Gegenhypothese   \n",
       "2299                              Exponentialgleichung    \n",
       "2302                                   Lineare Funktion   \n",
       "2322                               Hypothesentest-Arten   \n",
       "2326                                           Matrizen   \n",
       "2330                   Stichprobe eines Hypothesentests   \n",
       "2334                               Bernoulli-Experiment   \n",
       "2340                                    Bernoulli-Kette   \n",
       "2346                                       Determinante   \n",
       "2347                            Determinanten berechnen   \n",
       "2357                                   Cramersche Regel   \n",
       "2367           Entscheidungsregel eines Hypothesentests   \n",
       "2375                                        Winkelsumme   \n",
       "2377                                          Diagonale   \n",
       "2398                            Exponentielles Wachstum   \n",
       "2412                                  Lineares Wachstum   \n",
       "2422                   Zeichnen im 3D-Koordinatensystem   \n",
       "2430                                  Integralfunktion    \n",
       "2438                                Verteilungsfunktion   \n",
       "2448                        Gerade im Koordinatensystem   \n",
       "2464                                             Gerade   \n",
       "2476                                       Zufallsgröße   \n",
       "2488                               Ober- und Untersumme   \n",
       "2492                            Uneigentliches Integral   \n",
       "2498                            Höhen- und Kathetensatz   \n",
       "2510                           Euklidischer Algorithmus   \n",
       "2511                                       Zahlengerade   \n",
       "2529                                   Parabel zeichnen   \n",
       "2559                                      Venn-Diagramm   \n",
       "2565                                    Römische Zahlen   \n",
       "2573                                         Relationen   \n",
       "2579                                            Quantor   \n",
       "2580                                 Logikverknüpfungen   \n",
       "2581                           Verknüpfungen von Mengen   \n",
       "2583                              Teilmenge einer Menge   \n",
       "2585                              Partition einer Menge   \n",
       "2586                                      Zahlensysteme   \n",
       "2588                         Komposition von Funktionen   \n",
       "2596                                     Fasskreisbogen   \n",
       "2612                                  Reguläre Vielecke   \n",
       "2622                                             Median   \n",
       "2626                                       Kreiszahl Pi   \n",
       "2640                                 Termbeschreibungen   \n",
       "2648                           Periode (einer Funktion)   \n",
       "2653                             Periode (eines Bruchs)   \n",
       "2659                               Kartesisches Produkt   \n",
       "2668                                   Goldener Schnitt   \n",
       "2674                                   Zwischenwertsatz   \n",
       "2678                                        Testartikel   \n",
       "2680                                   Normalverteilung   \n",
       "2684                                       Parallelotop   \n",
       "2690                                  Abstand berechnen   \n",
       "2696                                Exponentialfunktion   \n",
       "2721                              Schriftliche Addition   \n",
       "2737                                  Steckbriefaufgabe   \n",
       "2748                                  Lineare Gleichung   \n",
       "2774                       Ausbildung Metallbearbeitung   \n",
       "2776                                    Rotationskörper   \n",
       "2780                  Linearfaktorzerlegung durchführen   \n",
       "2805    Prozentrechnung mit Formeln - Lernen mit Serlo!   \n",
       "2812            Schnittpunkte mit den Koordinatenachsen   \n",
       "2853                                Ortskurve bestimmen   \n",
       "2854                     Kurvendiskussion mit Parameter   \n",
       "2855                          Funktionsgraphen spiegeln   \n",
       "2861                                  Tangente an Graph   \n",
       "2869                                Ableitung berechnen   \n",
       "2872                               Differentialquotient   \n",
       "2882                                     Was ist Humus?   \n",
       "2884                                       Rauschmittel   \n",
       "2896                             Sucht und Abhängigkeit   \n",
       "2902                            Stoffliche Abhängigkeit   \n",
       "2914                       Nichtstoffliche Abhängigkeit   \n",
       "2920                          Therapie von Abhängigkeit   \n",
       "2926                                       Essstörungen   \n",
       "2938                               Internetabhängigkeit   \n",
       "2944                            Sucht und Computerspiel   \n",
       "2950                             Allgemeines zur Chemie   \n",
       "2952                    Geschichtlicher Hintergrund (x)   \n",
       "2956                                 Optische Aktivität   \n",
       "2958                                           Isomerie   \n",
       "2960                                    Aggregatzustand   \n",
       "2963                                       Brennbarkeit   \n",
       "2964                                        Indikatoren   \n",
       "2965                                        Löslichkeit   \n",
       "2967                                      Leitfähigkeit   \n",
       "2968                           Siede- und Schmelzpunkte   \n",
       "2969                               Was ist Permakultur?   \n",
       "2971                            Arten der Konservierung   \n",
       "2973                                        Naturfarben   \n",
       "2974                        Herstellung von Naturfasern   \n",
       "2976                                             Kerzen   \n",
       "2980                               Chemische Verbindung   \n",
       "2981                                           Elemente   \n",
       "2982                                Heterogene Gemische   \n",
       "2983                                  Homogene Gemische   \n",
       "2984                       Trennverfahren von Gemischen   \n",
       "2985                            Aktivierungsenergie (x)   \n",
       "2987                                  Energieprofil (x)   \n",
       "2989                                Massenerhaltung (x)   \n",
       "2991                          Substitutionsreaktion (x)   \n",
       "2993                              Additionsreaktion (X)   \n",
       "2995                                        Analyse (x)   \n",
       "2997                                       Synthese (x)   \n",
       "2999                 Bodenlebewesen und Mikroorganismen   \n",
       "3000                                      Kompostierung   \n",
       "3004                        Kunststoffe in der Kleidung   \n",
       "3006                                            Elastan   \n",
       "3007                                       Polyacrylate   \n",
       "3008                                           Polyamid   \n",
       "3009                                          Polyester   \n",
       "3010                                     Polymerisation   \n",
       "3011                        Radikalische Polymerisation   \n",
       "3012                        Ionische Polymerisation (x)   \n",
       "3016                    Ringsöffnungspolymerisation (x)   \n",
       "3018                                 Kettenreaktion (x)   \n",
       "3020                               PVC (Polychlorethen)   \n",
       "3021                       Teflon (Polytetrafluorethen)   \n",
       "3022                              Styropor (Polystyrol)   \n",
       "3023                   Plexiglas (Polymethylacrylsäure)   \n",
       "3024                                     Polyethen (PE)   \n",
       "3025                                   Polykondensation   \n",
       "3036                                     Stufenreaktion   \n",
       "3051                                        Veresterung   \n",
       "3055                                        Gründüngung   \n",
       "3064                     Wie erstellt man ein Diagramm?   \n",
       "3065                     Wie erstellt man ein Diagramm?   \n",
       "3068                  Wie recherchiert man im Internet?   \n",
       "3069                     Wie funktionieren Experimente?   \n",
       "3073                   Wie wertet man ein Diagramm aus?   \n",
       "3076                   Wie wertet man ein Diagramm aus?   \n",
       "3079      Auswerten eines Diagramms - Lernen mit Serlo!   \n",
       "3082      Auswerten eines Diagramms - Lernen mit Serlo!   \n",
       "3085                             Was Amphibien ausmacht   \n",
       "3089                                 Frösche und Kröten   \n",
       "3093                      Wie geht man mit Modellen um?   \n",
       "3095                              Molche und Salamander   \n",
       "3099                             Was Reptilien ausmacht   \n",
       "3103                                 Was Vögel ausmacht   \n",
       "3109                            Von Nattern und Vipern    \n",
       "3138                                   Parallele Ebenen   \n",
       "3159                  Multiplikation von Dezimalbrüchen   \n",
       "3167                             Einbinden von Aufgaben   \n",
       "3168                                       Dezimalbruch   \n",
       "3176                        Vergleich von Dezimalzahlen   \n",
       "3186                        Division von Dezimalbrüchen   \n",
       "3210                            Was Säugetiere ausmacht   \n",
       "3222                                Binomialkoeffizient   \n",
       "3224                                 Stellenwertsysteme   \n",
       "3230                                      Dezimalsystem   \n",
       "3231                   Unabhängigkeit von Zufallsgrößen   \n",
       "3232                      Abzählen mit dem Baumdiagramm   \n",
       "3258                                        Zählprinzip   \n",
       "3278                           Stoffe und Eigenschaften   \n",
       "3285                       Liste von Stoffeigenschaften   \n",
       "3293                                              Ionen   \n",
       "3295                                      Thermoplasten   \n",
       "3297                                         Duroplaste   \n",
       "3299                     Eigenschaften von Kunststoffen   \n",
       "3301                                Was Fische ausmacht   \n",
       "3305                                    Polypropen (PP)   \n",
       "3306                                         Polystyrol   \n",
       "3313                             Dissoziationsgleichung   \n",
       "3315                           Chemische Zeichensprache   \n",
       "3317                          Was Spinnentiere ausmacht   \n",
       "3321                              Was Insekten ausmacht   \n",
       "3334                               Aufbau eines Neurons   \n",
       "3346                                  Das Ruhepotential   \n",
       "3352                               Das Aktionspotential   \n",
       "3377                           Erregungsleitung im Axon   \n",
       "3383                                            Artikel   \n",
       "3385                                  Schlüssellochbeet   \n",
       "3386                                           Hochbeet   \n",
       "3388                                   Vertikale Gärten   \n",
       "3390                                     Kräuterspirale   \n",
       "3452                          Die Ethik der Permakultur   \n",
       "3455                                     Nachhaltigkeit   \n",
       "3472                                      Gewächshäuser   \n",
       "3474                                    Achsensymmetrie   \n",
       "3482                                       Körpernetze    \n",
       "3500                                 Besondere Dreiecke   \n",
       "3506                                     Punktsymmetrie   \n",
       "3516                          Gleichschenkliges Dreieck   \n",
       "3530                             Gleichseitiges Dreieck   \n",
       "3538                                      Terrassierung   \n",
       "3540                             Rechtwinkliges Dreieck   \n",
       "3546                                           Erdmiete   \n",
       "3550                                     Würfel (Kubus)   \n",
       "3562                                              Kreis   \n",
       "3578                                          Tetraeder   \n",
       "3580                                        Kreissektor   \n",
       "3585                                            Maßstab   \n",
       "3595                                Umrechnungsfaktoren   \n",
       "3603                          Prozent und Prozentpunkte   \n",
       "3609                                          Zonierung   \n",
       "3619                                           Wurmfarm   \n",
       "3621                                    Komposttoilette   \n",
       "3623                        Neurologische Messtechniken   \n",
       "3629                Nervengifte - wo und wie sie wirken   \n",
       "3632                    Nervengifte - Lernen mit Serlo!   \n",
       "3641                                            Reflexe   \n",
       "3647                                              Wiris   \n",
       "3649                     Wie mikroskopiere ich richtig?   \n",
       "3657                                           Eckpunkt   \n",
       "3667                                              Kante   \n",
       "3673                                  Was sind Hormone?   \n",
       "3683                           Die prokaryotische Zelle   \n",
       "3691                            Elektrischer Stromkreis   \n",
       "3697                      Dezimalzahl bzw. Dezimalbruch   \n",
       "3699                                             Runden   \n",
       "3701                           Runden einer Dezimalzahl   \n",
       "3703                                 Elektrische Ladung   \n",
       "3715                                  Elektrisches Feld   \n",
       "3717                               Elektrische Spannung   \n",
       "3721                        Längen im Koordinatensystem   \n",
       "3723                                         Spiegelung   \n",
       "3728                                       Wertetabelle   \n",
       "3752                             Spiegeln im Gitternetz   \n",
       "3761                           1. Potenzen und Polynome   \n",
       "3764                           Abbildungen in der Ebene   \n",
       "3772                                   3. Aussagenlogik   \n",
       "3774                                          5. Mengen   \n",
       "3776                              7. Ordnungsrelationen   \n",
       "3780                                          9. Folgen   \n",
       "3783                                         4. Beweise   \n",
       "3785                                     2. Logarithmen   \n",
       "3787                                     0. Einstimmung   \n",
       "3790                                     8. Abbildungen   \n",
       "3793                      12. Lineare Gleichungssysteme   \n",
       "3795                               Parallelverschiebung   \n",
       "3799                              Orthogonale Affinität   \n",
       "3807               Spiegelung an einer Ursprungsgeraden   \n",
       "3811                              Abszisse und Ordinate   \n",
       "3813                        Verknüpfung von Abbildungen   \n",
       "3817                           Fixpunkte und Fixgeraden   \n",
       "3819                                   Polarkoordinaten   \n",
       "3822                                      Summenzeichen   \n",
       "3834                               Kirchhoffsche Regeln   \n",
       "3864                        Unterteilung der Stoffe (x)   \n",
       "3876                                     Bruchgleichung   \n",
       "3881                                   Bruchgleichungen   \n",
       "3889                             Caesar-Verschlüsselung   \n",
       "3891                           Photoelektrischer Effekt   \n",
       "3895                           Vigenère-Verschlüsselung   \n",
       "3897                            Das menschliche Skelett   \n",
       "3899                        Die menschliche Wirbelsäule   \n",
       "3901                            Der menschliche Schädel   \n",
       "3905                               Funktion von Muskeln   \n",
       "3909                          So sind Knochen aufgebaut   \n",
       "3911                                Wie entsteht Humus?   \n",
       "3919                                Boolesche Ausdrücke   \n",
       "3921                                Logarithmusfunktion   \n",
       "3925                               Zähler eines Bruches   \n",
       "3931                   Halbwerts- und Verdoppelungszeit   \n",
       "3936                              Bruchzahlen in Worten   \n",
       "3942                                     Compton-Effekt   \n",
       "3946                             Elektrisches Potential   \n",
       "3948                               Nenner eines Bruches   \n",
       "3951                                     Eulersche Zahl   \n",
       "3958                             Elektrische Feldlinien   \n",
       "3962            Rechnen mit Brüchen - Lernen mit Serlo!   \n",
       "3964                           Termumformung mit Zahlen   \n",
       "3965                                          Kehrbruch   \n",
       "3969                                       Echter Bruch   \n",
       "3971                                     Unechter Bruch   \n",
       "3973                                     Terme gliedern   \n",
       "3982                             Ablauf einer Messfeier   \n",
       "3987                           Ganzrationale Funktionen   \n",
       "3991                                       Pflanzzeiten   \n",
       "3993                         Vorkulturen und Direktsaat   \n",
       "3995                   Keimung und Wachstumsbedingungen   \n",
       "3997                               Potenzfunktionen (2)   \n",
       "4001                                        Ausklammern   \n",
       "4007                       Flächeninhalt eines Dreiecks   \n",
       "4013                       Rutherfordscher Streuversuch   \n",
       "4021                                    Tangensfunktion   \n",
       "4041                                             Photon   \n",
       "4047                                           Atomkern   \n",
       "4053                                     Radioaktivität   \n",
       "4059                                          Aktivität   \n",
       "4060                                       Energiedosis   \n",
       "4062                                    Äquivalentdosis   \n",
       "4064                                      Halbwertszeit   \n",
       "4066                    Entwicklung der Atomvorstellung   \n",
       "4068                         Rutherfordsches Atommodell   \n",
       "4082                                        Doppelbruch   \n",
       "4083                                  Brüche dividieren   \n",
       "4087                                        Scheinbruch   \n",
       "4088                                         Stammbruch   \n",
       "4103                              Schriftliche Division   \n",
       "4110                        Schriftliche Multiplikation   \n",
       "4111                                          Community   \n",
       "4112                               Satz vom Nullprodukt   \n",
       "4113                      Wellencharakter des Elektrons   \n",
       "4129                         Rechentricks und -vorteile   \n",
       "4131                                      Einheitskreis   \n",
       "4136                                  Natürliche Zahlen   \n",
       "4139                                       Ganze Zahlen   \n",
       "4145                                   Rationale Zahlen   \n",
       "4153                                      Reelle Zahlen   \n",
       "4161                                        Thaleskreis   \n",
       "4162                                     Saatgutauswahl   \n",
       "4164                                        Mischkultur   \n",
       "4166                                        Fruchtfolge   \n",
       "4168                                      Fruchtwechsel   \n",
       "4170                                  SMS-Kampgane 2016   \n",
       "4171                               Äquivalenzrelationen   \n",
       "4173                                   Pflanzenfamilien   \n",
       "4174              Die Pflanzenfamilien in der Übersicht   \n",
       "4175                                            Klassen   \n",
       "4185                            Gärtnerische Grundlagen   \n",
       "4187                           Material und Platzbedarf   \n",
       "4195                            Vektor- und Pixelgrafik   \n",
       "4199                                       Sektorierung   \n",
       "4201                                     Volumenformeln   \n",
       "4203                             Nachhaltige Ernährung    \n",
       "4214                                  Zufallsexperiment   \n",
       "4228                        Klassen der Grafikdokumente   \n",
       "4230          Klasse Grafikdokument - Lernen mit Serlo!   \n",
       "4232                                       Mantelfläche   \n",
       "4233                                    Negative Zahlen   \n",
       "4239                           Vorzeichen und Gegenzahl   \n",
       "4241                                         Vorzeichen   \n",
       "4249                      Ableiten von Potenzfunktionen   \n",
       "4253                                          Adam Ries   \n",
       "4254                              Tangenten an Parabeln   \n",
       "4256               Organisation von Gemeinschaftsgärten   \n",
       "4257            Einführung in die Infektionskrankheiten   \n",
       "4261                               Bakterieninfektionen   \n",
       "4265                                   Virusinfektionen   \n",
       "4269                                           Das Blut   \n",
       "4277                                  Enthält-Beziehung   \n",
       "4279                                 Oberflächenformeln   \n",
       "4285                                         Mutationen   \n",
       "4293                            Verdauung des Menschen    \n",
       "4301                    Klassen der Multimediadokumente   \n",
       "4303                             Eine gute Präsentation   \n",
       "4307                             Mitose (= Zellteilung)   \n",
       "4313                            Meiose (= Reifeteilung)   \n",
       "4325                                            Objekte   \n",
       "4329                                          Attribute   \n",
       "4333                                      Attributwerte   \n",
       "4337                                           Methoden   \n",
       "4341                                      Punktnotation   \n",
       "4343                           Der Aufbau des Internets   \n",
       "4346                   Vierfeldertafel mit Häufigkeiten   \n",
       "4348                                         Gedächtnis   \n",
       "4349                            Internetseiten aufrufen   \n",
       "4351                         Düngen mit Pflanzenjauchen   \n",
       "4353                                    Düngen mit Mist   \n",
       "4355                                            Düngung   \n",
       "4357                               Zerlegungsgleichheit   \n",
       "4359                                Bewässerungssysteme   \n",
       "4361                                    Gießen von Hand   \n",
       "4363                     Pflanzenschutz vor Schädlingen   \n",
       "4369                                 Passwortsicherheit   \n",
       "4373                             Rechnen mit Funktionen   \n",
       "4375                                Bedingte Funktionen   \n",
       "4377                              Spezielle Funktionen    \n",
       "4379                  Datenbankverwaltungssystem (DBMS)   \n",
       "4387                                         Schlüssel    \n",
       "4389                           Schlüssel in Datenbanken   \n",
       "4391                                       SQL-Abfragen   \n",
       "4395                          Vordefinierte Anweisungen   \n",
       "4397                          Vordefinierte Bedingungen   \n",
       "4401                                     Wiederholungen   \n",
       "4403                                      Struktogramme   \n",
       "4405                        Pflanzliche Pflanzenmedizin   \n",
       "4407                                   E-Mail allgemein   \n",
       "4419                           Verschicken einer E-Mail   \n",
       "4421                                 DNA - Was ist das?   \n",
       "4439                                           Das Auge   \n",
       "4449                              Was sind Chromosomen?   \n",
       "4461                      Abweichende Chromosomenzahlen   \n",
       "4467                                  Die Klasse E-Mail   \n",
       "4469                                             Dichte   \n",
       "4471                              Rechnen mit Einheiten   \n",
       "4475                                  Haus der Vierecke   \n",
       "4481                     Das ABC der Evolutionsbiologie   \n",
       "4484               Grundbegriffe der Evolutionsbiologie   \n",
       "4495                                            Prägung   \n",
       "4499                               Symmetrisches Trapez   \n",
       "4505                                            Volumen   \n",
       "4507                                    Tierische Zelle   \n",
       "4515                                  Pflanzliche Zelle   \n",
       "4523                                       Biomembranen   \n",
       "4535                          Merkmale eines Ökosystems   \n",
       "4539                                Inkreis und Umkreis   \n",
       "4541                                               HTML   \n",
       "4543                                Palettenholz nutzen   \n",
       "4544                           Ist Palettenholz giftig?   \n",
       "4545                                        Klimawandel   \n",
       "4547                                    Treibhauseffekt   \n",
       "4549                             Plastik in den Ozeanen   \n",
       "4551                                  Virtuelles Wasser   \n",
       "4553                                      Treibhausgase   \n",
       "4555                            Folgen des Klimawandels   \n",
       "4557                      Rechentricks für die Addition   \n",
       "4559                                              Klima   \n",
       "4561                                      Vorratskammer   \n",
       "4563                                     Erntezeitpunkt   \n",
       "4565                                        Erntetricks   \n",
       "4567                              Vegetative Vermehrung   \n",
       "4569                               Das menschliche Herz   \n",
       "4573                                  Die äußere Atmung   \n",
       "4575                              Enzymatische Prozesse   \n",
       "4577                                              Salze   \n",
       "4579                                          Diffusion   \n",
       "4585                                 Populationsdynamik   \n",
       "4587                                        Katalysator   \n",
       "4591                  Silberspiegelprobe | Tollensprobe   \n",
       "4597                                           Die Haut   \n",
       "4599                               Stammzellenforschung   \n",
       "4601                              Endosymbiontentheorie   \n",
       "4605                                          Die Leber   \n",
       "4607                                          Die Lunge   \n",
       "4609                                      Immunisierung   \n",
       "4611                       Das Immunsystem des Menschen   \n",
       "4613                                             Alkane   \n",
       "4615                                             Alkene   \n",
       "4619                                Haploid und diploid   \n",
       "4621                                       Der Zellkern   \n",
       "4623                                      Zeiteinheiten   \n",
       "4627                                     Das AB0-System   \n",
       "4631                                          Mesomerie   \n",
       "4633                                     Monosaccharide   \n",
       "4635                                        Die Glucose   \n",
       "4637                              Generative Vermehrung   \n",
       "4639                                    Saatgutlagerung   \n",
       "4641                                Erneuerbare Energie   \n",
       "4645                                       Urheberrecht   \n",
       "4647                             Informationssicherheit   \n",
       "4651                            Datenschutz im Internet   \n",
       "4655                          Geschichte der Informatik   \n",
       "4659                                 Pilze im Überblick   \n",
       "4661                           Vermehrung von Bakterien   \n",
       "4663                                           Der Mund   \n",
       "4667                           Belege für die Evolution   \n",
       "4669                                         Artbildung   \n",
       "4671                                 Evolutionsfaktoren   \n",
       "4673                                Aufbau von Pflanzen   \n",
       "4675                                  Kovalente Bindung   \n",
       "4677                                      Metallbindung   \n",
       "4681                                        Kooperation   \n",
       "4687                           Nachhaltigkeit im Alltag   \n",
       "4689                              Umkehrbare Reaktionen   \n",
       "4695                                     Was ist Glück?   \n",
       "4697                                              Titel   \n",
       "4699                                      Kommunikation   \n",
       "4701                              Formen von Aggression   \n",
       "4713                                        Codierungen   \n",
       "4717                              Alphanumerische Codes   \n",
       "4719                                   Graphische Codes   \n",
       "4721                                   Numerische Codes   \n",
       "4729                                      Energieträger   \n",
       "4731                                       Blütenaufbau   \n",
       "4733                                Was sind Lebewesen?   \n",
       "4737                               Nahrungsbestandteile   \n",
       "4739                       Evolution bis zum Vielzeller   \n",
       "4741                                        Koevolution   \n",
       "4743                      Experimente zur Photosynthese   \n",
       "4749                          Partnerfindung & -bindung   \n",
       "4751                       Paarungssysteme & Infantizid   \n",
       "4753                                         Altruismus   \n",
       "4755                   Intensitätsstufen der Aggression   \n",
       "4757                    Formen der Aggressionskontrolle   \n",
       "4761                                 Aggressionsmodelle   \n",
       "4765                                 Unbedingte Reflexe   \n",
       "4767                           Komplexe Erbkoordination   \n",
       "4771                                Bedeutsame Methoden   \n",
       "4811                                         Samenernte   \n",
       "4813                                     Sortenvielfalt   \n",
       "4815                                        Bodenpflege   \n",
       "4817                          Textil- und Modeindustrie   \n",
       "4819                            Einkochen und Einwecken   \n",
       "4821          Photosyntheserate und Absorptionsspektrum   \n",
       "4823                                      Sauerteigbrot   \n",
       "4825                                      Milchprodukte   \n",
       "4829                                Kleber und Kleister   \n",
       "4831                    Grundlagen von Datenspeicherung   \n",
       "4833                           Was ist ein Algorithmus?   \n",
       "4835                                    Das Binärsystem   \n",
       "4837                                   Join-Operationen   \n",
       "4843                                Regenwasser sammeln   \n",
       "4849                          Das Sieb des Eratosthenes   \n",
       "4851                                       Balkongärten   \n",
       "4853                                  Hexadezimalsystem   \n",
       "4857                                    Nullstellenform   \n",
       "4862                         Vegetation des Regenwaldes   \n",
       "4863                          Hauptnenner mit Variablen   \n",
       "4871                Tropischer Regenwald - Was ist das?   \n",
       "4881                           Klimadiagramme auswerten   \n",
       "4883                Thermoisoplethendiagramme auswerten   \n",
       "4884                Thermoisoplethendiagramm auswerten    \n",
       "4891                                Regenwaldzerstörung   \n",
       "4895                              Weiterführende Themen   \n",
       "4914                         Färbe- und Bleichverfahren   \n",
       "4916                             Entstehung von Plastik   \n",
       "4919                                Plastikalternativen   \n",
       "4920                 Plastikrecycling und –alternativen   \n",
       "4925                                        Genmutation   \n",
       "4927                                Chromosomenmutation   \n",
       "4929                                      Genommutation   \n",
       "4931                           Allopatrische Artbildung   \n",
       "4933                            Sympatrische Artbildung   \n",
       "4934      sympatrische Artenbildung - Lernen mit Serlo!   \n",
       "4935                                         Überschlag   \n",
       "4949                                         Datentypen   \n",
       "4951                                    Poisson-Klammer   \n",
       "4953                                 Datenflussdiagramm   \n",
       "4957                              Hamiltonsches Prinzip   \n",
       "4958                    Hamiltonsches Variationsprinzip   \n",
       "4959                                   Warum Lagrange?    \n",
       "4961                                    Noether-Theorem   \n",
       "4963                                 d'Alembert Prinzip   \n",
       "4964                                 d'Alemberg Prinzip   \n",
       "4965                            Legendre Transformation   \n",
       "4967                        Lagrange Gleichungen 2. Art   \n",
       "4969                           Was Weichtiere ausmacht    \n",
       "4971                         Was Ringelwürmer ausmacht    \n",
       "4973                           Was macht Hohltiere aus    \n",
       "4975                          Parapatrische Artbildung    \n",
       "4977                                      Die Seewespe    \n",
       "4979                                      Rekombination   \n",
       "4981                                           Gendrift   \n",
       "4983                                         Selektion    \n",
       "4985                                         Isolation    \n",
       "4987                          Belege der Paläontologie    \n",
       "4989                           Divergenz und Konvergenz   \n",
       "4995                           Belege der Biogeographie   \n",
       "4997                          Planetarische Leitplanken   \n",
       "5009                       Geschwindigkeit (Grundlagen)   \n",
       "5013                             Belegung von Variablen   \n",
       "5023                 Ableitungsregel der Wurzelfunktion   \n",
       "5028                                      Biodiversität   \n",
       "5033                     Kreislauf einer Plastikflasche   \n",
       "5035                                        Anweisungen   \n",
       "5039            Möglichkeiten für die Plastikverwertung   \n",
       "5043                                Demokrit Atommodell   \n",
       "5053                                      Stammfunktion   \n",
       "5057                                 Kohlenwasserstoffe   \n",
       "5061                                     Die Stoffmenge   \n",
       "5063                                   Die molare Masse   \n",
       "5065                                 Das molare Volumen   \n",
       "5075                              Quantitative Analysen   \n",
       "5077                             Intermolekulare Kräfte   \n",
       "5111                                             Wörter   \n",
       "5113                                   Formale Sprachen   \n",
       "5134                                  Das Rhesus-System   \n",
       "5144                        Beschleunigung (Grundlagen)   \n",
       "5162                                  Der Golgi-Apparat   \n",
       "5164                     Das Endoplasmatische Retikulum   \n",
       "5200                          Zusammenfassen von Termen   \n",
       "5230                                  Display ansteuern   \n",
       "5234                                       Piezo-Summer   \n",
       "5236                                   Analoge Sensoren   \n",
       "5240                                   RFID-Kartenleser   \n",
       "5242                               LED-Matrix ansteuern   \n",
       "5246                                    Drehimpulsgeber   \n",
       "5266                               Der Homo Oeconomicus   \n",
       "5274                                    Der Herzinfarkt   \n",
       "5276                                       Das Inventar   \n",
       "5278                                         Die Bilanz   \n",
       "5282                                        Der Betrieb   \n",
       "5284                             Angebot und Nachfrage    \n",
       "5308                                              Array   \n",
       "5316                                 Kraft (Grundlagen)   \n",
       "5332                                  Die Corioliskraft   \n",
       "5350                                        Teilermenge   \n",
       "5360                                      Energieformen   \n",
       "5362                                     Viskosität (X)   \n",
       "5364                            Oberflächenspannung (x)   \n",
       "5366                          Schallgeschwindigkeit (X)   \n",
       "5368                                 Verformbarkeit (x)   \n",
       "5370                                    Reaktivität (x)   \n",
       "5372                                 Säurekonstante (x)   \n",
       "5374                                 Basenkonstante (x)   \n",
       "5376                                 Elektronegativität   \n",
       "5378                                Bindungsenergie (x)   \n",
       "5384            Die Oxidationszahl, die Oxidationsstufe   \n",
       "5386                    Das Periodensystem der Elemente   \n",
       "5388                                     Edelgaszustand   \n",
       "5390                     Rechengesetze für die Addition   \n",
       "5438                                         Chiralität   \n",
       "5598                         Eigenschaften von Metallen   \n",
       "5602                                              Atome   \n",
       "5604            Aufstellen von Reaktionsgleichungen (x)   \n",
       "5606                                           Moleküle   \n",
       "5608                                          Reduktion   \n",
       "5610                                          Oxidation   \n",
       "5614                                    Test der Zweite   \n",
       "5618                            Äquivalente Gleichungen   \n",
       "5622                         Grundmenge einer Gleichung   \n",
       "5624                       Lösungsmenge einer Gleichung   \n",
       "5630                                       Aromaten (X)   \n",
       "5632                                   Wertigkeiten (x)   \n",
       "5638                   Molekülbaukasten zum Selbstbauen   \n",
       "5642                           Der Schalenbau der Erde    \n",
       "5646                     Mehrstufige Zufallsexperimente   \n",
       "5650                                            Sequenz   \n",
       "5654                                    Plattentektonik   \n",
       "5656                                   Formalladung (x)   \n",
       "5660                                       Ionenbindung   \n",
       "5664                   Die Stoffmengenkonzentration (x)   \n",
       "5666                                     RedOx-Reaktion   \n",
       "5668                                        Salat-Ampel   \n",
       "5670                                     Mandala-Garten   \n",
       "5672                                        Ionenladung   \n",
       "5674                                           Edelgase   \n",
       "5676                                      Schalenmodell   \n",
       "5677                                      Schalenmodell   \n",
       "5680                                     Orbitaltheorie   \n",
       "5681                                     Orbitaltheorie   \n",
       "5684                   Polarität von Lösungsmitteln (x)   \n",
       "5686                     1. Definitionen von „Big Data“   \n",
       "5690                                       Alkohole (x)   \n",
       "5694                                  IUPAC- Nomeklatur   \n",
       "5698                                       Radikale (x)   \n",
       "5700                                            Cracken   \n",
       "5702                                             Alkine   \n",
       "5704                     Objektorientiertes Datenmodell   \n",
       "5708                                      Pflichtenheft   \n",
       "5710                       relationales Datenbankschema   \n",
       "5714                            Tabellen und Relationen   \n",
       "5718                                    Datenintegrität   \n",
       "5734               Der Passatkreislauf - in Bearbeitung   \n",
       "5736                             Datenbanktransaktionen   \n",
       "5740                                    Strukturformeln   \n",
       "5742                                 ACID-Eigenschaften   \n",
       "5744                          Radikalische Substitution   \n",
       "5746                                       Halogene (x)   \n",
       "5748                              Elektrophile Addition   \n",
       "5750                                        Isotope (x)   \n",
       "5752                                  Referenzattribute   \n",
       "5758                              rekursive Beziehungen   \n",
       "5760                           Redundanz in Datenbanken   \n",
       "5762                                      Alkalimetalle   \n",
       "5764                           Trends im Periodensystem   \n",
       "5766                                   Die Molekülmasse   \n",
       "5768                              NULL in der Datenbank   \n",
       "5770                            Ionisierungsenergie (x)   \n",
       "5772                           Elektronenaffinität (x)    \n",
       "5780               Cheatsheet zur Funktionsmodellierung   \n",
       "5788                                           Schätzen   \n",
       "5790                        Ortslinien und Ortsbereiche   \n",
       "5794                             Gleichungen aufstellen   \n",
       "5796                       Vulkanismus - In Bearbeitung   \n",
       "5812                                   Quellennachweise   \n",
       "5814                             Kategorien von Quellen   \n",
       "5850                          Der Aufbau der Atmosphäre   \n",
       "5852                        Vulkanismus in Deutschland?   \n",
       "5856                                  Satz und Kehrsatz   \n",
       "5860                                     Einheitsvektor   \n",
       "5862                             Skalare Multiplikation   \n",
       "5864                                             Skalar   \n",
       "5866                                        Vektorkette   \n",
       "5868                    Ortsunabhängigkeit von Vektoren   \n",
       "5890                                El Niño und La Niña   \n",
       "5894                                        Objektkarte   \n",
       "5896                                     Zahlensysteme    \n",
       "5902                                           Promille   \n",
       "5908                                       Klassenkarte   \n",
       "5912                             Parameter (Informatik)   \n",
       "5914                          Modellierung (Informatik)   \n",
       "5916                                        Gegenvektor   \n",
       "5918                                           Variable   \n",
       "5920                                             Skonto   \n",
       "5928                                            Rabatte   \n",
       "5930                                              Bonus   \n",
       "5934                                      Kreisdiagramm   \n",
       "5936                                Lineare Abbildungen   \n",
       "5980                                         Definition   \n",
       "5992                Die Gewinn-und Verlustrechnung(GuV)   \n",
       "5996                                 Gewinn und Verlust   \n",
       "5998                                 Stellenwertsysteme   \n",
       "6000                                           Einstieg   \n",
       "6008                                      Dezimalsystem   \n",
       "6012                                        Oktalsystem   \n",
       "6016                                   Additionssysteme   \n",
       "6018                                      Hybridsysteme   \n",
       "6032                                     Designmethoden   \n",
       "6034                                         Vermehrung   \n",
       "6038                                     Mehrwertsteuer   \n",
       "6040                                            Steuern   \n",
       "6048                                        Gartensuche   \n",
       "6082                      Eigenschaften von Algorithmen   \n",
       "6086                                  Hexadezimalsystem   \n",
       "6088                           Ergebnisräume übertragen   \n",
       "6090                        Anpassung der Ergebnismenge   \n",
       "6098                          Methoden mit Rückgabewert   \n",
       "6106                        Kontenplan und Kontenrahmen   \n",
       "6108                               Interaktive Aufgaben   \n",
       "6110                                   Römische  Zahlen   \n",
       "6116                                            Cluster   \n",
       "6117                                            Cluster   \n",
       "6122                                         Pfadregeln   \n",
       "6124                            Die Klasse Textdokument   \n",
       "6126                                  Die Klasse Absatz   \n",
       "6128                                 Die Klasse Zeichen   \n",
       "6134                            Porters Diamantenmodell   \n",
       "6136                         Grundsätze der Besteuerung   \n",
       "6138                                    Einkommensteuer   \n",
       "6140                                         Lohnsteuer   \n",
       "6142                                       Umsatzsteuer   \n",
       "6144                                        Hundesteuer   \n",
       "6146                                      Kirchensteuer   \n",
       "6148                                Kraftfahrzeugsteuer   \n",
       "6152                                      Gewerbesteuer   \n",
       "6156                                        Bedingungen   \n",
       "6177                          Geometrie Übungsbausteine   \n",
       "6198                      Einführung in die Raummessung   \n",
       "6199                              Einführung zu Brüchen   \n",
       "6204                                      Dezimalbrüche   \n",
       "6209                                Abiturkurs Analysis   \n",
       "6239                                Lineare Gleichungen   \n",
       "6245               Sachaufgaben zu den Grundrechenarten   \n",
       "6246                     Überblick zur Achsenspiegelung   \n",
       "6251                            Überblick zur Geometrie   \n",
       "6254                              Übersicht zu Vektoren   \n",
       "6262                         Nullstellen einer Funktion   \n",
       "6277                                           Testkurs   \n",
       "6304             Anleitung zum Bau einer Kräuterspirale   \n",
       "6318             Anleitung zum Bau eines Solartrockners   \n",
       "6320                 Anleitung zum Bau eines Salatturms   \n",
       "6338                   Einführung in die Programmierung   \n",
       "6340                  Anleitung zum Bau eines Hochbeets   \n",
       "6346                                           Testkurs   \n",
       "6366                                      DNA isolieren   \n",
       "6367                              Abiturkurs Stochastik   \n",
       "6373                                         Informatik   \n",
       "6374                                 Kompostgüte testen   \n",
       "6378                                Die Teebeutelrakete   \n",
       "6385                      Teilchencharakter des Photons   \n",
       "6390                           Kursseiten - Speicherung   \n",
       "6395                       Vielfachheit von Nullstellen   \n",
       "6403                  Umwandeln von Ebenendarstellungen   \n",
       "6405                               Abiturkurs Geometrie   \n",
       "6408             Chromatographie - wie es funktioniert!   \n",
       "6409                      Problematische Prozentangaben   \n",
       "6419                 Videokurs zu Exponentialfunktionen   \n",
       "6423                      Stoffe und Stoffeigenschaften   \n",
       "6431                    Polynomdivision - Das Verfahren   \n",
       "6435                                     Richtig Düngen   \n",
       "6438                                        Aussaaterde   \n",
       "6460                                Schnecken! Was tun?   \n",
       "6464                            Konstruierbare Dreiecke   \n",
       "6466                         Konstruktion von Dreiecken   \n",
       "6468                                  Boden untersuchen   \n",
       "6470                                     Quadratwurzeln   \n",
       "6472                           Berechnungen von Wurzeln   \n",
       "6480                              Nullstellenberechnung   \n",
       "6481                      Einführungskurs zur Ableitung   \n",
       "6484                                 Wintervorbereitung   \n",
       "6485                                  Das Ziegenproblem   \n",
       "6486                                     Richtig Lagern   \n",
       "6488                                   Keimprobe machen   \n",
       "6490    Bau und Installation einer Tröpfchenbewässerung   \n",
       "6495                     Einführung zu Bruchgleichungen   \n",
       "6500                                  Normalizer’s test   \n",
       "6518                             Upcycling von Kleidung   \n",
       "6519                        PET-Flasche als Anzuchttopf   \n",
       "6520                        Einführungskurs Schaltnetze   \n",
       "6522                            Ableitung/Integral Kurs   \n",
       "6524                                         Funktionen   \n",
       "6525         Aufbau eines Tabellenkalkulationsprogramms   \n",
       "6532                  Einführung in die Geschwindigkeit   \n",
       "6544                            Vertiefungskurs - RedOx   \n",
       "6545                                            Metalle   \n",
       "6547                                            Vorwort   \n",
       "6548                        Vorbereitung (Installation)   \n",
       "6549                                       Grundlagen 2   \n",
       "6561                                 Ordnen von Brüchen   \n",
       "6570                          Grundbaustoffe von Zellen   \n",
       "6575                          Erweiterungskurs Internet   \n",
       "6578                 Einführung in die Integralfunktion   \n",
       "6579                              Plastikfrei im Alltag   \n",
       "6583                                Bewerbungsschreiben   \n",
       "6585                                 Bewerbungsgespräch   \n",
       "6587                                          Einheiten   \n",
       "6590                  Experimentieren in der Chemie (x)   \n",
       "6597                            Rechnen mit Bruchtermen   \n",
       "6601                     Einführung in Abfragen mit SQL   \n",
       "6603                         Beziehungen in Datenbanken   \n",
       "6605                           Anomalien in Datenbanken   \n",
       "6607                                Negative Exponenten   \n",
       "6613                                    Linsengleichung   \n",
       "6618                                 Einführung in Java   \n",
       "6623                                 Terme vereinfachen   \n",
       "6626                              Rechnen mit Variablen   \n",
       "6636                            Ein Balkon für Insekten   \n",
       "6644                    Datenstrukturen und Algorithmen   \n",
       "\n",
       "                                    keyword    uuid         subject language  \\\n",
       "0                                  addition    1495           Mathe       de   \n",
       "17                       binomische formeln    1499           Mathe       de   \n",
       "29                            ergebnismenge    1501           Mathe       de   \n",
       "45                      relative häufigkeit    1503           Mathe       de   \n",
       "63                                 ereignis    1505           Mathe       de   \n",
       "75                              subtraktion    1507           Mathe       de   \n",
       "95                                   wurzel    1511           Mathe       de   \n",
       "113                           diskriminante    1513           Mathe       de   \n",
       "123                         satz pythagoras    1515           Mathe       de   \n",
       "137                               geometrie    1519           Mathe       de   \n",
       "138                              stochastik    1521           Mathe       de   \n",
       "140                               polstelle    1523           Mathe       de   \n",
       "150              klammern ausmultiplizieren    1525           Mathe       de   \n",
       "166                   brüche multiplizieren    1527           Mathe       de   \n",
       "174                hebbare definitionslücke    1529           Mathe       de   \n",
       "182                   nullstellen berechnen    1531           Mathe       de   \n",
       "196                         polynomdivision    1533           Mathe       de   \n",
       "206                steigung steigungswinkel    1535           Mathe       de   \n",
       "218                       koordinatensystem    1537           Mathe       de   \n",
       "228                       winkelhalbierende    1539           Mathe       de   \n",
       "238                              hypotenuse    1541           Mathe       de   \n",
       "264                                 kathete    1543           Mathe       de   \n",
       "277                      brüche potenzieren    1545           Mathe       de   \n",
       "287                               quersumme    1547           Mathe       de   \n",
       "297                      mitternachtsformel    1549           Mathe       de   \n",
       "305                     rechnen logarithmus    1551           Mathe       de   \n",
       "319                      berechnungen kreis    1553           Mathe       de   \n",
       "333                                zylinder    1555           Mathe       de   \n",
       "351                                  radius    1557           Mathe       de   \n",
       "365                             mantellinie    1559           Mathe       de   \n",
       "371                                   kegel    1561           Mathe       de   \n",
       "383                                   kugel    1563           Mathe       de   \n",
       "423                    stammfunktion finden    1571           Mathe       de   \n",
       "427                                  vektor    1573           Mathe       de   \n",
       "441             definitionsbereich funktion    1575           Mathe       de   \n",
       "459                        kurvendiskussion    1577           Mathe       de   \n",
       "469                                extremum    1579           Mathe       de   \n",
       "481                           gaußverfahren    1581           Mathe       de   \n",
       "491                                funktion    1583           Mathe       de   \n",
       "527                      binomialverteilung    1587           Mathe       de   \n",
       "533                             mächtigkeit    1589           Mathe       de   \n",
       "547                          erwartungswert    1591           Mathe       de   \n",
       "553                                 varianz    1593           Mathe       de   \n",
       "559                                integral    1595           Mathe       de   \n",
       "565                              stetigkeit    1597           Mathe       de   \n",
       "573                    grenzwertbetrachtung    1599           Mathe       de   \n",
       "589                     umrechnen einheiten    1603           Mathe       de   \n",
       "594            wichtigsten umrechnungswerte    1603           Mathe       de   \n",
       "599                           faktorisieren    1605           Mathe       de   \n",
       "604                              satz vieta    1607           Mathe       de   \n",
       "612                            schnittmenge    1609           Mathe       de   \n",
       "618                   parameter koeffizient    1611           Mathe       de   \n",
       "620                         funktionenschar    1613           Mathe       de   \n",
       "646                   quadratische funktion    1621           Mathe       de   \n",
       "660                                 polynom    1623           Mathe       de   \n",
       "664                                polynome    1623           Mathe       de   \n",
       "668                                  prisma    1625           Mathe       de   \n",
       "688                                 prozent    1627           Mathe       de   \n",
       "698                                pyramide    1629           Mathe       de   \n",
       "710                  quadratische ergänzung    1631           Mathe       de   \n",
       "724                                division    1633           Mathe       de   \n",
       "736                      standardabweichung    1635           Mathe       de   \n",
       "739                                 sekante    1637           Mathe       de   \n",
       "740                          multiplikation    1639           Mathe       de   \n",
       "752                                analysis    1641           Mathe       de   \n",
       "753                                  betrag    1643           Mathe       de   \n",
       "755                               symmetrie    1645           Mathe       de   \n",
       "763                          tangente kreis    1647           Mathe       de   \n",
       "764     krümmungsverhalten funktionsgraphen    1649           Mathe       de   \n",
       "770                     differenzierbarkeit    1651           Mathe       de   \n",
       "780               wendepunkt terrassenpunkt    1653           Mathe       de   \n",
       "786                              wertemenge    1655           Mathe       de   \n",
       "802                                  brüche    1657           Mathe       de   \n",
       "820                      additionsverfahren    1661           Mathe       de   \n",
       "836                                potenzen    1663           Mathe       de   \n",
       "852                    lineare abhängigkeit    1665           Mathe       de   \n",
       "858                     absolute häufigkeit    1667           Mathe       de   \n",
       "878                     differenzenquotient    1669           Mathe       de   \n",
       "890                        assoziativgesetz    1671           Mathe       de   \n",
       "898                        flächeneinheiten    1673           Mathe       de   \n",
       "904                           geldeinheiten    1675           Mathe       de   \n",
       "912                       distributivgesetz    1677           Mathe       de   \n",
       "922                        kommutativgesetz    1679           Mathe       de   \n",
       "930                         längeneinheiten    1681           Mathe       de   \n",
       "935               umrechnen längeneinheiten    1681           Mathe       de   \n",
       "940                       gewichtseinheiten    1683           Mathe       de   \n",
       "948                        volumeneinheiten    1685           Mathe       de   \n",
       "956                          potenzfunktion    1687           Mathe       de   \n",
       "964                          regel hospital    1689           Mathe       de   \n",
       "966                           gegenereignis    1691           Mathe       de   \n",
       "978                   wichtige zahlenmengen    1693           Mathe       de   \n",
       "986                            zahlenmengen    1693           Mathe       de   \n",
       "1002                               rechteck    1697           Mathe       de   \n",
       "1024                                 quader    1699           Mathe       de   \n",
       "1040           monotonieverhalten berechnen    1701           Mathe       de   \n",
       "1052                  griechisches alphabet    1703           Mathe       de   \n",
       "1054                                viereck    1705           Mathe       de   \n",
       "1074                                 winkel    1707           Mathe       de   \n",
       "1090                                 trapez    1709           Mathe       de   \n",
       "1102                     konstante variable    1711           Mathe       de   \n",
       "1103                  infinitesimalrechnung    1713           Mathe       de   \n",
       "1104                          skalarprodukt    1715           Mathe       de   \n",
       "1110                              gleichung    1717           Mathe       de   \n",
       "1144                baumdiagramm pfadregeln    1721           Mathe       de   \n",
       "1174                    pascalsches dreieck    1723           Mathe       de   \n",
       "1176                                methode    1725           Mathe       de   \n",
       "1180                         parallelogramm    1727           Mathe       de   \n",
       "1194                           sprungstelle    1729           Mathe       de   \n",
       "1198                                  raute    1731           Mathe       de   \n",
       "1208                         drachenviereck    1733           Mathe       de   \n",
       "1220                   einsetzungsverfahren    1735           Mathe       de   \n",
       "1236                gleichsetzungsverfahren    1737           Mathe       de   \n",
       "1252                       gemischter bruch    1739           Mathe       de   \n",
       "1272                            satz thales    1743           Mathe       de   \n",
       "1276                      symmetrie graphen    1745           Mathe       de   \n",
       "1288                       geradengleichung    1747           Mathe       de   \n",
       "1304              lineares gleichungssystem    1749           Mathe       de   \n",
       "1316                           kombinatorik    1751           Mathe       de   \n",
       "1328                     wahrscheinlichkeit    1753           Mathe       de   \n",
       "1346                     laplace experiment    1755           Mathe       de   \n",
       "1366                         wurzelfunktion    1757           Mathe       de   \n",
       "1386                    vektor kreuzprodukt    1761           Mathe       de   \n",
       "1392                           große zahlen    1763           Mathe       de   \n",
       "1398                               fakultät    1765           Mathe       de   \n",
       "1402                             primzahlen    1767           Mathe       de   \n",
       "1404                               dreisatz    1769           Mathe       de   \n",
       "1414               direkte proportionalität    1771           Mathe       de   \n",
       "1434                     hauptnenner bilden    1773           Mathe       de   \n",
       "1454                          länge vektors    1777           Mathe       de   \n",
       "1466                    primfaktorzerlegung    1779           Mathe       de   \n",
       "1468                  scheitelpunkt parabel    1781           Mathe       de   \n",
       "1484                        geradensteigung    1785           Mathe       de   \n",
       "1500                    temperatureinheiten    1787           Mathe       de   \n",
       "1502                                normale    1789           Mathe       de   \n",
       "1503                         orthogonalität    1791           Mathe       de   \n",
       "1506                                  ebene    1793           Mathe       de   \n",
       "1512                              ableitung    1795           Mathe       de   \n",
       "1524                            kettenregel    1797           Mathe       de   \n",
       "1536                            summenregel    1799           Mathe       de   \n",
       "1539                        quotientenregel    1801           Mathe       de   \n",
       "1549                           produktregel    1803           Mathe       de   \n",
       "1559               ableitung umkehrfunktion    1805           Mathe       de   \n",
       "1570                  zählergrad nennergrad    1811           Mathe       de   \n",
       "1580                         umkehrfunktion    1815           Mathe       de   \n",
       "1584                      extremwertaufgabe    1817           Mathe       de   \n",
       "1596                            teilerfremd    1819           Mathe       de   \n",
       "1600                 quadratische gleichung    1821           Mathe       de   \n",
       "1610                                   term    1823           Mathe       de   \n",
       "1626                  partielle integration    1825           Mathe       de   \n",
       "1630           flächenberechnung integralen    1827           Mathe       de   \n",
       "1642                  partialbruchzerlegung    1831           Mathe       de   \n",
       "1643                              asymptote    1833           Mathe       de   \n",
       "1655                             nullstelle    1835           Mathe       de   \n",
       "1665                            nullstellen    1835           Mathe       de   \n",
       "1675             rechnen proportionalitäten    1837           Mathe       de   \n",
       "1689           definitionsbereich bestimmen    1839           Mathe       de   \n",
       "1699                termumformung variablen    1841           Mathe       de   \n",
       "1708                         graph funktion    1843           Mathe       de   \n",
       "1728                      extrema berechnen    1845           Mathe       de   \n",
       "1734                  äquivalenzumformungen    1847           Mathe       de   \n",
       "1752                           zinsrechnung    1849           Mathe       de   \n",
       "1758                 bruchgleichungen lösen    1851           Mathe       de   \n",
       "1770                    grenzwert bestimmen    1853           Mathe       de   \n",
       "1780                                parabel    1855           Mathe       de   \n",
       "1792                           substitution    1857           Mathe       de   \n",
       "1808           funktionsgraphen verschieben    1861           Mathe       de   \n",
       "1812                                quadrat    1863           Mathe       de   \n",
       "1822                 eigenschaften quadrats    1863           Mathe       de   \n",
       "1838               schnittpunkte funktionen    1865           Mathe       de   \n",
       "1844                          potenzgesetze    1867           Mathe       de   \n",
       "1852      trigonometrische umkehrfunktionen    1869           Mathe       de   \n",
       "1860                       grundrechenarten    1871           Mathe       de   \n",
       "1876                    winkelsumme dreieck    1873           Mathe       de   \n",
       "1883                        vierfeldertafel    1875           Mathe       de   \n",
       "1889                               sammlung    1877           Mathe       de   \n",
       "1891                       mittelsenkrechte    1879           Mathe       de   \n",
       "1913                 durchschnitt berechnen    1887           Mathe       de   \n",
       "1919                  stetigkeit nachweisen    1889           Mathe       de   \n",
       "1966          sinusfunktion kosinusfunktion    1909           Mathe       de   \n",
       "1971                          sinus kosinus    1909           Mathe       de   \n",
       "1976                              monotonie    1911           Mathe       de   \n",
       "1990                      seitenhalbierende    1913           Mathe       de   \n",
       "1994                            schwerpunkt    1915           Mathe       de   \n",
       "2002                       umkreis dreiecks    1917           Mathe       de   \n",
       "2006                       inkreis dreiecks    1919           Mathe       de   \n",
       "2010                          höhe dreiecks    1921           Mathe       de   \n",
       "2022                       geltende ziffern    1923           Mathe       de   \n",
       "2023                              kongruenz    1925           Mathe       de   \n",
       "2029                        komplexe zahlen    1927           Mathe       de   \n",
       "2031                            ähnlichkeit    1929           Mathe       de   \n",
       "2051                          höhere wurzel    1933           Mathe       de   \n",
       "2054                      allgemeine wurzel    1933           Mathe       de   \n",
       "2057                             bruchterme    1935           Mathe       de   \n",
       "2080                    winkel konstruieren    1943           Mathe       de   \n",
       "2086                             intervalle    1947           Mathe       de   \n",
       "2092                                dreieck    1949           Mathe       de   \n",
       "2112                             halbgerade    1951           Mathe       de   \n",
       "2118                                strecke    1953           Mathe       de   \n",
       "2126                   geometrisches mittel    1955           Mathe       de   \n",
       "2128                  dreiecke konstruieren    1957           Mathe       de   \n",
       "2136                              statistik    1959           Mathe       de   \n",
       "2137            trigonometrie einheitskreis    1961           Mathe       de   \n",
       "2147                               bogenmaß    1963           Mathe       de   \n",
       "2161                         hypothesentest    1965           Mathe       de   \n",
       "2165             indirekte proportionalität    1967           Mathe       de   \n",
       "2177                               kehrwert    1969           Mathe       de   \n",
       "2183          strahlensatz vierstreckensatz    1971           Mathe       de   \n",
       "2189            bedingte wahrscheinlichkeit    1973           Mathe       de   \n",
       "2195                   tafelwerk stochastik    1975           Mathe       de   \n",
       "2201             unabhängigkeit ereignissen    1977           Mathe       de   \n",
       "2215                                  menge    1981           Mathe       de   \n",
       "2221                      erzeugendensystem    1983           Mathe       de   \n",
       "2225                      basis vektorraums    1985           Mathe       de   \n",
       "2231                      linearkombination    1987           Mathe       de   \n",
       "2237         newtonsches näherungsverfahren    1989           Mathe       de   \n",
       "2240                       newton verfahren    1989           Mathe       de   \n",
       "2243                      vereinigungsmenge    1991           Mathe       de   \n",
       "2249                            ungleichung    1993           Mathe       de   \n",
       "2258                          ungleichungen    1993           Mathe       de   \n",
       "2267                    ungleichungen lösen    1995           Mathe       de   \n",
       "2279                            urnenmodell    1997           Mathe       de   \n",
       "2289                  schrägbilder zeichnen    1999           Mathe       de   \n",
       "2295           nullhypothese gegenhypothese    2001           Mathe       de   \n",
       "2299                   exponentialgleichung    2003           Mathe       de   \n",
       "2302                       lineare funktion    2005           Mathe       de   \n",
       "2322                   hypothesentest arten    2007           Mathe       de   \n",
       "2326                               matrizen    2009           Mathe       de   \n",
       "2330             stichprobe hypothesentests    2011           Mathe       de   \n",
       "2334                   bernoulli experiment    2013           Mathe       de   \n",
       "2340                        bernoulli kette    2015           Mathe       de   \n",
       "2346                           determinante    2017           Mathe       de   \n",
       "2347                determinanten berechnen    2019           Mathe       de   \n",
       "2357                       cramersche regel    2023           Mathe       de   \n",
       "2367     entscheidungsregel hypothesentests    2025           Mathe       de   \n",
       "2375                            winkelsumme    2029           Mathe       de   \n",
       "2377                              diagonale    2031           Mathe       de   \n",
       "2398                exponentielles wachstum    2035           Mathe       de   \n",
       "2412                      lineares wachstum    2039           Mathe       de   \n",
       "2422             zeichnen koordinatensystem    2043           Mathe       de   \n",
       "2430                       integralfunktion    2045           Mathe       de   \n",
       "2438                    verteilungsfunktion    2047           Mathe       de   \n",
       "2448               gerade koordinatensystem    2051           Mathe       de   \n",
       "2464                                 gerade    2053           Mathe       de   \n",
       "2476                           zufallsgröße    2055           Mathe       de   \n",
       "2488                        ober untersumme    2059           Mathe       de   \n",
       "2492                uneigentliches integral    2061           Mathe       de   \n",
       "2498                     höhen kathetensatz    2063           Mathe       de   \n",
       "2510               euklidischer algorithmus    2065           Mathe       de   \n",
       "2511                           zahlengerade    2067           Mathe       de   \n",
       "2529                       parabel zeichnen    2071           Mathe       de   \n",
       "2559                          venn diagramm    2075           Mathe       de   \n",
       "2565                        römische zahlen    2077           Mathe       de   \n",
       "2573                             relationen    2079           Mathe       de   \n",
       "2579                                quantor    2081           Mathe       de   \n",
       "2580                     logikverknüpfungen    2083           Mathe       de   \n",
       "2581                   verknüpfungen mengen    2085           Mathe       de   \n",
       "2583                        teilmenge menge    2087           Mathe       de   \n",
       "2585                        partition menge    2089           Mathe       de   \n",
       "2586                          zahlensysteme    2091           Mathe       de   \n",
       "2588                 komposition funktionen    2093           Mathe       de   \n",
       "2596                         fasskreisbogen    2095           Mathe       de   \n",
       "2612                      reguläre vielecke    2103           Mathe       de   \n",
       "2622                                 median    2105           Mathe       de   \n",
       "2626                              kreiszahl    2107           Mathe       de   \n",
       "2640                     termbeschreibungen    2111           Mathe       de   \n",
       "2648                       periode funktion    2113           Mathe       de   \n",
       "2653                         periode bruchs    2115           Mathe       de   \n",
       "2659                   kartesisches produkt    2117           Mathe       de   \n",
       "2668                       goldener schnitt    2125           Mathe       de   \n",
       "2674                       zwischenwertsatz    2129           Mathe       de   \n",
       "2678                            testartikel    2131           Mathe       de   \n",
       "2680                       normalverteilung    2133           Mathe       de   \n",
       "2684                           parallelotop    2135           Mathe       de   \n",
       "2690                      abstand berechnen    2139           Mathe       de   \n",
       "2696                    exponentialfunktion    2143           Mathe       de   \n",
       "2721                  schriftliche addition    2153           Mathe       de   \n",
       "2737                      steckbriefaufgabe    2157           Mathe       de   \n",
       "2748                      lineare gleichung    2171           Mathe       de   \n",
       "2774           ausbildung metallbearbeitung    2183           Mathe       de   \n",
       "2776                        rotationskörper    2187           Mathe       de   \n",
       "2780      linearfaktorzerlegung durchführen    2189           Mathe       de   \n",
       "2805                prozentrechnung formeln    2193           Mathe       de   \n",
       "2812        schnittpunkte koordinatenachsen    2195           Mathe       de   \n",
       "2853                    ortskurve bestimmen    2203           Mathe       de   \n",
       "2854             kurvendiskussion parameter    2205           Mathe       de   \n",
       "2855              funktionsgraphen spiegeln    2207           Mathe       de   \n",
       "2861                         tangente graph    2213           Mathe       de   \n",
       "2869                    ableitung berechnen    2215           Mathe       de   \n",
       "2872                   differentialquotient   18529           Mathe       de   \n",
       "2882                                  humus   20891  Nachhaltigkeit       de   \n",
       "2884                           rauschmittel   23953        Biologie       de   \n",
       "2896                     sucht abhängigkeit   23988        Biologie       de   \n",
       "2902                stoffliche abhängigkeit   23996        Biologie       de   \n",
       "2914           nichtstoffliche abhängigkeit   24004        Biologie       de   \n",
       "2920                  therapie abhängigkeit   24013        Biologie       de   \n",
       "2926                           essstörungen   24020        Biologie       de   \n",
       "2938                   internetabhängigkeit   24727        Biologie       de   \n",
       "2944                    sucht computerspiel   24732        Biologie       de   \n",
       "2950                     allgemeines chemie   25247          Chemie       de   \n",
       "2952            geschichtlicher hintergrund   25249          Chemie       de   \n",
       "2956                     optische aktivität   25361          Chemie       de   \n",
       "2958                               isomerie   25369          Chemie       de   \n",
       "2960                        aggregatzustand   25371          Chemie       de   \n",
       "2963                           brennbarkeit   25398          Chemie       de   \n",
       "2964                            indikatoren   25400          Chemie       de   \n",
       "2965                            löslichkeit   25402          Chemie       de   \n",
       "2967                          leitfähigkeit   25404          Chemie       de   \n",
       "2968                    siede schmelzpunkte   25406          Chemie       de   \n",
       "2969                            permakultur   25507  Nachhaltigkeit       de   \n",
       "2971                    arten konservierung   25509  Nachhaltigkeit       de   \n",
       "2973                            naturfarben   25545  Nachhaltigkeit       de   \n",
       "2974                herstellung naturfasern   25547  Nachhaltigkeit       de   \n",
       "2976                                 kerzen   25549  Nachhaltigkeit       de   \n",
       "2980                   chemische verbindung   25869          Chemie       de   \n",
       "2981                               elemente   25871          Chemie       de   \n",
       "2982                    heterogene gemische   25873          Chemie       de   \n",
       "2983                      homogene gemische   25875          Chemie       de   \n",
       "2984               trennverfahren gemischen   25878          Chemie       de   \n",
       "2985                    aktivierungsenergie   25880          Chemie       de   \n",
       "2987                          energieprofil   25882          Chemie       de   \n",
       "2989                        massenerhaltung   25886          Chemie       de   \n",
       "2991                  substitutionsreaktion   25889          Chemie       de   \n",
       "2993                      additionsreaktion   25891          Chemie       de   \n",
       "2995                                analyse   25893          Chemie       de   \n",
       "2997                               synthese   25895          Chemie       de   \n",
       "2999         bodenlebewesen mikroorganismen   26053  Nachhaltigkeit       de   \n",
       "3000                          kompostierung   26058  Nachhaltigkeit       de   \n",
       "3004                   kunststoffe kleidung   26137          Chemie       de   \n",
       "3006                                elastan   26144          Chemie       de   \n",
       "3007                           polyacrylate   26147          Chemie       de   \n",
       "3008                               polyamid   26149          Chemie       de   \n",
       "3009                              polyester   26151          Chemie       de   \n",
       "3010                         polymerisation   26158          Chemie       de   \n",
       "3011            radikalische polymerisation   26163          Chemie       de   \n",
       "3012                ionische polymerisation   26165          Chemie       de   \n",
       "3016            ringsöffnungspolymerisation   26169          Chemie       de   \n",
       "3018                         kettenreaktion   26214          Chemie       de   \n",
       "3020                         polychlorethen   26360          Chemie       de   \n",
       "3021             teflon polytetrafluorethen   26362          Chemie       de   \n",
       "3022                    styropor polystyrol   26364          Chemie       de   \n",
       "3023         plexiglas polymethylacrylsäure   26366          Chemie       de   \n",
       "3024                              polyethen   26368          Chemie       de   \n",
       "3025                       polykondensation   26371          Chemie       de   \n",
       "3036                         stufenreaktion   26509          Chemie       de   \n",
       "3051                            veresterung   26753          Chemie       de   \n",
       "3055                            gründüngung   26834  Nachhaltigkeit       de   \n",
       "3064                      erstellt diagramm   26953           Mathe       de   \n",
       "3065                      erstellt diagramm   26953        Biologie       de   \n",
       "3068                  recherchiert internet   26954        Biologie       de   \n",
       "3069              funktionieren experimente   27023        Biologie       de   \n",
       "3073                        wertet diagramm   27334           Mathe       de   \n",
       "3076                        wertet diagramm   27334        Biologie       de   \n",
       "3079                    auswerten diagramms   27334           Mathe       de   \n",
       "3082                    auswerten diagramms   27334        Biologie       de   \n",
       "3085                     amphibien ausmacht   27365        Biologie       de   \n",
       "3089                         frösche kröten   27368        Biologie       de   \n",
       "3093                          geht modellen   27403        Biologie       de   \n",
       "3095                      molche salamander   27443        Biologie       de   \n",
       "3099                     reptilien ausmacht   27471        Biologie       de   \n",
       "3103                         vögel ausmacht   27475        Biologie       de   \n",
       "3109                         nattern vipern   27521        Biologie       de   \n",
       "3138                       parallele ebenen   27784           Mathe       de   \n",
       "3159          multiplikation dezimalbrüchen   27802           Mathe       de   \n",
       "3167                     einbinden aufgaben   27803           Mathe       de   \n",
       "3168                           dezimalbruch   27823           Mathe       de   \n",
       "3176                vergleich dezimalzahlen   27826           Mathe       de   \n",
       "3186                division dezimalbrüchen   28009           Mathe       de   \n",
       "3210                    säugetiere ausmacht   28380        Biologie       de   \n",
       "3222                    binomialkoeffizient   28557           Mathe       de   \n",
       "3224                     stellenwertsysteme   28903           Mathe       de   \n",
       "3230                          dezimalsystem   29291           Mathe       de   \n",
       "3231           unabhängigkeit zufallsgrößen   29482           Mathe       de   \n",
       "3232                  abzählen baumdiagramm   29574           Mathe       de   \n",
       "3258                            zählprinzip   29910           Mathe       de   \n",
       "3278                   stoffe eigenschaften   30676          Chemie       de   \n",
       "3285               liste stoffeigenschaften   31700          Chemie       de   \n",
       "3293                                  ionen   32005          Chemie       de   \n",
       "3295                          thermoplasten   32042          Chemie       de   \n",
       "3297                             duroplaste   32044          Chemie       de   \n",
       "3299             eigenschaften kunststoffen   32048          Chemie       de   \n",
       "3301                        fische ausmacht   32173        Biologie       de   \n",
       "3305                             polypropen   32181          Chemie       de   \n",
       "3306                             polystyrol   32183          Chemie       de   \n",
       "3313                 dissoziationsgleichung   32305          Chemie       de   \n",
       "3315               chemische zeichensprache   32387          Chemie       de   \n",
       "3317                  spinnentiere ausmacht   32427        Biologie       de   \n",
       "3321                      insekten ausmacht   32429        Biologie       de   \n",
       "3334                         aufbau neurons   33055        Biologie       de   \n",
       "3346                          ruhepotential   33157        Biologie       de   \n",
       "3352                       aktionspotential   33412        Biologie       de   \n",
       "3377                  erregungsleitung axon   34019        Biologie       de   \n",
       "3383                                artikel   34159  Nachhaltigkeit       de   \n",
       "3385                      schlüssellochbeet   34249  Nachhaltigkeit       de   \n",
       "3386                               hochbeet   34307  Nachhaltigkeit       de   \n",
       "3388                       vertikale gärten   34329  Nachhaltigkeit       de   \n",
       "3390                         kräuterspirale   34331  Nachhaltigkeit       de   \n",
       "3452                      ethik permakultur   35135  Nachhaltigkeit       de   \n",
       "3455                         nachhaltigkeit   35149  Nachhaltigkeit       de   \n",
       "3472                          gewächshäuser   35554  Nachhaltigkeit       de   \n",
       "3474                        achsensymmetrie   35620           Mathe       de   \n",
       "3482                            körpernetze   35621           Mathe       de   \n",
       "3500                     besondere dreiecke   35663           Mathe       de   \n",
       "3506                         punktsymmetrie   35721           Mathe       de   \n",
       "3516              gleichschenkliges dreieck   35866           Mathe       de   \n",
       "3530                 gleichseitiges dreieck   35991           Mathe       de   \n",
       "3538                          terrassierung   36026  Nachhaltigkeit       de   \n",
       "3540                 rechtwinkliges dreieck   36070           Mathe       de   \n",
       "3546                               erdmiete   36153  Nachhaltigkeit       de   \n",
       "3550                           würfel kubus   36160           Mathe       de   \n",
       "3562                                  kreis   36162           Mathe       de   \n",
       "3578                              tetraeder   36213           Mathe       de   \n",
       "3580                            kreissektor   36264           Mathe       de   \n",
       "3585                                maßstab   36268           Mathe       de   \n",
       "3595                    umrechnungsfaktoren   36570           Mathe       de   \n",
       "3603                  prozent prozentpunkte   37054           Mathe       de   \n",
       "3609                              zonierung   37914  Nachhaltigkeit       de   \n",
       "3619                               wurmfarm   38903  Nachhaltigkeit       de   \n",
       "3621                        komposttoilette   38906  Nachhaltigkeit       de   \n",
       "3623            neurologische messtechniken   39805        Biologie       de   \n",
       "3629                     nervengifte wirken   39810        Biologie       de   \n",
       "3632                            nervengifte   39810        Biologie       de   \n",
       "3641                                reflexe   39822        Biologie       de   \n",
       "3647                                  wiris   39889           Mathe       de   \n",
       "3649                  mikroskopiere richtig   39986        Biologie       de   \n",
       "3657                               eckpunkt   40036           Mathe       de   \n",
       "3667                                  kante   40041           Mathe       de   \n",
       "3673                                hormone   40346        Biologie       de   \n",
       "3683                   prokaryotische zelle   40572        Biologie       de   \n",
       "3691                elektrischer stromkreis   41473          Physik       de   \n",
       "3697               dezimalzahl dezimalbruch   41695           Mathe       de   \n",
       "3699                                 runden   41763           Mathe       de   \n",
       "3701                     runden dezimalzahl   41805           Mathe       de   \n",
       "3703                     elektrische ladung   42017          Physik       de   \n",
       "3715                      elektrisches feld   42090          Physik       de   \n",
       "3717                   elektrische spannung   42091          Physik       de   \n",
       "3721               längen koordinatensystem   42242           Mathe       de   \n",
       "3723                             spiegelung   42246           Mathe       de   \n",
       "3728                           wertetabelle   42380           Mathe       de   \n",
       "3752                    spiegeln gitternetz   42406           Mathe       de   \n",
       "3761                      potenzen polynome   43048           Mathe       de   \n",
       "3764                      abbildungen ebene   43184           Mathe       de   \n",
       "3772                          aussagenlogik   43254           Mathe       de   \n",
       "3774                                 mengen   43256           Mathe       de   \n",
       "3776                     ordnungsrelationen   43258           Mathe       de   \n",
       "3780                                 folgen   43285           Mathe       de   \n",
       "3783                                beweise   43309           Mathe       de   \n",
       "3785                            logarithmen   43367           Mathe       de   \n",
       "3787                            einstimmung   43433           Mathe       de   \n",
       "3790                            abbildungen   43455           Mathe       de   \n",
       "3793              lineare gleichungssysteme   43477           Mathe       de   \n",
       "3795                   parallelverschiebung   43629           Mathe       de   \n",
       "3799                  orthogonale affinität   43633           Mathe       de   \n",
       "3807            spiegelung ursprungsgeraden   43778           Mathe       de   \n",
       "3811                      abszisse ordinate   44993           Mathe       de   \n",
       "3813                verknüpfung abbildungen   45468           Mathe       de   \n",
       "3817                   fixpunkte fixgeraden   45506           Mathe       de   \n",
       "3819                       polarkoordinaten   45643           Mathe       de   \n",
       "3822                          summenzeichen   45699           Mathe       de   \n",
       "3834                   kirchhoffsche regeln   46687          Physik       de   \n",
       "3864                    unterteilung stoffe   47551          Chemie       de   \n",
       "3876                         bruchgleichung   47773           Mathe       de   \n",
       "3881                       bruchgleichungen   47773           Mathe       de   \n",
       "3889                 caesar verschlüsselung   48121      Informatik       de   \n",
       "3891               photoelektrischer effekt   48261          Physik       de   \n",
       "3895               vigenère verschlüsselung   48392      Informatik       de   \n",
       "3897                    menschliche skelett   48682        Biologie       de   \n",
       "3899                menschliche wirbelsäule   48684        Biologie       de   \n",
       "3901                    menschliche schädel   48687        Biologie       de   \n",
       "3905                       funktion muskeln   48692        Biologie       de   \n",
       "3909                      knochen aufgebaut   48696        Biologie       de   \n",
       "3911                         entsteht humus   48713  Nachhaltigkeit       de   \n",
       "3919                    boolesche ausdrücke   48907      Informatik       de   \n",
       "3921                    logarithmusfunktion   49133           Mathe       de   \n",
       "3925                         zähler bruches   49349           Mathe       de   \n",
       "3931            halbwerts verdoppelungszeit   49388           Mathe       de   \n",
       "3936                     bruchzahlen worten   49468           Mathe       de   \n",
       "3942                         compton effekt   49487          Physik       de   \n",
       "3946                 elektrisches potential   49677          Physik       de   \n",
       "3948                         nenner bruches   49720           Mathe       de   \n",
       "3951                         eulersche zahl   49745           Mathe       de   \n",
       "3958                 elektrische feldlinien   50383          Physik       de   \n",
       "3962                        rechnen brüchen   50493           Mathe       de   \n",
       "3964                   termumformung zahlen   50515           Mathe       de   \n",
       "3965                              kehrbruch   50567           Mathe       de   \n",
       "3969                           echter bruch   50581           Mathe       de   \n",
       "3971                         unechter bruch   50583           Mathe       de   \n",
       "3973                         terme gliedern   50884           Mathe       de   \n",
       "3982                       ablauf messfeier   51112           Mathe       de   \n",
       "3987               ganzrationale funktionen   51369           Mathe       de   \n",
       "3991                           pflanzzeiten   51384  Nachhaltigkeit       de   \n",
       "3993                 vorkulturen direktsaat   51385  Nachhaltigkeit       de   \n",
       "3995           keimung wachstumsbedingungen   51392  Nachhaltigkeit       de   \n",
       "3997                       potenzfunktionen   51404           Mathe       de   \n",
       "4001                            ausklammern   51468           Mathe       de   \n",
       "4007                 flächeninhalt dreiecks   51490           Mathe       de   \n",
       "4013           rutherfordscher streuversuch   52673          Physik       de   \n",
       "4021                        tangensfunktion   52973           Mathe       de   \n",
       "4041                                 photon   53073          Physik       de   \n",
       "4047                               atomkern   53415          Physik       de   \n",
       "4053                         radioaktivität   53417          Physik       de   \n",
       "4059                              aktivität   53420          Physik       de   \n",
       "4060                           energiedosis   53475          Physik       de   \n",
       "4062                        äquivalentdosis   53494          Physik       de   \n",
       "4064                          halbwertszeit   53514          Physik       de   \n",
       "4066            entwicklung atomvorstellung   53951          Physik       de   \n",
       "4068             rutherfordsches atommodell   53962          Physik       de   \n",
       "4082                            doppelbruch   54253           Mathe       de   \n",
       "4083                      brüche dividieren   54317           Mathe       de   \n",
       "4087                            scheinbruch   54352           Mathe       de   \n",
       "4088                             stammbruch   54372           Mathe       de   \n",
       "4103                  schriftliche division   54618           Mathe       de   \n",
       "4110            schriftliche multiplikation   54829           Mathe       de   \n",
       "4111                              community   54858           Mathe       de   \n",
       "4112                       satz nullprodukt   55437           Mathe       de   \n",
       "4113              wellencharakter elektrons   55476          Physik       de   \n",
       "4129                  rechentricks vorteile   55603           Mathe       de   \n",
       "4131                          einheitskreis   55637           Mathe       de   \n",
       "4136                      natürliche zahlen   55999           Mathe       de   \n",
       "4139                           ganze zahlen   56099           Mathe       de   \n",
       "4145                       rationale zahlen   56112           Mathe       de   \n",
       "4153                          reelle zahlen   56179           Mathe       de   \n",
       "4161                            thaleskreis   56288           Mathe       de   \n",
       "4162                         saatgutauswahl   56561  Nachhaltigkeit       de   \n",
       "4164                            mischkultur   56563  Nachhaltigkeit       de   \n",
       "4166                            fruchtfolge   56565  Nachhaltigkeit       de   \n",
       "4168                          fruchtwechsel   56567  Nachhaltigkeit       de   \n",
       "4170                          kampgane 2016   56662           Mathe       de   \n",
       "4171                   äquivalenzrelationen   56795           Mathe       de   \n",
       "4173                       pflanzenfamilien   56872  Nachhaltigkeit       de   \n",
       "4174             pflanzenfamilien übersicht   56872  Nachhaltigkeit       de   \n",
       "4175                                klassen   57029      Informatik       de   \n",
       "4185                gärtnerische grundlagen   57467  Nachhaltigkeit       de   \n",
       "4187                   material platzbedarf   57477  Nachhaltigkeit       de   \n",
       "4195                     vektor pixelgrafik   57636      Informatik       de   \n",
       "4199                           sektorierung   58305  Nachhaltigkeit       de   \n",
       "4201                         volumenformeln   59099           Mathe       de   \n",
       "4203                  nachhaltige ernährung   59178  Nachhaltigkeit       de   \n",
       "4214                      zufallsexperiment   60088           Mathe       de   \n",
       "4228                klassen grafikdokumente   60404      Informatik       de   \n",
       "4230                  klasse grafikdokument   60404      Informatik       de   \n",
       "4232                           mantelfläche   60970           Mathe       de   \n",
       "4233                        negative zahlen   61990           Mathe       de   \n",
       "4239                   vorzeichen gegenzahl   62547           Mathe       de   \n",
       "4241                             vorzeichen   62547           Mathe       de   \n",
       "4249              ableiten potenzfunktionen   63350           Mathe       de   \n",
       "4253                              adam ries   64002           Mathe       de   \n",
       "4254                     tangenten parabeln   64134           Mathe       de   \n",
       "4256       organisation gemeinschaftsgärten   64343  Nachhaltigkeit       de   \n",
       "4257       einführung infektionskrankheiten   64500        Biologie       de   \n",
       "4261                   bakterieninfektionen   64513        Biologie       de   \n",
       "4265                       virusinfektionen   64515        Biologie       de   \n",
       "4269                                   blut   64572        Biologie       de   \n",
       "4277                      enthält beziehung   64636      Informatik       de   \n",
       "4279                     oberflächenformeln   64697           Mathe       de   \n",
       "4285                             mutationen   64742        Biologie       de   \n",
       "4293                     verdauung menschen   64745        Biologie       de   \n",
       "4301            klassen multimediadokumente   64842      Informatik       de   \n",
       "4303                      gute präsentation   64855      Informatik       de   \n",
       "4307                     mitose zellteilung   65162        Biologie       de   \n",
       "4313                    meiose reifeteilung   65164        Biologie       de   \n",
       "4325                                objekte   65231      Informatik       de   \n",
       "4329                              attribute   65234      Informatik       de   \n",
       "4333                          attributwerte   65237      Informatik       de   \n",
       "4337                               methoden   65239      Informatik       de   \n",
       "4341                          punktnotation   65737      Informatik       de   \n",
       "4343                       aufbau internets   65747      Informatik       de   \n",
       "4346           vierfeldertafel häufigkeiten   66166           Mathe       de   \n",
       "4348                             gedächtnis   66440        Biologie       de   \n",
       "4349                internetseiten aufrufen   66519      Informatik       de   \n",
       "4351                 düngen pflanzenjauchen   67683  Nachhaltigkeit       de   \n",
       "4353                            düngen mist   67732  Nachhaltigkeit       de   \n",
       "4355                                düngung   67907  Nachhaltigkeit       de   \n",
       "4357                   zerlegungsgleichheit   67957           Mathe       de   \n",
       "4359                    bewässerungssysteme   68119  Nachhaltigkeit       de   \n",
       "4361                            gießen hand   68137  Nachhaltigkeit       de   \n",
       "4363             pflanzenschutz schädlingen   68141  Nachhaltigkeit       de   \n",
       "4369                     passwortsicherheit   69504      Informatik       de   \n",
       "4373                     rechnen funktionen   69556      Informatik       de   \n",
       "4375                    bedingte funktionen   69568      Informatik       de   \n",
       "4377                   spezielle funktionen   69587      Informatik       de   \n",
       "4379        datenbankverwaltungssystem dbms   69730      Informatik       de   \n",
       "4387                              schlüssel   69734      Informatik       de   \n",
       "4389                  schlüssel datenbanken   69734      Informatik       de   \n",
       "4391                               abfragen   69747      Informatik       de   \n",
       "4395              vordefinierte anweisungen   70055      Informatik       de   \n",
       "4397              vordefinierte bedingungen   70058      Informatik       de   \n",
       "4401                         wiederholungen   70070      Informatik       de   \n",
       "4403                          struktogramme   70180      Informatik       de   \n",
       "4405            pflanzliche pflanzenmedizin   70263  Nachhaltigkeit       de   \n",
       "4407                         mail allgemein   70308      Informatik       de   \n",
       "4419                       verschicken mail   70714      Informatik       de   \n",
       "4421                                    dna   70762        Biologie       de   \n",
       "4439                                   auge   70830        Biologie       de   \n",
       "4449                            chromosomen   70854        Biologie       de   \n",
       "4461          abweichende chromosomenzahlen   70869        Biologie       de   \n",
       "4467                            klasse mail   71267      Informatik       de   \n",
       "4469                                 dichte   71276          Physik       de   \n",
       "4471                      rechnen einheiten   71315           Mathe       de   \n",
       "4475                          haus vierecke   71317           Mathe       de   \n",
       "4481                     evolutionsbiologie   71520        Biologie       de   \n",
       "4484       grundbegriffe evolutionsbiologie   71520        Biologie       de   \n",
       "4495                                prägung   71592        Biologie       de   \n",
       "4499                   symmetrisches trapez   71611           Mathe       de   \n",
       "4505                                volumen   71630           Mathe       de   \n",
       "4507                        tierische zelle   71631        Biologie       de   \n",
       "4515                      pflanzliche zelle   71639        Biologie       de   \n",
       "4523                           biomembranen   71649        Biologie       de   \n",
       "4535                    merkmale ökosystems   71867        Biologie       de   \n",
       "4539                        inkreis umkreis   71892           Mathe       de   \n",
       "4541                                   html   73649      Informatik       de   \n",
       "4543                    palettenholz nutzen   74575  Nachhaltigkeit       de   \n",
       "4544                    palettenholz giftig   74575  Nachhaltigkeit       de   \n",
       "4545                            klimawandel   74639  Nachhaltigkeit       de   \n",
       "4547                        treibhauseffekt   74653  Nachhaltigkeit       de   \n",
       "4549                        plastik ozeanen   74686  Nachhaltigkeit       de   \n",
       "4551                      virtuelles wasser   74829  Nachhaltigkeit       de   \n",
       "4553                          treibhausgase   74888  Nachhaltigkeit       de   \n",
       "4555                    folgen klimawandels   75079  Nachhaltigkeit       de   \n",
       "4557                  rechentricks addition   75512           Mathe       de   \n",
       "4559                                  klima   76089  Nachhaltigkeit       de   \n",
       "4561                          vorratskammer   76270  Nachhaltigkeit       de   \n",
       "4563                         erntezeitpunkt   76278  Nachhaltigkeit       de   \n",
       "4565                            erntetricks   76284  Nachhaltigkeit       de   \n",
       "4567                  vegetative vermehrung   76657  Nachhaltigkeit       de   \n",
       "4569                       menschliche herz   76985        Biologie       de   \n",
       "4573                          äußere atmung   77093        Biologie       de   \n",
       "4575                  enzymatische prozesse   77105        Biologie       de   \n",
       "4577                                  salze   77125          Chemie       de   \n",
       "4579                              diffusion   77149        Biologie       de   \n",
       "4585                     populationsdynamik   77223        Biologie       de   \n",
       "4587                            katalysator   77224          Chemie       de   \n",
       "4591        silberspiegelprobe tollensprobe   77322          Chemie       de   \n",
       "4597                                   haut   77390        Biologie       de   \n",
       "4599                   stammzellenforschung   77652        Biologie       de   \n",
       "4601                  endosymbiontentheorie   77673        Biologie       de   \n",
       "4605                                  leber   77705        Biologie       de   \n",
       "4607                                  lunge   77721        Biologie       de   \n",
       "4609                          immunisierung   77735        Biologie       de   \n",
       "4611                   immunsystem menschen   77781        Biologie       de   \n",
       "4613                                 alkane   77792          Chemie       de   \n",
       "4615                                 alkene   77809          Chemie       de   \n",
       "4619                        haploid diploid   77988        Biologie       de   \n",
       "4621                               zellkern   77992        Biologie       de   \n",
       "4623                          zeiteinheiten   77998           Mathe       de   \n",
       "4627                                 system   78063        Biologie       de   \n",
       "4631                              mesomerie   78079          Chemie       de   \n",
       "4633                         monosaccharide   78089          Chemie       de   \n",
       "4635                                glucose   78110          Chemie       de   \n",
       "4637                  generative vermehrung   78129  Nachhaltigkeit       de   \n",
       "4639                        saatgutlagerung   78136  Nachhaltigkeit       de   \n",
       "4641                    erneuerbare energie   78256  Nachhaltigkeit       de   \n",
       "4645                           urheberrecht   79220      Informatik       de   \n",
       "4647                 informationssicherheit   79221      Informatik       de   \n",
       "4651                   datenschutz internet   79389      Informatik       de   \n",
       "4655                  geschichte informatik   79723      Informatik       de   \n",
       "4659                        pilze überblick   80412        Biologie       de   \n",
       "4661                   vermehrung bakterien   80435        Biologie       de   \n",
       "4663                                   mund   80464        Biologie       de   \n",
       "4667                       belege evolution   80524        Biologie       de   \n",
       "4669                             artbildung   80653        Biologie       de   \n",
       "4671                     evolutionsfaktoren   80737        Biologie       de   \n",
       "4673                        aufbau pflanzen   80748        Biologie       de   \n",
       "4675                      kovalente bindung   80760          Chemie       de   \n",
       "4677                          metallbindung   80774          Chemie       de   \n",
       "4681                            kooperation   80864        Biologie       de   \n",
       "4687                  nachhaltigkeit alltag   80879  Nachhaltigkeit       de   \n",
       "4689                  umkehrbare reaktionen   80883          Chemie       de   \n",
       "4695                                  glück   80966  Nachhaltigkeit       de   \n",
       "4697                                  titel   81073  Nachhaltigkeit       de   \n",
       "4699                          kommunikation   81914        Biologie       de   \n",
       "4701                      formen aggression   81963        Biologie       de   \n",
       "4713                            codierungen   84604      Informatik       de   \n",
       "4717                  alphanumerische codes   85855      Informatik       de   \n",
       "4719                       graphische codes   85858      Informatik       de   \n",
       "4721                       numerische codes   85864      Informatik       de   \n",
       "4729                          energieträger   86766        Biologie       de   \n",
       "4731                           blütenaufbau   86771        Biologie       de   \n",
       "4733                              lebewesen   86779        Biologie       de   \n",
       "4737                   nahrungsbestandteile   86790        Biologie       de   \n",
       "4739                   evolution vielzeller   86805        Biologie       de   \n",
       "4741                            koevolution   86813        Biologie       de   \n",
       "4743              experimente photosynthese   86861        Biologie       de   \n",
       "4749                 partnerfindung bindung   86898        Biologie       de   \n",
       "4751             paarungssysteme infantizid   86914        Biologie       de   \n",
       "4753                             altruismus   86925        Biologie       de   \n",
       "4755           intensitätsstufen aggression   86936        Biologie       de   \n",
       "4757            formen aggressionskontrolle   86944        Biologie       de   \n",
       "4761                     aggressionsmodelle   86950        Biologie       de   \n",
       "4765                     unbedingte reflexe   86974        Biologie       de   \n",
       "4767               komplexe erbkoordination   87008        Biologie       de   \n",
       "4771                    bedeutsame methoden   87020        Biologie       de   \n",
       "4811                             samenernte   91050  Nachhaltigkeit       de   \n",
       "4813                         sortenvielfalt   91172  Nachhaltigkeit       de   \n",
       "4815                            bodenpflege   91212  Nachhaltigkeit       de   \n",
       "4817                   textil modeindustrie   91567  Nachhaltigkeit       de   \n",
       "4819                    einkochen einwecken   92106  Nachhaltigkeit       de   \n",
       "4821  photosyntheserate absorptionsspektrum   92234        Biologie       de   \n",
       "4823                          sauerteigbrot   92945  Nachhaltigkeit       de   \n",
       "4825                          milchprodukte   92947  Nachhaltigkeit       de   \n",
       "4829                        kleber kleister   92956  Nachhaltigkeit       de   \n",
       "4831            grundlagen datenspeicherung   92969      Informatik       de   \n",
       "4833                            algorithmus   92988      Informatik       de   \n",
       "4835                            binärsystem   92991      Informatik       de   \n",
       "4837                       join operationen   93029      Informatik       de   \n",
       "4843                    regenwasser sammeln   93838  Nachhaltigkeit       de   \n",
       "4849                      sieb eratosthenes   96712           Mathe       de   \n",
       "4851                           balkongärten   96859  Nachhaltigkeit       de   \n",
       "4853                      hexadezimalsystem   97552           Mathe       de   \n",
       "4857                        nullstellenform   99497           Mathe       de   \n",
       "4862                 vegetation regenwaldes   99517      Geographie       de   \n",
       "4863                  hauptnenner variablen   99597           Mathe       de   \n",
       "4871                   tropischer regenwald   99914      Geographie       de   \n",
       "4881               klimadiagramme auswerten  100130      Geographie       de   \n",
       "4883    thermoisoplethendiagramme auswerten  100589      Geographie       de   \n",
       "4884     thermoisoplethendiagramm auswerten  100589      Geographie       de   \n",
       "4891                    regenwaldzerstörung  104206      Geographie       de   \n",
       "4895                  weiterführende themen  105640          Physik       de   \n",
       "4914                  färbe bleichverfahren  108562  Nachhaltigkeit       de   \n",
       "4916                     entstehung plastik  108660  Nachhaltigkeit       de   \n",
       "4919                    plastikalternativen  108675  Nachhaltigkeit       de   \n",
       "4920          plastikrecycling alternativen  108675  Nachhaltigkeit       de   \n",
       "4925                            genmutation  111179        Biologie       de   \n",
       "4927                    chromosomenmutation  111181        Biologie       de   \n",
       "4929                          genommutation  111185        Biologie       de   \n",
       "4931               allopatrische artbildung  111578        Biologie       de   \n",
       "4933                sympatrische artbildung  111603        Biologie       de   \n",
       "4934              sympatrische artenbildung  111603        Biologie       de   \n",
       "4935                             überschlag  111922           Mathe       de   \n",
       "4949                             datentypen  112377      Informatik       de   \n",
       "4951                        poisson klammer  112627          Physik       de   \n",
       "4953                     datenflussdiagramm  113289      Informatik       de   \n",
       "4957                  hamiltonsches prinzip  114026          Physik       de   \n",
       "4958        hamiltonsches variationsprinzip  114026          Physik       de   \n",
       "4959                         warum lagrange  114027          Physik       de   \n",
       "4961                        noether theorem  114028          Physik       de   \n",
       "4963                       alembert prinzip  114029          Physik       de   \n",
       "4964                       alemberg prinzip  114029          Physik       de   \n",
       "4965                legendre transformation  114034          Physik       de   \n",
       "4967                   lagrange gleichungen  114042          Physik       de   \n",
       "4969                    weichtiere ausmacht  114265        Biologie       de   \n",
       "4971                  ringelwürmer ausmacht  114329        Biologie       de   \n",
       "4973                        macht hohltiere  114587        Biologie       de   \n",
       "4975               parapatrische artbildung  114866        Biologie       de   \n",
       "4977                               seewespe  115095        Biologie       de   \n",
       "4979                          rekombination  115139        Biologie       de   \n",
       "4981                               gendrift  115141        Biologie       de   \n",
       "4983                              selektion  115146        Biologie       de   \n",
       "4985                              isolation  115148        Biologie       de   \n",
       "4987                   belege paläontologie  115817        Biologie       de   \n",
       "4989                   divergenz konvergenz  115932        Biologie       de   \n",
       "4995                   belege biogeographie  116006        Biologie       de   \n",
       "4997              planetarische leitplanken  116795  Nachhaltigkeit       de   \n",
       "5009             geschwindigkeit grundlagen  117326          Physik       de   \n",
       "5013                     belegung variablen  117669           Mathe       de   \n",
       "5023         ableitungsregel wurzelfunktion  117722           Mathe       de   \n",
       "5028                          biodiversität  120649  Nachhaltigkeit       de   \n",
       "5033               kreislauf plastikflasche  121489  Nachhaltigkeit       de   \n",
       "5035                            anweisungen  121801      Informatik       de   \n",
       "5039        möglichkeiten plastikverwertung  123349  Nachhaltigkeit       de   \n",
       "5043                    demokrit atommodell  124233          Chemie       de   \n",
       "5053                          stammfunktion  126401           Mathe       de   \n",
       "5057                     kohlenwasserstoffe  127338          Chemie       de   \n",
       "5061                             stoffmenge  127465          Chemie       de   \n",
       "5063                           molare masse  127473          Chemie       de   \n",
       "5065                         molare volumen  127479          Chemie       de   \n",
       "5075                  quantitative analysen  128519          Chemie       de   \n",
       "5077                 intermolekulare kräfte  128636          Chemie       de   \n",
       "5111                                 wörter  130076      Informatik       de   \n",
       "5113                       formale sprachen  130097      Informatik       de   \n",
       "5134                          rhesus system  130954        Biologie       de   \n",
       "5144              beschleunigung grundlagen  131535          Physik       de   \n",
       "5162                          golgi apparat  133567        Biologie       de   \n",
       "5164             endoplasmatische retikulum  133613        Biologie       de   \n",
       "5200                  zusammenfassen termen  135559           Mathe       de   \n",
       "5230                      display ansteuern  136531      Informatik       de   \n",
       "5234                           piezo summer  136566      Informatik       de   \n",
       "5236                       analoge sensoren  136568      Informatik       de   \n",
       "5240                       rfid kartenleser  136572      Informatik       de   \n",
       "5242                       matrix ansteuern  136574      Informatik       de   \n",
       "5246                        drehimpulsgeber  136580      Informatik       de   \n",
       "5266                       homo oeconomicus  139194      Wirtschaft       de   \n",
       "5274                            herzinfarkt  139475        Biologie       de   \n",
       "5276                               inventar  139497      Wirtschaft       de   \n",
       "5278                                 bilanz  139549      Wirtschaft       de   \n",
       "5282                                betrieb  139705      Wirtschaft       de   \n",
       "5284                      angebot nachfrage  139990      Wirtschaft       de   \n",
       "5308                                  array  143284      Informatik       de   \n",
       "5316                       kraft grundlagen  143554          Physik       de   \n",
       "5332                          corioliskraft  148782      Geographie       de   \n",
       "5350                            teilermenge  150401           Mathe       de   \n",
       "5360                          energieformen  152028          Physik       de   \n",
       "5362                             viskosität  152287          Chemie       de   \n",
       "5364                    oberflächenspannung  152289          Chemie       de   \n",
       "5366                  schallgeschwindigkeit  152291          Chemie       de   \n",
       "5368                         verformbarkeit  152293          Chemie       de   \n",
       "5370                            reaktivität  152303          Chemie       de   \n",
       "5372                         säurekonstante  152305          Chemie       de   \n",
       "5374                         basenkonstante  152307          Chemie       de   \n",
       "5376                     elektronegativität  152309          Chemie       de   \n",
       "5378                        bindungsenergie  152311          Chemie       de   \n",
       "5384         oxidationszahl oxidationsstufe  152323          Chemie       de   \n",
       "5386                periodensystem elemente  152324          Chemie       de   \n",
       "5388                         edelgaszustand  152450          Chemie       de   \n",
       "5390                 rechengesetze addition  153072           Mathe       de   \n",
       "5438                             chiralität  153419          Chemie       de   \n",
       "5598                 eigenschaften metallen  154244          Chemie       de   \n",
       "5602                                  atome  154653          Chemie       de   \n",
       "5604        aufstellen reaktionsgleichungen  154656          Chemie       de   \n",
       "5606                               moleküle  154658          Chemie       de   \n",
       "5608                              reduktion  154665          Chemie       de   \n",
       "5610                              oxidation  154812          Chemie       de   \n",
       "5614                                 zweite  154829          Chemie       de   \n",
       "5618                äquivalente gleichungen  154956           Mathe       de   \n",
       "5622                   grundmenge gleichung  154957           Mathe       de   \n",
       "5624                 lösungsmenge gleichung  154971           Mathe       de   \n",
       "5630                               aromaten  155090          Chemie       de   \n",
       "5632                           wertigkeiten  155163          Chemie       de   \n",
       "5638           molekülbaukasten selbstbauen  155299          Chemie       de   \n",
       "5642                        schalenbau erde  155971      Geographie       de   \n",
       "5646         mehrstufige zufallsexperimente  156048           Mathe       de   \n",
       "5650                                sequenz  156879      Informatik       de   \n",
       "5654                        plattentektonik  157071      Geographie       de   \n",
       "5656                           formalladung  157203          Chemie       de   \n",
       "5660                           ionenbindung  157270          Chemie       de   \n",
       "5664               stoffmengenkonzentration  157510          Chemie       de   \n",
       "5666                         redox reaktion  157600          Chemie       de   \n",
       "5668                            salat ampel  157778  Nachhaltigkeit       de   \n",
       "5670                         mandala garten  157784  Nachhaltigkeit       de   \n",
       "5672                            ionenladung  158031          Chemie       de   \n",
       "5674                               edelgase  158092          Chemie       de   \n",
       "5676                          schalenmodell  158205          Chemie       de   \n",
       "5677                          schalenmodell  158205          Physik       de   \n",
       "5680                         orbitaltheorie  158511          Chemie       de   \n",
       "5681                         orbitaltheorie  158511          Physik       de   \n",
       "5684               polarität lösungsmitteln  158528          Chemie       de   \n",
       "5686                      definitionen data  158541      Informatik       de   \n",
       "5690                               alkohole  158562          Chemie       de   \n",
       "5694                       iupac nomeklatur  158568          Chemie       de   \n",
       "5698                               radikale  159666          Chemie       de   \n",
       "5700                                cracken  159668          Chemie       de   \n",
       "5702                                 alkine  159967          Chemie       de   \n",
       "5704         objektorientiertes datenmodell  160080      Informatik       de   \n",
       "5708                          pflichtenheft  160083      Informatik       de   \n",
       "5710           relationales datenbankschema  160123      Informatik       de   \n",
       "5714                    tabellen relationen  160124      Informatik       de   \n",
       "5718                        datenintegrität  160140      Informatik       de   \n",
       "5734            passatkreislauf bearbeitung  160226      Geographie       de   \n",
       "5736                 datenbanktransaktionen  160256      Informatik       de   \n",
       "5740                        strukturformeln  160405          Chemie       de   \n",
       "5742                     acid eigenschaften  160497      Informatik       de   \n",
       "5744              radikalische substitution  160615          Chemie       de   \n",
       "5746                               halogene  160616          Chemie       de   \n",
       "5748                  elektrophile addition  160788          Chemie       de   \n",
       "5750                                isotope  160845          Chemie       de   \n",
       "5752                      referenzattribute  161293      Informatik       de   \n",
       "5758                  rekursive beziehungen  161407      Informatik       de   \n",
       "5760                  redundanz datenbanken  161423      Informatik       de   \n",
       "5762                          alkalimetalle  161845          Chemie       de   \n",
       "5764                  trends periodensystem  161873          Chemie       de   \n",
       "5766                           molekülmasse  161890          Chemie       de   \n",
       "5768                         null datenbank  161967      Informatik       de   \n",
       "5770                    ionisierungsenergie  162004          Chemie       de   \n",
       "5772                    elektronenaffinität  162007          Chemie       de   \n",
       "5780       cheatsheet funktionsmodellierung  163790           Mathe       de   \n",
       "5788                               schätzen  165193           Mathe       de   \n",
       "5790                ortslinien ortsbereiche  165195           Mathe       de   \n",
       "5794                 gleichungen aufstellen  165218           Mathe       de   \n",
       "5796                vulkanismus bearbeitung  166757      Geographie       de   \n",
       "5812                       quellennachweise  167847      Informatik       de   \n",
       "5814                     kategorien quellen  167851      Informatik       de   \n",
       "5850                      aufbau atmosphäre  169056      Geographie       de   \n",
       "5852                vulkanismus deutschland  169596      Geographie       de   \n",
       "5856                          satz kehrsatz  169704           Mathe       de   \n",
       "5860                         einheitsvektor  169766           Mathe       de   \n",
       "5862                 skalare multiplikation  169805           Mathe       de   \n",
       "5864                                 skalar  169806           Mathe       de   \n",
       "5866                            vektorkette  169839           Mathe       de   \n",
       "5868            ortsunabhängigkeit vektoren  169845           Mathe       de   \n",
       "5890                              niño niña  173317      Geographie       de   \n",
       "5894                            objektkarte  174877      Informatik       de   \n",
       "5896                          zahlensysteme  174955      Informatik       de   \n",
       "5902                               promille  175766           Mathe       de   \n",
       "5908                           klassenkarte  176564      Informatik       de   \n",
       "5912                   parameter informatik  176581      Informatik       de   \n",
       "5914                modellierung informatik  176590      Informatik       de   \n",
       "5916                            gegenvektor  177622           Mathe       de   \n",
       "5918                               variable  177823           Mathe       de   \n",
       "5920                                 skonto  178142      Wirtschaft       de   \n",
       "5928                                rabatte  178355      Wirtschaft       de   \n",
       "5930                                  bonus  178732      Wirtschaft       de   \n",
       "5934                          kreisdiagramm  178914           Mathe       de   \n",
       "5936                    lineare abbildungen  179161           Mathe       de   \n",
       "5980                             definition  179744           Mathe       de   \n",
       "5992                 gewinn verlustrechnung  180173      Wirtschaft       de   \n",
       "5996                         gewinn verlust  180846      Wirtschaft       de   \n",
       "5998                     stellenwertsysteme  180887      Informatik       de   \n",
       "6000                               einstieg  181020  Nachhaltigkeit       de   \n",
       "6008                          dezimalsystem  181051      Informatik       de   \n",
       "6012                            oktalsystem  181056      Informatik       de   \n",
       "6016                       additionssysteme  181133      Informatik       de   \n",
       "6018                          hybridsysteme  181135      Informatik       de   \n",
       "6032                         designmethoden  183223  Nachhaltigkeit       de   \n",
       "6034                             vermehrung  184178  Nachhaltigkeit       de   \n",
       "6038                         mehrwertsteuer  184495      Wirtschaft       de   \n",
       "6040                                steuern  184763      Wirtschaft       de   \n",
       "6048                            gartensuche  185551  Nachhaltigkeit       de   \n",
       "6082              eigenschaften algorithmen  185855      Informatik       de   \n",
       "6086                      hexadezimalsystem  186051      Informatik       de   \n",
       "6088               ergebnisräume übertragen  186077           Mathe       de   \n",
       "6090                anpassung ergebnismenge  186079           Mathe       de   \n",
       "6098                  methoden rückgabewert  186798      Informatik       de   \n",
       "6106                kontenplan kontenrahmen  187106      Wirtschaft       de   \n",
       "6108                   interaktive aufgaben  187304           Mathe       de   \n",
       "6110                        römische zahlen  187487      Informatik       de   \n",
       "6116                                cluster  188985      Wirtschaft       de   \n",
       "6117                                cluster  188985      Geographie       de   \n",
       "6122                             pfadregeln  189811           Mathe       de   \n",
       "6124                    klasse textdokument  190446      Informatik       de   \n",
       "6126                          klasse absatz  190456      Informatik       de   \n",
       "6128                         klasse zeichen  190480      Informatik       de   \n",
       "6134                porters diamantenmodell  191608      Geographie       de   \n",
       "6136                 grundsätze besteuerung  192935      Wirtschaft       de   \n",
       "6138                        einkommensteuer  193131      Wirtschaft       de   \n",
       "6140                             lohnsteuer  193200      Wirtschaft       de   \n",
       "6142                           umsatzsteuer  193413      Wirtschaft       de   \n",
       "6144                            hundesteuer  193439      Wirtschaft       de   \n",
       "6146                          kirchensteuer  193464      Wirtschaft       de   \n",
       "6148                    kraftfahrzeugsteuer  193486      Wirtschaft       de   \n",
       "6152                          gewerbesteuer  193578      Wirtschaft       de   \n",
       "6156                            bedingungen  194047      Informatik       de   \n",
       "6177              geometrie übungsbausteine   18574           Mathe       de   \n",
       "6198                 einführung raummessung   19200           Mathe       de   \n",
       "6199                     einführung brüchen   19479           Mathe       de   \n",
       "6204                          dezimalbrüche   19482           Mathe       de   \n",
       "6209                    abiturkurs analysis   19500           Mathe       de   \n",
       "6239                    lineare gleichungen   19550           Mathe       de   \n",
       "6245          sachaufgaben grundrechenarten   19552           Mathe       de   \n",
       "6246             überblick achsenspiegelung   19581           Mathe       de   \n",
       "6251                    überblick geometrie   20693           Mathe       de   \n",
       "6254                     übersicht vektoren   30188           Mathe       de   \n",
       "6262                   nullstellen funktion   31371           Mathe       de   \n",
       "6277                               testkurs   34278  Nachhaltigkeit       de   \n",
       "6304               anleitung kräuterspirale   35104  Nachhaltigkeit       de   \n",
       "6318               anleitung solartrockners   36087  Nachhaltigkeit       de   \n",
       "6320                   anleitung salatturms   36731  Nachhaltigkeit       de   \n",
       "6338              einführung programmierung   39186      Informatik       de   \n",
       "6340                    anleitung hochbeets   40382  Nachhaltigkeit       de   \n",
       "6346                               testkurs   41479           Mathe       de   \n",
       "6366                          dna isolieren   46541        Biologie       de   \n",
       "6367                  abiturkurs stochastik   46743           Mathe       de   \n",
       "6373                             informatik   47871      Informatik       de   \n",
       "6374                     kompostgüte testen   48823  Nachhaltigkeit       de   \n",
       "6378                        teebeutelrakete   50701        Biologie       de   \n",
       "6385              teilchencharakter photons   51971          Physik       de   \n",
       "6390                 kursseiten speicherung   52197           Mathe       de   \n",
       "6395               vielfachheit nullstellen   53852           Mathe       de   \n",
       "6403          umwandeln ebenendarstellungen   56476           Mathe       de   \n",
       "6405                   abiturkurs geometrie   57668           Mathe       de   \n",
       "6408           chromatographie funktioniert   58381        Biologie       de   \n",
       "6409          problematische prozentangaben   59964           Mathe       de   \n",
       "6419        videokurs exponentialfunktionen   62900           Mathe       de   \n",
       "6423              stoffe stoffeigenschaften   63494          Chemie       de   \n",
       "6431              polynomdivision verfahren   67222           Mathe       de   \n",
       "6435                         richtig düngen   67734  Nachhaltigkeit       de   \n",
       "6438                            aussaaterde   69841  Nachhaltigkeit       de   \n",
       "6460                              schnecken   75941  Nachhaltigkeit       de   \n",
       "6464                konstruierbare dreiecke   78680           Mathe       de   \n",
       "6466                 konstruktion dreiecken   79128           Mathe       de   \n",
       "6468                      boden untersuchen   79849  Nachhaltigkeit       de   \n",
       "6470                         quadratwurzeln   83733           Mathe       de   \n",
       "6472                   berechnungen wurzeln   84096           Mathe       de   \n",
       "6480                  nullstellenberechnung   86799           Mathe       de   \n",
       "6481              einführungskurs ableitung   90902           Mathe       de   \n",
       "6484                     wintervorbereitung   91091  Nachhaltigkeit       de   \n",
       "6485                          ziegenproblem   91405           Mathe       de   \n",
       "6486                         richtig lagern   91964  Nachhaltigkeit       de   \n",
       "6488                       keimprobe machen   92163  Nachhaltigkeit       de   \n",
       "6490      installation tröpfchenbewässerung   93814  Nachhaltigkeit       de   \n",
       "6495            einführung bruchgleichungen   99489           Mathe       de   \n",
       "6500                             normalizer  104840           Mathe       de   \n",
       "6518                     upcycling kleidung  108472  Nachhaltigkeit       de   \n",
       "6519                    flasche anzuchttopf  108699  Nachhaltigkeit       de   \n",
       "6520            einführungskurs schaltnetze  109267      Informatik       de   \n",
       "6522                     ableitung integral  113124           Mathe       de   \n",
       "6524                             funktionen  113266      Informatik       de   \n",
       "6525   aufbau tabellenkalkulationsprogramms  113543      Informatik       de   \n",
       "6532             einführung geschwindigkeit  117482          Physik       de   \n",
       "6544                  vertiefungskurs redox  127658          Chemie       de   \n",
       "6545                                metalle  127687          Chemie       de   \n",
       "6547                                vorwort  129861      Informatik       de   \n",
       "6548              vorbereitung installation  129900      Informatik       de   \n",
       "6549                             grundlagen  129917      Informatik       de   \n",
       "6561                         ordnen brüchen  132762           Mathe       de   \n",
       "6570                  grundbaustoffe zellen  137226        Biologie       de   \n",
       "6575              erweiterungskurs internet  138936      Informatik       de   \n",
       "6578            einführung integralfunktion  139222           Mathe       de   \n",
       "6579                     plastikfrei alltag  140256  Nachhaltigkeit       de   \n",
       "6583                    bewerbungsschreiben  143447      Wirtschaft       de   \n",
       "6585                     bewerbungsgespräch  143460      Wirtschaft       de   \n",
       "6587                              einheiten  145421           Mathe       de   \n",
       "6590                 experimentieren chemie  155715          Chemie       de   \n",
       "6597                    rechnen bruchtermen  156343           Mathe       de   \n",
       "6601                    einführung abfragen  161018      Informatik       de   \n",
       "6603                beziehungen datenbanken  161276      Informatik       de   \n",
       "6605                  anomalien datenbanken  161470      Informatik       de   \n",
       "6607                    negative exponenten  162011           Mathe       de   \n",
       "6613                        linsengleichung  167868          Physik       de   \n",
       "6618                        einführung java  174673      Informatik       de   \n",
       "6623                     terme vereinfachen  177820           Mathe       de   \n",
       "6626                      rechnen variablen  177829           Mathe       de   \n",
       "6636                        balkon insekten  186265  Nachhaltigkeit       de   \n",
       "6644            datenstrukturen algorithmen  194044      Informatik       de   \n",
       "\n",
       "       scope  \n",
       "0     schule  \n",
       "17    schule  \n",
       "29    schule  \n",
       "45    schule  \n",
       "63    schule  \n",
       "75    schule  \n",
       "95    schule  \n",
       "113   schule  \n",
       "123   schule  \n",
       "137   schule  \n",
       "138   schule  \n",
       "140   schule  \n",
       "150   schule  \n",
       "166   schule  \n",
       "174   schule  \n",
       "182   schule  \n",
       "196   schule  \n",
       "206   schule  \n",
       "218   schule  \n",
       "228   schule  \n",
       "238   schule  \n",
       "264   schule  \n",
       "277   schule  \n",
       "287   schule  \n",
       "297   schule  \n",
       "305   schule  \n",
       "319   schule  \n",
       "333   schule  \n",
       "351   schule  \n",
       "365   schule  \n",
       "371   schule  \n",
       "383   schule  \n",
       "423   schule  \n",
       "427   schule  \n",
       "441   schule  \n",
       "459   schule  \n",
       "469   schule  \n",
       "481   schule  \n",
       "491   schule  \n",
       "527   schule  \n",
       "533   schule  \n",
       "547   schule  \n",
       "553   schule  \n",
       "559   schule  \n",
       "565   schule  \n",
       "573   schule  \n",
       "589   schule  \n",
       "594   schule  \n",
       "599   schule  \n",
       "604   schule  \n",
       "612   schule  \n",
       "618   schule  \n",
       "620   schule  \n",
       "646   schule  \n",
       "660   schule  \n",
       "664   schule  \n",
       "668   schule  \n",
       "688   schule  \n",
       "698   schule  \n",
       "710   schule  \n",
       "724   schule  \n",
       "736   schule  \n",
       "739   schule  \n",
       "740   schule  \n",
       "752   schule  \n",
       "753   schule  \n",
       "755   schule  \n",
       "763   schule  \n",
       "764   schule  \n",
       "770   schule  \n",
       "780   schule  \n",
       "786   schule  \n",
       "802   schule  \n",
       "820   schule  \n",
       "836   schule  \n",
       "852   schule  \n",
       "858   schule  \n",
       "878   schule  \n",
       "890   schule  \n",
       "898   schule  \n",
       "904   schule  \n",
       "912   schule  \n",
       "922   schule  \n",
       "930   schule  \n",
       "935   schule  \n",
       "940   schule  \n",
       "948   schule  \n",
       "956   schule  \n",
       "964   schule  \n",
       "966   schule  \n",
       "978   schule  \n",
       "986   schule  \n",
       "1002  schule  \n",
       "1024  schule  \n",
       "1040  schule  \n",
       "1052  schule  \n",
       "1054  schule  \n",
       "1074  schule  \n",
       "1090  schule  \n",
       "1102  schule  \n",
       "1103  schule  \n",
       "1104  schule  \n",
       "1110  schule  \n",
       "1144  schule  \n",
       "1174  schule  \n",
       "1176  schule  \n",
       "1180  schule  \n",
       "1194  schule  \n",
       "1198  schule  \n",
       "1208  schule  \n",
       "1220  schule  \n",
       "1236  schule  \n",
       "1252  schule  \n",
       "1272  schule  \n",
       "1276  schule  \n",
       "1288  schule  \n",
       "1304  schule  \n",
       "1316  schule  \n",
       "1328  schule  \n",
       "1346  schule  \n",
       "1366  schule  \n",
       "1386  schule  \n",
       "1392  schule  \n",
       "1398  schule  \n",
       "1402  schule  \n",
       "1404  schule  \n",
       "1414  schule  \n",
       "1434  schule  \n",
       "1454  schule  \n",
       "1466  schule  \n",
       "1468  schule  \n",
       "1484  schule  \n",
       "1500  schule  \n",
       "1502  schule  \n",
       "1503  schule  \n",
       "1506  schule  \n",
       "1512  schule  \n",
       "1524  schule  \n",
       "1536  schule  \n",
       "1539  schule  \n",
       "1549  schule  \n",
       "1559  schule  \n",
       "1570  schule  \n",
       "1580  schule  \n",
       "1584  schule  \n",
       "1596  schule  \n",
       "1600  schule  \n",
       "1610  schule  \n",
       "1626  schule  \n",
       "1630  schule  \n",
       "1642  schule  \n",
       "1643  schule  \n",
       "1655  schule  \n",
       "1665  schule  \n",
       "1675  schule  \n",
       "1689  schule  \n",
       "1699  schule  \n",
       "1708  schule  \n",
       "1728  schule  \n",
       "1734  schule  \n",
       "1752  schule  \n",
       "1758  schule  \n",
       "1770  schule  \n",
       "1780  schule  \n",
       "1792  schule  \n",
       "1808  schule  \n",
       "1812  schule  \n",
       "1822  schule  \n",
       "1838  schule  \n",
       "1844  schule  \n",
       "1852  schule  \n",
       "1860  schule  \n",
       "1876  schule  \n",
       "1883  schule  \n",
       "1889  schule  \n",
       "1891  schule  \n",
       "1913  schule  \n",
       "1919  schule  \n",
       "1966  schule  \n",
       "1971  schule  \n",
       "1976  schule  \n",
       "1990  schule  \n",
       "1994  schule  \n",
       "2002  schule  \n",
       "2006  schule  \n",
       "2010  schule  \n",
       "2022  schule  \n",
       "2023  schule  \n",
       "2029  schule  \n",
       "2031  schule  \n",
       "2051  schule  \n",
       "2054  schule  \n",
       "2057  schule  \n",
       "2080  schule  \n",
       "2086  schule  \n",
       "2092  schule  \n",
       "2112  schule  \n",
       "2118  schule  \n",
       "2126  schule  \n",
       "2128  schule  \n",
       "2136  schule  \n",
       "2137  schule  \n",
       "2147  schule  \n",
       "2161  schule  \n",
       "2165  schule  \n",
       "2177  schule  \n",
       "2183  schule  \n",
       "2189  schule  \n",
       "2195  schule  \n",
       "2201  schule  \n",
       "2215  schule  \n",
       "2221  schule  \n",
       "2225  schule  \n",
       "2231  schule  \n",
       "2237  schule  \n",
       "2240  schule  \n",
       "2243  schule  \n",
       "2249  schule  \n",
       "2258  schule  \n",
       "2267  schule  \n",
       "2279  schule  \n",
       "2289  schule  \n",
       "2295  schule  \n",
       "2299  schule  \n",
       "2302  schule  \n",
       "2322  schule  \n",
       "2326  schule  \n",
       "2330  schule  \n",
       "2334  schule  \n",
       "2340  schule  \n",
       "2346  schule  \n",
       "2347  schule  \n",
       "2357  schule  \n",
       "2367  schule  \n",
       "2375  schule  \n",
       "2377  schule  \n",
       "2398  schule  \n",
       "2412  schule  \n",
       "2422  schule  \n",
       "2430  schule  \n",
       "2438  schule  \n",
       "2448  schule  \n",
       "2464  schule  \n",
       "2476  schule  \n",
       "2488  schule  \n",
       "2492  schule  \n",
       "2498  schule  \n",
       "2510  schule  \n",
       "2511  schule  \n",
       "2529  schule  \n",
       "2559  schule  \n",
       "2565  schule  \n",
       "2573  schule  \n",
       "2579  schule  \n",
       "2580  schule  \n",
       "2581  schule  \n",
       "2583  schule  \n",
       "2585  schule  \n",
       "2586  schule  \n",
       "2588  schule  \n",
       "2596  schule  \n",
       "2612  schule  \n",
       "2622  schule  \n",
       "2626  schule  \n",
       "2640  schule  \n",
       "2648  schule  \n",
       "2653  schule  \n",
       "2659  schule  \n",
       "2668  schule  \n",
       "2674  schule  \n",
       "2678  schule  \n",
       "2680  schule  \n",
       "2684  schule  \n",
       "2690  schule  \n",
       "2696  schule  \n",
       "2721  schule  \n",
       "2737  schule  \n",
       "2748  schule  \n",
       "2774  schule  \n",
       "2776  schule  \n",
       "2780  schule  \n",
       "2805  schule  \n",
       "2812  schule  \n",
       "2853  schule  \n",
       "2854  schule  \n",
       "2855  schule  \n",
       "2861  schule  \n",
       "2869  schule  \n",
       "2872  schule  \n",
       "2882  schule  \n",
       "2884  schule  \n",
       "2896  schule  \n",
       "2902  schule  \n",
       "2914  schule  \n",
       "2920  schule  \n",
       "2926  schule  \n",
       "2938  schule  \n",
       "2944  schule  \n",
       "2950  schule  \n",
       "2952  schule  \n",
       "2956  schule  \n",
       "2958  schule  \n",
       "2960  schule  \n",
       "2963  schule  \n",
       "2964  schule  \n",
       "2965  schule  \n",
       "2967  schule  \n",
       "2968  schule  \n",
       "2969  schule  \n",
       "2971  schule  \n",
       "2973  schule  \n",
       "2974  schule  \n",
       "2976  schule  \n",
       "2980  schule  \n",
       "2981  schule  \n",
       "2982  schule  \n",
       "2983  schule  \n",
       "2984  schule  \n",
       "2985  schule  \n",
       "2987  schule  \n",
       "2989  schule  \n",
       "2991  schule  \n",
       "2993  schule  \n",
       "2995  schule  \n",
       "2997  schule  \n",
       "2999  schule  \n",
       "3000  schule  \n",
       "3004  schule  \n",
       "3006  schule  \n",
       "3007  schule  \n",
       "3008  schule  \n",
       "3009  schule  \n",
       "3010  schule  \n",
       "3011  schule  \n",
       "3012  schule  \n",
       "3016  schule  \n",
       "3018  schule  \n",
       "3020  schule  \n",
       "3021  schule  \n",
       "3022  schule  \n",
       "3023  schule  \n",
       "3024  schule  \n",
       "3025  schule  \n",
       "3036  schule  \n",
       "3051  schule  \n",
       "3055  schule  \n",
       "3064  schule  \n",
       "3065  schule  \n",
       "3068  schule  \n",
       "3069  schule  \n",
       "3073  schule  \n",
       "3076  schule  \n",
       "3079  schule  \n",
       "3082  schule  \n",
       "3085  schule  \n",
       "3089  schule  \n",
       "3093  schule  \n",
       "3095  schule  \n",
       "3099  schule  \n",
       "3103  schule  \n",
       "3109  schule  \n",
       "3138  schule  \n",
       "3159  schule  \n",
       "3167  schule  \n",
       "3168  schule  \n",
       "3176  schule  \n",
       "3186  schule  \n",
       "3210  schule  \n",
       "3222  schule  \n",
       "3224  schule  \n",
       "3230  schule  \n",
       "3231  schule  \n",
       "3232  schule  \n",
       "3258  schule  \n",
       "3278  schule  \n",
       "3285  schule  \n",
       "3293  schule  \n",
       "3295  schule  \n",
       "3297  schule  \n",
       "3299  schule  \n",
       "3301  schule  \n",
       "3305  schule  \n",
       "3306  schule  \n",
       "3313  schule  \n",
       "3315  schule  \n",
       "3317  schule  \n",
       "3321  schule  \n",
       "3334  schule  \n",
       "3346  schule  \n",
       "3352  schule  \n",
       "3377  schule  \n",
       "3383  schule  \n",
       "3385  schule  \n",
       "3386  schule  \n",
       "3388  schule  \n",
       "3390  schule  \n",
       "3452  schule  \n",
       "3455  schule  \n",
       "3472  schule  \n",
       "3474  schule  \n",
       "3482  schule  \n",
       "3500  schule  \n",
       "3506  schule  \n",
       "3516  schule  \n",
       "3530  schule  \n",
       "3538  schule  \n",
       "3540  schule  \n",
       "3546  schule  \n",
       "3550  schule  \n",
       "3562  schule  \n",
       "3578  schule  \n",
       "3580  schule  \n",
       "3585  schule  \n",
       "3595  schule  \n",
       "3603  schule  \n",
       "3609  schule  \n",
       "3619  schule  \n",
       "3621  schule  \n",
       "3623  schule  \n",
       "3629  schule  \n",
       "3632  schule  \n",
       "3641  schule  \n",
       "3647  schule  \n",
       "3649  schule  \n",
       "3657  schule  \n",
       "3667  schule  \n",
       "3673  schule  \n",
       "3683  schule  \n",
       "3691  schule  \n",
       "3697  schule  \n",
       "3699  schule  \n",
       "3701  schule  \n",
       "3703  schule  \n",
       "3715  schule  \n",
       "3717  schule  \n",
       "3721  schule  \n",
       "3723  schule  \n",
       "3728  schule  \n",
       "3752  schule  \n",
       "3761  schule  \n",
       "3764  schule  \n",
       "3772  schule  \n",
       "3774  schule  \n",
       "3776  schule  \n",
       "3780  schule  \n",
       "3783  schule  \n",
       "3785  schule  \n",
       "3787  schule  \n",
       "3790  schule  \n",
       "3793  schule  \n",
       "3795  schule  \n",
       "3799  schule  \n",
       "3807  schule  \n",
       "3811  schule  \n",
       "3813  schule  \n",
       "3817  schule  \n",
       "3819  schule  \n",
       "3822  schule  \n",
       "3834  schule  \n",
       "3864  schule  \n",
       "3876  schule  \n",
       "3881  schule  \n",
       "3889  schule  \n",
       "3891  schule  \n",
       "3895  schule  \n",
       "3897  schule  \n",
       "3899  schule  \n",
       "3901  schule  \n",
       "3905  schule  \n",
       "3909  schule  \n",
       "3911  schule  \n",
       "3919  schule  \n",
       "3921  schule  \n",
       "3925  schule  \n",
       "3931  schule  \n",
       "3936  schule  \n",
       "3942  schule  \n",
       "3946  schule  \n",
       "3948  schule  \n",
       "3951  schule  \n",
       "3958  schule  \n",
       "3962  schule  \n",
       "3964  schule  \n",
       "3965  schule  \n",
       "3969  schule  \n",
       "3971  schule  \n",
       "3973  schule  \n",
       "3982  schule  \n",
       "3987  schule  \n",
       "3991  schule  \n",
       "3993  schule  \n",
       "3995  schule  \n",
       "3997  schule  \n",
       "4001  schule  \n",
       "4007  schule  \n",
       "4013  schule  \n",
       "4021  schule  \n",
       "4041  schule  \n",
       "4047  schule  \n",
       "4053  schule  \n",
       "4059  schule  \n",
       "4060  schule  \n",
       "4062  schule  \n",
       "4064  schule  \n",
       "4066  schule  \n",
       "4068  schule  \n",
       "4082  schule  \n",
       "4083  schule  \n",
       "4087  schule  \n",
       "4088  schule  \n",
       "4103  schule  \n",
       "4110  schule  \n",
       "4111  schule  \n",
       "4112  schule  \n",
       "4113  schule  \n",
       "4129  schule  \n",
       "4131  schule  \n",
       "4136  schule  \n",
       "4139  schule  \n",
       "4145  schule  \n",
       "4153  schule  \n",
       "4161  schule  \n",
       "4162  schule  \n",
       "4164  schule  \n",
       "4166  schule  \n",
       "4168  schule  \n",
       "4170  schule  \n",
       "4171  schule  \n",
       "4173  schule  \n",
       "4174  schule  \n",
       "4175  schule  \n",
       "4185  schule  \n",
       "4187  schule  \n",
       "4195  schule  \n",
       "4199  schule  \n",
       "4201  schule  \n",
       "4203  schule  \n",
       "4214  schule  \n",
       "4228  schule  \n",
       "4230  schule  \n",
       "4232  schule  \n",
       "4233  schule  \n",
       "4239  schule  \n",
       "4241  schule  \n",
       "4249  schule  \n",
       "4253  schule  \n",
       "4254  schule  \n",
       "4256  schule  \n",
       "4257  schule  \n",
       "4261  schule  \n",
       "4265  schule  \n",
       "4269  schule  \n",
       "4277  schule  \n",
       "4279  schule  \n",
       "4285  schule  \n",
       "4293  schule  \n",
       "4301  schule  \n",
       "4303  schule  \n",
       "4307  schule  \n",
       "4313  schule  \n",
       "4325  schule  \n",
       "4329  schule  \n",
       "4333  schule  \n",
       "4337  schule  \n",
       "4341  schule  \n",
       "4343  schule  \n",
       "4346  schule  \n",
       "4348  schule  \n",
       "4349  schule  \n",
       "4351  schule  \n",
       "4353  schule  \n",
       "4355  schule  \n",
       "4357  schule  \n",
       "4359  schule  \n",
       "4361  schule  \n",
       "4363  schule  \n",
       "4369  schule  \n",
       "4373  schule  \n",
       "4375  schule  \n",
       "4377  schule  \n",
       "4379  schule  \n",
       "4387  schule  \n",
       "4389  schule  \n",
       "4391  schule  \n",
       "4395  schule  \n",
       "4397  schule  \n",
       "4401  schule  \n",
       "4403  schule  \n",
       "4405  schule  \n",
       "4407  schule  \n",
       "4419  schule  \n",
       "4421  schule  \n",
       "4439  schule  \n",
       "4449  schule  \n",
       "4461  schule  \n",
       "4467  schule  \n",
       "4469  schule  \n",
       "4471  schule  \n",
       "4475  schule  \n",
       "4481  schule  \n",
       "4484  schule  \n",
       "4495  schule  \n",
       "4499  schule  \n",
       "4505  schule  \n",
       "4507  schule  \n",
       "4515  schule  \n",
       "4523  schule  \n",
       "4535  schule  \n",
       "4539  schule  \n",
       "4541  schule  \n",
       "4543  schule  \n",
       "4544  schule  \n",
       "4545  schule  \n",
       "4547  schule  \n",
       "4549  schule  \n",
       "4551  schule  \n",
       "4553  schule  \n",
       "4555  schule  \n",
       "4557  schule  \n",
       "4559  schule  \n",
       "4561  schule  \n",
       "4563  schule  \n",
       "4565  schule  \n",
       "4567  schule  \n",
       "4569  schule  \n",
       "4573  schule  \n",
       "4575  schule  \n",
       "4577  schule  \n",
       "4579  schule  \n",
       "4585  schule  \n",
       "4587  schule  \n",
       "4591  schule  \n",
       "4597  schule  \n",
       "4599  schule  \n",
       "4601  schule  \n",
       "4605  schule  \n",
       "4607  schule  \n",
       "4609  schule  \n",
       "4611  schule  \n",
       "4613  schule  \n",
       "4615  schule  \n",
       "4619  schule  \n",
       "4621  schule  \n",
       "4623  schule  \n",
       "4627  schule  \n",
       "4631  schule  \n",
       "4633  schule  \n",
       "4635  schule  \n",
       "4637  schule  \n",
       "4639  schule  \n",
       "4641  schule  \n",
       "4645  schule  \n",
       "4647  schule  \n",
       "4651  schule  \n",
       "4655  schule  \n",
       "4659  schule  \n",
       "4661  schule  \n",
       "4663  schule  \n",
       "4667  schule  \n",
       "4669  schule  \n",
       "4671  schule  \n",
       "4673  schule  \n",
       "4675  schule  \n",
       "4677  schule  \n",
       "4681  schule  \n",
       "4687  schule  \n",
       "4689  schule  \n",
       "4695  schule  \n",
       "4697  schule  \n",
       "4699  schule  \n",
       "4701  schule  \n",
       "4713  schule  \n",
       "4717  schule  \n",
       "4719  schule  \n",
       "4721  schule  \n",
       "4729  schule  \n",
       "4731  schule  \n",
       "4733  schule  \n",
       "4737  schule  \n",
       "4739  schule  \n",
       "4741  schule  \n",
       "4743  schule  \n",
       "4749  schule  \n",
       "4751  schule  \n",
       "4753  schule  \n",
       "4755  schule  \n",
       "4757  schule  \n",
       "4761  schule  \n",
       "4765  schule  \n",
       "4767  schule  \n",
       "4771  schule  \n",
       "4811  schule  \n",
       "4813  schule  \n",
       "4815  schule  \n",
       "4817  schule  \n",
       "4819  schule  \n",
       "4821  schule  \n",
       "4823  schule  \n",
       "4825  schule  \n",
       "4829  schule  \n",
       "4831  schule  \n",
       "4833  schule  \n",
       "4835  schule  \n",
       "4837  schule  \n",
       "4843  schule  \n",
       "4849  schule  \n",
       "4851  schule  \n",
       "4853  schule  \n",
       "4857  schule  \n",
       "4862  schule  \n",
       "4863  schule  \n",
       "4871  schule  \n",
       "4881  schule  \n",
       "4883  schule  \n",
       "4884  schule  \n",
       "4891  schule  \n",
       "4895  schule  \n",
       "4914  schule  \n",
       "4916  schule  \n",
       "4919  schule  \n",
       "4920  schule  \n",
       "4925  schule  \n",
       "4927  schule  \n",
       "4929  schule  \n",
       "4931  schule  \n",
       "4933  schule  \n",
       "4934  schule  \n",
       "4935  schule  \n",
       "4949  schule  \n",
       "4951  schule  \n",
       "4953  schule  \n",
       "4957  schule  \n",
       "4958  schule  \n",
       "4959  schule  \n",
       "4961  schule  \n",
       "4963  schule  \n",
       "4964  schule  \n",
       "4965  schule  \n",
       "4967  schule  \n",
       "4969  schule  \n",
       "4971  schule  \n",
       "4973  schule  \n",
       "4975  schule  \n",
       "4977  schule  \n",
       "4979  schule  \n",
       "4981  schule  \n",
       "4983  schule  \n",
       "4985  schule  \n",
       "4987  schule  \n",
       "4989  schule  \n",
       "4995  schule  \n",
       "4997  schule  \n",
       "5009  schule  \n",
       "5013  schule  \n",
       "5023  schule  \n",
       "5028  schule  \n",
       "5033  schule  \n",
       "5035  schule  \n",
       "5039  schule  \n",
       "5043  schule  \n",
       "5053  schule  \n",
       "5057  schule  \n",
       "5061  schule  \n",
       "5063  schule  \n",
       "5065  schule  \n",
       "5075  schule  \n",
       "5077  schule  \n",
       "5111  schule  \n",
       "5113  schule  \n",
       "5134  schule  \n",
       "5144  schule  \n",
       "5162  schule  \n",
       "5164  schule  \n",
       "5200  schule  \n",
       "5230  schule  \n",
       "5234  schule  \n",
       "5236  schule  \n",
       "5240  schule  \n",
       "5242  schule  \n",
       "5246  schule  \n",
       "5266  schule  \n",
       "5274  schule  \n",
       "5276  schule  \n",
       "5278  schule  \n",
       "5282  schule  \n",
       "5284  schule  \n",
       "5308  schule  \n",
       "5316  schule  \n",
       "5332  schule  \n",
       "5350  schule  \n",
       "5360  schule  \n",
       "5362  schule  \n",
       "5364  schule  \n",
       "5366  schule  \n",
       "5368  schule  \n",
       "5370  schule  \n",
       "5372  schule  \n",
       "5374  schule  \n",
       "5376  schule  \n",
       "5378  schule  \n",
       "5384  schule  \n",
       "5386  schule  \n",
       "5388  schule  \n",
       "5390  schule  \n",
       "5438  schule  \n",
       "5598  schule  \n",
       "5602  schule  \n",
       "5604  schule  \n",
       "5606  schule  \n",
       "5608  schule  \n",
       "5610  schule  \n",
       "5614  schule  \n",
       "5618  schule  \n",
       "5622  schule  \n",
       "5624  schule  \n",
       "5630  schule  \n",
       "5632  schule  \n",
       "5638  schule  \n",
       "5642  schule  \n",
       "5646  schule  \n",
       "5650  schule  \n",
       "5654  schule  \n",
       "5656  schule  \n",
       "5660  schule  \n",
       "5664  schule  \n",
       "5666  schule  \n",
       "5668  schule  \n",
       "5670  schule  \n",
       "5672  schule  \n",
       "5674  schule  \n",
       "5676  schule  \n",
       "5677  schule  \n",
       "5680  schule  \n",
       "5681  schule  \n",
       "5684  schule  \n",
       "5686  schule  \n",
       "5690  schule  \n",
       "5694  schule  \n",
       "5698  schule  \n",
       "5700  schule  \n",
       "5702  schule  \n",
       "5704  schule  \n",
       "5708  schule  \n",
       "5710  schule  \n",
       "5714  schule  \n",
       "5718  schule  \n",
       "5734  schule  \n",
       "5736  schule  \n",
       "5740  schule  \n",
       "5742  schule  \n",
       "5744  schule  \n",
       "5746  schule  \n",
       "5748  schule  \n",
       "5750  schule  \n",
       "5752  schule  \n",
       "5758  schule  \n",
       "5760  schule  \n",
       "5762  schule  \n",
       "5764  schule  \n",
       "5766  schule  \n",
       "5768  schule  \n",
       "5770  schule  \n",
       "5772  schule  \n",
       "5780  schule  \n",
       "5788  schule  \n",
       "5790  schule  \n",
       "5794  schule  \n",
       "5796  schule  \n",
       "5812  schule  \n",
       "5814  schule  \n",
       "5850  schule  \n",
       "5852  schule  \n",
       "5856  schule  \n",
       "5860  schule  \n",
       "5862  schule  \n",
       "5864  schule  \n",
       "5866  schule  \n",
       "5868  schule  \n",
       "5890  schule  \n",
       "5894  schule  \n",
       "5896  schule  \n",
       "5902  schule  \n",
       "5908  schule  \n",
       "5912  schule  \n",
       "5914  schule  \n",
       "5916  schule  \n",
       "5918  schule  \n",
       "5920  schule  \n",
       "5928  schule  \n",
       "5930  schule  \n",
       "5934  schule  \n",
       "5936  schule  \n",
       "5980  schule  \n",
       "5992  schule  \n",
       "5996  schule  \n",
       "5998  schule  \n",
       "6000  schule  \n",
       "6008  schule  \n",
       "6012  schule  \n",
       "6016  schule  \n",
       "6018  schule  \n",
       "6032  schule  \n",
       "6034  schule  \n",
       "6038  schule  \n",
       "6040  schule  \n",
       "6048  schule  \n",
       "6082  schule  \n",
       "6086  schule  \n",
       "6088  schule  \n",
       "6090  schule  \n",
       "6098  schule  \n",
       "6106  schule  \n",
       "6108  schule  \n",
       "6110  schule  \n",
       "6116  schule  \n",
       "6117  schule  \n",
       "6122  schule  \n",
       "6124  schule  \n",
       "6126  schule  \n",
       "6128  schule  \n",
       "6134  schule  \n",
       "6136  schule  \n",
       "6138  schule  \n",
       "6140  schule  \n",
       "6142  schule  \n",
       "6144  schule  \n",
       "6146  schule  \n",
       "6148  schule  \n",
       "6152  schule  \n",
       "6156  schule  \n",
       "6177  schule  \n",
       "6198  schule  \n",
       "6199  schule  \n",
       "6204  schule  \n",
       "6209  schule  \n",
       "6239  schule  \n",
       "6245  schule  \n",
       "6246  schule  \n",
       "6251  schule  \n",
       "6254  schule  \n",
       "6262  schule  \n",
       "6277  schule  \n",
       "6304  schule  \n",
       "6318  schule  \n",
       "6320  schule  \n",
       "6338  schule  \n",
       "6340  schule  \n",
       "6346  schule  \n",
       "6366  schule  \n",
       "6367  schule  \n",
       "6373  schule  \n",
       "6374  schule  \n",
       "6378  schule  \n",
       "6385  schule  \n",
       "6390  schule  \n",
       "6395  schule  \n",
       "6403  schule  \n",
       "6405  schule  \n",
       "6408  schule  \n",
       "6409  schule  \n",
       "6419  schule  \n",
       "6423  schule  \n",
       "6431  schule  \n",
       "6435  schule  \n",
       "6438  schule  \n",
       "6460  schule  \n",
       "6464  schule  \n",
       "6466  schule  \n",
       "6468  schule  \n",
       "6470  schule  \n",
       "6472  schule  \n",
       "6480  schule  \n",
       "6481  schule  \n",
       "6484  schule  \n",
       "6485  schule  \n",
       "6486  schule  \n",
       "6488  schule  \n",
       "6490  schule  \n",
       "6495  schule  \n",
       "6500  schule  \n",
       "6518  schule  \n",
       "6519  schule  \n",
       "6520  schule  \n",
       "6522  schule  \n",
       "6524  schule  \n",
       "6525  schule  \n",
       "6532  schule  \n",
       "6544  schule  \n",
       "6545  schule  \n",
       "6547  schule  \n",
       "6548  schule  \n",
       "6549  schule  \n",
       "6561  schule  \n",
       "6570  schule  \n",
       "6575  schule  \n",
       "6578  schule  \n",
       "6579  schule  \n",
       "6583  schule  \n",
       "6585  schule  \n",
       "6587  schule  \n",
       "6590  schule  \n",
       "6597  schule  \n",
       "6601  schule  \n",
       "6603  schule  \n",
       "6605  schule  \n",
       "6607  schule  \n",
       "6613  schule  \n",
       "6618  schule  \n",
       "6623  schule  \n",
       "6626  schule  \n",
       "6636  schule  \n",
       "6644  schule  "
      ]
     },
     "metadata": {},
     "output_type": "display_data"
    }
   ],
   "source": [
    "import pandas as pd\n",
    "import mysql.connector\n",
    "import re\n",
    "\n",
    "import json\n",
    "\n",
    "from IPython.display import display, Markdown, HTML\n",
    "\n",
    "db = mysql.connector.connect(\n",
    "    host=\"localhost\",\n",
    "    user=\"root\",\n",
    "    password=\"secret\",\n",
    "    port=\"3306\",\n",
    "    database=\"serlo\",\n",
    "    charset=\"latin1\"\n",
    ")\n",
    "\n",
    "subjects = [\n",
    "    #'Psychologie',\n",
    "    #'English for Spanish Natives',\n",
    "    #'Medienbildung',\n",
    "    'Biologie',\n",
    "    #'Kommunikation',\n",
    "    'Wirtschaft',\n",
    "    'Mathe',\n",
    "    'Chemie',\n",
    "    #'Geschichte',\n",
    "    #'Lerntipps',\n",
    "    'Informatik',\n",
    "    #'Musik',\n",
    "    #'Testbereich',\n",
    "    #'Deutsch als Fremdsprache',\n",
    "    #'Englisch',\n",
    "    #'Betriebswirtschaftslehre mit Rechnungswesen',\n",
    "    'Geographie',\n",
    "    #'Rechnungswesen',\n",
    "    'Nachhaltigkeit',\n",
    "    #'Politik',\n",
    "    'Physik',\n",
    "    #'Community',\n",
    "    #'Latein'\n",
    "]\n",
    "\n",
    "def cached(func):\n",
    "    cache = dict()\n",
    "    \n",
    "    def return_func(arg):\n",
    "        if (arg in cache):\n",
    "            return cache[arg]\n",
    "        else:\n",
    "            result = func(arg)\n",
    "            cache[arg] = result\n",
    "            return result\n",
    "    \n",
    "    return return_func\n",
    "\n",
    "def query(sql):\n",
    "    c = db.cursor()\n",
    "    c.execute(sql)\n",
    "    \n",
    "    return c.fetchall()\n",
    "\n",
    "def querySingleton(sql):\n",
    "    return [ x[0] for x in query(sql) ]\n",
    "\n",
    "def unique(iterator, key_func=lambda x: x[\"keyword\"]):\n",
    "    keys = set()\n",
    "    \n",
    "    for item in iterator:\n",
    "        key = key_func(item)\n",
    "        \n",
    "        if key not in keys:\n",
    "            keys.add(key)\n",
    "            yield item\n",
    "            \n",
    "@cached\n",
    "def getParent(termId):\n",
    "    return querySingleton(\"\"\"\n",
    "        select parent_id from term_taxonomy where id = %s;\n",
    "    \"\"\" % termId)[0]\n",
    "\n",
    "def getTermName(termId):\n",
    "    return querySingleton(\"\"\"\n",
    "        select term.name from term_taxonomy\n",
    "        join term on term.id = term_taxonomy.term_id\n",
    "        where term_taxonomy.id = %s;\n",
    "    \"\"\" % termId)[0]\n",
    "\n",
    "@cached\n",
    "def getSubject(termId):\n",
    "    parent = getParent(termId)\n",
    "    grandparent = getParent(parent)\n",
    "    \n",
    "    if (parent == 106081):\n",
    "        return getTermName(termId)\n",
    "    \n",
    "    return getSubject(parent) if grandparent != None else getTermName(termId)\n",
    "\n",
    "def getSerloKeywords():\n",
    "    df = pd.read_sql(\"\"\"\n",
    "        select term_taxonomy_entity.term_taxonomy_id as termId,\n",
    "               entity_revision_field.value as title, uuid.id as uuid,\n",
    "               instance.subdomain as language, \"schule\" as scope\n",
    "        from entity\n",
    "        join entity_revision_field on entity_revision_field.entity_revision_id = entity.current_revision_id\n",
    "        join type on type.id = entity.type_id\n",
    "        join uuid on uuid.id = entity.id\n",
    "        join term_taxonomy_entity on term_taxonomy_entity.entity_id  = entity.id\n",
    "        join instance on instance.id = entity.instance_id\n",
    "        where instance.subdomain = \"de\"\n",
    "            and uuid.trashed = 0\n",
    "            and (type.name = \"article\" or type.name = \"course\")\n",
    "            and (entity_revision_field.field = \"title\" or entity_revision_field.field = \"meta_title\");\n",
    "    \"\"\", db)\n",
    "    df[\"subject\"] = df[\"termId\"].apply(getSubject)\n",
    "    df[\"title\"] = df[\"title\"].apply(fix_encoding)\n",
    "    df.drop(df[~df[\"subject\"].isin(subjects)].index, inplace=True)\n",
    "    df[\"keyword\"] = df[\"title\"].apply(normalize)\n",
    "    df.drop(df[df[\"keyword\"] == \"\"].index, inplace=True)\n",
    "    \n",
    "    return df[[\"title\", \"keyword\", \"uuid\", \"subject\", \"language\", \"scope\"]].drop_duplicates([\"keyword\", \"subject\"])\n",
    "    \n",
    "    keywords = set((normalize(keyword) for keyword in df[\"title\"]))\n",
    "    \n",
    "    return [keyword for keyword in keywords if len(keyword) > 0]\n",
    "\n",
    "def fix_encoding(title):\n",
    "    return bytes(title, \"latin1\").decode(\"utf8\")\n",
    "\n",
    "def normalize(title):\n",
    "    title = title.replace(\" - Lernen mit Serlo!\", \"\").lower()\n",
    "    \n",
    "    words = [word for word in re.split(\"\\W+\", title) if isKeyword(word)]\n",
    "    #words = list(words)\n",
    "    #words.sort()\n",
    "    \n",
    "    if (len(words) > 2):\n",
    "        return \"\"\n",
    "    \n",
    "    return \" \".join(words)\n",
    "\n",
    "words = set()\n",
    "\n",
    "def isKeyword(word):\n",
    "    if len(word) <= 3 and word not in [\"web\", \"key\", \"dna\", \"ggt\"]:\n",
    "        words.add(word)\n",
    "        return False\n",
    "    if word in [\"eine\", \"kurs\", \"eines\", \"einer\", \"oder\", \"sind\", \"test\", \"wichtigsten\"]:\n",
    "        return False\n",
    "    return True\n",
    "\n",
    "pd.set_option('display.max_rows', None)\n",
    "\n",
    "serlo_keywords = getSerloKeywords()\n",
    "display(serlo_keywords)"
   ]
  },
  {
   "cell_type": "markdown",
   "id": "opponent-federation",
   "metadata": {},
   "source": [
    "# Keywords auf Wikibooks"
   ]
  },
  {
   "cell_type": "code",
   "execution_count": 64,
   "id": "competent-principle",
   "metadata": {},
   "outputs": [],
   "source": [
    "import requests\n",
    "import json\n",
    "\n",
    "def cached(func):\n",
    "    cache = {}\n",
    "    \n",
    "    def cached_func(*args, **kwargs):\n",
    "        key = json.dumps([args,kwargs])\n",
    "        \n",
    "        if key not in cache:\n",
    "            cache[key] = func(*args, **kwargs)\n",
    "        \n",
    "        return cache[key]\n",
    "    \n",
    "    return cached_func\n",
    "\n",
    "@cached\n",
    "def list_wikibooks_pages(prefix, params={}):\n",
    "    result = requests.get(\"https://de.wikibooks.org/w/api.php\", {\n",
    "        \"action\": \"query\",\n",
    "        \"format\": \"json\",\n",
    "        \"list\": \"allpages\",\n",
    "        \"aplimit\": 500,\n",
    "        \"apprefix\": prefix,\n",
    "        **params\n",
    "    }).json()\n",
    "    titles = [r[\"title\"] for r in result[\"query\"][\"allpages\"]]\n",
    "    \n",
    "    if \"continue\" in result:\n",
    "        titles += list_wikibooks_pages(prefix, result[\"continue\"])\n",
    "    \n",
    "    return titles\n",
    "\n",
    "@cached\n",
    "def is_redirect(title):\n",
    "    result = requests.get(\"https://de.wikibooks.org/w/api.php\", {\n",
    "        \"action\": \"query\",\n",
    "        \"format\": \"json\",\n",
    "        \"prop\": \"info\",\n",
    "        \"titles\": title,\n",
    "    }).json()\n",
    "    \n",
    "    return \"redirect\" in list(result[\"query\"][\"pages\"].values())[0]"
   ]
  },
  {
   "cell_type": "code",
   "execution_count": 65,
   "id": "naked-berkeley",
   "metadata": {
    "scrolled": false
   },
   "outputs": [
    {
     "data": {
      "text/markdown": [
       "### Liste aller Keywords (Anzahl = 408):"
      ],
      "text/plain": [
       "<IPython.core.display.Markdown object>"
      ]
     },
     "metadata": {},
     "output_type": "display_data"
    },
    {
     "data": {
      "text/markdown": [
       "**=== abbildung, funktion ===**"
      ],
      "text/plain": [
       "<IPython.core.display.Markdown object>"
      ]
     },
     "metadata": {},
     "output_type": "display_data"
    },
    {
     "data": {
      "text/markdown": [
       "abbildung"
      ],
      "text/plain": [
       "<IPython.core.display.Markdown object>"
      ]
     },
     "metadata": {},
     "output_type": "display_data"
    },
    {
     "data": {
      "text/markdown": [
       "funktion"
      ],
      "text/plain": [
       "<IPython.core.display.Markdown object>"
      ]
     },
     "metadata": {},
     "output_type": "display_data"
    },
    {
     "data": {
      "text/markdown": [
       "**=== abbildungsmatrizen ===**"
      ],
      "text/plain": [
       "<IPython.core.display.Markdown object>"
      ]
     },
     "metadata": {},
     "output_type": "display_data"
    },
    {
     "data": {
      "text/markdown": [
       "abbildungsmatrizen"
      ],
      "text/plain": [
       "<IPython.core.display.Markdown object>"
      ]
     },
     "metadata": {},
     "output_type": "display_data"
    },
    {
     "data": {
      "text/markdown": [
       "**=== ableitung der umkehrfunktion ===**"
      ],
      "text/plain": [
       "<IPython.core.display.Markdown object>"
      ]
     },
     "metadata": {},
     "output_type": "display_data"
    },
    {
     "data": {
      "text/markdown": [
       "ableitung umkehrfunktion"
      ],
      "text/plain": [
       "<IPython.core.display.Markdown object>"
      ]
     },
     "metadata": {},
     "output_type": "display_data"
    },
    {
     "data": {
      "text/markdown": [
       "**=== ableitung höherer ordnung ===**"
      ],
      "text/plain": [
       "<IPython.core.display.Markdown object>"
      ]
     },
     "metadata": {},
     "output_type": "display_data"
    },
    {
     "data": {
      "text/markdown": [
       "ableitung höherer ordnung"
      ],
      "text/plain": [
       "<IPython.core.display.Markdown object>"
      ]
     },
     "metadata": {},
     "output_type": "display_data"
    },
    {
     "data": {
      "text/markdown": [
       "**=== ableitung und differenzierbarkeit ===**"
      ],
      "text/plain": [
       "<IPython.core.display.Markdown object>"
      ]
     },
     "metadata": {},
     "output_type": "display_data"
    },
    {
     "data": {
      "text/markdown": [
       "ableitung differenzierbarkeit"
      ],
      "text/plain": [
       "<IPython.core.display.Markdown object>"
      ]
     },
     "metadata": {},
     "output_type": "display_data"
    },
    {
     "data": {
      "text/markdown": [
       "**=== ableitung und lokale extrema ===**"
      ],
      "text/plain": [
       "<IPython.core.display.Markdown object>"
      ]
     },
     "metadata": {},
     "output_type": "display_data"
    },
    {
     "data": {
      "text/markdown": [
       "lokale extrema"
      ],
      "text/plain": [
       "<IPython.core.display.Markdown object>"
      ]
     },
     "metadata": {},
     "output_type": "display_data"
    },
    {
     "data": {
      "text/markdown": [
       "lokale extrema ableitung"
      ],
      "text/plain": [
       "<IPython.core.display.Markdown object>"
      ]
     },
     "metadata": {},
     "output_type": "display_data"
    },
    {
     "data": {
      "text/markdown": [
       "**=== ableitung: kettenregel, quotientenregel, produktregel, summenregel, faktorregel ===**"
      ],
      "text/plain": [
       "<IPython.core.display.Markdown object>"
      ]
     },
     "metadata": {},
     "output_type": "display_data"
    },
    {
     "data": {
      "text/markdown": [
       "kettenregel ableitung"
      ],
      "text/plain": [
       "<IPython.core.display.Markdown object>"
      ]
     },
     "metadata": {},
     "output_type": "display_data"
    },
    {
     "data": {
      "text/markdown": [
       "quotientenregel ableitung"
      ],
      "text/plain": [
       "<IPython.core.display.Markdown object>"
      ]
     },
     "metadata": {},
     "output_type": "display_data"
    },
    {
     "data": {
      "text/markdown": [
       "produktregel ableitung"
      ],
      "text/plain": [
       "<IPython.core.display.Markdown object>"
      ]
     },
     "metadata": {},
     "output_type": "display_data"
    },
    {
     "data": {
      "text/markdown": [
       "summenregel ableitung"
      ],
      "text/plain": [
       "<IPython.core.display.Markdown object>"
      ]
     },
     "metadata": {},
     "output_type": "display_data"
    },
    {
     "data": {
      "text/markdown": [
       "faktorregel ableitung"
      ],
      "text/plain": [
       "<IPython.core.display.Markdown object>"
      ]
     },
     "metadata": {},
     "output_type": "display_data"
    },
    {
     "data": {
      "text/markdown": [
       "**=== absolute konvergenz einer reihe ===**"
      ],
      "text/plain": [
       "<IPython.core.display.Markdown object>"
      ]
     },
     "metadata": {},
     "output_type": "display_data"
    },
    {
     "data": {
      "text/markdown": [
       "absolute konvergenz reihe"
      ],
      "text/plain": [
       "<IPython.core.display.Markdown object>"
      ]
     },
     "metadata": {},
     "output_type": "display_data"
    },
    {
     "data": {
      "text/markdown": [
       "**=== allgemeine intervallschachtelung ===**"
      ],
      "text/plain": [
       "<IPython.core.display.Markdown object>"
      ]
     },
     "metadata": {},
     "output_type": "display_data"
    },
    {
     "data": {
      "text/markdown": [
       "allgemeine intervallschachtelung"
      ],
      "text/plain": [
       "<IPython.core.display.Markdown object>"
      ]
     },
     "metadata": {},
     "output_type": "display_data"
    },
    {
     "data": {
      "text/markdown": [
       "**=== analysis 1 ===**"
      ],
      "text/plain": [
       "<IPython.core.display.Markdown object>"
      ]
     },
     "metadata": {},
     "output_type": "display_data"
    },
    {
     "data": {
      "text/markdown": [
       "analysis 1"
      ],
      "text/plain": [
       "<IPython.core.display.Markdown object>"
      ]
     },
     "metadata": {},
     "output_type": "display_data"
    },
    {
     "data": {
      "text/markdown": [
       "**=== anordnungsaxiome ===**"
      ],
      "text/plain": [
       "<IPython.core.display.Markdown object>"
      ]
     },
     "metadata": {},
     "output_type": "display_data"
    },
    {
     "data": {
      "text/markdown": [
       "anordnungsaxiome"
      ],
      "text/plain": [
       "<IPython.core.display.Markdown object>"
      ]
     },
     "metadata": {},
     "output_type": "display_data"
    },
    {
     "data": {
      "text/markdown": [
       "**=== anwendung der konvergenzkriterien bei reihen ===**"
      ],
      "text/plain": [
       "<IPython.core.display.Markdown object>"
      ]
     },
     "metadata": {},
     "output_type": "display_data"
    },
    {
     "data": {
      "text/markdown": [
       "anwendung konvergenzkriterien reihen"
      ],
      "text/plain": [
       "<IPython.core.display.Markdown object>"
      ]
     },
     "metadata": {},
     "output_type": "display_data"
    },
    {
     "data": {
      "text/markdown": [
       "**=== archimedisches axiom ===**"
      ],
      "text/plain": [
       "<IPython.core.display.Markdown object>"
      ]
     },
     "metadata": {},
     "output_type": "display_data"
    },
    {
     "data": {
      "text/markdown": [
       "archimedisches axiom"
      ],
      "text/plain": [
       "<IPython.core.display.Markdown object>"
      ]
     },
     "metadata": {},
     "output_type": "display_data"
    },
    {
     "data": {
      "text/markdown": [
       "**=== arkussinus und arkuskosinus ===**"
      ],
      "text/plain": [
       "<IPython.core.display.Markdown object>"
      ]
     },
     "metadata": {},
     "output_type": "display_data"
    },
    {
     "data": {
      "text/markdown": [
       "arkussinus arkuskosinus"
      ],
      "text/plain": [
       "<IPython.core.display.Markdown object>"
      ]
     },
     "metadata": {},
     "output_type": "display_data"
    },
    {
     "data": {
      "text/markdown": [
       "**=== arkustangens und arkuskotangens ===**"
      ],
      "text/plain": [
       "<IPython.core.display.Markdown object>"
      ]
     },
     "metadata": {},
     "output_type": "display_data"
    },
    {
     "data": {
      "text/markdown": [
       "arkustangens arkuskotangens"
      ],
      "text/plain": [
       "<IPython.core.display.Markdown object>"
      ]
     },
     "metadata": {},
     "output_type": "display_data"
    },
    {
     "data": {
      "text/markdown": [
       "**=== aufzählende und beschreibende mengenschreibweise ===**"
      ],
      "text/plain": [
       "<IPython.core.display.Markdown object>"
      ]
     },
     "metadata": {},
     "output_type": "display_data"
    },
    {
     "data": {
      "text/markdown": [
       "aufzählende mengenschreibweise"
      ],
      "text/plain": [
       "<IPython.core.display.Markdown object>"
      ]
     },
     "metadata": {},
     "output_type": "display_data"
    },
    {
     "data": {
      "text/markdown": [
       "beschreibende mengenschreibweise"
      ],
      "text/plain": [
       "<IPython.core.display.Markdown object>"
      ]
     },
     "metadata": {},
     "output_type": "display_data"
    },
    {
     "data": {
      "text/markdown": [
       "**=== aussageform und substitution ===**"
      ],
      "text/plain": [
       "<IPython.core.display.Markdown object>"
      ]
     },
     "metadata": {},
     "output_type": "display_data"
    },
    {
     "data": {
      "text/markdown": [
       "aussageform substitution"
      ],
      "text/plain": [
       "<IPython.core.display.Markdown object>"
      ]
     },
     "metadata": {},
     "output_type": "display_data"
    },
    {
     "data": {
      "text/markdown": [
       "**=== aussagen formalisieren ===**"
      ],
      "text/plain": [
       "<IPython.core.display.Markdown object>"
      ]
     },
     "metadata": {},
     "output_type": "display_data"
    },
    {
     "data": {
      "text/markdown": [
       "aussagen formalisieren"
      ],
      "text/plain": [
       "<IPython.core.display.Markdown object>"
      ]
     },
     "metadata": {},
     "output_type": "display_data"
    },
    {
     "data": {
      "text/markdown": [
       "**=== aussagen negieren ===**"
      ],
      "text/plain": [
       "<IPython.core.display.Markdown object>"
      ]
     },
     "metadata": {},
     "output_type": "display_data"
    },
    {
     "data": {
      "text/markdown": [
       "aussagen negieren"
      ],
      "text/plain": [
       "<IPython.core.display.Markdown object>"
      ]
     },
     "metadata": {},
     "output_type": "display_data"
    },
    {
     "data": {
      "text/markdown": [
       "**=== aussagenlogik ===**"
      ],
      "text/plain": [
       "<IPython.core.display.Markdown object>"
      ]
     },
     "metadata": {},
     "output_type": "display_data"
    },
    {
     "data": {
      "text/markdown": [
       "aussagenlogik"
      ],
      "text/plain": [
       "<IPython.core.display.Markdown object>"
      ]
     },
     "metadata": {},
     "output_type": "display_data"
    },
    {
     "data": {
      "text/markdown": [
       "**=== ausschöpfungen, dynkin-systeme, eindeutigkeitssatz ===**"
      ],
      "text/plain": [
       "<IPython.core.display.Markdown object>"
      ]
     },
     "metadata": {},
     "output_type": "display_data"
    },
    {
     "data": {
      "text/markdown": [
       "ausschöpfungen"
      ],
      "text/plain": [
       "<IPython.core.display.Markdown object>"
      ]
     },
     "metadata": {},
     "output_type": "display_data"
    },
    {
     "data": {
      "text/markdown": [
       "dynkin-systeme"
      ],
      "text/plain": [
       "<IPython.core.display.Markdown object>"
      ]
     },
     "metadata": {},
     "output_type": "display_data"
    },
    {
     "data": {
      "text/markdown": [
       "eindeutigkeitssatz"
      ],
      "text/plain": [
       "<IPython.core.display.Markdown object>"
      ]
     },
     "metadata": {},
     "output_type": "display_data"
    },
    {
     "data": {
      "text/markdown": [
       "**=== austauschlemma und austauschsatz von steinitz ===**"
      ],
      "text/plain": [
       "<IPython.core.display.Markdown object>"
      ]
     },
     "metadata": {},
     "output_type": "display_data"
    },
    {
     "data": {
      "text/markdown": [
       "austauschlemma austauschsatz steinitz"
      ],
      "text/plain": [
       "<IPython.core.display.Markdown object>"
      ]
     },
     "metadata": {},
     "output_type": "display_data"
    },
    {
     "data": {
      "text/markdown": [
       "**=== axiomatische mengenlehre ===**"
      ],
      "text/plain": [
       "<IPython.core.display.Markdown object>"
      ]
     },
     "metadata": {},
     "output_type": "display_data"
    },
    {
     "data": {
      "text/markdown": [
       "axiomatische mengenlehre"
      ],
      "text/plain": [
       "<IPython.core.display.Markdown object>"
      ]
     },
     "metadata": {},
     "output_type": "display_data"
    },
    {
     "data": {
      "text/markdown": [
       "**=== basis eines vektorraums ===**"
      ],
      "text/plain": [
       "<IPython.core.display.Markdown object>"
      ]
     },
     "metadata": {},
     "output_type": "display_data"
    },
    {
     "data": {
      "text/markdown": [
       "basis vektorraums"
      ],
      "text/plain": [
       "<IPython.core.display.Markdown object>"
      ]
     },
     "metadata": {},
     "output_type": "display_data"
    },
    {
     "data": {
      "text/markdown": [
       "**=== basiswechselmatrizen ===**"
      ],
      "text/plain": [
       "<IPython.core.display.Markdown object>"
      ]
     },
     "metadata": {},
     "output_type": "display_data"
    },
    {
     "data": {
      "text/markdown": [
       "basiswechselmatrizen"
      ],
      "text/plain": [
       "<IPython.core.display.Markdown object>"
      ]
     },
     "metadata": {},
     "output_type": "display_data"
    },
    {
     "data": {
      "text/markdown": [
       "**=== beispiele für ableitungen ===**"
      ],
      "text/plain": [
       "<IPython.core.display.Markdown object>"
      ]
     },
     "metadata": {},
     "output_type": "display_data"
    },
    {
     "data": {
      "text/markdown": [
       "beispiele ableitungen"
      ],
      "text/plain": [
       "<IPython.core.display.Markdown object>"
      ]
     },
     "metadata": {},
     "output_type": "display_data"
    },
    {
     "data": {
      "text/markdown": [
       "**=== beispiele für integrale ===**"
      ],
      "text/plain": [
       "<IPython.core.display.Markdown object>"
      ]
     },
     "metadata": {},
     "output_type": "display_data"
    },
    {
     "data": {
      "text/markdown": [
       "beispiele integral"
      ],
      "text/plain": [
       "<IPython.core.display.Markdown object>"
      ]
     },
     "metadata": {},
     "output_type": "display_data"
    },
    {
     "data": {
      "text/markdown": [
       "**=== beispiele und eigenschaften von folgen ===**"
      ],
      "text/plain": [
       "<IPython.core.display.Markdown object>"
      ]
     },
     "metadata": {},
     "output_type": "display_data"
    },
    {
     "data": {
      "text/markdown": [
       "beispiele folgen"
      ],
      "text/plain": [
       "<IPython.core.display.Markdown object>"
      ]
     },
     "metadata": {},
     "output_type": "display_data"
    },
    {
     "data": {
      "text/markdown": [
       "eigenschaften folgen"
      ],
      "text/plain": [
       "<IPython.core.display.Markdown object>"
      ]
     },
     "metadata": {},
     "output_type": "display_data"
    },
    {
     "data": {
      "text/markdown": [
       "**=== bernoulli-ungleichung ===**"
      ],
      "text/plain": [
       "<IPython.core.display.Markdown object>"
      ]
     },
     "metadata": {},
     "output_type": "display_data"
    },
    {
     "data": {
      "text/markdown": [
       "bernoulli-ungleichung"
      ],
      "text/plain": [
       "<IPython.core.display.Markdown object>"
      ]
     },
     "metadata": {},
     "output_type": "display_data"
    },
    {
     "data": {
      "text/markdown": [
       "**=== beschränkte reihen und konvergenz ===**"
      ],
      "text/plain": [
       "<IPython.core.display.Markdown object>"
      ]
     },
     "metadata": {},
     "output_type": "display_data"
    },
    {
     "data": {
      "text/markdown": [
       "beschränkte reihen konvergenz"
      ],
      "text/plain": [
       "<IPython.core.display.Markdown object>"
      ]
     },
     "metadata": {},
     "output_type": "display_data"
    },
    {
     "data": {
      "text/markdown": [
       "beschränke reihen"
      ],
      "text/plain": [
       "<IPython.core.display.Markdown object>"
      ]
     },
     "metadata": {},
     "output_type": "display_data"
    },
    {
     "data": {
      "text/markdown": [
       "**=== bestimmte divergenz, uneigentliche konvergenz ===**"
      ],
      "text/plain": [
       "<IPython.core.display.Markdown object>"
      ]
     },
     "metadata": {},
     "output_type": "display_data"
    },
    {
     "data": {
      "text/markdown": [
       "bestimmte divergenz"
      ],
      "text/plain": [
       "<IPython.core.display.Markdown object>"
      ]
     },
     "metadata": {},
     "output_type": "display_data"
    },
    {
     "data": {
      "text/markdown": [
       "uneigentliche konvergenz"
      ],
      "text/plain": [
       "<IPython.core.display.Markdown object>"
      ]
     },
     "metadata": {},
     "output_type": "display_data"
    },
    {
     "data": {
      "text/markdown": [
       "**=== betrag, maximum und minimum ===**"
      ],
      "text/plain": [
       "<IPython.core.display.Markdown object>"
      ]
     },
     "metadata": {},
     "output_type": "display_data"
    },
    {
     "data": {
      "text/markdown": [
       "betrag"
      ],
      "text/plain": [
       "<IPython.core.display.Markdown object>"
      ]
     },
     "metadata": {},
     "output_type": "display_data"
    },
    {
     "data": {
      "text/markdown": [
       "maximum minimum"
      ],
      "text/plain": [
       "<IPython.core.display.Markdown object>"
      ]
     },
     "metadata": {},
     "output_type": "display_data"
    },
    {
     "data": {
      "text/markdown": [
       "**=== beweis ===**"
      ],
      "text/plain": [
       "<IPython.core.display.Markdown object>"
      ]
     },
     "metadata": {},
     "output_type": "display_data"
    },
    {
     "data": {
      "text/markdown": [
       "beweis"
      ],
      "text/plain": [
       "<IPython.core.display.Markdown object>"
      ]
     },
     "metadata": {},
     "output_type": "display_data"
    },
    {
     "data": {
      "text/markdown": [
       "**=== beweise für vektorräume führen ===**"
      ],
      "text/plain": [
       "<IPython.core.display.Markdown object>"
      ]
     },
     "metadata": {},
     "output_type": "display_data"
    },
    {
     "data": {
      "text/markdown": [
       "beweise vektorräume"
      ],
      "text/plain": [
       "<IPython.core.display.Markdown object>"
      ]
     },
     "metadata": {},
     "output_type": "display_data"
    },
    {
     "data": {
      "text/markdown": [
       "**=== beweise für lineare abbildungen führen ===**"
      ],
      "text/plain": [
       "<IPython.core.display.Markdown object>"
      ]
     },
     "metadata": {},
     "output_type": "display_data"
    },
    {
     "data": {
      "text/markdown": [
       "beweise lineare abbildungen"
      ],
      "text/plain": [
       "<IPython.core.display.Markdown object>"
      ]
     },
     "metadata": {},
     "output_type": "display_data"
    },
    {
     "data": {
      "text/markdown": [
       "**=== binomialkoeffizient ===**"
      ],
      "text/plain": [
       "<IPython.core.display.Markdown object>"
      ]
     },
     "metadata": {},
     "output_type": "display_data"
    },
    {
     "data": {
      "text/markdown": [
       "binomialkoeffizient"
      ],
      "text/plain": [
       "<IPython.core.display.Markdown object>"
      ]
     },
     "metadata": {},
     "output_type": "display_data"
    },
    {
     "data": {
      "text/markdown": [
       "**=== binomialkoeffizient: rechenregeln ===**"
      ],
      "text/plain": [
       "<IPython.core.display.Markdown object>"
      ]
     },
     "metadata": {},
     "output_type": "display_data"
    },
    {
     "data": {
      "text/markdown": [
       "rechenregeln binomialkoeffizient"
      ],
      "text/plain": [
       "<IPython.core.display.Markdown object>"
      ]
     },
     "metadata": {},
     "output_type": "display_data"
    },
    {
     "data": {
      "text/markdown": [
       "**=== binomischer lehrsatz ===**"
      ],
      "text/plain": [
       "<IPython.core.display.Markdown object>"
      ]
     },
     "metadata": {},
     "output_type": "display_data"
    },
    {
     "data": {
      "text/markdown": [
       "binomischer lehrsatz"
      ],
      "text/plain": [
       "<IPython.core.display.Markdown object>"
      ]
     },
     "metadata": {},
     "output_type": "display_data"
    },
    {
     "data": {
      "text/markdown": [
       "**=== binäre relation ===**"
      ],
      "text/plain": [
       "<IPython.core.display.Markdown object>"
      ]
     },
     "metadata": {},
     "output_type": "display_data"
    },
    {
     "data": {
      "text/markdown": [
       "binäre relation"
      ],
      "text/plain": [
       "<IPython.core.display.Markdown object>"
      ]
     },
     "metadata": {},
     "output_type": "display_data"
    },
    {
     "data": {
      "text/markdown": [
       "**=== boolesche algebra ===**"
      ],
      "text/plain": [
       "<IPython.core.display.Markdown object>"
      ]
     },
     "metadata": {},
     "output_type": "display_data"
    },
    {
     "data": {
      "text/markdown": [
       "boolesche algebra"
      ],
      "text/plain": [
       "<IPython.core.display.Markdown object>"
      ]
     },
     "metadata": {},
     "output_type": "display_data"
    },
    {
     "data": {
      "text/markdown": [
       "**=== cauchy-folgen und das cauchy-kriterium ===**"
      ],
      "text/plain": [
       "<IPython.core.display.Markdown object>"
      ]
     },
     "metadata": {},
     "output_type": "display_data"
    },
    {
     "data": {
      "text/markdown": [
       "cauchy-folgen cauchy-kriterium"
      ],
      "text/plain": [
       "<IPython.core.display.Markdown object>"
      ]
     },
     "metadata": {},
     "output_type": "display_data"
    },
    {
     "data": {
      "text/markdown": [
       "**=== cauchy-kriterium für reihen ===**"
      ],
      "text/plain": [
       "<IPython.core.display.Markdown object>"
      ]
     },
     "metadata": {},
     "output_type": "display_data"
    },
    {
     "data": {
      "text/markdown": [
       "cauchy-kriterium reihen"
      ],
      "text/plain": [
       "<IPython.core.display.Markdown object>"
      ]
     },
     "metadata": {},
     "output_type": "display_data"
    },
    {
     "data": {
      "text/markdown": [
       "**=== cauchysches verdichtungskriterium ===**"
      ],
      "text/plain": [
       "<IPython.core.display.Markdown object>"
      ]
     },
     "metadata": {},
     "output_type": "display_data"
    },
    {
     "data": {
      "text/markdown": [
       "cauchysches verdichtungskriterium"
      ],
      "text/plain": [
       "<IPython.core.display.Markdown object>"
      ]
     },
     "metadata": {},
     "output_type": "display_data"
    },
    {
     "data": {
      "text/markdown": [
       "**=== cramer'sche regel ===**"
      ],
      "text/plain": [
       "<IPython.core.display.Markdown object>"
      ]
     },
     "metadata": {},
     "output_type": "display_data"
    },
    {
     "data": {
      "text/markdown": [
       "cramer'sche regel"
      ],
      "text/plain": [
       "<IPython.core.display.Markdown object>"
      ]
     },
     "metadata": {},
     "output_type": "display_data"
    },
    {
     "data": {
      "text/markdown": [
       "**=== definition der matrix ===**"
      ],
      "text/plain": [
       "<IPython.core.display.Markdown object>"
      ]
     },
     "metadata": {},
     "output_type": "display_data"
    },
    {
     "data": {
      "text/markdown": [
       "definition matrix"
      ],
      "text/plain": [
       "<IPython.core.display.Markdown object>"
      ]
     },
     "metadata": {},
     "output_type": "display_data"
    },
    {
     "data": {
      "text/markdown": [
       "**=== der körper als vektorraum ===**"
      ],
      "text/plain": [
       "<IPython.core.display.Markdown object>"
      ]
     },
     "metadata": {},
     "output_type": "display_data"
    },
    {
     "data": {
      "text/markdown": [
       "körper vektorraum"
      ],
      "text/plain": [
       "<IPython.core.display.Markdown object>"
      ]
     },
     "metadata": {},
     "output_type": "display_data"
    },
    {
     "data": {
      "text/markdown": [
       "**=== determinante besonderer matrizen ===**"
      ],
      "text/plain": [
       "<IPython.core.display.Markdown object>"
      ]
     },
     "metadata": {},
     "output_type": "display_data"
    },
    {
     "data": {
      "text/markdown": [
       "determinante matrizen"
      ],
      "text/plain": [
       "<IPython.core.display.Markdown object>"
      ]
     },
     "metadata": {},
     "output_type": "display_data"
    },
    {
     "data": {
      "text/markdown": [
       "**=== determinante einer abbildung ===**"
      ],
      "text/plain": [
       "<IPython.core.display.Markdown object>"
      ]
     },
     "metadata": {},
     "output_type": "display_data"
    },
    {
     "data": {
      "text/markdown": [
       "determinante abbildung"
      ],
      "text/plain": [
       "<IPython.core.display.Markdown object>"
      ]
     },
     "metadata": {},
     "output_type": "display_data"
    },
    {
     "data": {
      "text/markdown": [
       "**=== determinanten ===**"
      ],
      "text/plain": [
       "<IPython.core.display.Markdown object>"
      ]
     },
     "metadata": {},
     "output_type": "display_data"
    },
    {
     "data": {
      "text/markdown": [
       "determinanten"
      ],
      "text/plain": [
       "<IPython.core.display.Markdown object>"
      ]
     },
     "metadata": {},
     "output_type": "display_data"
    },
    {
     "data": {
      "text/markdown": [
       "**=== die logarithmusfunktion ===**"
      ],
      "text/plain": [
       "<IPython.core.display.Markdown object>"
      ]
     },
     "metadata": {},
     "output_type": "display_data"
    },
    {
     "data": {
      "text/markdown": [
       "logarithmusfunktion"
      ],
      "text/plain": [
       "<IPython.core.display.Markdown object>"
      ]
     },
     "metadata": {},
     "output_type": "display_data"
    },
    {
     "data": {
      "text/markdown": [
       "**=== differenz, symmetrische differenz und komplement ===**"
      ],
      "text/plain": [
       "<IPython.core.display.Markdown object>"
      ]
     },
     "metadata": {},
     "output_type": "display_data"
    },
    {
     "data": {
      "text/markdown": [
       "differenz"
      ],
      "text/plain": [
       "<IPython.core.display.Markdown object>"
      ]
     },
     "metadata": {},
     "output_type": "display_data"
    },
    {
     "data": {
      "text/markdown": [
       "symmetrische differenz komplement"
      ],
      "text/plain": [
       "<IPython.core.display.Markdown object>"
      ]
     },
     "metadata": {},
     "output_type": "display_data"
    },
    {
     "data": {
      "text/markdown": [
       "**=== dimension eines vektorraums ===**"
      ],
      "text/plain": [
       "<IPython.core.display.Markdown object>"
      ]
     },
     "metadata": {},
     "output_type": "display_data"
    },
    {
     "data": {
      "text/markdown": [
       "dimension vektorraums"
      ],
      "text/plain": [
       "<IPython.core.display.Markdown object>"
      ]
     },
     "metadata": {},
     "output_type": "display_data"
    },
    {
     "data": {
      "text/markdown": [
       "**=== dimensionsformel ===**"
      ],
      "text/plain": [
       "<IPython.core.display.Markdown object>"
      ]
     },
     "metadata": {},
     "output_type": "display_data"
    },
    {
     "data": {
      "text/markdown": [
       "dimensionsformel"
      ],
      "text/plain": [
       "<IPython.core.display.Markdown object>"
      ]
     },
     "metadata": {},
     "output_type": "display_data"
    },
    {
     "data": {
      "text/markdown": [
       "**=== direkter und indirekter beweis ===**"
      ],
      "text/plain": [
       "<IPython.core.display.Markdown object>"
      ]
     },
     "metadata": {},
     "output_type": "display_data"
    },
    {
     "data": {
      "text/markdown": [
       "direkter beweis"
      ],
      "text/plain": [
       "<IPython.core.display.Markdown object>"
      ]
     },
     "metadata": {},
     "output_type": "display_data"
    },
    {
     "data": {
      "text/markdown": [
       "indirekter beweis"
      ],
      "text/plain": [
       "<IPython.core.display.Markdown object>"
      ]
     },
     "metadata": {},
     "output_type": "display_data"
    },
    {
     "data": {
      "text/markdown": [
       "**=== disjunkte mengen und paarweise disjunkte mengensysteme ===**"
      ],
      "text/plain": [
       "<IPython.core.display.Markdown object>"
      ]
     },
     "metadata": {},
     "output_type": "display_data"
    },
    {
     "data": {
      "text/markdown": [
       "disjunkte mengen paarweise disjunkte mengensysteme"
      ],
      "text/plain": [
       "<IPython.core.display.Markdown object>"
      ]
     },
     "metadata": {},
     "output_type": "display_data"
    },
    {
     "data": {
      "text/markdown": [
       "**=== dualraum ===**"
      ],
      "text/plain": [
       "<IPython.core.display.Markdown object>"
      ]
     },
     "metadata": {},
     "output_type": "display_data"
    },
    {
     "data": {
      "text/markdown": [
       "dualraum"
      ],
      "text/plain": [
       "<IPython.core.display.Markdown object>"
      ]
     },
     "metadata": {},
     "output_type": "display_data"
    },
    {
     "data": {
      "text/markdown": [
       "**=== durchschnitt von mengen ===**"
      ],
      "text/plain": [
       "<IPython.core.display.Markdown object>"
      ]
     },
     "metadata": {},
     "output_type": "display_data"
    },
    {
     "data": {
      "text/markdown": [
       "durchschnitt mengen"
      ],
      "text/plain": [
       "<IPython.core.display.Markdown object>"
      ]
     },
     "metadata": {},
     "output_type": "display_data"
    },
    {
     "data": {
      "text/markdown": [
       "**=== eigenschaften linearer abbildungen ===**"
      ],
      "text/plain": [
       "<IPython.core.display.Markdown object>"
      ]
     },
     "metadata": {},
     "output_type": "display_data"
    },
    {
     "data": {
      "text/markdown": [
       "eigenschaften linearer abbildungen"
      ],
      "text/plain": [
       "<IPython.core.display.Markdown object>"
      ]
     },
     "metadata": {},
     "output_type": "display_data"
    },
    {
     "data": {
      "text/markdown": [
       "**=== eigenschaften binärer relationen ===**"
      ],
      "text/plain": [
       "<IPython.core.display.Markdown object>"
      ]
     },
     "metadata": {},
     "output_type": "display_data"
    },
    {
     "data": {
      "text/markdown": [
       "eigenschaften binärer relationen"
      ],
      "text/plain": [
       "<IPython.core.display.Markdown object>"
      ]
     },
     "metadata": {},
     "output_type": "display_data"
    },
    {
     "data": {
      "text/markdown": [
       "**=== eigenschaften der determinante ===**"
      ],
      "text/plain": [
       "<IPython.core.display.Markdown object>"
      ]
     },
     "metadata": {},
     "output_type": "display_data"
    },
    {
     "data": {
      "text/markdown": [
       "eigenschaften determinante"
      ],
      "text/plain": [
       "<IPython.core.display.Markdown object>"
      ]
     },
     "metadata": {},
     "output_type": "display_data"
    },
    {
     "data": {
      "text/markdown": [
       "**=== eigenschaften der exponentialfunktion ===**"
      ],
      "text/plain": [
       "<IPython.core.display.Markdown object>"
      ]
     },
     "metadata": {},
     "output_type": "display_data"
    },
    {
     "data": {
      "text/markdown": [
       "eigenschaften exponentialfunktion"
      ],
      "text/plain": [
       "<IPython.core.display.Markdown object>"
      ]
     },
     "metadata": {},
     "output_type": "display_data"
    },
    {
     "data": {
      "text/markdown": [
       "**=== eigenschaften des riemannintegrals ===**"
      ],
      "text/plain": [
       "<IPython.core.display.Markdown object>"
      ]
     },
     "metadata": {},
     "output_type": "display_data"
    },
    {
     "data": {
      "text/markdown": [
       "eigenschaften riemannintegrals"
      ],
      "text/plain": [
       "<IPython.core.display.Markdown object>"
      ]
     },
     "metadata": {},
     "output_type": "display_data"
    },
    {
     "data": {
      "text/markdown": [
       "**=== eigenschaften des sinus und kosinus ===**"
      ],
      "text/plain": [
       "<IPython.core.display.Markdown object>"
      ]
     },
     "metadata": {},
     "output_type": "display_data"
    },
    {
     "data": {
      "text/markdown": [
       "eigenschaften sinus"
      ],
      "text/plain": [
       "<IPython.core.display.Markdown object>"
      ]
     },
     "metadata": {},
     "output_type": "display_data"
    },
    {
     "data": {
      "text/markdown": [
       "eigenschaften kosinus"
      ],
      "text/plain": [
       "<IPython.core.display.Markdown object>"
      ]
     },
     "metadata": {},
     "output_type": "display_data"
    },
    {
     "data": {
      "text/markdown": [
       "**=== eigenschaften für summe und produkt ===**"
      ],
      "text/plain": [
       "<IPython.core.display.Markdown object>"
      ]
     },
     "metadata": {},
     "output_type": "display_data"
    },
    {
     "data": {
      "text/markdown": [
       "eigenschaften summe produkt"
      ],
      "text/plain": [
       "<IPython.core.display.Markdown object>"
      ]
     },
     "metadata": {},
     "output_type": "display_data"
    },
    {
     "data": {
      "text/markdown": [
       "**=== einführung in den vektorraum ===**"
      ],
      "text/plain": [
       "<IPython.core.display.Markdown object>"
      ]
     },
     "metadata": {},
     "output_type": "display_data"
    },
    {
     "data": {
      "text/markdown": [
       "vektorraum"
      ],
      "text/plain": [
       "<IPython.core.display.Markdown object>"
      ]
     },
     "metadata": {},
     "output_type": "display_data"
    },
    {
     "data": {
      "text/markdown": [
       "**=== einführung in die maßtheorie ===**"
      ],
      "text/plain": [
       "<IPython.core.display.Markdown object>"
      ]
     },
     "metadata": {},
     "output_type": "display_data"
    },
    {
     "data": {
      "text/markdown": [
       "maßtheorie"
      ],
      "text/plain": [
       "<IPython.core.display.Markdown object>"
      ]
     },
     "metadata": {},
     "output_type": "display_data"
    },
    {
     "data": {
      "text/markdown": [
       "**=== endomorphismus, automorphismus ===**"
      ],
      "text/plain": [
       "<IPython.core.display.Markdown object>"
      ]
     },
     "metadata": {},
     "output_type": "display_data"
    },
    {
     "data": {
      "text/markdown": [
       "endomorphismus"
      ],
      "text/plain": [
       "<IPython.core.display.Markdown object>"
      ]
     },
     "metadata": {},
     "output_type": "display_data"
    },
    {
     "data": {
      "text/markdown": [
       "automorphismus"
      ],
      "text/plain": [
       "<IPython.core.display.Markdown object>"
      ]
     },
     "metadata": {},
     "output_type": "display_data"
    },
    {
     "data": {
      "text/markdown": [
       "**=== epimorphismus lineare algebra ===**"
      ],
      "text/plain": [
       "<IPython.core.display.Markdown object>"
      ]
     },
     "metadata": {},
     "output_type": "display_data"
    },
    {
     "data": {
      "text/markdown": [
       "epimorphismus lineare algebra"
      ],
      "text/plain": [
       "<IPython.core.display.Markdown object>"
      ]
     },
     "metadata": {},
     "output_type": "display_data"
    },
    {
     "data": {
      "text/markdown": [
       "**=== epsilon-delta-kriterium der stetigkeit ===**"
      ],
      "text/plain": [
       "<IPython.core.display.Markdown object>"
      ]
     },
     "metadata": {},
     "output_type": "display_data"
    },
    {
     "data": {
      "text/markdown": [
       "epsilon-delta-kriterium stetigkeit"
      ],
      "text/plain": [
       "<IPython.core.display.Markdown object>"
      ]
     },
     "metadata": {},
     "output_type": "display_data"
    },
    {
     "data": {
      "text/markdown": [
       "**=== erzeugendensystem ===**"
      ],
      "text/plain": [
       "<IPython.core.display.Markdown object>"
      ]
     },
     "metadata": {},
     "output_type": "display_data"
    },
    {
     "data": {
      "text/markdown": [
       "erzeugendensystem"
      ],
      "text/plain": [
       "<IPython.core.display.Markdown object>"
      ]
     },
     "metadata": {},
     "output_type": "display_data"
    },
    {
     "data": {
      "text/markdown": [
       "**=== erzeugte sigma-algebren ===**"
      ],
      "text/plain": [
       "<IPython.core.display.Markdown object>"
      ]
     },
     "metadata": {},
     "output_type": "display_data"
    },
    {
     "data": {
      "text/markdown": [
       "erzeugte sigma-algebren"
      ],
      "text/plain": [
       "<IPython.core.display.Markdown object>"
      ]
     },
     "metadata": {},
     "output_type": "display_data"
    },
    {
     "data": {
      "text/markdown": [
       "**=== explizite und rekursive bildungsgesetze für folgen ===**"
      ],
      "text/plain": [
       "<IPython.core.display.Markdown object>"
      ]
     },
     "metadata": {},
     "output_type": "display_data"
    },
    {
     "data": {
      "text/markdown": [
       "explizite bildungsgesetze folgen"
      ],
      "text/plain": [
       "<IPython.core.display.Markdown object>"
      ]
     },
     "metadata": {},
     "output_type": "display_data"
    },
    {
     "data": {
      "text/markdown": [
       "rekursive bildungsgesetze folgen"
      ],
      "text/plain": [
       "<IPython.core.display.Markdown object>"
      ]
     },
     "metadata": {},
     "output_type": "display_data"
    },
    {
     "data": {
      "text/markdown": [
       "**=== exponential- und logarithmusfunktion in den komplexen zahlen ===**"
      ],
      "text/plain": [
       "<IPython.core.display.Markdown object>"
      ]
     },
     "metadata": {},
     "output_type": "display_data"
    },
    {
     "data": {
      "text/markdown": [
       "exponentialfunktion komplexe zahlen"
      ],
      "text/plain": [
       "<IPython.core.display.Markdown object>"
      ]
     },
     "metadata": {},
     "output_type": "display_data"
    },
    {
     "data": {
      "text/markdown": [
       "logarithmusfunktion komplexe zahlen"
      ],
      "text/plain": [
       "<IPython.core.display.Markdown object>"
      ]
     },
     "metadata": {},
     "output_type": "display_data"
    },
    {
     "data": {
      "text/markdown": [
       "**=== faktorraum, quotientenraum ===**"
      ],
      "text/plain": [
       "<IPython.core.display.Markdown object>"
      ]
     },
     "metadata": {},
     "output_type": "display_data"
    },
    {
     "data": {
      "text/markdown": [
       "faktorraum"
      ],
      "text/plain": [
       "<IPython.core.display.Markdown object>"
      ]
     },
     "metadata": {},
     "output_type": "display_data"
    },
    {
     "data": {
      "text/markdown": [
       "quotientenraum"
      ],
      "text/plain": [
       "<IPython.core.display.Markdown object>"
      ]
     },
     "metadata": {},
     "output_type": "display_data"
    },
    {
     "data": {
      "text/markdown": [
       "**=== fakultät ===**"
      ],
      "text/plain": [
       "<IPython.core.display.Markdown object>"
      ]
     },
     "metadata": {},
     "output_type": "display_data"
    },
    {
     "data": {
      "text/markdown": [
       "fakultät"
      ],
      "text/plain": [
       "<IPython.core.display.Markdown object>"
      ]
     },
     "metadata": {},
     "output_type": "display_data"
    },
    {
     "data": {
      "text/markdown": [
       "**=== fallunterscheidung und kontraposition ===**"
      ],
      "text/plain": [
       "<IPython.core.display.Markdown object>"
      ]
     },
     "metadata": {},
     "output_type": "display_data"
    },
    {
     "data": {
      "text/markdown": [
       "fallunterscheidung kontraposition"
      ],
      "text/plain": [
       "<IPython.core.display.Markdown object>"
      ]
     },
     "metadata": {},
     "output_type": "display_data"
    },
    {
     "data": {
      "text/markdown": [
       "**=== folge ===**"
      ],
      "text/plain": [
       "<IPython.core.display.Markdown object>"
      ]
     },
     "metadata": {},
     "output_type": "display_data"
    },
    {
     "data": {
      "text/markdown": [
       "folge"
      ],
      "text/plain": [
       "<IPython.core.display.Markdown object>"
      ]
     },
     "metadata": {},
     "output_type": "display_data"
    },
    {
     "data": {
      "text/markdown": [
       "**=== folgenkriterium der stetigkeit: folgenstetigkeit ===**"
      ],
      "text/plain": [
       "<IPython.core.display.Markdown object>"
      ]
     },
     "metadata": {},
     "output_type": "display_data"
    },
    {
     "data": {
      "text/markdown": [
       "folgenkriterium stetigkeit"
      ],
      "text/plain": [
       "<IPython.core.display.Markdown object>"
      ]
     },
     "metadata": {},
     "output_type": "display_data"
    },
    {
     "data": {
      "text/markdown": [
       "folgenstetigkeit"
      ],
      "text/plain": [
       "<IPython.core.display.Markdown object>"
      ]
     },
     "metadata": {},
     "output_type": "display_data"
    },
    {
     "data": {
      "text/markdown": [
       "**=== folgenräume ===**"
      ],
      "text/plain": [
       "<IPython.core.display.Markdown object>"
      ]
     },
     "metadata": {},
     "output_type": "display_data"
    },
    {
     "data": {
      "text/markdown": [
       "folgenräume"
      ],
      "text/plain": [
       "<IPython.core.display.Markdown object>"
      ]
     },
     "metadata": {},
     "output_type": "display_data"
    },
    {
     "data": {
      "text/markdown": [
       "**=== folgerungen aus den körperaxiomen ===**"
      ],
      "text/plain": [
       "<IPython.core.display.Markdown object>"
      ]
     },
     "metadata": {},
     "output_type": "display_data"
    },
    {
     "data": {
      "text/markdown": [
       "folgerungen körperaxiomen"
      ],
      "text/plain": [
       "<IPython.core.display.Markdown object>"
      ]
     },
     "metadata": {},
     "output_type": "display_data"
    },
    {
     "data": {
      "text/markdown": [
       "**=== folgerungen der anordnungsaxiome ===**"
      ],
      "text/plain": [
       "<IPython.core.display.Markdown object>"
      ]
     },
     "metadata": {},
     "output_type": "display_data"
    },
    {
     "data": {
      "text/markdown": [
       "folgerungen anordnungsaxiome"
      ],
      "text/plain": [
       "<IPython.core.display.Markdown object>"
      ]
     },
     "metadata": {},
     "output_type": "display_data"
    },
    {
     "data": {
      "text/markdown": [
       "**=== formeln der mengenlehre ===**"
      ],
      "text/plain": [
       "<IPython.core.display.Markdown object>"
      ]
     },
     "metadata": {},
     "output_type": "display_data"
    },
    {
     "data": {
      "text/markdown": [
       "formeln mengenlehre"
      ],
      "text/plain": [
       "<IPython.core.display.Markdown object>"
      ]
     },
     "metadata": {},
     "output_type": "display_data"
    },
    {
     "data": {
      "text/markdown": [
       "**=== funktionsräume ===**"
      ],
      "text/plain": [
       "<IPython.core.display.Markdown object>"
      ]
     },
     "metadata": {},
     "output_type": "display_data"
    },
    {
     "data": {
      "text/markdown": [
       "funktionsräume"
      ],
      "text/plain": [
       "<IPython.core.display.Markdown object>"
      ]
     },
     "metadata": {},
     "output_type": "display_data"
    },
    {
     "data": {
      "text/markdown": [
       "**=== gaußsche summenformel ===**"
      ],
      "text/plain": [
       "<IPython.core.display.Markdown object>"
      ]
     },
     "metadata": {},
     "output_type": "display_data"
    },
    {
     "data": {
      "text/markdown": [
       "gaußsche summenformel"
      ],
      "text/plain": [
       "<IPython.core.display.Markdown object>"
      ]
     },
     "metadata": {},
     "output_type": "display_data"
    },
    {
     "data": {
      "text/markdown": [
       "**=== geometrische reihe ===**"
      ],
      "text/plain": [
       "<IPython.core.display.Markdown object>"
      ]
     },
     "metadata": {},
     "output_type": "display_data"
    },
    {
     "data": {
      "text/markdown": [
       "geometrische reihe"
      ],
      "text/plain": [
       "<IPython.core.display.Markdown object>"
      ]
     },
     "metadata": {},
     "output_type": "display_data"
    },
    {
     "data": {
      "text/markdown": [
       "**=== geometrische summenformel ===**"
      ],
      "text/plain": [
       "<IPython.core.display.Markdown object>"
      ]
     },
     "metadata": {},
     "output_type": "display_data"
    },
    {
     "data": {
      "text/markdown": [
       "geometrische summenformel"
      ],
      "text/plain": [
       "<IPython.core.display.Markdown object>"
      ]
     },
     "metadata": {},
     "output_type": "display_data"
    },
    {
     "data": {
      "text/markdown": [
       "**=== gesetze der logik ===**"
      ],
      "text/plain": [
       "<IPython.core.display.Markdown object>"
      ]
     },
     "metadata": {},
     "output_type": "display_data"
    },
    {
     "data": {
      "text/markdown": [
       "gesetze logik"
      ],
      "text/plain": [
       "<IPython.core.display.Markdown object>"
      ]
     },
     "metadata": {},
     "output_type": "display_data"
    },
    {
     "data": {
      "text/markdown": [
       "**=== gleichmäßige stetigkeit ===**"
      ],
      "text/plain": [
       "<IPython.core.display.Markdown object>"
      ]
     },
     "metadata": {},
     "output_type": "display_data"
    },
    {
     "data": {
      "text/markdown": [
       "gleichmäßige stetigkeit"
      ],
      "text/plain": [
       "<IPython.core.display.Markdown object>"
      ]
     },
     "metadata": {},
     "output_type": "display_data"
    },
    {
     "data": {
      "text/markdown": [
       "**=== gleichungen: umformungen ===**"
      ],
      "text/plain": [
       "<IPython.core.display.Markdown object>"
      ]
     },
     "metadata": {},
     "output_type": "display_data"
    },
    {
     "data": {
      "text/markdown": [
       "umformungen gleichungen"
      ],
      "text/plain": [
       "<IPython.core.display.Markdown object>"
      ]
     },
     "metadata": {},
     "output_type": "display_data"
    },
    {
     "data": {
      "text/markdown": [
       "**=== gleichungssysteme und matrizen ===**"
      ],
      "text/plain": [
       "<IPython.core.display.Markdown object>"
      ]
     },
     "metadata": {},
     "output_type": "display_data"
    },
    {
     "data": {
      "text/markdown": [
       "gleichungssysteme matrizen"
      ],
      "text/plain": [
       "<IPython.core.display.Markdown object>"
      ]
     },
     "metadata": {},
     "output_type": "display_data"
    },
    {
     "data": {
      "text/markdown": [
       "**=== grenzwert: beispiele ===**"
      ],
      "text/plain": [
       "<IPython.core.display.Markdown object>"
      ]
     },
     "metadata": {},
     "output_type": "display_data"
    },
    {
     "data": {
      "text/markdown": [
       "beispiele grenzwert"
      ],
      "text/plain": [
       "<IPython.core.display.Markdown object>"
      ]
     },
     "metadata": {},
     "output_type": "display_data"
    },
    {
     "data": {
      "text/markdown": [
       "**=== grenzwert: konvergenz und divergenz ===**"
      ],
      "text/plain": [
       "<IPython.core.display.Markdown object>"
      ]
     },
     "metadata": {},
     "output_type": "display_data"
    },
    {
     "data": {
      "text/markdown": [
       "grenzwert"
      ],
      "text/plain": [
       "<IPython.core.display.Markdown object>"
      ]
     },
     "metadata": {},
     "output_type": "display_data"
    },
    {
     "data": {
      "text/markdown": [
       "konvergenz"
      ],
      "text/plain": [
       "<IPython.core.display.Markdown object>"
      ]
     },
     "metadata": {},
     "output_type": "display_data"
    },
    {
     "data": {
      "text/markdown": [
       "divergenz"
      ],
      "text/plain": [
       "<IPython.core.display.Markdown object>"
      ]
     },
     "metadata": {},
     "output_type": "display_data"
    },
    {
     "data": {
      "text/markdown": [
       "**=== grenzwert von funktionen ===**"
      ],
      "text/plain": [
       "<IPython.core.display.Markdown object>"
      ]
     },
     "metadata": {},
     "output_type": "display_data"
    },
    {
     "data": {
      "text/markdown": [
       "grenzwert funktionen"
      ],
      "text/plain": [
       "<IPython.core.display.Markdown object>"
      ]
     },
     "metadata": {},
     "output_type": "display_data"
    },
    {
     "data": {
      "text/markdown": [
       "**=== grenzwertsätze: grenzwert von folgen berechnen ===**"
      ],
      "text/plain": [
       "<IPython.core.display.Markdown object>"
      ]
     },
     "metadata": {},
     "output_type": "display_data"
    },
    {
     "data": {
      "text/markdown": [
       "grenzwertsätze"
      ],
      "text/plain": [
       "<IPython.core.display.Markdown object>"
      ]
     },
     "metadata": {},
     "output_type": "display_data"
    },
    {
     "data": {
      "text/markdown": [
       "grenzwert berechnen"
      ],
      "text/plain": [
       "<IPython.core.display.Markdown object>"
      ]
     },
     "metadata": {},
     "output_type": "display_data"
    },
    {
     "data": {
      "text/markdown": [
       "**=== grundlagen der mathematik ===**"
      ],
      "text/plain": [
       "<IPython.core.display.Markdown object>"
      ]
     },
     "metadata": {},
     "output_type": "display_data"
    },
    {
     "data": {
      "text/markdown": [
       "grundlagen mathematik"
      ],
      "text/plain": [
       "<IPython.core.display.Markdown object>"
      ]
     },
     "metadata": {},
     "output_type": "display_data"
    },
    {
     "data": {
      "text/markdown": [
       "**=== grundlegende eigenschaften algebraischer strukturen ===**"
      ],
      "text/plain": [
       "<IPython.core.display.Markdown object>"
      ]
     },
     "metadata": {},
     "output_type": "display_data"
    },
    {
     "data": {
      "text/markdown": [
       "grundlegende eigenschaften algebraischer strukturen"
      ],
      "text/plain": [
       "<IPython.core.display.Markdown object>"
      ]
     },
     "metadata": {},
     "output_type": "display_data"
    },
    {
     "data": {
      "text/markdown": [
       "**=== gruppen ===**"
      ],
      "text/plain": [
       "<IPython.core.display.Markdown object>"
      ]
     },
     "metadata": {},
     "output_type": "display_data"
    },
    {
     "data": {
      "text/markdown": [
       "gruppen"
      ],
      "text/plain": [
       "<IPython.core.display.Markdown object>"
      ]
     },
     "metadata": {},
     "output_type": "display_data"
    },
    {
     "data": {
      "text/markdown": [
       "**=== harmonische reihe ===**"
      ],
      "text/plain": [
       "<IPython.core.display.Markdown object>"
      ]
     },
     "metadata": {},
     "output_type": "display_data"
    },
    {
     "data": {
      "text/markdown": [
       "harmonische reihe"
      ],
      "text/plain": [
       "<IPython.core.display.Markdown object>"
      ]
     },
     "metadata": {},
     "output_type": "display_data"
    },
    {
     "data": {
      "text/markdown": [
       "**=== hauptsatz der differential- und integralrechnung ===**"
      ],
      "text/plain": [
       "<IPython.core.display.Markdown object>"
      ]
     },
     "metadata": {},
     "output_type": "display_data"
    },
    {
     "data": {
      "text/markdown": [
       "hauptsatz differentialrechnung"
      ],
      "text/plain": [
       "<IPython.core.display.Markdown object>"
      ]
     },
     "metadata": {},
     "output_type": "display_data"
    },
    {
     "data": {
      "text/markdown": [
       "hauptsatz integralrechnung"
      ],
      "text/plain": [
       "<IPython.core.display.Markdown object>"
      ]
     },
     "metadata": {},
     "output_type": "display_data"
    },
    {
     "data": {
      "text/markdown": [
       "hauptsatz der differential- und integralrechnung"
      ],
      "text/plain": [
       "<IPython.core.display.Markdown object>"
      ]
     },
     "metadata": {},
     "output_type": "display_data"
    },
    {
     "data": {
      "text/markdown": [
       "**=== herleitung und definition der exponentialfunktion ===**"
      ],
      "text/plain": [
       "<IPython.core.display.Markdown object>"
      ]
     },
     "metadata": {},
     "output_type": "display_data"
    },
    {
     "data": {
      "text/markdown": [
       "herleitung exponentialfunktion"
      ],
      "text/plain": [
       "<IPython.core.display.Markdown object>"
      ]
     },
     "metadata": {},
     "output_type": "display_data"
    },
    {
     "data": {
      "text/markdown": [
       "definition exponentialfunktion"
      ],
      "text/plain": [
       "<IPython.core.display.Markdown object>"
      ]
     },
     "metadata": {},
     "output_type": "display_data"
    },
    {
     "data": {
      "text/markdown": [
       "**=== homomorphiesatz und isomorphiesatz ===**"
      ],
      "text/plain": [
       "<IPython.core.display.Markdown object>"
      ]
     },
     "metadata": {},
     "output_type": "display_data"
    },
    {
     "data": {
      "text/markdown": [
       "homomorphiesatz isomorphiesatz"
      ],
      "text/plain": [
       "<IPython.core.display.Markdown object>"
      ]
     },
     "metadata": {},
     "output_type": "display_data"
    },
    {
     "data": {
      "text/markdown": [
       "**=== häufungspunkt einer folge ===**"
      ],
      "text/plain": [
       "<IPython.core.display.Markdown object>"
      ]
     },
     "metadata": {},
     "output_type": "display_data"
    },
    {
     "data": {
      "text/markdown": [
       "häufungspunkt folge"
      ],
      "text/plain": [
       "<IPython.core.display.Markdown object>"
      ]
     },
     "metadata": {},
     "output_type": "display_data"
    },
    {
     "data": {
      "text/markdown": [
       "**=== häufungspunkt und berührpunkt einer menge ===**"
      ],
      "text/plain": [
       "<IPython.core.display.Markdown object>"
      ]
     },
     "metadata": {},
     "output_type": "display_data"
    },
    {
     "data": {
      "text/markdown": [
       "häufungspunkt menge"
      ],
      "text/plain": [
       "<IPython.core.display.Markdown object>"
      ]
     },
     "metadata": {},
     "output_type": "display_data"
    },
    {
     "data": {
      "text/markdown": [
       "berührpunkt menge"
      ],
      "text/plain": [
       "<IPython.core.display.Markdown object>"
      ]
     },
     "metadata": {},
     "output_type": "display_data"
    },
    {
     "data": {
      "text/markdown": [
       "**=== inhalte auf ringen ===**"
      ],
      "text/plain": [
       "<IPython.core.display.Markdown object>"
      ]
     },
     "metadata": {},
     "output_type": "display_data"
    },
    {
     "data": {
      "text/markdown": [
       "inhalte ringen"
      ],
      "text/plain": [
       "<IPython.core.display.Markdown object>"
      ]
     },
     "metadata": {},
     "output_type": "display_data"
    },
    {
     "data": {
      "text/markdown": [
       "**=== integral einer funktion ===**"
      ],
      "text/plain": [
       "<IPython.core.display.Markdown object>"
      ]
     },
     "metadata": {},
     "output_type": "display_data"
    },
    {
     "data": {
      "text/markdown": [
       "integral funktion"
      ],
      "text/plain": [
       "<IPython.core.display.Markdown object>"
      ]
     },
     "metadata": {},
     "output_type": "display_data"
    },
    {
     "data": {
      "text/markdown": [
       "**=== intervall ===**"
      ],
      "text/plain": [
       "<IPython.core.display.Markdown object>"
      ]
     },
     "metadata": {},
     "output_type": "display_data"
    },
    {
     "data": {
      "text/markdown": [
       "intervall"
      ],
      "text/plain": [
       "<IPython.core.display.Markdown object>"
      ]
     },
     "metadata": {},
     "output_type": "display_data"
    },
    {
     "data": {
      "text/markdown": [
       "**=== intervallschachtelung mit rationaler genauigkeit ===**"
      ],
      "text/plain": [
       "<IPython.core.display.Markdown object>"
      ]
     },
     "metadata": {},
     "output_type": "display_data"
    },
    {
     "data": {
      "text/markdown": [
       "intervallschachtelung rationaler genauigkeit"
      ],
      "text/plain": [
       "<IPython.core.display.Markdown object>"
      ]
     },
     "metadata": {},
     "output_type": "display_data"
    },
    {
     "data": {
      "text/markdown": [
       "**=== intuition hinter isomorphiesatz und dimensionsformel ===**"
      ],
      "text/plain": [
       "<IPython.core.display.Markdown object>"
      ]
     },
     "metadata": {},
     "output_type": "display_data"
    },
    {
     "data": {
      "text/markdown": [
       "isomorphiesatz"
      ],
      "text/plain": [
       "<IPython.core.display.Markdown object>"
      ]
     },
     "metadata": {},
     "output_type": "display_data"
    },
    {
     "data": {
      "text/markdown": [
       "**=== inverse matrizen ===**"
      ],
      "text/plain": [
       "<IPython.core.display.Markdown object>"
      ]
     },
     "metadata": {},
     "output_type": "display_data"
    },
    {
     "data": {
      "text/markdown": [
       "inverse matrizen"
      ],
      "text/plain": [
       "<IPython.core.display.Markdown object>"
      ]
     },
     "metadata": {},
     "output_type": "display_data"
    },
    {
     "data": {
      "text/markdown": [
       "**=== isomorphismus lineare algebra ===**"
      ],
      "text/plain": [
       "<IPython.core.display.Markdown object>"
      ]
     },
     "metadata": {},
     "output_type": "display_data"
    },
    {
     "data": {
      "text/markdown": [
       "isomorphismus lineare algebra"
      ],
      "text/plain": [
       "<IPython.core.display.Markdown object>"
      ]
     },
     "metadata": {},
     "output_type": "display_data"
    },
    {
     "data": {
      "text/markdown": [
       "**=== junktor ===**"
      ],
      "text/plain": [
       "<IPython.core.display.Markdown object>"
      ]
     },
     "metadata": {},
     "output_type": "display_data"
    },
    {
     "data": {
      "text/markdown": [
       "junktor"
      ],
      "text/plain": [
       "<IPython.core.display.Markdown object>"
      ]
     },
     "metadata": {},
     "output_type": "display_data"
    },
    {
     "data": {
      "text/markdown": [
       "**=== kartesisches produkt ===**"
      ],
      "text/plain": [
       "<IPython.core.display.Markdown object>"
      ]
     },
     "metadata": {},
     "output_type": "display_data"
    },
    {
     "data": {
      "text/markdown": [
       "kartesisches produkt"
      ],
      "text/plain": [
       "<IPython.core.display.Markdown object>"
      ]
     },
     "metadata": {},
     "output_type": "display_data"
    },
    {
     "data": {
      "text/markdown": [
       "**=== kern einer linearen abbildung ===**"
      ],
      "text/plain": [
       "<IPython.core.display.Markdown object>"
      ]
     },
     "metadata": {},
     "output_type": "display_data"
    },
    {
     "data": {
      "text/markdown": [
       "kern lineare abbildung"
      ],
      "text/plain": [
       "<IPython.core.display.Markdown object>"
      ]
     },
     "metadata": {},
     "output_type": "display_data"
    },
    {
     "data": {
      "text/markdown": [
       "**=== klassenlogik ===**"
      ],
      "text/plain": [
       "<IPython.core.display.Markdown object>"
      ]
     },
     "metadata": {},
     "output_type": "display_data"
    },
    {
     "data": {
      "text/markdown": [
       "klassenlogik"
      ],
      "text/plain": [
       "<IPython.core.display.Markdown object>"
      ]
     },
     "metadata": {},
     "output_type": "display_data"
    },
    {
     "data": {
      "text/markdown": [
       "**=== komplexe konjugation und betrag komplexer zahlen ===**"
      ],
      "text/plain": [
       "<IPython.core.display.Markdown object>"
      ]
     },
     "metadata": {},
     "output_type": "display_data"
    },
    {
     "data": {
      "text/markdown": [
       "komplexe konjugation betrag komplexer zahlen"
      ],
      "text/plain": [
       "<IPython.core.display.Markdown object>"
      ]
     },
     "metadata": {},
     "output_type": "display_data"
    },
    {
     "data": {
      "text/markdown": [
       "**=== komplexe zahlen: darstellung komplexwertiger funktionen ===**"
      ],
      "text/plain": [
       "<IPython.core.display.Markdown object>"
      ]
     },
     "metadata": {},
     "output_type": "display_data"
    },
    {
     "data": {
      "text/markdown": [
       "darstellung komplexwertiger funktionen komplexe zahlen"
      ],
      "text/plain": [
       "<IPython.core.display.Markdown object>"
      ]
     },
     "metadata": {},
     "output_type": "display_data"
    },
    {
     "data": {
      "text/markdown": [
       "**=== komplexe zahlen: einleitung und motivation ===**"
      ],
      "text/plain": [
       "<IPython.core.display.Markdown object>"
      ]
     },
     "metadata": {},
     "output_type": "display_data"
    },
    {
     "data": {
      "text/markdown": [
       "einleitung motivation komplexe zahlen"
      ],
      "text/plain": [
       "<IPython.core.display.Markdown object>"
      ]
     },
     "metadata": {},
     "output_type": "display_data"
    },
    {
     "data": {
      "text/markdown": [
       "**=== komplexen zahlen: definition ===**"
      ],
      "text/plain": [
       "<IPython.core.display.Markdown object>"
      ]
     },
     "metadata": {},
     "output_type": "display_data"
    },
    {
     "data": {
      "text/markdown": [
       "definition komplexe zahlen"
      ],
      "text/plain": [
       "<IPython.core.display.Markdown object>"
      ]
     },
     "metadata": {},
     "output_type": "display_data"
    },
    {
     "data": {
      "text/markdown": [
       "**=== komposition stetiger funktionen ===**"
      ],
      "text/plain": [
       "<IPython.core.display.Markdown object>"
      ]
     },
     "metadata": {},
     "output_type": "display_data"
    },
    {
     "data": {
      "text/markdown": [
       "komposition stetiger funktionen"
      ],
      "text/plain": [
       "<IPython.core.display.Markdown object>"
      ]
     },
     "metadata": {},
     "output_type": "display_data"
    },
    {
     "data": {
      "text/markdown": [
       "**=== konstanzkriterium: zusammenhang zwischen konstanz einer funktion und ihrer ableitung ===**"
      ],
      "text/plain": [
       "<IPython.core.display.Markdown object>"
      ]
     },
     "metadata": {},
     "output_type": "display_data"
    },
    {
     "data": {
      "text/markdown": [
       "konstanzkriterium"
      ],
      "text/plain": [
       "<IPython.core.display.Markdown object>"
      ]
     },
     "metadata": {},
     "output_type": "display_data"
    },
    {
     "data": {
      "text/markdown": [
       "konstante funktion ableitung"
      ],
      "text/plain": [
       "<IPython.core.display.Markdown object>"
      ]
     },
     "metadata": {},
     "output_type": "display_data"
    },
    {
     "data": {
      "text/markdown": [
       "**=== konstruktion von maßen ===**"
      ],
      "text/plain": [
       "<IPython.core.display.Markdown object>"
      ]
     },
     "metadata": {},
     "output_type": "display_data"
    },
    {
     "data": {
      "text/markdown": [
       "konstruktion maßen"
      ],
      "text/plain": [
       "<IPython.core.display.Markdown object>"
      ]
     },
     "metadata": {},
     "output_type": "display_data"
    },
    {
     "data": {
      "text/markdown": [
       "**=== konvergenz rekursiver folgen beweisen ===**"
      ],
      "text/plain": [
       "<IPython.core.display.Markdown object>"
      ]
     },
     "metadata": {},
     "output_type": "display_data"
    },
    {
     "data": {
      "text/markdown": [
       "konvergenz rekursiver folgen beweisen"
      ],
      "text/plain": [
       "<IPython.core.display.Markdown object>"
      ]
     },
     "metadata": {},
     "output_type": "display_data"
    },
    {
     "data": {
      "text/markdown": [
       "**=== konvergenz und divergenz beweisen ===**"
      ],
      "text/plain": [
       "<IPython.core.display.Markdown object>"
      ]
     },
     "metadata": {},
     "output_type": "display_data"
    },
    {
     "data": {
      "text/markdown": [
       "konvergenz beweis"
      ],
      "text/plain": [
       "<IPython.core.display.Markdown object>"
      ]
     },
     "metadata": {},
     "output_type": "display_data"
    },
    {
     "data": {
      "text/markdown": [
       "divergenz beweis"
      ],
      "text/plain": [
       "<IPython.core.display.Markdown object>"
      ]
     },
     "metadata": {},
     "output_type": "display_data"
    },
    {
     "data": {
      "text/markdown": [
       "**=== konvergenz und divergenz einer reihe beweisen: konvergenzkriterien ===**"
      ],
      "text/plain": [
       "<IPython.core.display.Markdown object>"
      ]
     },
     "metadata": {},
     "output_type": "display_data"
    },
    {
     "data": {
      "text/markdown": [
       "konvergenz reihe"
      ],
      "text/plain": [
       "<IPython.core.display.Markdown object>"
      ]
     },
     "metadata": {},
     "output_type": "display_data"
    },
    {
     "data": {
      "text/markdown": [
       "divergenz reihe"
      ],
      "text/plain": [
       "<IPython.core.display.Markdown object>"
      ]
     },
     "metadata": {},
     "output_type": "display_data"
    },
    {
     "data": {
      "text/markdown": [
       "konvergenzkriterien"
      ],
      "text/plain": [
       "<IPython.core.display.Markdown object>"
      ]
     },
     "metadata": {},
     "output_type": "display_data"
    },
    {
     "data": {
      "text/markdown": [
       "**=== koordinatenräume ===**"
      ],
      "text/plain": [
       "<IPython.core.display.Markdown object>"
      ]
     },
     "metadata": {},
     "output_type": "display_data"
    },
    {
     "data": {
      "text/markdown": [
       "koordinatenräume"
      ],
      "text/plain": [
       "<IPython.core.display.Markdown object>"
      ]
     },
     "metadata": {},
     "output_type": "display_data"
    },
    {
     "data": {
      "text/markdown": [
       "**=== körper ===**"
      ],
      "text/plain": [
       "<IPython.core.display.Markdown object>"
      ]
     },
     "metadata": {},
     "output_type": "display_data"
    },
    {
     "data": {
      "text/markdown": [
       "körper"
      ],
      "text/plain": [
       "<IPython.core.display.Markdown object>"
      ]
     },
     "metadata": {},
     "output_type": "display_data"
    },
    {
     "data": {
      "text/markdown": [
       "**=== körperaxiome ===**"
      ],
      "text/plain": [
       "<IPython.core.display.Markdown object>"
      ]
     },
     "metadata": {},
     "output_type": "display_data"
    },
    {
     "data": {
      "text/markdown": [
       "körperaxiome"
      ],
      "text/plain": [
       "<IPython.core.display.Markdown object>"
      ]
     },
     "metadata": {},
     "output_type": "display_data"
    },
    {
     "data": {
      "text/markdown": [
       "**=== laplacescher entwicklungssatz ===**"
      ],
      "text/plain": [
       "<IPython.core.display.Markdown object>"
      ]
     },
     "metadata": {},
     "output_type": "display_data"
    },
    {
     "data": {
      "text/markdown": [
       "laplacescher entwicklungssatz"
      ],
      "text/plain": [
       "<IPython.core.display.Markdown object>"
      ]
     },
     "metadata": {},
     "output_type": "display_data"
    },
    {
     "data": {
      "text/markdown": [
       "**=== leere menge und allklasse ===**"
      ],
      "text/plain": [
       "<IPython.core.display.Markdown object>"
      ]
     },
     "metadata": {},
     "output_type": "display_data"
    },
    {
     "data": {
      "text/markdown": [
       "leere menge allklasse"
      ],
      "text/plain": [
       "<IPython.core.display.Markdown object>"
      ]
     },
     "metadata": {},
     "output_type": "display_data"
    },
    {
     "data": {
      "text/markdown": [
       "**=== leibniz-formel der determinante ===**"
      ],
      "text/plain": [
       "<IPython.core.display.Markdown object>"
      ]
     },
     "metadata": {},
     "output_type": "display_data"
    },
    {
     "data": {
      "text/markdown": [
       "leibniz-formel"
      ],
      "text/plain": [
       "<IPython.core.display.Markdown object>"
      ]
     },
     "metadata": {},
     "output_type": "display_data"
    },
    {
     "data": {
      "text/markdown": [
       "**=== leibniz-kriterium ===**"
      ],
      "text/plain": [
       "<IPython.core.display.Markdown object>"
      ]
     },
     "metadata": {},
     "output_type": "display_data"
    },
    {
     "data": {
      "text/markdown": [
       "leibniz-kriterium"
      ],
      "text/plain": [
       "<IPython.core.display.Markdown object>"
      ]
     },
     "metadata": {},
     "output_type": "display_data"
    },
    {
     "data": {
      "text/markdown": [
       "**=== lim sup und lim inf ===**"
      ],
      "text/plain": [
       "<IPython.core.display.Markdown object>"
      ]
     },
     "metadata": {},
     "output_type": "display_data"
    },
    {
     "data": {
      "text/markdown": [
       "lim sup lim inf"
      ],
      "text/plain": [
       "<IPython.core.display.Markdown object>"
      ]
     },
     "metadata": {},
     "output_type": "display_data"
    },
    {
     "data": {
      "text/markdown": [
       "**=== lineare abbildung: bild ===**"
      ],
      "text/plain": [
       "<IPython.core.display.Markdown object>"
      ]
     },
     "metadata": {},
     "output_type": "display_data"
    },
    {
     "data": {
      "text/markdown": [
       "bild lineare abbildung"
      ],
      "text/plain": [
       "<IPython.core.display.Markdown object>"
      ]
     },
     "metadata": {},
     "output_type": "display_data"
    },
    {
     "data": {
      "text/markdown": [
       "**=== lineare abbildung und darstellende matrix ===**"
      ],
      "text/plain": [
       "<IPython.core.display.Markdown object>"
      ]
     },
     "metadata": {},
     "output_type": "display_data"
    },
    {
     "data": {
      "text/markdown": [
       "darstellende matrix"
      ],
      "text/plain": [
       "<IPython.core.display.Markdown object>"
      ]
     },
     "metadata": {},
     "output_type": "display_data"
    },
    {
     "data": {
      "text/markdown": [
       "darstellende matrix lineare abbildung"
      ],
      "text/plain": [
       "<IPython.core.display.Markdown object>"
      ]
     },
     "metadata": {},
     "output_type": "display_data"
    },
    {
     "data": {
      "text/markdown": [
       "**=== lineare abbildungen, homomorphismus ===**"
      ],
      "text/plain": [
       "<IPython.core.display.Markdown object>"
      ]
     },
     "metadata": {},
     "output_type": "display_data"
    },
    {
     "data": {
      "text/markdown": [
       "lineare abbildungen"
      ],
      "text/plain": [
       "<IPython.core.display.Markdown object>"
      ]
     },
     "metadata": {},
     "output_type": "display_data"
    },
    {
     "data": {
      "text/markdown": [
       "homomorphismus"
      ],
      "text/plain": [
       "<IPython.core.display.Markdown object>"
      ]
     },
     "metadata": {},
     "output_type": "display_data"
    },
    {
     "data": {
      "text/markdown": [
       "**=== lineare algebra 1 ===**"
      ],
      "text/plain": [
       "<IPython.core.display.Markdown object>"
      ]
     },
     "metadata": {},
     "output_type": "display_data"
    },
    {
     "data": {
      "text/markdown": [
       "lineare algebra 1"
      ],
      "text/plain": [
       "<IPython.core.display.Markdown object>"
      ]
     },
     "metadata": {},
     "output_type": "display_data"
    },
    {
     "data": {
      "text/markdown": [
       "**=== lineare unabhängigkeit von vektoren ===**"
      ],
      "text/plain": [
       "<IPython.core.display.Markdown object>"
      ]
     },
     "metadata": {},
     "output_type": "display_data"
    },
    {
     "data": {
      "text/markdown": [
       "lineare unabhängigkeit vektoren"
      ],
      "text/plain": [
       "<IPython.core.display.Markdown object>"
      ]
     },
     "metadata": {},
     "output_type": "display_data"
    },
    {
     "data": {
      "text/markdown": [
       "**=== linearkombinationen ===**"
      ],
      "text/plain": [
       "<IPython.core.display.Markdown object>"
      ]
     },
     "metadata": {},
     "output_type": "display_data"
    },
    {
     "data": {
      "text/markdown": [
       "linearkombinationen"
      ],
      "text/plain": [
       "<IPython.core.display.Markdown object>"
      ]
     },
     "metadata": {},
     "output_type": "display_data"
    },
    {
     "data": {
      "text/markdown": [
       "**=== lipschitz-stetigkeit ===**"
      ],
      "text/plain": [
       "<IPython.core.display.Markdown object>"
      ]
     },
     "metadata": {},
     "output_type": "display_data"
    },
    {
     "data": {
      "text/markdown": [
       "lipschitz-stetigkeit"
      ],
      "text/plain": [
       "<IPython.core.display.Markdown object>"
      ]
     },
     "metadata": {},
     "output_type": "display_data"
    },
    {
     "data": {
      "text/markdown": [
       "**=== logik und aussagen ===**"
      ],
      "text/plain": [
       "<IPython.core.display.Markdown object>"
      ]
     },
     "metadata": {},
     "output_type": "display_data"
    },
    {
     "data": {
      "text/markdown": [
       "logik aussagen"
      ],
      "text/plain": [
       "<IPython.core.display.Markdown object>"
      ]
     },
     "metadata": {},
     "output_type": "display_data"
    },
    {
     "data": {
      "text/markdown": [
       "**=== majorantenkriterium und minorantenkriterium ===**"
      ],
      "text/plain": [
       "<IPython.core.display.Markdown object>"
      ]
     },
     "metadata": {},
     "output_type": "display_data"
    },
    {
     "data": {
      "text/markdown": [
       "majorantenkriterium minorantenkriterium"
      ],
      "text/plain": [
       "<IPython.core.display.Markdown object>"
      ]
     },
     "metadata": {},
     "output_type": "display_data"
    },
    {
     "data": {
      "text/markdown": [
       "**=== matrizenmultiplikation ===**"
      ],
      "text/plain": [
       "<IPython.core.display.Markdown object>"
      ]
     },
     "metadata": {},
     "output_type": "display_data"
    },
    {
     "data": {
      "text/markdown": [
       "matrizenmultiplikation"
      ],
      "text/plain": [
       "<IPython.core.display.Markdown object>"
      ]
     },
     "metadata": {},
     "output_type": "display_data"
    },
    {
     "data": {
      "text/markdown": [
       "**=== mengendiagramme: euler- und venn-diagramm ===**"
      ],
      "text/plain": [
       "<IPython.core.display.Markdown object>"
      ]
     },
     "metadata": {},
     "output_type": "display_data"
    },
    {
     "data": {
      "text/markdown": [
       "mengendiagramm"
      ],
      "text/plain": [
       "<IPython.core.display.Markdown object>"
      ]
     },
     "metadata": {},
     "output_type": "display_data"
    },
    {
     "data": {
      "text/markdown": [
       "eulerdiagramm"
      ],
      "text/plain": [
       "<IPython.core.display.Markdown object>"
      ]
     },
     "metadata": {},
     "output_type": "display_data"
    },
    {
     "data": {
      "text/markdown": [
       "venn-diagramm"
      ],
      "text/plain": [
       "<IPython.core.display.Markdown object>"
      ]
     },
     "metadata": {},
     "output_type": "display_data"
    },
    {
     "data": {
      "text/markdown": [
       "**=== mengenlehre: menge ===**"
      ],
      "text/plain": [
       "<IPython.core.display.Markdown object>"
      ]
     },
     "metadata": {},
     "output_type": "display_data"
    },
    {
     "data": {
      "text/markdown": [
       "mengenlehre"
      ],
      "text/plain": [
       "<IPython.core.display.Markdown object>"
      ]
     },
     "metadata": {},
     "output_type": "display_data"
    },
    {
     "data": {
      "text/markdown": [
       "menge"
      ],
      "text/plain": [
       "<IPython.core.display.Markdown object>"
      ]
     },
     "metadata": {},
     "output_type": "display_data"
    },
    {
     "data": {
      "text/markdown": [
       "**=== mittelwertsatz ===**"
      ],
      "text/plain": [
       "<IPython.core.display.Markdown object>"
      ]
     },
     "metadata": {},
     "output_type": "display_data"
    },
    {
     "data": {
      "text/markdown": [
       "mittelwertsatz"
      ],
      "text/plain": [
       "<IPython.core.display.Markdown object>"
      ]
     },
     "metadata": {},
     "output_type": "display_data"
    },
    {
     "data": {
      "text/markdown": [
       "**=== mittelwertsatz für integrale ===**"
      ],
      "text/plain": [
       "<IPython.core.display.Markdown object>"
      ]
     },
     "metadata": {},
     "output_type": "display_data"
    },
    {
     "data": {
      "text/markdown": [
       "mittelwertsatz integral"
      ],
      "text/plain": [
       "<IPython.core.display.Markdown object>"
      ]
     },
     "metadata": {},
     "output_type": "display_data"
    },
    {
     "data": {
      "text/markdown": [
       "**=== monomorphismus lineare algebra ===**"
      ],
      "text/plain": [
       "<IPython.core.display.Markdown object>"
      ]
     },
     "metadata": {},
     "output_type": "display_data"
    },
    {
     "data": {
      "text/markdown": [
       "monomorphismus lineare algebra"
      ],
      "text/plain": [
       "<IPython.core.display.Markdown object>"
      ]
     },
     "metadata": {},
     "output_type": "display_data"
    },
    {
     "data": {
      "text/markdown": [
       "**=== monotoniekriterium: zusammenhang zwischen monotonie und ableitung einer funktion ===**"
      ],
      "text/plain": [
       "<IPython.core.display.Markdown object>"
      ]
     },
     "metadata": {},
     "output_type": "display_data"
    },
    {
     "data": {
      "text/markdown": [
       "monotoniekriterium"
      ],
      "text/plain": [
       "<IPython.core.display.Markdown object>"
      ]
     },
     "metadata": {},
     "output_type": "display_data"
    },
    {
     "data": {
      "text/markdown": [
       "monotonie ableitung"
      ],
      "text/plain": [
       "<IPython.core.display.Markdown object>"
      ]
     },
     "metadata": {},
     "output_type": "display_data"
    },
    {
     "data": {
      "text/markdown": [
       "**=== monotoniekriterium für folgen ===**"
      ],
      "text/plain": [
       "<IPython.core.display.Markdown object>"
      ]
     },
     "metadata": {},
     "output_type": "display_data"
    },
    {
     "data": {
      "text/markdown": [
       "monotoniekriterium folgen"
      ],
      "text/plain": [
       "<IPython.core.display.Markdown object>"
      ]
     },
     "metadata": {},
     "output_type": "display_data"
    },
    {
     "data": {
      "text/markdown": [
       "**=== mächtigkeit von mengen ===**"
      ],
      "text/plain": [
       "<IPython.core.display.Markdown object>"
      ]
     },
     "metadata": {},
     "output_type": "display_data"
    },
    {
     "data": {
      "text/markdown": [
       "mächtigkeit mengen"
      ],
      "text/plain": [
       "<IPython.core.display.Markdown object>"
      ]
     },
     "metadata": {},
     "output_type": "display_data"
    },
    {
     "data": {
      "text/markdown": [
       "**=== nebenklassen eines unterraums ===**"
      ],
      "text/plain": [
       "<IPython.core.display.Markdown object>"
      ]
     },
     "metadata": {},
     "output_type": "display_data"
    },
    {
     "data": {
      "text/markdown": [
       "nebenklassen unterraums"
      ],
      "text/plain": [
       "<IPython.core.display.Markdown object>"
      ]
     },
     "metadata": {},
     "output_type": "display_data"
    },
    {
     "data": {
      "text/markdown": [
       "**=== notwendige und hinreichende bedingungen ===**"
      ],
      "text/plain": [
       "<IPython.core.display.Markdown object>"
      ]
     },
     "metadata": {},
     "output_type": "display_data"
    },
    {
     "data": {
      "text/markdown": [
       "notwendige bedingung"
      ],
      "text/plain": [
       "<IPython.core.display.Markdown object>"
      ]
     },
     "metadata": {},
     "output_type": "display_data"
    },
    {
     "data": {
      "text/markdown": [
       "hinreichende bedingung"
      ],
      "text/plain": [
       "<IPython.core.display.Markdown object>"
      ]
     },
     "metadata": {},
     "output_type": "display_data"
    },
    {
     "data": {
      "text/markdown": [
       "**=== ordnungsrelation ===**"
      ],
      "text/plain": [
       "<IPython.core.display.Markdown object>"
      ]
     },
     "metadata": {},
     "output_type": "display_data"
    },
    {
     "data": {
      "text/markdown": [
       "ordnungsrelation"
      ],
      "text/plain": [
       "<IPython.core.display.Markdown object>"
      ]
     },
     "metadata": {},
     "output_type": "display_data"
    },
    {
     "data": {
      "text/markdown": [
       "**=== partielle integration ===**"
      ],
      "text/plain": [
       "<IPython.core.display.Markdown object>"
      ]
     },
     "metadata": {},
     "output_type": "display_data"
    },
    {
     "data": {
      "text/markdown": [
       "partielle integration"
      ],
      "text/plain": [
       "<IPython.core.display.Markdown object>"
      ]
     },
     "metadata": {},
     "output_type": "display_data"
    },
    {
     "data": {
      "text/markdown": [
       "**=== permutationen ===**"
      ],
      "text/plain": [
       "<IPython.core.display.Markdown object>"
      ]
     },
     "metadata": {},
     "output_type": "display_data"
    },
    {
     "data": {
      "text/markdown": [
       "permutationen"
      ],
      "text/plain": [
       "<IPython.core.display.Markdown object>"
      ]
     },
     "metadata": {},
     "output_type": "display_data"
    },
    {
     "data": {
      "text/markdown": [
       "**=== polarform bzw. polardarstellung komplexer zahlen ===**"
      ],
      "text/plain": [
       "<IPython.core.display.Markdown object>"
      ]
     },
     "metadata": {},
     "output_type": "display_data"
    },
    {
     "data": {
      "text/markdown": [
       "polarform"
      ],
      "text/plain": [
       "<IPython.core.display.Markdown object>"
      ]
     },
     "metadata": {},
     "output_type": "display_data"
    },
    {
     "data": {
      "text/markdown": [
       "polardarstellung"
      ],
      "text/plain": [
       "<IPython.core.display.Markdown object>"
      ]
     },
     "metadata": {},
     "output_type": "display_data"
    },
    {
     "data": {
      "text/markdown": [
       "**=== potenz ===**"
      ],
      "text/plain": [
       "<IPython.core.display.Markdown object>"
      ]
     },
     "metadata": {},
     "output_type": "display_data"
    },
    {
     "data": {
      "text/markdown": [
       "potenz"
      ],
      "text/plain": [
       "<IPython.core.display.Markdown object>"
      ]
     },
     "metadata": {},
     "output_type": "display_data"
    },
    {
     "data": {
      "text/markdown": [
       "**=== potenzen mit rationalem exponenten ===**"
      ],
      "text/plain": [
       "<IPython.core.display.Markdown object>"
      ]
     },
     "metadata": {},
     "output_type": "display_data"
    },
    {
     "data": {
      "text/markdown": [
       "potenzen rationalem exponenten"
      ],
      "text/plain": [
       "<IPython.core.display.Markdown object>"
      ]
     },
     "metadata": {},
     "output_type": "display_data"
    },
    {
     "data": {
      "text/markdown": [
       "**=== potenzen mit reellen exponenten ===**"
      ],
      "text/plain": [
       "<IPython.core.display.Markdown object>"
      ]
     },
     "metadata": {},
     "output_type": "display_data"
    },
    {
     "data": {
      "text/markdown": [
       "potenzen reellen exponenten"
      ],
      "text/plain": [
       "<IPython.core.display.Markdown object>"
      ]
     },
     "metadata": {},
     "output_type": "display_data"
    },
    {
     "data": {
      "text/markdown": [
       "**=== potenzgleichungen ===**"
      ],
      "text/plain": [
       "<IPython.core.display.Markdown object>"
      ]
     },
     "metadata": {},
     "output_type": "display_data"
    },
    {
     "data": {
      "text/markdown": [
       "potenzgleichungen"
      ],
      "text/plain": [
       "<IPython.core.display.Markdown object>"
      ]
     },
     "metadata": {},
     "output_type": "display_data"
    },
    {
     "data": {
      "text/markdown": [
       "**=== potenzmenge ===**"
      ],
      "text/plain": [
       "<IPython.core.display.Markdown object>"
      ]
     },
     "metadata": {},
     "output_type": "display_data"
    },
    {
     "data": {
      "text/markdown": [
       "potenzmenge"
      ],
      "text/plain": [
       "<IPython.core.display.Markdown object>"
      ]
     },
     "metadata": {},
     "output_type": "display_data"
    },
    {
     "data": {
      "text/markdown": [
       "**=== prinzip der linearen fortsetzung ===**"
      ],
      "text/plain": [
       "<IPython.core.display.Markdown object>"
      ]
     },
     "metadata": {},
     "output_type": "display_data"
    },
    {
     "data": {
      "text/markdown": [
       "prinzip linearen fortsetzung"
      ],
      "text/plain": [
       "<IPython.core.display.Markdown object>"
      ]
     },
     "metadata": {},
     "output_type": "display_data"
    },
    {
     "data": {
      "text/markdown": [
       "**=== prädikatenlogik ===**"
      ],
      "text/plain": [
       "<IPython.core.display.Markdown object>"
      ]
     },
     "metadata": {},
     "output_type": "display_data"
    },
    {
     "data": {
      "text/markdown": [
       "prädikatenlogik"
      ],
      "text/plain": [
       "<IPython.core.display.Markdown object>"
      ]
     },
     "metadata": {},
     "output_type": "display_data"
    },
    {
     "data": {
      "text/markdown": [
       "**=== prämaße und maße ===**"
      ],
      "text/plain": [
       "<IPython.core.display.Markdown object>"
      ]
     },
     "metadata": {},
     "output_type": "display_data"
    },
    {
     "data": {
      "text/markdown": [
       "prämaße maße"
      ],
      "text/plain": [
       "<IPython.core.display.Markdown object>"
      ]
     },
     "metadata": {},
     "output_type": "display_data"
    },
    {
     "data": {
      "text/markdown": [
       "**=== quantor ===**"
      ],
      "text/plain": [
       "<IPython.core.display.Markdown object>"
      ]
     },
     "metadata": {},
     "output_type": "display_data"
    },
    {
     "data": {
      "text/markdown": [
       "quantor"
      ],
      "text/plain": [
       "<IPython.core.display.Markdown object>"
      ]
     },
     "metadata": {},
     "output_type": "display_data"
    },
    {
     "data": {
      "text/markdown": [
       "**=== quotientenkriterium ===**"
      ],
      "text/plain": [
       "<IPython.core.display.Markdown object>"
      ]
     },
     "metadata": {},
     "output_type": "display_data"
    },
    {
     "data": {
      "text/markdown": [
       "quotientenkriterium"
      ],
      "text/plain": [
       "<IPython.core.display.Markdown object>"
      ]
     },
     "metadata": {},
     "output_type": "display_data"
    },
    {
     "data": {
      "text/markdown": [
       "**=== rechenregeln der wurzel ===**"
      ],
      "text/plain": [
       "<IPython.core.display.Markdown object>"
      ]
     },
     "metadata": {},
     "output_type": "display_data"
    },
    {
     "data": {
      "text/markdown": [
       "rechenregeln wurzel"
      ],
      "text/plain": [
       "<IPython.core.display.Markdown object>"
      ]
     },
     "metadata": {},
     "output_type": "display_data"
    },
    {
     "data": {
      "text/markdown": [
       "**=== rechenregeln der bestimmten divergenz ===**"
      ],
      "text/plain": [
       "<IPython.core.display.Markdown object>"
      ]
     },
     "metadata": {},
     "output_type": "display_data"
    },
    {
     "data": {
      "text/markdown": [
       "rechenregeln bestimmten divergenz"
      ],
      "text/plain": [
       "<IPython.core.display.Markdown object>"
      ]
     },
     "metadata": {},
     "output_type": "display_data"
    },
    {
     "data": {
      "text/markdown": [
       "**=== rechenregeln für reihen ===**"
      ],
      "text/plain": [
       "<IPython.core.display.Markdown object>"
      ]
     },
     "metadata": {},
     "output_type": "display_data"
    },
    {
     "data": {
      "text/markdown": [
       "rechenregeln reihen"
      ],
      "text/plain": [
       "<IPython.core.display.Markdown object>"
      ]
     },
     "metadata": {},
     "output_type": "display_data"
    },
    {
     "data": {
      "text/markdown": [
       "**=== reelle zahlen ===**"
      ],
      "text/plain": [
       "<IPython.core.display.Markdown object>"
      ]
     },
     "metadata": {},
     "output_type": "display_data"
    },
    {
     "data": {
      "text/markdown": [
       "reelle zahlen"
      ],
      "text/plain": [
       "<IPython.core.display.Markdown object>"
      ]
     },
     "metadata": {},
     "output_type": "display_data"
    },
    {
     "data": {
      "text/markdown": [
       "**=== regel von l'hospital ===**"
      ],
      "text/plain": [
       "<IPython.core.display.Markdown object>"
      ]
     },
     "metadata": {},
     "output_type": "display_data"
    },
    {
     "data": {
      "text/markdown": [
       "regel l'hospital"
      ],
      "text/plain": [
       "<IPython.core.display.Markdown object>"
      ]
     },
     "metadata": {},
     "output_type": "display_data"
    },
    {
     "data": {
      "text/markdown": [
       "**=== regelintegral ===**"
      ],
      "text/plain": [
       "<IPython.core.display.Markdown object>"
      ]
     },
     "metadata": {},
     "output_type": "display_data"
    },
    {
     "data": {
      "text/markdown": [
       "regelintegral"
      ],
      "text/plain": [
       "<IPython.core.display.Markdown object>"
      ]
     },
     "metadata": {},
     "output_type": "display_data"
    },
    {
     "data": {
      "text/markdown": [
       "**=== reihe ===**"
      ],
      "text/plain": [
       "<IPython.core.display.Markdown object>"
      ]
     },
     "metadata": {},
     "output_type": "display_data"
    },
    {
     "data": {
      "text/markdown": [
       "reihe"
      ],
      "text/plain": [
       "<IPython.core.display.Markdown object>"
      ]
     },
     "metadata": {},
     "output_type": "display_data"
    },
    {
     "data": {
      "text/markdown": [
       "**=== relation ===**"
      ],
      "text/plain": [
       "<IPython.core.display.Markdown object>"
      ]
     },
     "metadata": {},
     "output_type": "display_data"
    },
    {
     "data": {
      "text/markdown": [
       "relation"
      ],
      "text/plain": [
       "<IPython.core.display.Markdown object>"
      ]
     },
     "metadata": {},
     "output_type": "display_data"
    },
    {
     "data": {
      "text/markdown": [
       "**=== riemannintegral ===**"
      ],
      "text/plain": [
       "<IPython.core.display.Markdown object>"
      ]
     },
     "metadata": {},
     "output_type": "display_data"
    },
    {
     "data": {
      "text/markdown": [
       "riemannintegral"
      ],
      "text/plain": [
       "<IPython.core.display.Markdown object>"
      ]
     },
     "metadata": {},
     "output_type": "display_data"
    },
    {
     "data": {
      "text/markdown": [
       "**=== ringe ===**"
      ],
      "text/plain": [
       "<IPython.core.display.Markdown object>"
      ]
     },
     "metadata": {},
     "output_type": "display_data"
    },
    {
     "data": {
      "text/markdown": [
       "ringe"
      ],
      "text/plain": [
       "<IPython.core.display.Markdown object>"
      ]
     },
     "metadata": {},
     "output_type": "display_data"
    },
    {
     "data": {
      "text/markdown": [
       "**=== russells antinomie und klassen ===**"
      ],
      "text/plain": [
       "<IPython.core.display.Markdown object>"
      ]
     },
     "metadata": {},
     "output_type": "display_data"
    },
    {
     "data": {
      "text/markdown": [
       "russells antinomie klassen"
      ],
      "text/plain": [
       "<IPython.core.display.Markdown object>"
      ]
     },
     "metadata": {},
     "output_type": "display_data"
    },
    {
     "data": {
      "text/markdown": [
       "**=== sandwichsatz, einschnürungssatz, einschließungssatz ===**"
      ],
      "text/plain": [
       "<IPython.core.display.Markdown object>"
      ]
     },
     "metadata": {},
     "output_type": "display_data"
    },
    {
     "data": {
      "text/markdown": [
       "sandwichsatz"
      ],
      "text/plain": [
       "<IPython.core.display.Markdown object>"
      ]
     },
     "metadata": {},
     "output_type": "display_data"
    },
    {
     "data": {
      "text/markdown": [
       "einschnürungssatz"
      ],
      "text/plain": [
       "<IPython.core.display.Markdown object>"
      ]
     },
     "metadata": {},
     "output_type": "display_data"
    },
    {
     "data": {
      "text/markdown": [
       "einschließungssatz"
      ],
      "text/plain": [
       "<IPython.core.display.Markdown object>"
      ]
     },
     "metadata": {},
     "output_type": "display_data"
    },
    {
     "data": {
      "text/markdown": [
       "**=== satz vom minimum und maximum ===**"
      ],
      "text/plain": [
       "<IPython.core.display.Markdown object>"
      ]
     },
     "metadata": {},
     "output_type": "display_data"
    },
    {
     "data": {
      "text/markdown": [
       "satz maximum"
      ],
      "text/plain": [
       "<IPython.core.display.Markdown object>"
      ]
     },
     "metadata": {},
     "output_type": "display_data"
    },
    {
     "data": {
      "text/markdown": [
       "satz minimum"
      ],
      "text/plain": [
       "<IPython.core.display.Markdown object>"
      ]
     },
     "metadata": {},
     "output_type": "display_data"
    },
    {
     "data": {
      "text/markdown": [
       "**=== satz von bolzano-weierstraß ===**"
      ],
      "text/plain": [
       "<IPython.core.display.Markdown object>"
      ]
     },
     "metadata": {},
     "output_type": "display_data"
    },
    {
     "data": {
      "text/markdown": [
       "satz bolzano-weierstraß"
      ],
      "text/plain": [
       "<IPython.core.display.Markdown object>"
      ]
     },
     "metadata": {},
     "output_type": "display_data"
    },
    {
     "data": {
      "text/markdown": [
       "**=== satz von rolle ===**"
      ],
      "text/plain": [
       "<IPython.core.display.Markdown object>"
      ]
     },
     "metadata": {},
     "output_type": "display_data"
    },
    {
     "data": {
      "text/markdown": [
       "satz rolle"
      ],
      "text/plain": [
       "<IPython.core.display.Markdown object>"
      ]
     },
     "metadata": {},
     "output_type": "display_data"
    },
    {
     "data": {
      "text/markdown": [
       "**=== sinus hyperbolicus und kosinus hyperbolicus ===**"
      ],
      "text/plain": [
       "<IPython.core.display.Markdown object>"
      ]
     },
     "metadata": {},
     "output_type": "display_data"
    },
    {
     "data": {
      "text/markdown": [
       "sinus hyperbolicus kosinus hyperbolicus"
      ],
      "text/plain": [
       "<IPython.core.display.Markdown object>"
      ]
     },
     "metadata": {},
     "output_type": "display_data"
    },
    {
     "data": {
      "text/markdown": [
       "**=== sinus und kosinus ===**"
      ],
      "text/plain": [
       "<IPython.core.display.Markdown object>"
      ]
     },
     "metadata": {},
     "output_type": "display_data"
    },
    {
     "data": {
      "text/markdown": [
       "sinus kosinus"
      ],
      "text/plain": [
       "<IPython.core.display.Markdown object>"
      ]
     },
     "metadata": {},
     "output_type": "display_data"
    },
    {
     "data": {
      "text/markdown": [
       "**=== spann, erzeugnis, lineare hülle ===**"
      ],
      "text/plain": [
       "<IPython.core.display.Markdown object>"
      ]
     },
     "metadata": {},
     "output_type": "display_data"
    },
    {
     "data": {
      "text/markdown": [
       "spann"
      ],
      "text/plain": [
       "<IPython.core.display.Markdown object>"
      ]
     },
     "metadata": {},
     "output_type": "display_data"
    },
    {
     "data": {
      "text/markdown": [
       "erzeugnis"
      ],
      "text/plain": [
       "<IPython.core.display.Markdown object>"
      ]
     },
     "metadata": {},
     "output_type": "display_data"
    },
    {
     "data": {
      "text/markdown": [
       "lineare hülle"
      ],
      "text/plain": [
       "<IPython.core.display.Markdown object>"
      ]
     },
     "metadata": {},
     "output_type": "display_data"
    },
    {
     "data": {
      "text/markdown": [
       "**=== spezielle ableitung ===**"
      ],
      "text/plain": [
       "<IPython.core.display.Markdown object>"
      ]
     },
     "metadata": {},
     "output_type": "display_data"
    },
    {
     "data": {
      "text/markdown": [
       "spezielle ableitung"
      ],
      "text/plain": [
       "<IPython.core.display.Markdown object>"
      ]
     },
     "metadata": {},
     "output_type": "display_data"
    },
    {
     "data": {
      "text/markdown": [
       "**=== stetige inhalte auf sigma-ringen ===**"
      ],
      "text/plain": [
       "<IPython.core.display.Markdown object>"
      ]
     },
     "metadata": {},
     "output_type": "display_data"
    },
    {
     "data": {
      "text/markdown": [
       "stetige inhalte sigma-ringen"
      ],
      "text/plain": [
       "<IPython.core.display.Markdown object>"
      ]
     },
     "metadata": {},
     "output_type": "display_data"
    },
    {
     "data": {
      "text/markdown": [
       "**=== stetigkeit beweisen: epsilon-delta-kriterium und folgenkriterium ===**"
      ],
      "text/plain": [
       "<IPython.core.display.Markdown object>"
      ]
     },
     "metadata": {},
     "output_type": "display_data"
    },
    {
     "data": {
      "text/markdown": [
       "epsilon-delta-kriterium folgenkriterium stetigkeit beweisen"
      ],
      "text/plain": [
       "<IPython.core.display.Markdown object>"
      ]
     },
     "metadata": {},
     "output_type": "display_data"
    },
    {
     "data": {
      "text/markdown": [
       "**=== stetigkeit der umkehrfunktion ===**"
      ],
      "text/plain": [
       "<IPython.core.display.Markdown object>"
      ]
     },
     "metadata": {},
     "output_type": "display_data"
    },
    {
     "data": {
      "text/markdown": [
       "stetigkeit umkehrfunktion"
      ],
      "text/plain": [
       "<IPython.core.display.Markdown object>"
      ]
     },
     "metadata": {},
     "output_type": "display_data"
    },
    {
     "data": {
      "text/markdown": [
       "**=== stetigkeit von funktionen ===**"
      ],
      "text/plain": [
       "<IPython.core.display.Markdown object>"
      ]
     },
     "metadata": {},
     "output_type": "display_data"
    },
    {
     "data": {
      "text/markdown": [
       "stetigkeit funktionen"
      ],
      "text/plain": [
       "<IPython.core.display.Markdown object>"
      ]
     },
     "metadata": {},
     "output_type": "display_data"
    },
    {
     "data": {
      "text/markdown": [
       "**=== substitutionsregel für integrale ===**"
      ],
      "text/plain": [
       "<IPython.core.display.Markdown object>"
      ]
     },
     "metadata": {},
     "output_type": "display_data"
    },
    {
     "data": {
      "text/markdown": [
       "substitutionsregel integral"
      ],
      "text/plain": [
       "<IPython.core.display.Markdown object>"
      ]
     },
     "metadata": {},
     "output_type": "display_data"
    },
    {
     "data": {
      "text/markdown": [
       "**=== summe und produkt ===**"
      ],
      "text/plain": [
       "<IPython.core.display.Markdown object>"
      ]
     },
     "metadata": {},
     "output_type": "display_data"
    },
    {
     "data": {
      "text/markdown": [
       "summe produkt"
      ],
      "text/plain": [
       "<IPython.core.display.Markdown object>"
      ]
     },
     "metadata": {},
     "output_type": "display_data"
    },
    {
     "data": {
      "text/markdown": [
       "**=== supremum und infimum ===**"
      ],
      "text/plain": [
       "<IPython.core.display.Markdown object>"
      ]
     },
     "metadata": {},
     "output_type": "display_data"
    },
    {
     "data": {
      "text/markdown": [
       "supremum infimum"
      ],
      "text/plain": [
       "<IPython.core.display.Markdown object>"
      ]
     },
     "metadata": {},
     "output_type": "display_data"
    },
    {
     "data": {
      "text/markdown": [
       "**=== supremum und infimum: eigenschaften ===**"
      ],
      "text/plain": [
       "<IPython.core.display.Markdown object>"
      ]
     },
     "metadata": {},
     "output_type": "display_data"
    },
    {
     "data": {
      "text/markdown": [
       "eigenschaften supremum infimum"
      ],
      "text/plain": [
       "<IPython.core.display.Markdown object>"
      ]
     },
     "metadata": {},
     "output_type": "display_data"
    },
    {
     "data": {
      "text/markdown": [
       "**=== supremum und infimum bestimmen und beweisen ===**"
      ],
      "text/plain": [
       "<IPython.core.display.Markdown object>"
      ]
     },
     "metadata": {},
     "output_type": "display_data"
    },
    {
     "data": {
      "text/markdown": [
       "beweis supremum"
      ],
      "text/plain": [
       "<IPython.core.display.Markdown object>"
      ]
     },
     "metadata": {},
     "output_type": "display_data"
    },
    {
     "data": {
      "text/markdown": [
       "beweis infimum"
      ],
      "text/plain": [
       "<IPython.core.display.Markdown object>"
      ]
     },
     "metadata": {},
     "output_type": "display_data"
    },
    {
     "data": {
      "text/markdown": [
       "supremum bestimmen"
      ],
      "text/plain": [
       "<IPython.core.display.Markdown object>"
      ]
     },
     "metadata": {},
     "output_type": "display_data"
    },
    {
     "data": {
      "text/markdown": [
       "infimum bestimmen"
      ],
      "text/plain": [
       "<IPython.core.display.Markdown object>"
      ]
     },
     "metadata": {},
     "output_type": "display_data"
    },
    {
     "data": {
      "text/markdown": [
       "**=== tangens und kotangens ===**"
      ],
      "text/plain": [
       "<IPython.core.display.Markdown object>"
      ]
     },
     "metadata": {},
     "output_type": "display_data"
    },
    {
     "data": {
      "text/markdown": [
       "tangens kotangens"
      ],
      "text/plain": [
       "<IPython.core.display.Markdown object>"
      ]
     },
     "metadata": {},
     "output_type": "display_data"
    },
    {
     "data": {
      "text/markdown": [
       "**=== tautologie ===**"
      ],
      "text/plain": [
       "<IPython.core.display.Markdown object>"
      ]
     },
     "metadata": {},
     "output_type": "display_data"
    },
    {
     "data": {
      "text/markdown": [
       "tautologie"
      ],
      "text/plain": [
       "<IPython.core.display.Markdown object>"
      ]
     },
     "metadata": {},
     "output_type": "display_data"
    },
    {
     "data": {
      "text/markdown": [
       "**=== taylor entwicklung ===**"
      ],
      "text/plain": [
       "<IPython.core.display.Markdown object>"
      ]
     },
     "metadata": {},
     "output_type": "display_data"
    },
    {
     "data": {
      "text/markdown": [
       "taylor entwicklung"
      ],
      "text/plain": [
       "<IPython.core.display.Markdown object>"
      ]
     },
     "metadata": {},
     "output_type": "display_data"
    },
    {
     "data": {
      "text/markdown": [
       "**=== teilfolge ===**"
      ],
      "text/plain": [
       "<IPython.core.display.Markdown object>"
      ]
     },
     "metadata": {},
     "output_type": "display_data"
    },
    {
     "data": {
      "text/markdown": [
       "teilfolge"
      ],
      "text/plain": [
       "<IPython.core.display.Markdown object>"
      ]
     },
     "metadata": {},
     "output_type": "display_data"
    },
    {
     "data": {
      "text/markdown": [
       "**=== teilmenge und echte teilmenge ===**"
      ],
      "text/plain": [
       "<IPython.core.display.Markdown object>"
      ]
     },
     "metadata": {},
     "output_type": "display_data"
    },
    {
     "data": {
      "text/markdown": [
       "teilmenge echte teilmenge"
      ],
      "text/plain": [
       "<IPython.core.display.Markdown object>"
      ]
     },
     "metadata": {},
     "output_type": "display_data"
    },
    {
     "data": {
      "text/markdown": [
       "**=== teleskopsumme und teleskopreihe ===**"
      ],
      "text/plain": [
       "<IPython.core.display.Markdown object>"
      ]
     },
     "metadata": {},
     "output_type": "display_data"
    },
    {
     "data": {
      "text/markdown": [
       "teleskopsumme teleskopreihe"
      ],
      "text/plain": [
       "<IPython.core.display.Markdown object>"
      ]
     },
     "metadata": {},
     "output_type": "display_data"
    },
    {
     "data": {
      "text/markdown": [
       "**=== terme: umformungen ===**"
      ],
      "text/plain": [
       "<IPython.core.display.Markdown object>"
      ]
     },
     "metadata": {},
     "output_type": "display_data"
    },
    {
     "data": {
      "text/markdown": [
       "umformungen terme"
      ],
      "text/plain": [
       "<IPython.core.display.Markdown object>"
      ]
     },
     "metadata": {},
     "output_type": "display_data"
    },
    {
     "data": {
      "text/markdown": [
       "**=== trivialkriterium, nullfolgenkriterium, divergenzkriterium ===**"
      ],
      "text/plain": [
       "<IPython.core.display.Markdown object>"
      ]
     },
     "metadata": {},
     "output_type": "display_data"
    },
    {
     "data": {
      "text/markdown": [
       "trivialkriterium"
      ],
      "text/plain": [
       "<IPython.core.display.Markdown object>"
      ]
     },
     "metadata": {},
     "output_type": "display_data"
    },
    {
     "data": {
      "text/markdown": [
       "nullfolgenkriterium"
      ],
      "text/plain": [
       "<IPython.core.display.Markdown object>"
      ]
     },
     "metadata": {},
     "output_type": "display_data"
    },
    {
     "data": {
      "text/markdown": [
       "divergenzkriterium"
      ],
      "text/plain": [
       "<IPython.core.display.Markdown object>"
      ]
     },
     "metadata": {},
     "output_type": "display_data"
    },
    {
     "data": {
      "text/markdown": [
       "**=== tupel und geordnetes paar ===**"
      ],
      "text/plain": [
       "<IPython.core.display.Markdown object>"
      ]
     },
     "metadata": {},
     "output_type": "display_data"
    },
    {
     "data": {
      "text/markdown": [
       "tupel geordnetes paar"
      ],
      "text/plain": [
       "<IPython.core.display.Markdown object>"
      ]
     },
     "metadata": {},
     "output_type": "display_data"
    },
    {
     "data": {
      "text/markdown": [
       "**=== umordnungssatz für reihen ===**"
      ],
      "text/plain": [
       "<IPython.core.display.Markdown object>"
      ]
     },
     "metadata": {},
     "output_type": "display_data"
    },
    {
     "data": {
      "text/markdown": [
       "umordnungssatz reihen"
      ],
      "text/plain": [
       "<IPython.core.display.Markdown object>"
      ]
     },
     "metadata": {},
     "output_type": "display_data"
    },
    {
     "data": {
      "text/markdown": [
       "**=== unbeschränkte folgen divergieren ===**"
      ],
      "text/plain": [
       "<IPython.core.display.Markdown object>"
      ]
     },
     "metadata": {},
     "output_type": "display_data"
    },
    {
     "data": {
      "text/markdown": [
       "unbeschränkte folgen divergieren"
      ],
      "text/plain": [
       "<IPython.core.display.Markdown object>"
      ]
     },
     "metadata": {},
     "output_type": "display_data"
    },
    {
     "data": {
      "text/markdown": [
       "**=== uneigentliche integrale ===**"
      ],
      "text/plain": [
       "<IPython.core.display.Markdown object>"
      ]
     },
     "metadata": {},
     "output_type": "display_data"
    },
    {
     "data": {
      "text/markdown": [
       "uneigentliche integral"
      ],
      "text/plain": [
       "<IPython.core.display.Markdown object>"
      ]
     },
     "metadata": {},
     "output_type": "display_data"
    },
    {
     "data": {
      "text/markdown": [
       "**=== uneigentliches supremum und infimum ===**"
      ],
      "text/plain": [
       "<IPython.core.display.Markdown object>"
      ]
     },
     "metadata": {},
     "output_type": "display_data"
    },
    {
     "data": {
      "text/markdown": [
       "uneigentliches supremum"
      ],
      "text/plain": [
       "<IPython.core.display.Markdown object>"
      ]
     },
     "metadata": {},
     "output_type": "display_data"
    },
    {
     "data": {
      "text/markdown": [
       "uneigentliches infimum"
      ],
      "text/plain": [
       "<IPython.core.display.Markdown object>"
      ]
     },
     "metadata": {},
     "output_type": "display_data"
    },
    {
     "data": {
      "text/markdown": [
       "**=== unstetigkeit beweisen: epsilon-delta-kriterium und folgenkriterium ===**"
      ],
      "text/plain": [
       "<IPython.core.display.Markdown object>"
      ]
     },
     "metadata": {},
     "output_type": "display_data"
    },
    {
     "data": {
      "text/markdown": [
       "epsilon-delta-kriterium folgenkriterium unstetigkeit beweisen"
      ],
      "text/plain": [
       "<IPython.core.display.Markdown object>"
      ]
     },
     "metadata": {},
     "output_type": "display_data"
    },
    {
     "data": {
      "text/markdown": [
       "**=== untervektorraum ===**"
      ],
      "text/plain": [
       "<IPython.core.display.Markdown object>"
      ]
     },
     "metadata": {},
     "output_type": "display_data"
    },
    {
     "data": {
      "text/markdown": [
       "untervektorraum"
      ],
      "text/plain": [
       "<IPython.core.display.Markdown object>"
      ]
     },
     "metadata": {},
     "output_type": "display_data"
    },
    {
     "data": {
      "text/markdown": [
       "**=== vektoren und vektorräume in der schule ===**"
      ],
      "text/plain": [
       "<IPython.core.display.Markdown object>"
      ]
     },
     "metadata": {},
     "output_type": "display_data"
    },
    {
     "data": {
      "text/markdown": [
       "vektoren vektorräume schule"
      ],
      "text/plain": [
       "<IPython.core.display.Markdown object>"
      ]
     },
     "metadata": {},
     "output_type": "display_data"
    },
    {
     "data": {
      "text/markdown": [
       "**=== vektorielle operationen für matrizen ===**"
      ],
      "text/plain": [
       "<IPython.core.display.Markdown object>"
      ]
     },
     "metadata": {},
     "output_type": "display_data"
    },
    {
     "data": {
      "text/markdown": [
       "vektorielle operationen matrizen"
      ],
      "text/plain": [
       "<IPython.core.display.Markdown object>"
      ]
     },
     "metadata": {},
     "output_type": "display_data"
    },
    {
     "data": {
      "text/markdown": [
       "**=== vektorraum: direkte summe ===**"
      ],
      "text/plain": [
       "<IPython.core.display.Markdown object>"
      ]
     },
     "metadata": {},
     "output_type": "display_data"
    },
    {
     "data": {
      "text/markdown": [
       "direkte summe vektorraum"
      ],
      "text/plain": [
       "<IPython.core.display.Markdown object>"
      ]
     },
     "metadata": {},
     "output_type": "display_data"
    },
    {
     "data": {
      "text/markdown": [
       "**=== vektorraum: eigenschaften ===**"
      ],
      "text/plain": [
       "<IPython.core.display.Markdown object>"
      ]
     },
     "metadata": {},
     "output_type": "display_data"
    },
    {
     "data": {
      "text/markdown": [
       "eigenschaften vektorraum"
      ],
      "text/plain": [
       "<IPython.core.display.Markdown object>"
      ]
     },
     "metadata": {},
     "output_type": "display_data"
    },
    {
     "data": {
      "text/markdown": [
       "**=== vektorraum: innere direkte summe und komplement ===**"
      ],
      "text/plain": [
       "<IPython.core.display.Markdown object>"
      ]
     },
     "metadata": {},
     "output_type": "display_data"
    },
    {
     "data": {
      "text/markdown": [
       "innere direkte summe komplement vektorraum"
      ],
      "text/plain": [
       "<IPython.core.display.Markdown object>"
      ]
     },
     "metadata": {},
     "output_type": "display_data"
    },
    {
     "data": {
      "text/markdown": [
       "**=== vektorraum: summe von unterräumen ===**"
      ],
      "text/plain": [
       "<IPython.core.display.Markdown object>"
      ]
     },
     "metadata": {},
     "output_type": "display_data"
    },
    {
     "data": {
      "text/markdown": [
       "summe vektorraum"
      ],
      "text/plain": [
       "<IPython.core.display.Markdown object>"
      ]
     },
     "metadata": {},
     "output_type": "display_data"
    },
    {
     "data": {
      "text/markdown": [
       "summe unterräume"
      ],
      "text/plain": [
       "<IPython.core.display.Markdown object>"
      ]
     },
     "metadata": {},
     "output_type": "display_data"
    },
    {
     "data": {
      "text/markdown": [
       "**=== vektorraum: summen und innere direkte summen von mehr als zwei unterräumen ===**"
      ],
      "text/plain": [
       "<IPython.core.display.Markdown object>"
      ]
     },
     "metadata": {},
     "output_type": "display_data"
    },
    {
     "data": {
      "text/markdown": [
       "indirekte summe vektorraum"
      ],
      "text/plain": [
       "<IPython.core.display.Markdown object>"
      ]
     },
     "metadata": {},
     "output_type": "display_data"
    },
    {
     "data": {
      "text/markdown": [
       "**=== vektorraum linearer abbildungen ===**"
      ],
      "text/plain": [
       "<IPython.core.display.Markdown object>"
      ]
     },
     "metadata": {},
     "output_type": "display_data"
    },
    {
     "data": {
      "text/markdown": [
       "vektorraum linearer abbildungen"
      ],
      "text/plain": [
       "<IPython.core.display.Markdown object>"
      ]
     },
     "metadata": {},
     "output_type": "display_data"
    },
    {
     "data": {
      "text/markdown": [
       "**=== vereinigung und durchschnitt von vektorräumen ===**"
      ],
      "text/plain": [
       "<IPython.core.display.Markdown object>"
      ]
     },
     "metadata": {},
     "output_type": "display_data"
    },
    {
     "data": {
      "text/markdown": [
       "vereinigung vektorraum"
      ],
      "text/plain": [
       "<IPython.core.display.Markdown object>"
      ]
     },
     "metadata": {},
     "output_type": "display_data"
    },
    {
     "data": {
      "text/markdown": [
       "durschschnitt vektorraum"
      ],
      "text/plain": [
       "<IPython.core.display.Markdown object>"
      ]
     },
     "metadata": {},
     "output_type": "display_data"
    },
    {
     "data": {
      "text/markdown": [
       "**=== vereinigung von mengen ===**"
      ],
      "text/plain": [
       "<IPython.core.display.Markdown object>"
      ]
     },
     "metadata": {},
     "output_type": "display_data"
    },
    {
     "data": {
      "text/markdown": [
       "vereinigung mengen"
      ],
      "text/plain": [
       "<IPython.core.display.Markdown object>"
      ]
     },
     "metadata": {},
     "output_type": "display_data"
    },
    {
     "data": {
      "text/markdown": [
       "**=== verknüpfung ===**"
      ],
      "text/plain": [
       "<IPython.core.display.Markdown object>"
      ]
     },
     "metadata": {},
     "output_type": "display_data"
    },
    {
     "data": {
      "text/markdown": [
       "verknüpfung"
      ],
      "text/plain": [
       "<IPython.core.display.Markdown object>"
      ]
     },
     "metadata": {},
     "output_type": "display_data"
    },
    {
     "data": {
      "text/markdown": [
       "**=== verknüpfungen zwischen mengen ===**"
      ],
      "text/plain": [
       "<IPython.core.display.Markdown object>"
      ]
     },
     "metadata": {},
     "output_type": "display_data"
    },
    {
     "data": {
      "text/markdown": [
       "verknüpfungen mengen"
      ],
      "text/plain": [
       "<IPython.core.display.Markdown object>"
      ]
     },
     "metadata": {},
     "output_type": "display_data"
    },
    {
     "data": {
      "text/markdown": [
       "**=== vollständige induktion ===**"
      ],
      "text/plain": [
       "<IPython.core.display.Markdown object>"
      ]
     },
     "metadata": {},
     "output_type": "display_data"
    },
    {
     "data": {
      "text/markdown": [
       "vollständige induktion"
      ],
      "text/plain": [
       "<IPython.core.display.Markdown object>"
      ]
     },
     "metadata": {},
     "output_type": "display_data"
    },
    {
     "data": {
      "text/markdown": [
       "**=== vollständige induktion: beispiele ===**"
      ],
      "text/plain": [
       "<IPython.core.display.Markdown object>"
      ]
     },
     "metadata": {},
     "output_type": "display_data"
    },
    {
     "data": {
      "text/markdown": [
       "beispiele vollständige induktion"
      ],
      "text/plain": [
       "<IPython.core.display.Markdown object>"
      ]
     },
     "metadata": {},
     "output_type": "display_data"
    },
    {
     "data": {
      "text/markdown": [
       "**=== wahrheitstabelle ===**"
      ],
      "text/plain": [
       "<IPython.core.display.Markdown object>"
      ]
     },
     "metadata": {},
     "output_type": "display_data"
    },
    {
     "data": {
      "text/markdown": [
       "wahrheitstabelle"
      ],
      "text/plain": [
       "<IPython.core.display.Markdown object>"
      ]
     },
     "metadata": {},
     "output_type": "display_data"
    },
    {
     "data": {
      "text/markdown": [
       "**=== wahrscheinlichkeitstheorie ===**"
      ],
      "text/plain": [
       "<IPython.core.display.Markdown object>"
      ]
     },
     "metadata": {},
     "output_type": "display_data"
    },
    {
     "data": {
      "text/markdown": [
       "wahrscheinlichkeitstheorie"
      ],
      "text/plain": [
       "<IPython.core.display.Markdown object>"
      ]
     },
     "metadata": {},
     "output_type": "display_data"
    },
    {
     "data": {
      "text/markdown": [
       "**=== wurzel ===**"
      ],
      "text/plain": [
       "<IPython.core.display.Markdown object>"
      ]
     },
     "metadata": {},
     "output_type": "display_data"
    },
    {
     "data": {
      "text/markdown": [
       "wurzel"
      ],
      "text/plain": [
       "<IPython.core.display.Markdown object>"
      ]
     },
     "metadata": {},
     "output_type": "display_data"
    },
    {
     "data": {
      "text/markdown": [
       "**=== wurzelkriterium ===**"
      ],
      "text/plain": [
       "<IPython.core.display.Markdown object>"
      ]
     },
     "metadata": {},
     "output_type": "display_data"
    },
    {
     "data": {
      "text/markdown": [
       "wurzelkriterium"
      ],
      "text/plain": [
       "<IPython.core.display.Markdown object>"
      ]
     },
     "metadata": {},
     "output_type": "display_data"
    },
    {
     "data": {
      "text/markdown": [
       "**=== zahlengerade ===**"
      ],
      "text/plain": [
       "<IPython.core.display.Markdown object>"
      ]
     },
     "metadata": {},
     "output_type": "display_data"
    },
    {
     "data": {
      "text/markdown": [
       "zahlengerade"
      ],
      "text/plain": [
       "<IPython.core.display.Markdown object>"
      ]
     },
     "metadata": {},
     "output_type": "display_data"
    },
    {
     "data": {
      "text/markdown": [
       "**=== zwischenwertsatz ===**"
      ],
      "text/plain": [
       "<IPython.core.display.Markdown object>"
      ]
     },
     "metadata": {},
     "output_type": "display_data"
    },
    {
     "data": {
      "text/markdown": [
       "zwischenwertsatz"
      ],
      "text/plain": [
       "<IPython.core.display.Markdown object>"
      ]
     },
     "metadata": {},
     "output_type": "display_data"
    },
    {
     "data": {
      "text/markdown": [
       "**=== e-reihe ===**"
      ],
      "text/plain": [
       "<IPython.core.display.Markdown object>"
      ]
     },
     "metadata": {},
     "output_type": "display_data"
    },
    {
     "data": {
      "text/markdown": [
       "e-reihe"
      ],
      "text/plain": [
       "<IPython.core.display.Markdown object>"
      ]
     },
     "metadata": {},
     "output_type": "display_data"
    },
    {
     "data": {
      "text/markdown": [
       "**=== äquivalenzrelation ===**"
      ],
      "text/plain": [
       "<IPython.core.display.Markdown object>"
      ]
     },
     "metadata": {},
     "output_type": "display_data"
    },
    {
     "data": {
      "text/markdown": [
       "äquivalenzrelation"
      ],
      "text/plain": [
       "<IPython.core.display.Markdown object>"
      ]
     },
     "metadata": {},
     "output_type": "display_data"
    },
    {
     "data": {
      "text/markdown": [
       "**=== äußere maße, messbarkeit, satz von caratheodory, fortsetzungssatz ===**"
      ],
      "text/plain": [
       "<IPython.core.display.Markdown object>"
      ]
     },
     "metadata": {},
     "output_type": "display_data"
    },
    {
     "data": {
      "text/markdown": [
       "äußere maße"
      ],
      "text/plain": [
       "<IPython.core.display.Markdown object>"
      ]
     },
     "metadata": {},
     "output_type": "display_data"
    },
    {
     "data": {
      "text/markdown": [
       "messbarkeit"
      ],
      "text/plain": [
       "<IPython.core.display.Markdown object>"
      ]
     },
     "metadata": {},
     "output_type": "display_data"
    },
    {
     "data": {
      "text/markdown": [
       "satz caratheodory"
      ],
      "text/plain": [
       "<IPython.core.display.Markdown object>"
      ]
     },
     "metadata": {},
     "output_type": "display_data"
    },
    {
     "data": {
      "text/markdown": [
       "fortsetzungssatz"
      ],
      "text/plain": [
       "<IPython.core.display.Markdown object>"
      ]
     },
     "metadata": {},
     "output_type": "display_data"
    },
    {
     "data": {
      "text/markdown": [
       "**=== äußere direkte summe und direktes produkt ===**"
      ],
      "text/plain": [
       "<IPython.core.display.Markdown object>"
      ]
     },
     "metadata": {},
     "output_type": "display_data"
    },
    {
     "data": {
      "text/markdown": [
       "äußere direkte summe direktes produkt"
      ],
      "text/plain": [
       "<IPython.core.display.Markdown object>"
      ]
     },
     "metadata": {},
     "output_type": "display_data"
    },
    {
     "data": {
      "text/markdown": [
       "**=== übersicht: stetigkeit und differenzierbarkeit ===**"
      ],
      "text/plain": [
       "<IPython.core.display.Markdown object>"
      ]
     },
     "metadata": {},
     "output_type": "display_data"
    },
    {
     "data": {
      "text/markdown": [
       "stetigkeit differenzierbarkeit übersicht"
      ],
      "text/plain": [
       "<IPython.core.display.Markdown object>"
      ]
     },
     "metadata": {},
     "output_type": "display_data"
    },
    {
     "data": {
      "text/markdown": [
       "**=== übersicht zu algebraischer strukturen ===**"
      ],
      "text/plain": [
       "<IPython.core.display.Markdown object>"
      ]
     },
     "metadata": {},
     "output_type": "display_data"
    },
    {
     "data": {
      "text/markdown": [
       "übersicht algebraischer strukturen"
      ],
      "text/plain": [
       "<IPython.core.display.Markdown object>"
      ]
     },
     "metadata": {},
     "output_type": "display_data"
    },
    {
     "data": {
      "text/markdown": [
       "**=== absolute convergence of a series ===**"
      ],
      "text/plain": [
       "<IPython.core.display.Markdown object>"
      ]
     },
     "metadata": {},
     "output_type": "display_data"
    },
    {
     "data": {
      "text/markdown": [
       "absolute convergence series"
      ],
      "text/plain": [
       "<IPython.core.display.Markdown object>"
      ]
     },
     "metadata": {},
     "output_type": "display_data"
    },
    {
     "data": {
      "text/markdown": [
       "**=== absolute value and conjugation ===**"
      ],
      "text/plain": [
       "<IPython.core.display.Markdown object>"
      ]
     },
     "metadata": {},
     "output_type": "display_data"
    },
    {
     "data": {
      "text/markdown": [
       "absolute value"
      ],
      "text/plain": [
       "<IPython.core.display.Markdown object>"
      ]
     },
     "metadata": {},
     "output_type": "display_data"
    },
    {
     "data": {
      "text/markdown": [
       "conjugation"
      ],
      "text/plain": [
       "<IPython.core.display.Markdown object>"
      ]
     },
     "metadata": {},
     "output_type": "display_data"
    },
    {
     "data": {
      "text/markdown": [
       "**=== accumulation points of sequences ===**"
      ],
      "text/plain": [
       "<IPython.core.display.Markdown object>"
      ]
     },
     "metadata": {},
     "output_type": "display_data"
    },
    {
     "data": {
      "text/markdown": [
       "accumulation points sequences"
      ],
      "text/plain": [
       "<IPython.core.display.Markdown object>"
      ]
     },
     "metadata": {},
     "output_type": "display_data"
    },
    {
     "data": {
      "text/markdown": [
       "**=== accumulation points of sets ===**"
      ],
      "text/plain": [
       "<IPython.core.display.Markdown object>"
      ]
     },
     "metadata": {},
     "output_type": "display_data"
    },
    {
     "data": {
      "text/markdown": [
       "accumulation points sets"
      ],
      "text/plain": [
       "<IPython.core.display.Markdown object>"
      ]
     },
     "metadata": {},
     "output_type": "display_data"
    },
    {
     "data": {
      "text/markdown": [
       "**=== alternating series test ===**"
      ],
      "text/plain": [
       "<IPython.core.display.Markdown object>"
      ]
     },
     "metadata": {},
     "output_type": "display_data"
    },
    {
     "data": {
      "text/markdown": [
       "alternating series test"
      ],
      "text/plain": [
       "<IPython.core.display.Markdown object>"
      ]
     },
     "metadata": {},
     "output_type": "display_data"
    },
    {
     "data": {
      "text/markdown": [
       "**=== application of convergence criteria ===**"
      ],
      "text/plain": [
       "<IPython.core.display.Markdown object>"
      ]
     },
     "metadata": {},
     "output_type": "display_data"
    },
    {
     "data": {
      "text/markdown": [
       "application convergence criteria"
      ],
      "text/plain": [
       "<IPython.core.display.Markdown object>"
      ]
     },
     "metadata": {},
     "output_type": "display_data"
    },
    {
     "data": {
      "text/markdown": [
       "**=== basis ===**"
      ],
      "text/plain": [
       "<IPython.core.display.Markdown object>"
      ]
     },
     "metadata": {},
     "output_type": "display_data"
    },
    {
     "data": {
      "text/markdown": [
       "basis"
      ],
      "text/plain": [
       "<IPython.core.display.Markdown object>"
      ]
     },
     "metadata": {},
     "output_type": "display_data"
    },
    {
     "data": {
      "text/markdown": [
       "**=== bounded series and convergence ===**"
      ],
      "text/plain": [
       "<IPython.core.display.Markdown object>"
      ]
     },
     "metadata": {},
     "output_type": "display_data"
    },
    {
     "data": {
      "text/markdown": [
       "bounded series"
      ],
      "text/plain": [
       "<IPython.core.display.Markdown object>"
      ]
     },
     "metadata": {},
     "output_type": "display_data"
    },
    {
     "data": {
      "text/markdown": [
       "convergence"
      ],
      "text/plain": [
       "<IPython.core.display.Markdown object>"
      ]
     },
     "metadata": {},
     "output_type": "display_data"
    },
    {
     "data": {
      "text/markdown": [
       "**=== cauchy condensation test ===**"
      ],
      "text/plain": [
       "<IPython.core.display.Markdown object>"
      ]
     },
     "metadata": {},
     "output_type": "display_data"
    },
    {
     "data": {
      "text/markdown": [
       "cauchy condensation test"
      ],
      "text/plain": [
       "<IPython.core.display.Markdown object>"
      ]
     },
     "metadata": {},
     "output_type": "display_data"
    },
    {
     "data": {
      "text/markdown": [
       "**=== cauchy criterion ===**"
      ],
      "text/plain": [
       "<IPython.core.display.Markdown object>"
      ]
     },
     "metadata": {},
     "output_type": "display_data"
    },
    {
     "data": {
      "text/markdown": [
       "cauchy criterion"
      ],
      "text/plain": [
       "<IPython.core.display.Markdown object>"
      ]
     },
     "metadata": {},
     "output_type": "display_data"
    },
    {
     "data": {
      "text/markdown": [
       "**=== cauchy sequences ===**"
      ],
      "text/plain": [
       "<IPython.core.display.Markdown object>"
      ]
     },
     "metadata": {},
     "output_type": "display_data"
    },
    {
     "data": {
      "text/markdown": [
       "cauchy sequences"
      ],
      "text/plain": [
       "<IPython.core.display.Markdown object>"
      ]
     },
     "metadata": {},
     "output_type": "display_data"
    },
    {
     "data": {
      "text/markdown": [
       "**=== composition of continuous functions ===**"
      ],
      "text/plain": [
       "<IPython.core.display.Markdown object>"
      ]
     },
     "metadata": {},
     "output_type": "display_data"
    },
    {
     "data": {
      "text/markdown": [
       "composition continuous functions"
      ],
      "text/plain": [
       "<IPython.core.display.Markdown object>"
      ]
     },
     "metadata": {},
     "output_type": "display_data"
    },
    {
     "data": {
      "text/markdown": [
       "**=== computation rules for series ===**"
      ],
      "text/plain": [
       "<IPython.core.display.Markdown object>"
      ]
     },
     "metadata": {},
     "output_type": "display_data"
    },
    {
     "data": {
      "text/markdown": [
       "computation rules series"
      ],
      "text/plain": [
       "<IPython.core.display.Markdown object>"
      ]
     },
     "metadata": {},
     "output_type": "display_data"
    },
    {
     "data": {
      "text/markdown": [
       "**=== computing derivatives ===**"
      ],
      "text/plain": [
       "<IPython.core.display.Markdown object>"
      ]
     },
     "metadata": {},
     "output_type": "display_data"
    },
    {
     "data": {
      "text/markdown": [
       "computing derivatives"
      ],
      "text/plain": [
       "<IPython.core.display.Markdown object>"
      ]
     },
     "metadata": {},
     "output_type": "display_data"
    },
    {
     "data": {
      "text/markdown": [
       "**=== computing derivatives - special ===**"
      ],
      "text/plain": [
       "<IPython.core.display.Markdown object>"
      ]
     },
     "metadata": {},
     "output_type": "display_data"
    },
    {
     "data": {
      "text/markdown": [
       "computing derivatives special"
      ],
      "text/plain": [
       "<IPython.core.display.Markdown object>"
      ]
     },
     "metadata": {},
     "output_type": "display_data"
    },
    {
     "data": {
      "text/markdown": [
       "**=== constant functions ===**"
      ],
      "text/plain": [
       "<IPython.core.display.Markdown object>"
      ]
     },
     "metadata": {},
     "output_type": "display_data"
    },
    {
     "data": {
      "text/markdown": [
       "constant functions"
      ],
      "text/plain": [
       "<IPython.core.display.Markdown object>"
      ]
     },
     "metadata": {},
     "output_type": "display_data"
    },
    {
     "data": {
      "text/markdown": [
       "**=== continuity of functions ===**"
      ],
      "text/plain": [
       "<IPython.core.display.Markdown object>"
      ]
     },
     "metadata": {},
     "output_type": "display_data"
    },
    {
     "data": {
      "text/markdown": [
       "continuity functions"
      ],
      "text/plain": [
       "<IPython.core.display.Markdown object>"
      ]
     },
     "metadata": {},
     "output_type": "display_data"
    },
    {
     "data": {
      "text/markdown": [
       "**=== continuity of the inverse function ===**"
      ],
      "text/plain": [
       "<IPython.core.display.Markdown object>"
      ]
     },
     "metadata": {},
     "output_type": "display_data"
    },
    {
     "data": {
      "text/markdown": [
       "continuity inverse function"
      ],
      "text/plain": [
       "<IPython.core.display.Markdown object>"
      ]
     },
     "metadata": {},
     "output_type": "display_data"
    },
    {
     "data": {
      "text/markdown": [
       "**=== coordinate spaces ===**"
      ],
      "text/plain": [
       "<IPython.core.display.Markdown object>"
      ]
     },
     "metadata": {},
     "output_type": "display_data"
    },
    {
     "data": {
      "text/markdown": [
       "coordinate spaces"
      ],
      "text/plain": [
       "<IPython.core.display.Markdown object>"
      ]
     },
     "metadata": {},
     "output_type": "display_data"
    },
    {
     "data": {
      "text/markdown": [
       "**=== definition of complex numbers ===**"
      ],
      "text/plain": [
       "<IPython.core.display.Markdown object>"
      ]
     },
     "metadata": {},
     "output_type": "display_data"
    },
    {
     "data": {
      "text/markdown": [
       "definition complex numbers"
      ],
      "text/plain": [
       "<IPython.core.display.Markdown object>"
      ]
     },
     "metadata": {},
     "output_type": "display_data"
    },
    {
     "data": {
      "text/markdown": [
       "**=== derivation and definition of the exponential series ===**"
      ],
      "text/plain": [
       "<IPython.core.display.Markdown object>"
      ]
     },
     "metadata": {},
     "output_type": "display_data"
    },
    {
     "data": {
      "text/markdown": [
       "derivation exponential series"
      ],
      "text/plain": [
       "<IPython.core.display.Markdown object>"
      ]
     },
     "metadata": {},
     "output_type": "display_data"
    },
    {
     "data": {
      "text/markdown": [
       "definition exponential series"
      ],
      "text/plain": [
       "<IPython.core.display.Markdown object>"
      ]
     },
     "metadata": {},
     "output_type": "display_data"
    },
    {
     "data": {
      "text/markdown": [
       "**=== derivative - inverse function ===**"
      ],
      "text/plain": [
       "<IPython.core.display.Markdown object>"
      ]
     },
     "metadata": {},
     "output_type": "display_data"
    },
    {
     "data": {
      "text/markdown": [
       "derivative inverse function"
      ],
      "text/plain": [
       "<IPython.core.display.Markdown object>"
      ]
     },
     "metadata": {},
     "output_type": "display_data"
    },
    {
     "data": {
      "text/markdown": [
       "**=== derivative and local extrema ===**"
      ],
      "text/plain": [
       "<IPython.core.display.Markdown object>"
      ]
     },
     "metadata": {},
     "output_type": "display_data"
    },
    {
     "data": {
      "text/markdown": [
       "local extrema"
      ],
      "text/plain": [
       "<IPython.core.display.Markdown object>"
      ]
     },
     "metadata": {},
     "output_type": "display_data"
    },
    {
     "data": {
      "text/markdown": [
       "derivative local extrema"
      ],
      "text/plain": [
       "<IPython.core.display.Markdown object>"
      ]
     },
     "metadata": {},
     "output_type": "display_data"
    },
    {
     "data": {
      "text/markdown": [
       "**=== derivatives ===**"
      ],
      "text/plain": [
       "<IPython.core.display.Markdown object>"
      ]
     },
     "metadata": {},
     "output_type": "display_data"
    },
    {
     "data": {
      "text/markdown": [
       "derivatives"
      ],
      "text/plain": [
       "<IPython.core.display.Markdown object>"
      ]
     },
     "metadata": {},
     "output_type": "display_data"
    },
    {
     "data": {
      "text/markdown": [
       "**=== derivatives of higher order ===**"
      ],
      "text/plain": [
       "<IPython.core.display.Markdown object>"
      ]
     },
     "metadata": {},
     "output_type": "display_data"
    },
    {
     "data": {
      "text/markdown": [
       "derivatives higher order"
      ],
      "text/plain": [
       "<IPython.core.display.Markdown object>"
      ]
     },
     "metadata": {},
     "output_type": "display_data"
    },
    {
     "data": {
      "text/markdown": [
       "**=== dimension ===**"
      ],
      "text/plain": [
       "<IPython.core.display.Markdown object>"
      ]
     },
     "metadata": {},
     "output_type": "display_data"
    },
    {
     "data": {
      "text/markdown": [
       "dimension"
      ],
      "text/plain": [
       "<IPython.core.display.Markdown object>"
      ]
     },
     "metadata": {},
     "output_type": "display_data"
    },
    {
     "data": {
      "text/markdown": [
       "**=== direct comparison test ===**"
      ],
      "text/plain": [
       "<IPython.core.display.Markdown object>"
      ]
     },
     "metadata": {},
     "output_type": "display_data"
    },
    {
     "data": {
      "text/markdown": [
       "direct comparison test"
      ],
      "text/plain": [
       "<IPython.core.display.Markdown object>"
      ]
     },
     "metadata": {},
     "output_type": "display_data"
    },
    {
     "data": {
      "text/markdown": [
       "**=== divergence to infinity ===**"
      ],
      "text/plain": [
       "<IPython.core.display.Markdown object>"
      ]
     },
     "metadata": {},
     "output_type": "display_data"
    },
    {
     "data": {
      "text/markdown": [
       "divergence infinity"
      ],
      "text/plain": [
       "<IPython.core.display.Markdown object>"
      ]
     },
     "metadata": {},
     "output_type": "display_data"
    },
    {
     "data": {
      "text/markdown": [
       "**=== divergence to infinity: rules ===**"
      ],
      "text/plain": [
       "<IPython.core.display.Markdown object>"
      ]
     },
     "metadata": {},
     "output_type": "display_data"
    },
    {
     "data": {
      "text/markdown": [
       "rules divergence infinity"
      ],
      "text/plain": [
       "<IPython.core.display.Markdown object>"
      ]
     },
     "metadata": {},
     "output_type": "display_data"
    },
    {
     "data": {
      "text/markdown": [
       "**=== drawing complex-valued functions ===**"
      ],
      "text/plain": [
       "<IPython.core.display.Markdown object>"
      ]
     },
     "metadata": {},
     "output_type": "display_data"
    },
    {
     "data": {
      "text/markdown": [
       "drawing complex-valued functions"
      ],
      "text/plain": [
       "<IPython.core.display.Markdown object>"
      ]
     },
     "metadata": {},
     "output_type": "display_data"
    },
    {
     "data": {
      "text/markdown": [
       "**=== epimorphisms ===**"
      ],
      "text/plain": [
       "<IPython.core.display.Markdown object>"
      ]
     },
     "metadata": {},
     "output_type": "display_data"
    },
    {
     "data": {
      "text/markdown": [
       "epimorphisms"
      ],
      "text/plain": [
       "<IPython.core.display.Markdown object>"
      ]
     },
     "metadata": {},
     "output_type": "display_data"
    },
    {
     "data": {
      "text/markdown": [
       "**=== epsilon-delta definition of continuity ===**"
      ],
      "text/plain": [
       "<IPython.core.display.Markdown object>"
      ]
     },
     "metadata": {},
     "output_type": "display_data"
    },
    {
     "data": {
      "text/markdown": [
       "epsilon-delta definition continuity"
      ],
      "text/plain": [
       "<IPython.core.display.Markdown object>"
      ]
     },
     "metadata": {},
     "output_type": "display_data"
    },
    {
     "data": {
      "text/markdown": [
       "**=== examples and properties of sequences ===**"
      ],
      "text/plain": [
       "<IPython.core.display.Markdown object>"
      ]
     },
     "metadata": {},
     "output_type": "display_data"
    },
    {
     "data": {
      "text/markdown": [
       "sequence example"
      ],
      "text/plain": [
       "<IPython.core.display.Markdown object>"
      ]
     },
     "metadata": {},
     "output_type": "display_data"
    },
    {
     "data": {
      "text/markdown": [
       "sequence properties"
      ],
      "text/plain": [
       "<IPython.core.display.Markdown object>"
      ]
     },
     "metadata": {},
     "output_type": "display_data"
    },
    {
     "data": {
      "text/markdown": [
       "**=== examples for derivatives ===**"
      ],
      "text/plain": [
       "<IPython.core.display.Markdown object>"
      ]
     },
     "metadata": {},
     "output_type": "display_data"
    },
    {
     "data": {
      "text/markdown": [
       "examples derivatives"
      ],
      "text/plain": [
       "<IPython.core.display.Markdown object>"
      ]
     },
     "metadata": {},
     "output_type": "display_data"
    },
    {
     "data": {
      "text/markdown": [
       "**=== examples for limits ===**"
      ],
      "text/plain": [
       "<IPython.core.display.Markdown object>"
      ]
     },
     "metadata": {},
     "output_type": "display_data"
    },
    {
     "data": {
      "text/markdown": [
       "examples limits"
      ],
      "text/plain": [
       "<IPython.core.display.Markdown object>"
      ]
     },
     "metadata": {},
     "output_type": "display_data"
    },
    {
     "data": {
      "text/markdown": [
       "**=== exp and log functions for complex numbers ===**"
      ],
      "text/plain": [
       "<IPython.core.display.Markdown object>"
      ]
     },
     "metadata": {},
     "output_type": "display_data"
    },
    {
     "data": {
      "text/markdown": [
       "exp complex numbers"
      ],
      "text/plain": [
       "<IPython.core.display.Markdown object>"
      ]
     },
     "metadata": {},
     "output_type": "display_data"
    },
    {
     "data": {
      "text/markdown": [
       "log complex numbers"
      ],
      "text/plain": [
       "<IPython.core.display.Markdown object>"
      ]
     },
     "metadata": {},
     "output_type": "display_data"
    },
    {
     "data": {
      "text/markdown": [
       "**=== explicit and recursive description ===**"
      ],
      "text/plain": [
       "<IPython.core.display.Markdown object>"
      ]
     },
     "metadata": {},
     "output_type": "display_data"
    },
    {
     "data": {
      "text/markdown": [
       "explicit description sequence"
      ],
      "text/plain": [
       "<IPython.core.display.Markdown object>"
      ]
     },
     "metadata": {},
     "output_type": "display_data"
    },
    {
     "data": {
      "text/markdown": [
       "recursive description sequence"
      ],
      "text/plain": [
       "<IPython.core.display.Markdown object>"
      ]
     },
     "metadata": {},
     "output_type": "display_data"
    },
    {
     "data": {
      "text/markdown": [
       "**=== exponential series ===**"
      ],
      "text/plain": [
       "<IPython.core.display.Markdown object>"
      ]
     },
     "metadata": {},
     "output_type": "display_data"
    },
    {
     "data": {
      "text/markdown": [
       "exponential series"
      ],
      "text/plain": [
       "<IPython.core.display.Markdown object>"
      ]
     },
     "metadata": {},
     "output_type": "display_data"
    },
    {
     "data": {
      "text/markdown": [
       "**=== extreme value theorem ===**"
      ],
      "text/plain": [
       "<IPython.core.display.Markdown object>"
      ]
     },
     "metadata": {},
     "output_type": "display_data"
    },
    {
     "data": {
      "text/markdown": [
       "extreme value theorem"
      ],
      "text/plain": [
       "<IPython.core.display.Markdown object>"
      ]
     },
     "metadata": {},
     "output_type": "display_data"
    },
    {
     "data": {
      "text/markdown": [
       "**=== field as a vector space ===**"
      ],
      "text/plain": [
       "<IPython.core.display.Markdown object>"
      ]
     },
     "metadata": {},
     "output_type": "display_data"
    },
    {
     "data": {
      "text/markdown": [
       "field vector space"
      ],
      "text/plain": [
       "<IPython.core.display.Markdown object>"
      ]
     },
     "metadata": {},
     "output_type": "display_data"
    },
    {
     "data": {
      "text/markdown": [
       "**=== function spaces ===**"
      ],
      "text/plain": [
       "<IPython.core.display.Markdown object>"
      ]
     },
     "metadata": {},
     "output_type": "display_data"
    },
    {
     "data": {
      "text/markdown": [
       "function spaces"
      ],
      "text/plain": [
       "<IPython.core.display.Markdown object>"
      ]
     },
     "metadata": {},
     "output_type": "display_data"
    },
    {
     "data": {
      "text/markdown": [
       "**=== generators ===**"
      ],
      "text/plain": [
       "<IPython.core.display.Markdown object>"
      ]
     },
     "metadata": {},
     "output_type": "display_data"
    },
    {
     "data": {
      "text/markdown": [
       "generators"
      ],
      "text/plain": [
       "<IPython.core.display.Markdown object>"
      ]
     },
     "metadata": {},
     "output_type": "display_data"
    },
    {
     "data": {
      "text/markdown": [
       "**=== geometric series ===**"
      ],
      "text/plain": [
       "<IPython.core.display.Markdown object>"
      ]
     },
     "metadata": {},
     "output_type": "display_data"
    },
    {
     "data": {
      "text/markdown": [
       "geometric series"
      ],
      "text/plain": [
       "<IPython.core.display.Markdown object>"
      ]
     },
     "metadata": {},
     "output_type": "display_data"
    },
    {
     "data": {
      "text/markdown": [
       "**=== harmonic series ===**"
      ],
      "text/plain": [
       "<IPython.core.display.Markdown object>"
      ]
     },
     "metadata": {},
     "output_type": "display_data"
    },
    {
     "data": {
      "text/markdown": [
       "harmonic series"
      ],
      "text/plain": [
       "<IPython.core.display.Markdown object>"
      ]
     },
     "metadata": {},
     "output_type": "display_data"
    },
    {
     "data": {
      "text/markdown": [
       "**=== how to prove convergence and divergence ===**"
      ],
      "text/plain": [
       "<IPython.core.display.Markdown object>"
      ]
     },
     "metadata": {},
     "output_type": "display_data"
    },
    {
     "data": {
      "text/markdown": [
       "prove convergence"
      ],
      "text/plain": [
       "<IPython.core.display.Markdown object>"
      ]
     },
     "metadata": {},
     "output_type": "display_data"
    },
    {
     "data": {
      "text/markdown": [
       "prove divergence"
      ],
      "text/plain": [
       "<IPython.core.display.Markdown object>"
      ]
     },
     "metadata": {},
     "output_type": "display_data"
    },
    {
     "data": {
      "text/markdown": [
       "**=== how to prove convergence for recursive sequences ===**"
      ],
      "text/plain": [
       "<IPython.core.display.Markdown object>"
      ]
     },
     "metadata": {},
     "output_type": "display_data"
    },
    {
     "data": {
      "text/markdown": [
       "prove convergence recursive sequences"
      ],
      "text/plain": [
       "<IPython.core.display.Markdown object>"
      ]
     },
     "metadata": {},
     "output_type": "display_data"
    },
    {
     "data": {
      "text/markdown": [
       "**=== how to prove existence of a supremum or infimum ===**"
      ],
      "text/plain": [
       "<IPython.core.display.Markdown object>"
      ]
     },
     "metadata": {},
     "output_type": "display_data"
    },
    {
     "data": {
      "text/markdown": [
       "prove existence supremum infimum"
      ],
      "text/plain": [
       "<IPython.core.display.Markdown object>"
      ]
     },
     "metadata": {},
     "output_type": "display_data"
    },
    {
     "data": {
      "text/markdown": [
       "**=== intermediate value theorem ===**"
      ],
      "text/plain": [
       "<IPython.core.display.Markdown object>"
      ]
     },
     "metadata": {},
     "output_type": "display_data"
    },
    {
     "data": {
      "text/markdown": [
       "intermediate value theorem"
      ],
      "text/plain": [
       "<IPython.core.display.Markdown object>"
      ]
     },
     "metadata": {},
     "output_type": "display_data"
    },
    {
     "data": {
      "text/markdown": [
       "**=== introduction: vector space ===**"
      ],
      "text/plain": [
       "<IPython.core.display.Markdown object>"
      ]
     },
     "metadata": {},
     "output_type": "display_data"
    },
    {
     "data": {
      "text/markdown": [
       "vector space introduction"
      ],
      "text/plain": [
       "<IPython.core.display.Markdown object>"
      ]
     },
     "metadata": {},
     "output_type": "display_data"
    },
    {
     "data": {
      "text/markdown": [
       "**=== l'hôspital's rule ===**"
      ],
      "text/plain": [
       "<IPython.core.display.Markdown object>"
      ]
     },
     "metadata": {},
     "output_type": "display_data"
    },
    {
     "data": {
      "text/markdown": [
       "l'hôspital's rule"
      ],
      "text/plain": [
       "<IPython.core.display.Markdown object>"
      ]
     },
     "metadata": {},
     "output_type": "display_data"
    },
    {
     "data": {
      "text/markdown": [
       "**=== lim sup and lim inf ===**"
      ],
      "text/plain": [
       "<IPython.core.display.Markdown object>"
      ]
     },
     "metadata": {},
     "output_type": "display_data"
    },
    {
     "data": {
      "text/markdown": [
       "lim sup"
      ],
      "text/plain": [
       "<IPython.core.display.Markdown object>"
      ]
     },
     "metadata": {},
     "output_type": "display_data"
    },
    {
     "data": {
      "text/markdown": [
       "lim inf"
      ],
      "text/plain": [
       "<IPython.core.display.Markdown object>"
      ]
     },
     "metadata": {},
     "output_type": "display_data"
    },
    {
     "data": {
      "text/markdown": [
       "**=== limit: convergence and divergence ===**"
      ],
      "text/plain": [
       "<IPython.core.display.Markdown object>"
      ]
     },
     "metadata": {},
     "output_type": "display_data"
    },
    {
     "data": {
      "text/markdown": [
       "convergence limit"
      ],
      "text/plain": [
       "<IPython.core.display.Markdown object>"
      ]
     },
     "metadata": {},
     "output_type": "display_data"
    },
    {
     "data": {
      "text/markdown": [
       "divergence limit"
      ],
      "text/plain": [
       "<IPython.core.display.Markdown object>"
      ]
     },
     "metadata": {},
     "output_type": "display_data"
    },
    {
     "data": {
      "text/markdown": [
       "**=== limit of functions ===**"
      ],
      "text/plain": [
       "<IPython.core.display.Markdown object>"
      ]
     },
     "metadata": {},
     "output_type": "display_data"
    },
    {
     "data": {
      "text/markdown": [
       "limit functions"
      ],
      "text/plain": [
       "<IPython.core.display.Markdown object>"
      ]
     },
     "metadata": {},
     "output_type": "display_data"
    },
    {
     "data": {
      "text/markdown": [
       "**=== limit theorems ===**"
      ],
      "text/plain": [
       "<IPython.core.display.Markdown object>"
      ]
     },
     "metadata": {},
     "output_type": "display_data"
    },
    {
     "data": {
      "text/markdown": [
       "limit theorems"
      ],
      "text/plain": [
       "<IPython.core.display.Markdown object>"
      ]
     },
     "metadata": {},
     "output_type": "display_data"
    },
    {
     "data": {
      "text/markdown": [
       "**=== linear combinations ===**"
      ],
      "text/plain": [
       "<IPython.core.display.Markdown object>"
      ]
     },
     "metadata": {},
     "output_type": "display_data"
    },
    {
     "data": {
      "text/markdown": [
       "linear combinations"
      ],
      "text/plain": [
       "<IPython.core.display.Markdown object>"
      ]
     },
     "metadata": {},
     "output_type": "display_data"
    },
    {
     "data": {
      "text/markdown": [
       "**=== linear continuation ===**"
      ],
      "text/plain": [
       "<IPython.core.display.Markdown object>"
      ]
     },
     "metadata": {},
     "output_type": "display_data"
    },
    {
     "data": {
      "text/markdown": [
       "linear continuation"
      ],
      "text/plain": [
       "<IPython.core.display.Markdown object>"
      ]
     },
     "metadata": {},
     "output_type": "display_data"
    },
    {
     "data": {
      "text/markdown": [
       "**=== linear independence ===**"
      ],
      "text/plain": [
       "<IPython.core.display.Markdown object>"
      ]
     },
     "metadata": {},
     "output_type": "display_data"
    },
    {
     "data": {
      "text/markdown": [
       "linear independence"
      ],
      "text/plain": [
       "<IPython.core.display.Markdown object>"
      ]
     },
     "metadata": {},
     "output_type": "display_data"
    },
    {
     "data": {
      "text/markdown": [
       "**=== linear map ===**"
      ],
      "text/plain": [
       "<IPython.core.display.Markdown object>"
      ]
     },
     "metadata": {},
     "output_type": "display_data"
    },
    {
     "data": {
      "text/markdown": [
       "linear map"
      ],
      "text/plain": [
       "<IPython.core.display.Markdown object>"
      ]
     },
     "metadata": {},
     "output_type": "display_data"
    },
    {
     "data": {
      "text/markdown": [
       "**=== lipschitz continuity ===**"
      ],
      "text/plain": [
       "<IPython.core.display.Markdown object>"
      ]
     },
     "metadata": {},
     "output_type": "display_data"
    },
    {
     "data": {
      "text/markdown": [
       "lipschitz continuity"
      ],
      "text/plain": [
       "<IPython.core.display.Markdown object>"
      ]
     },
     "metadata": {},
     "output_type": "display_data"
    },
    {
     "data": {
      "text/markdown": [
       "**=== logarithmic function ===**"
      ],
      "text/plain": [
       "<IPython.core.display.Markdown object>"
      ]
     },
     "metadata": {},
     "output_type": "display_data"
    },
    {
     "data": {
      "text/markdown": [
       "logarithmic function"
      ],
      "text/plain": [
       "<IPython.core.display.Markdown object>"
      ]
     },
     "metadata": {},
     "output_type": "display_data"
    },
    {
     "data": {
      "text/markdown": [
       "**=== mathematical induction ===**"
      ],
      "text/plain": [
       "<IPython.core.display.Markdown object>"
      ]
     },
     "metadata": {},
     "output_type": "display_data"
    },
    {
     "data": {
      "text/markdown": [
       "mathematical induction"
      ],
      "text/plain": [
       "<IPython.core.display.Markdown object>"
      ]
     },
     "metadata": {},
     "output_type": "display_data"
    },
    {
     "data": {
      "text/markdown": [
       "**=== mean value theorem ===**"
      ],
      "text/plain": [
       "<IPython.core.display.Markdown object>"
      ]
     },
     "metadata": {},
     "output_type": "display_data"
    },
    {
     "data": {
      "text/markdown": [
       "mean value theorem"
      ],
      "text/plain": [
       "<IPython.core.display.Markdown object>"
      ]
     },
     "metadata": {},
     "output_type": "display_data"
    },
    {
     "data": {
      "text/markdown": [
       "**=== monomorphisms ===**"
      ],
      "text/plain": [
       "<IPython.core.display.Markdown object>"
      ]
     },
     "metadata": {},
     "output_type": "display_data"
    },
    {
     "data": {
      "text/markdown": [
       "monomorphisms"
      ],
      "text/plain": [
       "<IPython.core.display.Markdown object>"
      ]
     },
     "metadata": {},
     "output_type": "display_data"
    },
    {
     "data": {
      "text/markdown": [
       "**=== monotone functions ===**"
      ],
      "text/plain": [
       "<IPython.core.display.Markdown object>"
      ]
     },
     "metadata": {},
     "output_type": "display_data"
    },
    {
     "data": {
      "text/markdown": [
       "monotone functions"
      ],
      "text/plain": [
       "<IPython.core.display.Markdown object>"
      ]
     },
     "metadata": {},
     "output_type": "display_data"
    },
    {
     "data": {
      "text/markdown": [
       "**=== monotony criterion ===**"
      ],
      "text/plain": [
       "<IPython.core.display.Markdown object>"
      ]
     },
     "metadata": {},
     "output_type": "display_data"
    },
    {
     "data": {
      "text/markdown": [
       "monotony criterion"
      ],
      "text/plain": [
       "<IPython.core.display.Markdown object>"
      ]
     },
     "metadata": {},
     "output_type": "display_data"
    },
    {
     "data": {
      "text/markdown": [
       "**=== overview: continuity and differentiability ===**"
      ],
      "text/plain": [
       "<IPython.core.display.Markdown object>"
      ]
     },
     "metadata": {},
     "output_type": "display_data"
    },
    {
     "data": {
      "text/markdown": [
       "continuity overview"
      ],
      "text/plain": [
       "<IPython.core.display.Markdown object>"
      ]
     },
     "metadata": {},
     "output_type": "display_data"
    },
    {
     "data": {
      "text/markdown": [
       "differentiability overview"
      ],
      "text/plain": [
       "<IPython.core.display.Markdown object>"
      ]
     },
     "metadata": {},
     "output_type": "display_data"
    },
    {
     "data": {
      "text/markdown": [
       "**=== overview: convergence criteria ===**"
      ],
      "text/plain": [
       "<IPython.core.display.Markdown object>"
      ]
     },
     "metadata": {},
     "output_type": "display_data"
    },
    {
     "data": {
      "text/markdown": [
       "convergence criteria overview"
      ],
      "text/plain": [
       "<IPython.core.display.Markdown object>"
      ]
     },
     "metadata": {},
     "output_type": "display_data"
    },
    {
     "data": {
      "text/markdown": [
       "**=== polar representation ===**"
      ],
      "text/plain": [
       "<IPython.core.display.Markdown object>"
      ]
     },
     "metadata": {},
     "output_type": "display_data"
    },
    {
     "data": {
      "text/markdown": [
       "polar representation"
      ],
      "text/plain": [
       "<IPython.core.display.Markdown object>"
      ]
     },
     "metadata": {},
     "output_type": "display_data"
    },
    {
     "data": {
      "text/markdown": [
       "**=== proofs for linear maps ===**"
      ],
      "text/plain": [
       "<IPython.core.display.Markdown object>"
      ]
     },
     "metadata": {},
     "output_type": "display_data"
    },
    {
     "data": {
      "text/markdown": [
       "proofs linear maps"
      ],
      "text/plain": [
       "<IPython.core.display.Markdown object>"
      ]
     },
     "metadata": {},
     "output_type": "display_data"
    },
    {
     "data": {
      "text/markdown": [
       "**=== proofs for vector spaces ===**"
      ],
      "text/plain": [
       "<IPython.core.display.Markdown object>"
      ]
     },
     "metadata": {},
     "output_type": "display_data"
    },
    {
     "data": {
      "text/markdown": [
       "proofs vector spaces"
      ],
      "text/plain": [
       "<IPython.core.display.Markdown object>"
      ]
     },
     "metadata": {},
     "output_type": "display_data"
    },
    {
     "data": {
      "text/markdown": [
       "**=== properties of linear maps ===**"
      ],
      "text/plain": [
       "<IPython.core.display.Markdown object>"
      ]
     },
     "metadata": {},
     "output_type": "display_data"
    },
    {
     "data": {
      "text/markdown": [
       "properties linear maps"
      ],
      "text/plain": [
       "<IPython.core.display.Markdown object>"
      ]
     },
     "metadata": {},
     "output_type": "display_data"
    },
    {
     "data": {
      "text/markdown": [
       "**=== properties of supremum and infimum ===**"
      ],
      "text/plain": [
       "<IPython.core.display.Markdown object>"
      ]
     },
     "metadata": {},
     "output_type": "display_data"
    },
    {
     "data": {
      "text/markdown": [
       "properties supremum"
      ],
      "text/plain": [
       "<IPython.core.display.Markdown object>"
      ]
     },
     "metadata": {},
     "output_type": "display_data"
    },
    {
     "data": {
      "text/markdown": [
       "properties infimum"
      ],
      "text/plain": [
       "<IPython.core.display.Markdown object>"
      ]
     },
     "metadata": {},
     "output_type": "display_data"
    },
    {
     "data": {
      "text/markdown": [
       "**=== properties of the exponential series ===**"
      ],
      "text/plain": [
       "<IPython.core.display.Markdown object>"
      ]
     },
     "metadata": {},
     "output_type": "display_data"
    },
    {
     "data": {
      "text/markdown": [
       "properties exponential series"
      ],
      "text/plain": [
       "<IPython.core.display.Markdown object>"
      ]
     },
     "metadata": {},
     "output_type": "display_data"
    },
    {
     "data": {
      "text/markdown": [
       "**=== propositional logic ===**"
      ],
      "text/plain": [
       "<IPython.core.display.Markdown object>"
      ]
     },
     "metadata": {},
     "output_type": "display_data"
    },
    {
     "data": {
      "text/markdown": [
       "propositional logic"
      ],
      "text/plain": [
       "<IPython.core.display.Markdown object>"
      ]
     },
     "metadata": {},
     "output_type": "display_data"
    },
    {
     "data": {
      "text/markdown": [
       "**=== proving continuity ===**"
      ],
      "text/plain": [
       "<IPython.core.display.Markdown object>"
      ]
     },
     "metadata": {},
     "output_type": "display_data"
    },
    {
     "data": {
      "text/markdown": [
       "proving continuity"
      ],
      "text/plain": [
       "<IPython.core.display.Markdown object>"
      ]
     },
     "metadata": {},
     "output_type": "display_data"
    },
    {
     "data": {
      "text/markdown": [
       "**=== proving discontinuity ===**"
      ],
      "text/plain": [
       "<IPython.core.display.Markdown object>"
      ]
     },
     "metadata": {},
     "output_type": "display_data"
    },
    {
     "data": {
      "text/markdown": [
       "proving discontinuity"
      ],
      "text/plain": [
       "<IPython.core.display.Markdown object>"
      ]
     },
     "metadata": {},
     "output_type": "display_data"
    },
    {
     "data": {
      "text/markdown": [
       "**=== ratio test ===**"
      ],
      "text/plain": [
       "<IPython.core.display.Markdown object>"
      ]
     },
     "metadata": {},
     "output_type": "display_data"
    },
    {
     "data": {
      "text/markdown": [
       "ratio test"
      ],
      "text/plain": [
       "<IPython.core.display.Markdown object>"
      ]
     },
     "metadata": {},
     "output_type": "display_data"
    },
    {
     "data": {
      "text/markdown": [
       "**=== real analysis ===**"
      ],
      "text/plain": [
       "<IPython.core.display.Markdown object>"
      ]
     },
     "metadata": {},
     "output_type": "display_data"
    },
    {
     "data": {
      "text/markdown": [
       "real analysis"
      ],
      "text/plain": [
       "<IPython.core.display.Markdown object>"
      ]
     },
     "metadata": {},
     "output_type": "display_data"
    },
    {
     "data": {
      "text/markdown": [
       "**=== real exponents ===**"
      ],
      "text/plain": [
       "<IPython.core.display.Markdown object>"
      ]
     },
     "metadata": {},
     "output_type": "display_data"
    },
    {
     "data": {
      "text/markdown": [
       "real exponents"
      ],
      "text/plain": [
       "<IPython.core.display.Markdown object>"
      ]
     },
     "metadata": {},
     "output_type": "display_data"
    },
    {
     "data": {
      "text/markdown": [
       "**=== real numbers ===**"
      ],
      "text/plain": [
       "<IPython.core.display.Markdown object>"
      ]
     },
     "metadata": {},
     "output_type": "display_data"
    },
    {
     "data": {
      "text/markdown": [
       "real numbers"
      ],
      "text/plain": [
       "<IPython.core.display.Markdown object>"
      ]
     },
     "metadata": {},
     "output_type": "display_data"
    },
    {
     "data": {
      "text/markdown": [
       "**=== rearrangement theorem for series ===**"
      ],
      "text/plain": [
       "<IPython.core.display.Markdown object>"
      ]
     },
     "metadata": {},
     "output_type": "display_data"
    },
    {
     "data": {
      "text/markdown": [
       "rearrangement theorem series"
      ],
      "text/plain": [
       "<IPython.core.display.Markdown object>"
      ]
     },
     "metadata": {},
     "output_type": "display_data"
    },
    {
     "data": {
      "text/markdown": [
       "**=== rolle's theorem ===**"
      ],
      "text/plain": [
       "<IPython.core.display.Markdown object>"
      ]
     },
     "metadata": {},
     "output_type": "display_data"
    },
    {
     "data": {
      "text/markdown": [
       "rolle's theorem"
      ],
      "text/plain": [
       "<IPython.core.display.Markdown object>"
      ]
     },
     "metadata": {},
     "output_type": "display_data"
    },
    {
     "data": {
      "text/markdown": [
       "**=== root test ===**"
      ],
      "text/plain": [
       "<IPython.core.display.Markdown object>"
      ]
     },
     "metadata": {},
     "output_type": "display_data"
    },
    {
     "data": {
      "text/markdown": [
       "root test"
      ],
      "text/plain": [
       "<IPython.core.display.Markdown object>"
      ]
     },
     "metadata": {},
     "output_type": "display_data"
    },
    {
     "data": {
      "text/markdown": [
       "**=== sequence spaces ===**"
      ],
      "text/plain": [
       "<IPython.core.display.Markdown object>"
      ]
     },
     "metadata": {},
     "output_type": "display_data"
    },
    {
     "data": {
      "text/markdown": [
       "sequence spaces"
      ],
      "text/plain": [
       "<IPython.core.display.Markdown object>"
      ]
     },
     "metadata": {},
     "output_type": "display_data"
    },
    {
     "data": {
      "text/markdown": [
       "**=== sequences ===**"
      ],
      "text/plain": [
       "<IPython.core.display.Markdown object>"
      ]
     },
     "metadata": {},
     "output_type": "display_data"
    },
    {
     "data": {
      "text/markdown": [
       "sequences"
      ],
      "text/plain": [
       "<IPython.core.display.Markdown object>"
      ]
     },
     "metadata": {},
     "output_type": "display_data"
    },
    {
     "data": {
      "text/markdown": [
       "**=== sequential definition of continuity ===**"
      ],
      "text/plain": [
       "<IPython.core.display.Markdown object>"
      ]
     },
     "metadata": {},
     "output_type": "display_data"
    },
    {
     "data": {
      "text/markdown": [
       "sequential definition continuity"
      ],
      "text/plain": [
       "<IPython.core.display.Markdown object>"
      ]
     },
     "metadata": {},
     "output_type": "display_data"
    },
    {
     "data": {
      "text/markdown": [
       "**=== series ===**"
      ],
      "text/plain": [
       "<IPython.core.display.Markdown object>"
      ]
     },
     "metadata": {},
     "output_type": "display_data"
    },
    {
     "data": {
      "text/markdown": [
       "series"
      ],
      "text/plain": [
       "<IPython.core.display.Markdown object>"
      ]
     },
     "metadata": {},
     "output_type": "display_data"
    },
    {
     "data": {
      "text/markdown": [
       "**=== sine and cosine ===**"
      ],
      "text/plain": [
       "<IPython.core.display.Markdown object>"
      ]
     },
     "metadata": {},
     "output_type": "display_data"
    },
    {
     "data": {
      "text/markdown": [
       "sine"
      ],
      "text/plain": [
       "<IPython.core.display.Markdown object>"
      ]
     },
     "metadata": {},
     "output_type": "display_data"
    },
    {
     "data": {
      "text/markdown": [
       "cosine"
      ],
      "text/plain": [
       "<IPython.core.display.Markdown object>"
      ]
     },
     "metadata": {},
     "output_type": "display_data"
    },
    {
     "data": {
      "text/markdown": [
       "**=== span ===**"
      ],
      "text/plain": [
       "<IPython.core.display.Markdown object>"
      ]
     },
     "metadata": {},
     "output_type": "display_data"
    },
    {
     "data": {
      "text/markdown": [
       "span"
      ],
      "text/plain": [
       "<IPython.core.display.Markdown object>"
      ]
     },
     "metadata": {},
     "output_type": "display_data"
    },
    {
     "data": {
      "text/markdown": [
       "**=== steinitz's theorem ===**"
      ],
      "text/plain": [
       "<IPython.core.display.Markdown object>"
      ]
     },
     "metadata": {},
     "output_type": "display_data"
    },
    {
     "data": {
      "text/markdown": [
       "steinitz's theorem"
      ],
      "text/plain": [
       "<IPython.core.display.Markdown object>"
      ]
     },
     "metadata": {},
     "output_type": "display_data"
    },
    {
     "data": {
      "text/markdown": [
       "**=== subsequence ===**"
      ],
      "text/plain": [
       "<IPython.core.display.Markdown object>"
      ]
     },
     "metadata": {},
     "output_type": "display_data"
    },
    {
     "data": {
      "text/markdown": [
       "subsequence"
      ],
      "text/plain": [
       "<IPython.core.display.Markdown object>"
      ]
     },
     "metadata": {},
     "output_type": "display_data"
    },
    {
     "data": {
      "text/markdown": [
       "**=== subspace ===**"
      ],
      "text/plain": [
       "<IPython.core.display.Markdown object>"
      ]
     },
     "metadata": {},
     "output_type": "display_data"
    },
    {
     "data": {
      "text/markdown": [
       "subspace"
      ],
      "text/plain": [
       "<IPython.core.display.Markdown object>"
      ]
     },
     "metadata": {},
     "output_type": "display_data"
    },
    {
     "data": {
      "text/markdown": [
       "**=== supremum and infimum ===**"
      ],
      "text/plain": [
       "<IPython.core.display.Markdown object>"
      ]
     },
     "metadata": {},
     "output_type": "display_data"
    },
    {
     "data": {
      "text/markdown": [
       "supremum"
      ],
      "text/plain": [
       "<IPython.core.display.Markdown object>"
      ]
     },
     "metadata": {},
     "output_type": "display_data"
    },
    {
     "data": {
      "text/markdown": [
       "infimum"
      ],
      "text/plain": [
       "<IPython.core.display.Markdown object>"
      ]
     },
     "metadata": {},
     "output_type": "display_data"
    },
    {
     "data": {
      "text/markdown": [
       "**=== telescoping sums and series ===**"
      ],
      "text/plain": [
       "<IPython.core.display.Markdown object>"
      ]
     },
     "metadata": {},
     "output_type": "display_data"
    },
    {
     "data": {
      "text/markdown": [
       "telescoping sum"
      ],
      "text/plain": [
       "<IPython.core.display.Markdown object>"
      ]
     },
     "metadata": {},
     "output_type": "display_data"
    },
    {
     "data": {
      "text/markdown": [
       "telescoping series"
      ],
      "text/plain": [
       "<IPython.core.display.Markdown object>"
      ]
     },
     "metadata": {},
     "output_type": "display_data"
    },
    {
     "data": {
      "text/markdown": [
       "**=== term test ===**"
      ],
      "text/plain": [
       "<IPython.core.display.Markdown object>"
      ]
     },
     "metadata": {},
     "output_type": "display_data"
    },
    {
     "data": {
      "text/markdown": [
       "term test"
      ],
      "text/plain": [
       "<IPython.core.display.Markdown object>"
      ]
     },
     "metadata": {},
     "output_type": "display_data"
    },
    {
     "data": {
      "text/markdown": [
       "**=== the bolzano-weierstrass theorem ===**"
      ],
      "text/plain": [
       "<IPython.core.display.Markdown object>"
      ]
     },
     "metadata": {},
     "output_type": "display_data"
    },
    {
     "data": {
      "text/markdown": [
       "bolzano-weierstrass theorem"
      ],
      "text/plain": [
       "<IPython.core.display.Markdown object>"
      ]
     },
     "metadata": {},
     "output_type": "display_data"
    },
    {
     "data": {
      "text/markdown": [
       "**=== the infinite case ===**"
      ],
      "text/plain": [
       "<IPython.core.display.Markdown object>"
      ]
     },
     "metadata": {},
     "output_type": "display_data"
    },
    {
     "data": {
      "text/markdown": [
       "infinite case"
      ],
      "text/plain": [
       "<IPython.core.display.Markdown object>"
      ]
     },
     "metadata": {},
     "output_type": "display_data"
    },
    {
     "data": {
      "text/markdown": [
       "**=== the squeeze theorem ===**"
      ],
      "text/plain": [
       "<IPython.core.display.Markdown object>"
      ]
     },
     "metadata": {},
     "output_type": "display_data"
    },
    {
     "data": {
      "text/markdown": [
       "squeeze theorem"
      ],
      "text/plain": [
       "<IPython.core.display.Markdown object>"
      ]
     },
     "metadata": {},
     "output_type": "display_data"
    },
    {
     "data": {
      "text/markdown": [
       "**=== unbounded sequences diverge ===**"
      ],
      "text/plain": [
       "<IPython.core.display.Markdown object>"
      ]
     },
     "metadata": {},
     "output_type": "display_data"
    },
    {
     "data": {
      "text/markdown": [
       "unbounded sequences diverge"
      ],
      "text/plain": [
       "<IPython.core.display.Markdown object>"
      ]
     },
     "metadata": {},
     "output_type": "display_data"
    },
    {
     "data": {
      "text/markdown": [
       "**=== uniform continuity ===**"
      ],
      "text/plain": [
       "<IPython.core.display.Markdown object>"
      ]
     },
     "metadata": {},
     "output_type": "display_data"
    },
    {
     "data": {
      "text/markdown": [
       "uniform continuity"
      ],
      "text/plain": [
       "<IPython.core.display.Markdown object>"
      ]
     },
     "metadata": {},
     "output_type": "display_data"
    },
    {
     "data": {
      "text/markdown": [
       "**=== vector space ===**"
      ],
      "text/plain": [
       "<IPython.core.display.Markdown object>"
      ]
     },
     "metadata": {},
     "output_type": "display_data"
    },
    {
     "data": {
      "text/markdown": [
       "vector space"
      ],
      "text/plain": [
       "<IPython.core.display.Markdown object>"
      ]
     },
     "metadata": {},
     "output_type": "display_data"
    },
    {
     "data": {
      "text/markdown": [
       "**=== vector space: properties ===**"
      ],
      "text/plain": [
       "<IPython.core.display.Markdown object>"
      ]
     },
     "metadata": {},
     "output_type": "display_data"
    },
    {
     "data": {
      "text/markdown": [
       "properties vector space"
      ],
      "text/plain": [
       "<IPython.core.display.Markdown object>"
      ]
     },
     "metadata": {},
     "output_type": "display_data"
    }
   ],
   "source": [
    "import json\n",
    "\n",
    "blacklist = [\n",
    " 'anwendungsbeispiele',\n",
    " 'autor*innenübersicht',\n",
    " 'banner',\n",
    " 'beobachtungsliste',\n",
    " 'best practices für entscheidungsprozesse',\n",
    " 'buchanfänge',\n",
    " 'eine persönliche spielwiese erstellen',\n",
    " 'erstellen von medien',\n",
    " 'formatierungskonventionen',\n",
    " 'formelumgebung',\n",
    " 'grundlagen der mathematik: zusammenfassung',\n",
    " 'grundlegende formatierungen',\n",
    " 'grundvorstellung finden',\n",
    " 'hilfreiche links',\n",
    " 'hinweise zu lizenzen',\n",
    " 'hochladen und einbinden von medien',\n",
    " 'inhalte doppelt einbinden',\n",
    " 'interaktion mit der community',\n",
    " 'kopiere uns',\n",
    " 'linter',\n",
    " 'liste mathematischer symbole',\n",
    " 'mathematische konventionen',\n",
    " 'mitmachen für (nicht-)freaks',\n",
    " 'phabricator',\n",
    " 'print specification',\n",
    " 'projektbeschreibung',\n",
    " 'sitemap',\n",
    " 'spenden',\n",
    " 'spickzettel für mathe-formeln',\n",
    " 'sprachliche konventionen',\n",
    " 'umfragen',\n",
    " 'unsere didaktische vision',\n",
    " 'unterstütze uns',\n",
    " 'volltextsuche',\n",
    " 'wörterbuch',\n",
    " 'zitieren und quellenangaben',\n",
    " 'zugriffszahlen messen',\n",
    " 'über das projekt',\n",
    " 'guidelines for translation',\n",
    " 'translating articles',\n",
    "\"vorlage\", \"archiv\", \"aufgaben\", \"buchanfang\",\n",
    "                \"abstellraum\", \"hilfe\", \"exercises\", \"analysis 2\",\n",
    "                \"artikel\", \"mathe für nicht-freaks\", \"serlo\",\n",
    "\"mitmachen für nicht-freaks\"]\n",
    "\n",
    "\n",
    "predefined_keywords = {\n",
    "    \"ableitung und lokale extrema\": [\"lokale extrema\", \"lokale extrema ableitung\"],\n",
    "    \"aufzählende und beschreibende mengenschreibweise\": [\"aufzählende mengenschreibweise\", \"beschreibende mengenschreibweise\"],\n",
    "    \"beispiele und eigenschaften von folgen\": [\"beispiele folgen\", \"eigenschaften folgen\"],\n",
    "    \"beschränkte reihen und konvergenz\": [\"beschränkte reihen konvergenz\", \"beschränke reihen\"],\n",
    "    \"direkter und indirekter beweis\": [\"direkter beweis\", \"indirekter beweis\"],\n",
    "    \"eigenschaften des sinus und kosinus\": [\"eigenschaften sinus\", \"eigenschaften kosinus\"],\n",
    "    \"explizite und rekursive bildungsgesetze für folgen\": [\"explizite bildungsgesetze folgen\", \"rekursive bildungsgesetze folgen\"],\n",
    "    \"exponential- und logarithmusfunktion in den komplexen zahlen\": [\n",
    "        \"exponentialfunktion komplexe zahlen\", \"logarithmusfunktion komplexe zahlen\"\n",
    "    ],\n",
    "    \"folgenkriterium der stetigkeit: folgenstetigkeit\": [\n",
    "        \"folgenkriterium stetigkeit\", \"folgenstetigkeit\"\n",
    "    ],\n",
    "    \"grenzwert: konvergenz und divergenz\": [\n",
    "        \"grenzwert\", \"konvergenz\", \"divergenz\"\n",
    "    ],\n",
    "    \"grenzwertsätze: grenzwert von folgen berechnen\": [\n",
    "        \"grenzwertsätze\", \"grenzwert berechnen\"\n",
    "    ],\n",
    "    \"hauptsatz der differential- und integralrechnung\": [\n",
    "        \"hauptsatz differentialrechnung\", \"hauptsatz integralrechnung\", \"hauptsatz der differential- und integralrechnung\"\n",
    "    ],\n",
    "    \"herleitung und definition der exponentialfunktion\": [\n",
    "        \"herleitung exponentialfunktion\", \"definition exponentialfunktion\"\n",
    "    ],\n",
    "    \"häufungspunkt und berührpunkt einer menge\": [\n",
    "        \"häufungspunkt menge\", \"berührpunkt menge\"\n",
    "    ],\n",
    "    \"intuition hinter isomorphiesatz und dimensionsformel\": [\n",
    "        \"isomorphiesatz\", \"dimensionsformel\"\n",
    "    ],\n",
    "    \"kern einer linearen abbildung\": [ \"kern lineare abbildung\" ],\n",
    "    \"komplexen zahlen: definition\": [\"definition komplexe zahlen\"],\n",
    "    \"konvergenz und divergenz beweisen\": [\"konvergenz beweis\", \"divergenz beweis\"],\n",
    "    \"konstanzkriterium: zusammenhang zwischen konstanz einer funktion und ihrer ableitung\": [\n",
    "        \"konstanzkriterium\", \"konstante funktion ableitung\"\n",
    "    ],\n",
    "    \"konvergenz und divergenz einer reihe beweisen: konvergenzkriterien\": [\n",
    "        \"konvergenz reihe\", \"divergenz reihe\", \"konvergenzkriterien\"\n",
    "    ],\n",
    "    \"leibniz-formel der determinante\": [\"leibniz-formel\"],\n",
    "    \"lineare abbildung und darstellende matrix\": [\n",
    "        \"darstellende matrix\", \"darstellende matrix lineare abbildung\"\n",
    "    ],\n",
    "    \"mengendiagramme: euler- und venn-diagramm\": [\n",
    "        \"mengendiagramm\", \"eulerdiagramm\", \"venn-diagramm\"\n",
    "    ],\n",
    "    \"mengenlehre: menge\": [\"mengenlehre\", \"menge\"],\n",
    "    \"monotoniekriterium: zusammenhang zwischen monotonie und ableitung einer funktion\": [\n",
    "        \"monotoniekriterium\", \"monotonie ableitung\"\n",
    "    ],\n",
    "    \"notwendige und hinreichende bedingungen\": [\n",
    "        \"notwendige bedingung\", \"hinreichende bedingung\"\n",
    "    ],\n",
    "    \"polarform bzw. polardarstellung komplexer zahlen\": [\n",
    "        \"polarform\", \"polardarstellung\"\n",
    "    ],\n",
    "    \"satz vom minimum und maximum\": [\"satz maximum\", \"satz minimum\"],\n",
    "    \"eigenschaften supremum infimum\": [\n",
    "        \"eigenschaften supremum\", \"eigenschaften infimum\"\n",
    "    ],\n",
    "    \"supremum und infimum bestimmen und beweisen\": [\n",
    "        \"beweis supremum\", \"beweis infimum\", \"supremum bestimmen\", \"infimum bestimmen\"\n",
    "    ],\n",
    "    \"uneigentliches supremum und infimum\": [\n",
    "        \"uneigentliches supremum\", \"uneigentliches infimum\"\n",
    "    ],\n",
    "    \"vektoren vektorräume schule\": [\n",
    "        \"vektoren schule\", \"vektorräume schule\"\n",
    "    ],\n",
    "    \"vektorraum: summe von unterräumen\": [\"summe vektorraum\", \"summe unterräume\"],\n",
    "    \"vereinigung und durchschnitt von vektorräumen\": [\"vereinigung vektorraum\", \"durschschnitt vektorraum\"],\n",
    "    \"vektorraum: summen und innere direkte summen von mehr als zwei unterräumen\": [\n",
    "        \"direkte summe vektorraum\", \"indirekte summe vektorraum\"\n",
    "    ],\n",
    "    \"derivation and definition of the exponential series\": [\n",
    "        \"derivation exponential series\", \"definition exponential series\"\n",
    "    ],\n",
    "    \"derivative and local extrema\": [\n",
    "        \"local extrema\", \"derivative local extrema\"\n",
    "    ],\n",
    "    \"examples and properties of sequences\": [\n",
    "        \"sequence example\", \"sequence properties\"\n",
    "    ],\n",
    "    \"exp and log functions for complex numbers\": [\n",
    "        \"exp complex numbers\", \"log complex numbers\"\n",
    "    ],\n",
    "    \"explicit and recursive description\": [\n",
    "        \"explicit description sequence\", \"recursive description sequence\"\n",
    "    ],\n",
    "    \"how to prove convergence and divergence\": [\n",
    "        \"prove convergence\", \"prove divergence\"\n",
    "    ],\n",
    "    \"prove existence supremum infimum\": [\n",
    "        \"prove supremum\", \"prove infimum\"\n",
    "    ],\n",
    "    \"introduction and motivation\": [],\n",
    "    \"properties of supremum and infimum\": [\"properties supremum\", \"properties infimum\"],\n",
    "    \"telescoping sums and series\": [\"telescoping sum\", \"telescoping series\"]\n",
    "}\n",
    "\n",
    "def get_wb_keywords():\n",
    "    titles = (list_wikibooks_pages(\"Mathe für Nicht-Freaks\") +\n",
    "              list_wikibooks_pages(\"Serlo\"))\n",
    "    titles = [ normalize(t) for t in titles if not is_redirect(t)]\n",
    "    titles = [ t for t in titles if is_article(t)]\n",
    "    \n",
    "    for title in titles:\n",
    "        yield from get_keyword_entries(title)\n",
    "\n",
    "def is_article(title):\n",
    "    for word in blacklist:\n",
    "        if word in title:\n",
    "            return False\n",
    "    \n",
    "    for word in [\"wer\", \"was\", \"wie\", \"what\", \"why\", \"wozu\"]:\n",
    "        if title.startswith(word):\n",
    "            return False\n",
    "    \n",
    "    return True\n",
    "\n",
    "def normalize(title):\n",
    "    title = remove_prefix(title.lower()).strip()\n",
    "    title = title.replace(\"ableitungsregeln\", \"ableitung\").replace(\"(\", \"\").replace(\")\", \"\")\n",
    "    \n",
    "    return title\n",
    "\n",
    "def remove_prefix(title):\n",
    "    return title.replace(\"mathe für nicht-freaks: \", \"\").replace(\"serlo: en: \", \"\")\n",
    "\n",
    "def list_keywords(title):\n",
    "    if title in predefined_keywords:\n",
    "        yield from predefined_keywords[title]\n",
    "    else:\n",
    "        suffix = \"\"\n",
    "\n",
    "        if \":\" in title:\n",
    "            parts = title.split(\":\")\n",
    "\n",
    "            title = parts[-1]\n",
    "            suffixes = parts[:-1]\n",
    "            suffixes.reverse()\n",
    "            suffix = \" \".join(suffixes)\n",
    "\n",
    "        kexwords = title.split(\",\")\n",
    "        keywords = sum((x.split(\" und \") for x in kexwords), [])\n",
    "        keywords = sum((x.split(\" and \") for x in kexwords), [])\n",
    "\n",
    "        for keyword in keywords:\n",
    "            keyword = (keyword.strip() + \" \" + suffix).strip()\n",
    "\n",
    "            words = [normalize_word(w) for w in keyword.split(\" \") if is_keyword(w)]\n",
    "            yield \" \".join(words)\n",
    "\n",
    "def get_keyword_entries(title):\n",
    "    keywords = list_keywords(title)\n",
    "    language = \"en\" if title.startswith(\"Serlo\") else \"de\"\n",
    "    \n",
    "    for keyword in keywords:\n",
    "        yield {\"keyword\": keyword, \"language\": language, \"scope\": \"hochschule\",\n",
    "               \"subject\": \"Mathe\", \"title\": title}\n",
    "                   \n",
    "def is_keyword(word):\n",
    "    if word in [\"1\", \"2\", \"lim\", \"sup\", \"inf\", \"map\"]:\n",
    "        return True\n",
    "    if len(word) <= 3:\n",
    "        return False\n",
    "    if len(word) == 4 and word.startswith(\"ein\"):\n",
    "        return False\n",
    "    if word in [\"einer\", \"eines\", \"führen\", \"besonderer\", \"einführung\", \"bzw.\", \"zwischen\"]:\n",
    "        return False\n",
    "    \n",
    "    return True\n",
    "\n",
    "def normalize_word(word):\n",
    "    if word == \"integrale\":\n",
    "        return \"integral\"\n",
    "    \n",
    "    return word\n",
    "\n",
    "def display_keywords(keywords):\n",
    "    display(Markdown(\"### Liste aller Keywords (Anzahl = %s):\" % len(keywords)))\n",
    "    \n",
    "    keyword_by_title = {}\n",
    "    \n",
    "    for keyword in keywords:\n",
    "        if keyword[\"title\"] not in keyword_by_title:\n",
    "            keyword_by_title[keyword[\"title\"]] = []\n",
    "            \n",
    "        keyword_by_title[keyword[\"title\"]].append(keyword[\"keyword\"])\n",
    "    \n",
    "    for title, keywords in keyword_by_title.items():\n",
    "        display(Markdown(\"**=== %s ===**\" % title))\n",
    "    \n",
    "        for keyword in keywords:\n",
    "            display(Markdown(keyword))\n",
    "\n",
    "wb_keywords = list(unique(get_wb_keywords()))\n",
    "display_keywords(wb_keywords)"
   ]
  },
  {
   "cell_type": "markdown",
   "id": "limited-frederick",
   "metadata": {},
   "source": [
    "# Speichern der Keywords"
   ]
  },
  {
   "cell_type": "code",
   "execution_count": 70,
   "id": "boolean-concrete",
   "metadata": {},
   "outputs": [],
   "source": [
    "import json\n",
    "\n",
    "with open(\"/home/kulla/workspace/serlo/seo/keywords.json\", \"w\") as fd:\n",
    "    keywords = list(serlo_keywords.to_dict(\"records\")) + wb_keywords\n",
    "    \n",
    "    json.dump(keywords, fd)"
   ]
  }
 ],
 "metadata": {
  "kernelspec": {
   "display_name": "Python 3",
   "language": "python",
   "name": "python3"
  },
  "language_info": {
   "codemirror_mode": {
    "name": "ipython",
    "version": 3
   },
   "file_extension": ".py",
   "mimetype": "text/x-python",
   "name": "python",
   "nbconvert_exporter": "python",
   "pygments_lexer": "ipython3",
   "version": "3.9.1"
  }
 },
 "nbformat": 4,
 "nbformat_minor": 5
}
