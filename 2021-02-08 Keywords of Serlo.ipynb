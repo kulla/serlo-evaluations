{
 "cells": [
  {
   "cell_type": "markdown",
   "id": "human-grade",
   "metadata": {},
   "source": [
    "# Serlo Keywords"
   ]
  },
  {
   "cell_type": "code",
   "execution_count": 63,
   "id": "smoking-contractor",
   "metadata": {
    "scrolled": false
   },
   "outputs": [
    {
     "data": {
      "text/html": [
       "<div>\n",
       "<style scoped>\n",
       "    .dataframe tbody tr th:only-of-type {\n",
       "        vertical-align: middle;\n",
       "    }\n",
       "\n",
       "    .dataframe tbody tr th {\n",
       "        vertical-align: top;\n",
       "    }\n",
       "\n",
       "    .dataframe thead th {\n",
       "        text-align: right;\n",
       "    }\n",
       "</style>\n",
       "<table border=\"1\" class=\"dataframe\">\n",
       "  <thead>\n",
       "    <tr style=\"text-align: right;\">\n",
       "      <th></th>\n",
       "      <th>title</th>\n",
       "      <th>keyword</th>\n",
       "      <th>uuid</th>\n",
       "      <th>subject</th>\n",
       "      <th>language</th>\n",
       "      <th>scope</th>\n",
       "    </tr>\n",
       "  </thead>\n",
       "  <tbody>\n",
       "    <tr>\n",
       "      <th>0</th>\n",
       "      <td>Addition</td>\n",
       "      <td>addition</td>\n",
       "      <td>1495</td>\n",
       "      <td>Mathe</td>\n",
       "      <td>de</td>\n",
       "      <td>schule</td>\n",
       "    </tr>\n",
       "    <tr>\n",
       "      <th>29</th>\n",
       "      <td>Ergebnismenge</td>\n",
       "      <td>ergebnismenge</td>\n",
       "      <td>1501</td>\n",
       "      <td>Mathe</td>\n",
       "      <td>de</td>\n",
       "      <td>schule</td>\n",
       "    </tr>\n",
       "    <tr>\n",
       "      <th>63</th>\n",
       "      <td>Ereignis</td>\n",
       "      <td>ereignis</td>\n",
       "      <td>1505</td>\n",
       "      <td>Mathe</td>\n",
       "      <td>de</td>\n",
       "      <td>schule</td>\n",
       "    </tr>\n",
       "    <tr>\n",
       "      <th>75</th>\n",
       "      <td>Subtraktion</td>\n",
       "      <td>subtraktion</td>\n",
       "      <td>1507</td>\n",
       "      <td>Mathe</td>\n",
       "      <td>de</td>\n",
       "      <td>schule</td>\n",
       "    </tr>\n",
       "    <tr>\n",
       "      <th>95</th>\n",
       "      <td>Wurzel</td>\n",
       "      <td>wurzel</td>\n",
       "      <td>1511</td>\n",
       "      <td>Mathe</td>\n",
       "      <td>de</td>\n",
       "      <td>schule</td>\n",
       "    </tr>\n",
       "    <tr>\n",
       "      <th>113</th>\n",
       "      <td>Diskriminante</td>\n",
       "      <td>diskriminante</td>\n",
       "      <td>1513</td>\n",
       "      <td>Mathe</td>\n",
       "      <td>de</td>\n",
       "      <td>schule</td>\n",
       "    </tr>\n",
       "    <tr>\n",
       "      <th>137</th>\n",
       "      <td>Geometrie</td>\n",
       "      <td>geometrie</td>\n",
       "      <td>1519</td>\n",
       "      <td>Mathe</td>\n",
       "      <td>de</td>\n",
       "      <td>schule</td>\n",
       "    </tr>\n",
       "    <tr>\n",
       "      <th>138</th>\n",
       "      <td>Stochastik</td>\n",
       "      <td>stochastik</td>\n",
       "      <td>1521</td>\n",
       "      <td>Mathe</td>\n",
       "      <td>de</td>\n",
       "      <td>schule</td>\n",
       "    </tr>\n",
       "    <tr>\n",
       "      <th>140</th>\n",
       "      <td>Polstelle</td>\n",
       "      <td>polstelle</td>\n",
       "      <td>1523</td>\n",
       "      <td>Mathe</td>\n",
       "      <td>de</td>\n",
       "      <td>schule</td>\n",
       "    </tr>\n",
       "    <tr>\n",
       "      <th>196</th>\n",
       "      <td>Polynomdivision</td>\n",
       "      <td>polynomdivision</td>\n",
       "      <td>1533</td>\n",
       "      <td>Mathe</td>\n",
       "      <td>de</td>\n",
       "      <td>schule</td>\n",
       "    </tr>\n",
       "    <tr>\n",
       "      <th>218</th>\n",
       "      <td>Koordinatensystem</td>\n",
       "      <td>koordinatensystem</td>\n",
       "      <td>1537</td>\n",
       "      <td>Mathe</td>\n",
       "      <td>de</td>\n",
       "      <td>schule</td>\n",
       "    </tr>\n",
       "    <tr>\n",
       "      <th>228</th>\n",
       "      <td>Winkelhalbierende</td>\n",
       "      <td>winkelhalbierende</td>\n",
       "      <td>1539</td>\n",
       "      <td>Mathe</td>\n",
       "      <td>de</td>\n",
       "      <td>schule</td>\n",
       "    </tr>\n",
       "    <tr>\n",
       "      <th>238</th>\n",
       "      <td>Hypotenuse</td>\n",
       "      <td>hypotenuse</td>\n",
       "      <td>1541</td>\n",
       "      <td>Mathe</td>\n",
       "      <td>de</td>\n",
       "      <td>schule</td>\n",
       "    </tr>\n",
       "    <tr>\n",
       "      <th>264</th>\n",
       "      <td>Kathete</td>\n",
       "      <td>kathete</td>\n",
       "      <td>1543</td>\n",
       "      <td>Mathe</td>\n",
       "      <td>de</td>\n",
       "      <td>schule</td>\n",
       "    </tr>\n",
       "    <tr>\n",
       "      <th>287</th>\n",
       "      <td>Quersumme</td>\n",
       "      <td>quersumme</td>\n",
       "      <td>1547</td>\n",
       "      <td>Mathe</td>\n",
       "      <td>de</td>\n",
       "      <td>schule</td>\n",
       "    </tr>\n",
       "    <tr>\n",
       "      <th>297</th>\n",
       "      <td>Mitternachtsformel</td>\n",
       "      <td>mitternachtsformel</td>\n",
       "      <td>1549</td>\n",
       "      <td>Mathe</td>\n",
       "      <td>de</td>\n",
       "      <td>schule</td>\n",
       "    </tr>\n",
       "    <tr>\n",
       "      <th>333</th>\n",
       "      <td>Zylinder</td>\n",
       "      <td>zylinder</td>\n",
       "      <td>1555</td>\n",
       "      <td>Mathe</td>\n",
       "      <td>de</td>\n",
       "      <td>schule</td>\n",
       "    </tr>\n",
       "    <tr>\n",
       "      <th>351</th>\n",
       "      <td>Radius</td>\n",
       "      <td>radius</td>\n",
       "      <td>1557</td>\n",
       "      <td>Mathe</td>\n",
       "      <td>de</td>\n",
       "      <td>schule</td>\n",
       "    </tr>\n",
       "    <tr>\n",
       "      <th>365</th>\n",
       "      <td>Mantellinie</td>\n",
       "      <td>mantellinie</td>\n",
       "      <td>1559</td>\n",
       "      <td>Mathe</td>\n",
       "      <td>de</td>\n",
       "      <td>schule</td>\n",
       "    </tr>\n",
       "    <tr>\n",
       "      <th>371</th>\n",
       "      <td>Kegel</td>\n",
       "      <td>kegel</td>\n",
       "      <td>1561</td>\n",
       "      <td>Mathe</td>\n",
       "      <td>de</td>\n",
       "      <td>schule</td>\n",
       "    </tr>\n",
       "    <tr>\n",
       "      <th>383</th>\n",
       "      <td>Kugel</td>\n",
       "      <td>kugel</td>\n",
       "      <td>1563</td>\n",
       "      <td>Mathe</td>\n",
       "      <td>de</td>\n",
       "      <td>schule</td>\n",
       "    </tr>\n",
       "    <tr>\n",
       "      <th>427</th>\n",
       "      <td>Vektor</td>\n",
       "      <td>vektor</td>\n",
       "      <td>1573</td>\n",
       "      <td>Mathe</td>\n",
       "      <td>de</td>\n",
       "      <td>schule</td>\n",
       "    </tr>\n",
       "    <tr>\n",
       "      <th>459</th>\n",
       "      <td>Kurvendiskussion</td>\n",
       "      <td>kurvendiskussion</td>\n",
       "      <td>1577</td>\n",
       "      <td>Mathe</td>\n",
       "      <td>de</td>\n",
       "      <td>schule</td>\n",
       "    </tr>\n",
       "    <tr>\n",
       "      <th>469</th>\n",
       "      <td>Extremum</td>\n",
       "      <td>extremum</td>\n",
       "      <td>1579</td>\n",
       "      <td>Mathe</td>\n",
       "      <td>de</td>\n",
       "      <td>schule</td>\n",
       "    </tr>\n",
       "    <tr>\n",
       "      <th>481</th>\n",
       "      <td>Gaußverfahren</td>\n",
       "      <td>gaußverfahren</td>\n",
       "      <td>1581</td>\n",
       "      <td>Mathe</td>\n",
       "      <td>de</td>\n",
       "      <td>schule</td>\n",
       "    </tr>\n",
       "    <tr>\n",
       "      <th>491</th>\n",
       "      <td>Was ist eine Funktion?</td>\n",
       "      <td>funktion</td>\n",
       "      <td>1583</td>\n",
       "      <td>Mathe</td>\n",
       "      <td>de</td>\n",
       "      <td>schule</td>\n",
       "    </tr>\n",
       "    <tr>\n",
       "      <th>527</th>\n",
       "      <td>Binomialverteilung</td>\n",
       "      <td>binomialverteilung</td>\n",
       "      <td>1587</td>\n",
       "      <td>Mathe</td>\n",
       "      <td>de</td>\n",
       "      <td>schule</td>\n",
       "    </tr>\n",
       "    <tr>\n",
       "      <th>533</th>\n",
       "      <td>Mächtigkeit</td>\n",
       "      <td>mächtigkeit</td>\n",
       "      <td>1589</td>\n",
       "      <td>Mathe</td>\n",
       "      <td>de</td>\n",
       "      <td>schule</td>\n",
       "    </tr>\n",
       "    <tr>\n",
       "      <th>547</th>\n",
       "      <td>Erwartungswert</td>\n",
       "      <td>erwartungswert</td>\n",
       "      <td>1591</td>\n",
       "      <td>Mathe</td>\n",
       "      <td>de</td>\n",
       "      <td>schule</td>\n",
       "    </tr>\n",
       "    <tr>\n",
       "      <th>553</th>\n",
       "      <td>Varianz</td>\n",
       "      <td>varianz</td>\n",
       "      <td>1593</td>\n",
       "      <td>Mathe</td>\n",
       "      <td>de</td>\n",
       "      <td>schule</td>\n",
       "    </tr>\n",
       "    <tr>\n",
       "      <th>559</th>\n",
       "      <td>Integral</td>\n",
       "      <td>integral</td>\n",
       "      <td>1595</td>\n",
       "      <td>Mathe</td>\n",
       "      <td>de</td>\n",
       "      <td>schule</td>\n",
       "    </tr>\n",
       "    <tr>\n",
       "      <th>565</th>\n",
       "      <td>Stetigkeit</td>\n",
       "      <td>stetigkeit</td>\n",
       "      <td>1597</td>\n",
       "      <td>Mathe</td>\n",
       "      <td>de</td>\n",
       "      <td>schule</td>\n",
       "    </tr>\n",
       "    <tr>\n",
       "      <th>573</th>\n",
       "      <td>Grenzwertbetrachtung</td>\n",
       "      <td>grenzwertbetrachtung</td>\n",
       "      <td>1599</td>\n",
       "      <td>Mathe</td>\n",
       "      <td>de</td>\n",
       "      <td>schule</td>\n",
       "    </tr>\n",
       "    <tr>\n",
       "      <th>599</th>\n",
       "      <td>Faktorisieren</td>\n",
       "      <td>faktorisieren</td>\n",
       "      <td>1605</td>\n",
       "      <td>Mathe</td>\n",
       "      <td>de</td>\n",
       "      <td>schule</td>\n",
       "    </tr>\n",
       "    <tr>\n",
       "      <th>612</th>\n",
       "      <td>Schnittmenge</td>\n",
       "      <td>schnittmenge</td>\n",
       "      <td>1609</td>\n",
       "      <td>Mathe</td>\n",
       "      <td>de</td>\n",
       "      <td>schule</td>\n",
       "    </tr>\n",
       "    <tr>\n",
       "      <th>620</th>\n",
       "      <td>Funktionenschar</td>\n",
       "      <td>funktionenschar</td>\n",
       "      <td>1613</td>\n",
       "      <td>Mathe</td>\n",
       "      <td>de</td>\n",
       "      <td>schule</td>\n",
       "    </tr>\n",
       "    <tr>\n",
       "      <th>660</th>\n",
       "      <td>Polynom</td>\n",
       "      <td>polynom</td>\n",
       "      <td>1623</td>\n",
       "      <td>Mathe</td>\n",
       "      <td>de</td>\n",
       "      <td>schule</td>\n",
       "    </tr>\n",
       "    <tr>\n",
       "      <th>664</th>\n",
       "      <td>Polynome</td>\n",
       "      <td>polynome</td>\n",
       "      <td>1623</td>\n",
       "      <td>Mathe</td>\n",
       "      <td>de</td>\n",
       "      <td>schule</td>\n",
       "    </tr>\n",
       "    <tr>\n",
       "      <th>668</th>\n",
       "      <td>Prisma</td>\n",
       "      <td>prisma</td>\n",
       "      <td>1625</td>\n",
       "      <td>Mathe</td>\n",
       "      <td>de</td>\n",
       "      <td>schule</td>\n",
       "    </tr>\n",
       "    <tr>\n",
       "      <th>688</th>\n",
       "      <td>Prozent</td>\n",
       "      <td>prozent</td>\n",
       "      <td>1627</td>\n",
       "      <td>Mathe</td>\n",
       "      <td>de</td>\n",
       "      <td>schule</td>\n",
       "    </tr>\n",
       "    <tr>\n",
       "      <th>698</th>\n",
       "      <td>Pyramide</td>\n",
       "      <td>pyramide</td>\n",
       "      <td>1629</td>\n",
       "      <td>Mathe</td>\n",
       "      <td>de</td>\n",
       "      <td>schule</td>\n",
       "    </tr>\n",
       "    <tr>\n",
       "      <th>724</th>\n",
       "      <td>Division</td>\n",
       "      <td>division</td>\n",
       "      <td>1633</td>\n",
       "      <td>Mathe</td>\n",
       "      <td>de</td>\n",
       "      <td>schule</td>\n",
       "    </tr>\n",
       "    <tr>\n",
       "      <th>736</th>\n",
       "      <td>Standardabweichung</td>\n",
       "      <td>standardabweichung</td>\n",
       "      <td>1635</td>\n",
       "      <td>Mathe</td>\n",
       "      <td>de</td>\n",
       "      <td>schule</td>\n",
       "    </tr>\n",
       "    <tr>\n",
       "      <th>739</th>\n",
       "      <td>Sekante</td>\n",
       "      <td>sekante</td>\n",
       "      <td>1637</td>\n",
       "      <td>Mathe</td>\n",
       "      <td>de</td>\n",
       "      <td>schule</td>\n",
       "    </tr>\n",
       "    <tr>\n",
       "      <th>740</th>\n",
       "      <td>Multiplikation</td>\n",
       "      <td>multiplikation</td>\n",
       "      <td>1639</td>\n",
       "      <td>Mathe</td>\n",
       "      <td>de</td>\n",
       "      <td>schule</td>\n",
       "    </tr>\n",
       "    <tr>\n",
       "      <th>752</th>\n",
       "      <td>Analysis</td>\n",
       "      <td>analysis</td>\n",
       "      <td>1641</td>\n",
       "      <td>Mathe</td>\n",
       "      <td>de</td>\n",
       "      <td>schule</td>\n",
       "    </tr>\n",
       "    <tr>\n",
       "      <th>753</th>\n",
       "      <td>Betrag</td>\n",
       "      <td>betrag</td>\n",
       "      <td>1643</td>\n",
       "      <td>Mathe</td>\n",
       "      <td>de</td>\n",
       "      <td>schule</td>\n",
       "    </tr>\n",
       "    <tr>\n",
       "      <th>755</th>\n",
       "      <td>Symmetrie</td>\n",
       "      <td>symmetrie</td>\n",
       "      <td>1645</td>\n",
       "      <td>Mathe</td>\n",
       "      <td>de</td>\n",
       "      <td>schule</td>\n",
       "    </tr>\n",
       "    <tr>\n",
       "      <th>770</th>\n",
       "      <td>Differenzierbarkeit</td>\n",
       "      <td>differenzierbarkeit</td>\n",
       "      <td>1651</td>\n",
       "      <td>Mathe</td>\n",
       "      <td>de</td>\n",
       "      <td>schule</td>\n",
       "    </tr>\n",
       "    <tr>\n",
       "      <th>786</th>\n",
       "      <td>Wertemenge</td>\n",
       "      <td>wertemenge</td>\n",
       "      <td>1655</td>\n",
       "      <td>Mathe</td>\n",
       "      <td>de</td>\n",
       "      <td>schule</td>\n",
       "    </tr>\n",
       "    <tr>\n",
       "      <th>802</th>\n",
       "      <td>Brüche</td>\n",
       "      <td>brüche</td>\n",
       "      <td>1657</td>\n",
       "      <td>Mathe</td>\n",
       "      <td>de</td>\n",
       "      <td>schule</td>\n",
       "    </tr>\n",
       "    <tr>\n",
       "      <th>820</th>\n",
       "      <td>Additionsverfahren</td>\n",
       "      <td>additionsverfahren</td>\n",
       "      <td>1661</td>\n",
       "      <td>Mathe</td>\n",
       "      <td>de</td>\n",
       "      <td>schule</td>\n",
       "    </tr>\n",
       "    <tr>\n",
       "      <th>836</th>\n",
       "      <td>Potenzen</td>\n",
       "      <td>potenzen</td>\n",
       "      <td>1663</td>\n",
       "      <td>Mathe</td>\n",
       "      <td>de</td>\n",
       "      <td>schule</td>\n",
       "    </tr>\n",
       "    <tr>\n",
       "      <th>878</th>\n",
       "      <td>Differenzenquotient</td>\n",
       "      <td>differenzenquotient</td>\n",
       "      <td>1669</td>\n",
       "      <td>Mathe</td>\n",
       "      <td>de</td>\n",
       "      <td>schule</td>\n",
       "    </tr>\n",
       "    <tr>\n",
       "      <th>890</th>\n",
       "      <td>Assoziativgesetz</td>\n",
       "      <td>assoziativgesetz</td>\n",
       "      <td>1671</td>\n",
       "      <td>Mathe</td>\n",
       "      <td>de</td>\n",
       "      <td>schule</td>\n",
       "    </tr>\n",
       "    <tr>\n",
       "      <th>898</th>\n",
       "      <td>Flächeneinheiten</td>\n",
       "      <td>flächeneinheiten</td>\n",
       "      <td>1673</td>\n",
       "      <td>Mathe</td>\n",
       "      <td>de</td>\n",
       "      <td>schule</td>\n",
       "    </tr>\n",
       "    <tr>\n",
       "      <th>904</th>\n",
       "      <td>Geldeinheiten</td>\n",
       "      <td>geldeinheiten</td>\n",
       "      <td>1675</td>\n",
       "      <td>Mathe</td>\n",
       "      <td>de</td>\n",
       "      <td>schule</td>\n",
       "    </tr>\n",
       "    <tr>\n",
       "      <th>912</th>\n",
       "      <td>Distributivgesetz</td>\n",
       "      <td>distributivgesetz</td>\n",
       "      <td>1677</td>\n",
       "      <td>Mathe</td>\n",
       "      <td>de</td>\n",
       "      <td>schule</td>\n",
       "    </tr>\n",
       "    <tr>\n",
       "      <th>922</th>\n",
       "      <td>Kommutativgesetz</td>\n",
       "      <td>kommutativgesetz</td>\n",
       "      <td>1679</td>\n",
       "      <td>Mathe</td>\n",
       "      <td>de</td>\n",
       "      <td>schule</td>\n",
       "    </tr>\n",
       "    <tr>\n",
       "      <th>930</th>\n",
       "      <td>Längeneinheiten</td>\n",
       "      <td>längeneinheiten</td>\n",
       "      <td>1681</td>\n",
       "      <td>Mathe</td>\n",
       "      <td>de</td>\n",
       "      <td>schule</td>\n",
       "    </tr>\n",
       "    <tr>\n",
       "      <th>940</th>\n",
       "      <td>Gewichtseinheiten</td>\n",
       "      <td>gewichtseinheiten</td>\n",
       "      <td>1683</td>\n",
       "      <td>Mathe</td>\n",
       "      <td>de</td>\n",
       "      <td>schule</td>\n",
       "    </tr>\n",
       "    <tr>\n",
       "      <th>948</th>\n",
       "      <td>Volumeneinheiten</td>\n",
       "      <td>volumeneinheiten</td>\n",
       "      <td>1685</td>\n",
       "      <td>Mathe</td>\n",
       "      <td>de</td>\n",
       "      <td>schule</td>\n",
       "    </tr>\n",
       "    <tr>\n",
       "      <th>956</th>\n",
       "      <td>Potenzfunktion</td>\n",
       "      <td>potenzfunktion</td>\n",
       "      <td>1687</td>\n",
       "      <td>Mathe</td>\n",
       "      <td>de</td>\n",
       "      <td>schule</td>\n",
       "    </tr>\n",
       "    <tr>\n",
       "      <th>966</th>\n",
       "      <td>Gegenereignis</td>\n",
       "      <td>gegenereignis</td>\n",
       "      <td>1691</td>\n",
       "      <td>Mathe</td>\n",
       "      <td>de</td>\n",
       "      <td>schule</td>\n",
       "    </tr>\n",
       "    <tr>\n",
       "      <th>986</th>\n",
       "      <td>Zahlenmengen - Lernen mit Serlo!</td>\n",
       "      <td>zahlenmengen</td>\n",
       "      <td>1693</td>\n",
       "      <td>Mathe</td>\n",
       "      <td>de</td>\n",
       "      <td>schule</td>\n",
       "    </tr>\n",
       "    <tr>\n",
       "      <th>1002</th>\n",
       "      <td>Rechteck</td>\n",
       "      <td>rechteck</td>\n",
       "      <td>1697</td>\n",
       "      <td>Mathe</td>\n",
       "      <td>de</td>\n",
       "      <td>schule</td>\n",
       "    </tr>\n",
       "    <tr>\n",
       "      <th>1024</th>\n",
       "      <td>Quader</td>\n",
       "      <td>quader</td>\n",
       "      <td>1699</td>\n",
       "      <td>Mathe</td>\n",
       "      <td>de</td>\n",
       "      <td>schule</td>\n",
       "    </tr>\n",
       "    <tr>\n",
       "      <th>1054</th>\n",
       "      <td>Das Viereck</td>\n",
       "      <td>viereck</td>\n",
       "      <td>1705</td>\n",
       "      <td>Mathe</td>\n",
       "      <td>de</td>\n",
       "      <td>schule</td>\n",
       "    </tr>\n",
       "    <tr>\n",
       "      <th>1074</th>\n",
       "      <td>Winkel</td>\n",
       "      <td>winkel</td>\n",
       "      <td>1707</td>\n",
       "      <td>Mathe</td>\n",
       "      <td>de</td>\n",
       "      <td>schule</td>\n",
       "    </tr>\n",
       "    <tr>\n",
       "      <th>1090</th>\n",
       "      <td>Trapez</td>\n",
       "      <td>trapez</td>\n",
       "      <td>1709</td>\n",
       "      <td>Mathe</td>\n",
       "      <td>de</td>\n",
       "      <td>schule</td>\n",
       "    </tr>\n",
       "    <tr>\n",
       "      <th>1103</th>\n",
       "      <td>Infinitesimalrechnung</td>\n",
       "      <td>infinitesimalrechnung</td>\n",
       "      <td>1713</td>\n",
       "      <td>Mathe</td>\n",
       "      <td>de</td>\n",
       "      <td>schule</td>\n",
       "    </tr>\n",
       "    <tr>\n",
       "      <th>1104</th>\n",
       "      <td>Skalarprodukt</td>\n",
       "      <td>skalarprodukt</td>\n",
       "      <td>1715</td>\n",
       "      <td>Mathe</td>\n",
       "      <td>de</td>\n",
       "      <td>schule</td>\n",
       "    </tr>\n",
       "    <tr>\n",
       "      <th>1110</th>\n",
       "      <td>Gleichung</td>\n",
       "      <td>gleichung</td>\n",
       "      <td>1717</td>\n",
       "      <td>Mathe</td>\n",
       "      <td>de</td>\n",
       "      <td>schule</td>\n",
       "    </tr>\n",
       "    <tr>\n",
       "      <th>1176</th>\n",
       "      <td>h-Methode</td>\n",
       "      <td>methode</td>\n",
       "      <td>1725</td>\n",
       "      <td>Mathe</td>\n",
       "      <td>de</td>\n",
       "      <td>schule</td>\n",
       "    </tr>\n",
       "    <tr>\n",
       "      <th>1180</th>\n",
       "      <td>Parallelogramm</td>\n",
       "      <td>parallelogramm</td>\n",
       "      <td>1727</td>\n",
       "      <td>Mathe</td>\n",
       "      <td>de</td>\n",
       "      <td>schule</td>\n",
       "    </tr>\n",
       "    <tr>\n",
       "      <th>1194</th>\n",
       "      <td>Sprungstelle</td>\n",
       "      <td>sprungstelle</td>\n",
       "      <td>1729</td>\n",
       "      <td>Mathe</td>\n",
       "      <td>de</td>\n",
       "      <td>schule</td>\n",
       "    </tr>\n",
       "    <tr>\n",
       "      <th>1198</th>\n",
       "      <td>Raute</td>\n",
       "      <td>raute</td>\n",
       "      <td>1731</td>\n",
       "      <td>Mathe</td>\n",
       "      <td>de</td>\n",
       "      <td>schule</td>\n",
       "    </tr>\n",
       "    <tr>\n",
       "      <th>1208</th>\n",
       "      <td>Drachenviereck</td>\n",
       "      <td>drachenviereck</td>\n",
       "      <td>1733</td>\n",
       "      <td>Mathe</td>\n",
       "      <td>de</td>\n",
       "      <td>schule</td>\n",
       "    </tr>\n",
       "    <tr>\n",
       "      <th>1220</th>\n",
       "      <td>Einsetzungsverfahren</td>\n",
       "      <td>einsetzungsverfahren</td>\n",
       "      <td>1735</td>\n",
       "      <td>Mathe</td>\n",
       "      <td>de</td>\n",
       "      <td>schule</td>\n",
       "    </tr>\n",
       "    <tr>\n",
       "      <th>1236</th>\n",
       "      <td>Gleichsetzungsverfahren</td>\n",
       "      <td>gleichsetzungsverfahren</td>\n",
       "      <td>1737</td>\n",
       "      <td>Mathe</td>\n",
       "      <td>de</td>\n",
       "      <td>schule</td>\n",
       "    </tr>\n",
       "    <tr>\n",
       "      <th>1288</th>\n",
       "      <td>Geradengleichung</td>\n",
       "      <td>geradengleichung</td>\n",
       "      <td>1747</td>\n",
       "      <td>Mathe</td>\n",
       "      <td>de</td>\n",
       "      <td>schule</td>\n",
       "    </tr>\n",
       "    <tr>\n",
       "      <th>1316</th>\n",
       "      <td>Kombinatorik</td>\n",
       "      <td>kombinatorik</td>\n",
       "      <td>1751</td>\n",
       "      <td>Mathe</td>\n",
       "      <td>de</td>\n",
       "      <td>schule</td>\n",
       "    </tr>\n",
       "    <tr>\n",
       "      <th>1328</th>\n",
       "      <td>Wahrscheinlichkeit</td>\n",
       "      <td>wahrscheinlichkeit</td>\n",
       "      <td>1753</td>\n",
       "      <td>Mathe</td>\n",
       "      <td>de</td>\n",
       "      <td>schule</td>\n",
       "    </tr>\n",
       "    <tr>\n",
       "      <th>1366</th>\n",
       "      <td>Wurzelfunktion</td>\n",
       "      <td>wurzelfunktion</td>\n",
       "      <td>1757</td>\n",
       "      <td>Mathe</td>\n",
       "      <td>de</td>\n",
       "      <td>schule</td>\n",
       "    </tr>\n",
       "    <tr>\n",
       "      <th>1398</th>\n",
       "      <td>Fakultät</td>\n",
       "      <td>fakultät</td>\n",
       "      <td>1765</td>\n",
       "      <td>Mathe</td>\n",
       "      <td>de</td>\n",
       "      <td>schule</td>\n",
       "    </tr>\n",
       "    <tr>\n",
       "      <th>1402</th>\n",
       "      <td>Primzahlen</td>\n",
       "      <td>primzahlen</td>\n",
       "      <td>1767</td>\n",
       "      <td>Mathe</td>\n",
       "      <td>de</td>\n",
       "      <td>schule</td>\n",
       "    </tr>\n",
       "    <tr>\n",
       "      <th>1404</th>\n",
       "      <td>Dreisatz</td>\n",
       "      <td>dreisatz</td>\n",
       "      <td>1769</td>\n",
       "      <td>Mathe</td>\n",
       "      <td>de</td>\n",
       "      <td>schule</td>\n",
       "    </tr>\n",
       "    <tr>\n",
       "      <th>1466</th>\n",
       "      <td>Primfaktorzerlegung</td>\n",
       "      <td>primfaktorzerlegung</td>\n",
       "      <td>1779</td>\n",
       "      <td>Mathe</td>\n",
       "      <td>de</td>\n",
       "      <td>schule</td>\n",
       "    </tr>\n",
       "    <tr>\n",
       "      <th>1484</th>\n",
       "      <td>Geradensteigung</td>\n",
       "      <td>geradensteigung</td>\n",
       "      <td>1785</td>\n",
       "      <td>Mathe</td>\n",
       "      <td>de</td>\n",
       "      <td>schule</td>\n",
       "    </tr>\n",
       "    <tr>\n",
       "      <th>1500</th>\n",
       "      <td>Temperatureinheiten</td>\n",
       "      <td>temperatureinheiten</td>\n",
       "      <td>1787</td>\n",
       "      <td>Mathe</td>\n",
       "      <td>de</td>\n",
       "      <td>schule</td>\n",
       "    </tr>\n",
       "    <tr>\n",
       "      <th>1502</th>\n",
       "      <td>Normale</td>\n",
       "      <td>normale</td>\n",
       "      <td>1789</td>\n",
       "      <td>Mathe</td>\n",
       "      <td>de</td>\n",
       "      <td>schule</td>\n",
       "    </tr>\n",
       "    <tr>\n",
       "      <th>1503</th>\n",
       "      <td>Orthogonalität</td>\n",
       "      <td>orthogonalität</td>\n",
       "      <td>1791</td>\n",
       "      <td>Mathe</td>\n",
       "      <td>de</td>\n",
       "      <td>schule</td>\n",
       "    </tr>\n",
       "    <tr>\n",
       "      <th>1506</th>\n",
       "      <td>Ebene</td>\n",
       "      <td>ebene</td>\n",
       "      <td>1793</td>\n",
       "      <td>Mathe</td>\n",
       "      <td>de</td>\n",
       "      <td>schule</td>\n",
       "    </tr>\n",
       "    <tr>\n",
       "      <th>1512</th>\n",
       "      <td>Ableitung</td>\n",
       "      <td>ableitung</td>\n",
       "      <td>1795</td>\n",
       "      <td>Mathe</td>\n",
       "      <td>de</td>\n",
       "      <td>schule</td>\n",
       "    </tr>\n",
       "    <tr>\n",
       "      <th>1524</th>\n",
       "      <td>Kettenregel</td>\n",
       "      <td>kettenregel</td>\n",
       "      <td>1797</td>\n",
       "      <td>Mathe</td>\n",
       "      <td>de</td>\n",
       "      <td>schule</td>\n",
       "    </tr>\n",
       "    <tr>\n",
       "      <th>1536</th>\n",
       "      <td>Summenregel</td>\n",
       "      <td>summenregel</td>\n",
       "      <td>1799</td>\n",
       "      <td>Mathe</td>\n",
       "      <td>de</td>\n",
       "      <td>schule</td>\n",
       "    </tr>\n",
       "    <tr>\n",
       "      <th>1539</th>\n",
       "      <td>Quotientenregel</td>\n",
       "      <td>quotientenregel</td>\n",
       "      <td>1801</td>\n",
       "      <td>Mathe</td>\n",
       "      <td>de</td>\n",
       "      <td>schule</td>\n",
       "    </tr>\n",
       "    <tr>\n",
       "      <th>1549</th>\n",
       "      <td>Produktregel</td>\n",
       "      <td>produktregel</td>\n",
       "      <td>1803</td>\n",
       "      <td>Mathe</td>\n",
       "      <td>de</td>\n",
       "      <td>schule</td>\n",
       "    </tr>\n",
       "    <tr>\n",
       "      <th>1580</th>\n",
       "      <td>Umkehrfunktion</td>\n",
       "      <td>umkehrfunktion</td>\n",
       "      <td>1815</td>\n",
       "      <td>Mathe</td>\n",
       "      <td>de</td>\n",
       "      <td>schule</td>\n",
       "    </tr>\n",
       "    <tr>\n",
       "      <th>1584</th>\n",
       "      <td>Extremwertaufgabe</td>\n",
       "      <td>extremwertaufgabe</td>\n",
       "      <td>1817</td>\n",
       "      <td>Mathe</td>\n",
       "      <td>de</td>\n",
       "      <td>schule</td>\n",
       "    </tr>\n",
       "    <tr>\n",
       "      <th>1596</th>\n",
       "      <td>Teilerfremd</td>\n",
       "      <td>teilerfremd</td>\n",
       "      <td>1819</td>\n",
       "      <td>Mathe</td>\n",
       "      <td>de</td>\n",
       "      <td>schule</td>\n",
       "    </tr>\n",
       "    <tr>\n",
       "      <th>1610</th>\n",
       "      <td>Term</td>\n",
       "      <td>term</td>\n",
       "      <td>1823</td>\n",
       "      <td>Mathe</td>\n",
       "      <td>de</td>\n",
       "      <td>schule</td>\n",
       "    </tr>\n",
       "    <tr>\n",
       "      <th>1642</th>\n",
       "      <td>Partialbruchzerlegung</td>\n",
       "      <td>partialbruchzerlegung</td>\n",
       "      <td>1831</td>\n",
       "      <td>Mathe</td>\n",
       "      <td>de</td>\n",
       "      <td>schule</td>\n",
       "    </tr>\n",
       "    <tr>\n",
       "      <th>1643</th>\n",
       "      <td>Asymptote</td>\n",
       "      <td>asymptote</td>\n",
       "      <td>1833</td>\n",
       "      <td>Mathe</td>\n",
       "      <td>de</td>\n",
       "      <td>schule</td>\n",
       "    </tr>\n",
       "    <tr>\n",
       "      <th>1655</th>\n",
       "      <td>Nullstelle</td>\n",
       "      <td>nullstelle</td>\n",
       "      <td>1835</td>\n",
       "      <td>Mathe</td>\n",
       "      <td>de</td>\n",
       "      <td>schule</td>\n",
       "    </tr>\n",
       "    <tr>\n",
       "      <th>1665</th>\n",
       "      <td>Nullstellen</td>\n",
       "      <td>nullstellen</td>\n",
       "      <td>1835</td>\n",
       "      <td>Mathe</td>\n",
       "      <td>de</td>\n",
       "      <td>schule</td>\n",
       "    </tr>\n",
       "    <tr>\n",
       "      <th>1734</th>\n",
       "      <td>Äquivalenzumformungen</td>\n",
       "      <td>äquivalenzumformungen</td>\n",
       "      <td>1847</td>\n",
       "      <td>Mathe</td>\n",
       "      <td>de</td>\n",
       "      <td>schule</td>\n",
       "    </tr>\n",
       "    <tr>\n",
       "      <th>1752</th>\n",
       "      <td>Zinsrechnung</td>\n",
       "      <td>zinsrechnung</td>\n",
       "      <td>1849</td>\n",
       "      <td>Mathe</td>\n",
       "      <td>de</td>\n",
       "      <td>schule</td>\n",
       "    </tr>\n",
       "    <tr>\n",
       "      <th>1780</th>\n",
       "      <td>Parabel</td>\n",
       "      <td>parabel</td>\n",
       "      <td>1855</td>\n",
       "      <td>Mathe</td>\n",
       "      <td>de</td>\n",
       "      <td>schule</td>\n",
       "    </tr>\n",
       "    <tr>\n",
       "      <th>1792</th>\n",
       "      <td>Substitution</td>\n",
       "      <td>substitution</td>\n",
       "      <td>1857</td>\n",
       "      <td>Mathe</td>\n",
       "      <td>de</td>\n",
       "      <td>schule</td>\n",
       "    </tr>\n",
       "    <tr>\n",
       "      <th>1812</th>\n",
       "      <td>Quadrat</td>\n",
       "      <td>quadrat</td>\n",
       "      <td>1863</td>\n",
       "      <td>Mathe</td>\n",
       "      <td>de</td>\n",
       "      <td>schule</td>\n",
       "    </tr>\n",
       "    <tr>\n",
       "      <th>1844</th>\n",
       "      <td>Potenzgesetze</td>\n",
       "      <td>potenzgesetze</td>\n",
       "      <td>1867</td>\n",
       "      <td>Mathe</td>\n",
       "      <td>de</td>\n",
       "      <td>schule</td>\n",
       "    </tr>\n",
       "    <tr>\n",
       "      <th>1860</th>\n",
       "      <td>Grundrechenarten</td>\n",
       "      <td>grundrechenarten</td>\n",
       "      <td>1871</td>\n",
       "      <td>Mathe</td>\n",
       "      <td>de</td>\n",
       "      <td>schule</td>\n",
       "    </tr>\n",
       "    <tr>\n",
       "      <th>1883</th>\n",
       "      <td>Vierfeldertafel</td>\n",
       "      <td>vierfeldertafel</td>\n",
       "      <td>1875</td>\n",
       "      <td>Mathe</td>\n",
       "      <td>de</td>\n",
       "      <td>schule</td>\n",
       "    </tr>\n",
       "    <tr>\n",
       "      <th>1889</th>\n",
       "      <td>Test Sammlung</td>\n",
       "      <td>sammlung</td>\n",
       "      <td>1877</td>\n",
       "      <td>Mathe</td>\n",
       "      <td>de</td>\n",
       "      <td>schule</td>\n",
       "    </tr>\n",
       "    <tr>\n",
       "      <th>1891</th>\n",
       "      <td>Mittelsenkrechte</td>\n",
       "      <td>mittelsenkrechte</td>\n",
       "      <td>1879</td>\n",
       "      <td>Mathe</td>\n",
       "      <td>de</td>\n",
       "      <td>schule</td>\n",
       "    </tr>\n",
       "    <tr>\n",
       "      <th>1976</th>\n",
       "      <td>Monotonie</td>\n",
       "      <td>monotonie</td>\n",
       "      <td>1911</td>\n",
       "      <td>Mathe</td>\n",
       "      <td>de</td>\n",
       "      <td>schule</td>\n",
       "    </tr>\n",
       "    <tr>\n",
       "      <th>1990</th>\n",
       "      <td>Seitenhalbierende</td>\n",
       "      <td>seitenhalbierende</td>\n",
       "      <td>1913</td>\n",
       "      <td>Mathe</td>\n",
       "      <td>de</td>\n",
       "      <td>schule</td>\n",
       "    </tr>\n",
       "    <tr>\n",
       "      <th>1994</th>\n",
       "      <td>Schwerpunkt</td>\n",
       "      <td>schwerpunkt</td>\n",
       "      <td>1915</td>\n",
       "      <td>Mathe</td>\n",
       "      <td>de</td>\n",
       "      <td>schule</td>\n",
       "    </tr>\n",
       "    <tr>\n",
       "      <th>2023</th>\n",
       "      <td>Kongruenz</td>\n",
       "      <td>kongruenz</td>\n",
       "      <td>1925</td>\n",
       "      <td>Mathe</td>\n",
       "      <td>de</td>\n",
       "      <td>schule</td>\n",
       "    </tr>\n",
       "    <tr>\n",
       "      <th>2031</th>\n",
       "      <td>Ähnlichkeit</td>\n",
       "      <td>ähnlichkeit</td>\n",
       "      <td>1929</td>\n",
       "      <td>Mathe</td>\n",
       "      <td>de</td>\n",
       "      <td>schule</td>\n",
       "    </tr>\n",
       "    <tr>\n",
       "      <th>2057</th>\n",
       "      <td>Bruchterme</td>\n",
       "      <td>bruchterme</td>\n",
       "      <td>1935</td>\n",
       "      <td>Mathe</td>\n",
       "      <td>de</td>\n",
       "      <td>schule</td>\n",
       "    </tr>\n",
       "    <tr>\n",
       "      <th>2086</th>\n",
       "      <td>Intervalle</td>\n",
       "      <td>intervalle</td>\n",
       "      <td>1947</td>\n",
       "      <td>Mathe</td>\n",
       "      <td>de</td>\n",
       "      <td>schule</td>\n",
       "    </tr>\n",
       "    <tr>\n",
       "      <th>2092</th>\n",
       "      <td>Dreieck</td>\n",
       "      <td>dreieck</td>\n",
       "      <td>1949</td>\n",
       "      <td>Mathe</td>\n",
       "      <td>de</td>\n",
       "      <td>schule</td>\n",
       "    </tr>\n",
       "    <tr>\n",
       "      <th>2112</th>\n",
       "      <td>Halbgerade</td>\n",
       "      <td>halbgerade</td>\n",
       "      <td>1951</td>\n",
       "      <td>Mathe</td>\n",
       "      <td>de</td>\n",
       "      <td>schule</td>\n",
       "    </tr>\n",
       "    <tr>\n",
       "      <th>2118</th>\n",
       "      <td>Strecke</td>\n",
       "      <td>strecke</td>\n",
       "      <td>1953</td>\n",
       "      <td>Mathe</td>\n",
       "      <td>de</td>\n",
       "      <td>schule</td>\n",
       "    </tr>\n",
       "    <tr>\n",
       "      <th>2136</th>\n",
       "      <td>Statistik</td>\n",
       "      <td>statistik</td>\n",
       "      <td>1959</td>\n",
       "      <td>Mathe</td>\n",
       "      <td>de</td>\n",
       "      <td>schule</td>\n",
       "    </tr>\n",
       "    <tr>\n",
       "      <th>2147</th>\n",
       "      <td>Bogenmaß</td>\n",
       "      <td>bogenmaß</td>\n",
       "      <td>1963</td>\n",
       "      <td>Mathe</td>\n",
       "      <td>de</td>\n",
       "      <td>schule</td>\n",
       "    </tr>\n",
       "    <tr>\n",
       "      <th>2161</th>\n",
       "      <td>Hypothesentest</td>\n",
       "      <td>hypothesentest</td>\n",
       "      <td>1965</td>\n",
       "      <td>Mathe</td>\n",
       "      <td>de</td>\n",
       "      <td>schule</td>\n",
       "    </tr>\n",
       "    <tr>\n",
       "      <th>2177</th>\n",
       "      <td>Kehrwert</td>\n",
       "      <td>kehrwert</td>\n",
       "      <td>1969</td>\n",
       "      <td>Mathe</td>\n",
       "      <td>de</td>\n",
       "      <td>schule</td>\n",
       "    </tr>\n",
       "    <tr>\n",
       "      <th>2215</th>\n",
       "      <td>Menge</td>\n",
       "      <td>menge</td>\n",
       "      <td>1981</td>\n",
       "      <td>Mathe</td>\n",
       "      <td>de</td>\n",
       "      <td>schule</td>\n",
       "    </tr>\n",
       "    <tr>\n",
       "      <th>2221</th>\n",
       "      <td>Erzeugendensystem</td>\n",
       "      <td>erzeugendensystem</td>\n",
       "      <td>1983</td>\n",
       "      <td>Mathe</td>\n",
       "      <td>de</td>\n",
       "      <td>schule</td>\n",
       "    </tr>\n",
       "    <tr>\n",
       "      <th>2231</th>\n",
       "      <td>Linearkombination</td>\n",
       "      <td>linearkombination</td>\n",
       "      <td>1987</td>\n",
       "      <td>Mathe</td>\n",
       "      <td>de</td>\n",
       "      <td>schule</td>\n",
       "    </tr>\n",
       "    <tr>\n",
       "      <th>2243</th>\n",
       "      <td>Vereinigungsmenge</td>\n",
       "      <td>vereinigungsmenge</td>\n",
       "      <td>1991</td>\n",
       "      <td>Mathe</td>\n",
       "      <td>de</td>\n",
       "      <td>schule</td>\n",
       "    </tr>\n",
       "    <tr>\n",
       "      <th>2249</th>\n",
       "      <td>Ungleichung</td>\n",
       "      <td>ungleichung</td>\n",
       "      <td>1993</td>\n",
       "      <td>Mathe</td>\n",
       "      <td>de</td>\n",
       "      <td>schule</td>\n",
       "    </tr>\n",
       "    <tr>\n",
       "      <th>2258</th>\n",
       "      <td>Ungleichungen - Lernen mit Serlo!</td>\n",
       "      <td>ungleichungen</td>\n",
       "      <td>1993</td>\n",
       "      <td>Mathe</td>\n",
       "      <td>de</td>\n",
       "      <td>schule</td>\n",
       "    </tr>\n",
       "    <tr>\n",
       "      <th>2279</th>\n",
       "      <td>Urnenmodell</td>\n",
       "      <td>urnenmodell</td>\n",
       "      <td>1997</td>\n",
       "      <td>Mathe</td>\n",
       "      <td>de</td>\n",
       "      <td>schule</td>\n",
       "    </tr>\n",
       "    <tr>\n",
       "      <th>2299</th>\n",
       "      <td>Exponentialgleichung</td>\n",
       "      <td>exponentialgleichung</td>\n",
       "      <td>2003</td>\n",
       "      <td>Mathe</td>\n",
       "      <td>de</td>\n",
       "      <td>schule</td>\n",
       "    </tr>\n",
       "    <tr>\n",
       "      <th>2326</th>\n",
       "      <td>Matrizen</td>\n",
       "      <td>matrizen</td>\n",
       "      <td>2009</td>\n",
       "      <td>Mathe</td>\n",
       "      <td>de</td>\n",
       "      <td>schule</td>\n",
       "    </tr>\n",
       "    <tr>\n",
       "      <th>2346</th>\n",
       "      <td>Determinante</td>\n",
       "      <td>determinante</td>\n",
       "      <td>2017</td>\n",
       "      <td>Mathe</td>\n",
       "      <td>de</td>\n",
       "      <td>schule</td>\n",
       "    </tr>\n",
       "    <tr>\n",
       "      <th>2375</th>\n",
       "      <td>Winkelsumme</td>\n",
       "      <td>winkelsumme</td>\n",
       "      <td>2029</td>\n",
       "      <td>Mathe</td>\n",
       "      <td>de</td>\n",
       "      <td>schule</td>\n",
       "    </tr>\n",
       "    <tr>\n",
       "      <th>2377</th>\n",
       "      <td>Diagonale</td>\n",
       "      <td>diagonale</td>\n",
       "      <td>2031</td>\n",
       "      <td>Mathe</td>\n",
       "      <td>de</td>\n",
       "      <td>schule</td>\n",
       "    </tr>\n",
       "    <tr>\n",
       "      <th>2430</th>\n",
       "      <td>Integralfunktion</td>\n",
       "      <td>integralfunktion</td>\n",
       "      <td>2045</td>\n",
       "      <td>Mathe</td>\n",
       "      <td>de</td>\n",
       "      <td>schule</td>\n",
       "    </tr>\n",
       "    <tr>\n",
       "      <th>2438</th>\n",
       "      <td>Verteilungsfunktion</td>\n",
       "      <td>verteilungsfunktion</td>\n",
       "      <td>2047</td>\n",
       "      <td>Mathe</td>\n",
       "      <td>de</td>\n",
       "      <td>schule</td>\n",
       "    </tr>\n",
       "    <tr>\n",
       "      <th>2464</th>\n",
       "      <td>Gerade</td>\n",
       "      <td>gerade</td>\n",
       "      <td>2053</td>\n",
       "      <td>Mathe</td>\n",
       "      <td>de</td>\n",
       "      <td>schule</td>\n",
       "    </tr>\n",
       "    <tr>\n",
       "      <th>2476</th>\n",
       "      <td>Zufallsgröße</td>\n",
       "      <td>zufallsgröße</td>\n",
       "      <td>2055</td>\n",
       "      <td>Mathe</td>\n",
       "      <td>de</td>\n",
       "      <td>schule</td>\n",
       "    </tr>\n",
       "    <tr>\n",
       "      <th>2511</th>\n",
       "      <td>Zahlengerade</td>\n",
       "      <td>zahlengerade</td>\n",
       "      <td>2067</td>\n",
       "      <td>Mathe</td>\n",
       "      <td>de</td>\n",
       "      <td>schule</td>\n",
       "    </tr>\n",
       "    <tr>\n",
       "      <th>2573</th>\n",
       "      <td>Relationen</td>\n",
       "      <td>relationen</td>\n",
       "      <td>2079</td>\n",
       "      <td>Mathe</td>\n",
       "      <td>de</td>\n",
       "      <td>schule</td>\n",
       "    </tr>\n",
       "    <tr>\n",
       "      <th>2579</th>\n",
       "      <td>Quantor</td>\n",
       "      <td>quantor</td>\n",
       "      <td>2081</td>\n",
       "      <td>Mathe</td>\n",
       "      <td>de</td>\n",
       "      <td>schule</td>\n",
       "    </tr>\n",
       "    <tr>\n",
       "      <th>2580</th>\n",
       "      <td>Logikverknüpfungen</td>\n",
       "      <td>logikverknüpfungen</td>\n",
       "      <td>2083</td>\n",
       "      <td>Mathe</td>\n",
       "      <td>de</td>\n",
       "      <td>schule</td>\n",
       "    </tr>\n",
       "    <tr>\n",
       "      <th>2586</th>\n",
       "      <td>Zahlensysteme</td>\n",
       "      <td>zahlensysteme</td>\n",
       "      <td>2091</td>\n",
       "      <td>Mathe</td>\n",
       "      <td>de</td>\n",
       "      <td>schule</td>\n",
       "    </tr>\n",
       "    <tr>\n",
       "      <th>2596</th>\n",
       "      <td>Fasskreisbogen</td>\n",
       "      <td>fasskreisbogen</td>\n",
       "      <td>2095</td>\n",
       "      <td>Mathe</td>\n",
       "      <td>de</td>\n",
       "      <td>schule</td>\n",
       "    </tr>\n",
       "    <tr>\n",
       "      <th>2622</th>\n",
       "      <td>Median</td>\n",
       "      <td>median</td>\n",
       "      <td>2105</td>\n",
       "      <td>Mathe</td>\n",
       "      <td>de</td>\n",
       "      <td>schule</td>\n",
       "    </tr>\n",
       "    <tr>\n",
       "      <th>2626</th>\n",
       "      <td>Kreiszahl Pi</td>\n",
       "      <td>kreiszahl</td>\n",
       "      <td>2107</td>\n",
       "      <td>Mathe</td>\n",
       "      <td>de</td>\n",
       "      <td>schule</td>\n",
       "    </tr>\n",
       "    <tr>\n",
       "      <th>2640</th>\n",
       "      <td>Termbeschreibungen</td>\n",
       "      <td>termbeschreibungen</td>\n",
       "      <td>2111</td>\n",
       "      <td>Mathe</td>\n",
       "      <td>de</td>\n",
       "      <td>schule</td>\n",
       "    </tr>\n",
       "    <tr>\n",
       "      <th>2674</th>\n",
       "      <td>Zwischenwertsatz</td>\n",
       "      <td>zwischenwertsatz</td>\n",
       "      <td>2129</td>\n",
       "      <td>Mathe</td>\n",
       "      <td>de</td>\n",
       "      <td>schule</td>\n",
       "    </tr>\n",
       "    <tr>\n",
       "      <th>2678</th>\n",
       "      <td>Testartikel</td>\n",
       "      <td>testartikel</td>\n",
       "      <td>2131</td>\n",
       "      <td>Mathe</td>\n",
       "      <td>de</td>\n",
       "      <td>schule</td>\n",
       "    </tr>\n",
       "    <tr>\n",
       "      <th>2680</th>\n",
       "      <td>Normalverteilung</td>\n",
       "      <td>normalverteilung</td>\n",
       "      <td>2133</td>\n",
       "      <td>Mathe</td>\n",
       "      <td>de</td>\n",
       "      <td>schule</td>\n",
       "    </tr>\n",
       "    <tr>\n",
       "      <th>2684</th>\n",
       "      <td>Parallelotop</td>\n",
       "      <td>parallelotop</td>\n",
       "      <td>2135</td>\n",
       "      <td>Mathe</td>\n",
       "      <td>de</td>\n",
       "      <td>schule</td>\n",
       "    </tr>\n",
       "    <tr>\n",
       "      <th>2696</th>\n",
       "      <td>Exponentialfunktion</td>\n",
       "      <td>exponentialfunktion</td>\n",
       "      <td>2143</td>\n",
       "      <td>Mathe</td>\n",
       "      <td>de</td>\n",
       "      <td>schule</td>\n",
       "    </tr>\n",
       "    <tr>\n",
       "      <th>2737</th>\n",
       "      <td>Steckbriefaufgabe</td>\n",
       "      <td>steckbriefaufgabe</td>\n",
       "      <td>2157</td>\n",
       "      <td>Mathe</td>\n",
       "      <td>de</td>\n",
       "      <td>schule</td>\n",
       "    </tr>\n",
       "    <tr>\n",
       "      <th>2776</th>\n",
       "      <td>Rotationskörper</td>\n",
       "      <td>rotationskörper</td>\n",
       "      <td>2187</td>\n",
       "      <td>Mathe</td>\n",
       "      <td>de</td>\n",
       "      <td>schule</td>\n",
       "    </tr>\n",
       "    <tr>\n",
       "      <th>2872</th>\n",
       "      <td>Differentialquotient</td>\n",
       "      <td>differentialquotient</td>\n",
       "      <td>18529</td>\n",
       "      <td>Mathe</td>\n",
       "      <td>de</td>\n",
       "      <td>schule</td>\n",
       "    </tr>\n",
       "    <tr>\n",
       "      <th>2882</th>\n",
       "      <td>Was ist Humus?</td>\n",
       "      <td>humus</td>\n",
       "      <td>20891</td>\n",
       "      <td>Nachhaltigkeit</td>\n",
       "      <td>de</td>\n",
       "      <td>schule</td>\n",
       "    </tr>\n",
       "    <tr>\n",
       "      <th>2884</th>\n",
       "      <td>Rauschmittel</td>\n",
       "      <td>rauschmittel</td>\n",
       "      <td>23953</td>\n",
       "      <td>Biologie</td>\n",
       "      <td>de</td>\n",
       "      <td>schule</td>\n",
       "    </tr>\n",
       "    <tr>\n",
       "      <th>2926</th>\n",
       "      <td>Essstörungen</td>\n",
       "      <td>essstörungen</td>\n",
       "      <td>24020</td>\n",
       "      <td>Biologie</td>\n",
       "      <td>de</td>\n",
       "      <td>schule</td>\n",
       "    </tr>\n",
       "    <tr>\n",
       "      <th>2938</th>\n",
       "      <td>Internetabhängigkeit</td>\n",
       "      <td>internetabhängigkeit</td>\n",
       "      <td>24727</td>\n",
       "      <td>Biologie</td>\n",
       "      <td>de</td>\n",
       "      <td>schule</td>\n",
       "    </tr>\n",
       "    <tr>\n",
       "      <th>2958</th>\n",
       "      <td>Isomerie</td>\n",
       "      <td>isomerie</td>\n",
       "      <td>25369</td>\n",
       "      <td>Chemie</td>\n",
       "      <td>de</td>\n",
       "      <td>schule</td>\n",
       "    </tr>\n",
       "    <tr>\n",
       "      <th>2960</th>\n",
       "      <td>Aggregatzustand</td>\n",
       "      <td>aggregatzustand</td>\n",
       "      <td>25371</td>\n",
       "      <td>Chemie</td>\n",
       "      <td>de</td>\n",
       "      <td>schule</td>\n",
       "    </tr>\n",
       "    <tr>\n",
       "      <th>2963</th>\n",
       "      <td>Brennbarkeit</td>\n",
       "      <td>brennbarkeit</td>\n",
       "      <td>25398</td>\n",
       "      <td>Chemie</td>\n",
       "      <td>de</td>\n",
       "      <td>schule</td>\n",
       "    </tr>\n",
       "    <tr>\n",
       "      <th>2964</th>\n",
       "      <td>Indikatoren</td>\n",
       "      <td>indikatoren</td>\n",
       "      <td>25400</td>\n",
       "      <td>Chemie</td>\n",
       "      <td>de</td>\n",
       "      <td>schule</td>\n",
       "    </tr>\n",
       "    <tr>\n",
       "      <th>2965</th>\n",
       "      <td>Löslichkeit</td>\n",
       "      <td>löslichkeit</td>\n",
       "      <td>25402</td>\n",
       "      <td>Chemie</td>\n",
       "      <td>de</td>\n",
       "      <td>schule</td>\n",
       "    </tr>\n",
       "    <tr>\n",
       "      <th>2967</th>\n",
       "      <td>Leitfähigkeit</td>\n",
       "      <td>leitfähigkeit</td>\n",
       "      <td>25404</td>\n",
       "      <td>Chemie</td>\n",
       "      <td>de</td>\n",
       "      <td>schule</td>\n",
       "    </tr>\n",
       "    <tr>\n",
       "      <th>2969</th>\n",
       "      <td>Was ist Permakultur?</td>\n",
       "      <td>permakultur</td>\n",
       "      <td>25507</td>\n",
       "      <td>Nachhaltigkeit</td>\n",
       "      <td>de</td>\n",
       "      <td>schule</td>\n",
       "    </tr>\n",
       "    <tr>\n",
       "      <th>2973</th>\n",
       "      <td>Naturfarben</td>\n",
       "      <td>naturfarben</td>\n",
       "      <td>25545</td>\n",
       "      <td>Nachhaltigkeit</td>\n",
       "      <td>de</td>\n",
       "      <td>schule</td>\n",
       "    </tr>\n",
       "    <tr>\n",
       "      <th>2976</th>\n",
       "      <td>Kerzen</td>\n",
       "      <td>kerzen</td>\n",
       "      <td>25549</td>\n",
       "      <td>Nachhaltigkeit</td>\n",
       "      <td>de</td>\n",
       "      <td>schule</td>\n",
       "    </tr>\n",
       "    <tr>\n",
       "      <th>2981</th>\n",
       "      <td>Elemente</td>\n",
       "      <td>elemente</td>\n",
       "      <td>25871</td>\n",
       "      <td>Chemie</td>\n",
       "      <td>de</td>\n",
       "      <td>schule</td>\n",
       "    </tr>\n",
       "    <tr>\n",
       "      <th>2985</th>\n",
       "      <td>Aktivierungsenergie (x)</td>\n",
       "      <td>aktivierungsenergie</td>\n",
       "      <td>25880</td>\n",
       "      <td>Chemie</td>\n",
       "      <td>de</td>\n",
       "      <td>schule</td>\n",
       "    </tr>\n",
       "    <tr>\n",
       "      <th>2987</th>\n",
       "      <td>Energieprofil (x)</td>\n",
       "      <td>energieprofil</td>\n",
       "      <td>25882</td>\n",
       "      <td>Chemie</td>\n",
       "      <td>de</td>\n",
       "      <td>schule</td>\n",
       "    </tr>\n",
       "    <tr>\n",
       "      <th>2989</th>\n",
       "      <td>Massenerhaltung (x)</td>\n",
       "      <td>massenerhaltung</td>\n",
       "      <td>25886</td>\n",
       "      <td>Chemie</td>\n",
       "      <td>de</td>\n",
       "      <td>schule</td>\n",
       "    </tr>\n",
       "    <tr>\n",
       "      <th>2991</th>\n",
       "      <td>Substitutionsreaktion (x)</td>\n",
       "      <td>substitutionsreaktion</td>\n",
       "      <td>25889</td>\n",
       "      <td>Chemie</td>\n",
       "      <td>de</td>\n",
       "      <td>schule</td>\n",
       "    </tr>\n",
       "    <tr>\n",
       "      <th>2993</th>\n",
       "      <td>Additionsreaktion (X)</td>\n",
       "      <td>additionsreaktion</td>\n",
       "      <td>25891</td>\n",
       "      <td>Chemie</td>\n",
       "      <td>de</td>\n",
       "      <td>schule</td>\n",
       "    </tr>\n",
       "    <tr>\n",
       "      <th>2995</th>\n",
       "      <td>Analyse (x)</td>\n",
       "      <td>analyse</td>\n",
       "      <td>25893</td>\n",
       "      <td>Chemie</td>\n",
       "      <td>de</td>\n",
       "      <td>schule</td>\n",
       "    </tr>\n",
       "    <tr>\n",
       "      <th>2997</th>\n",
       "      <td>Synthese (x)</td>\n",
       "      <td>synthese</td>\n",
       "      <td>25895</td>\n",
       "      <td>Chemie</td>\n",
       "      <td>de</td>\n",
       "      <td>schule</td>\n",
       "    </tr>\n",
       "    <tr>\n",
       "      <th>3000</th>\n",
       "      <td>Kompostierung</td>\n",
       "      <td>kompostierung</td>\n",
       "      <td>26058</td>\n",
       "      <td>Nachhaltigkeit</td>\n",
       "      <td>de</td>\n",
       "      <td>schule</td>\n",
       "    </tr>\n",
       "    <tr>\n",
       "      <th>3006</th>\n",
       "      <td>Elastan</td>\n",
       "      <td>elastan</td>\n",
       "      <td>26144</td>\n",
       "      <td>Chemie</td>\n",
       "      <td>de</td>\n",
       "      <td>schule</td>\n",
       "    </tr>\n",
       "    <tr>\n",
       "      <th>3007</th>\n",
       "      <td>Polyacrylate</td>\n",
       "      <td>polyacrylate</td>\n",
       "      <td>26147</td>\n",
       "      <td>Chemie</td>\n",
       "      <td>de</td>\n",
       "      <td>schule</td>\n",
       "    </tr>\n",
       "    <tr>\n",
       "      <th>3008</th>\n",
       "      <td>Polyamid</td>\n",
       "      <td>polyamid</td>\n",
       "      <td>26149</td>\n",
       "      <td>Chemie</td>\n",
       "      <td>de</td>\n",
       "      <td>schule</td>\n",
       "    </tr>\n",
       "    <tr>\n",
       "      <th>3009</th>\n",
       "      <td>Polyester</td>\n",
       "      <td>polyester</td>\n",
       "      <td>26151</td>\n",
       "      <td>Chemie</td>\n",
       "      <td>de</td>\n",
       "      <td>schule</td>\n",
       "    </tr>\n",
       "    <tr>\n",
       "      <th>3010</th>\n",
       "      <td>Polymerisation</td>\n",
       "      <td>polymerisation</td>\n",
       "      <td>26158</td>\n",
       "      <td>Chemie</td>\n",
       "      <td>de</td>\n",
       "      <td>schule</td>\n",
       "    </tr>\n",
       "    <tr>\n",
       "      <th>3016</th>\n",
       "      <td>Ringsöffnungspolymerisation (x)</td>\n",
       "      <td>ringsöffnungspolymerisation</td>\n",
       "      <td>26169</td>\n",
       "      <td>Chemie</td>\n",
       "      <td>de</td>\n",
       "      <td>schule</td>\n",
       "    </tr>\n",
       "    <tr>\n",
       "      <th>3018</th>\n",
       "      <td>Kettenreaktion (x)</td>\n",
       "      <td>kettenreaktion</td>\n",
       "      <td>26214</td>\n",
       "      <td>Chemie</td>\n",
       "      <td>de</td>\n",
       "      <td>schule</td>\n",
       "    </tr>\n",
       "    <tr>\n",
       "      <th>3020</th>\n",
       "      <td>PVC (Polychlorethen)</td>\n",
       "      <td>polychlorethen</td>\n",
       "      <td>26360</td>\n",
       "      <td>Chemie</td>\n",
       "      <td>de</td>\n",
       "      <td>schule</td>\n",
       "    </tr>\n",
       "    <tr>\n",
       "      <th>3024</th>\n",
       "      <td>Polyethen (PE)</td>\n",
       "      <td>polyethen</td>\n",
       "      <td>26368</td>\n",
       "      <td>Chemie</td>\n",
       "      <td>de</td>\n",
       "      <td>schule</td>\n",
       "    </tr>\n",
       "    <tr>\n",
       "      <th>3025</th>\n",
       "      <td>Polykondensation</td>\n",
       "      <td>polykondensation</td>\n",
       "      <td>26371</td>\n",
       "      <td>Chemie</td>\n",
       "      <td>de</td>\n",
       "      <td>schule</td>\n",
       "    </tr>\n",
       "    <tr>\n",
       "      <th>3036</th>\n",
       "      <td>Stufenreaktion</td>\n",
       "      <td>stufenreaktion</td>\n",
       "      <td>26509</td>\n",
       "      <td>Chemie</td>\n",
       "      <td>de</td>\n",
       "      <td>schule</td>\n",
       "    </tr>\n",
       "    <tr>\n",
       "      <th>3051</th>\n",
       "      <td>Veresterung</td>\n",
       "      <td>veresterung</td>\n",
       "      <td>26753</td>\n",
       "      <td>Chemie</td>\n",
       "      <td>de</td>\n",
       "      <td>schule</td>\n",
       "    </tr>\n",
       "    <tr>\n",
       "      <th>3055</th>\n",
       "      <td>Gründüngung</td>\n",
       "      <td>gründüngung</td>\n",
       "      <td>26834</td>\n",
       "      <td>Nachhaltigkeit</td>\n",
       "      <td>de</td>\n",
       "      <td>schule</td>\n",
       "    </tr>\n",
       "    <tr>\n",
       "      <th>3168</th>\n",
       "      <td>Dezimalbruch</td>\n",
       "      <td>dezimalbruch</td>\n",
       "      <td>27823</td>\n",
       "      <td>Mathe</td>\n",
       "      <td>de</td>\n",
       "      <td>schule</td>\n",
       "    </tr>\n",
       "    <tr>\n",
       "      <th>3222</th>\n",
       "      <td>Binomialkoeffizient</td>\n",
       "      <td>binomialkoeffizient</td>\n",
       "      <td>28557</td>\n",
       "      <td>Mathe</td>\n",
       "      <td>de</td>\n",
       "      <td>schule</td>\n",
       "    </tr>\n",
       "    <tr>\n",
       "      <th>3224</th>\n",
       "      <td>Stellenwertsysteme</td>\n",
       "      <td>stellenwertsysteme</td>\n",
       "      <td>28903</td>\n",
       "      <td>Mathe</td>\n",
       "      <td>de</td>\n",
       "      <td>schule</td>\n",
       "    </tr>\n",
       "    <tr>\n",
       "      <th>3230</th>\n",
       "      <td>Dezimalsystem</td>\n",
       "      <td>dezimalsystem</td>\n",
       "      <td>29291</td>\n",
       "      <td>Mathe</td>\n",
       "      <td>de</td>\n",
       "      <td>schule</td>\n",
       "    </tr>\n",
       "    <tr>\n",
       "      <th>3258</th>\n",
       "      <td>Zählprinzip</td>\n",
       "      <td>zählprinzip</td>\n",
       "      <td>29910</td>\n",
       "      <td>Mathe</td>\n",
       "      <td>de</td>\n",
       "      <td>schule</td>\n",
       "    </tr>\n",
       "    <tr>\n",
       "      <th>3293</th>\n",
       "      <td>Ionen</td>\n",
       "      <td>ionen</td>\n",
       "      <td>32005</td>\n",
       "      <td>Chemie</td>\n",
       "      <td>de</td>\n",
       "      <td>schule</td>\n",
       "    </tr>\n",
       "    <tr>\n",
       "      <th>3295</th>\n",
       "      <td>Thermoplasten</td>\n",
       "      <td>thermoplasten</td>\n",
       "      <td>32042</td>\n",
       "      <td>Chemie</td>\n",
       "      <td>de</td>\n",
       "      <td>schule</td>\n",
       "    </tr>\n",
       "    <tr>\n",
       "      <th>3297</th>\n",
       "      <td>Duroplaste</td>\n",
       "      <td>duroplaste</td>\n",
       "      <td>32044</td>\n",
       "      <td>Chemie</td>\n",
       "      <td>de</td>\n",
       "      <td>schule</td>\n",
       "    </tr>\n",
       "    <tr>\n",
       "      <th>3305</th>\n",
       "      <td>Polypropen (PP)</td>\n",
       "      <td>polypropen</td>\n",
       "      <td>32181</td>\n",
       "      <td>Chemie</td>\n",
       "      <td>de</td>\n",
       "      <td>schule</td>\n",
       "    </tr>\n",
       "    <tr>\n",
       "      <th>3306</th>\n",
       "      <td>Polystyrol</td>\n",
       "      <td>polystyrol</td>\n",
       "      <td>32183</td>\n",
       "      <td>Chemie</td>\n",
       "      <td>de</td>\n",
       "      <td>schule</td>\n",
       "    </tr>\n",
       "    <tr>\n",
       "      <th>3313</th>\n",
       "      <td>Dissoziationsgleichung</td>\n",
       "      <td>dissoziationsgleichung</td>\n",
       "      <td>32305</td>\n",
       "      <td>Chemie</td>\n",
       "      <td>de</td>\n",
       "      <td>schule</td>\n",
       "    </tr>\n",
       "    <tr>\n",
       "      <th>3346</th>\n",
       "      <td>Das Ruhepotential</td>\n",
       "      <td>ruhepotential</td>\n",
       "      <td>33157</td>\n",
       "      <td>Biologie</td>\n",
       "      <td>de</td>\n",
       "      <td>schule</td>\n",
       "    </tr>\n",
       "    <tr>\n",
       "      <th>3352</th>\n",
       "      <td>Das Aktionspotential</td>\n",
       "      <td>aktionspotential</td>\n",
       "      <td>33412</td>\n",
       "      <td>Biologie</td>\n",
       "      <td>de</td>\n",
       "      <td>schule</td>\n",
       "    </tr>\n",
       "    <tr>\n",
       "      <th>3383</th>\n",
       "      <td>Artikel</td>\n",
       "      <td>artikel</td>\n",
       "      <td>34159</td>\n",
       "      <td>Nachhaltigkeit</td>\n",
       "      <td>de</td>\n",
       "      <td>schule</td>\n",
       "    </tr>\n",
       "    <tr>\n",
       "      <th>3385</th>\n",
       "      <td>Schlüssellochbeet</td>\n",
       "      <td>schlüssellochbeet</td>\n",
       "      <td>34249</td>\n",
       "      <td>Nachhaltigkeit</td>\n",
       "      <td>de</td>\n",
       "      <td>schule</td>\n",
       "    </tr>\n",
       "    <tr>\n",
       "      <th>3386</th>\n",
       "      <td>Hochbeet</td>\n",
       "      <td>hochbeet</td>\n",
       "      <td>34307</td>\n",
       "      <td>Nachhaltigkeit</td>\n",
       "      <td>de</td>\n",
       "      <td>schule</td>\n",
       "    </tr>\n",
       "    <tr>\n",
       "      <th>3390</th>\n",
       "      <td>Kräuterspirale</td>\n",
       "      <td>kräuterspirale</td>\n",
       "      <td>34331</td>\n",
       "      <td>Nachhaltigkeit</td>\n",
       "      <td>de</td>\n",
       "      <td>schule</td>\n",
       "    </tr>\n",
       "    <tr>\n",
       "      <th>3455</th>\n",
       "      <td>Nachhaltigkeit</td>\n",
       "      <td>nachhaltigkeit</td>\n",
       "      <td>35149</td>\n",
       "      <td>Nachhaltigkeit</td>\n",
       "      <td>de</td>\n",
       "      <td>schule</td>\n",
       "    </tr>\n",
       "    <tr>\n",
       "      <th>3472</th>\n",
       "      <td>Gewächshäuser</td>\n",
       "      <td>gewächshäuser</td>\n",
       "      <td>35554</td>\n",
       "      <td>Nachhaltigkeit</td>\n",
       "      <td>de</td>\n",
       "      <td>schule</td>\n",
       "    </tr>\n",
       "    <tr>\n",
       "      <th>3474</th>\n",
       "      <td>Achsensymmetrie</td>\n",
       "      <td>achsensymmetrie</td>\n",
       "      <td>35620</td>\n",
       "      <td>Mathe</td>\n",
       "      <td>de</td>\n",
       "      <td>schule</td>\n",
       "    </tr>\n",
       "    <tr>\n",
       "      <th>3482</th>\n",
       "      <td>Körpernetze</td>\n",
       "      <td>körpernetze</td>\n",
       "      <td>35621</td>\n",
       "      <td>Mathe</td>\n",
       "      <td>de</td>\n",
       "      <td>schule</td>\n",
       "    </tr>\n",
       "    <tr>\n",
       "      <th>3506</th>\n",
       "      <td>Punktsymmetrie</td>\n",
       "      <td>punktsymmetrie</td>\n",
       "      <td>35721</td>\n",
       "      <td>Mathe</td>\n",
       "      <td>de</td>\n",
       "      <td>schule</td>\n",
       "    </tr>\n",
       "    <tr>\n",
       "      <th>3538</th>\n",
       "      <td>Terrassierung</td>\n",
       "      <td>terrassierung</td>\n",
       "      <td>36026</td>\n",
       "      <td>Nachhaltigkeit</td>\n",
       "      <td>de</td>\n",
       "      <td>schule</td>\n",
       "    </tr>\n",
       "    <tr>\n",
       "      <th>3546</th>\n",
       "      <td>Erdmiete</td>\n",
       "      <td>erdmiete</td>\n",
       "      <td>36153</td>\n",
       "      <td>Nachhaltigkeit</td>\n",
       "      <td>de</td>\n",
       "      <td>schule</td>\n",
       "    </tr>\n",
       "    <tr>\n",
       "      <th>3562</th>\n",
       "      <td>Kreis</td>\n",
       "      <td>kreis</td>\n",
       "      <td>36162</td>\n",
       "      <td>Mathe</td>\n",
       "      <td>de</td>\n",
       "      <td>schule</td>\n",
       "    </tr>\n",
       "    <tr>\n",
       "      <th>3578</th>\n",
       "      <td>Tetraeder</td>\n",
       "      <td>tetraeder</td>\n",
       "      <td>36213</td>\n",
       "      <td>Mathe</td>\n",
       "      <td>de</td>\n",
       "      <td>schule</td>\n",
       "    </tr>\n",
       "    <tr>\n",
       "      <th>3580</th>\n",
       "      <td>Kreissektor</td>\n",
       "      <td>kreissektor</td>\n",
       "      <td>36264</td>\n",
       "      <td>Mathe</td>\n",
       "      <td>de</td>\n",
       "      <td>schule</td>\n",
       "    </tr>\n",
       "    <tr>\n",
       "      <th>3585</th>\n",
       "      <td>Maßstab</td>\n",
       "      <td>maßstab</td>\n",
       "      <td>36268</td>\n",
       "      <td>Mathe</td>\n",
       "      <td>de</td>\n",
       "      <td>schule</td>\n",
       "    </tr>\n",
       "    <tr>\n",
       "      <th>3595</th>\n",
       "      <td>Umrechnungsfaktoren</td>\n",
       "      <td>umrechnungsfaktoren</td>\n",
       "      <td>36570</td>\n",
       "      <td>Mathe</td>\n",
       "      <td>de</td>\n",
       "      <td>schule</td>\n",
       "    </tr>\n",
       "    <tr>\n",
       "      <th>3609</th>\n",
       "      <td>Zonierung</td>\n",
       "      <td>zonierung</td>\n",
       "      <td>37914</td>\n",
       "      <td>Nachhaltigkeit</td>\n",
       "      <td>de</td>\n",
       "      <td>schule</td>\n",
       "    </tr>\n",
       "    <tr>\n",
       "      <th>3619</th>\n",
       "      <td>Wurmfarm</td>\n",
       "      <td>wurmfarm</td>\n",
       "      <td>38903</td>\n",
       "      <td>Nachhaltigkeit</td>\n",
       "      <td>de</td>\n",
       "      <td>schule</td>\n",
       "    </tr>\n",
       "    <tr>\n",
       "      <th>3621</th>\n",
       "      <td>Komposttoilette</td>\n",
       "      <td>komposttoilette</td>\n",
       "      <td>38906</td>\n",
       "      <td>Nachhaltigkeit</td>\n",
       "      <td>de</td>\n",
       "      <td>schule</td>\n",
       "    </tr>\n",
       "    <tr>\n",
       "      <th>3632</th>\n",
       "      <td>Nervengifte - Lernen mit Serlo!</td>\n",
       "      <td>nervengifte</td>\n",
       "      <td>39810</td>\n",
       "      <td>Biologie</td>\n",
       "      <td>de</td>\n",
       "      <td>schule</td>\n",
       "    </tr>\n",
       "    <tr>\n",
       "      <th>3641</th>\n",
       "      <td>Reflexe</td>\n",
       "      <td>reflexe</td>\n",
       "      <td>39822</td>\n",
       "      <td>Biologie</td>\n",
       "      <td>de</td>\n",
       "      <td>schule</td>\n",
       "    </tr>\n",
       "    <tr>\n",
       "      <th>3647</th>\n",
       "      <td>Wiris</td>\n",
       "      <td>wiris</td>\n",
       "      <td>39889</td>\n",
       "      <td>Mathe</td>\n",
       "      <td>de</td>\n",
       "      <td>schule</td>\n",
       "    </tr>\n",
       "    <tr>\n",
       "      <th>3657</th>\n",
       "      <td>Eckpunkt</td>\n",
       "      <td>eckpunkt</td>\n",
       "      <td>40036</td>\n",
       "      <td>Mathe</td>\n",
       "      <td>de</td>\n",
       "      <td>schule</td>\n",
       "    </tr>\n",
       "    <tr>\n",
       "      <th>3667</th>\n",
       "      <td>Kante</td>\n",
       "      <td>kante</td>\n",
       "      <td>40041</td>\n",
       "      <td>Mathe</td>\n",
       "      <td>de</td>\n",
       "      <td>schule</td>\n",
       "    </tr>\n",
       "    <tr>\n",
       "      <th>3673</th>\n",
       "      <td>Was sind Hormone?</td>\n",
       "      <td>hormone</td>\n",
       "      <td>40346</td>\n",
       "      <td>Biologie</td>\n",
       "      <td>de</td>\n",
       "      <td>schule</td>\n",
       "    </tr>\n",
       "    <tr>\n",
       "      <th>3699</th>\n",
       "      <td>Runden</td>\n",
       "      <td>runden</td>\n",
       "      <td>41763</td>\n",
       "      <td>Mathe</td>\n",
       "      <td>de</td>\n",
       "      <td>schule</td>\n",
       "    </tr>\n",
       "    <tr>\n",
       "      <th>3723</th>\n",
       "      <td>Spiegelung</td>\n",
       "      <td>spiegelung</td>\n",
       "      <td>42246</td>\n",
       "      <td>Mathe</td>\n",
       "      <td>de</td>\n",
       "      <td>schule</td>\n",
       "    </tr>\n",
       "    <tr>\n",
       "      <th>3728</th>\n",
       "      <td>Wertetabelle</td>\n",
       "      <td>wertetabelle</td>\n",
       "      <td>42380</td>\n",
       "      <td>Mathe</td>\n",
       "      <td>de</td>\n",
       "      <td>schule</td>\n",
       "    </tr>\n",
       "    <tr>\n",
       "      <th>3772</th>\n",
       "      <td>3. Aussagenlogik</td>\n",
       "      <td>aussagenlogik</td>\n",
       "      <td>43254</td>\n",
       "      <td>Mathe</td>\n",
       "      <td>de</td>\n",
       "      <td>schule</td>\n",
       "    </tr>\n",
       "    <tr>\n",
       "      <th>3774</th>\n",
       "      <td>5. Mengen</td>\n",
       "      <td>mengen</td>\n",
       "      <td>43256</td>\n",
       "      <td>Mathe</td>\n",
       "      <td>de</td>\n",
       "      <td>schule</td>\n",
       "    </tr>\n",
       "    <tr>\n",
       "      <th>3776</th>\n",
       "      <td>7. Ordnungsrelationen</td>\n",
       "      <td>ordnungsrelationen</td>\n",
       "      <td>43258</td>\n",
       "      <td>Mathe</td>\n",
       "      <td>de</td>\n",
       "      <td>schule</td>\n",
       "    </tr>\n",
       "    <tr>\n",
       "      <th>3780</th>\n",
       "      <td>9. Folgen</td>\n",
       "      <td>folgen</td>\n",
       "      <td>43285</td>\n",
       "      <td>Mathe</td>\n",
       "      <td>de</td>\n",
       "      <td>schule</td>\n",
       "    </tr>\n",
       "    <tr>\n",
       "      <th>3783</th>\n",
       "      <td>4. Beweise</td>\n",
       "      <td>beweise</td>\n",
       "      <td>43309</td>\n",
       "      <td>Mathe</td>\n",
       "      <td>de</td>\n",
       "      <td>schule</td>\n",
       "    </tr>\n",
       "    <tr>\n",
       "      <th>3785</th>\n",
       "      <td>2. Logarithmen</td>\n",
       "      <td>logarithmen</td>\n",
       "      <td>43367</td>\n",
       "      <td>Mathe</td>\n",
       "      <td>de</td>\n",
       "      <td>schule</td>\n",
       "    </tr>\n",
       "    <tr>\n",
       "      <th>3787</th>\n",
       "      <td>0. Einstimmung</td>\n",
       "      <td>einstimmung</td>\n",
       "      <td>43433</td>\n",
       "      <td>Mathe</td>\n",
       "      <td>de</td>\n",
       "      <td>schule</td>\n",
       "    </tr>\n",
       "    <tr>\n",
       "      <th>3790</th>\n",
       "      <td>8. Abbildungen</td>\n",
       "      <td>abbildungen</td>\n",
       "      <td>43455</td>\n",
       "      <td>Mathe</td>\n",
       "      <td>de</td>\n",
       "      <td>schule</td>\n",
       "    </tr>\n",
       "    <tr>\n",
       "      <th>3795</th>\n",
       "      <td>Parallelverschiebung</td>\n",
       "      <td>parallelverschiebung</td>\n",
       "      <td>43629</td>\n",
       "      <td>Mathe</td>\n",
       "      <td>de</td>\n",
       "      <td>schule</td>\n",
       "    </tr>\n",
       "    <tr>\n",
       "      <th>3819</th>\n",
       "      <td>Polarkoordinaten</td>\n",
       "      <td>polarkoordinaten</td>\n",
       "      <td>45643</td>\n",
       "      <td>Mathe</td>\n",
       "      <td>de</td>\n",
       "      <td>schule</td>\n",
       "    </tr>\n",
       "    <tr>\n",
       "      <th>3822</th>\n",
       "      <td>Summenzeichen</td>\n",
       "      <td>summenzeichen</td>\n",
       "      <td>45699</td>\n",
       "      <td>Mathe</td>\n",
       "      <td>de</td>\n",
       "      <td>schule</td>\n",
       "    </tr>\n",
       "    <tr>\n",
       "      <th>3876</th>\n",
       "      <td>Bruchgleichung</td>\n",
       "      <td>bruchgleichung</td>\n",
       "      <td>47773</td>\n",
       "      <td>Mathe</td>\n",
       "      <td>de</td>\n",
       "      <td>schule</td>\n",
       "    </tr>\n",
       "    <tr>\n",
       "      <th>3881</th>\n",
       "      <td>Bruchgleichungen</td>\n",
       "      <td>bruchgleichungen</td>\n",
       "      <td>47773</td>\n",
       "      <td>Mathe</td>\n",
       "      <td>de</td>\n",
       "      <td>schule</td>\n",
       "    </tr>\n",
       "    <tr>\n",
       "      <th>3921</th>\n",
       "      <td>Logarithmusfunktion</td>\n",
       "      <td>logarithmusfunktion</td>\n",
       "      <td>49133</td>\n",
       "      <td>Mathe</td>\n",
       "      <td>de</td>\n",
       "      <td>schule</td>\n",
       "    </tr>\n",
       "    <tr>\n",
       "      <th>3965</th>\n",
       "      <td>Kehrbruch</td>\n",
       "      <td>kehrbruch</td>\n",
       "      <td>50567</td>\n",
       "      <td>Mathe</td>\n",
       "      <td>de</td>\n",
       "      <td>schule</td>\n",
       "    </tr>\n",
       "    <tr>\n",
       "      <th>3991</th>\n",
       "      <td>Pflanzzeiten</td>\n",
       "      <td>pflanzzeiten</td>\n",
       "      <td>51384</td>\n",
       "      <td>Nachhaltigkeit</td>\n",
       "      <td>de</td>\n",
       "      <td>schule</td>\n",
       "    </tr>\n",
       "    <tr>\n",
       "      <th>3997</th>\n",
       "      <td>Potenzfunktionen (2)</td>\n",
       "      <td>potenzfunktionen</td>\n",
       "      <td>51404</td>\n",
       "      <td>Mathe</td>\n",
       "      <td>de</td>\n",
       "      <td>schule</td>\n",
       "    </tr>\n",
       "    <tr>\n",
       "      <th>4001</th>\n",
       "      <td>Ausklammern</td>\n",
       "      <td>ausklammern</td>\n",
       "      <td>51468</td>\n",
       "      <td>Mathe</td>\n",
       "      <td>de</td>\n",
       "      <td>schule</td>\n",
       "    </tr>\n",
       "    <tr>\n",
       "      <th>4021</th>\n",
       "      <td>Tangensfunktion</td>\n",
       "      <td>tangensfunktion</td>\n",
       "      <td>52973</td>\n",
       "      <td>Mathe</td>\n",
       "      <td>de</td>\n",
       "      <td>schule</td>\n",
       "    </tr>\n",
       "    <tr>\n",
       "      <th>4041</th>\n",
       "      <td>Photon</td>\n",
       "      <td>photon</td>\n",
       "      <td>53073</td>\n",
       "      <td>Physik</td>\n",
       "      <td>de</td>\n",
       "      <td>schule</td>\n",
       "    </tr>\n",
       "    <tr>\n",
       "      <th>4047</th>\n",
       "      <td>Atomkern</td>\n",
       "      <td>atomkern</td>\n",
       "      <td>53415</td>\n",
       "      <td>Physik</td>\n",
       "      <td>de</td>\n",
       "      <td>schule</td>\n",
       "    </tr>\n",
       "    <tr>\n",
       "      <th>4053</th>\n",
       "      <td>Radioaktivität</td>\n",
       "      <td>radioaktivität</td>\n",
       "      <td>53417</td>\n",
       "      <td>Physik</td>\n",
       "      <td>de</td>\n",
       "      <td>schule</td>\n",
       "    </tr>\n",
       "    <tr>\n",
       "      <th>4059</th>\n",
       "      <td>Aktivität</td>\n",
       "      <td>aktivität</td>\n",
       "      <td>53420</td>\n",
       "      <td>Physik</td>\n",
       "      <td>de</td>\n",
       "      <td>schule</td>\n",
       "    </tr>\n",
       "    <tr>\n",
       "      <th>4060</th>\n",
       "      <td>Energiedosis</td>\n",
       "      <td>energiedosis</td>\n",
       "      <td>53475</td>\n",
       "      <td>Physik</td>\n",
       "      <td>de</td>\n",
       "      <td>schule</td>\n",
       "    </tr>\n",
       "    <tr>\n",
       "      <th>4062</th>\n",
       "      <td>Äquivalentdosis</td>\n",
       "      <td>äquivalentdosis</td>\n",
       "      <td>53494</td>\n",
       "      <td>Physik</td>\n",
       "      <td>de</td>\n",
       "      <td>schule</td>\n",
       "    </tr>\n",
       "    <tr>\n",
       "      <th>4064</th>\n",
       "      <td>Halbwertszeit</td>\n",
       "      <td>halbwertszeit</td>\n",
       "      <td>53514</td>\n",
       "      <td>Physik</td>\n",
       "      <td>de</td>\n",
       "      <td>schule</td>\n",
       "    </tr>\n",
       "    <tr>\n",
       "      <th>4082</th>\n",
       "      <td>Doppelbruch</td>\n",
       "      <td>doppelbruch</td>\n",
       "      <td>54253</td>\n",
       "      <td>Mathe</td>\n",
       "      <td>de</td>\n",
       "      <td>schule</td>\n",
       "    </tr>\n",
       "    <tr>\n",
       "      <th>4087</th>\n",
       "      <td>Scheinbruch</td>\n",
       "      <td>scheinbruch</td>\n",
       "      <td>54352</td>\n",
       "      <td>Mathe</td>\n",
       "      <td>de</td>\n",
       "      <td>schule</td>\n",
       "    </tr>\n",
       "    <tr>\n",
       "      <th>4088</th>\n",
       "      <td>Stammbruch</td>\n",
       "      <td>stammbruch</td>\n",
       "      <td>54372</td>\n",
       "      <td>Mathe</td>\n",
       "      <td>de</td>\n",
       "      <td>schule</td>\n",
       "    </tr>\n",
       "    <tr>\n",
       "      <th>4111</th>\n",
       "      <td>Community</td>\n",
       "      <td>community</td>\n",
       "      <td>54858</td>\n",
       "      <td>Mathe</td>\n",
       "      <td>de</td>\n",
       "      <td>schule</td>\n",
       "    </tr>\n",
       "    <tr>\n",
       "      <th>4131</th>\n",
       "      <td>Einheitskreis</td>\n",
       "      <td>einheitskreis</td>\n",
       "      <td>55637</td>\n",
       "      <td>Mathe</td>\n",
       "      <td>de</td>\n",
       "      <td>schule</td>\n",
       "    </tr>\n",
       "    <tr>\n",
       "      <th>4161</th>\n",
       "      <td>Thaleskreis</td>\n",
       "      <td>thaleskreis</td>\n",
       "      <td>56288</td>\n",
       "      <td>Mathe</td>\n",
       "      <td>de</td>\n",
       "      <td>schule</td>\n",
       "    </tr>\n",
       "    <tr>\n",
       "      <th>4162</th>\n",
       "      <td>Saatgutauswahl</td>\n",
       "      <td>saatgutauswahl</td>\n",
       "      <td>56561</td>\n",
       "      <td>Nachhaltigkeit</td>\n",
       "      <td>de</td>\n",
       "      <td>schule</td>\n",
       "    </tr>\n",
       "    <tr>\n",
       "      <th>4164</th>\n",
       "      <td>Mischkultur</td>\n",
       "      <td>mischkultur</td>\n",
       "      <td>56563</td>\n",
       "      <td>Nachhaltigkeit</td>\n",
       "      <td>de</td>\n",
       "      <td>schule</td>\n",
       "    </tr>\n",
       "    <tr>\n",
       "      <th>4166</th>\n",
       "      <td>Fruchtfolge</td>\n",
       "      <td>fruchtfolge</td>\n",
       "      <td>56565</td>\n",
       "      <td>Nachhaltigkeit</td>\n",
       "      <td>de</td>\n",
       "      <td>schule</td>\n",
       "    </tr>\n",
       "    <tr>\n",
       "      <th>4168</th>\n",
       "      <td>Fruchtwechsel</td>\n",
       "      <td>fruchtwechsel</td>\n",
       "      <td>56567</td>\n",
       "      <td>Nachhaltigkeit</td>\n",
       "      <td>de</td>\n",
       "      <td>schule</td>\n",
       "    </tr>\n",
       "    <tr>\n",
       "      <th>4171</th>\n",
       "      <td>Äquivalenzrelationen</td>\n",
       "      <td>äquivalenzrelationen</td>\n",
       "      <td>56795</td>\n",
       "      <td>Mathe</td>\n",
       "      <td>de</td>\n",
       "      <td>schule</td>\n",
       "    </tr>\n",
       "    <tr>\n",
       "      <th>4173</th>\n",
       "      <td>Pflanzenfamilien</td>\n",
       "      <td>pflanzenfamilien</td>\n",
       "      <td>56872</td>\n",
       "      <td>Nachhaltigkeit</td>\n",
       "      <td>de</td>\n",
       "      <td>schule</td>\n",
       "    </tr>\n",
       "    <tr>\n",
       "      <th>4175</th>\n",
       "      <td>Klassen</td>\n",
       "      <td>klassen</td>\n",
       "      <td>57029</td>\n",
       "      <td>Informatik</td>\n",
       "      <td>de</td>\n",
       "      <td>schule</td>\n",
       "    </tr>\n",
       "    <tr>\n",
       "      <th>4199</th>\n",
       "      <td>Sektorierung</td>\n",
       "      <td>sektorierung</td>\n",
       "      <td>58305</td>\n",
       "      <td>Nachhaltigkeit</td>\n",
       "      <td>de</td>\n",
       "      <td>schule</td>\n",
       "    </tr>\n",
       "    <tr>\n",
       "      <th>4201</th>\n",
       "      <td>Volumenformeln</td>\n",
       "      <td>volumenformeln</td>\n",
       "      <td>59099</td>\n",
       "      <td>Mathe</td>\n",
       "      <td>de</td>\n",
       "      <td>schule</td>\n",
       "    </tr>\n",
       "    <tr>\n",
       "      <th>4214</th>\n",
       "      <td>Zufallsexperiment</td>\n",
       "      <td>zufallsexperiment</td>\n",
       "      <td>60088</td>\n",
       "      <td>Mathe</td>\n",
       "      <td>de</td>\n",
       "      <td>schule</td>\n",
       "    </tr>\n",
       "    <tr>\n",
       "      <th>4232</th>\n",
       "      <td>Mantelfläche</td>\n",
       "      <td>mantelfläche</td>\n",
       "      <td>60970</td>\n",
       "      <td>Mathe</td>\n",
       "      <td>de</td>\n",
       "      <td>schule</td>\n",
       "    </tr>\n",
       "    <tr>\n",
       "      <th>4241</th>\n",
       "      <td>Vorzeichen</td>\n",
       "      <td>vorzeichen</td>\n",
       "      <td>62547</td>\n",
       "      <td>Mathe</td>\n",
       "      <td>de</td>\n",
       "      <td>schule</td>\n",
       "    </tr>\n",
       "    <tr>\n",
       "      <th>4261</th>\n",
       "      <td>Bakterieninfektionen</td>\n",
       "      <td>bakterieninfektionen</td>\n",
       "      <td>64513</td>\n",
       "      <td>Biologie</td>\n",
       "      <td>de</td>\n",
       "      <td>schule</td>\n",
       "    </tr>\n",
       "    <tr>\n",
       "      <th>4265</th>\n",
       "      <td>Virusinfektionen</td>\n",
       "      <td>virusinfektionen</td>\n",
       "      <td>64515</td>\n",
       "      <td>Biologie</td>\n",
       "      <td>de</td>\n",
       "      <td>schule</td>\n",
       "    </tr>\n",
       "    <tr>\n",
       "      <th>4269</th>\n",
       "      <td>Das Blut</td>\n",
       "      <td>blut</td>\n",
       "      <td>64572</td>\n",
       "      <td>Biologie</td>\n",
       "      <td>de</td>\n",
       "      <td>schule</td>\n",
       "    </tr>\n",
       "    <tr>\n",
       "      <th>4279</th>\n",
       "      <td>Oberflächenformeln</td>\n",
       "      <td>oberflächenformeln</td>\n",
       "      <td>64697</td>\n",
       "      <td>Mathe</td>\n",
       "      <td>de</td>\n",
       "      <td>schule</td>\n",
       "    </tr>\n",
       "    <tr>\n",
       "      <th>4285</th>\n",
       "      <td>Mutationen</td>\n",
       "      <td>mutationen</td>\n",
       "      <td>64742</td>\n",
       "      <td>Biologie</td>\n",
       "      <td>de</td>\n",
       "      <td>schule</td>\n",
       "    </tr>\n",
       "    <tr>\n",
       "      <th>4325</th>\n",
       "      <td>Objekte</td>\n",
       "      <td>objekte</td>\n",
       "      <td>65231</td>\n",
       "      <td>Informatik</td>\n",
       "      <td>de</td>\n",
       "      <td>schule</td>\n",
       "    </tr>\n",
       "    <tr>\n",
       "      <th>4329</th>\n",
       "      <td>Attribute</td>\n",
       "      <td>attribute</td>\n",
       "      <td>65234</td>\n",
       "      <td>Informatik</td>\n",
       "      <td>de</td>\n",
       "      <td>schule</td>\n",
       "    </tr>\n",
       "    <tr>\n",
       "      <th>4333</th>\n",
       "      <td>Attributwerte</td>\n",
       "      <td>attributwerte</td>\n",
       "      <td>65237</td>\n",
       "      <td>Informatik</td>\n",
       "      <td>de</td>\n",
       "      <td>schule</td>\n",
       "    </tr>\n",
       "    <tr>\n",
       "      <th>4337</th>\n",
       "      <td>Methoden</td>\n",
       "      <td>methoden</td>\n",
       "      <td>65239</td>\n",
       "      <td>Informatik</td>\n",
       "      <td>de</td>\n",
       "      <td>schule</td>\n",
       "    </tr>\n",
       "    <tr>\n",
       "      <th>4341</th>\n",
       "      <td>Punktnotation</td>\n",
       "      <td>punktnotation</td>\n",
       "      <td>65737</td>\n",
       "      <td>Informatik</td>\n",
       "      <td>de</td>\n",
       "      <td>schule</td>\n",
       "    </tr>\n",
       "    <tr>\n",
       "      <th>4348</th>\n",
       "      <td>Gedächtnis</td>\n",
       "      <td>gedächtnis</td>\n",
       "      <td>66440</td>\n",
       "      <td>Biologie</td>\n",
       "      <td>de</td>\n",
       "      <td>schule</td>\n",
       "    </tr>\n",
       "    <tr>\n",
       "      <th>4355</th>\n",
       "      <td>Düngung</td>\n",
       "      <td>düngung</td>\n",
       "      <td>67907</td>\n",
       "      <td>Nachhaltigkeit</td>\n",
       "      <td>de</td>\n",
       "      <td>schule</td>\n",
       "    </tr>\n",
       "    <tr>\n",
       "      <th>4357</th>\n",
       "      <td>Zerlegungsgleichheit</td>\n",
       "      <td>zerlegungsgleichheit</td>\n",
       "      <td>67957</td>\n",
       "      <td>Mathe</td>\n",
       "      <td>de</td>\n",
       "      <td>schule</td>\n",
       "    </tr>\n",
       "    <tr>\n",
       "      <th>4359</th>\n",
       "      <td>Bewässerungssysteme</td>\n",
       "      <td>bewässerungssysteme</td>\n",
       "      <td>68119</td>\n",
       "      <td>Nachhaltigkeit</td>\n",
       "      <td>de</td>\n",
       "      <td>schule</td>\n",
       "    </tr>\n",
       "    <tr>\n",
       "      <th>4369</th>\n",
       "      <td>Passwortsicherheit</td>\n",
       "      <td>passwortsicherheit</td>\n",
       "      <td>69504</td>\n",
       "      <td>Informatik</td>\n",
       "      <td>de</td>\n",
       "      <td>schule</td>\n",
       "    </tr>\n",
       "    <tr>\n",
       "      <th>4387</th>\n",
       "      <td>Schlüssel</td>\n",
       "      <td>schlüssel</td>\n",
       "      <td>69734</td>\n",
       "      <td>Informatik</td>\n",
       "      <td>de</td>\n",
       "      <td>schule</td>\n",
       "    </tr>\n",
       "    <tr>\n",
       "      <th>4391</th>\n",
       "      <td>SQL-Abfragen</td>\n",
       "      <td>abfragen</td>\n",
       "      <td>69747</td>\n",
       "      <td>Informatik</td>\n",
       "      <td>de</td>\n",
       "      <td>schule</td>\n",
       "    </tr>\n",
       "    <tr>\n",
       "      <th>4401</th>\n",
       "      <td>Wiederholungen</td>\n",
       "      <td>wiederholungen</td>\n",
       "      <td>70070</td>\n",
       "      <td>Informatik</td>\n",
       "      <td>de</td>\n",
       "      <td>schule</td>\n",
       "    </tr>\n",
       "    <tr>\n",
       "      <th>4403</th>\n",
       "      <td>Struktogramme</td>\n",
       "      <td>struktogramme</td>\n",
       "      <td>70180</td>\n",
       "      <td>Informatik</td>\n",
       "      <td>de</td>\n",
       "      <td>schule</td>\n",
       "    </tr>\n",
       "    <tr>\n",
       "      <th>4421</th>\n",
       "      <td>DNA - Was ist das?</td>\n",
       "      <td>dna</td>\n",
       "      <td>70762</td>\n",
       "      <td>Biologie</td>\n",
       "      <td>de</td>\n",
       "      <td>schule</td>\n",
       "    </tr>\n",
       "    <tr>\n",
       "      <th>4439</th>\n",
       "      <td>Das Auge</td>\n",
       "      <td>auge</td>\n",
       "      <td>70830</td>\n",
       "      <td>Biologie</td>\n",
       "      <td>de</td>\n",
       "      <td>schule</td>\n",
       "    </tr>\n",
       "    <tr>\n",
       "      <th>4449</th>\n",
       "      <td>Was sind Chromosomen?</td>\n",
       "      <td>chromosomen</td>\n",
       "      <td>70854</td>\n",
       "      <td>Biologie</td>\n",
       "      <td>de</td>\n",
       "      <td>schule</td>\n",
       "    </tr>\n",
       "    <tr>\n",
       "      <th>4469</th>\n",
       "      <td>Dichte</td>\n",
       "      <td>dichte</td>\n",
       "      <td>71276</td>\n",
       "      <td>Physik</td>\n",
       "      <td>de</td>\n",
       "      <td>schule</td>\n",
       "    </tr>\n",
       "    <tr>\n",
       "      <th>4481</th>\n",
       "      <td>Das ABC der Evolutionsbiologie</td>\n",
       "      <td>evolutionsbiologie</td>\n",
       "      <td>71520</td>\n",
       "      <td>Biologie</td>\n",
       "      <td>de</td>\n",
       "      <td>schule</td>\n",
       "    </tr>\n",
       "    <tr>\n",
       "      <th>4495</th>\n",
       "      <td>Prägung</td>\n",
       "      <td>prägung</td>\n",
       "      <td>71592</td>\n",
       "      <td>Biologie</td>\n",
       "      <td>de</td>\n",
       "      <td>schule</td>\n",
       "    </tr>\n",
       "    <tr>\n",
       "      <th>4505</th>\n",
       "      <td>Volumen</td>\n",
       "      <td>volumen</td>\n",
       "      <td>71630</td>\n",
       "      <td>Mathe</td>\n",
       "      <td>de</td>\n",
       "      <td>schule</td>\n",
       "    </tr>\n",
       "    <tr>\n",
       "      <th>4523</th>\n",
       "      <td>Biomembranen</td>\n",
       "      <td>biomembranen</td>\n",
       "      <td>71649</td>\n",
       "      <td>Biologie</td>\n",
       "      <td>de</td>\n",
       "      <td>schule</td>\n",
       "    </tr>\n",
       "    <tr>\n",
       "      <th>4541</th>\n",
       "      <td>HTML</td>\n",
       "      <td>html</td>\n",
       "      <td>73649</td>\n",
       "      <td>Informatik</td>\n",
       "      <td>de</td>\n",
       "      <td>schule</td>\n",
       "    </tr>\n",
       "    <tr>\n",
       "      <th>4545</th>\n",
       "      <td>Klimawandel</td>\n",
       "      <td>klimawandel</td>\n",
       "      <td>74639</td>\n",
       "      <td>Nachhaltigkeit</td>\n",
       "      <td>de</td>\n",
       "      <td>schule</td>\n",
       "    </tr>\n",
       "    <tr>\n",
       "      <th>4547</th>\n",
       "      <td>Treibhauseffekt</td>\n",
       "      <td>treibhauseffekt</td>\n",
       "      <td>74653</td>\n",
       "      <td>Nachhaltigkeit</td>\n",
       "      <td>de</td>\n",
       "      <td>schule</td>\n",
       "    </tr>\n",
       "    <tr>\n",
       "      <th>4553</th>\n",
       "      <td>Treibhausgase</td>\n",
       "      <td>treibhausgase</td>\n",
       "      <td>74888</td>\n",
       "      <td>Nachhaltigkeit</td>\n",
       "      <td>de</td>\n",
       "      <td>schule</td>\n",
       "    </tr>\n",
       "    <tr>\n",
       "      <th>4559</th>\n",
       "      <td>Klima</td>\n",
       "      <td>klima</td>\n",
       "      <td>76089</td>\n",
       "      <td>Nachhaltigkeit</td>\n",
       "      <td>de</td>\n",
       "      <td>schule</td>\n",
       "    </tr>\n",
       "    <tr>\n",
       "      <th>4561</th>\n",
       "      <td>Vorratskammer</td>\n",
       "      <td>vorratskammer</td>\n",
       "      <td>76270</td>\n",
       "      <td>Nachhaltigkeit</td>\n",
       "      <td>de</td>\n",
       "      <td>schule</td>\n",
       "    </tr>\n",
       "    <tr>\n",
       "      <th>4563</th>\n",
       "      <td>Erntezeitpunkt</td>\n",
       "      <td>erntezeitpunkt</td>\n",
       "      <td>76278</td>\n",
       "      <td>Nachhaltigkeit</td>\n",
       "      <td>de</td>\n",
       "      <td>schule</td>\n",
       "    </tr>\n",
       "    <tr>\n",
       "      <th>4565</th>\n",
       "      <td>Erntetricks</td>\n",
       "      <td>erntetricks</td>\n",
       "      <td>76284</td>\n",
       "      <td>Nachhaltigkeit</td>\n",
       "      <td>de</td>\n",
       "      <td>schule</td>\n",
       "    </tr>\n",
       "    <tr>\n",
       "      <th>4577</th>\n",
       "      <td>Salze</td>\n",
       "      <td>salze</td>\n",
       "      <td>77125</td>\n",
       "      <td>Chemie</td>\n",
       "      <td>de</td>\n",
       "      <td>schule</td>\n",
       "    </tr>\n",
       "    <tr>\n",
       "      <th>4579</th>\n",
       "      <td>Diffusion</td>\n",
       "      <td>diffusion</td>\n",
       "      <td>77149</td>\n",
       "      <td>Biologie</td>\n",
       "      <td>de</td>\n",
       "      <td>schule</td>\n",
       "    </tr>\n",
       "    <tr>\n",
       "      <th>4585</th>\n",
       "      <td>Populationsdynamik</td>\n",
       "      <td>populationsdynamik</td>\n",
       "      <td>77223</td>\n",
       "      <td>Biologie</td>\n",
       "      <td>de</td>\n",
       "      <td>schule</td>\n",
       "    </tr>\n",
       "    <tr>\n",
       "      <th>4587</th>\n",
       "      <td>Katalysator</td>\n",
       "      <td>katalysator</td>\n",
       "      <td>77224</td>\n",
       "      <td>Chemie</td>\n",
       "      <td>de</td>\n",
       "      <td>schule</td>\n",
       "    </tr>\n",
       "    <tr>\n",
       "      <th>4597</th>\n",
       "      <td>Die Haut</td>\n",
       "      <td>haut</td>\n",
       "      <td>77390</td>\n",
       "      <td>Biologie</td>\n",
       "      <td>de</td>\n",
       "      <td>schule</td>\n",
       "    </tr>\n",
       "    <tr>\n",
       "      <th>4599</th>\n",
       "      <td>Stammzellenforschung</td>\n",
       "      <td>stammzellenforschung</td>\n",
       "      <td>77652</td>\n",
       "      <td>Biologie</td>\n",
       "      <td>de</td>\n",
       "      <td>schule</td>\n",
       "    </tr>\n",
       "    <tr>\n",
       "      <th>4601</th>\n",
       "      <td>Endosymbiontentheorie</td>\n",
       "      <td>endosymbiontentheorie</td>\n",
       "      <td>77673</td>\n",
       "      <td>Biologie</td>\n",
       "      <td>de</td>\n",
       "      <td>schule</td>\n",
       "    </tr>\n",
       "    <tr>\n",
       "      <th>4605</th>\n",
       "      <td>Die Leber</td>\n",
       "      <td>leber</td>\n",
       "      <td>77705</td>\n",
       "      <td>Biologie</td>\n",
       "      <td>de</td>\n",
       "      <td>schule</td>\n",
       "    </tr>\n",
       "    <tr>\n",
       "      <th>4607</th>\n",
       "      <td>Die Lunge</td>\n",
       "      <td>lunge</td>\n",
       "      <td>77721</td>\n",
       "      <td>Biologie</td>\n",
       "      <td>de</td>\n",
       "      <td>schule</td>\n",
       "    </tr>\n",
       "    <tr>\n",
       "      <th>4609</th>\n",
       "      <td>Immunisierung</td>\n",
       "      <td>immunisierung</td>\n",
       "      <td>77735</td>\n",
       "      <td>Biologie</td>\n",
       "      <td>de</td>\n",
       "      <td>schule</td>\n",
       "    </tr>\n",
       "    <tr>\n",
       "      <th>4613</th>\n",
       "      <td>Alkane</td>\n",
       "      <td>alkane</td>\n",
       "      <td>77792</td>\n",
       "      <td>Chemie</td>\n",
       "      <td>de</td>\n",
       "      <td>schule</td>\n",
       "    </tr>\n",
       "    <tr>\n",
       "      <th>4615</th>\n",
       "      <td>Alkene</td>\n",
       "      <td>alkene</td>\n",
       "      <td>77809</td>\n",
       "      <td>Chemie</td>\n",
       "      <td>de</td>\n",
       "      <td>schule</td>\n",
       "    </tr>\n",
       "    <tr>\n",
       "      <th>4621</th>\n",
       "      <td>Der Zellkern</td>\n",
       "      <td>zellkern</td>\n",
       "      <td>77992</td>\n",
       "      <td>Biologie</td>\n",
       "      <td>de</td>\n",
       "      <td>schule</td>\n",
       "    </tr>\n",
       "    <tr>\n",
       "      <th>4623</th>\n",
       "      <td>Zeiteinheiten</td>\n",
       "      <td>zeiteinheiten</td>\n",
       "      <td>77998</td>\n",
       "      <td>Mathe</td>\n",
       "      <td>de</td>\n",
       "      <td>schule</td>\n",
       "    </tr>\n",
       "    <tr>\n",
       "      <th>4627</th>\n",
       "      <td>Das AB0-System</td>\n",
       "      <td>system</td>\n",
       "      <td>78063</td>\n",
       "      <td>Biologie</td>\n",
       "      <td>de</td>\n",
       "      <td>schule</td>\n",
       "    </tr>\n",
       "    <tr>\n",
       "      <th>4631</th>\n",
       "      <td>Mesomerie</td>\n",
       "      <td>mesomerie</td>\n",
       "      <td>78079</td>\n",
       "      <td>Chemie</td>\n",
       "      <td>de</td>\n",
       "      <td>schule</td>\n",
       "    </tr>\n",
       "    <tr>\n",
       "      <th>4633</th>\n",
       "      <td>Monosaccharide</td>\n",
       "      <td>monosaccharide</td>\n",
       "      <td>78089</td>\n",
       "      <td>Chemie</td>\n",
       "      <td>de</td>\n",
       "      <td>schule</td>\n",
       "    </tr>\n",
       "    <tr>\n",
       "      <th>4635</th>\n",
       "      <td>Die Glucose</td>\n",
       "      <td>glucose</td>\n",
       "      <td>78110</td>\n",
       "      <td>Chemie</td>\n",
       "      <td>de</td>\n",
       "      <td>schule</td>\n",
       "    </tr>\n",
       "    <tr>\n",
       "      <th>4639</th>\n",
       "      <td>Saatgutlagerung</td>\n",
       "      <td>saatgutlagerung</td>\n",
       "      <td>78136</td>\n",
       "      <td>Nachhaltigkeit</td>\n",
       "      <td>de</td>\n",
       "      <td>schule</td>\n",
       "    </tr>\n",
       "    <tr>\n",
       "      <th>4645</th>\n",
       "      <td>Urheberrecht</td>\n",
       "      <td>urheberrecht</td>\n",
       "      <td>79220</td>\n",
       "      <td>Informatik</td>\n",
       "      <td>de</td>\n",
       "      <td>schule</td>\n",
       "    </tr>\n",
       "    <tr>\n",
       "      <th>4647</th>\n",
       "      <td>Informationssicherheit</td>\n",
       "      <td>informationssicherheit</td>\n",
       "      <td>79221</td>\n",
       "      <td>Informatik</td>\n",
       "      <td>de</td>\n",
       "      <td>schule</td>\n",
       "    </tr>\n",
       "    <tr>\n",
       "      <th>4663</th>\n",
       "      <td>Der Mund</td>\n",
       "      <td>mund</td>\n",
       "      <td>80464</td>\n",
       "      <td>Biologie</td>\n",
       "      <td>de</td>\n",
       "      <td>schule</td>\n",
       "    </tr>\n",
       "    <tr>\n",
       "      <th>4669</th>\n",
       "      <td>Artbildung</td>\n",
       "      <td>artbildung</td>\n",
       "      <td>80653</td>\n",
       "      <td>Biologie</td>\n",
       "      <td>de</td>\n",
       "      <td>schule</td>\n",
       "    </tr>\n",
       "    <tr>\n",
       "      <th>4671</th>\n",
       "      <td>Evolutionsfaktoren</td>\n",
       "      <td>evolutionsfaktoren</td>\n",
       "      <td>80737</td>\n",
       "      <td>Biologie</td>\n",
       "      <td>de</td>\n",
       "      <td>schule</td>\n",
       "    </tr>\n",
       "    <tr>\n",
       "      <th>4677</th>\n",
       "      <td>Metallbindung</td>\n",
       "      <td>metallbindung</td>\n",
       "      <td>80774</td>\n",
       "      <td>Chemie</td>\n",
       "      <td>de</td>\n",
       "      <td>schule</td>\n",
       "    </tr>\n",
       "    <tr>\n",
       "      <th>4681</th>\n",
       "      <td>Kooperation</td>\n",
       "      <td>kooperation</td>\n",
       "      <td>80864</td>\n",
       "      <td>Biologie</td>\n",
       "      <td>de</td>\n",
       "      <td>schule</td>\n",
       "    </tr>\n",
       "    <tr>\n",
       "      <th>4695</th>\n",
       "      <td>Was ist Glück?</td>\n",
       "      <td>glück</td>\n",
       "      <td>80966</td>\n",
       "      <td>Nachhaltigkeit</td>\n",
       "      <td>de</td>\n",
       "      <td>schule</td>\n",
       "    </tr>\n",
       "    <tr>\n",
       "      <th>4697</th>\n",
       "      <td>Titel</td>\n",
       "      <td>titel</td>\n",
       "      <td>81073</td>\n",
       "      <td>Nachhaltigkeit</td>\n",
       "      <td>de</td>\n",
       "      <td>schule</td>\n",
       "    </tr>\n",
       "    <tr>\n",
       "      <th>4699</th>\n",
       "      <td>Kommunikation</td>\n",
       "      <td>kommunikation</td>\n",
       "      <td>81914</td>\n",
       "      <td>Biologie</td>\n",
       "      <td>de</td>\n",
       "      <td>schule</td>\n",
       "    </tr>\n",
       "    <tr>\n",
       "      <th>4713</th>\n",
       "      <td>Codierungen</td>\n",
       "      <td>codierungen</td>\n",
       "      <td>84604</td>\n",
       "      <td>Informatik</td>\n",
       "      <td>de</td>\n",
       "      <td>schule</td>\n",
       "    </tr>\n",
       "    <tr>\n",
       "      <th>4729</th>\n",
       "      <td>Energieträger</td>\n",
       "      <td>energieträger</td>\n",
       "      <td>86766</td>\n",
       "      <td>Biologie</td>\n",
       "      <td>de</td>\n",
       "      <td>schule</td>\n",
       "    </tr>\n",
       "    <tr>\n",
       "      <th>4731</th>\n",
       "      <td>Blütenaufbau</td>\n",
       "      <td>blütenaufbau</td>\n",
       "      <td>86771</td>\n",
       "      <td>Biologie</td>\n",
       "      <td>de</td>\n",
       "      <td>schule</td>\n",
       "    </tr>\n",
       "    <tr>\n",
       "      <th>4733</th>\n",
       "      <td>Was sind Lebewesen?</td>\n",
       "      <td>lebewesen</td>\n",
       "      <td>86779</td>\n",
       "      <td>Biologie</td>\n",
       "      <td>de</td>\n",
       "      <td>schule</td>\n",
       "    </tr>\n",
       "    <tr>\n",
       "      <th>4737</th>\n",
       "      <td>Nahrungsbestandteile</td>\n",
       "      <td>nahrungsbestandteile</td>\n",
       "      <td>86790</td>\n",
       "      <td>Biologie</td>\n",
       "      <td>de</td>\n",
       "      <td>schule</td>\n",
       "    </tr>\n",
       "    <tr>\n",
       "      <th>4741</th>\n",
       "      <td>Koevolution</td>\n",
       "      <td>koevolution</td>\n",
       "      <td>86813</td>\n",
       "      <td>Biologie</td>\n",
       "      <td>de</td>\n",
       "      <td>schule</td>\n",
       "    </tr>\n",
       "    <tr>\n",
       "      <th>4753</th>\n",
       "      <td>Altruismus</td>\n",
       "      <td>altruismus</td>\n",
       "      <td>86925</td>\n",
       "      <td>Biologie</td>\n",
       "      <td>de</td>\n",
       "      <td>schule</td>\n",
       "    </tr>\n",
       "    <tr>\n",
       "      <th>4761</th>\n",
       "      <td>Aggressionsmodelle</td>\n",
       "      <td>aggressionsmodelle</td>\n",
       "      <td>86950</td>\n",
       "      <td>Biologie</td>\n",
       "      <td>de</td>\n",
       "      <td>schule</td>\n",
       "    </tr>\n",
       "    <tr>\n",
       "      <th>4811</th>\n",
       "      <td>Samenernte</td>\n",
       "      <td>samenernte</td>\n",
       "      <td>91050</td>\n",
       "      <td>Nachhaltigkeit</td>\n",
       "      <td>de</td>\n",
       "      <td>schule</td>\n",
       "    </tr>\n",
       "    <tr>\n",
       "      <th>4813</th>\n",
       "      <td>Sortenvielfalt</td>\n",
       "      <td>sortenvielfalt</td>\n",
       "      <td>91172</td>\n",
       "      <td>Nachhaltigkeit</td>\n",
       "      <td>de</td>\n",
       "      <td>schule</td>\n",
       "    </tr>\n",
       "    <tr>\n",
       "      <th>4815</th>\n",
       "      <td>Bodenpflege</td>\n",
       "      <td>bodenpflege</td>\n",
       "      <td>91212</td>\n",
       "      <td>Nachhaltigkeit</td>\n",
       "      <td>de</td>\n",
       "      <td>schule</td>\n",
       "    </tr>\n",
       "    <tr>\n",
       "      <th>4823</th>\n",
       "      <td>Sauerteigbrot</td>\n",
       "      <td>sauerteigbrot</td>\n",
       "      <td>92945</td>\n",
       "      <td>Nachhaltigkeit</td>\n",
       "      <td>de</td>\n",
       "      <td>schule</td>\n",
       "    </tr>\n",
       "    <tr>\n",
       "      <th>4825</th>\n",
       "      <td>Milchprodukte</td>\n",
       "      <td>milchprodukte</td>\n",
       "      <td>92947</td>\n",
       "      <td>Nachhaltigkeit</td>\n",
       "      <td>de</td>\n",
       "      <td>schule</td>\n",
       "    </tr>\n",
       "    <tr>\n",
       "      <th>4833</th>\n",
       "      <td>Was ist ein Algorithmus?</td>\n",
       "      <td>algorithmus</td>\n",
       "      <td>92988</td>\n",
       "      <td>Informatik</td>\n",
       "      <td>de</td>\n",
       "      <td>schule</td>\n",
       "    </tr>\n",
       "    <tr>\n",
       "      <th>4835</th>\n",
       "      <td>Das Binärsystem</td>\n",
       "      <td>binärsystem</td>\n",
       "      <td>92991</td>\n",
       "      <td>Informatik</td>\n",
       "      <td>de</td>\n",
       "      <td>schule</td>\n",
       "    </tr>\n",
       "    <tr>\n",
       "      <th>4851</th>\n",
       "      <td>Balkongärten</td>\n",
       "      <td>balkongärten</td>\n",
       "      <td>96859</td>\n",
       "      <td>Nachhaltigkeit</td>\n",
       "      <td>de</td>\n",
       "      <td>schule</td>\n",
       "    </tr>\n",
       "    <tr>\n",
       "      <th>4853</th>\n",
       "      <td>Hexadezimalsystem</td>\n",
       "      <td>hexadezimalsystem</td>\n",
       "      <td>97552</td>\n",
       "      <td>Mathe</td>\n",
       "      <td>de</td>\n",
       "      <td>schule</td>\n",
       "    </tr>\n",
       "    <tr>\n",
       "      <th>4857</th>\n",
       "      <td>Nullstellenform</td>\n",
       "      <td>nullstellenform</td>\n",
       "      <td>99497</td>\n",
       "      <td>Mathe</td>\n",
       "      <td>de</td>\n",
       "      <td>schule</td>\n",
       "    </tr>\n",
       "    <tr>\n",
       "      <th>4891</th>\n",
       "      <td>Regenwaldzerstörung</td>\n",
       "      <td>regenwaldzerstörung</td>\n",
       "      <td>104206</td>\n",
       "      <td>Geographie</td>\n",
       "      <td>de</td>\n",
       "      <td>schule</td>\n",
       "    </tr>\n",
       "    <tr>\n",
       "      <th>4919</th>\n",
       "      <td>Plastikalternativen</td>\n",
       "      <td>plastikalternativen</td>\n",
       "      <td>108675</td>\n",
       "      <td>Nachhaltigkeit</td>\n",
       "      <td>de</td>\n",
       "      <td>schule</td>\n",
       "    </tr>\n",
       "    <tr>\n",
       "      <th>4925</th>\n",
       "      <td>Genmutation</td>\n",
       "      <td>genmutation</td>\n",
       "      <td>111179</td>\n",
       "      <td>Biologie</td>\n",
       "      <td>de</td>\n",
       "      <td>schule</td>\n",
       "    </tr>\n",
       "    <tr>\n",
       "      <th>4927</th>\n",
       "      <td>Chromosomenmutation</td>\n",
       "      <td>chromosomenmutation</td>\n",
       "      <td>111181</td>\n",
       "      <td>Biologie</td>\n",
       "      <td>de</td>\n",
       "      <td>schule</td>\n",
       "    </tr>\n",
       "    <tr>\n",
       "      <th>4929</th>\n",
       "      <td>Genommutation</td>\n",
       "      <td>genommutation</td>\n",
       "      <td>111185</td>\n",
       "      <td>Biologie</td>\n",
       "      <td>de</td>\n",
       "      <td>schule</td>\n",
       "    </tr>\n",
       "    <tr>\n",
       "      <th>4935</th>\n",
       "      <td>Überschlag</td>\n",
       "      <td>überschlag</td>\n",
       "      <td>111922</td>\n",
       "      <td>Mathe</td>\n",
       "      <td>de</td>\n",
       "      <td>schule</td>\n",
       "    </tr>\n",
       "    <tr>\n",
       "      <th>4949</th>\n",
       "      <td>Datentypen</td>\n",
       "      <td>datentypen</td>\n",
       "      <td>112377</td>\n",
       "      <td>Informatik</td>\n",
       "      <td>de</td>\n",
       "      <td>schule</td>\n",
       "    </tr>\n",
       "    <tr>\n",
       "      <th>4953</th>\n",
       "      <td>Datenflussdiagramm</td>\n",
       "      <td>datenflussdiagramm</td>\n",
       "      <td>113289</td>\n",
       "      <td>Informatik</td>\n",
       "      <td>de</td>\n",
       "      <td>schule</td>\n",
       "    </tr>\n",
       "    <tr>\n",
       "      <th>4977</th>\n",
       "      <td>Die Seewespe</td>\n",
       "      <td>seewespe</td>\n",
       "      <td>115095</td>\n",
       "      <td>Biologie</td>\n",
       "      <td>de</td>\n",
       "      <td>schule</td>\n",
       "    </tr>\n",
       "    <tr>\n",
       "      <th>4979</th>\n",
       "      <td>Rekombination</td>\n",
       "      <td>rekombination</td>\n",
       "      <td>115139</td>\n",
       "      <td>Biologie</td>\n",
       "      <td>de</td>\n",
       "      <td>schule</td>\n",
       "    </tr>\n",
       "    <tr>\n",
       "      <th>4981</th>\n",
       "      <td>Gendrift</td>\n",
       "      <td>gendrift</td>\n",
       "      <td>115141</td>\n",
       "      <td>Biologie</td>\n",
       "      <td>de</td>\n",
       "      <td>schule</td>\n",
       "    </tr>\n",
       "    <tr>\n",
       "      <th>4983</th>\n",
       "      <td>Selektion</td>\n",
       "      <td>selektion</td>\n",
       "      <td>115146</td>\n",
       "      <td>Biologie</td>\n",
       "      <td>de</td>\n",
       "      <td>schule</td>\n",
       "    </tr>\n",
       "    <tr>\n",
       "      <th>4985</th>\n",
       "      <td>Isolation</td>\n",
       "      <td>isolation</td>\n",
       "      <td>115148</td>\n",
       "      <td>Biologie</td>\n",
       "      <td>de</td>\n",
       "      <td>schule</td>\n",
       "    </tr>\n",
       "    <tr>\n",
       "      <th>5028</th>\n",
       "      <td>Biodiversität</td>\n",
       "      <td>biodiversität</td>\n",
       "      <td>120649</td>\n",
       "      <td>Nachhaltigkeit</td>\n",
       "      <td>de</td>\n",
       "      <td>schule</td>\n",
       "    </tr>\n",
       "    <tr>\n",
       "      <th>5035</th>\n",
       "      <td>Anweisungen</td>\n",
       "      <td>anweisungen</td>\n",
       "      <td>121801</td>\n",
       "      <td>Informatik</td>\n",
       "      <td>de</td>\n",
       "      <td>schule</td>\n",
       "    </tr>\n",
       "    <tr>\n",
       "      <th>5053</th>\n",
       "      <td>Stammfunktion</td>\n",
       "      <td>stammfunktion</td>\n",
       "      <td>126401</td>\n",
       "      <td>Mathe</td>\n",
       "      <td>de</td>\n",
       "      <td>schule</td>\n",
       "    </tr>\n",
       "    <tr>\n",
       "      <th>5057</th>\n",
       "      <td>Kohlenwasserstoffe</td>\n",
       "      <td>kohlenwasserstoffe</td>\n",
       "      <td>127338</td>\n",
       "      <td>Chemie</td>\n",
       "      <td>de</td>\n",
       "      <td>schule</td>\n",
       "    </tr>\n",
       "    <tr>\n",
       "      <th>5061</th>\n",
       "      <td>Die Stoffmenge</td>\n",
       "      <td>stoffmenge</td>\n",
       "      <td>127465</td>\n",
       "      <td>Chemie</td>\n",
       "      <td>de</td>\n",
       "      <td>schule</td>\n",
       "    </tr>\n",
       "    <tr>\n",
       "      <th>5111</th>\n",
       "      <td>Wörter</td>\n",
       "      <td>wörter</td>\n",
       "      <td>130076</td>\n",
       "      <td>Informatik</td>\n",
       "      <td>de</td>\n",
       "      <td>schule</td>\n",
       "    </tr>\n",
       "    <tr>\n",
       "      <th>5246</th>\n",
       "      <td>Drehimpulsgeber</td>\n",
       "      <td>drehimpulsgeber</td>\n",
       "      <td>136580</td>\n",
       "      <td>Informatik</td>\n",
       "      <td>de</td>\n",
       "      <td>schule</td>\n",
       "    </tr>\n",
       "    <tr>\n",
       "      <th>5274</th>\n",
       "      <td>Der Herzinfarkt</td>\n",
       "      <td>herzinfarkt</td>\n",
       "      <td>139475</td>\n",
       "      <td>Biologie</td>\n",
       "      <td>de</td>\n",
       "      <td>schule</td>\n",
       "    </tr>\n",
       "    <tr>\n",
       "      <th>5276</th>\n",
       "      <td>Das Inventar</td>\n",
       "      <td>inventar</td>\n",
       "      <td>139497</td>\n",
       "      <td>Wirtschaft</td>\n",
       "      <td>de</td>\n",
       "      <td>schule</td>\n",
       "    </tr>\n",
       "    <tr>\n",
       "      <th>5278</th>\n",
       "      <td>Die Bilanz</td>\n",
       "      <td>bilanz</td>\n",
       "      <td>139549</td>\n",
       "      <td>Wirtschaft</td>\n",
       "      <td>de</td>\n",
       "      <td>schule</td>\n",
       "    </tr>\n",
       "    <tr>\n",
       "      <th>5282</th>\n",
       "      <td>Der Betrieb</td>\n",
       "      <td>betrieb</td>\n",
       "      <td>139705</td>\n",
       "      <td>Wirtschaft</td>\n",
       "      <td>de</td>\n",
       "      <td>schule</td>\n",
       "    </tr>\n",
       "    <tr>\n",
       "      <th>5308</th>\n",
       "      <td>Array</td>\n",
       "      <td>array</td>\n",
       "      <td>143284</td>\n",
       "      <td>Informatik</td>\n",
       "      <td>de</td>\n",
       "      <td>schule</td>\n",
       "    </tr>\n",
       "    <tr>\n",
       "      <th>5332</th>\n",
       "      <td>Die Corioliskraft</td>\n",
       "      <td>corioliskraft</td>\n",
       "      <td>148782</td>\n",
       "      <td>Geographie</td>\n",
       "      <td>de</td>\n",
       "      <td>schule</td>\n",
       "    </tr>\n",
       "    <tr>\n",
       "      <th>5350</th>\n",
       "      <td>Teilermenge</td>\n",
       "      <td>teilermenge</td>\n",
       "      <td>150401</td>\n",
       "      <td>Mathe</td>\n",
       "      <td>de</td>\n",
       "      <td>schule</td>\n",
       "    </tr>\n",
       "    <tr>\n",
       "      <th>5360</th>\n",
       "      <td>Energieformen</td>\n",
       "      <td>energieformen</td>\n",
       "      <td>152028</td>\n",
       "      <td>Physik</td>\n",
       "      <td>de</td>\n",
       "      <td>schule</td>\n",
       "    </tr>\n",
       "    <tr>\n",
       "      <th>5362</th>\n",
       "      <td>Viskosität (X)</td>\n",
       "      <td>viskosität</td>\n",
       "      <td>152287</td>\n",
       "      <td>Chemie</td>\n",
       "      <td>de</td>\n",
       "      <td>schule</td>\n",
       "    </tr>\n",
       "    <tr>\n",
       "      <th>5364</th>\n",
       "      <td>Oberflächenspannung (x)</td>\n",
       "      <td>oberflächenspannung</td>\n",
       "      <td>152289</td>\n",
       "      <td>Chemie</td>\n",
       "      <td>de</td>\n",
       "      <td>schule</td>\n",
       "    </tr>\n",
       "    <tr>\n",
       "      <th>5366</th>\n",
       "      <td>Schallgeschwindigkeit (X)</td>\n",
       "      <td>schallgeschwindigkeit</td>\n",
       "      <td>152291</td>\n",
       "      <td>Chemie</td>\n",
       "      <td>de</td>\n",
       "      <td>schule</td>\n",
       "    </tr>\n",
       "    <tr>\n",
       "      <th>5368</th>\n",
       "      <td>Verformbarkeit (x)</td>\n",
       "      <td>verformbarkeit</td>\n",
       "      <td>152293</td>\n",
       "      <td>Chemie</td>\n",
       "      <td>de</td>\n",
       "      <td>schule</td>\n",
       "    </tr>\n",
       "    <tr>\n",
       "      <th>5370</th>\n",
       "      <td>Reaktivität (x)</td>\n",
       "      <td>reaktivität</td>\n",
       "      <td>152303</td>\n",
       "      <td>Chemie</td>\n",
       "      <td>de</td>\n",
       "      <td>schule</td>\n",
       "    </tr>\n",
       "    <tr>\n",
       "      <th>5372</th>\n",
       "      <td>Säurekonstante (x)</td>\n",
       "      <td>säurekonstante</td>\n",
       "      <td>152305</td>\n",
       "      <td>Chemie</td>\n",
       "      <td>de</td>\n",
       "      <td>schule</td>\n",
       "    </tr>\n",
       "    <tr>\n",
       "      <th>5374</th>\n",
       "      <td>Basenkonstante (x)</td>\n",
       "      <td>basenkonstante</td>\n",
       "      <td>152307</td>\n",
       "      <td>Chemie</td>\n",
       "      <td>de</td>\n",
       "      <td>schule</td>\n",
       "    </tr>\n",
       "    <tr>\n",
       "      <th>5376</th>\n",
       "      <td>Elektronegativität</td>\n",
       "      <td>elektronegativität</td>\n",
       "      <td>152309</td>\n",
       "      <td>Chemie</td>\n",
       "      <td>de</td>\n",
       "      <td>schule</td>\n",
       "    </tr>\n",
       "    <tr>\n",
       "      <th>5378</th>\n",
       "      <td>Bindungsenergie (x)</td>\n",
       "      <td>bindungsenergie</td>\n",
       "      <td>152311</td>\n",
       "      <td>Chemie</td>\n",
       "      <td>de</td>\n",
       "      <td>schule</td>\n",
       "    </tr>\n",
       "    <tr>\n",
       "      <th>5388</th>\n",
       "      <td>Edelgaszustand</td>\n",
       "      <td>edelgaszustand</td>\n",
       "      <td>152450</td>\n",
       "      <td>Chemie</td>\n",
       "      <td>de</td>\n",
       "      <td>schule</td>\n",
       "    </tr>\n",
       "    <tr>\n",
       "      <th>5438</th>\n",
       "      <td>Chiralität</td>\n",
       "      <td>chiralität</td>\n",
       "      <td>153419</td>\n",
       "      <td>Chemie</td>\n",
       "      <td>de</td>\n",
       "      <td>schule</td>\n",
       "    </tr>\n",
       "    <tr>\n",
       "      <th>5602</th>\n",
       "      <td>Atome</td>\n",
       "      <td>atome</td>\n",
       "      <td>154653</td>\n",
       "      <td>Chemie</td>\n",
       "      <td>de</td>\n",
       "      <td>schule</td>\n",
       "    </tr>\n",
       "    <tr>\n",
       "      <th>5606</th>\n",
       "      <td>Moleküle</td>\n",
       "      <td>moleküle</td>\n",
       "      <td>154658</td>\n",
       "      <td>Chemie</td>\n",
       "      <td>de</td>\n",
       "      <td>schule</td>\n",
       "    </tr>\n",
       "    <tr>\n",
       "      <th>5608</th>\n",
       "      <td>Reduktion</td>\n",
       "      <td>reduktion</td>\n",
       "      <td>154665</td>\n",
       "      <td>Chemie</td>\n",
       "      <td>de</td>\n",
       "      <td>schule</td>\n",
       "    </tr>\n",
       "    <tr>\n",
       "      <th>5610</th>\n",
       "      <td>Oxidation</td>\n",
       "      <td>oxidation</td>\n",
       "      <td>154812</td>\n",
       "      <td>Chemie</td>\n",
       "      <td>de</td>\n",
       "      <td>schule</td>\n",
       "    </tr>\n",
       "    <tr>\n",
       "      <th>5614</th>\n",
       "      <td>Test der Zweite</td>\n",
       "      <td>zweite</td>\n",
       "      <td>154829</td>\n",
       "      <td>Chemie</td>\n",
       "      <td>de</td>\n",
       "      <td>schule</td>\n",
       "    </tr>\n",
       "    <tr>\n",
       "      <th>5630</th>\n",
       "      <td>Aromaten (X)</td>\n",
       "      <td>aromaten</td>\n",
       "      <td>155090</td>\n",
       "      <td>Chemie</td>\n",
       "      <td>de</td>\n",
       "      <td>schule</td>\n",
       "    </tr>\n",
       "    <tr>\n",
       "      <th>5632</th>\n",
       "      <td>Wertigkeiten (x)</td>\n",
       "      <td>wertigkeiten</td>\n",
       "      <td>155163</td>\n",
       "      <td>Chemie</td>\n",
       "      <td>de</td>\n",
       "      <td>schule</td>\n",
       "    </tr>\n",
       "    <tr>\n",
       "      <th>5650</th>\n",
       "      <td>Sequenz</td>\n",
       "      <td>sequenz</td>\n",
       "      <td>156879</td>\n",
       "      <td>Informatik</td>\n",
       "      <td>de</td>\n",
       "      <td>schule</td>\n",
       "    </tr>\n",
       "    <tr>\n",
       "      <th>5654</th>\n",
       "      <td>Plattentektonik</td>\n",
       "      <td>plattentektonik</td>\n",
       "      <td>157071</td>\n",
       "      <td>Geographie</td>\n",
       "      <td>de</td>\n",
       "      <td>schule</td>\n",
       "    </tr>\n",
       "    <tr>\n",
       "      <th>5656</th>\n",
       "      <td>Formalladung (x)</td>\n",
       "      <td>formalladung</td>\n",
       "      <td>157203</td>\n",
       "      <td>Chemie</td>\n",
       "      <td>de</td>\n",
       "      <td>schule</td>\n",
       "    </tr>\n",
       "    <tr>\n",
       "      <th>5660</th>\n",
       "      <td>Ionenbindung</td>\n",
       "      <td>ionenbindung</td>\n",
       "      <td>157270</td>\n",
       "      <td>Chemie</td>\n",
       "      <td>de</td>\n",
       "      <td>schule</td>\n",
       "    </tr>\n",
       "    <tr>\n",
       "      <th>5664</th>\n",
       "      <td>Die Stoffmengenkonzentration (x)</td>\n",
       "      <td>stoffmengenkonzentration</td>\n",
       "      <td>157510</td>\n",
       "      <td>Chemie</td>\n",
       "      <td>de</td>\n",
       "      <td>schule</td>\n",
       "    </tr>\n",
       "    <tr>\n",
       "      <th>5672</th>\n",
       "      <td>Ionenladung</td>\n",
       "      <td>ionenladung</td>\n",
       "      <td>158031</td>\n",
       "      <td>Chemie</td>\n",
       "      <td>de</td>\n",
       "      <td>schule</td>\n",
       "    </tr>\n",
       "    <tr>\n",
       "      <th>5674</th>\n",
       "      <td>Edelgase</td>\n",
       "      <td>edelgase</td>\n",
       "      <td>158092</td>\n",
       "      <td>Chemie</td>\n",
       "      <td>de</td>\n",
       "      <td>schule</td>\n",
       "    </tr>\n",
       "    <tr>\n",
       "      <th>5676</th>\n",
       "      <td>Schalenmodell</td>\n",
       "      <td>schalenmodell</td>\n",
       "      <td>158205</td>\n",
       "      <td>Chemie</td>\n",
       "      <td>de</td>\n",
       "      <td>schule</td>\n",
       "    </tr>\n",
       "    <tr>\n",
       "      <th>5677</th>\n",
       "      <td>Schalenmodell</td>\n",
       "      <td>schalenmodell</td>\n",
       "      <td>158205</td>\n",
       "      <td>Physik</td>\n",
       "      <td>de</td>\n",
       "      <td>schule</td>\n",
       "    </tr>\n",
       "    <tr>\n",
       "      <th>5680</th>\n",
       "      <td>Orbitaltheorie</td>\n",
       "      <td>orbitaltheorie</td>\n",
       "      <td>158511</td>\n",
       "      <td>Chemie</td>\n",
       "      <td>de</td>\n",
       "      <td>schule</td>\n",
       "    </tr>\n",
       "    <tr>\n",
       "      <th>5681</th>\n",
       "      <td>Orbitaltheorie</td>\n",
       "      <td>orbitaltheorie</td>\n",
       "      <td>158511</td>\n",
       "      <td>Physik</td>\n",
       "      <td>de</td>\n",
       "      <td>schule</td>\n",
       "    </tr>\n",
       "    <tr>\n",
       "      <th>5690</th>\n",
       "      <td>Alkohole (x)</td>\n",
       "      <td>alkohole</td>\n",
       "      <td>158562</td>\n",
       "      <td>Chemie</td>\n",
       "      <td>de</td>\n",
       "      <td>schule</td>\n",
       "    </tr>\n",
       "    <tr>\n",
       "      <th>5698</th>\n",
       "      <td>Radikale (x)</td>\n",
       "      <td>radikale</td>\n",
       "      <td>159666</td>\n",
       "      <td>Chemie</td>\n",
       "      <td>de</td>\n",
       "      <td>schule</td>\n",
       "    </tr>\n",
       "    <tr>\n",
       "      <th>5700</th>\n",
       "      <td>Cracken</td>\n",
       "      <td>cracken</td>\n",
       "      <td>159668</td>\n",
       "      <td>Chemie</td>\n",
       "      <td>de</td>\n",
       "      <td>schule</td>\n",
       "    </tr>\n",
       "    <tr>\n",
       "      <th>5702</th>\n",
       "      <td>Alkine</td>\n",
       "      <td>alkine</td>\n",
       "      <td>159967</td>\n",
       "      <td>Chemie</td>\n",
       "      <td>de</td>\n",
       "      <td>schule</td>\n",
       "    </tr>\n",
       "    <tr>\n",
       "      <th>5708</th>\n",
       "      <td>Pflichtenheft</td>\n",
       "      <td>pflichtenheft</td>\n",
       "      <td>160083</td>\n",
       "      <td>Informatik</td>\n",
       "      <td>de</td>\n",
       "      <td>schule</td>\n",
       "    </tr>\n",
       "    <tr>\n",
       "      <th>5718</th>\n",
       "      <td>Datenintegrität</td>\n",
       "      <td>datenintegrität</td>\n",
       "      <td>160140</td>\n",
       "      <td>Informatik</td>\n",
       "      <td>de</td>\n",
       "      <td>schule</td>\n",
       "    </tr>\n",
       "    <tr>\n",
       "      <th>5736</th>\n",
       "      <td>Datenbanktransaktionen</td>\n",
       "      <td>datenbanktransaktionen</td>\n",
       "      <td>160256</td>\n",
       "      <td>Informatik</td>\n",
       "      <td>de</td>\n",
       "      <td>schule</td>\n",
       "    </tr>\n",
       "    <tr>\n",
       "      <th>5740</th>\n",
       "      <td>Strukturformeln</td>\n",
       "      <td>strukturformeln</td>\n",
       "      <td>160405</td>\n",
       "      <td>Chemie</td>\n",
       "      <td>de</td>\n",
       "      <td>schule</td>\n",
       "    </tr>\n",
       "    <tr>\n",
       "      <th>5746</th>\n",
       "      <td>Halogene (x)</td>\n",
       "      <td>halogene</td>\n",
       "      <td>160616</td>\n",
       "      <td>Chemie</td>\n",
       "      <td>de</td>\n",
       "      <td>schule</td>\n",
       "    </tr>\n",
       "    <tr>\n",
       "      <th>5750</th>\n",
       "      <td>Isotope (x)</td>\n",
       "      <td>isotope</td>\n",
       "      <td>160845</td>\n",
       "      <td>Chemie</td>\n",
       "      <td>de</td>\n",
       "      <td>schule</td>\n",
       "    </tr>\n",
       "    <tr>\n",
       "      <th>5752</th>\n",
       "      <td>Referenzattribute</td>\n",
       "      <td>referenzattribute</td>\n",
       "      <td>161293</td>\n",
       "      <td>Informatik</td>\n",
       "      <td>de</td>\n",
       "      <td>schule</td>\n",
       "    </tr>\n",
       "    <tr>\n",
       "      <th>5762</th>\n",
       "      <td>Alkalimetalle</td>\n",
       "      <td>alkalimetalle</td>\n",
       "      <td>161845</td>\n",
       "      <td>Chemie</td>\n",
       "      <td>de</td>\n",
       "      <td>schule</td>\n",
       "    </tr>\n",
       "    <tr>\n",
       "      <th>5766</th>\n",
       "      <td>Die Molekülmasse</td>\n",
       "      <td>molekülmasse</td>\n",
       "      <td>161890</td>\n",
       "      <td>Chemie</td>\n",
       "      <td>de</td>\n",
       "      <td>schule</td>\n",
       "    </tr>\n",
       "    <tr>\n",
       "      <th>5770</th>\n",
       "      <td>Ionisierungsenergie (x)</td>\n",
       "      <td>ionisierungsenergie</td>\n",
       "      <td>162004</td>\n",
       "      <td>Chemie</td>\n",
       "      <td>de</td>\n",
       "      <td>schule</td>\n",
       "    </tr>\n",
       "    <tr>\n",
       "      <th>5772</th>\n",
       "      <td>Elektronenaffinität (x)</td>\n",
       "      <td>elektronenaffinität</td>\n",
       "      <td>162007</td>\n",
       "      <td>Chemie</td>\n",
       "      <td>de</td>\n",
       "      <td>schule</td>\n",
       "    </tr>\n",
       "    <tr>\n",
       "      <th>5788</th>\n",
       "      <td>Schätzen</td>\n",
       "      <td>schätzen</td>\n",
       "      <td>165193</td>\n",
       "      <td>Mathe</td>\n",
       "      <td>de</td>\n",
       "      <td>schule</td>\n",
       "    </tr>\n",
       "    <tr>\n",
       "      <th>5812</th>\n",
       "      <td>Quellennachweise</td>\n",
       "      <td>quellennachweise</td>\n",
       "      <td>167847</td>\n",
       "      <td>Informatik</td>\n",
       "      <td>de</td>\n",
       "      <td>schule</td>\n",
       "    </tr>\n",
       "    <tr>\n",
       "      <th>5860</th>\n",
       "      <td>Einheitsvektor</td>\n",
       "      <td>einheitsvektor</td>\n",
       "      <td>169766</td>\n",
       "      <td>Mathe</td>\n",
       "      <td>de</td>\n",
       "      <td>schule</td>\n",
       "    </tr>\n",
       "    <tr>\n",
       "      <th>5864</th>\n",
       "      <td>Skalar</td>\n",
       "      <td>skalar</td>\n",
       "      <td>169806</td>\n",
       "      <td>Mathe</td>\n",
       "      <td>de</td>\n",
       "      <td>schule</td>\n",
       "    </tr>\n",
       "    <tr>\n",
       "      <th>5866</th>\n",
       "      <td>Vektorkette</td>\n",
       "      <td>vektorkette</td>\n",
       "      <td>169839</td>\n",
       "      <td>Mathe</td>\n",
       "      <td>de</td>\n",
       "      <td>schule</td>\n",
       "    </tr>\n",
       "    <tr>\n",
       "      <th>5894</th>\n",
       "      <td>Objektkarte</td>\n",
       "      <td>objektkarte</td>\n",
       "      <td>174877</td>\n",
       "      <td>Informatik</td>\n",
       "      <td>de</td>\n",
       "      <td>schule</td>\n",
       "    </tr>\n",
       "    <tr>\n",
       "      <th>5896</th>\n",
       "      <td>Zahlensysteme</td>\n",
       "      <td>zahlensysteme</td>\n",
       "      <td>174955</td>\n",
       "      <td>Informatik</td>\n",
       "      <td>de</td>\n",
       "      <td>schule</td>\n",
       "    </tr>\n",
       "    <tr>\n",
       "      <th>5902</th>\n",
       "      <td>Promille</td>\n",
       "      <td>promille</td>\n",
       "      <td>175766</td>\n",
       "      <td>Mathe</td>\n",
       "      <td>de</td>\n",
       "      <td>schule</td>\n",
       "    </tr>\n",
       "    <tr>\n",
       "      <th>5908</th>\n",
       "      <td>Klassenkarte</td>\n",
       "      <td>klassenkarte</td>\n",
       "      <td>176564</td>\n",
       "      <td>Informatik</td>\n",
       "      <td>de</td>\n",
       "      <td>schule</td>\n",
       "    </tr>\n",
       "    <tr>\n",
       "      <th>5916</th>\n",
       "      <td>Gegenvektor</td>\n",
       "      <td>gegenvektor</td>\n",
       "      <td>177622</td>\n",
       "      <td>Mathe</td>\n",
       "      <td>de</td>\n",
       "      <td>schule</td>\n",
       "    </tr>\n",
       "    <tr>\n",
       "      <th>5918</th>\n",
       "      <td>Variable</td>\n",
       "      <td>variable</td>\n",
       "      <td>177823</td>\n",
       "      <td>Mathe</td>\n",
       "      <td>de</td>\n",
       "      <td>schule</td>\n",
       "    </tr>\n",
       "    <tr>\n",
       "      <th>5920</th>\n",
       "      <td>Skonto</td>\n",
       "      <td>skonto</td>\n",
       "      <td>178142</td>\n",
       "      <td>Wirtschaft</td>\n",
       "      <td>de</td>\n",
       "      <td>schule</td>\n",
       "    </tr>\n",
       "    <tr>\n",
       "      <th>5928</th>\n",
       "      <td>Rabatte</td>\n",
       "      <td>rabatte</td>\n",
       "      <td>178355</td>\n",
       "      <td>Wirtschaft</td>\n",
       "      <td>de</td>\n",
       "      <td>schule</td>\n",
       "    </tr>\n",
       "    <tr>\n",
       "      <th>5930</th>\n",
       "      <td>Bonus</td>\n",
       "      <td>bonus</td>\n",
       "      <td>178732</td>\n",
       "      <td>Wirtschaft</td>\n",
       "      <td>de</td>\n",
       "      <td>schule</td>\n",
       "    </tr>\n",
       "    <tr>\n",
       "      <th>5934</th>\n",
       "      <td>Kreisdiagramm</td>\n",
       "      <td>kreisdiagramm</td>\n",
       "      <td>178914</td>\n",
       "      <td>Mathe</td>\n",
       "      <td>de</td>\n",
       "      <td>schule</td>\n",
       "    </tr>\n",
       "    <tr>\n",
       "      <th>5980</th>\n",
       "      <td>Definition</td>\n",
       "      <td>definition</td>\n",
       "      <td>179744</td>\n",
       "      <td>Mathe</td>\n",
       "      <td>de</td>\n",
       "      <td>schule</td>\n",
       "    </tr>\n",
       "    <tr>\n",
       "      <th>5998</th>\n",
       "      <td>Stellenwertsysteme</td>\n",
       "      <td>stellenwertsysteme</td>\n",
       "      <td>180887</td>\n",
       "      <td>Informatik</td>\n",
       "      <td>de</td>\n",
       "      <td>schule</td>\n",
       "    </tr>\n",
       "    <tr>\n",
       "      <th>6000</th>\n",
       "      <td>Einstieg</td>\n",
       "      <td>einstieg</td>\n",
       "      <td>181020</td>\n",
       "      <td>Nachhaltigkeit</td>\n",
       "      <td>de</td>\n",
       "      <td>schule</td>\n",
       "    </tr>\n",
       "    <tr>\n",
       "      <th>6008</th>\n",
       "      <td>Dezimalsystem</td>\n",
       "      <td>dezimalsystem</td>\n",
       "      <td>181051</td>\n",
       "      <td>Informatik</td>\n",
       "      <td>de</td>\n",
       "      <td>schule</td>\n",
       "    </tr>\n",
       "    <tr>\n",
       "      <th>6012</th>\n",
       "      <td>Oktalsystem</td>\n",
       "      <td>oktalsystem</td>\n",
       "      <td>181056</td>\n",
       "      <td>Informatik</td>\n",
       "      <td>de</td>\n",
       "      <td>schule</td>\n",
       "    </tr>\n",
       "    <tr>\n",
       "      <th>6016</th>\n",
       "      <td>Additionssysteme</td>\n",
       "      <td>additionssysteme</td>\n",
       "      <td>181133</td>\n",
       "      <td>Informatik</td>\n",
       "      <td>de</td>\n",
       "      <td>schule</td>\n",
       "    </tr>\n",
       "    <tr>\n",
       "      <th>6018</th>\n",
       "      <td>Hybridsysteme</td>\n",
       "      <td>hybridsysteme</td>\n",
       "      <td>181135</td>\n",
       "      <td>Informatik</td>\n",
       "      <td>de</td>\n",
       "      <td>schule</td>\n",
       "    </tr>\n",
       "    <tr>\n",
       "      <th>6032</th>\n",
       "      <td>Designmethoden</td>\n",
       "      <td>designmethoden</td>\n",
       "      <td>183223</td>\n",
       "      <td>Nachhaltigkeit</td>\n",
       "      <td>de</td>\n",
       "      <td>schule</td>\n",
       "    </tr>\n",
       "    <tr>\n",
       "      <th>6034</th>\n",
       "      <td>Vermehrung</td>\n",
       "      <td>vermehrung</td>\n",
       "      <td>184178</td>\n",
       "      <td>Nachhaltigkeit</td>\n",
       "      <td>de</td>\n",
       "      <td>schule</td>\n",
       "    </tr>\n",
       "    <tr>\n",
       "      <th>6038</th>\n",
       "      <td>Mehrwertsteuer</td>\n",
       "      <td>mehrwertsteuer</td>\n",
       "      <td>184495</td>\n",
       "      <td>Wirtschaft</td>\n",
       "      <td>de</td>\n",
       "      <td>schule</td>\n",
       "    </tr>\n",
       "    <tr>\n",
       "      <th>6040</th>\n",
       "      <td>Steuern</td>\n",
       "      <td>steuern</td>\n",
       "      <td>184763</td>\n",
       "      <td>Wirtschaft</td>\n",
       "      <td>de</td>\n",
       "      <td>schule</td>\n",
       "    </tr>\n",
       "    <tr>\n",
       "      <th>6048</th>\n",
       "      <td>Gartensuche</td>\n",
       "      <td>gartensuche</td>\n",
       "      <td>185551</td>\n",
       "      <td>Nachhaltigkeit</td>\n",
       "      <td>de</td>\n",
       "      <td>schule</td>\n",
       "    </tr>\n",
       "    <tr>\n",
       "      <th>6086</th>\n",
       "      <td>Hexadezimalsystem</td>\n",
       "      <td>hexadezimalsystem</td>\n",
       "      <td>186051</td>\n",
       "      <td>Informatik</td>\n",
       "      <td>de</td>\n",
       "      <td>schule</td>\n",
       "    </tr>\n",
       "    <tr>\n",
       "      <th>6116</th>\n",
       "      <td>Cluster</td>\n",
       "      <td>cluster</td>\n",
       "      <td>188985</td>\n",
       "      <td>Wirtschaft</td>\n",
       "      <td>de</td>\n",
       "      <td>schule</td>\n",
       "    </tr>\n",
       "    <tr>\n",
       "      <th>6117</th>\n",
       "      <td>Cluster</td>\n",
       "      <td>cluster</td>\n",
       "      <td>188985</td>\n",
       "      <td>Geographie</td>\n",
       "      <td>de</td>\n",
       "      <td>schule</td>\n",
       "    </tr>\n",
       "    <tr>\n",
       "      <th>6122</th>\n",
       "      <td>Pfadregeln</td>\n",
       "      <td>pfadregeln</td>\n",
       "      <td>189811</td>\n",
       "      <td>Mathe</td>\n",
       "      <td>de</td>\n",
       "      <td>schule</td>\n",
       "    </tr>\n",
       "    <tr>\n",
       "      <th>6138</th>\n",
       "      <td>Einkommensteuer</td>\n",
       "      <td>einkommensteuer</td>\n",
       "      <td>193131</td>\n",
       "      <td>Wirtschaft</td>\n",
       "      <td>de</td>\n",
       "      <td>schule</td>\n",
       "    </tr>\n",
       "    <tr>\n",
       "      <th>6140</th>\n",
       "      <td>Lohnsteuer</td>\n",
       "      <td>lohnsteuer</td>\n",
       "      <td>193200</td>\n",
       "      <td>Wirtschaft</td>\n",
       "      <td>de</td>\n",
       "      <td>schule</td>\n",
       "    </tr>\n",
       "    <tr>\n",
       "      <th>6142</th>\n",
       "      <td>Umsatzsteuer</td>\n",
       "      <td>umsatzsteuer</td>\n",
       "      <td>193413</td>\n",
       "      <td>Wirtschaft</td>\n",
       "      <td>de</td>\n",
       "      <td>schule</td>\n",
       "    </tr>\n",
       "    <tr>\n",
       "      <th>6144</th>\n",
       "      <td>Hundesteuer</td>\n",
       "      <td>hundesteuer</td>\n",
       "      <td>193439</td>\n",
       "      <td>Wirtschaft</td>\n",
       "      <td>de</td>\n",
       "      <td>schule</td>\n",
       "    </tr>\n",
       "    <tr>\n",
       "      <th>6146</th>\n",
       "      <td>Kirchensteuer</td>\n",
       "      <td>kirchensteuer</td>\n",
       "      <td>193464</td>\n",
       "      <td>Wirtschaft</td>\n",
       "      <td>de</td>\n",
       "      <td>schule</td>\n",
       "    </tr>\n",
       "    <tr>\n",
       "      <th>6148</th>\n",
       "      <td>Kraftfahrzeugsteuer</td>\n",
       "      <td>kraftfahrzeugsteuer</td>\n",
       "      <td>193486</td>\n",
       "      <td>Wirtschaft</td>\n",
       "      <td>de</td>\n",
       "      <td>schule</td>\n",
       "    </tr>\n",
       "    <tr>\n",
       "      <th>6152</th>\n",
       "      <td>Gewerbesteuer</td>\n",
       "      <td>gewerbesteuer</td>\n",
       "      <td>193578</td>\n",
       "      <td>Wirtschaft</td>\n",
       "      <td>de</td>\n",
       "      <td>schule</td>\n",
       "    </tr>\n",
       "    <tr>\n",
       "      <th>6156</th>\n",
       "      <td>Bedingungen</td>\n",
       "      <td>bedingungen</td>\n",
       "      <td>194047</td>\n",
       "      <td>Informatik</td>\n",
       "      <td>de</td>\n",
       "      <td>schule</td>\n",
       "    </tr>\n",
       "    <tr>\n",
       "      <th>6204</th>\n",
       "      <td>Dezimalbrüche</td>\n",
       "      <td>dezimalbrüche</td>\n",
       "      <td>19482</td>\n",
       "      <td>Mathe</td>\n",
       "      <td>de</td>\n",
       "      <td>schule</td>\n",
       "    </tr>\n",
       "    <tr>\n",
       "      <th>6277</th>\n",
       "      <td>Testkurs</td>\n",
       "      <td>testkurs</td>\n",
       "      <td>34278</td>\n",
       "      <td>Nachhaltigkeit</td>\n",
       "      <td>de</td>\n",
       "      <td>schule</td>\n",
       "    </tr>\n",
       "    <tr>\n",
       "      <th>6346</th>\n",
       "      <td>Testkurs</td>\n",
       "      <td>testkurs</td>\n",
       "      <td>41479</td>\n",
       "      <td>Mathe</td>\n",
       "      <td>de</td>\n",
       "      <td>schule</td>\n",
       "    </tr>\n",
       "    <tr>\n",
       "      <th>6373</th>\n",
       "      <td>Informatik</td>\n",
       "      <td>informatik</td>\n",
       "      <td>47871</td>\n",
       "      <td>Informatik</td>\n",
       "      <td>de</td>\n",
       "      <td>schule</td>\n",
       "    </tr>\n",
       "    <tr>\n",
       "      <th>6378</th>\n",
       "      <td>Die Teebeutelrakete</td>\n",
       "      <td>teebeutelrakete</td>\n",
       "      <td>50701</td>\n",
       "      <td>Biologie</td>\n",
       "      <td>de</td>\n",
       "      <td>schule</td>\n",
       "    </tr>\n",
       "    <tr>\n",
       "      <th>6438</th>\n",
       "      <td>Aussaaterde</td>\n",
       "      <td>aussaaterde</td>\n",
       "      <td>69841</td>\n",
       "      <td>Nachhaltigkeit</td>\n",
       "      <td>de</td>\n",
       "      <td>schule</td>\n",
       "    </tr>\n",
       "    <tr>\n",
       "      <th>6460</th>\n",
       "      <td>Schnecken! Was tun?</td>\n",
       "      <td>schnecken</td>\n",
       "      <td>75941</td>\n",
       "      <td>Nachhaltigkeit</td>\n",
       "      <td>de</td>\n",
       "      <td>schule</td>\n",
       "    </tr>\n",
       "    <tr>\n",
       "      <th>6470</th>\n",
       "      <td>Quadratwurzeln</td>\n",
       "      <td>quadratwurzeln</td>\n",
       "      <td>83733</td>\n",
       "      <td>Mathe</td>\n",
       "      <td>de</td>\n",
       "      <td>schule</td>\n",
       "    </tr>\n",
       "    <tr>\n",
       "      <th>6480</th>\n",
       "      <td>Nullstellenberechnung</td>\n",
       "      <td>nullstellenberechnung</td>\n",
       "      <td>86799</td>\n",
       "      <td>Mathe</td>\n",
       "      <td>de</td>\n",
       "      <td>schule</td>\n",
       "    </tr>\n",
       "    <tr>\n",
       "      <th>6484</th>\n",
       "      <td>Wintervorbereitung</td>\n",
       "      <td>wintervorbereitung</td>\n",
       "      <td>91091</td>\n",
       "      <td>Nachhaltigkeit</td>\n",
       "      <td>de</td>\n",
       "      <td>schule</td>\n",
       "    </tr>\n",
       "    <tr>\n",
       "      <th>6485</th>\n",
       "      <td>Das Ziegenproblem</td>\n",
       "      <td>ziegenproblem</td>\n",
       "      <td>91405</td>\n",
       "      <td>Mathe</td>\n",
       "      <td>de</td>\n",
       "      <td>schule</td>\n",
       "    </tr>\n",
       "    <tr>\n",
       "      <th>6500</th>\n",
       "      <td>Normalizer’s test</td>\n",
       "      <td>normalizer</td>\n",
       "      <td>104840</td>\n",
       "      <td>Mathe</td>\n",
       "      <td>de</td>\n",
       "      <td>schule</td>\n",
       "    </tr>\n",
       "    <tr>\n",
       "      <th>6524</th>\n",
       "      <td>Funktionen</td>\n",
       "      <td>funktionen</td>\n",
       "      <td>113266</td>\n",
       "      <td>Informatik</td>\n",
       "      <td>de</td>\n",
       "      <td>schule</td>\n",
       "    </tr>\n",
       "    <tr>\n",
       "      <th>6545</th>\n",
       "      <td>Metalle</td>\n",
       "      <td>metalle</td>\n",
       "      <td>127687</td>\n",
       "      <td>Chemie</td>\n",
       "      <td>de</td>\n",
       "      <td>schule</td>\n",
       "    </tr>\n",
       "    <tr>\n",
       "      <th>6547</th>\n",
       "      <td>Vorwort</td>\n",
       "      <td>vorwort</td>\n",
       "      <td>129861</td>\n",
       "      <td>Informatik</td>\n",
       "      <td>de</td>\n",
       "      <td>schule</td>\n",
       "    </tr>\n",
       "    <tr>\n",
       "      <th>6549</th>\n",
       "      <td>Grundlagen 2</td>\n",
       "      <td>grundlagen</td>\n",
       "      <td>129917</td>\n",
       "      <td>Informatik</td>\n",
       "      <td>de</td>\n",
       "      <td>schule</td>\n",
       "    </tr>\n",
       "    <tr>\n",
       "      <th>6583</th>\n",
       "      <td>Bewerbungsschreiben</td>\n",
       "      <td>bewerbungsschreiben</td>\n",
       "      <td>143447</td>\n",
       "      <td>Wirtschaft</td>\n",
       "      <td>de</td>\n",
       "      <td>schule</td>\n",
       "    </tr>\n",
       "    <tr>\n",
       "      <th>6585</th>\n",
       "      <td>Bewerbungsgespräch</td>\n",
       "      <td>bewerbungsgespräch</td>\n",
       "      <td>143460</td>\n",
       "      <td>Wirtschaft</td>\n",
       "      <td>de</td>\n",
       "      <td>schule</td>\n",
       "    </tr>\n",
       "    <tr>\n",
       "      <th>6587</th>\n",
       "      <td>Einheiten</td>\n",
       "      <td>einheiten</td>\n",
       "      <td>145421</td>\n",
       "      <td>Mathe</td>\n",
       "      <td>de</td>\n",
       "      <td>schule</td>\n",
       "    </tr>\n",
       "    <tr>\n",
       "      <th>6613</th>\n",
       "      <td>Linsengleichung</td>\n",
       "      <td>linsengleichung</td>\n",
       "      <td>167868</td>\n",
       "      <td>Physik</td>\n",
       "      <td>de</td>\n",
       "      <td>schule</td>\n",
       "    </tr>\n",
       "  </tbody>\n",
       "</table>\n",
       "</div>"
      ],
      "text/plain": [
       "                                   title                      keyword    uuid  \\\n",
       "0                               Addition                     addition    1495   \n",
       "29                         Ergebnismenge                ergebnismenge    1501   \n",
       "63                              Ereignis                     ereignis    1505   \n",
       "75                           Subtraktion                  subtraktion    1507   \n",
       "95                                Wurzel                       wurzel    1511   \n",
       "113                        Diskriminante                diskriminante    1513   \n",
       "137                            Geometrie                    geometrie    1519   \n",
       "138                           Stochastik                   stochastik    1521   \n",
       "140                            Polstelle                    polstelle    1523   \n",
       "196                      Polynomdivision              polynomdivision    1533   \n",
       "218                    Koordinatensystem            koordinatensystem    1537   \n",
       "228                    Winkelhalbierende            winkelhalbierende    1539   \n",
       "238                           Hypotenuse                   hypotenuse    1541   \n",
       "264                              Kathete                      kathete    1543   \n",
       "287                            Quersumme                    quersumme    1547   \n",
       "297                   Mitternachtsformel           mitternachtsformel    1549   \n",
       "333                             Zylinder                     zylinder    1555   \n",
       "351                               Radius                       radius    1557   \n",
       "365                          Mantellinie                  mantellinie    1559   \n",
       "371                                Kegel                        kegel    1561   \n",
       "383                                Kugel                        kugel    1563   \n",
       "427                               Vektor                       vektor    1573   \n",
       "459                     Kurvendiskussion             kurvendiskussion    1577   \n",
       "469                             Extremum                     extremum    1579   \n",
       "481                        Gaußverfahren                gaußverfahren    1581   \n",
       "491               Was ist eine Funktion?                     funktion    1583   \n",
       "527                   Binomialverteilung           binomialverteilung    1587   \n",
       "533                          Mächtigkeit                  mächtigkeit    1589   \n",
       "547                       Erwartungswert               erwartungswert    1591   \n",
       "553                              Varianz                      varianz    1593   \n",
       "559                             Integral                     integral    1595   \n",
       "565                           Stetigkeit                   stetigkeit    1597   \n",
       "573                 Grenzwertbetrachtung         grenzwertbetrachtung    1599   \n",
       "599                        Faktorisieren                faktorisieren    1605   \n",
       "612                         Schnittmenge                 schnittmenge    1609   \n",
       "620                      Funktionenschar              funktionenschar    1613   \n",
       "660                              Polynom                      polynom    1623   \n",
       "664                             Polynome                     polynome    1623   \n",
       "668                               Prisma                       prisma    1625   \n",
       "688                              Prozent                      prozent    1627   \n",
       "698                             Pyramide                     pyramide    1629   \n",
       "724                             Division                     division    1633   \n",
       "736                   Standardabweichung           standardabweichung    1635   \n",
       "739                              Sekante                      sekante    1637   \n",
       "740                       Multiplikation               multiplikation    1639   \n",
       "752                             Analysis                     analysis    1641   \n",
       "753                               Betrag                       betrag    1643   \n",
       "755                            Symmetrie                    symmetrie    1645   \n",
       "770                  Differenzierbarkeit          differenzierbarkeit    1651   \n",
       "786                           Wertemenge                   wertemenge    1655   \n",
       "802                               Brüche                       brüche    1657   \n",
       "820                   Additionsverfahren           additionsverfahren    1661   \n",
       "836                             Potenzen                     potenzen    1663   \n",
       "878                  Differenzenquotient          differenzenquotient    1669   \n",
       "890                     Assoziativgesetz             assoziativgesetz    1671   \n",
       "898                     Flächeneinheiten             flächeneinheiten    1673   \n",
       "904                        Geldeinheiten                geldeinheiten    1675   \n",
       "912                    Distributivgesetz            distributivgesetz    1677   \n",
       "922                     Kommutativgesetz             kommutativgesetz    1679   \n",
       "930                      Längeneinheiten              längeneinheiten    1681   \n",
       "940                    Gewichtseinheiten            gewichtseinheiten    1683   \n",
       "948                     Volumeneinheiten             volumeneinheiten    1685   \n",
       "956                       Potenzfunktion               potenzfunktion    1687   \n",
       "966                        Gegenereignis                gegenereignis    1691   \n",
       "986     Zahlenmengen - Lernen mit Serlo!                 zahlenmengen    1693   \n",
       "1002                            Rechteck                     rechteck    1697   \n",
       "1024                              Quader                       quader    1699   \n",
       "1054                         Das Viereck                      viereck    1705   \n",
       "1074                              Winkel                       winkel    1707   \n",
       "1090                              Trapez                       trapez    1709   \n",
       "1103               Infinitesimalrechnung        infinitesimalrechnung    1713   \n",
       "1104                       Skalarprodukt                skalarprodukt    1715   \n",
       "1110                           Gleichung                    gleichung    1717   \n",
       "1176                           h-Methode                      methode    1725   \n",
       "1180                      Parallelogramm               parallelogramm    1727   \n",
       "1194                        Sprungstelle                 sprungstelle    1729   \n",
       "1198                               Raute                        raute    1731   \n",
       "1208                      Drachenviereck               drachenviereck    1733   \n",
       "1220                Einsetzungsverfahren         einsetzungsverfahren    1735   \n",
       "1236             Gleichsetzungsverfahren      gleichsetzungsverfahren    1737   \n",
       "1288                    Geradengleichung             geradengleichung    1747   \n",
       "1316                        Kombinatorik                 kombinatorik    1751   \n",
       "1328                  Wahrscheinlichkeit           wahrscheinlichkeit    1753   \n",
       "1366                      Wurzelfunktion               wurzelfunktion    1757   \n",
       "1398                            Fakultät                     fakultät    1765   \n",
       "1402                          Primzahlen                   primzahlen    1767   \n",
       "1404                            Dreisatz                     dreisatz    1769   \n",
       "1466                 Primfaktorzerlegung          primfaktorzerlegung    1779   \n",
       "1484                     Geradensteigung              geradensteigung    1785   \n",
       "1500                 Temperatureinheiten          temperatureinheiten    1787   \n",
       "1502                             Normale                      normale    1789   \n",
       "1503                      Orthogonalität               orthogonalität    1791   \n",
       "1506                               Ebene                        ebene    1793   \n",
       "1512                           Ableitung                    ableitung    1795   \n",
       "1524                         Kettenregel                  kettenregel    1797   \n",
       "1536                         Summenregel                  summenregel    1799   \n",
       "1539                     Quotientenregel              quotientenregel    1801   \n",
       "1549                        Produktregel                 produktregel    1803   \n",
       "1580                      Umkehrfunktion               umkehrfunktion    1815   \n",
       "1584                   Extremwertaufgabe            extremwertaufgabe    1817   \n",
       "1596                         Teilerfremd                  teilerfremd    1819   \n",
       "1610                                Term                         term    1823   \n",
       "1642               Partialbruchzerlegung        partialbruchzerlegung    1831   \n",
       "1643                           Asymptote                    asymptote    1833   \n",
       "1655                          Nullstelle                   nullstelle    1835   \n",
       "1665                         Nullstellen                  nullstellen    1835   \n",
       "1734               Äquivalenzumformungen        äquivalenzumformungen    1847   \n",
       "1752                        Zinsrechnung                 zinsrechnung    1849   \n",
       "1780                             Parabel                      parabel    1855   \n",
       "1792                        Substitution                 substitution    1857   \n",
       "1812                             Quadrat                      quadrat    1863   \n",
       "1844                       Potenzgesetze                potenzgesetze    1867   \n",
       "1860                    Grundrechenarten             grundrechenarten    1871   \n",
       "1883                     Vierfeldertafel              vierfeldertafel    1875   \n",
       "1889                       Test Sammlung                     sammlung    1877   \n",
       "1891                    Mittelsenkrechte             mittelsenkrechte    1879   \n",
       "1976                           Monotonie                    monotonie    1911   \n",
       "1990                   Seitenhalbierende            seitenhalbierende    1913   \n",
       "1994                         Schwerpunkt                  schwerpunkt    1915   \n",
       "2023                           Kongruenz                    kongruenz    1925   \n",
       "2031                         Ähnlichkeit                  ähnlichkeit    1929   \n",
       "2057                          Bruchterme                   bruchterme    1935   \n",
       "2086                          Intervalle                   intervalle    1947   \n",
       "2092                             Dreieck                      dreieck    1949   \n",
       "2112                          Halbgerade                   halbgerade    1951   \n",
       "2118                             Strecke                      strecke    1953   \n",
       "2136                           Statistik                    statistik    1959   \n",
       "2147                            Bogenmaß                     bogenmaß    1963   \n",
       "2161                      Hypothesentest               hypothesentest    1965   \n",
       "2177                            Kehrwert                     kehrwert    1969   \n",
       "2215                               Menge                        menge    1981   \n",
       "2221                   Erzeugendensystem            erzeugendensystem    1983   \n",
       "2231                   Linearkombination            linearkombination    1987   \n",
       "2243                   Vereinigungsmenge            vereinigungsmenge    1991   \n",
       "2249                         Ungleichung                  ungleichung    1993   \n",
       "2258  Ungleichungen - Lernen mit Serlo!                 ungleichungen    1993   \n",
       "2279                         Urnenmodell                  urnenmodell    1997   \n",
       "2299               Exponentialgleichung          exponentialgleichung    2003   \n",
       "2326                            Matrizen                     matrizen    2009   \n",
       "2346                        Determinante                 determinante    2017   \n",
       "2375                         Winkelsumme                  winkelsumme    2029   \n",
       "2377                           Diagonale                    diagonale    2031   \n",
       "2430                   Integralfunktion              integralfunktion    2045   \n",
       "2438                 Verteilungsfunktion          verteilungsfunktion    2047   \n",
       "2464                              Gerade                       gerade    2053   \n",
       "2476                        Zufallsgröße                 zufallsgröße    2055   \n",
       "2511                        Zahlengerade                 zahlengerade    2067   \n",
       "2573                          Relationen                   relationen    2079   \n",
       "2579                             Quantor                      quantor    2081   \n",
       "2580                  Logikverknüpfungen           logikverknüpfungen    2083   \n",
       "2586                       Zahlensysteme                zahlensysteme    2091   \n",
       "2596                      Fasskreisbogen               fasskreisbogen    2095   \n",
       "2622                              Median                       median    2105   \n",
       "2626                        Kreiszahl Pi                    kreiszahl    2107   \n",
       "2640                  Termbeschreibungen           termbeschreibungen    2111   \n",
       "2674                    Zwischenwertsatz             zwischenwertsatz    2129   \n",
       "2678                         Testartikel                  testartikel    2131   \n",
       "2680                    Normalverteilung             normalverteilung    2133   \n",
       "2684                        Parallelotop                 parallelotop    2135   \n",
       "2696                 Exponentialfunktion          exponentialfunktion    2143   \n",
       "2737                   Steckbriefaufgabe            steckbriefaufgabe    2157   \n",
       "2776                     Rotationskörper              rotationskörper    2187   \n",
       "2872                Differentialquotient         differentialquotient   18529   \n",
       "2882                      Was ist Humus?                        humus   20891   \n",
       "2884                        Rauschmittel                 rauschmittel   23953   \n",
       "2926                        Essstörungen                 essstörungen   24020   \n",
       "2938                Internetabhängigkeit         internetabhängigkeit   24727   \n",
       "2958                            Isomerie                     isomerie   25369   \n",
       "2960                     Aggregatzustand              aggregatzustand   25371   \n",
       "2963                        Brennbarkeit                 brennbarkeit   25398   \n",
       "2964                         Indikatoren                  indikatoren   25400   \n",
       "2965                         Löslichkeit                  löslichkeit   25402   \n",
       "2967                       Leitfähigkeit                leitfähigkeit   25404   \n",
       "2969                Was ist Permakultur?                  permakultur   25507   \n",
       "2973                         Naturfarben                  naturfarben   25545   \n",
       "2976                              Kerzen                       kerzen   25549   \n",
       "2981                            Elemente                     elemente   25871   \n",
       "2985             Aktivierungsenergie (x)          aktivierungsenergie   25880   \n",
       "2987                   Energieprofil (x)                energieprofil   25882   \n",
       "2989                 Massenerhaltung (x)              massenerhaltung   25886   \n",
       "2991           Substitutionsreaktion (x)        substitutionsreaktion   25889   \n",
       "2993               Additionsreaktion (X)            additionsreaktion   25891   \n",
       "2995                         Analyse (x)                      analyse   25893   \n",
       "2997                        Synthese (x)                     synthese   25895   \n",
       "3000                       Kompostierung                kompostierung   26058   \n",
       "3006                             Elastan                      elastan   26144   \n",
       "3007                        Polyacrylate                 polyacrylate   26147   \n",
       "3008                            Polyamid                     polyamid   26149   \n",
       "3009                           Polyester                    polyester   26151   \n",
       "3010                      Polymerisation               polymerisation   26158   \n",
       "3016     Ringsöffnungspolymerisation (x)  ringsöffnungspolymerisation   26169   \n",
       "3018                  Kettenreaktion (x)               kettenreaktion   26214   \n",
       "3020                PVC (Polychlorethen)               polychlorethen   26360   \n",
       "3024                      Polyethen (PE)                    polyethen   26368   \n",
       "3025                    Polykondensation             polykondensation   26371   \n",
       "3036                      Stufenreaktion               stufenreaktion   26509   \n",
       "3051                         Veresterung                  veresterung   26753   \n",
       "3055                         Gründüngung                  gründüngung   26834   \n",
       "3168                        Dezimalbruch                 dezimalbruch   27823   \n",
       "3222                 Binomialkoeffizient          binomialkoeffizient   28557   \n",
       "3224                  Stellenwertsysteme           stellenwertsysteme   28903   \n",
       "3230                       Dezimalsystem                dezimalsystem   29291   \n",
       "3258                         Zählprinzip                  zählprinzip   29910   \n",
       "3293                               Ionen                        ionen   32005   \n",
       "3295                       Thermoplasten                thermoplasten   32042   \n",
       "3297                          Duroplaste                   duroplaste   32044   \n",
       "3305                     Polypropen (PP)                   polypropen   32181   \n",
       "3306                          Polystyrol                   polystyrol   32183   \n",
       "3313              Dissoziationsgleichung       dissoziationsgleichung   32305   \n",
       "3346                   Das Ruhepotential                ruhepotential   33157   \n",
       "3352                Das Aktionspotential             aktionspotential   33412   \n",
       "3383                             Artikel                      artikel   34159   \n",
       "3385                   Schlüssellochbeet            schlüssellochbeet   34249   \n",
       "3386                            Hochbeet                     hochbeet   34307   \n",
       "3390                      Kräuterspirale               kräuterspirale   34331   \n",
       "3455                      Nachhaltigkeit               nachhaltigkeit   35149   \n",
       "3472                       Gewächshäuser                gewächshäuser   35554   \n",
       "3474                     Achsensymmetrie              achsensymmetrie   35620   \n",
       "3482                        Körpernetze                   körpernetze   35621   \n",
       "3506                      Punktsymmetrie               punktsymmetrie   35721   \n",
       "3538                       Terrassierung                terrassierung   36026   \n",
       "3546                            Erdmiete                     erdmiete   36153   \n",
       "3562                               Kreis                        kreis   36162   \n",
       "3578                           Tetraeder                    tetraeder   36213   \n",
       "3580                         Kreissektor                  kreissektor   36264   \n",
       "3585                             Maßstab                      maßstab   36268   \n",
       "3595                 Umrechnungsfaktoren          umrechnungsfaktoren   36570   \n",
       "3609                           Zonierung                    zonierung   37914   \n",
       "3619                            Wurmfarm                     wurmfarm   38903   \n",
       "3621                     Komposttoilette              komposttoilette   38906   \n",
       "3632     Nervengifte - Lernen mit Serlo!                  nervengifte   39810   \n",
       "3641                             Reflexe                      reflexe   39822   \n",
       "3647                               Wiris                        wiris   39889   \n",
       "3657                            Eckpunkt                     eckpunkt   40036   \n",
       "3667                               Kante                        kante   40041   \n",
       "3673                   Was sind Hormone?                      hormone   40346   \n",
       "3699                              Runden                       runden   41763   \n",
       "3723                          Spiegelung                   spiegelung   42246   \n",
       "3728                        Wertetabelle                 wertetabelle   42380   \n",
       "3772                    3. Aussagenlogik                aussagenlogik   43254   \n",
       "3774                           5. Mengen                       mengen   43256   \n",
       "3776               7. Ordnungsrelationen           ordnungsrelationen   43258   \n",
       "3780                           9. Folgen                       folgen   43285   \n",
       "3783                          4. Beweise                      beweise   43309   \n",
       "3785                      2. Logarithmen                  logarithmen   43367   \n",
       "3787                      0. Einstimmung                  einstimmung   43433   \n",
       "3790                      8. Abbildungen                  abbildungen   43455   \n",
       "3795                Parallelverschiebung         parallelverschiebung   43629   \n",
       "3819                    Polarkoordinaten             polarkoordinaten   45643   \n",
       "3822                       Summenzeichen                summenzeichen   45699   \n",
       "3876                      Bruchgleichung               bruchgleichung   47773   \n",
       "3881                    Bruchgleichungen             bruchgleichungen   47773   \n",
       "3921                 Logarithmusfunktion          logarithmusfunktion   49133   \n",
       "3965                           Kehrbruch                    kehrbruch   50567   \n",
       "3991                        Pflanzzeiten                 pflanzzeiten   51384   \n",
       "3997                Potenzfunktionen (2)             potenzfunktionen   51404   \n",
       "4001                         Ausklammern                  ausklammern   51468   \n",
       "4021                     Tangensfunktion              tangensfunktion   52973   \n",
       "4041                              Photon                       photon   53073   \n",
       "4047                            Atomkern                     atomkern   53415   \n",
       "4053                      Radioaktivität               radioaktivität   53417   \n",
       "4059                           Aktivität                    aktivität   53420   \n",
       "4060                        Energiedosis                 energiedosis   53475   \n",
       "4062                     Äquivalentdosis              äquivalentdosis   53494   \n",
       "4064                       Halbwertszeit                halbwertszeit   53514   \n",
       "4082                         Doppelbruch                  doppelbruch   54253   \n",
       "4087                         Scheinbruch                  scheinbruch   54352   \n",
       "4088                          Stammbruch                   stammbruch   54372   \n",
       "4111                           Community                    community   54858   \n",
       "4131                       Einheitskreis                einheitskreis   55637   \n",
       "4161                         Thaleskreis                  thaleskreis   56288   \n",
       "4162                      Saatgutauswahl               saatgutauswahl   56561   \n",
       "4164                         Mischkultur                  mischkultur   56563   \n",
       "4166                         Fruchtfolge                  fruchtfolge   56565   \n",
       "4168                       Fruchtwechsel                fruchtwechsel   56567   \n",
       "4171                Äquivalenzrelationen         äquivalenzrelationen   56795   \n",
       "4173                    Pflanzenfamilien             pflanzenfamilien   56872   \n",
       "4175                             Klassen                      klassen   57029   \n",
       "4199                        Sektorierung                 sektorierung   58305   \n",
       "4201                      Volumenformeln               volumenformeln   59099   \n",
       "4214                   Zufallsexperiment            zufallsexperiment   60088   \n",
       "4232                        Mantelfläche                 mantelfläche   60970   \n",
       "4241                          Vorzeichen                   vorzeichen   62547   \n",
       "4261                Bakterieninfektionen         bakterieninfektionen   64513   \n",
       "4265                    Virusinfektionen             virusinfektionen   64515   \n",
       "4269                            Das Blut                         blut   64572   \n",
       "4279                  Oberflächenformeln           oberflächenformeln   64697   \n",
       "4285                          Mutationen                   mutationen   64742   \n",
       "4325                             Objekte                      objekte   65231   \n",
       "4329                           Attribute                    attribute   65234   \n",
       "4333                       Attributwerte                attributwerte   65237   \n",
       "4337                            Methoden                     methoden   65239   \n",
       "4341                       Punktnotation                punktnotation   65737   \n",
       "4348                          Gedächtnis                   gedächtnis   66440   \n",
       "4355                             Düngung                      düngung   67907   \n",
       "4357                Zerlegungsgleichheit         zerlegungsgleichheit   67957   \n",
       "4359                 Bewässerungssysteme          bewässerungssysteme   68119   \n",
       "4369                  Passwortsicherheit           passwortsicherheit   69504   \n",
       "4387                          Schlüssel                     schlüssel   69734   \n",
       "4391                        SQL-Abfragen                     abfragen   69747   \n",
       "4401                      Wiederholungen               wiederholungen   70070   \n",
       "4403                       Struktogramme                struktogramme   70180   \n",
       "4421                  DNA - Was ist das?                          dna   70762   \n",
       "4439                            Das Auge                         auge   70830   \n",
       "4449               Was sind Chromosomen?                  chromosomen   70854   \n",
       "4469                              Dichte                       dichte   71276   \n",
       "4481      Das ABC der Evolutionsbiologie           evolutionsbiologie   71520   \n",
       "4495                             Prägung                      prägung   71592   \n",
       "4505                             Volumen                      volumen   71630   \n",
       "4523                        Biomembranen                 biomembranen   71649   \n",
       "4541                                HTML                         html   73649   \n",
       "4545                         Klimawandel                  klimawandel   74639   \n",
       "4547                     Treibhauseffekt              treibhauseffekt   74653   \n",
       "4553                       Treibhausgase                treibhausgase   74888   \n",
       "4559                               Klima                        klima   76089   \n",
       "4561                       Vorratskammer                vorratskammer   76270   \n",
       "4563                      Erntezeitpunkt               erntezeitpunkt   76278   \n",
       "4565                         Erntetricks                  erntetricks   76284   \n",
       "4577                               Salze                        salze   77125   \n",
       "4579                           Diffusion                    diffusion   77149   \n",
       "4585                  Populationsdynamik           populationsdynamik   77223   \n",
       "4587                         Katalysator                  katalysator   77224   \n",
       "4597                            Die Haut                         haut   77390   \n",
       "4599                Stammzellenforschung         stammzellenforschung   77652   \n",
       "4601               Endosymbiontentheorie        endosymbiontentheorie   77673   \n",
       "4605                           Die Leber                        leber   77705   \n",
       "4607                           Die Lunge                        lunge   77721   \n",
       "4609                       Immunisierung                immunisierung   77735   \n",
       "4613                              Alkane                       alkane   77792   \n",
       "4615                              Alkene                       alkene   77809   \n",
       "4621                        Der Zellkern                     zellkern   77992   \n",
       "4623                       Zeiteinheiten                zeiteinheiten   77998   \n",
       "4627                      Das AB0-System                       system   78063   \n",
       "4631                           Mesomerie                    mesomerie   78079   \n",
       "4633                      Monosaccharide               monosaccharide   78089   \n",
       "4635                         Die Glucose                      glucose   78110   \n",
       "4639                     Saatgutlagerung              saatgutlagerung   78136   \n",
       "4645                        Urheberrecht                 urheberrecht   79220   \n",
       "4647              Informationssicherheit       informationssicherheit   79221   \n",
       "4663                            Der Mund                         mund   80464   \n",
       "4669                          Artbildung                   artbildung   80653   \n",
       "4671                  Evolutionsfaktoren           evolutionsfaktoren   80737   \n",
       "4677                       Metallbindung                metallbindung   80774   \n",
       "4681                         Kooperation                  kooperation   80864   \n",
       "4695                      Was ist Glück?                        glück   80966   \n",
       "4697                               Titel                        titel   81073   \n",
       "4699                       Kommunikation                kommunikation   81914   \n",
       "4713                         Codierungen                  codierungen   84604   \n",
       "4729                       Energieträger                energieträger   86766   \n",
       "4731                        Blütenaufbau                 blütenaufbau   86771   \n",
       "4733                 Was sind Lebewesen?                    lebewesen   86779   \n",
       "4737                Nahrungsbestandteile         nahrungsbestandteile   86790   \n",
       "4741                         Koevolution                  koevolution   86813   \n",
       "4753                          Altruismus                   altruismus   86925   \n",
       "4761                  Aggressionsmodelle           aggressionsmodelle   86950   \n",
       "4811                          Samenernte                   samenernte   91050   \n",
       "4813                      Sortenvielfalt               sortenvielfalt   91172   \n",
       "4815                         Bodenpflege                  bodenpflege   91212   \n",
       "4823                       Sauerteigbrot                sauerteigbrot   92945   \n",
       "4825                       Milchprodukte                milchprodukte   92947   \n",
       "4833            Was ist ein Algorithmus?                  algorithmus   92988   \n",
       "4835                     Das Binärsystem                  binärsystem   92991   \n",
       "4851                        Balkongärten                 balkongärten   96859   \n",
       "4853                   Hexadezimalsystem            hexadezimalsystem   97552   \n",
       "4857                     Nullstellenform              nullstellenform   99497   \n",
       "4891                 Regenwaldzerstörung          regenwaldzerstörung  104206   \n",
       "4919                 Plastikalternativen          plastikalternativen  108675   \n",
       "4925                         Genmutation                  genmutation  111179   \n",
       "4927                 Chromosomenmutation          chromosomenmutation  111181   \n",
       "4929                       Genommutation                genommutation  111185   \n",
       "4935                          Überschlag                   überschlag  111922   \n",
       "4949                          Datentypen                   datentypen  112377   \n",
       "4953                  Datenflussdiagramm           datenflussdiagramm  113289   \n",
       "4977                       Die Seewespe                      seewespe  115095   \n",
       "4979                       Rekombination                rekombination  115139   \n",
       "4981                            Gendrift                     gendrift  115141   \n",
       "4983                          Selektion                     selektion  115146   \n",
       "4985                          Isolation                     isolation  115148   \n",
       "5028                       Biodiversität                biodiversität  120649   \n",
       "5035                         Anweisungen                  anweisungen  121801   \n",
       "5053                       Stammfunktion                stammfunktion  126401   \n",
       "5057                  Kohlenwasserstoffe           kohlenwasserstoffe  127338   \n",
       "5061                      Die Stoffmenge                   stoffmenge  127465   \n",
       "5111                              Wörter                       wörter  130076   \n",
       "5246                     Drehimpulsgeber              drehimpulsgeber  136580   \n",
       "5274                     Der Herzinfarkt                  herzinfarkt  139475   \n",
       "5276                        Das Inventar                     inventar  139497   \n",
       "5278                          Die Bilanz                       bilanz  139549   \n",
       "5282                         Der Betrieb                      betrieb  139705   \n",
       "5308                               Array                        array  143284   \n",
       "5332                   Die Corioliskraft                corioliskraft  148782   \n",
       "5350                         Teilermenge                  teilermenge  150401   \n",
       "5360                       Energieformen                energieformen  152028   \n",
       "5362                      Viskosität (X)                   viskosität  152287   \n",
       "5364             Oberflächenspannung (x)          oberflächenspannung  152289   \n",
       "5366           Schallgeschwindigkeit (X)        schallgeschwindigkeit  152291   \n",
       "5368                  Verformbarkeit (x)               verformbarkeit  152293   \n",
       "5370                     Reaktivität (x)                  reaktivität  152303   \n",
       "5372                  Säurekonstante (x)               säurekonstante  152305   \n",
       "5374                  Basenkonstante (x)               basenkonstante  152307   \n",
       "5376                  Elektronegativität           elektronegativität  152309   \n",
       "5378                 Bindungsenergie (x)              bindungsenergie  152311   \n",
       "5388                      Edelgaszustand               edelgaszustand  152450   \n",
       "5438                          Chiralität                   chiralität  153419   \n",
       "5602                               Atome                        atome  154653   \n",
       "5606                            Moleküle                     moleküle  154658   \n",
       "5608                           Reduktion                    reduktion  154665   \n",
       "5610                           Oxidation                    oxidation  154812   \n",
       "5614                     Test der Zweite                       zweite  154829   \n",
       "5630                        Aromaten (X)                     aromaten  155090   \n",
       "5632                    Wertigkeiten (x)                 wertigkeiten  155163   \n",
       "5650                             Sequenz                      sequenz  156879   \n",
       "5654                     Plattentektonik              plattentektonik  157071   \n",
       "5656                    Formalladung (x)                 formalladung  157203   \n",
       "5660                        Ionenbindung                 ionenbindung  157270   \n",
       "5664    Die Stoffmengenkonzentration (x)     stoffmengenkonzentration  157510   \n",
       "5672                         Ionenladung                  ionenladung  158031   \n",
       "5674                            Edelgase                     edelgase  158092   \n",
       "5676                       Schalenmodell                schalenmodell  158205   \n",
       "5677                       Schalenmodell                schalenmodell  158205   \n",
       "5680                      Orbitaltheorie               orbitaltheorie  158511   \n",
       "5681                      Orbitaltheorie               orbitaltheorie  158511   \n",
       "5690                        Alkohole (x)                     alkohole  158562   \n",
       "5698                        Radikale (x)                     radikale  159666   \n",
       "5700                             Cracken                      cracken  159668   \n",
       "5702                              Alkine                       alkine  159967   \n",
       "5708                       Pflichtenheft                pflichtenheft  160083   \n",
       "5718                     Datenintegrität              datenintegrität  160140   \n",
       "5736              Datenbanktransaktionen       datenbanktransaktionen  160256   \n",
       "5740                     Strukturformeln              strukturformeln  160405   \n",
       "5746                        Halogene (x)                     halogene  160616   \n",
       "5750                         Isotope (x)                      isotope  160845   \n",
       "5752                   Referenzattribute            referenzattribute  161293   \n",
       "5762                       Alkalimetalle                alkalimetalle  161845   \n",
       "5766                    Die Molekülmasse                 molekülmasse  161890   \n",
       "5770             Ionisierungsenergie (x)          ionisierungsenergie  162004   \n",
       "5772            Elektronenaffinität (x)           elektronenaffinität  162007   \n",
       "5788                            Schätzen                     schätzen  165193   \n",
       "5812                    Quellennachweise             quellennachweise  167847   \n",
       "5860                      Einheitsvektor               einheitsvektor  169766   \n",
       "5864                              Skalar                       skalar  169806   \n",
       "5866                         Vektorkette                  vektorkette  169839   \n",
       "5894                         Objektkarte                  objektkarte  174877   \n",
       "5896                      Zahlensysteme                 zahlensysteme  174955   \n",
       "5902                            Promille                     promille  175766   \n",
       "5908                        Klassenkarte                 klassenkarte  176564   \n",
       "5916                         Gegenvektor                  gegenvektor  177622   \n",
       "5918                            Variable                     variable  177823   \n",
       "5920                              Skonto                       skonto  178142   \n",
       "5928                             Rabatte                      rabatte  178355   \n",
       "5930                               Bonus                        bonus  178732   \n",
       "5934                       Kreisdiagramm                kreisdiagramm  178914   \n",
       "5980                          Definition                   definition  179744   \n",
       "5998                  Stellenwertsysteme           stellenwertsysteme  180887   \n",
       "6000                            Einstieg                     einstieg  181020   \n",
       "6008                       Dezimalsystem                dezimalsystem  181051   \n",
       "6012                         Oktalsystem                  oktalsystem  181056   \n",
       "6016                    Additionssysteme             additionssysteme  181133   \n",
       "6018                       Hybridsysteme                hybridsysteme  181135   \n",
       "6032                      Designmethoden               designmethoden  183223   \n",
       "6034                          Vermehrung                   vermehrung  184178   \n",
       "6038                      Mehrwertsteuer               mehrwertsteuer  184495   \n",
       "6040                             Steuern                      steuern  184763   \n",
       "6048                         Gartensuche                  gartensuche  185551   \n",
       "6086                   Hexadezimalsystem            hexadezimalsystem  186051   \n",
       "6116                             Cluster                      cluster  188985   \n",
       "6117                             Cluster                      cluster  188985   \n",
       "6122                          Pfadregeln                   pfadregeln  189811   \n",
       "6138                     Einkommensteuer              einkommensteuer  193131   \n",
       "6140                          Lohnsteuer                   lohnsteuer  193200   \n",
       "6142                        Umsatzsteuer                 umsatzsteuer  193413   \n",
       "6144                         Hundesteuer                  hundesteuer  193439   \n",
       "6146                       Kirchensteuer                kirchensteuer  193464   \n",
       "6148                 Kraftfahrzeugsteuer          kraftfahrzeugsteuer  193486   \n",
       "6152                       Gewerbesteuer                gewerbesteuer  193578   \n",
       "6156                         Bedingungen                  bedingungen  194047   \n",
       "6204                       Dezimalbrüche                dezimalbrüche   19482   \n",
       "6277                            Testkurs                     testkurs   34278   \n",
       "6346                            Testkurs                     testkurs   41479   \n",
       "6373                          Informatik                   informatik   47871   \n",
       "6378                 Die Teebeutelrakete              teebeutelrakete   50701   \n",
       "6438                         Aussaaterde                  aussaaterde   69841   \n",
       "6460                 Schnecken! Was tun?                    schnecken   75941   \n",
       "6470                      Quadratwurzeln               quadratwurzeln   83733   \n",
       "6480               Nullstellenberechnung        nullstellenberechnung   86799   \n",
       "6484                  Wintervorbereitung           wintervorbereitung   91091   \n",
       "6485                   Das Ziegenproblem                ziegenproblem   91405   \n",
       "6500                   Normalizer’s test                   normalizer  104840   \n",
       "6524                          Funktionen                   funktionen  113266   \n",
       "6545                             Metalle                      metalle  127687   \n",
       "6547                             Vorwort                      vorwort  129861   \n",
       "6549                        Grundlagen 2                   grundlagen  129917   \n",
       "6583                 Bewerbungsschreiben          bewerbungsschreiben  143447   \n",
       "6585                  Bewerbungsgespräch           bewerbungsgespräch  143460   \n",
       "6587                           Einheiten                    einheiten  145421   \n",
       "6613                     Linsengleichung              linsengleichung  167868   \n",
       "\n",
       "             subject language   scope  \n",
       "0              Mathe       de  schule  \n",
       "29             Mathe       de  schule  \n",
       "63             Mathe       de  schule  \n",
       "75             Mathe       de  schule  \n",
       "95             Mathe       de  schule  \n",
       "113            Mathe       de  schule  \n",
       "137            Mathe       de  schule  \n",
       "138            Mathe       de  schule  \n",
       "140            Mathe       de  schule  \n",
       "196            Mathe       de  schule  \n",
       "218            Mathe       de  schule  \n",
       "228            Mathe       de  schule  \n",
       "238            Mathe       de  schule  \n",
       "264            Mathe       de  schule  \n",
       "287            Mathe       de  schule  \n",
       "297            Mathe       de  schule  \n",
       "333            Mathe       de  schule  \n",
       "351            Mathe       de  schule  \n",
       "365            Mathe       de  schule  \n",
       "371            Mathe       de  schule  \n",
       "383            Mathe       de  schule  \n",
       "427            Mathe       de  schule  \n",
       "459            Mathe       de  schule  \n",
       "469            Mathe       de  schule  \n",
       "481            Mathe       de  schule  \n",
       "491            Mathe       de  schule  \n",
       "527            Mathe       de  schule  \n",
       "533            Mathe       de  schule  \n",
       "547            Mathe       de  schule  \n",
       "553            Mathe       de  schule  \n",
       "559            Mathe       de  schule  \n",
       "565            Mathe       de  schule  \n",
       "573            Mathe       de  schule  \n",
       "599            Mathe       de  schule  \n",
       "612            Mathe       de  schule  \n",
       "620            Mathe       de  schule  \n",
       "660            Mathe       de  schule  \n",
       "664            Mathe       de  schule  \n",
       "668            Mathe       de  schule  \n",
       "688            Mathe       de  schule  \n",
       "698            Mathe       de  schule  \n",
       "724            Mathe       de  schule  \n",
       "736            Mathe       de  schule  \n",
       "739            Mathe       de  schule  \n",
       "740            Mathe       de  schule  \n",
       "752            Mathe       de  schule  \n",
       "753            Mathe       de  schule  \n",
       "755            Mathe       de  schule  \n",
       "770            Mathe       de  schule  \n",
       "786            Mathe       de  schule  \n",
       "802            Mathe       de  schule  \n",
       "820            Mathe       de  schule  \n",
       "836            Mathe       de  schule  \n",
       "878            Mathe       de  schule  \n",
       "890            Mathe       de  schule  \n",
       "898            Mathe       de  schule  \n",
       "904            Mathe       de  schule  \n",
       "912            Mathe       de  schule  \n",
       "922            Mathe       de  schule  \n",
       "930            Mathe       de  schule  \n",
       "940            Mathe       de  schule  \n",
       "948            Mathe       de  schule  \n",
       "956            Mathe       de  schule  \n",
       "966            Mathe       de  schule  \n",
       "986            Mathe       de  schule  \n",
       "1002           Mathe       de  schule  \n",
       "1024           Mathe       de  schule  \n",
       "1054           Mathe       de  schule  \n",
       "1074           Mathe       de  schule  \n",
       "1090           Mathe       de  schule  \n",
       "1103           Mathe       de  schule  \n",
       "1104           Mathe       de  schule  \n",
       "1110           Mathe       de  schule  \n",
       "1176           Mathe       de  schule  \n",
       "1180           Mathe       de  schule  \n",
       "1194           Mathe       de  schule  \n",
       "1198           Mathe       de  schule  \n",
       "1208           Mathe       de  schule  \n",
       "1220           Mathe       de  schule  \n",
       "1236           Mathe       de  schule  \n",
       "1288           Mathe       de  schule  \n",
       "1316           Mathe       de  schule  \n",
       "1328           Mathe       de  schule  \n",
       "1366           Mathe       de  schule  \n",
       "1398           Mathe       de  schule  \n",
       "1402           Mathe       de  schule  \n",
       "1404           Mathe       de  schule  \n",
       "1466           Mathe       de  schule  \n",
       "1484           Mathe       de  schule  \n",
       "1500           Mathe       de  schule  \n",
       "1502           Mathe       de  schule  \n",
       "1503           Mathe       de  schule  \n",
       "1506           Mathe       de  schule  \n",
       "1512           Mathe       de  schule  \n",
       "1524           Mathe       de  schule  \n",
       "1536           Mathe       de  schule  \n",
       "1539           Mathe       de  schule  \n",
       "1549           Mathe       de  schule  \n",
       "1580           Mathe       de  schule  \n",
       "1584           Mathe       de  schule  \n",
       "1596           Mathe       de  schule  \n",
       "1610           Mathe       de  schule  \n",
       "1642           Mathe       de  schule  \n",
       "1643           Mathe       de  schule  \n",
       "1655           Mathe       de  schule  \n",
       "1665           Mathe       de  schule  \n",
       "1734           Mathe       de  schule  \n",
       "1752           Mathe       de  schule  \n",
       "1780           Mathe       de  schule  \n",
       "1792           Mathe       de  schule  \n",
       "1812           Mathe       de  schule  \n",
       "1844           Mathe       de  schule  \n",
       "1860           Mathe       de  schule  \n",
       "1883           Mathe       de  schule  \n",
       "1889           Mathe       de  schule  \n",
       "1891           Mathe       de  schule  \n",
       "1976           Mathe       de  schule  \n",
       "1990           Mathe       de  schule  \n",
       "1994           Mathe       de  schule  \n",
       "2023           Mathe       de  schule  \n",
       "2031           Mathe       de  schule  \n",
       "2057           Mathe       de  schule  \n",
       "2086           Mathe       de  schule  \n",
       "2092           Mathe       de  schule  \n",
       "2112           Mathe       de  schule  \n",
       "2118           Mathe       de  schule  \n",
       "2136           Mathe       de  schule  \n",
       "2147           Mathe       de  schule  \n",
       "2161           Mathe       de  schule  \n",
       "2177           Mathe       de  schule  \n",
       "2215           Mathe       de  schule  \n",
       "2221           Mathe       de  schule  \n",
       "2231           Mathe       de  schule  \n",
       "2243           Mathe       de  schule  \n",
       "2249           Mathe       de  schule  \n",
       "2258           Mathe       de  schule  \n",
       "2279           Mathe       de  schule  \n",
       "2299           Mathe       de  schule  \n",
       "2326           Mathe       de  schule  \n",
       "2346           Mathe       de  schule  \n",
       "2375           Mathe       de  schule  \n",
       "2377           Mathe       de  schule  \n",
       "2430           Mathe       de  schule  \n",
       "2438           Mathe       de  schule  \n",
       "2464           Mathe       de  schule  \n",
       "2476           Mathe       de  schule  \n",
       "2511           Mathe       de  schule  \n",
       "2573           Mathe       de  schule  \n",
       "2579           Mathe       de  schule  \n",
       "2580           Mathe       de  schule  \n",
       "2586           Mathe       de  schule  \n",
       "2596           Mathe       de  schule  \n",
       "2622           Mathe       de  schule  \n",
       "2626           Mathe       de  schule  \n",
       "2640           Mathe       de  schule  \n",
       "2674           Mathe       de  schule  \n",
       "2678           Mathe       de  schule  \n",
       "2680           Mathe       de  schule  \n",
       "2684           Mathe       de  schule  \n",
       "2696           Mathe       de  schule  \n",
       "2737           Mathe       de  schule  \n",
       "2776           Mathe       de  schule  \n",
       "2872           Mathe       de  schule  \n",
       "2882  Nachhaltigkeit       de  schule  \n",
       "2884        Biologie       de  schule  \n",
       "2926        Biologie       de  schule  \n",
       "2938        Biologie       de  schule  \n",
       "2958          Chemie       de  schule  \n",
       "2960          Chemie       de  schule  \n",
       "2963          Chemie       de  schule  \n",
       "2964          Chemie       de  schule  \n",
       "2965          Chemie       de  schule  \n",
       "2967          Chemie       de  schule  \n",
       "2969  Nachhaltigkeit       de  schule  \n",
       "2973  Nachhaltigkeit       de  schule  \n",
       "2976  Nachhaltigkeit       de  schule  \n",
       "2981          Chemie       de  schule  \n",
       "2985          Chemie       de  schule  \n",
       "2987          Chemie       de  schule  \n",
       "2989          Chemie       de  schule  \n",
       "2991          Chemie       de  schule  \n",
       "2993          Chemie       de  schule  \n",
       "2995          Chemie       de  schule  \n",
       "2997          Chemie       de  schule  \n",
       "3000  Nachhaltigkeit       de  schule  \n",
       "3006          Chemie       de  schule  \n",
       "3007          Chemie       de  schule  \n",
       "3008          Chemie       de  schule  \n",
       "3009          Chemie       de  schule  \n",
       "3010          Chemie       de  schule  \n",
       "3016          Chemie       de  schule  \n",
       "3018          Chemie       de  schule  \n",
       "3020          Chemie       de  schule  \n",
       "3024          Chemie       de  schule  \n",
       "3025          Chemie       de  schule  \n",
       "3036          Chemie       de  schule  \n",
       "3051          Chemie       de  schule  \n",
       "3055  Nachhaltigkeit       de  schule  \n",
       "3168           Mathe       de  schule  \n",
       "3222           Mathe       de  schule  \n",
       "3224           Mathe       de  schule  \n",
       "3230           Mathe       de  schule  \n",
       "3258           Mathe       de  schule  \n",
       "3293          Chemie       de  schule  \n",
       "3295          Chemie       de  schule  \n",
       "3297          Chemie       de  schule  \n",
       "3305          Chemie       de  schule  \n",
       "3306          Chemie       de  schule  \n",
       "3313          Chemie       de  schule  \n",
       "3346        Biologie       de  schule  \n",
       "3352        Biologie       de  schule  \n",
       "3383  Nachhaltigkeit       de  schule  \n",
       "3385  Nachhaltigkeit       de  schule  \n",
       "3386  Nachhaltigkeit       de  schule  \n",
       "3390  Nachhaltigkeit       de  schule  \n",
       "3455  Nachhaltigkeit       de  schule  \n",
       "3472  Nachhaltigkeit       de  schule  \n",
       "3474           Mathe       de  schule  \n",
       "3482           Mathe       de  schule  \n",
       "3506           Mathe       de  schule  \n",
       "3538  Nachhaltigkeit       de  schule  \n",
       "3546  Nachhaltigkeit       de  schule  \n",
       "3562           Mathe       de  schule  \n",
       "3578           Mathe       de  schule  \n",
       "3580           Mathe       de  schule  \n",
       "3585           Mathe       de  schule  \n",
       "3595           Mathe       de  schule  \n",
       "3609  Nachhaltigkeit       de  schule  \n",
       "3619  Nachhaltigkeit       de  schule  \n",
       "3621  Nachhaltigkeit       de  schule  \n",
       "3632        Biologie       de  schule  \n",
       "3641        Biologie       de  schule  \n",
       "3647           Mathe       de  schule  \n",
       "3657           Mathe       de  schule  \n",
       "3667           Mathe       de  schule  \n",
       "3673        Biologie       de  schule  \n",
       "3699           Mathe       de  schule  \n",
       "3723           Mathe       de  schule  \n",
       "3728           Mathe       de  schule  \n",
       "3772           Mathe       de  schule  \n",
       "3774           Mathe       de  schule  \n",
       "3776           Mathe       de  schule  \n",
       "3780           Mathe       de  schule  \n",
       "3783           Mathe       de  schule  \n",
       "3785           Mathe       de  schule  \n",
       "3787           Mathe       de  schule  \n",
       "3790           Mathe       de  schule  \n",
       "3795           Mathe       de  schule  \n",
       "3819           Mathe       de  schule  \n",
       "3822           Mathe       de  schule  \n",
       "3876           Mathe       de  schule  \n",
       "3881           Mathe       de  schule  \n",
       "3921           Mathe       de  schule  \n",
       "3965           Mathe       de  schule  \n",
       "3991  Nachhaltigkeit       de  schule  \n",
       "3997           Mathe       de  schule  \n",
       "4001           Mathe       de  schule  \n",
       "4021           Mathe       de  schule  \n",
       "4041          Physik       de  schule  \n",
       "4047          Physik       de  schule  \n",
       "4053          Physik       de  schule  \n",
       "4059          Physik       de  schule  \n",
       "4060          Physik       de  schule  \n",
       "4062          Physik       de  schule  \n",
       "4064          Physik       de  schule  \n",
       "4082           Mathe       de  schule  \n",
       "4087           Mathe       de  schule  \n",
       "4088           Mathe       de  schule  \n",
       "4111           Mathe       de  schule  \n",
       "4131           Mathe       de  schule  \n",
       "4161           Mathe       de  schule  \n",
       "4162  Nachhaltigkeit       de  schule  \n",
       "4164  Nachhaltigkeit       de  schule  \n",
       "4166  Nachhaltigkeit       de  schule  \n",
       "4168  Nachhaltigkeit       de  schule  \n",
       "4171           Mathe       de  schule  \n",
       "4173  Nachhaltigkeit       de  schule  \n",
       "4175      Informatik       de  schule  \n",
       "4199  Nachhaltigkeit       de  schule  \n",
       "4201           Mathe       de  schule  \n",
       "4214           Mathe       de  schule  \n",
       "4232           Mathe       de  schule  \n",
       "4241           Mathe       de  schule  \n",
       "4261        Biologie       de  schule  \n",
       "4265        Biologie       de  schule  \n",
       "4269        Biologie       de  schule  \n",
       "4279           Mathe       de  schule  \n",
       "4285        Biologie       de  schule  \n",
       "4325      Informatik       de  schule  \n",
       "4329      Informatik       de  schule  \n",
       "4333      Informatik       de  schule  \n",
       "4337      Informatik       de  schule  \n",
       "4341      Informatik       de  schule  \n",
       "4348        Biologie       de  schule  \n",
       "4355  Nachhaltigkeit       de  schule  \n",
       "4357           Mathe       de  schule  \n",
       "4359  Nachhaltigkeit       de  schule  \n",
       "4369      Informatik       de  schule  \n",
       "4387      Informatik       de  schule  \n",
       "4391      Informatik       de  schule  \n",
       "4401      Informatik       de  schule  \n",
       "4403      Informatik       de  schule  \n",
       "4421        Biologie       de  schule  \n",
       "4439        Biologie       de  schule  \n",
       "4449        Biologie       de  schule  \n",
       "4469          Physik       de  schule  \n",
       "4481        Biologie       de  schule  \n",
       "4495        Biologie       de  schule  \n",
       "4505           Mathe       de  schule  \n",
       "4523        Biologie       de  schule  \n",
       "4541      Informatik       de  schule  \n",
       "4545  Nachhaltigkeit       de  schule  \n",
       "4547  Nachhaltigkeit       de  schule  \n",
       "4553  Nachhaltigkeit       de  schule  \n",
       "4559  Nachhaltigkeit       de  schule  \n",
       "4561  Nachhaltigkeit       de  schule  \n",
       "4563  Nachhaltigkeit       de  schule  \n",
       "4565  Nachhaltigkeit       de  schule  \n",
       "4577          Chemie       de  schule  \n",
       "4579        Biologie       de  schule  \n",
       "4585        Biologie       de  schule  \n",
       "4587          Chemie       de  schule  \n",
       "4597        Biologie       de  schule  \n",
       "4599        Biologie       de  schule  \n",
       "4601        Biologie       de  schule  \n",
       "4605        Biologie       de  schule  \n",
       "4607        Biologie       de  schule  \n",
       "4609        Biologie       de  schule  \n",
       "4613          Chemie       de  schule  \n",
       "4615          Chemie       de  schule  \n",
       "4621        Biologie       de  schule  \n",
       "4623           Mathe       de  schule  \n",
       "4627        Biologie       de  schule  \n",
       "4631          Chemie       de  schule  \n",
       "4633          Chemie       de  schule  \n",
       "4635          Chemie       de  schule  \n",
       "4639  Nachhaltigkeit       de  schule  \n",
       "4645      Informatik       de  schule  \n",
       "4647      Informatik       de  schule  \n",
       "4663        Biologie       de  schule  \n",
       "4669        Biologie       de  schule  \n",
       "4671        Biologie       de  schule  \n",
       "4677          Chemie       de  schule  \n",
       "4681        Biologie       de  schule  \n",
       "4695  Nachhaltigkeit       de  schule  \n",
       "4697  Nachhaltigkeit       de  schule  \n",
       "4699        Biologie       de  schule  \n",
       "4713      Informatik       de  schule  \n",
       "4729        Biologie       de  schule  \n",
       "4731        Biologie       de  schule  \n",
       "4733        Biologie       de  schule  \n",
       "4737        Biologie       de  schule  \n",
       "4741        Biologie       de  schule  \n",
       "4753        Biologie       de  schule  \n",
       "4761        Biologie       de  schule  \n",
       "4811  Nachhaltigkeit       de  schule  \n",
       "4813  Nachhaltigkeit       de  schule  \n",
       "4815  Nachhaltigkeit       de  schule  \n",
       "4823  Nachhaltigkeit       de  schule  \n",
       "4825  Nachhaltigkeit       de  schule  \n",
       "4833      Informatik       de  schule  \n",
       "4835      Informatik       de  schule  \n",
       "4851  Nachhaltigkeit       de  schule  \n",
       "4853           Mathe       de  schule  \n",
       "4857           Mathe       de  schule  \n",
       "4891      Geographie       de  schule  \n",
       "4919  Nachhaltigkeit       de  schule  \n",
       "4925        Biologie       de  schule  \n",
       "4927        Biologie       de  schule  \n",
       "4929        Biologie       de  schule  \n",
       "4935           Mathe       de  schule  \n",
       "4949      Informatik       de  schule  \n",
       "4953      Informatik       de  schule  \n",
       "4977        Biologie       de  schule  \n",
       "4979        Biologie       de  schule  \n",
       "4981        Biologie       de  schule  \n",
       "4983        Biologie       de  schule  \n",
       "4985        Biologie       de  schule  \n",
       "5028  Nachhaltigkeit       de  schule  \n",
       "5035      Informatik       de  schule  \n",
       "5053           Mathe       de  schule  \n",
       "5057          Chemie       de  schule  \n",
       "5061          Chemie       de  schule  \n",
       "5111      Informatik       de  schule  \n",
       "5246      Informatik       de  schule  \n",
       "5274        Biologie       de  schule  \n",
       "5276      Wirtschaft       de  schule  \n",
       "5278      Wirtschaft       de  schule  \n",
       "5282      Wirtschaft       de  schule  \n",
       "5308      Informatik       de  schule  \n",
       "5332      Geographie       de  schule  \n",
       "5350           Mathe       de  schule  \n",
       "5360          Physik       de  schule  \n",
       "5362          Chemie       de  schule  \n",
       "5364          Chemie       de  schule  \n",
       "5366          Chemie       de  schule  \n",
       "5368          Chemie       de  schule  \n",
       "5370          Chemie       de  schule  \n",
       "5372          Chemie       de  schule  \n",
       "5374          Chemie       de  schule  \n",
       "5376          Chemie       de  schule  \n",
       "5378          Chemie       de  schule  \n",
       "5388          Chemie       de  schule  \n",
       "5438          Chemie       de  schule  \n",
       "5602          Chemie       de  schule  \n",
       "5606          Chemie       de  schule  \n",
       "5608          Chemie       de  schule  \n",
       "5610          Chemie       de  schule  \n",
       "5614          Chemie       de  schule  \n",
       "5630          Chemie       de  schule  \n",
       "5632          Chemie       de  schule  \n",
       "5650      Informatik       de  schule  \n",
       "5654      Geographie       de  schule  \n",
       "5656          Chemie       de  schule  \n",
       "5660          Chemie       de  schule  \n",
       "5664          Chemie       de  schule  \n",
       "5672          Chemie       de  schule  \n",
       "5674          Chemie       de  schule  \n",
       "5676          Chemie       de  schule  \n",
       "5677          Physik       de  schule  \n",
       "5680          Chemie       de  schule  \n",
       "5681          Physik       de  schule  \n",
       "5690          Chemie       de  schule  \n",
       "5698          Chemie       de  schule  \n",
       "5700          Chemie       de  schule  \n",
       "5702          Chemie       de  schule  \n",
       "5708      Informatik       de  schule  \n",
       "5718      Informatik       de  schule  \n",
       "5736      Informatik       de  schule  \n",
       "5740          Chemie       de  schule  \n",
       "5746          Chemie       de  schule  \n",
       "5750          Chemie       de  schule  \n",
       "5752      Informatik       de  schule  \n",
       "5762          Chemie       de  schule  \n",
       "5766          Chemie       de  schule  \n",
       "5770          Chemie       de  schule  \n",
       "5772          Chemie       de  schule  \n",
       "5788           Mathe       de  schule  \n",
       "5812      Informatik       de  schule  \n",
       "5860           Mathe       de  schule  \n",
       "5864           Mathe       de  schule  \n",
       "5866           Mathe       de  schule  \n",
       "5894      Informatik       de  schule  \n",
       "5896      Informatik       de  schule  \n",
       "5902           Mathe       de  schule  \n",
       "5908      Informatik       de  schule  \n",
       "5916           Mathe       de  schule  \n",
       "5918           Mathe       de  schule  \n",
       "5920      Wirtschaft       de  schule  \n",
       "5928      Wirtschaft       de  schule  \n",
       "5930      Wirtschaft       de  schule  \n",
       "5934           Mathe       de  schule  \n",
       "5980           Mathe       de  schule  \n",
       "5998      Informatik       de  schule  \n",
       "6000  Nachhaltigkeit       de  schule  \n",
       "6008      Informatik       de  schule  \n",
       "6012      Informatik       de  schule  \n",
       "6016      Informatik       de  schule  \n",
       "6018      Informatik       de  schule  \n",
       "6032  Nachhaltigkeit       de  schule  \n",
       "6034  Nachhaltigkeit       de  schule  \n",
       "6038      Wirtschaft       de  schule  \n",
       "6040      Wirtschaft       de  schule  \n",
       "6048  Nachhaltigkeit       de  schule  \n",
       "6086      Informatik       de  schule  \n",
       "6116      Wirtschaft       de  schule  \n",
       "6117      Geographie       de  schule  \n",
       "6122           Mathe       de  schule  \n",
       "6138      Wirtschaft       de  schule  \n",
       "6140      Wirtschaft       de  schule  \n",
       "6142      Wirtschaft       de  schule  \n",
       "6144      Wirtschaft       de  schule  \n",
       "6146      Wirtschaft       de  schule  \n",
       "6148      Wirtschaft       de  schule  \n",
       "6152      Wirtschaft       de  schule  \n",
       "6156      Informatik       de  schule  \n",
       "6204           Mathe       de  schule  \n",
       "6277  Nachhaltigkeit       de  schule  \n",
       "6346           Mathe       de  schule  \n",
       "6373      Informatik       de  schule  \n",
       "6378        Biologie       de  schule  \n",
       "6438  Nachhaltigkeit       de  schule  \n",
       "6460  Nachhaltigkeit       de  schule  \n",
       "6470           Mathe       de  schule  \n",
       "6480           Mathe       de  schule  \n",
       "6484  Nachhaltigkeit       de  schule  \n",
       "6485           Mathe       de  schule  \n",
       "6500           Mathe       de  schule  \n",
       "6524      Informatik       de  schule  \n",
       "6545          Chemie       de  schule  \n",
       "6547      Informatik       de  schule  \n",
       "6549      Informatik       de  schule  \n",
       "6583      Wirtschaft       de  schule  \n",
       "6585      Wirtschaft       de  schule  \n",
       "6587           Mathe       de  schule  \n",
       "6613          Physik       de  schule  "
      ]
     },
     "metadata": {},
     "output_type": "display_data"
    }
   ],
   "source": [
    "import pandas as pd\n",
    "import mysql.connector\n",
    "import re\n",
    "\n",
    "import json\n",
    "\n",
    "from IPython.display import display, Markdown, HTML\n",
    "\n",
    "db = mysql.connector.connect(\n",
    "    host=\"localhost\",\n",
    "    user=\"root\",\n",
    "    password=\"secret\",\n",
    "    port=\"3306\",\n",
    "    database=\"serlo\",\n",
    "    charset=\"latin1\"\n",
    ")\n",
    "\n",
    "subjects = [\n",
    "    #'Psychologie',\n",
    "    #'English for Spanish Natives',\n",
    "    #'Medienbildung',\n",
    "    'Biologie',\n",
    "    #'Kommunikation',\n",
    "    'Wirtschaft',\n",
    "    'Mathe',\n",
    "    'Chemie',\n",
    "    #'Geschichte',\n",
    "    #'Lerntipps',\n",
    "    'Informatik',\n",
    "    #'Musik',\n",
    "    #'Testbereich',\n",
    "    #'Deutsch als Fremdsprache',\n",
    "    #'Englisch',\n",
    "    #'Betriebswirtschaftslehre mit Rechnungswesen',\n",
    "    'Geographie',\n",
    "    #'Rechnungswesen',\n",
    "    'Nachhaltigkeit',\n",
    "    #'Politik',\n",
    "    'Physik',\n",
    "    #'Community',\n",
    "    #'Latein'\n",
    "]\n",
    "\n",
    "def cached(func):\n",
    "    cache = dict()\n",
    "    \n",
    "    def return_func(arg):\n",
    "        if (arg in cache):\n",
    "            return cache[arg]\n",
    "        else:\n",
    "            result = func(arg)\n",
    "            cache[arg] = result\n",
    "            return result\n",
    "    \n",
    "    return return_func\n",
    "\n",
    "def query(sql):\n",
    "    c = db.cursor()\n",
    "    c.execute(sql)\n",
    "    \n",
    "    return c.fetchall()\n",
    "\n",
    "def querySingleton(sql):\n",
    "    return [ x[0] for x in query(sql) ]\n",
    "\n",
    "def unique(iterator, key_func=lambda x: x[\"keyword\"]):\n",
    "    keys = set()\n",
    "    \n",
    "    for item in iterator:\n",
    "        key = key_func(item)\n",
    "        \n",
    "        if key not in keys:\n",
    "            keys.add(key)\n",
    "            yield item\n",
    "            \n",
    "@cached\n",
    "def getParent(termId):\n",
    "    return querySingleton(\"\"\"\n",
    "        select parent_id from term_taxonomy where id = %s;\n",
    "    \"\"\" % termId)[0]\n",
    "\n",
    "def getTermName(termId):\n",
    "    return querySingleton(\"\"\"\n",
    "        select term.name from term_taxonomy\n",
    "        join term on term.id = term_taxonomy.term_id\n",
    "        where term_taxonomy.id = %s;\n",
    "    \"\"\" % termId)[0]\n",
    "\n",
    "@cached\n",
    "def getSubject(termId):\n",
    "    parent = getParent(termId)\n",
    "    grandparent = getParent(parent)\n",
    "    \n",
    "    if (parent == 106081):\n",
    "        return getTermName(termId)\n",
    "    \n",
    "    return getSubject(parent) if grandparent != None else getTermName(termId)\n",
    "\n",
    "def getSerloKeywords():\n",
    "    df = pd.read_sql(\"\"\"\n",
    "        select term_taxonomy_entity.term_taxonomy_id as termId,\n",
    "               entity_revision_field.value as title, uuid.id as uuid,\n",
    "               instance.subdomain as language, \"schule\" as scope\n",
    "        from entity\n",
    "        join entity_revision_field on entity_revision_field.entity_revision_id = entity.current_revision_id\n",
    "        join type on type.id = entity.type_id\n",
    "        join uuid on uuid.id = entity.id\n",
    "        join term_taxonomy_entity on term_taxonomy_entity.entity_id  = entity.id\n",
    "        join instance on instance.id = entity.instance_id\n",
    "        where instance.subdomain = \"de\"\n",
    "            and uuid.trashed = 0\n",
    "            and (type.name = \"article\" or type.name = \"course\")\n",
    "            and (entity_revision_field.field = \"title\" or entity_revision_field.field = \"meta_title\");\n",
    "    \"\"\", db)\n",
    "    df[\"subject\"] = df[\"termId\"].apply(getSubject)\n",
    "    df[\"title\"] = df[\"title\"].apply(fix_encoding)\n",
    "    df.drop(df[~df[\"subject\"].isin(subjects)].index, inplace=True)\n",
    "    df[\"keyword\"] = df[\"title\"].apply(normalize)\n",
    "    df.drop(df[df[\"keyword\"] == \"\"].index, inplace=True)\n",
    "    \n",
    "    return df[[\"title\", \"keyword\", \"uuid\", \"subject\", \"language\", \"scope\"]].drop_duplicates([\"keyword\", \"subject\"])\n",
    "    \n",
    "    keywords = set((normalize(keyword) for keyword in df[\"title\"]))\n",
    "    \n",
    "    return [keyword for keyword in keywords if len(keyword) > 0]\n",
    "\n",
    "def fix_encoding(title):\n",
    "    return bytes(title, \"latin1\").decode(\"utf8\")\n",
    "\n",
    "def normalize(title):\n",
    "    title = title.replace(\" - Lernen mit Serlo!\", \"\").lower()\n",
    "    \n",
    "    words = set([word for word in re.split(\"\\W+\", title) if isKeyword(word)])\n",
    "    words = list(words)\n",
    "    words.sort()\n",
    "    \n",
    "    if (len(words) > 1):\n",
    "        return \"\"\n",
    "    \n",
    "    return \" \".join(words)\n",
    "\n",
    "words = set()\n",
    "\n",
    "def isKeyword(word):\n",
    "    if len(word) <= 3 and word not in [\"web\", \"key\", \"dna\", \"ggt\"]:\n",
    "        words.add(word)\n",
    "        return False\n",
    "    if word in [\"eine\", \"kurs\", \"eines\", \"einer\", \"oder\", \"sind\", \"test\"]:\n",
    "        return False\n",
    "    return True\n",
    "\n",
    "pd.set_option('display.max_rows', None)\n",
    "\n",
    "serlo_keywords = getSerloKeywords()\n",
    "display(serlo_keywords)"
   ]
  },
  {
   "cell_type": "markdown",
   "id": "opponent-federation",
   "metadata": {},
   "source": [
    "# Keywords auf Wikibooks"
   ]
  },
  {
   "cell_type": "code",
   "execution_count": 64,
   "id": "competent-principle",
   "metadata": {},
   "outputs": [],
   "source": [
    "import requests\n",
    "import json\n",
    "\n",
    "def cached(func):\n",
    "    cache = {}\n",
    "    \n",
    "    def cached_func(*args, **kwargs):\n",
    "        key = json.dumps([args,kwargs])\n",
    "        \n",
    "        if key not in cache:\n",
    "            cache[key] = func(*args, **kwargs)\n",
    "        \n",
    "        return cache[key]\n",
    "    \n",
    "    return cached_func\n",
    "\n",
    "@cached\n",
    "def list_wikibooks_pages(prefix, params={}):\n",
    "    result = requests.get(\"https://de.wikibooks.org/w/api.php\", {\n",
    "        \"action\": \"query\",\n",
    "        \"format\": \"json\",\n",
    "        \"list\": \"allpages\",\n",
    "        \"aplimit\": 500,\n",
    "        \"apprefix\": prefix,\n",
    "        **params\n",
    "    }).json()\n",
    "    titles = [r[\"title\"] for r in result[\"query\"][\"allpages\"]]\n",
    "    \n",
    "    if \"continue\" in result:\n",
    "        titles += list_wikibooks_pages(prefix, result[\"continue\"])\n",
    "    \n",
    "    return titles\n",
    "\n",
    "@cached\n",
    "def is_redirect(title):\n",
    "    result = requests.get(\"https://de.wikibooks.org/w/api.php\", {\n",
    "        \"action\": \"query\",\n",
    "        \"format\": \"json\",\n",
    "        \"prop\": \"info\",\n",
    "        \"titles\": title,\n",
    "    }).json()\n",
    "    \n",
    "    return \"redirect\" in list(result[\"query\"][\"pages\"].values())[0]"
   ]
  },
  {
   "cell_type": "code",
   "execution_count": 65,
   "id": "naked-berkeley",
   "metadata": {
    "scrolled": false
   },
   "outputs": [
    {
     "data": {
      "text/markdown": [
       "### Liste aller Keywords (Anzahl = 408):"
      ],
      "text/plain": [
       "<IPython.core.display.Markdown object>"
      ]
     },
     "metadata": {},
     "output_type": "display_data"
    },
    {
     "data": {
      "text/markdown": [
       "**=== abbildung, funktion ===**"
      ],
      "text/plain": [
       "<IPython.core.display.Markdown object>"
      ]
     },
     "metadata": {},
     "output_type": "display_data"
    },
    {
     "data": {
      "text/markdown": [
       "abbildung"
      ],
      "text/plain": [
       "<IPython.core.display.Markdown object>"
      ]
     },
     "metadata": {},
     "output_type": "display_data"
    },
    {
     "data": {
      "text/markdown": [
       "funktion"
      ],
      "text/plain": [
       "<IPython.core.display.Markdown object>"
      ]
     },
     "metadata": {},
     "output_type": "display_data"
    },
    {
     "data": {
      "text/markdown": [
       "**=== abbildungsmatrizen ===**"
      ],
      "text/plain": [
       "<IPython.core.display.Markdown object>"
      ]
     },
     "metadata": {},
     "output_type": "display_data"
    },
    {
     "data": {
      "text/markdown": [
       "abbildungsmatrizen"
      ],
      "text/plain": [
       "<IPython.core.display.Markdown object>"
      ]
     },
     "metadata": {},
     "output_type": "display_data"
    },
    {
     "data": {
      "text/markdown": [
       "**=== ableitung der umkehrfunktion ===**"
      ],
      "text/plain": [
       "<IPython.core.display.Markdown object>"
      ]
     },
     "metadata": {},
     "output_type": "display_data"
    },
    {
     "data": {
      "text/markdown": [
       "ableitung umkehrfunktion"
      ],
      "text/plain": [
       "<IPython.core.display.Markdown object>"
      ]
     },
     "metadata": {},
     "output_type": "display_data"
    },
    {
     "data": {
      "text/markdown": [
       "**=== ableitung höherer ordnung ===**"
      ],
      "text/plain": [
       "<IPython.core.display.Markdown object>"
      ]
     },
     "metadata": {},
     "output_type": "display_data"
    },
    {
     "data": {
      "text/markdown": [
       "ableitung höherer ordnung"
      ],
      "text/plain": [
       "<IPython.core.display.Markdown object>"
      ]
     },
     "metadata": {},
     "output_type": "display_data"
    },
    {
     "data": {
      "text/markdown": [
       "**=== ableitung und differenzierbarkeit ===**"
      ],
      "text/plain": [
       "<IPython.core.display.Markdown object>"
      ]
     },
     "metadata": {},
     "output_type": "display_data"
    },
    {
     "data": {
      "text/markdown": [
       "ableitung differenzierbarkeit"
      ],
      "text/plain": [
       "<IPython.core.display.Markdown object>"
      ]
     },
     "metadata": {},
     "output_type": "display_data"
    },
    {
     "data": {
      "text/markdown": [
       "**=== ableitung und lokale extrema ===**"
      ],
      "text/plain": [
       "<IPython.core.display.Markdown object>"
      ]
     },
     "metadata": {},
     "output_type": "display_data"
    },
    {
     "data": {
      "text/markdown": [
       "lokale extrema"
      ],
      "text/plain": [
       "<IPython.core.display.Markdown object>"
      ]
     },
     "metadata": {},
     "output_type": "display_data"
    },
    {
     "data": {
      "text/markdown": [
       "lokale extrema ableitung"
      ],
      "text/plain": [
       "<IPython.core.display.Markdown object>"
      ]
     },
     "metadata": {},
     "output_type": "display_data"
    },
    {
     "data": {
      "text/markdown": [
       "**=== ableitung: kettenregel, quotientenregel, produktregel, summenregel, faktorregel ===**"
      ],
      "text/plain": [
       "<IPython.core.display.Markdown object>"
      ]
     },
     "metadata": {},
     "output_type": "display_data"
    },
    {
     "data": {
      "text/markdown": [
       "kettenregel ableitung"
      ],
      "text/plain": [
       "<IPython.core.display.Markdown object>"
      ]
     },
     "metadata": {},
     "output_type": "display_data"
    },
    {
     "data": {
      "text/markdown": [
       "quotientenregel ableitung"
      ],
      "text/plain": [
       "<IPython.core.display.Markdown object>"
      ]
     },
     "metadata": {},
     "output_type": "display_data"
    },
    {
     "data": {
      "text/markdown": [
       "produktregel ableitung"
      ],
      "text/plain": [
       "<IPython.core.display.Markdown object>"
      ]
     },
     "metadata": {},
     "output_type": "display_data"
    },
    {
     "data": {
      "text/markdown": [
       "summenregel ableitung"
      ],
      "text/plain": [
       "<IPython.core.display.Markdown object>"
      ]
     },
     "metadata": {},
     "output_type": "display_data"
    },
    {
     "data": {
      "text/markdown": [
       "faktorregel ableitung"
      ],
      "text/plain": [
       "<IPython.core.display.Markdown object>"
      ]
     },
     "metadata": {},
     "output_type": "display_data"
    },
    {
     "data": {
      "text/markdown": [
       "**=== absolute konvergenz einer reihe ===**"
      ],
      "text/plain": [
       "<IPython.core.display.Markdown object>"
      ]
     },
     "metadata": {},
     "output_type": "display_data"
    },
    {
     "data": {
      "text/markdown": [
       "absolute konvergenz reihe"
      ],
      "text/plain": [
       "<IPython.core.display.Markdown object>"
      ]
     },
     "metadata": {},
     "output_type": "display_data"
    },
    {
     "data": {
      "text/markdown": [
       "**=== allgemeine intervallschachtelung ===**"
      ],
      "text/plain": [
       "<IPython.core.display.Markdown object>"
      ]
     },
     "metadata": {},
     "output_type": "display_data"
    },
    {
     "data": {
      "text/markdown": [
       "allgemeine intervallschachtelung"
      ],
      "text/plain": [
       "<IPython.core.display.Markdown object>"
      ]
     },
     "metadata": {},
     "output_type": "display_data"
    },
    {
     "data": {
      "text/markdown": [
       "**=== analysis 1 ===**"
      ],
      "text/plain": [
       "<IPython.core.display.Markdown object>"
      ]
     },
     "metadata": {},
     "output_type": "display_data"
    },
    {
     "data": {
      "text/markdown": [
       "analysis 1"
      ],
      "text/plain": [
       "<IPython.core.display.Markdown object>"
      ]
     },
     "metadata": {},
     "output_type": "display_data"
    },
    {
     "data": {
      "text/markdown": [
       "**=== anordnungsaxiome ===**"
      ],
      "text/plain": [
       "<IPython.core.display.Markdown object>"
      ]
     },
     "metadata": {},
     "output_type": "display_data"
    },
    {
     "data": {
      "text/markdown": [
       "anordnungsaxiome"
      ],
      "text/plain": [
       "<IPython.core.display.Markdown object>"
      ]
     },
     "metadata": {},
     "output_type": "display_data"
    },
    {
     "data": {
      "text/markdown": [
       "**=== anwendung der konvergenzkriterien bei reihen ===**"
      ],
      "text/plain": [
       "<IPython.core.display.Markdown object>"
      ]
     },
     "metadata": {},
     "output_type": "display_data"
    },
    {
     "data": {
      "text/markdown": [
       "anwendung konvergenzkriterien reihen"
      ],
      "text/plain": [
       "<IPython.core.display.Markdown object>"
      ]
     },
     "metadata": {},
     "output_type": "display_data"
    },
    {
     "data": {
      "text/markdown": [
       "**=== archimedisches axiom ===**"
      ],
      "text/plain": [
       "<IPython.core.display.Markdown object>"
      ]
     },
     "metadata": {},
     "output_type": "display_data"
    },
    {
     "data": {
      "text/markdown": [
       "archimedisches axiom"
      ],
      "text/plain": [
       "<IPython.core.display.Markdown object>"
      ]
     },
     "metadata": {},
     "output_type": "display_data"
    },
    {
     "data": {
      "text/markdown": [
       "**=== arkussinus und arkuskosinus ===**"
      ],
      "text/plain": [
       "<IPython.core.display.Markdown object>"
      ]
     },
     "metadata": {},
     "output_type": "display_data"
    },
    {
     "data": {
      "text/markdown": [
       "arkussinus arkuskosinus"
      ],
      "text/plain": [
       "<IPython.core.display.Markdown object>"
      ]
     },
     "metadata": {},
     "output_type": "display_data"
    },
    {
     "data": {
      "text/markdown": [
       "**=== arkustangens und arkuskotangens ===**"
      ],
      "text/plain": [
       "<IPython.core.display.Markdown object>"
      ]
     },
     "metadata": {},
     "output_type": "display_data"
    },
    {
     "data": {
      "text/markdown": [
       "arkustangens arkuskotangens"
      ],
      "text/plain": [
       "<IPython.core.display.Markdown object>"
      ]
     },
     "metadata": {},
     "output_type": "display_data"
    },
    {
     "data": {
      "text/markdown": [
       "**=== aufzählende und beschreibende mengenschreibweise ===**"
      ],
      "text/plain": [
       "<IPython.core.display.Markdown object>"
      ]
     },
     "metadata": {},
     "output_type": "display_data"
    },
    {
     "data": {
      "text/markdown": [
       "aufzählende mengenschreibweise"
      ],
      "text/plain": [
       "<IPython.core.display.Markdown object>"
      ]
     },
     "metadata": {},
     "output_type": "display_data"
    },
    {
     "data": {
      "text/markdown": [
       "beschreibende mengenschreibweise"
      ],
      "text/plain": [
       "<IPython.core.display.Markdown object>"
      ]
     },
     "metadata": {},
     "output_type": "display_data"
    },
    {
     "data": {
      "text/markdown": [
       "**=== aussageform und substitution ===**"
      ],
      "text/plain": [
       "<IPython.core.display.Markdown object>"
      ]
     },
     "metadata": {},
     "output_type": "display_data"
    },
    {
     "data": {
      "text/markdown": [
       "aussageform substitution"
      ],
      "text/plain": [
       "<IPython.core.display.Markdown object>"
      ]
     },
     "metadata": {},
     "output_type": "display_data"
    },
    {
     "data": {
      "text/markdown": [
       "**=== aussagen formalisieren ===**"
      ],
      "text/plain": [
       "<IPython.core.display.Markdown object>"
      ]
     },
     "metadata": {},
     "output_type": "display_data"
    },
    {
     "data": {
      "text/markdown": [
       "aussagen formalisieren"
      ],
      "text/plain": [
       "<IPython.core.display.Markdown object>"
      ]
     },
     "metadata": {},
     "output_type": "display_data"
    },
    {
     "data": {
      "text/markdown": [
       "**=== aussagen negieren ===**"
      ],
      "text/plain": [
       "<IPython.core.display.Markdown object>"
      ]
     },
     "metadata": {},
     "output_type": "display_data"
    },
    {
     "data": {
      "text/markdown": [
       "aussagen negieren"
      ],
      "text/plain": [
       "<IPython.core.display.Markdown object>"
      ]
     },
     "metadata": {},
     "output_type": "display_data"
    },
    {
     "data": {
      "text/markdown": [
       "**=== aussagenlogik ===**"
      ],
      "text/plain": [
       "<IPython.core.display.Markdown object>"
      ]
     },
     "metadata": {},
     "output_type": "display_data"
    },
    {
     "data": {
      "text/markdown": [
       "aussagenlogik"
      ],
      "text/plain": [
       "<IPython.core.display.Markdown object>"
      ]
     },
     "metadata": {},
     "output_type": "display_data"
    },
    {
     "data": {
      "text/markdown": [
       "**=== ausschöpfungen, dynkin-systeme, eindeutigkeitssatz ===**"
      ],
      "text/plain": [
       "<IPython.core.display.Markdown object>"
      ]
     },
     "metadata": {},
     "output_type": "display_data"
    },
    {
     "data": {
      "text/markdown": [
       "ausschöpfungen"
      ],
      "text/plain": [
       "<IPython.core.display.Markdown object>"
      ]
     },
     "metadata": {},
     "output_type": "display_data"
    },
    {
     "data": {
      "text/markdown": [
       "dynkin-systeme"
      ],
      "text/plain": [
       "<IPython.core.display.Markdown object>"
      ]
     },
     "metadata": {},
     "output_type": "display_data"
    },
    {
     "data": {
      "text/markdown": [
       "eindeutigkeitssatz"
      ],
      "text/plain": [
       "<IPython.core.display.Markdown object>"
      ]
     },
     "metadata": {},
     "output_type": "display_data"
    },
    {
     "data": {
      "text/markdown": [
       "**=== austauschlemma und austauschsatz von steinitz ===**"
      ],
      "text/plain": [
       "<IPython.core.display.Markdown object>"
      ]
     },
     "metadata": {},
     "output_type": "display_data"
    },
    {
     "data": {
      "text/markdown": [
       "austauschlemma austauschsatz steinitz"
      ],
      "text/plain": [
       "<IPython.core.display.Markdown object>"
      ]
     },
     "metadata": {},
     "output_type": "display_data"
    },
    {
     "data": {
      "text/markdown": [
       "**=== axiomatische mengenlehre ===**"
      ],
      "text/plain": [
       "<IPython.core.display.Markdown object>"
      ]
     },
     "metadata": {},
     "output_type": "display_data"
    },
    {
     "data": {
      "text/markdown": [
       "axiomatische mengenlehre"
      ],
      "text/plain": [
       "<IPython.core.display.Markdown object>"
      ]
     },
     "metadata": {},
     "output_type": "display_data"
    },
    {
     "data": {
      "text/markdown": [
       "**=== basis eines vektorraums ===**"
      ],
      "text/plain": [
       "<IPython.core.display.Markdown object>"
      ]
     },
     "metadata": {},
     "output_type": "display_data"
    },
    {
     "data": {
      "text/markdown": [
       "basis vektorraums"
      ],
      "text/plain": [
       "<IPython.core.display.Markdown object>"
      ]
     },
     "metadata": {},
     "output_type": "display_data"
    },
    {
     "data": {
      "text/markdown": [
       "**=== basiswechselmatrizen ===**"
      ],
      "text/plain": [
       "<IPython.core.display.Markdown object>"
      ]
     },
     "metadata": {},
     "output_type": "display_data"
    },
    {
     "data": {
      "text/markdown": [
       "basiswechselmatrizen"
      ],
      "text/plain": [
       "<IPython.core.display.Markdown object>"
      ]
     },
     "metadata": {},
     "output_type": "display_data"
    },
    {
     "data": {
      "text/markdown": [
       "**=== beispiele für ableitungen ===**"
      ],
      "text/plain": [
       "<IPython.core.display.Markdown object>"
      ]
     },
     "metadata": {},
     "output_type": "display_data"
    },
    {
     "data": {
      "text/markdown": [
       "beispiele ableitungen"
      ],
      "text/plain": [
       "<IPython.core.display.Markdown object>"
      ]
     },
     "metadata": {},
     "output_type": "display_data"
    },
    {
     "data": {
      "text/markdown": [
       "**=== beispiele für integrale ===**"
      ],
      "text/plain": [
       "<IPython.core.display.Markdown object>"
      ]
     },
     "metadata": {},
     "output_type": "display_data"
    },
    {
     "data": {
      "text/markdown": [
       "beispiele integral"
      ],
      "text/plain": [
       "<IPython.core.display.Markdown object>"
      ]
     },
     "metadata": {},
     "output_type": "display_data"
    },
    {
     "data": {
      "text/markdown": [
       "**=== beispiele und eigenschaften von folgen ===**"
      ],
      "text/plain": [
       "<IPython.core.display.Markdown object>"
      ]
     },
     "metadata": {},
     "output_type": "display_data"
    },
    {
     "data": {
      "text/markdown": [
       "beispiele folgen"
      ],
      "text/plain": [
       "<IPython.core.display.Markdown object>"
      ]
     },
     "metadata": {},
     "output_type": "display_data"
    },
    {
     "data": {
      "text/markdown": [
       "eigenschaften folgen"
      ],
      "text/plain": [
       "<IPython.core.display.Markdown object>"
      ]
     },
     "metadata": {},
     "output_type": "display_data"
    },
    {
     "data": {
      "text/markdown": [
       "**=== bernoulli-ungleichung ===**"
      ],
      "text/plain": [
       "<IPython.core.display.Markdown object>"
      ]
     },
     "metadata": {},
     "output_type": "display_data"
    },
    {
     "data": {
      "text/markdown": [
       "bernoulli-ungleichung"
      ],
      "text/plain": [
       "<IPython.core.display.Markdown object>"
      ]
     },
     "metadata": {},
     "output_type": "display_data"
    },
    {
     "data": {
      "text/markdown": [
       "**=== beschränkte reihen und konvergenz ===**"
      ],
      "text/plain": [
       "<IPython.core.display.Markdown object>"
      ]
     },
     "metadata": {},
     "output_type": "display_data"
    },
    {
     "data": {
      "text/markdown": [
       "beschränkte reihen konvergenz"
      ],
      "text/plain": [
       "<IPython.core.display.Markdown object>"
      ]
     },
     "metadata": {},
     "output_type": "display_data"
    },
    {
     "data": {
      "text/markdown": [
       "beschränke reihen"
      ],
      "text/plain": [
       "<IPython.core.display.Markdown object>"
      ]
     },
     "metadata": {},
     "output_type": "display_data"
    },
    {
     "data": {
      "text/markdown": [
       "**=== bestimmte divergenz, uneigentliche konvergenz ===**"
      ],
      "text/plain": [
       "<IPython.core.display.Markdown object>"
      ]
     },
     "metadata": {},
     "output_type": "display_data"
    },
    {
     "data": {
      "text/markdown": [
       "bestimmte divergenz"
      ],
      "text/plain": [
       "<IPython.core.display.Markdown object>"
      ]
     },
     "metadata": {},
     "output_type": "display_data"
    },
    {
     "data": {
      "text/markdown": [
       "uneigentliche konvergenz"
      ],
      "text/plain": [
       "<IPython.core.display.Markdown object>"
      ]
     },
     "metadata": {},
     "output_type": "display_data"
    },
    {
     "data": {
      "text/markdown": [
       "**=== betrag, maximum und minimum ===**"
      ],
      "text/plain": [
       "<IPython.core.display.Markdown object>"
      ]
     },
     "metadata": {},
     "output_type": "display_data"
    },
    {
     "data": {
      "text/markdown": [
       "betrag"
      ],
      "text/plain": [
       "<IPython.core.display.Markdown object>"
      ]
     },
     "metadata": {},
     "output_type": "display_data"
    },
    {
     "data": {
      "text/markdown": [
       "maximum minimum"
      ],
      "text/plain": [
       "<IPython.core.display.Markdown object>"
      ]
     },
     "metadata": {},
     "output_type": "display_data"
    },
    {
     "data": {
      "text/markdown": [
       "**=== beweis ===**"
      ],
      "text/plain": [
       "<IPython.core.display.Markdown object>"
      ]
     },
     "metadata": {},
     "output_type": "display_data"
    },
    {
     "data": {
      "text/markdown": [
       "beweis"
      ],
      "text/plain": [
       "<IPython.core.display.Markdown object>"
      ]
     },
     "metadata": {},
     "output_type": "display_data"
    },
    {
     "data": {
      "text/markdown": [
       "**=== beweise für vektorräume führen ===**"
      ],
      "text/plain": [
       "<IPython.core.display.Markdown object>"
      ]
     },
     "metadata": {},
     "output_type": "display_data"
    },
    {
     "data": {
      "text/markdown": [
       "beweise vektorräume"
      ],
      "text/plain": [
       "<IPython.core.display.Markdown object>"
      ]
     },
     "metadata": {},
     "output_type": "display_data"
    },
    {
     "data": {
      "text/markdown": [
       "**=== beweise für lineare abbildungen führen ===**"
      ],
      "text/plain": [
       "<IPython.core.display.Markdown object>"
      ]
     },
     "metadata": {},
     "output_type": "display_data"
    },
    {
     "data": {
      "text/markdown": [
       "beweise lineare abbildungen"
      ],
      "text/plain": [
       "<IPython.core.display.Markdown object>"
      ]
     },
     "metadata": {},
     "output_type": "display_data"
    },
    {
     "data": {
      "text/markdown": [
       "**=== binomialkoeffizient ===**"
      ],
      "text/plain": [
       "<IPython.core.display.Markdown object>"
      ]
     },
     "metadata": {},
     "output_type": "display_data"
    },
    {
     "data": {
      "text/markdown": [
       "binomialkoeffizient"
      ],
      "text/plain": [
       "<IPython.core.display.Markdown object>"
      ]
     },
     "metadata": {},
     "output_type": "display_data"
    },
    {
     "data": {
      "text/markdown": [
       "**=== binomialkoeffizient: rechenregeln ===**"
      ],
      "text/plain": [
       "<IPython.core.display.Markdown object>"
      ]
     },
     "metadata": {},
     "output_type": "display_data"
    },
    {
     "data": {
      "text/markdown": [
       "rechenregeln binomialkoeffizient"
      ],
      "text/plain": [
       "<IPython.core.display.Markdown object>"
      ]
     },
     "metadata": {},
     "output_type": "display_data"
    },
    {
     "data": {
      "text/markdown": [
       "**=== binomischer lehrsatz ===**"
      ],
      "text/plain": [
       "<IPython.core.display.Markdown object>"
      ]
     },
     "metadata": {},
     "output_type": "display_data"
    },
    {
     "data": {
      "text/markdown": [
       "binomischer lehrsatz"
      ],
      "text/plain": [
       "<IPython.core.display.Markdown object>"
      ]
     },
     "metadata": {},
     "output_type": "display_data"
    },
    {
     "data": {
      "text/markdown": [
       "**=== binäre relation ===**"
      ],
      "text/plain": [
       "<IPython.core.display.Markdown object>"
      ]
     },
     "metadata": {},
     "output_type": "display_data"
    },
    {
     "data": {
      "text/markdown": [
       "binäre relation"
      ],
      "text/plain": [
       "<IPython.core.display.Markdown object>"
      ]
     },
     "metadata": {},
     "output_type": "display_data"
    },
    {
     "data": {
      "text/markdown": [
       "**=== boolesche algebra ===**"
      ],
      "text/plain": [
       "<IPython.core.display.Markdown object>"
      ]
     },
     "metadata": {},
     "output_type": "display_data"
    },
    {
     "data": {
      "text/markdown": [
       "boolesche algebra"
      ],
      "text/plain": [
       "<IPython.core.display.Markdown object>"
      ]
     },
     "metadata": {},
     "output_type": "display_data"
    },
    {
     "data": {
      "text/markdown": [
       "**=== cauchy-folgen und das cauchy-kriterium ===**"
      ],
      "text/plain": [
       "<IPython.core.display.Markdown object>"
      ]
     },
     "metadata": {},
     "output_type": "display_data"
    },
    {
     "data": {
      "text/markdown": [
       "cauchy-folgen cauchy-kriterium"
      ],
      "text/plain": [
       "<IPython.core.display.Markdown object>"
      ]
     },
     "metadata": {},
     "output_type": "display_data"
    },
    {
     "data": {
      "text/markdown": [
       "**=== cauchy-kriterium für reihen ===**"
      ],
      "text/plain": [
       "<IPython.core.display.Markdown object>"
      ]
     },
     "metadata": {},
     "output_type": "display_data"
    },
    {
     "data": {
      "text/markdown": [
       "cauchy-kriterium reihen"
      ],
      "text/plain": [
       "<IPython.core.display.Markdown object>"
      ]
     },
     "metadata": {},
     "output_type": "display_data"
    },
    {
     "data": {
      "text/markdown": [
       "**=== cauchysches verdichtungskriterium ===**"
      ],
      "text/plain": [
       "<IPython.core.display.Markdown object>"
      ]
     },
     "metadata": {},
     "output_type": "display_data"
    },
    {
     "data": {
      "text/markdown": [
       "cauchysches verdichtungskriterium"
      ],
      "text/plain": [
       "<IPython.core.display.Markdown object>"
      ]
     },
     "metadata": {},
     "output_type": "display_data"
    },
    {
     "data": {
      "text/markdown": [
       "**=== cramer'sche regel ===**"
      ],
      "text/plain": [
       "<IPython.core.display.Markdown object>"
      ]
     },
     "metadata": {},
     "output_type": "display_data"
    },
    {
     "data": {
      "text/markdown": [
       "cramer'sche regel"
      ],
      "text/plain": [
       "<IPython.core.display.Markdown object>"
      ]
     },
     "metadata": {},
     "output_type": "display_data"
    },
    {
     "data": {
      "text/markdown": [
       "**=== definition der matrix ===**"
      ],
      "text/plain": [
       "<IPython.core.display.Markdown object>"
      ]
     },
     "metadata": {},
     "output_type": "display_data"
    },
    {
     "data": {
      "text/markdown": [
       "definition matrix"
      ],
      "text/plain": [
       "<IPython.core.display.Markdown object>"
      ]
     },
     "metadata": {},
     "output_type": "display_data"
    },
    {
     "data": {
      "text/markdown": [
       "**=== der körper als vektorraum ===**"
      ],
      "text/plain": [
       "<IPython.core.display.Markdown object>"
      ]
     },
     "metadata": {},
     "output_type": "display_data"
    },
    {
     "data": {
      "text/markdown": [
       "körper vektorraum"
      ],
      "text/plain": [
       "<IPython.core.display.Markdown object>"
      ]
     },
     "metadata": {},
     "output_type": "display_data"
    },
    {
     "data": {
      "text/markdown": [
       "**=== determinante besonderer matrizen ===**"
      ],
      "text/plain": [
       "<IPython.core.display.Markdown object>"
      ]
     },
     "metadata": {},
     "output_type": "display_data"
    },
    {
     "data": {
      "text/markdown": [
       "determinante matrizen"
      ],
      "text/plain": [
       "<IPython.core.display.Markdown object>"
      ]
     },
     "metadata": {},
     "output_type": "display_data"
    },
    {
     "data": {
      "text/markdown": [
       "**=== determinante einer abbildung ===**"
      ],
      "text/plain": [
       "<IPython.core.display.Markdown object>"
      ]
     },
     "metadata": {},
     "output_type": "display_data"
    },
    {
     "data": {
      "text/markdown": [
       "determinante abbildung"
      ],
      "text/plain": [
       "<IPython.core.display.Markdown object>"
      ]
     },
     "metadata": {},
     "output_type": "display_data"
    },
    {
     "data": {
      "text/markdown": [
       "**=== determinanten ===**"
      ],
      "text/plain": [
       "<IPython.core.display.Markdown object>"
      ]
     },
     "metadata": {},
     "output_type": "display_data"
    },
    {
     "data": {
      "text/markdown": [
       "determinanten"
      ],
      "text/plain": [
       "<IPython.core.display.Markdown object>"
      ]
     },
     "metadata": {},
     "output_type": "display_data"
    },
    {
     "data": {
      "text/markdown": [
       "**=== die logarithmusfunktion ===**"
      ],
      "text/plain": [
       "<IPython.core.display.Markdown object>"
      ]
     },
     "metadata": {},
     "output_type": "display_data"
    },
    {
     "data": {
      "text/markdown": [
       "logarithmusfunktion"
      ],
      "text/plain": [
       "<IPython.core.display.Markdown object>"
      ]
     },
     "metadata": {},
     "output_type": "display_data"
    },
    {
     "data": {
      "text/markdown": [
       "**=== differenz, symmetrische differenz und komplement ===**"
      ],
      "text/plain": [
       "<IPython.core.display.Markdown object>"
      ]
     },
     "metadata": {},
     "output_type": "display_data"
    },
    {
     "data": {
      "text/markdown": [
       "differenz"
      ],
      "text/plain": [
       "<IPython.core.display.Markdown object>"
      ]
     },
     "metadata": {},
     "output_type": "display_data"
    },
    {
     "data": {
      "text/markdown": [
       "symmetrische differenz komplement"
      ],
      "text/plain": [
       "<IPython.core.display.Markdown object>"
      ]
     },
     "metadata": {},
     "output_type": "display_data"
    },
    {
     "data": {
      "text/markdown": [
       "**=== dimension eines vektorraums ===**"
      ],
      "text/plain": [
       "<IPython.core.display.Markdown object>"
      ]
     },
     "metadata": {},
     "output_type": "display_data"
    },
    {
     "data": {
      "text/markdown": [
       "dimension vektorraums"
      ],
      "text/plain": [
       "<IPython.core.display.Markdown object>"
      ]
     },
     "metadata": {},
     "output_type": "display_data"
    },
    {
     "data": {
      "text/markdown": [
       "**=== dimensionsformel ===**"
      ],
      "text/plain": [
       "<IPython.core.display.Markdown object>"
      ]
     },
     "metadata": {},
     "output_type": "display_data"
    },
    {
     "data": {
      "text/markdown": [
       "dimensionsformel"
      ],
      "text/plain": [
       "<IPython.core.display.Markdown object>"
      ]
     },
     "metadata": {},
     "output_type": "display_data"
    },
    {
     "data": {
      "text/markdown": [
       "**=== direkter und indirekter beweis ===**"
      ],
      "text/plain": [
       "<IPython.core.display.Markdown object>"
      ]
     },
     "metadata": {},
     "output_type": "display_data"
    },
    {
     "data": {
      "text/markdown": [
       "direkter beweis"
      ],
      "text/plain": [
       "<IPython.core.display.Markdown object>"
      ]
     },
     "metadata": {},
     "output_type": "display_data"
    },
    {
     "data": {
      "text/markdown": [
       "indirekter beweis"
      ],
      "text/plain": [
       "<IPython.core.display.Markdown object>"
      ]
     },
     "metadata": {},
     "output_type": "display_data"
    },
    {
     "data": {
      "text/markdown": [
       "**=== disjunkte mengen und paarweise disjunkte mengensysteme ===**"
      ],
      "text/plain": [
       "<IPython.core.display.Markdown object>"
      ]
     },
     "metadata": {},
     "output_type": "display_data"
    },
    {
     "data": {
      "text/markdown": [
       "disjunkte mengen paarweise disjunkte mengensysteme"
      ],
      "text/plain": [
       "<IPython.core.display.Markdown object>"
      ]
     },
     "metadata": {},
     "output_type": "display_data"
    },
    {
     "data": {
      "text/markdown": [
       "**=== dualraum ===**"
      ],
      "text/plain": [
       "<IPython.core.display.Markdown object>"
      ]
     },
     "metadata": {},
     "output_type": "display_data"
    },
    {
     "data": {
      "text/markdown": [
       "dualraum"
      ],
      "text/plain": [
       "<IPython.core.display.Markdown object>"
      ]
     },
     "metadata": {},
     "output_type": "display_data"
    },
    {
     "data": {
      "text/markdown": [
       "**=== durchschnitt von mengen ===**"
      ],
      "text/plain": [
       "<IPython.core.display.Markdown object>"
      ]
     },
     "metadata": {},
     "output_type": "display_data"
    },
    {
     "data": {
      "text/markdown": [
       "durchschnitt mengen"
      ],
      "text/plain": [
       "<IPython.core.display.Markdown object>"
      ]
     },
     "metadata": {},
     "output_type": "display_data"
    },
    {
     "data": {
      "text/markdown": [
       "**=== eigenschaften linearer abbildungen ===**"
      ],
      "text/plain": [
       "<IPython.core.display.Markdown object>"
      ]
     },
     "metadata": {},
     "output_type": "display_data"
    },
    {
     "data": {
      "text/markdown": [
       "eigenschaften linearer abbildungen"
      ],
      "text/plain": [
       "<IPython.core.display.Markdown object>"
      ]
     },
     "metadata": {},
     "output_type": "display_data"
    },
    {
     "data": {
      "text/markdown": [
       "**=== eigenschaften binärer relationen ===**"
      ],
      "text/plain": [
       "<IPython.core.display.Markdown object>"
      ]
     },
     "metadata": {},
     "output_type": "display_data"
    },
    {
     "data": {
      "text/markdown": [
       "eigenschaften binärer relationen"
      ],
      "text/plain": [
       "<IPython.core.display.Markdown object>"
      ]
     },
     "metadata": {},
     "output_type": "display_data"
    },
    {
     "data": {
      "text/markdown": [
       "**=== eigenschaften der determinante ===**"
      ],
      "text/plain": [
       "<IPython.core.display.Markdown object>"
      ]
     },
     "metadata": {},
     "output_type": "display_data"
    },
    {
     "data": {
      "text/markdown": [
       "eigenschaften determinante"
      ],
      "text/plain": [
       "<IPython.core.display.Markdown object>"
      ]
     },
     "metadata": {},
     "output_type": "display_data"
    },
    {
     "data": {
      "text/markdown": [
       "**=== eigenschaften der exponentialfunktion ===**"
      ],
      "text/plain": [
       "<IPython.core.display.Markdown object>"
      ]
     },
     "metadata": {},
     "output_type": "display_data"
    },
    {
     "data": {
      "text/markdown": [
       "eigenschaften exponentialfunktion"
      ],
      "text/plain": [
       "<IPython.core.display.Markdown object>"
      ]
     },
     "metadata": {},
     "output_type": "display_data"
    },
    {
     "data": {
      "text/markdown": [
       "**=== eigenschaften des riemannintegrals ===**"
      ],
      "text/plain": [
       "<IPython.core.display.Markdown object>"
      ]
     },
     "metadata": {},
     "output_type": "display_data"
    },
    {
     "data": {
      "text/markdown": [
       "eigenschaften riemannintegrals"
      ],
      "text/plain": [
       "<IPython.core.display.Markdown object>"
      ]
     },
     "metadata": {},
     "output_type": "display_data"
    },
    {
     "data": {
      "text/markdown": [
       "**=== eigenschaften des sinus und kosinus ===**"
      ],
      "text/plain": [
       "<IPython.core.display.Markdown object>"
      ]
     },
     "metadata": {},
     "output_type": "display_data"
    },
    {
     "data": {
      "text/markdown": [
       "eigenschaften sinus"
      ],
      "text/plain": [
       "<IPython.core.display.Markdown object>"
      ]
     },
     "metadata": {},
     "output_type": "display_data"
    },
    {
     "data": {
      "text/markdown": [
       "eigenschaften kosinus"
      ],
      "text/plain": [
       "<IPython.core.display.Markdown object>"
      ]
     },
     "metadata": {},
     "output_type": "display_data"
    },
    {
     "data": {
      "text/markdown": [
       "**=== eigenschaften für summe und produkt ===**"
      ],
      "text/plain": [
       "<IPython.core.display.Markdown object>"
      ]
     },
     "metadata": {},
     "output_type": "display_data"
    },
    {
     "data": {
      "text/markdown": [
       "eigenschaften summe produkt"
      ],
      "text/plain": [
       "<IPython.core.display.Markdown object>"
      ]
     },
     "metadata": {},
     "output_type": "display_data"
    },
    {
     "data": {
      "text/markdown": [
       "**=== einführung in den vektorraum ===**"
      ],
      "text/plain": [
       "<IPython.core.display.Markdown object>"
      ]
     },
     "metadata": {},
     "output_type": "display_data"
    },
    {
     "data": {
      "text/markdown": [
       "vektorraum"
      ],
      "text/plain": [
       "<IPython.core.display.Markdown object>"
      ]
     },
     "metadata": {},
     "output_type": "display_data"
    },
    {
     "data": {
      "text/markdown": [
       "**=== einführung in die maßtheorie ===**"
      ],
      "text/plain": [
       "<IPython.core.display.Markdown object>"
      ]
     },
     "metadata": {},
     "output_type": "display_data"
    },
    {
     "data": {
      "text/markdown": [
       "maßtheorie"
      ],
      "text/plain": [
       "<IPython.core.display.Markdown object>"
      ]
     },
     "metadata": {},
     "output_type": "display_data"
    },
    {
     "data": {
      "text/markdown": [
       "**=== endomorphismus, automorphismus ===**"
      ],
      "text/plain": [
       "<IPython.core.display.Markdown object>"
      ]
     },
     "metadata": {},
     "output_type": "display_data"
    },
    {
     "data": {
      "text/markdown": [
       "endomorphismus"
      ],
      "text/plain": [
       "<IPython.core.display.Markdown object>"
      ]
     },
     "metadata": {},
     "output_type": "display_data"
    },
    {
     "data": {
      "text/markdown": [
       "automorphismus"
      ],
      "text/plain": [
       "<IPython.core.display.Markdown object>"
      ]
     },
     "metadata": {},
     "output_type": "display_data"
    },
    {
     "data": {
      "text/markdown": [
       "**=== epimorphismus lineare algebra ===**"
      ],
      "text/plain": [
       "<IPython.core.display.Markdown object>"
      ]
     },
     "metadata": {},
     "output_type": "display_data"
    },
    {
     "data": {
      "text/markdown": [
       "epimorphismus lineare algebra"
      ],
      "text/plain": [
       "<IPython.core.display.Markdown object>"
      ]
     },
     "metadata": {},
     "output_type": "display_data"
    },
    {
     "data": {
      "text/markdown": [
       "**=== epsilon-delta-kriterium der stetigkeit ===**"
      ],
      "text/plain": [
       "<IPython.core.display.Markdown object>"
      ]
     },
     "metadata": {},
     "output_type": "display_data"
    },
    {
     "data": {
      "text/markdown": [
       "epsilon-delta-kriterium stetigkeit"
      ],
      "text/plain": [
       "<IPython.core.display.Markdown object>"
      ]
     },
     "metadata": {},
     "output_type": "display_data"
    },
    {
     "data": {
      "text/markdown": [
       "**=== erzeugendensystem ===**"
      ],
      "text/plain": [
       "<IPython.core.display.Markdown object>"
      ]
     },
     "metadata": {},
     "output_type": "display_data"
    },
    {
     "data": {
      "text/markdown": [
       "erzeugendensystem"
      ],
      "text/plain": [
       "<IPython.core.display.Markdown object>"
      ]
     },
     "metadata": {},
     "output_type": "display_data"
    },
    {
     "data": {
      "text/markdown": [
       "**=== erzeugte sigma-algebren ===**"
      ],
      "text/plain": [
       "<IPython.core.display.Markdown object>"
      ]
     },
     "metadata": {},
     "output_type": "display_data"
    },
    {
     "data": {
      "text/markdown": [
       "erzeugte sigma-algebren"
      ],
      "text/plain": [
       "<IPython.core.display.Markdown object>"
      ]
     },
     "metadata": {},
     "output_type": "display_data"
    },
    {
     "data": {
      "text/markdown": [
       "**=== explizite und rekursive bildungsgesetze für folgen ===**"
      ],
      "text/plain": [
       "<IPython.core.display.Markdown object>"
      ]
     },
     "metadata": {},
     "output_type": "display_data"
    },
    {
     "data": {
      "text/markdown": [
       "explizite bildungsgesetze folgen"
      ],
      "text/plain": [
       "<IPython.core.display.Markdown object>"
      ]
     },
     "metadata": {},
     "output_type": "display_data"
    },
    {
     "data": {
      "text/markdown": [
       "rekursive bildungsgesetze folgen"
      ],
      "text/plain": [
       "<IPython.core.display.Markdown object>"
      ]
     },
     "metadata": {},
     "output_type": "display_data"
    },
    {
     "data": {
      "text/markdown": [
       "**=== exponential- und logarithmusfunktion in den komplexen zahlen ===**"
      ],
      "text/plain": [
       "<IPython.core.display.Markdown object>"
      ]
     },
     "metadata": {},
     "output_type": "display_data"
    },
    {
     "data": {
      "text/markdown": [
       "exponentialfunktion komplexe zahlen"
      ],
      "text/plain": [
       "<IPython.core.display.Markdown object>"
      ]
     },
     "metadata": {},
     "output_type": "display_data"
    },
    {
     "data": {
      "text/markdown": [
       "logarithmusfunktion komplexe zahlen"
      ],
      "text/plain": [
       "<IPython.core.display.Markdown object>"
      ]
     },
     "metadata": {},
     "output_type": "display_data"
    },
    {
     "data": {
      "text/markdown": [
       "**=== faktorraum, quotientenraum ===**"
      ],
      "text/plain": [
       "<IPython.core.display.Markdown object>"
      ]
     },
     "metadata": {},
     "output_type": "display_data"
    },
    {
     "data": {
      "text/markdown": [
       "faktorraum"
      ],
      "text/plain": [
       "<IPython.core.display.Markdown object>"
      ]
     },
     "metadata": {},
     "output_type": "display_data"
    },
    {
     "data": {
      "text/markdown": [
       "quotientenraum"
      ],
      "text/plain": [
       "<IPython.core.display.Markdown object>"
      ]
     },
     "metadata": {},
     "output_type": "display_data"
    },
    {
     "data": {
      "text/markdown": [
       "**=== fakultät ===**"
      ],
      "text/plain": [
       "<IPython.core.display.Markdown object>"
      ]
     },
     "metadata": {},
     "output_type": "display_data"
    },
    {
     "data": {
      "text/markdown": [
       "fakultät"
      ],
      "text/plain": [
       "<IPython.core.display.Markdown object>"
      ]
     },
     "metadata": {},
     "output_type": "display_data"
    },
    {
     "data": {
      "text/markdown": [
       "**=== fallunterscheidung und kontraposition ===**"
      ],
      "text/plain": [
       "<IPython.core.display.Markdown object>"
      ]
     },
     "metadata": {},
     "output_type": "display_data"
    },
    {
     "data": {
      "text/markdown": [
       "fallunterscheidung kontraposition"
      ],
      "text/plain": [
       "<IPython.core.display.Markdown object>"
      ]
     },
     "metadata": {},
     "output_type": "display_data"
    },
    {
     "data": {
      "text/markdown": [
       "**=== folge ===**"
      ],
      "text/plain": [
       "<IPython.core.display.Markdown object>"
      ]
     },
     "metadata": {},
     "output_type": "display_data"
    },
    {
     "data": {
      "text/markdown": [
       "folge"
      ],
      "text/plain": [
       "<IPython.core.display.Markdown object>"
      ]
     },
     "metadata": {},
     "output_type": "display_data"
    },
    {
     "data": {
      "text/markdown": [
       "**=== folgenkriterium der stetigkeit: folgenstetigkeit ===**"
      ],
      "text/plain": [
       "<IPython.core.display.Markdown object>"
      ]
     },
     "metadata": {},
     "output_type": "display_data"
    },
    {
     "data": {
      "text/markdown": [
       "folgenkriterium stetigkeit"
      ],
      "text/plain": [
       "<IPython.core.display.Markdown object>"
      ]
     },
     "metadata": {},
     "output_type": "display_data"
    },
    {
     "data": {
      "text/markdown": [
       "folgenstetigkeit"
      ],
      "text/plain": [
       "<IPython.core.display.Markdown object>"
      ]
     },
     "metadata": {},
     "output_type": "display_data"
    },
    {
     "data": {
      "text/markdown": [
       "**=== folgenräume ===**"
      ],
      "text/plain": [
       "<IPython.core.display.Markdown object>"
      ]
     },
     "metadata": {},
     "output_type": "display_data"
    },
    {
     "data": {
      "text/markdown": [
       "folgenräume"
      ],
      "text/plain": [
       "<IPython.core.display.Markdown object>"
      ]
     },
     "metadata": {},
     "output_type": "display_data"
    },
    {
     "data": {
      "text/markdown": [
       "**=== folgerungen aus den körperaxiomen ===**"
      ],
      "text/plain": [
       "<IPython.core.display.Markdown object>"
      ]
     },
     "metadata": {},
     "output_type": "display_data"
    },
    {
     "data": {
      "text/markdown": [
       "folgerungen körperaxiomen"
      ],
      "text/plain": [
       "<IPython.core.display.Markdown object>"
      ]
     },
     "metadata": {},
     "output_type": "display_data"
    },
    {
     "data": {
      "text/markdown": [
       "**=== folgerungen der anordnungsaxiome ===**"
      ],
      "text/plain": [
       "<IPython.core.display.Markdown object>"
      ]
     },
     "metadata": {},
     "output_type": "display_data"
    },
    {
     "data": {
      "text/markdown": [
       "folgerungen anordnungsaxiome"
      ],
      "text/plain": [
       "<IPython.core.display.Markdown object>"
      ]
     },
     "metadata": {},
     "output_type": "display_data"
    },
    {
     "data": {
      "text/markdown": [
       "**=== formeln der mengenlehre ===**"
      ],
      "text/plain": [
       "<IPython.core.display.Markdown object>"
      ]
     },
     "metadata": {},
     "output_type": "display_data"
    },
    {
     "data": {
      "text/markdown": [
       "formeln mengenlehre"
      ],
      "text/plain": [
       "<IPython.core.display.Markdown object>"
      ]
     },
     "metadata": {},
     "output_type": "display_data"
    },
    {
     "data": {
      "text/markdown": [
       "**=== funktionsräume ===**"
      ],
      "text/plain": [
       "<IPython.core.display.Markdown object>"
      ]
     },
     "metadata": {},
     "output_type": "display_data"
    },
    {
     "data": {
      "text/markdown": [
       "funktionsräume"
      ],
      "text/plain": [
       "<IPython.core.display.Markdown object>"
      ]
     },
     "metadata": {},
     "output_type": "display_data"
    },
    {
     "data": {
      "text/markdown": [
       "**=== gaußsche summenformel ===**"
      ],
      "text/plain": [
       "<IPython.core.display.Markdown object>"
      ]
     },
     "metadata": {},
     "output_type": "display_data"
    },
    {
     "data": {
      "text/markdown": [
       "gaußsche summenformel"
      ],
      "text/plain": [
       "<IPython.core.display.Markdown object>"
      ]
     },
     "metadata": {},
     "output_type": "display_data"
    },
    {
     "data": {
      "text/markdown": [
       "**=== geometrische reihe ===**"
      ],
      "text/plain": [
       "<IPython.core.display.Markdown object>"
      ]
     },
     "metadata": {},
     "output_type": "display_data"
    },
    {
     "data": {
      "text/markdown": [
       "geometrische reihe"
      ],
      "text/plain": [
       "<IPython.core.display.Markdown object>"
      ]
     },
     "metadata": {},
     "output_type": "display_data"
    },
    {
     "data": {
      "text/markdown": [
       "**=== geometrische summenformel ===**"
      ],
      "text/plain": [
       "<IPython.core.display.Markdown object>"
      ]
     },
     "metadata": {},
     "output_type": "display_data"
    },
    {
     "data": {
      "text/markdown": [
       "geometrische summenformel"
      ],
      "text/plain": [
       "<IPython.core.display.Markdown object>"
      ]
     },
     "metadata": {},
     "output_type": "display_data"
    },
    {
     "data": {
      "text/markdown": [
       "**=== gesetze der logik ===**"
      ],
      "text/plain": [
       "<IPython.core.display.Markdown object>"
      ]
     },
     "metadata": {},
     "output_type": "display_data"
    },
    {
     "data": {
      "text/markdown": [
       "gesetze logik"
      ],
      "text/plain": [
       "<IPython.core.display.Markdown object>"
      ]
     },
     "metadata": {},
     "output_type": "display_data"
    },
    {
     "data": {
      "text/markdown": [
       "**=== gleichmäßige stetigkeit ===**"
      ],
      "text/plain": [
       "<IPython.core.display.Markdown object>"
      ]
     },
     "metadata": {},
     "output_type": "display_data"
    },
    {
     "data": {
      "text/markdown": [
       "gleichmäßige stetigkeit"
      ],
      "text/plain": [
       "<IPython.core.display.Markdown object>"
      ]
     },
     "metadata": {},
     "output_type": "display_data"
    },
    {
     "data": {
      "text/markdown": [
       "**=== gleichungen: umformungen ===**"
      ],
      "text/plain": [
       "<IPython.core.display.Markdown object>"
      ]
     },
     "metadata": {},
     "output_type": "display_data"
    },
    {
     "data": {
      "text/markdown": [
       "umformungen gleichungen"
      ],
      "text/plain": [
       "<IPython.core.display.Markdown object>"
      ]
     },
     "metadata": {},
     "output_type": "display_data"
    },
    {
     "data": {
      "text/markdown": [
       "**=== gleichungssysteme und matrizen ===**"
      ],
      "text/plain": [
       "<IPython.core.display.Markdown object>"
      ]
     },
     "metadata": {},
     "output_type": "display_data"
    },
    {
     "data": {
      "text/markdown": [
       "gleichungssysteme matrizen"
      ],
      "text/plain": [
       "<IPython.core.display.Markdown object>"
      ]
     },
     "metadata": {},
     "output_type": "display_data"
    },
    {
     "data": {
      "text/markdown": [
       "**=== grenzwert: beispiele ===**"
      ],
      "text/plain": [
       "<IPython.core.display.Markdown object>"
      ]
     },
     "metadata": {},
     "output_type": "display_data"
    },
    {
     "data": {
      "text/markdown": [
       "beispiele grenzwert"
      ],
      "text/plain": [
       "<IPython.core.display.Markdown object>"
      ]
     },
     "metadata": {},
     "output_type": "display_data"
    },
    {
     "data": {
      "text/markdown": [
       "**=== grenzwert: konvergenz und divergenz ===**"
      ],
      "text/plain": [
       "<IPython.core.display.Markdown object>"
      ]
     },
     "metadata": {},
     "output_type": "display_data"
    },
    {
     "data": {
      "text/markdown": [
       "grenzwert"
      ],
      "text/plain": [
       "<IPython.core.display.Markdown object>"
      ]
     },
     "metadata": {},
     "output_type": "display_data"
    },
    {
     "data": {
      "text/markdown": [
       "konvergenz"
      ],
      "text/plain": [
       "<IPython.core.display.Markdown object>"
      ]
     },
     "metadata": {},
     "output_type": "display_data"
    },
    {
     "data": {
      "text/markdown": [
       "divergenz"
      ],
      "text/plain": [
       "<IPython.core.display.Markdown object>"
      ]
     },
     "metadata": {},
     "output_type": "display_data"
    },
    {
     "data": {
      "text/markdown": [
       "**=== grenzwert von funktionen ===**"
      ],
      "text/plain": [
       "<IPython.core.display.Markdown object>"
      ]
     },
     "metadata": {},
     "output_type": "display_data"
    },
    {
     "data": {
      "text/markdown": [
       "grenzwert funktionen"
      ],
      "text/plain": [
       "<IPython.core.display.Markdown object>"
      ]
     },
     "metadata": {},
     "output_type": "display_data"
    },
    {
     "data": {
      "text/markdown": [
       "**=== grenzwertsätze: grenzwert von folgen berechnen ===**"
      ],
      "text/plain": [
       "<IPython.core.display.Markdown object>"
      ]
     },
     "metadata": {},
     "output_type": "display_data"
    },
    {
     "data": {
      "text/markdown": [
       "grenzwertsätze"
      ],
      "text/plain": [
       "<IPython.core.display.Markdown object>"
      ]
     },
     "metadata": {},
     "output_type": "display_data"
    },
    {
     "data": {
      "text/markdown": [
       "grenzwert berechnen"
      ],
      "text/plain": [
       "<IPython.core.display.Markdown object>"
      ]
     },
     "metadata": {},
     "output_type": "display_data"
    },
    {
     "data": {
      "text/markdown": [
       "**=== grundlagen der mathematik ===**"
      ],
      "text/plain": [
       "<IPython.core.display.Markdown object>"
      ]
     },
     "metadata": {},
     "output_type": "display_data"
    },
    {
     "data": {
      "text/markdown": [
       "grundlagen mathematik"
      ],
      "text/plain": [
       "<IPython.core.display.Markdown object>"
      ]
     },
     "metadata": {},
     "output_type": "display_data"
    },
    {
     "data": {
      "text/markdown": [
       "**=== grundlegende eigenschaften algebraischer strukturen ===**"
      ],
      "text/plain": [
       "<IPython.core.display.Markdown object>"
      ]
     },
     "metadata": {},
     "output_type": "display_data"
    },
    {
     "data": {
      "text/markdown": [
       "grundlegende eigenschaften algebraischer strukturen"
      ],
      "text/plain": [
       "<IPython.core.display.Markdown object>"
      ]
     },
     "metadata": {},
     "output_type": "display_data"
    },
    {
     "data": {
      "text/markdown": [
       "**=== gruppen ===**"
      ],
      "text/plain": [
       "<IPython.core.display.Markdown object>"
      ]
     },
     "metadata": {},
     "output_type": "display_data"
    },
    {
     "data": {
      "text/markdown": [
       "gruppen"
      ],
      "text/plain": [
       "<IPython.core.display.Markdown object>"
      ]
     },
     "metadata": {},
     "output_type": "display_data"
    },
    {
     "data": {
      "text/markdown": [
       "**=== harmonische reihe ===**"
      ],
      "text/plain": [
       "<IPython.core.display.Markdown object>"
      ]
     },
     "metadata": {},
     "output_type": "display_data"
    },
    {
     "data": {
      "text/markdown": [
       "harmonische reihe"
      ],
      "text/plain": [
       "<IPython.core.display.Markdown object>"
      ]
     },
     "metadata": {},
     "output_type": "display_data"
    },
    {
     "data": {
      "text/markdown": [
       "**=== hauptsatz der differential- und integralrechnung ===**"
      ],
      "text/plain": [
       "<IPython.core.display.Markdown object>"
      ]
     },
     "metadata": {},
     "output_type": "display_data"
    },
    {
     "data": {
      "text/markdown": [
       "hauptsatz differentialrechnung"
      ],
      "text/plain": [
       "<IPython.core.display.Markdown object>"
      ]
     },
     "metadata": {},
     "output_type": "display_data"
    },
    {
     "data": {
      "text/markdown": [
       "hauptsatz integralrechnung"
      ],
      "text/plain": [
       "<IPython.core.display.Markdown object>"
      ]
     },
     "metadata": {},
     "output_type": "display_data"
    },
    {
     "data": {
      "text/markdown": [
       "hauptsatz der differential- und integralrechnung"
      ],
      "text/plain": [
       "<IPython.core.display.Markdown object>"
      ]
     },
     "metadata": {},
     "output_type": "display_data"
    },
    {
     "data": {
      "text/markdown": [
       "**=== herleitung und definition der exponentialfunktion ===**"
      ],
      "text/plain": [
       "<IPython.core.display.Markdown object>"
      ]
     },
     "metadata": {},
     "output_type": "display_data"
    },
    {
     "data": {
      "text/markdown": [
       "herleitung exponentialfunktion"
      ],
      "text/plain": [
       "<IPython.core.display.Markdown object>"
      ]
     },
     "metadata": {},
     "output_type": "display_data"
    },
    {
     "data": {
      "text/markdown": [
       "definition exponentialfunktion"
      ],
      "text/plain": [
       "<IPython.core.display.Markdown object>"
      ]
     },
     "metadata": {},
     "output_type": "display_data"
    },
    {
     "data": {
      "text/markdown": [
       "**=== homomorphiesatz und isomorphiesatz ===**"
      ],
      "text/plain": [
       "<IPython.core.display.Markdown object>"
      ]
     },
     "metadata": {},
     "output_type": "display_data"
    },
    {
     "data": {
      "text/markdown": [
       "homomorphiesatz isomorphiesatz"
      ],
      "text/plain": [
       "<IPython.core.display.Markdown object>"
      ]
     },
     "metadata": {},
     "output_type": "display_data"
    },
    {
     "data": {
      "text/markdown": [
       "**=== häufungspunkt einer folge ===**"
      ],
      "text/plain": [
       "<IPython.core.display.Markdown object>"
      ]
     },
     "metadata": {},
     "output_type": "display_data"
    },
    {
     "data": {
      "text/markdown": [
       "häufungspunkt folge"
      ],
      "text/plain": [
       "<IPython.core.display.Markdown object>"
      ]
     },
     "metadata": {},
     "output_type": "display_data"
    },
    {
     "data": {
      "text/markdown": [
       "**=== häufungspunkt und berührpunkt einer menge ===**"
      ],
      "text/plain": [
       "<IPython.core.display.Markdown object>"
      ]
     },
     "metadata": {},
     "output_type": "display_data"
    },
    {
     "data": {
      "text/markdown": [
       "häufungspunkt menge"
      ],
      "text/plain": [
       "<IPython.core.display.Markdown object>"
      ]
     },
     "metadata": {},
     "output_type": "display_data"
    },
    {
     "data": {
      "text/markdown": [
       "berührpunkt menge"
      ],
      "text/plain": [
       "<IPython.core.display.Markdown object>"
      ]
     },
     "metadata": {},
     "output_type": "display_data"
    },
    {
     "data": {
      "text/markdown": [
       "**=== inhalte auf ringen ===**"
      ],
      "text/plain": [
       "<IPython.core.display.Markdown object>"
      ]
     },
     "metadata": {},
     "output_type": "display_data"
    },
    {
     "data": {
      "text/markdown": [
       "inhalte ringen"
      ],
      "text/plain": [
       "<IPython.core.display.Markdown object>"
      ]
     },
     "metadata": {},
     "output_type": "display_data"
    },
    {
     "data": {
      "text/markdown": [
       "**=== integral einer funktion ===**"
      ],
      "text/plain": [
       "<IPython.core.display.Markdown object>"
      ]
     },
     "metadata": {},
     "output_type": "display_data"
    },
    {
     "data": {
      "text/markdown": [
       "integral funktion"
      ],
      "text/plain": [
       "<IPython.core.display.Markdown object>"
      ]
     },
     "metadata": {},
     "output_type": "display_data"
    },
    {
     "data": {
      "text/markdown": [
       "**=== intervall ===**"
      ],
      "text/plain": [
       "<IPython.core.display.Markdown object>"
      ]
     },
     "metadata": {},
     "output_type": "display_data"
    },
    {
     "data": {
      "text/markdown": [
       "intervall"
      ],
      "text/plain": [
       "<IPython.core.display.Markdown object>"
      ]
     },
     "metadata": {},
     "output_type": "display_data"
    },
    {
     "data": {
      "text/markdown": [
       "**=== intervallschachtelung mit rationaler genauigkeit ===**"
      ],
      "text/plain": [
       "<IPython.core.display.Markdown object>"
      ]
     },
     "metadata": {},
     "output_type": "display_data"
    },
    {
     "data": {
      "text/markdown": [
       "intervallschachtelung rationaler genauigkeit"
      ],
      "text/plain": [
       "<IPython.core.display.Markdown object>"
      ]
     },
     "metadata": {},
     "output_type": "display_data"
    },
    {
     "data": {
      "text/markdown": [
       "**=== intuition hinter isomorphiesatz und dimensionsformel ===**"
      ],
      "text/plain": [
       "<IPython.core.display.Markdown object>"
      ]
     },
     "metadata": {},
     "output_type": "display_data"
    },
    {
     "data": {
      "text/markdown": [
       "isomorphiesatz"
      ],
      "text/plain": [
       "<IPython.core.display.Markdown object>"
      ]
     },
     "metadata": {},
     "output_type": "display_data"
    },
    {
     "data": {
      "text/markdown": [
       "**=== inverse matrizen ===**"
      ],
      "text/plain": [
       "<IPython.core.display.Markdown object>"
      ]
     },
     "metadata": {},
     "output_type": "display_data"
    },
    {
     "data": {
      "text/markdown": [
       "inverse matrizen"
      ],
      "text/plain": [
       "<IPython.core.display.Markdown object>"
      ]
     },
     "metadata": {},
     "output_type": "display_data"
    },
    {
     "data": {
      "text/markdown": [
       "**=== isomorphismus lineare algebra ===**"
      ],
      "text/plain": [
       "<IPython.core.display.Markdown object>"
      ]
     },
     "metadata": {},
     "output_type": "display_data"
    },
    {
     "data": {
      "text/markdown": [
       "isomorphismus lineare algebra"
      ],
      "text/plain": [
       "<IPython.core.display.Markdown object>"
      ]
     },
     "metadata": {},
     "output_type": "display_data"
    },
    {
     "data": {
      "text/markdown": [
       "**=== junktor ===**"
      ],
      "text/plain": [
       "<IPython.core.display.Markdown object>"
      ]
     },
     "metadata": {},
     "output_type": "display_data"
    },
    {
     "data": {
      "text/markdown": [
       "junktor"
      ],
      "text/plain": [
       "<IPython.core.display.Markdown object>"
      ]
     },
     "metadata": {},
     "output_type": "display_data"
    },
    {
     "data": {
      "text/markdown": [
       "**=== kartesisches produkt ===**"
      ],
      "text/plain": [
       "<IPython.core.display.Markdown object>"
      ]
     },
     "metadata": {},
     "output_type": "display_data"
    },
    {
     "data": {
      "text/markdown": [
       "kartesisches produkt"
      ],
      "text/plain": [
       "<IPython.core.display.Markdown object>"
      ]
     },
     "metadata": {},
     "output_type": "display_data"
    },
    {
     "data": {
      "text/markdown": [
       "**=== kern einer linearen abbildung ===**"
      ],
      "text/plain": [
       "<IPython.core.display.Markdown object>"
      ]
     },
     "metadata": {},
     "output_type": "display_data"
    },
    {
     "data": {
      "text/markdown": [
       "kern lineare abbildung"
      ],
      "text/plain": [
       "<IPython.core.display.Markdown object>"
      ]
     },
     "metadata": {},
     "output_type": "display_data"
    },
    {
     "data": {
      "text/markdown": [
       "**=== klassenlogik ===**"
      ],
      "text/plain": [
       "<IPython.core.display.Markdown object>"
      ]
     },
     "metadata": {},
     "output_type": "display_data"
    },
    {
     "data": {
      "text/markdown": [
       "klassenlogik"
      ],
      "text/plain": [
       "<IPython.core.display.Markdown object>"
      ]
     },
     "metadata": {},
     "output_type": "display_data"
    },
    {
     "data": {
      "text/markdown": [
       "**=== komplexe konjugation und betrag komplexer zahlen ===**"
      ],
      "text/plain": [
       "<IPython.core.display.Markdown object>"
      ]
     },
     "metadata": {},
     "output_type": "display_data"
    },
    {
     "data": {
      "text/markdown": [
       "komplexe konjugation betrag komplexer zahlen"
      ],
      "text/plain": [
       "<IPython.core.display.Markdown object>"
      ]
     },
     "metadata": {},
     "output_type": "display_data"
    },
    {
     "data": {
      "text/markdown": [
       "**=== komplexe zahlen: darstellung komplexwertiger funktionen ===**"
      ],
      "text/plain": [
       "<IPython.core.display.Markdown object>"
      ]
     },
     "metadata": {},
     "output_type": "display_data"
    },
    {
     "data": {
      "text/markdown": [
       "darstellung komplexwertiger funktionen komplexe zahlen"
      ],
      "text/plain": [
       "<IPython.core.display.Markdown object>"
      ]
     },
     "metadata": {},
     "output_type": "display_data"
    },
    {
     "data": {
      "text/markdown": [
       "**=== komplexe zahlen: einleitung und motivation ===**"
      ],
      "text/plain": [
       "<IPython.core.display.Markdown object>"
      ]
     },
     "metadata": {},
     "output_type": "display_data"
    },
    {
     "data": {
      "text/markdown": [
       "einleitung motivation komplexe zahlen"
      ],
      "text/plain": [
       "<IPython.core.display.Markdown object>"
      ]
     },
     "metadata": {},
     "output_type": "display_data"
    },
    {
     "data": {
      "text/markdown": [
       "**=== komplexen zahlen: definition ===**"
      ],
      "text/plain": [
       "<IPython.core.display.Markdown object>"
      ]
     },
     "metadata": {},
     "output_type": "display_data"
    },
    {
     "data": {
      "text/markdown": [
       "definition komplexe zahlen"
      ],
      "text/plain": [
       "<IPython.core.display.Markdown object>"
      ]
     },
     "metadata": {},
     "output_type": "display_data"
    },
    {
     "data": {
      "text/markdown": [
       "**=== komposition stetiger funktionen ===**"
      ],
      "text/plain": [
       "<IPython.core.display.Markdown object>"
      ]
     },
     "metadata": {},
     "output_type": "display_data"
    },
    {
     "data": {
      "text/markdown": [
       "komposition stetiger funktionen"
      ],
      "text/plain": [
       "<IPython.core.display.Markdown object>"
      ]
     },
     "metadata": {},
     "output_type": "display_data"
    },
    {
     "data": {
      "text/markdown": [
       "**=== konstanzkriterium: zusammenhang zwischen konstanz einer funktion und ihrer ableitung ===**"
      ],
      "text/plain": [
       "<IPython.core.display.Markdown object>"
      ]
     },
     "metadata": {},
     "output_type": "display_data"
    },
    {
     "data": {
      "text/markdown": [
       "konstanzkriterium"
      ],
      "text/plain": [
       "<IPython.core.display.Markdown object>"
      ]
     },
     "metadata": {},
     "output_type": "display_data"
    },
    {
     "data": {
      "text/markdown": [
       "konstante funktion ableitung"
      ],
      "text/plain": [
       "<IPython.core.display.Markdown object>"
      ]
     },
     "metadata": {},
     "output_type": "display_data"
    },
    {
     "data": {
      "text/markdown": [
       "**=== konstruktion von maßen ===**"
      ],
      "text/plain": [
       "<IPython.core.display.Markdown object>"
      ]
     },
     "metadata": {},
     "output_type": "display_data"
    },
    {
     "data": {
      "text/markdown": [
       "konstruktion maßen"
      ],
      "text/plain": [
       "<IPython.core.display.Markdown object>"
      ]
     },
     "metadata": {},
     "output_type": "display_data"
    },
    {
     "data": {
      "text/markdown": [
       "**=== konvergenz rekursiver folgen beweisen ===**"
      ],
      "text/plain": [
       "<IPython.core.display.Markdown object>"
      ]
     },
     "metadata": {},
     "output_type": "display_data"
    },
    {
     "data": {
      "text/markdown": [
       "konvergenz rekursiver folgen beweisen"
      ],
      "text/plain": [
       "<IPython.core.display.Markdown object>"
      ]
     },
     "metadata": {},
     "output_type": "display_data"
    },
    {
     "data": {
      "text/markdown": [
       "**=== konvergenz und divergenz beweisen ===**"
      ],
      "text/plain": [
       "<IPython.core.display.Markdown object>"
      ]
     },
     "metadata": {},
     "output_type": "display_data"
    },
    {
     "data": {
      "text/markdown": [
       "konvergenz beweis"
      ],
      "text/plain": [
       "<IPython.core.display.Markdown object>"
      ]
     },
     "metadata": {},
     "output_type": "display_data"
    },
    {
     "data": {
      "text/markdown": [
       "divergenz beweis"
      ],
      "text/plain": [
       "<IPython.core.display.Markdown object>"
      ]
     },
     "metadata": {},
     "output_type": "display_data"
    },
    {
     "data": {
      "text/markdown": [
       "**=== konvergenz und divergenz einer reihe beweisen: konvergenzkriterien ===**"
      ],
      "text/plain": [
       "<IPython.core.display.Markdown object>"
      ]
     },
     "metadata": {},
     "output_type": "display_data"
    },
    {
     "data": {
      "text/markdown": [
       "konvergenz reihe"
      ],
      "text/plain": [
       "<IPython.core.display.Markdown object>"
      ]
     },
     "metadata": {},
     "output_type": "display_data"
    },
    {
     "data": {
      "text/markdown": [
       "divergenz reihe"
      ],
      "text/plain": [
       "<IPython.core.display.Markdown object>"
      ]
     },
     "metadata": {},
     "output_type": "display_data"
    },
    {
     "data": {
      "text/markdown": [
       "konvergenzkriterien"
      ],
      "text/plain": [
       "<IPython.core.display.Markdown object>"
      ]
     },
     "metadata": {},
     "output_type": "display_data"
    },
    {
     "data": {
      "text/markdown": [
       "**=== koordinatenräume ===**"
      ],
      "text/plain": [
       "<IPython.core.display.Markdown object>"
      ]
     },
     "metadata": {},
     "output_type": "display_data"
    },
    {
     "data": {
      "text/markdown": [
       "koordinatenräume"
      ],
      "text/plain": [
       "<IPython.core.display.Markdown object>"
      ]
     },
     "metadata": {},
     "output_type": "display_data"
    },
    {
     "data": {
      "text/markdown": [
       "**=== körper ===**"
      ],
      "text/plain": [
       "<IPython.core.display.Markdown object>"
      ]
     },
     "metadata": {},
     "output_type": "display_data"
    },
    {
     "data": {
      "text/markdown": [
       "körper"
      ],
      "text/plain": [
       "<IPython.core.display.Markdown object>"
      ]
     },
     "metadata": {},
     "output_type": "display_data"
    },
    {
     "data": {
      "text/markdown": [
       "**=== körperaxiome ===**"
      ],
      "text/plain": [
       "<IPython.core.display.Markdown object>"
      ]
     },
     "metadata": {},
     "output_type": "display_data"
    },
    {
     "data": {
      "text/markdown": [
       "körperaxiome"
      ],
      "text/plain": [
       "<IPython.core.display.Markdown object>"
      ]
     },
     "metadata": {},
     "output_type": "display_data"
    },
    {
     "data": {
      "text/markdown": [
       "**=== laplacescher entwicklungssatz ===**"
      ],
      "text/plain": [
       "<IPython.core.display.Markdown object>"
      ]
     },
     "metadata": {},
     "output_type": "display_data"
    },
    {
     "data": {
      "text/markdown": [
       "laplacescher entwicklungssatz"
      ],
      "text/plain": [
       "<IPython.core.display.Markdown object>"
      ]
     },
     "metadata": {},
     "output_type": "display_data"
    },
    {
     "data": {
      "text/markdown": [
       "**=== leere menge und allklasse ===**"
      ],
      "text/plain": [
       "<IPython.core.display.Markdown object>"
      ]
     },
     "metadata": {},
     "output_type": "display_data"
    },
    {
     "data": {
      "text/markdown": [
       "leere menge allklasse"
      ],
      "text/plain": [
       "<IPython.core.display.Markdown object>"
      ]
     },
     "metadata": {},
     "output_type": "display_data"
    },
    {
     "data": {
      "text/markdown": [
       "**=== leibniz-formel der determinante ===**"
      ],
      "text/plain": [
       "<IPython.core.display.Markdown object>"
      ]
     },
     "metadata": {},
     "output_type": "display_data"
    },
    {
     "data": {
      "text/markdown": [
       "leibniz-formel"
      ],
      "text/plain": [
       "<IPython.core.display.Markdown object>"
      ]
     },
     "metadata": {},
     "output_type": "display_data"
    },
    {
     "data": {
      "text/markdown": [
       "**=== leibniz-kriterium ===**"
      ],
      "text/plain": [
       "<IPython.core.display.Markdown object>"
      ]
     },
     "metadata": {},
     "output_type": "display_data"
    },
    {
     "data": {
      "text/markdown": [
       "leibniz-kriterium"
      ],
      "text/plain": [
       "<IPython.core.display.Markdown object>"
      ]
     },
     "metadata": {},
     "output_type": "display_data"
    },
    {
     "data": {
      "text/markdown": [
       "**=== lim sup und lim inf ===**"
      ],
      "text/plain": [
       "<IPython.core.display.Markdown object>"
      ]
     },
     "metadata": {},
     "output_type": "display_data"
    },
    {
     "data": {
      "text/markdown": [
       "lim sup lim inf"
      ],
      "text/plain": [
       "<IPython.core.display.Markdown object>"
      ]
     },
     "metadata": {},
     "output_type": "display_data"
    },
    {
     "data": {
      "text/markdown": [
       "**=== lineare abbildung: bild ===**"
      ],
      "text/plain": [
       "<IPython.core.display.Markdown object>"
      ]
     },
     "metadata": {},
     "output_type": "display_data"
    },
    {
     "data": {
      "text/markdown": [
       "bild lineare abbildung"
      ],
      "text/plain": [
       "<IPython.core.display.Markdown object>"
      ]
     },
     "metadata": {},
     "output_type": "display_data"
    },
    {
     "data": {
      "text/markdown": [
       "**=== lineare abbildung und darstellende matrix ===**"
      ],
      "text/plain": [
       "<IPython.core.display.Markdown object>"
      ]
     },
     "metadata": {},
     "output_type": "display_data"
    },
    {
     "data": {
      "text/markdown": [
       "darstellende matrix"
      ],
      "text/plain": [
       "<IPython.core.display.Markdown object>"
      ]
     },
     "metadata": {},
     "output_type": "display_data"
    },
    {
     "data": {
      "text/markdown": [
       "darstellende matrix lineare abbildung"
      ],
      "text/plain": [
       "<IPython.core.display.Markdown object>"
      ]
     },
     "metadata": {},
     "output_type": "display_data"
    },
    {
     "data": {
      "text/markdown": [
       "**=== lineare abbildungen, homomorphismus ===**"
      ],
      "text/plain": [
       "<IPython.core.display.Markdown object>"
      ]
     },
     "metadata": {},
     "output_type": "display_data"
    },
    {
     "data": {
      "text/markdown": [
       "lineare abbildungen"
      ],
      "text/plain": [
       "<IPython.core.display.Markdown object>"
      ]
     },
     "metadata": {},
     "output_type": "display_data"
    },
    {
     "data": {
      "text/markdown": [
       "homomorphismus"
      ],
      "text/plain": [
       "<IPython.core.display.Markdown object>"
      ]
     },
     "metadata": {},
     "output_type": "display_data"
    },
    {
     "data": {
      "text/markdown": [
       "**=== lineare algebra 1 ===**"
      ],
      "text/plain": [
       "<IPython.core.display.Markdown object>"
      ]
     },
     "metadata": {},
     "output_type": "display_data"
    },
    {
     "data": {
      "text/markdown": [
       "lineare algebra 1"
      ],
      "text/plain": [
       "<IPython.core.display.Markdown object>"
      ]
     },
     "metadata": {},
     "output_type": "display_data"
    },
    {
     "data": {
      "text/markdown": [
       "**=== lineare unabhängigkeit von vektoren ===**"
      ],
      "text/plain": [
       "<IPython.core.display.Markdown object>"
      ]
     },
     "metadata": {},
     "output_type": "display_data"
    },
    {
     "data": {
      "text/markdown": [
       "lineare unabhängigkeit vektoren"
      ],
      "text/plain": [
       "<IPython.core.display.Markdown object>"
      ]
     },
     "metadata": {},
     "output_type": "display_data"
    },
    {
     "data": {
      "text/markdown": [
       "**=== linearkombinationen ===**"
      ],
      "text/plain": [
       "<IPython.core.display.Markdown object>"
      ]
     },
     "metadata": {},
     "output_type": "display_data"
    },
    {
     "data": {
      "text/markdown": [
       "linearkombinationen"
      ],
      "text/plain": [
       "<IPython.core.display.Markdown object>"
      ]
     },
     "metadata": {},
     "output_type": "display_data"
    },
    {
     "data": {
      "text/markdown": [
       "**=== lipschitz-stetigkeit ===**"
      ],
      "text/plain": [
       "<IPython.core.display.Markdown object>"
      ]
     },
     "metadata": {},
     "output_type": "display_data"
    },
    {
     "data": {
      "text/markdown": [
       "lipschitz-stetigkeit"
      ],
      "text/plain": [
       "<IPython.core.display.Markdown object>"
      ]
     },
     "metadata": {},
     "output_type": "display_data"
    },
    {
     "data": {
      "text/markdown": [
       "**=== logik und aussagen ===**"
      ],
      "text/plain": [
       "<IPython.core.display.Markdown object>"
      ]
     },
     "metadata": {},
     "output_type": "display_data"
    },
    {
     "data": {
      "text/markdown": [
       "logik aussagen"
      ],
      "text/plain": [
       "<IPython.core.display.Markdown object>"
      ]
     },
     "metadata": {},
     "output_type": "display_data"
    },
    {
     "data": {
      "text/markdown": [
       "**=== majorantenkriterium und minorantenkriterium ===**"
      ],
      "text/plain": [
       "<IPython.core.display.Markdown object>"
      ]
     },
     "metadata": {},
     "output_type": "display_data"
    },
    {
     "data": {
      "text/markdown": [
       "majorantenkriterium minorantenkriterium"
      ],
      "text/plain": [
       "<IPython.core.display.Markdown object>"
      ]
     },
     "metadata": {},
     "output_type": "display_data"
    },
    {
     "data": {
      "text/markdown": [
       "**=== matrizenmultiplikation ===**"
      ],
      "text/plain": [
       "<IPython.core.display.Markdown object>"
      ]
     },
     "metadata": {},
     "output_type": "display_data"
    },
    {
     "data": {
      "text/markdown": [
       "matrizenmultiplikation"
      ],
      "text/plain": [
       "<IPython.core.display.Markdown object>"
      ]
     },
     "metadata": {},
     "output_type": "display_data"
    },
    {
     "data": {
      "text/markdown": [
       "**=== mengendiagramme: euler- und venn-diagramm ===**"
      ],
      "text/plain": [
       "<IPython.core.display.Markdown object>"
      ]
     },
     "metadata": {},
     "output_type": "display_data"
    },
    {
     "data": {
      "text/markdown": [
       "mengendiagramm"
      ],
      "text/plain": [
       "<IPython.core.display.Markdown object>"
      ]
     },
     "metadata": {},
     "output_type": "display_data"
    },
    {
     "data": {
      "text/markdown": [
       "eulerdiagramm"
      ],
      "text/plain": [
       "<IPython.core.display.Markdown object>"
      ]
     },
     "metadata": {},
     "output_type": "display_data"
    },
    {
     "data": {
      "text/markdown": [
       "venn-diagramm"
      ],
      "text/plain": [
       "<IPython.core.display.Markdown object>"
      ]
     },
     "metadata": {},
     "output_type": "display_data"
    },
    {
     "data": {
      "text/markdown": [
       "**=== mengenlehre: menge ===**"
      ],
      "text/plain": [
       "<IPython.core.display.Markdown object>"
      ]
     },
     "metadata": {},
     "output_type": "display_data"
    },
    {
     "data": {
      "text/markdown": [
       "mengenlehre"
      ],
      "text/plain": [
       "<IPython.core.display.Markdown object>"
      ]
     },
     "metadata": {},
     "output_type": "display_data"
    },
    {
     "data": {
      "text/markdown": [
       "menge"
      ],
      "text/plain": [
       "<IPython.core.display.Markdown object>"
      ]
     },
     "metadata": {},
     "output_type": "display_data"
    },
    {
     "data": {
      "text/markdown": [
       "**=== mittelwertsatz ===**"
      ],
      "text/plain": [
       "<IPython.core.display.Markdown object>"
      ]
     },
     "metadata": {},
     "output_type": "display_data"
    },
    {
     "data": {
      "text/markdown": [
       "mittelwertsatz"
      ],
      "text/plain": [
       "<IPython.core.display.Markdown object>"
      ]
     },
     "metadata": {},
     "output_type": "display_data"
    },
    {
     "data": {
      "text/markdown": [
       "**=== mittelwertsatz für integrale ===**"
      ],
      "text/plain": [
       "<IPython.core.display.Markdown object>"
      ]
     },
     "metadata": {},
     "output_type": "display_data"
    },
    {
     "data": {
      "text/markdown": [
       "mittelwertsatz integral"
      ],
      "text/plain": [
       "<IPython.core.display.Markdown object>"
      ]
     },
     "metadata": {},
     "output_type": "display_data"
    },
    {
     "data": {
      "text/markdown": [
       "**=== monomorphismus lineare algebra ===**"
      ],
      "text/plain": [
       "<IPython.core.display.Markdown object>"
      ]
     },
     "metadata": {},
     "output_type": "display_data"
    },
    {
     "data": {
      "text/markdown": [
       "monomorphismus lineare algebra"
      ],
      "text/plain": [
       "<IPython.core.display.Markdown object>"
      ]
     },
     "metadata": {},
     "output_type": "display_data"
    },
    {
     "data": {
      "text/markdown": [
       "**=== monotoniekriterium: zusammenhang zwischen monotonie und ableitung einer funktion ===**"
      ],
      "text/plain": [
       "<IPython.core.display.Markdown object>"
      ]
     },
     "metadata": {},
     "output_type": "display_data"
    },
    {
     "data": {
      "text/markdown": [
       "monotoniekriterium"
      ],
      "text/plain": [
       "<IPython.core.display.Markdown object>"
      ]
     },
     "metadata": {},
     "output_type": "display_data"
    },
    {
     "data": {
      "text/markdown": [
       "monotonie ableitung"
      ],
      "text/plain": [
       "<IPython.core.display.Markdown object>"
      ]
     },
     "metadata": {},
     "output_type": "display_data"
    },
    {
     "data": {
      "text/markdown": [
       "**=== monotoniekriterium für folgen ===**"
      ],
      "text/plain": [
       "<IPython.core.display.Markdown object>"
      ]
     },
     "metadata": {},
     "output_type": "display_data"
    },
    {
     "data": {
      "text/markdown": [
       "monotoniekriterium folgen"
      ],
      "text/plain": [
       "<IPython.core.display.Markdown object>"
      ]
     },
     "metadata": {},
     "output_type": "display_data"
    },
    {
     "data": {
      "text/markdown": [
       "**=== mächtigkeit von mengen ===**"
      ],
      "text/plain": [
       "<IPython.core.display.Markdown object>"
      ]
     },
     "metadata": {},
     "output_type": "display_data"
    },
    {
     "data": {
      "text/markdown": [
       "mächtigkeit mengen"
      ],
      "text/plain": [
       "<IPython.core.display.Markdown object>"
      ]
     },
     "metadata": {},
     "output_type": "display_data"
    },
    {
     "data": {
      "text/markdown": [
       "**=== nebenklassen eines unterraums ===**"
      ],
      "text/plain": [
       "<IPython.core.display.Markdown object>"
      ]
     },
     "metadata": {},
     "output_type": "display_data"
    },
    {
     "data": {
      "text/markdown": [
       "nebenklassen unterraums"
      ],
      "text/plain": [
       "<IPython.core.display.Markdown object>"
      ]
     },
     "metadata": {},
     "output_type": "display_data"
    },
    {
     "data": {
      "text/markdown": [
       "**=== notwendige und hinreichende bedingungen ===**"
      ],
      "text/plain": [
       "<IPython.core.display.Markdown object>"
      ]
     },
     "metadata": {},
     "output_type": "display_data"
    },
    {
     "data": {
      "text/markdown": [
       "notwendige bedingung"
      ],
      "text/plain": [
       "<IPython.core.display.Markdown object>"
      ]
     },
     "metadata": {},
     "output_type": "display_data"
    },
    {
     "data": {
      "text/markdown": [
       "hinreichende bedingung"
      ],
      "text/plain": [
       "<IPython.core.display.Markdown object>"
      ]
     },
     "metadata": {},
     "output_type": "display_data"
    },
    {
     "data": {
      "text/markdown": [
       "**=== ordnungsrelation ===**"
      ],
      "text/plain": [
       "<IPython.core.display.Markdown object>"
      ]
     },
     "metadata": {},
     "output_type": "display_data"
    },
    {
     "data": {
      "text/markdown": [
       "ordnungsrelation"
      ],
      "text/plain": [
       "<IPython.core.display.Markdown object>"
      ]
     },
     "metadata": {},
     "output_type": "display_data"
    },
    {
     "data": {
      "text/markdown": [
       "**=== partielle integration ===**"
      ],
      "text/plain": [
       "<IPython.core.display.Markdown object>"
      ]
     },
     "metadata": {},
     "output_type": "display_data"
    },
    {
     "data": {
      "text/markdown": [
       "partielle integration"
      ],
      "text/plain": [
       "<IPython.core.display.Markdown object>"
      ]
     },
     "metadata": {},
     "output_type": "display_data"
    },
    {
     "data": {
      "text/markdown": [
       "**=== permutationen ===**"
      ],
      "text/plain": [
       "<IPython.core.display.Markdown object>"
      ]
     },
     "metadata": {},
     "output_type": "display_data"
    },
    {
     "data": {
      "text/markdown": [
       "permutationen"
      ],
      "text/plain": [
       "<IPython.core.display.Markdown object>"
      ]
     },
     "metadata": {},
     "output_type": "display_data"
    },
    {
     "data": {
      "text/markdown": [
       "**=== polarform bzw. polardarstellung komplexer zahlen ===**"
      ],
      "text/plain": [
       "<IPython.core.display.Markdown object>"
      ]
     },
     "metadata": {},
     "output_type": "display_data"
    },
    {
     "data": {
      "text/markdown": [
       "polarform"
      ],
      "text/plain": [
       "<IPython.core.display.Markdown object>"
      ]
     },
     "metadata": {},
     "output_type": "display_data"
    },
    {
     "data": {
      "text/markdown": [
       "polardarstellung"
      ],
      "text/plain": [
       "<IPython.core.display.Markdown object>"
      ]
     },
     "metadata": {},
     "output_type": "display_data"
    },
    {
     "data": {
      "text/markdown": [
       "**=== potenz ===**"
      ],
      "text/plain": [
       "<IPython.core.display.Markdown object>"
      ]
     },
     "metadata": {},
     "output_type": "display_data"
    },
    {
     "data": {
      "text/markdown": [
       "potenz"
      ],
      "text/plain": [
       "<IPython.core.display.Markdown object>"
      ]
     },
     "metadata": {},
     "output_type": "display_data"
    },
    {
     "data": {
      "text/markdown": [
       "**=== potenzen mit rationalem exponenten ===**"
      ],
      "text/plain": [
       "<IPython.core.display.Markdown object>"
      ]
     },
     "metadata": {},
     "output_type": "display_data"
    },
    {
     "data": {
      "text/markdown": [
       "potenzen rationalem exponenten"
      ],
      "text/plain": [
       "<IPython.core.display.Markdown object>"
      ]
     },
     "metadata": {},
     "output_type": "display_data"
    },
    {
     "data": {
      "text/markdown": [
       "**=== potenzen mit reellen exponenten ===**"
      ],
      "text/plain": [
       "<IPython.core.display.Markdown object>"
      ]
     },
     "metadata": {},
     "output_type": "display_data"
    },
    {
     "data": {
      "text/markdown": [
       "potenzen reellen exponenten"
      ],
      "text/plain": [
       "<IPython.core.display.Markdown object>"
      ]
     },
     "metadata": {},
     "output_type": "display_data"
    },
    {
     "data": {
      "text/markdown": [
       "**=== potenzgleichungen ===**"
      ],
      "text/plain": [
       "<IPython.core.display.Markdown object>"
      ]
     },
     "metadata": {},
     "output_type": "display_data"
    },
    {
     "data": {
      "text/markdown": [
       "potenzgleichungen"
      ],
      "text/plain": [
       "<IPython.core.display.Markdown object>"
      ]
     },
     "metadata": {},
     "output_type": "display_data"
    },
    {
     "data": {
      "text/markdown": [
       "**=== potenzmenge ===**"
      ],
      "text/plain": [
       "<IPython.core.display.Markdown object>"
      ]
     },
     "metadata": {},
     "output_type": "display_data"
    },
    {
     "data": {
      "text/markdown": [
       "potenzmenge"
      ],
      "text/plain": [
       "<IPython.core.display.Markdown object>"
      ]
     },
     "metadata": {},
     "output_type": "display_data"
    },
    {
     "data": {
      "text/markdown": [
       "**=== prinzip der linearen fortsetzung ===**"
      ],
      "text/plain": [
       "<IPython.core.display.Markdown object>"
      ]
     },
     "metadata": {},
     "output_type": "display_data"
    },
    {
     "data": {
      "text/markdown": [
       "prinzip linearen fortsetzung"
      ],
      "text/plain": [
       "<IPython.core.display.Markdown object>"
      ]
     },
     "metadata": {},
     "output_type": "display_data"
    },
    {
     "data": {
      "text/markdown": [
       "**=== prädikatenlogik ===**"
      ],
      "text/plain": [
       "<IPython.core.display.Markdown object>"
      ]
     },
     "metadata": {},
     "output_type": "display_data"
    },
    {
     "data": {
      "text/markdown": [
       "prädikatenlogik"
      ],
      "text/plain": [
       "<IPython.core.display.Markdown object>"
      ]
     },
     "metadata": {},
     "output_type": "display_data"
    },
    {
     "data": {
      "text/markdown": [
       "**=== prämaße und maße ===**"
      ],
      "text/plain": [
       "<IPython.core.display.Markdown object>"
      ]
     },
     "metadata": {},
     "output_type": "display_data"
    },
    {
     "data": {
      "text/markdown": [
       "prämaße maße"
      ],
      "text/plain": [
       "<IPython.core.display.Markdown object>"
      ]
     },
     "metadata": {},
     "output_type": "display_data"
    },
    {
     "data": {
      "text/markdown": [
       "**=== quantor ===**"
      ],
      "text/plain": [
       "<IPython.core.display.Markdown object>"
      ]
     },
     "metadata": {},
     "output_type": "display_data"
    },
    {
     "data": {
      "text/markdown": [
       "quantor"
      ],
      "text/plain": [
       "<IPython.core.display.Markdown object>"
      ]
     },
     "metadata": {},
     "output_type": "display_data"
    },
    {
     "data": {
      "text/markdown": [
       "**=== quotientenkriterium ===**"
      ],
      "text/plain": [
       "<IPython.core.display.Markdown object>"
      ]
     },
     "metadata": {},
     "output_type": "display_data"
    },
    {
     "data": {
      "text/markdown": [
       "quotientenkriterium"
      ],
      "text/plain": [
       "<IPython.core.display.Markdown object>"
      ]
     },
     "metadata": {},
     "output_type": "display_data"
    },
    {
     "data": {
      "text/markdown": [
       "**=== rechenregeln der wurzel ===**"
      ],
      "text/plain": [
       "<IPython.core.display.Markdown object>"
      ]
     },
     "metadata": {},
     "output_type": "display_data"
    },
    {
     "data": {
      "text/markdown": [
       "rechenregeln wurzel"
      ],
      "text/plain": [
       "<IPython.core.display.Markdown object>"
      ]
     },
     "metadata": {},
     "output_type": "display_data"
    },
    {
     "data": {
      "text/markdown": [
       "**=== rechenregeln der bestimmten divergenz ===**"
      ],
      "text/plain": [
       "<IPython.core.display.Markdown object>"
      ]
     },
     "metadata": {},
     "output_type": "display_data"
    },
    {
     "data": {
      "text/markdown": [
       "rechenregeln bestimmten divergenz"
      ],
      "text/plain": [
       "<IPython.core.display.Markdown object>"
      ]
     },
     "metadata": {},
     "output_type": "display_data"
    },
    {
     "data": {
      "text/markdown": [
       "**=== rechenregeln für reihen ===**"
      ],
      "text/plain": [
       "<IPython.core.display.Markdown object>"
      ]
     },
     "metadata": {},
     "output_type": "display_data"
    },
    {
     "data": {
      "text/markdown": [
       "rechenregeln reihen"
      ],
      "text/plain": [
       "<IPython.core.display.Markdown object>"
      ]
     },
     "metadata": {},
     "output_type": "display_data"
    },
    {
     "data": {
      "text/markdown": [
       "**=== reelle zahlen ===**"
      ],
      "text/plain": [
       "<IPython.core.display.Markdown object>"
      ]
     },
     "metadata": {},
     "output_type": "display_data"
    },
    {
     "data": {
      "text/markdown": [
       "reelle zahlen"
      ],
      "text/plain": [
       "<IPython.core.display.Markdown object>"
      ]
     },
     "metadata": {},
     "output_type": "display_data"
    },
    {
     "data": {
      "text/markdown": [
       "**=== regel von l'hospital ===**"
      ],
      "text/plain": [
       "<IPython.core.display.Markdown object>"
      ]
     },
     "metadata": {},
     "output_type": "display_data"
    },
    {
     "data": {
      "text/markdown": [
       "regel l'hospital"
      ],
      "text/plain": [
       "<IPython.core.display.Markdown object>"
      ]
     },
     "metadata": {},
     "output_type": "display_data"
    },
    {
     "data": {
      "text/markdown": [
       "**=== regelintegral ===**"
      ],
      "text/plain": [
       "<IPython.core.display.Markdown object>"
      ]
     },
     "metadata": {},
     "output_type": "display_data"
    },
    {
     "data": {
      "text/markdown": [
       "regelintegral"
      ],
      "text/plain": [
       "<IPython.core.display.Markdown object>"
      ]
     },
     "metadata": {},
     "output_type": "display_data"
    },
    {
     "data": {
      "text/markdown": [
       "**=== reihe ===**"
      ],
      "text/plain": [
       "<IPython.core.display.Markdown object>"
      ]
     },
     "metadata": {},
     "output_type": "display_data"
    },
    {
     "data": {
      "text/markdown": [
       "reihe"
      ],
      "text/plain": [
       "<IPython.core.display.Markdown object>"
      ]
     },
     "metadata": {},
     "output_type": "display_data"
    },
    {
     "data": {
      "text/markdown": [
       "**=== relation ===**"
      ],
      "text/plain": [
       "<IPython.core.display.Markdown object>"
      ]
     },
     "metadata": {},
     "output_type": "display_data"
    },
    {
     "data": {
      "text/markdown": [
       "relation"
      ],
      "text/plain": [
       "<IPython.core.display.Markdown object>"
      ]
     },
     "metadata": {},
     "output_type": "display_data"
    },
    {
     "data": {
      "text/markdown": [
       "**=== riemannintegral ===**"
      ],
      "text/plain": [
       "<IPython.core.display.Markdown object>"
      ]
     },
     "metadata": {},
     "output_type": "display_data"
    },
    {
     "data": {
      "text/markdown": [
       "riemannintegral"
      ],
      "text/plain": [
       "<IPython.core.display.Markdown object>"
      ]
     },
     "metadata": {},
     "output_type": "display_data"
    },
    {
     "data": {
      "text/markdown": [
       "**=== ringe ===**"
      ],
      "text/plain": [
       "<IPython.core.display.Markdown object>"
      ]
     },
     "metadata": {},
     "output_type": "display_data"
    },
    {
     "data": {
      "text/markdown": [
       "ringe"
      ],
      "text/plain": [
       "<IPython.core.display.Markdown object>"
      ]
     },
     "metadata": {},
     "output_type": "display_data"
    },
    {
     "data": {
      "text/markdown": [
       "**=== russells antinomie und klassen ===**"
      ],
      "text/plain": [
       "<IPython.core.display.Markdown object>"
      ]
     },
     "metadata": {},
     "output_type": "display_data"
    },
    {
     "data": {
      "text/markdown": [
       "russells antinomie klassen"
      ],
      "text/plain": [
       "<IPython.core.display.Markdown object>"
      ]
     },
     "metadata": {},
     "output_type": "display_data"
    },
    {
     "data": {
      "text/markdown": [
       "**=== sandwichsatz, einschnürungssatz, einschließungssatz ===**"
      ],
      "text/plain": [
       "<IPython.core.display.Markdown object>"
      ]
     },
     "metadata": {},
     "output_type": "display_data"
    },
    {
     "data": {
      "text/markdown": [
       "sandwichsatz"
      ],
      "text/plain": [
       "<IPython.core.display.Markdown object>"
      ]
     },
     "metadata": {},
     "output_type": "display_data"
    },
    {
     "data": {
      "text/markdown": [
       "einschnürungssatz"
      ],
      "text/plain": [
       "<IPython.core.display.Markdown object>"
      ]
     },
     "metadata": {},
     "output_type": "display_data"
    },
    {
     "data": {
      "text/markdown": [
       "einschließungssatz"
      ],
      "text/plain": [
       "<IPython.core.display.Markdown object>"
      ]
     },
     "metadata": {},
     "output_type": "display_data"
    },
    {
     "data": {
      "text/markdown": [
       "**=== satz vom minimum und maximum ===**"
      ],
      "text/plain": [
       "<IPython.core.display.Markdown object>"
      ]
     },
     "metadata": {},
     "output_type": "display_data"
    },
    {
     "data": {
      "text/markdown": [
       "satz maximum"
      ],
      "text/plain": [
       "<IPython.core.display.Markdown object>"
      ]
     },
     "metadata": {},
     "output_type": "display_data"
    },
    {
     "data": {
      "text/markdown": [
       "satz minimum"
      ],
      "text/plain": [
       "<IPython.core.display.Markdown object>"
      ]
     },
     "metadata": {},
     "output_type": "display_data"
    },
    {
     "data": {
      "text/markdown": [
       "**=== satz von bolzano-weierstraß ===**"
      ],
      "text/plain": [
       "<IPython.core.display.Markdown object>"
      ]
     },
     "metadata": {},
     "output_type": "display_data"
    },
    {
     "data": {
      "text/markdown": [
       "satz bolzano-weierstraß"
      ],
      "text/plain": [
       "<IPython.core.display.Markdown object>"
      ]
     },
     "metadata": {},
     "output_type": "display_data"
    },
    {
     "data": {
      "text/markdown": [
       "**=== satz von rolle ===**"
      ],
      "text/plain": [
       "<IPython.core.display.Markdown object>"
      ]
     },
     "metadata": {},
     "output_type": "display_data"
    },
    {
     "data": {
      "text/markdown": [
       "satz rolle"
      ],
      "text/plain": [
       "<IPython.core.display.Markdown object>"
      ]
     },
     "metadata": {},
     "output_type": "display_data"
    },
    {
     "data": {
      "text/markdown": [
       "**=== sinus hyperbolicus und kosinus hyperbolicus ===**"
      ],
      "text/plain": [
       "<IPython.core.display.Markdown object>"
      ]
     },
     "metadata": {},
     "output_type": "display_data"
    },
    {
     "data": {
      "text/markdown": [
       "sinus hyperbolicus kosinus hyperbolicus"
      ],
      "text/plain": [
       "<IPython.core.display.Markdown object>"
      ]
     },
     "metadata": {},
     "output_type": "display_data"
    },
    {
     "data": {
      "text/markdown": [
       "**=== sinus und kosinus ===**"
      ],
      "text/plain": [
       "<IPython.core.display.Markdown object>"
      ]
     },
     "metadata": {},
     "output_type": "display_data"
    },
    {
     "data": {
      "text/markdown": [
       "sinus kosinus"
      ],
      "text/plain": [
       "<IPython.core.display.Markdown object>"
      ]
     },
     "metadata": {},
     "output_type": "display_data"
    },
    {
     "data": {
      "text/markdown": [
       "**=== spann, erzeugnis, lineare hülle ===**"
      ],
      "text/plain": [
       "<IPython.core.display.Markdown object>"
      ]
     },
     "metadata": {},
     "output_type": "display_data"
    },
    {
     "data": {
      "text/markdown": [
       "spann"
      ],
      "text/plain": [
       "<IPython.core.display.Markdown object>"
      ]
     },
     "metadata": {},
     "output_type": "display_data"
    },
    {
     "data": {
      "text/markdown": [
       "erzeugnis"
      ],
      "text/plain": [
       "<IPython.core.display.Markdown object>"
      ]
     },
     "metadata": {},
     "output_type": "display_data"
    },
    {
     "data": {
      "text/markdown": [
       "lineare hülle"
      ],
      "text/plain": [
       "<IPython.core.display.Markdown object>"
      ]
     },
     "metadata": {},
     "output_type": "display_data"
    },
    {
     "data": {
      "text/markdown": [
       "**=== spezielle ableitung ===**"
      ],
      "text/plain": [
       "<IPython.core.display.Markdown object>"
      ]
     },
     "metadata": {},
     "output_type": "display_data"
    },
    {
     "data": {
      "text/markdown": [
       "spezielle ableitung"
      ],
      "text/plain": [
       "<IPython.core.display.Markdown object>"
      ]
     },
     "metadata": {},
     "output_type": "display_data"
    },
    {
     "data": {
      "text/markdown": [
       "**=== stetige inhalte auf sigma-ringen ===**"
      ],
      "text/plain": [
       "<IPython.core.display.Markdown object>"
      ]
     },
     "metadata": {},
     "output_type": "display_data"
    },
    {
     "data": {
      "text/markdown": [
       "stetige inhalte sigma-ringen"
      ],
      "text/plain": [
       "<IPython.core.display.Markdown object>"
      ]
     },
     "metadata": {},
     "output_type": "display_data"
    },
    {
     "data": {
      "text/markdown": [
       "**=== stetigkeit beweisen: epsilon-delta-kriterium und folgenkriterium ===**"
      ],
      "text/plain": [
       "<IPython.core.display.Markdown object>"
      ]
     },
     "metadata": {},
     "output_type": "display_data"
    },
    {
     "data": {
      "text/markdown": [
       "epsilon-delta-kriterium folgenkriterium stetigkeit beweisen"
      ],
      "text/plain": [
       "<IPython.core.display.Markdown object>"
      ]
     },
     "metadata": {},
     "output_type": "display_data"
    },
    {
     "data": {
      "text/markdown": [
       "**=== stetigkeit der umkehrfunktion ===**"
      ],
      "text/plain": [
       "<IPython.core.display.Markdown object>"
      ]
     },
     "metadata": {},
     "output_type": "display_data"
    },
    {
     "data": {
      "text/markdown": [
       "stetigkeit umkehrfunktion"
      ],
      "text/plain": [
       "<IPython.core.display.Markdown object>"
      ]
     },
     "metadata": {},
     "output_type": "display_data"
    },
    {
     "data": {
      "text/markdown": [
       "**=== stetigkeit von funktionen ===**"
      ],
      "text/plain": [
       "<IPython.core.display.Markdown object>"
      ]
     },
     "metadata": {},
     "output_type": "display_data"
    },
    {
     "data": {
      "text/markdown": [
       "stetigkeit funktionen"
      ],
      "text/plain": [
       "<IPython.core.display.Markdown object>"
      ]
     },
     "metadata": {},
     "output_type": "display_data"
    },
    {
     "data": {
      "text/markdown": [
       "**=== substitutionsregel für integrale ===**"
      ],
      "text/plain": [
       "<IPython.core.display.Markdown object>"
      ]
     },
     "metadata": {},
     "output_type": "display_data"
    },
    {
     "data": {
      "text/markdown": [
       "substitutionsregel integral"
      ],
      "text/plain": [
       "<IPython.core.display.Markdown object>"
      ]
     },
     "metadata": {},
     "output_type": "display_data"
    },
    {
     "data": {
      "text/markdown": [
       "**=== summe und produkt ===**"
      ],
      "text/plain": [
       "<IPython.core.display.Markdown object>"
      ]
     },
     "metadata": {},
     "output_type": "display_data"
    },
    {
     "data": {
      "text/markdown": [
       "summe produkt"
      ],
      "text/plain": [
       "<IPython.core.display.Markdown object>"
      ]
     },
     "metadata": {},
     "output_type": "display_data"
    },
    {
     "data": {
      "text/markdown": [
       "**=== supremum und infimum ===**"
      ],
      "text/plain": [
       "<IPython.core.display.Markdown object>"
      ]
     },
     "metadata": {},
     "output_type": "display_data"
    },
    {
     "data": {
      "text/markdown": [
       "supremum infimum"
      ],
      "text/plain": [
       "<IPython.core.display.Markdown object>"
      ]
     },
     "metadata": {},
     "output_type": "display_data"
    },
    {
     "data": {
      "text/markdown": [
       "**=== supremum und infimum: eigenschaften ===**"
      ],
      "text/plain": [
       "<IPython.core.display.Markdown object>"
      ]
     },
     "metadata": {},
     "output_type": "display_data"
    },
    {
     "data": {
      "text/markdown": [
       "eigenschaften supremum infimum"
      ],
      "text/plain": [
       "<IPython.core.display.Markdown object>"
      ]
     },
     "metadata": {},
     "output_type": "display_data"
    },
    {
     "data": {
      "text/markdown": [
       "**=== supremum und infimum bestimmen und beweisen ===**"
      ],
      "text/plain": [
       "<IPython.core.display.Markdown object>"
      ]
     },
     "metadata": {},
     "output_type": "display_data"
    },
    {
     "data": {
      "text/markdown": [
       "beweis supremum"
      ],
      "text/plain": [
       "<IPython.core.display.Markdown object>"
      ]
     },
     "metadata": {},
     "output_type": "display_data"
    },
    {
     "data": {
      "text/markdown": [
       "beweis infimum"
      ],
      "text/plain": [
       "<IPython.core.display.Markdown object>"
      ]
     },
     "metadata": {},
     "output_type": "display_data"
    },
    {
     "data": {
      "text/markdown": [
       "supremum bestimmen"
      ],
      "text/plain": [
       "<IPython.core.display.Markdown object>"
      ]
     },
     "metadata": {},
     "output_type": "display_data"
    },
    {
     "data": {
      "text/markdown": [
       "infimum bestimmen"
      ],
      "text/plain": [
       "<IPython.core.display.Markdown object>"
      ]
     },
     "metadata": {},
     "output_type": "display_data"
    },
    {
     "data": {
      "text/markdown": [
       "**=== tangens und kotangens ===**"
      ],
      "text/plain": [
       "<IPython.core.display.Markdown object>"
      ]
     },
     "metadata": {},
     "output_type": "display_data"
    },
    {
     "data": {
      "text/markdown": [
       "tangens kotangens"
      ],
      "text/plain": [
       "<IPython.core.display.Markdown object>"
      ]
     },
     "metadata": {},
     "output_type": "display_data"
    },
    {
     "data": {
      "text/markdown": [
       "**=== tautologie ===**"
      ],
      "text/plain": [
       "<IPython.core.display.Markdown object>"
      ]
     },
     "metadata": {},
     "output_type": "display_data"
    },
    {
     "data": {
      "text/markdown": [
       "tautologie"
      ],
      "text/plain": [
       "<IPython.core.display.Markdown object>"
      ]
     },
     "metadata": {},
     "output_type": "display_data"
    },
    {
     "data": {
      "text/markdown": [
       "**=== taylor entwicklung ===**"
      ],
      "text/plain": [
       "<IPython.core.display.Markdown object>"
      ]
     },
     "metadata": {},
     "output_type": "display_data"
    },
    {
     "data": {
      "text/markdown": [
       "taylor entwicklung"
      ],
      "text/plain": [
       "<IPython.core.display.Markdown object>"
      ]
     },
     "metadata": {},
     "output_type": "display_data"
    },
    {
     "data": {
      "text/markdown": [
       "**=== teilfolge ===**"
      ],
      "text/plain": [
       "<IPython.core.display.Markdown object>"
      ]
     },
     "metadata": {},
     "output_type": "display_data"
    },
    {
     "data": {
      "text/markdown": [
       "teilfolge"
      ],
      "text/plain": [
       "<IPython.core.display.Markdown object>"
      ]
     },
     "metadata": {},
     "output_type": "display_data"
    },
    {
     "data": {
      "text/markdown": [
       "**=== teilmenge und echte teilmenge ===**"
      ],
      "text/plain": [
       "<IPython.core.display.Markdown object>"
      ]
     },
     "metadata": {},
     "output_type": "display_data"
    },
    {
     "data": {
      "text/markdown": [
       "teilmenge echte teilmenge"
      ],
      "text/plain": [
       "<IPython.core.display.Markdown object>"
      ]
     },
     "metadata": {},
     "output_type": "display_data"
    },
    {
     "data": {
      "text/markdown": [
       "**=== teleskopsumme und teleskopreihe ===**"
      ],
      "text/plain": [
       "<IPython.core.display.Markdown object>"
      ]
     },
     "metadata": {},
     "output_type": "display_data"
    },
    {
     "data": {
      "text/markdown": [
       "teleskopsumme teleskopreihe"
      ],
      "text/plain": [
       "<IPython.core.display.Markdown object>"
      ]
     },
     "metadata": {},
     "output_type": "display_data"
    },
    {
     "data": {
      "text/markdown": [
       "**=== terme: umformungen ===**"
      ],
      "text/plain": [
       "<IPython.core.display.Markdown object>"
      ]
     },
     "metadata": {},
     "output_type": "display_data"
    },
    {
     "data": {
      "text/markdown": [
       "umformungen terme"
      ],
      "text/plain": [
       "<IPython.core.display.Markdown object>"
      ]
     },
     "metadata": {},
     "output_type": "display_data"
    },
    {
     "data": {
      "text/markdown": [
       "**=== trivialkriterium, nullfolgenkriterium, divergenzkriterium ===**"
      ],
      "text/plain": [
       "<IPython.core.display.Markdown object>"
      ]
     },
     "metadata": {},
     "output_type": "display_data"
    },
    {
     "data": {
      "text/markdown": [
       "trivialkriterium"
      ],
      "text/plain": [
       "<IPython.core.display.Markdown object>"
      ]
     },
     "metadata": {},
     "output_type": "display_data"
    },
    {
     "data": {
      "text/markdown": [
       "nullfolgenkriterium"
      ],
      "text/plain": [
       "<IPython.core.display.Markdown object>"
      ]
     },
     "metadata": {},
     "output_type": "display_data"
    },
    {
     "data": {
      "text/markdown": [
       "divergenzkriterium"
      ],
      "text/plain": [
       "<IPython.core.display.Markdown object>"
      ]
     },
     "metadata": {},
     "output_type": "display_data"
    },
    {
     "data": {
      "text/markdown": [
       "**=== tupel und geordnetes paar ===**"
      ],
      "text/plain": [
       "<IPython.core.display.Markdown object>"
      ]
     },
     "metadata": {},
     "output_type": "display_data"
    },
    {
     "data": {
      "text/markdown": [
       "tupel geordnetes paar"
      ],
      "text/plain": [
       "<IPython.core.display.Markdown object>"
      ]
     },
     "metadata": {},
     "output_type": "display_data"
    },
    {
     "data": {
      "text/markdown": [
       "**=== umordnungssatz für reihen ===**"
      ],
      "text/plain": [
       "<IPython.core.display.Markdown object>"
      ]
     },
     "metadata": {},
     "output_type": "display_data"
    },
    {
     "data": {
      "text/markdown": [
       "umordnungssatz reihen"
      ],
      "text/plain": [
       "<IPython.core.display.Markdown object>"
      ]
     },
     "metadata": {},
     "output_type": "display_data"
    },
    {
     "data": {
      "text/markdown": [
       "**=== unbeschränkte folgen divergieren ===**"
      ],
      "text/plain": [
       "<IPython.core.display.Markdown object>"
      ]
     },
     "metadata": {},
     "output_type": "display_data"
    },
    {
     "data": {
      "text/markdown": [
       "unbeschränkte folgen divergieren"
      ],
      "text/plain": [
       "<IPython.core.display.Markdown object>"
      ]
     },
     "metadata": {},
     "output_type": "display_data"
    },
    {
     "data": {
      "text/markdown": [
       "**=== uneigentliche integrale ===**"
      ],
      "text/plain": [
       "<IPython.core.display.Markdown object>"
      ]
     },
     "metadata": {},
     "output_type": "display_data"
    },
    {
     "data": {
      "text/markdown": [
       "uneigentliche integral"
      ],
      "text/plain": [
       "<IPython.core.display.Markdown object>"
      ]
     },
     "metadata": {},
     "output_type": "display_data"
    },
    {
     "data": {
      "text/markdown": [
       "**=== uneigentliches supremum und infimum ===**"
      ],
      "text/plain": [
       "<IPython.core.display.Markdown object>"
      ]
     },
     "metadata": {},
     "output_type": "display_data"
    },
    {
     "data": {
      "text/markdown": [
       "uneigentliches supremum"
      ],
      "text/plain": [
       "<IPython.core.display.Markdown object>"
      ]
     },
     "metadata": {},
     "output_type": "display_data"
    },
    {
     "data": {
      "text/markdown": [
       "uneigentliches infimum"
      ],
      "text/plain": [
       "<IPython.core.display.Markdown object>"
      ]
     },
     "metadata": {},
     "output_type": "display_data"
    },
    {
     "data": {
      "text/markdown": [
       "**=== unstetigkeit beweisen: epsilon-delta-kriterium und folgenkriterium ===**"
      ],
      "text/plain": [
       "<IPython.core.display.Markdown object>"
      ]
     },
     "metadata": {},
     "output_type": "display_data"
    },
    {
     "data": {
      "text/markdown": [
       "epsilon-delta-kriterium folgenkriterium unstetigkeit beweisen"
      ],
      "text/plain": [
       "<IPython.core.display.Markdown object>"
      ]
     },
     "metadata": {},
     "output_type": "display_data"
    },
    {
     "data": {
      "text/markdown": [
       "**=== untervektorraum ===**"
      ],
      "text/plain": [
       "<IPython.core.display.Markdown object>"
      ]
     },
     "metadata": {},
     "output_type": "display_data"
    },
    {
     "data": {
      "text/markdown": [
       "untervektorraum"
      ],
      "text/plain": [
       "<IPython.core.display.Markdown object>"
      ]
     },
     "metadata": {},
     "output_type": "display_data"
    },
    {
     "data": {
      "text/markdown": [
       "**=== vektoren und vektorräume in der schule ===**"
      ],
      "text/plain": [
       "<IPython.core.display.Markdown object>"
      ]
     },
     "metadata": {},
     "output_type": "display_data"
    },
    {
     "data": {
      "text/markdown": [
       "vektoren vektorräume schule"
      ],
      "text/plain": [
       "<IPython.core.display.Markdown object>"
      ]
     },
     "metadata": {},
     "output_type": "display_data"
    },
    {
     "data": {
      "text/markdown": [
       "**=== vektorielle operationen für matrizen ===**"
      ],
      "text/plain": [
       "<IPython.core.display.Markdown object>"
      ]
     },
     "metadata": {},
     "output_type": "display_data"
    },
    {
     "data": {
      "text/markdown": [
       "vektorielle operationen matrizen"
      ],
      "text/plain": [
       "<IPython.core.display.Markdown object>"
      ]
     },
     "metadata": {},
     "output_type": "display_data"
    },
    {
     "data": {
      "text/markdown": [
       "**=== vektorraum: direkte summe ===**"
      ],
      "text/plain": [
       "<IPython.core.display.Markdown object>"
      ]
     },
     "metadata": {},
     "output_type": "display_data"
    },
    {
     "data": {
      "text/markdown": [
       "direkte summe vektorraum"
      ],
      "text/plain": [
       "<IPython.core.display.Markdown object>"
      ]
     },
     "metadata": {},
     "output_type": "display_data"
    },
    {
     "data": {
      "text/markdown": [
       "**=== vektorraum: eigenschaften ===**"
      ],
      "text/plain": [
       "<IPython.core.display.Markdown object>"
      ]
     },
     "metadata": {},
     "output_type": "display_data"
    },
    {
     "data": {
      "text/markdown": [
       "eigenschaften vektorraum"
      ],
      "text/plain": [
       "<IPython.core.display.Markdown object>"
      ]
     },
     "metadata": {},
     "output_type": "display_data"
    },
    {
     "data": {
      "text/markdown": [
       "**=== vektorraum: innere direkte summe und komplement ===**"
      ],
      "text/plain": [
       "<IPython.core.display.Markdown object>"
      ]
     },
     "metadata": {},
     "output_type": "display_data"
    },
    {
     "data": {
      "text/markdown": [
       "innere direkte summe komplement vektorraum"
      ],
      "text/plain": [
       "<IPython.core.display.Markdown object>"
      ]
     },
     "metadata": {},
     "output_type": "display_data"
    },
    {
     "data": {
      "text/markdown": [
       "**=== vektorraum: summe von unterräumen ===**"
      ],
      "text/plain": [
       "<IPython.core.display.Markdown object>"
      ]
     },
     "metadata": {},
     "output_type": "display_data"
    },
    {
     "data": {
      "text/markdown": [
       "summe vektorraum"
      ],
      "text/plain": [
       "<IPython.core.display.Markdown object>"
      ]
     },
     "metadata": {},
     "output_type": "display_data"
    },
    {
     "data": {
      "text/markdown": [
       "summe unterräume"
      ],
      "text/plain": [
       "<IPython.core.display.Markdown object>"
      ]
     },
     "metadata": {},
     "output_type": "display_data"
    },
    {
     "data": {
      "text/markdown": [
       "**=== vektorraum: summen und innere direkte summen von mehr als zwei unterräumen ===**"
      ],
      "text/plain": [
       "<IPython.core.display.Markdown object>"
      ]
     },
     "metadata": {},
     "output_type": "display_data"
    },
    {
     "data": {
      "text/markdown": [
       "indirekte summe vektorraum"
      ],
      "text/plain": [
       "<IPython.core.display.Markdown object>"
      ]
     },
     "metadata": {},
     "output_type": "display_data"
    },
    {
     "data": {
      "text/markdown": [
       "**=== vektorraum linearer abbildungen ===**"
      ],
      "text/plain": [
       "<IPython.core.display.Markdown object>"
      ]
     },
     "metadata": {},
     "output_type": "display_data"
    },
    {
     "data": {
      "text/markdown": [
       "vektorraum linearer abbildungen"
      ],
      "text/plain": [
       "<IPython.core.display.Markdown object>"
      ]
     },
     "metadata": {},
     "output_type": "display_data"
    },
    {
     "data": {
      "text/markdown": [
       "**=== vereinigung und durchschnitt von vektorräumen ===**"
      ],
      "text/plain": [
       "<IPython.core.display.Markdown object>"
      ]
     },
     "metadata": {},
     "output_type": "display_data"
    },
    {
     "data": {
      "text/markdown": [
       "vereinigung vektorraum"
      ],
      "text/plain": [
       "<IPython.core.display.Markdown object>"
      ]
     },
     "metadata": {},
     "output_type": "display_data"
    },
    {
     "data": {
      "text/markdown": [
       "durschschnitt vektorraum"
      ],
      "text/plain": [
       "<IPython.core.display.Markdown object>"
      ]
     },
     "metadata": {},
     "output_type": "display_data"
    },
    {
     "data": {
      "text/markdown": [
       "**=== vereinigung von mengen ===**"
      ],
      "text/plain": [
       "<IPython.core.display.Markdown object>"
      ]
     },
     "metadata": {},
     "output_type": "display_data"
    },
    {
     "data": {
      "text/markdown": [
       "vereinigung mengen"
      ],
      "text/plain": [
       "<IPython.core.display.Markdown object>"
      ]
     },
     "metadata": {},
     "output_type": "display_data"
    },
    {
     "data": {
      "text/markdown": [
       "**=== verknüpfung ===**"
      ],
      "text/plain": [
       "<IPython.core.display.Markdown object>"
      ]
     },
     "metadata": {},
     "output_type": "display_data"
    },
    {
     "data": {
      "text/markdown": [
       "verknüpfung"
      ],
      "text/plain": [
       "<IPython.core.display.Markdown object>"
      ]
     },
     "metadata": {},
     "output_type": "display_data"
    },
    {
     "data": {
      "text/markdown": [
       "**=== verknüpfungen zwischen mengen ===**"
      ],
      "text/plain": [
       "<IPython.core.display.Markdown object>"
      ]
     },
     "metadata": {},
     "output_type": "display_data"
    },
    {
     "data": {
      "text/markdown": [
       "verknüpfungen mengen"
      ],
      "text/plain": [
       "<IPython.core.display.Markdown object>"
      ]
     },
     "metadata": {},
     "output_type": "display_data"
    },
    {
     "data": {
      "text/markdown": [
       "**=== vollständige induktion ===**"
      ],
      "text/plain": [
       "<IPython.core.display.Markdown object>"
      ]
     },
     "metadata": {},
     "output_type": "display_data"
    },
    {
     "data": {
      "text/markdown": [
       "vollständige induktion"
      ],
      "text/plain": [
       "<IPython.core.display.Markdown object>"
      ]
     },
     "metadata": {},
     "output_type": "display_data"
    },
    {
     "data": {
      "text/markdown": [
       "**=== vollständige induktion: beispiele ===**"
      ],
      "text/plain": [
       "<IPython.core.display.Markdown object>"
      ]
     },
     "metadata": {},
     "output_type": "display_data"
    },
    {
     "data": {
      "text/markdown": [
       "beispiele vollständige induktion"
      ],
      "text/plain": [
       "<IPython.core.display.Markdown object>"
      ]
     },
     "metadata": {},
     "output_type": "display_data"
    },
    {
     "data": {
      "text/markdown": [
       "**=== wahrheitstabelle ===**"
      ],
      "text/plain": [
       "<IPython.core.display.Markdown object>"
      ]
     },
     "metadata": {},
     "output_type": "display_data"
    },
    {
     "data": {
      "text/markdown": [
       "wahrheitstabelle"
      ],
      "text/plain": [
       "<IPython.core.display.Markdown object>"
      ]
     },
     "metadata": {},
     "output_type": "display_data"
    },
    {
     "data": {
      "text/markdown": [
       "**=== wahrscheinlichkeitstheorie ===**"
      ],
      "text/plain": [
       "<IPython.core.display.Markdown object>"
      ]
     },
     "metadata": {},
     "output_type": "display_data"
    },
    {
     "data": {
      "text/markdown": [
       "wahrscheinlichkeitstheorie"
      ],
      "text/plain": [
       "<IPython.core.display.Markdown object>"
      ]
     },
     "metadata": {},
     "output_type": "display_data"
    },
    {
     "data": {
      "text/markdown": [
       "**=== wurzel ===**"
      ],
      "text/plain": [
       "<IPython.core.display.Markdown object>"
      ]
     },
     "metadata": {},
     "output_type": "display_data"
    },
    {
     "data": {
      "text/markdown": [
       "wurzel"
      ],
      "text/plain": [
       "<IPython.core.display.Markdown object>"
      ]
     },
     "metadata": {},
     "output_type": "display_data"
    },
    {
     "data": {
      "text/markdown": [
       "**=== wurzelkriterium ===**"
      ],
      "text/plain": [
       "<IPython.core.display.Markdown object>"
      ]
     },
     "metadata": {},
     "output_type": "display_data"
    },
    {
     "data": {
      "text/markdown": [
       "wurzelkriterium"
      ],
      "text/plain": [
       "<IPython.core.display.Markdown object>"
      ]
     },
     "metadata": {},
     "output_type": "display_data"
    },
    {
     "data": {
      "text/markdown": [
       "**=== zahlengerade ===**"
      ],
      "text/plain": [
       "<IPython.core.display.Markdown object>"
      ]
     },
     "metadata": {},
     "output_type": "display_data"
    },
    {
     "data": {
      "text/markdown": [
       "zahlengerade"
      ],
      "text/plain": [
       "<IPython.core.display.Markdown object>"
      ]
     },
     "metadata": {},
     "output_type": "display_data"
    },
    {
     "data": {
      "text/markdown": [
       "**=== zwischenwertsatz ===**"
      ],
      "text/plain": [
       "<IPython.core.display.Markdown object>"
      ]
     },
     "metadata": {},
     "output_type": "display_data"
    },
    {
     "data": {
      "text/markdown": [
       "zwischenwertsatz"
      ],
      "text/plain": [
       "<IPython.core.display.Markdown object>"
      ]
     },
     "metadata": {},
     "output_type": "display_data"
    },
    {
     "data": {
      "text/markdown": [
       "**=== e-reihe ===**"
      ],
      "text/plain": [
       "<IPython.core.display.Markdown object>"
      ]
     },
     "metadata": {},
     "output_type": "display_data"
    },
    {
     "data": {
      "text/markdown": [
       "e-reihe"
      ],
      "text/plain": [
       "<IPython.core.display.Markdown object>"
      ]
     },
     "metadata": {},
     "output_type": "display_data"
    },
    {
     "data": {
      "text/markdown": [
       "**=== äquivalenzrelation ===**"
      ],
      "text/plain": [
       "<IPython.core.display.Markdown object>"
      ]
     },
     "metadata": {},
     "output_type": "display_data"
    },
    {
     "data": {
      "text/markdown": [
       "äquivalenzrelation"
      ],
      "text/plain": [
       "<IPython.core.display.Markdown object>"
      ]
     },
     "metadata": {},
     "output_type": "display_data"
    },
    {
     "data": {
      "text/markdown": [
       "**=== äußere maße, messbarkeit, satz von caratheodory, fortsetzungssatz ===**"
      ],
      "text/plain": [
       "<IPython.core.display.Markdown object>"
      ]
     },
     "metadata": {},
     "output_type": "display_data"
    },
    {
     "data": {
      "text/markdown": [
       "äußere maße"
      ],
      "text/plain": [
       "<IPython.core.display.Markdown object>"
      ]
     },
     "metadata": {},
     "output_type": "display_data"
    },
    {
     "data": {
      "text/markdown": [
       "messbarkeit"
      ],
      "text/plain": [
       "<IPython.core.display.Markdown object>"
      ]
     },
     "metadata": {},
     "output_type": "display_data"
    },
    {
     "data": {
      "text/markdown": [
       "satz caratheodory"
      ],
      "text/plain": [
       "<IPython.core.display.Markdown object>"
      ]
     },
     "metadata": {},
     "output_type": "display_data"
    },
    {
     "data": {
      "text/markdown": [
       "fortsetzungssatz"
      ],
      "text/plain": [
       "<IPython.core.display.Markdown object>"
      ]
     },
     "metadata": {},
     "output_type": "display_data"
    },
    {
     "data": {
      "text/markdown": [
       "**=== äußere direkte summe und direktes produkt ===**"
      ],
      "text/plain": [
       "<IPython.core.display.Markdown object>"
      ]
     },
     "metadata": {},
     "output_type": "display_data"
    },
    {
     "data": {
      "text/markdown": [
       "äußere direkte summe direktes produkt"
      ],
      "text/plain": [
       "<IPython.core.display.Markdown object>"
      ]
     },
     "metadata": {},
     "output_type": "display_data"
    },
    {
     "data": {
      "text/markdown": [
       "**=== übersicht: stetigkeit und differenzierbarkeit ===**"
      ],
      "text/plain": [
       "<IPython.core.display.Markdown object>"
      ]
     },
     "metadata": {},
     "output_type": "display_data"
    },
    {
     "data": {
      "text/markdown": [
       "stetigkeit differenzierbarkeit übersicht"
      ],
      "text/plain": [
       "<IPython.core.display.Markdown object>"
      ]
     },
     "metadata": {},
     "output_type": "display_data"
    },
    {
     "data": {
      "text/markdown": [
       "**=== übersicht zu algebraischer strukturen ===**"
      ],
      "text/plain": [
       "<IPython.core.display.Markdown object>"
      ]
     },
     "metadata": {},
     "output_type": "display_data"
    },
    {
     "data": {
      "text/markdown": [
       "übersicht algebraischer strukturen"
      ],
      "text/plain": [
       "<IPython.core.display.Markdown object>"
      ]
     },
     "metadata": {},
     "output_type": "display_data"
    },
    {
     "data": {
      "text/markdown": [
       "**=== absolute convergence of a series ===**"
      ],
      "text/plain": [
       "<IPython.core.display.Markdown object>"
      ]
     },
     "metadata": {},
     "output_type": "display_data"
    },
    {
     "data": {
      "text/markdown": [
       "absolute convergence series"
      ],
      "text/plain": [
       "<IPython.core.display.Markdown object>"
      ]
     },
     "metadata": {},
     "output_type": "display_data"
    },
    {
     "data": {
      "text/markdown": [
       "**=== absolute value and conjugation ===**"
      ],
      "text/plain": [
       "<IPython.core.display.Markdown object>"
      ]
     },
     "metadata": {},
     "output_type": "display_data"
    },
    {
     "data": {
      "text/markdown": [
       "absolute value"
      ],
      "text/plain": [
       "<IPython.core.display.Markdown object>"
      ]
     },
     "metadata": {},
     "output_type": "display_data"
    },
    {
     "data": {
      "text/markdown": [
       "conjugation"
      ],
      "text/plain": [
       "<IPython.core.display.Markdown object>"
      ]
     },
     "metadata": {},
     "output_type": "display_data"
    },
    {
     "data": {
      "text/markdown": [
       "**=== accumulation points of sequences ===**"
      ],
      "text/plain": [
       "<IPython.core.display.Markdown object>"
      ]
     },
     "metadata": {},
     "output_type": "display_data"
    },
    {
     "data": {
      "text/markdown": [
       "accumulation points sequences"
      ],
      "text/plain": [
       "<IPython.core.display.Markdown object>"
      ]
     },
     "metadata": {},
     "output_type": "display_data"
    },
    {
     "data": {
      "text/markdown": [
       "**=== accumulation points of sets ===**"
      ],
      "text/plain": [
       "<IPython.core.display.Markdown object>"
      ]
     },
     "metadata": {},
     "output_type": "display_data"
    },
    {
     "data": {
      "text/markdown": [
       "accumulation points sets"
      ],
      "text/plain": [
       "<IPython.core.display.Markdown object>"
      ]
     },
     "metadata": {},
     "output_type": "display_data"
    },
    {
     "data": {
      "text/markdown": [
       "**=== alternating series test ===**"
      ],
      "text/plain": [
       "<IPython.core.display.Markdown object>"
      ]
     },
     "metadata": {},
     "output_type": "display_data"
    },
    {
     "data": {
      "text/markdown": [
       "alternating series test"
      ],
      "text/plain": [
       "<IPython.core.display.Markdown object>"
      ]
     },
     "metadata": {},
     "output_type": "display_data"
    },
    {
     "data": {
      "text/markdown": [
       "**=== application of convergence criteria ===**"
      ],
      "text/plain": [
       "<IPython.core.display.Markdown object>"
      ]
     },
     "metadata": {},
     "output_type": "display_data"
    },
    {
     "data": {
      "text/markdown": [
       "application convergence criteria"
      ],
      "text/plain": [
       "<IPython.core.display.Markdown object>"
      ]
     },
     "metadata": {},
     "output_type": "display_data"
    },
    {
     "data": {
      "text/markdown": [
       "**=== basis ===**"
      ],
      "text/plain": [
       "<IPython.core.display.Markdown object>"
      ]
     },
     "metadata": {},
     "output_type": "display_data"
    },
    {
     "data": {
      "text/markdown": [
       "basis"
      ],
      "text/plain": [
       "<IPython.core.display.Markdown object>"
      ]
     },
     "metadata": {},
     "output_type": "display_data"
    },
    {
     "data": {
      "text/markdown": [
       "**=== bounded series and convergence ===**"
      ],
      "text/plain": [
       "<IPython.core.display.Markdown object>"
      ]
     },
     "metadata": {},
     "output_type": "display_data"
    },
    {
     "data": {
      "text/markdown": [
       "bounded series"
      ],
      "text/plain": [
       "<IPython.core.display.Markdown object>"
      ]
     },
     "metadata": {},
     "output_type": "display_data"
    },
    {
     "data": {
      "text/markdown": [
       "convergence"
      ],
      "text/plain": [
       "<IPython.core.display.Markdown object>"
      ]
     },
     "metadata": {},
     "output_type": "display_data"
    },
    {
     "data": {
      "text/markdown": [
       "**=== cauchy condensation test ===**"
      ],
      "text/plain": [
       "<IPython.core.display.Markdown object>"
      ]
     },
     "metadata": {},
     "output_type": "display_data"
    },
    {
     "data": {
      "text/markdown": [
       "cauchy condensation test"
      ],
      "text/plain": [
       "<IPython.core.display.Markdown object>"
      ]
     },
     "metadata": {},
     "output_type": "display_data"
    },
    {
     "data": {
      "text/markdown": [
       "**=== cauchy criterion ===**"
      ],
      "text/plain": [
       "<IPython.core.display.Markdown object>"
      ]
     },
     "metadata": {},
     "output_type": "display_data"
    },
    {
     "data": {
      "text/markdown": [
       "cauchy criterion"
      ],
      "text/plain": [
       "<IPython.core.display.Markdown object>"
      ]
     },
     "metadata": {},
     "output_type": "display_data"
    },
    {
     "data": {
      "text/markdown": [
       "**=== cauchy sequences ===**"
      ],
      "text/plain": [
       "<IPython.core.display.Markdown object>"
      ]
     },
     "metadata": {},
     "output_type": "display_data"
    },
    {
     "data": {
      "text/markdown": [
       "cauchy sequences"
      ],
      "text/plain": [
       "<IPython.core.display.Markdown object>"
      ]
     },
     "metadata": {},
     "output_type": "display_data"
    },
    {
     "data": {
      "text/markdown": [
       "**=== composition of continuous functions ===**"
      ],
      "text/plain": [
       "<IPython.core.display.Markdown object>"
      ]
     },
     "metadata": {},
     "output_type": "display_data"
    },
    {
     "data": {
      "text/markdown": [
       "composition continuous functions"
      ],
      "text/plain": [
       "<IPython.core.display.Markdown object>"
      ]
     },
     "metadata": {},
     "output_type": "display_data"
    },
    {
     "data": {
      "text/markdown": [
       "**=== computation rules for series ===**"
      ],
      "text/plain": [
       "<IPython.core.display.Markdown object>"
      ]
     },
     "metadata": {},
     "output_type": "display_data"
    },
    {
     "data": {
      "text/markdown": [
       "computation rules series"
      ],
      "text/plain": [
       "<IPython.core.display.Markdown object>"
      ]
     },
     "metadata": {},
     "output_type": "display_data"
    },
    {
     "data": {
      "text/markdown": [
       "**=== computing derivatives ===**"
      ],
      "text/plain": [
       "<IPython.core.display.Markdown object>"
      ]
     },
     "metadata": {},
     "output_type": "display_data"
    },
    {
     "data": {
      "text/markdown": [
       "computing derivatives"
      ],
      "text/plain": [
       "<IPython.core.display.Markdown object>"
      ]
     },
     "metadata": {},
     "output_type": "display_data"
    },
    {
     "data": {
      "text/markdown": [
       "**=== computing derivatives - special ===**"
      ],
      "text/plain": [
       "<IPython.core.display.Markdown object>"
      ]
     },
     "metadata": {},
     "output_type": "display_data"
    },
    {
     "data": {
      "text/markdown": [
       "computing derivatives special"
      ],
      "text/plain": [
       "<IPython.core.display.Markdown object>"
      ]
     },
     "metadata": {},
     "output_type": "display_data"
    },
    {
     "data": {
      "text/markdown": [
       "**=== constant functions ===**"
      ],
      "text/plain": [
       "<IPython.core.display.Markdown object>"
      ]
     },
     "metadata": {},
     "output_type": "display_data"
    },
    {
     "data": {
      "text/markdown": [
       "constant functions"
      ],
      "text/plain": [
       "<IPython.core.display.Markdown object>"
      ]
     },
     "metadata": {},
     "output_type": "display_data"
    },
    {
     "data": {
      "text/markdown": [
       "**=== continuity of functions ===**"
      ],
      "text/plain": [
       "<IPython.core.display.Markdown object>"
      ]
     },
     "metadata": {},
     "output_type": "display_data"
    },
    {
     "data": {
      "text/markdown": [
       "continuity functions"
      ],
      "text/plain": [
       "<IPython.core.display.Markdown object>"
      ]
     },
     "metadata": {},
     "output_type": "display_data"
    },
    {
     "data": {
      "text/markdown": [
       "**=== continuity of the inverse function ===**"
      ],
      "text/plain": [
       "<IPython.core.display.Markdown object>"
      ]
     },
     "metadata": {},
     "output_type": "display_data"
    },
    {
     "data": {
      "text/markdown": [
       "continuity inverse function"
      ],
      "text/plain": [
       "<IPython.core.display.Markdown object>"
      ]
     },
     "metadata": {},
     "output_type": "display_data"
    },
    {
     "data": {
      "text/markdown": [
       "**=== coordinate spaces ===**"
      ],
      "text/plain": [
       "<IPython.core.display.Markdown object>"
      ]
     },
     "metadata": {},
     "output_type": "display_data"
    },
    {
     "data": {
      "text/markdown": [
       "coordinate spaces"
      ],
      "text/plain": [
       "<IPython.core.display.Markdown object>"
      ]
     },
     "metadata": {},
     "output_type": "display_data"
    },
    {
     "data": {
      "text/markdown": [
       "**=== definition of complex numbers ===**"
      ],
      "text/plain": [
       "<IPython.core.display.Markdown object>"
      ]
     },
     "metadata": {},
     "output_type": "display_data"
    },
    {
     "data": {
      "text/markdown": [
       "definition complex numbers"
      ],
      "text/plain": [
       "<IPython.core.display.Markdown object>"
      ]
     },
     "metadata": {},
     "output_type": "display_data"
    },
    {
     "data": {
      "text/markdown": [
       "**=== derivation and definition of the exponential series ===**"
      ],
      "text/plain": [
       "<IPython.core.display.Markdown object>"
      ]
     },
     "metadata": {},
     "output_type": "display_data"
    },
    {
     "data": {
      "text/markdown": [
       "derivation exponential series"
      ],
      "text/plain": [
       "<IPython.core.display.Markdown object>"
      ]
     },
     "metadata": {},
     "output_type": "display_data"
    },
    {
     "data": {
      "text/markdown": [
       "definition exponential series"
      ],
      "text/plain": [
       "<IPython.core.display.Markdown object>"
      ]
     },
     "metadata": {},
     "output_type": "display_data"
    },
    {
     "data": {
      "text/markdown": [
       "**=== derivative - inverse function ===**"
      ],
      "text/plain": [
       "<IPython.core.display.Markdown object>"
      ]
     },
     "metadata": {},
     "output_type": "display_data"
    },
    {
     "data": {
      "text/markdown": [
       "derivative inverse function"
      ],
      "text/plain": [
       "<IPython.core.display.Markdown object>"
      ]
     },
     "metadata": {},
     "output_type": "display_data"
    },
    {
     "data": {
      "text/markdown": [
       "**=== derivative and local extrema ===**"
      ],
      "text/plain": [
       "<IPython.core.display.Markdown object>"
      ]
     },
     "metadata": {},
     "output_type": "display_data"
    },
    {
     "data": {
      "text/markdown": [
       "local extrema"
      ],
      "text/plain": [
       "<IPython.core.display.Markdown object>"
      ]
     },
     "metadata": {},
     "output_type": "display_data"
    },
    {
     "data": {
      "text/markdown": [
       "derivative local extrema"
      ],
      "text/plain": [
       "<IPython.core.display.Markdown object>"
      ]
     },
     "metadata": {},
     "output_type": "display_data"
    },
    {
     "data": {
      "text/markdown": [
       "**=== derivatives ===**"
      ],
      "text/plain": [
       "<IPython.core.display.Markdown object>"
      ]
     },
     "metadata": {},
     "output_type": "display_data"
    },
    {
     "data": {
      "text/markdown": [
       "derivatives"
      ],
      "text/plain": [
       "<IPython.core.display.Markdown object>"
      ]
     },
     "metadata": {},
     "output_type": "display_data"
    },
    {
     "data": {
      "text/markdown": [
       "**=== derivatives of higher order ===**"
      ],
      "text/plain": [
       "<IPython.core.display.Markdown object>"
      ]
     },
     "metadata": {},
     "output_type": "display_data"
    },
    {
     "data": {
      "text/markdown": [
       "derivatives higher order"
      ],
      "text/plain": [
       "<IPython.core.display.Markdown object>"
      ]
     },
     "metadata": {},
     "output_type": "display_data"
    },
    {
     "data": {
      "text/markdown": [
       "**=== dimension ===**"
      ],
      "text/plain": [
       "<IPython.core.display.Markdown object>"
      ]
     },
     "metadata": {},
     "output_type": "display_data"
    },
    {
     "data": {
      "text/markdown": [
       "dimension"
      ],
      "text/plain": [
       "<IPython.core.display.Markdown object>"
      ]
     },
     "metadata": {},
     "output_type": "display_data"
    },
    {
     "data": {
      "text/markdown": [
       "**=== direct comparison test ===**"
      ],
      "text/plain": [
       "<IPython.core.display.Markdown object>"
      ]
     },
     "metadata": {},
     "output_type": "display_data"
    },
    {
     "data": {
      "text/markdown": [
       "direct comparison test"
      ],
      "text/plain": [
       "<IPython.core.display.Markdown object>"
      ]
     },
     "metadata": {},
     "output_type": "display_data"
    },
    {
     "data": {
      "text/markdown": [
       "**=== divergence to infinity ===**"
      ],
      "text/plain": [
       "<IPython.core.display.Markdown object>"
      ]
     },
     "metadata": {},
     "output_type": "display_data"
    },
    {
     "data": {
      "text/markdown": [
       "divergence infinity"
      ],
      "text/plain": [
       "<IPython.core.display.Markdown object>"
      ]
     },
     "metadata": {},
     "output_type": "display_data"
    },
    {
     "data": {
      "text/markdown": [
       "**=== divergence to infinity: rules ===**"
      ],
      "text/plain": [
       "<IPython.core.display.Markdown object>"
      ]
     },
     "metadata": {},
     "output_type": "display_data"
    },
    {
     "data": {
      "text/markdown": [
       "rules divergence infinity"
      ],
      "text/plain": [
       "<IPython.core.display.Markdown object>"
      ]
     },
     "metadata": {},
     "output_type": "display_data"
    },
    {
     "data": {
      "text/markdown": [
       "**=== drawing complex-valued functions ===**"
      ],
      "text/plain": [
       "<IPython.core.display.Markdown object>"
      ]
     },
     "metadata": {},
     "output_type": "display_data"
    },
    {
     "data": {
      "text/markdown": [
       "drawing complex-valued functions"
      ],
      "text/plain": [
       "<IPython.core.display.Markdown object>"
      ]
     },
     "metadata": {},
     "output_type": "display_data"
    },
    {
     "data": {
      "text/markdown": [
       "**=== epimorphisms ===**"
      ],
      "text/plain": [
       "<IPython.core.display.Markdown object>"
      ]
     },
     "metadata": {},
     "output_type": "display_data"
    },
    {
     "data": {
      "text/markdown": [
       "epimorphisms"
      ],
      "text/plain": [
       "<IPython.core.display.Markdown object>"
      ]
     },
     "metadata": {},
     "output_type": "display_data"
    },
    {
     "data": {
      "text/markdown": [
       "**=== epsilon-delta definition of continuity ===**"
      ],
      "text/plain": [
       "<IPython.core.display.Markdown object>"
      ]
     },
     "metadata": {},
     "output_type": "display_data"
    },
    {
     "data": {
      "text/markdown": [
       "epsilon-delta definition continuity"
      ],
      "text/plain": [
       "<IPython.core.display.Markdown object>"
      ]
     },
     "metadata": {},
     "output_type": "display_data"
    },
    {
     "data": {
      "text/markdown": [
       "**=== examples and properties of sequences ===**"
      ],
      "text/plain": [
       "<IPython.core.display.Markdown object>"
      ]
     },
     "metadata": {},
     "output_type": "display_data"
    },
    {
     "data": {
      "text/markdown": [
       "sequence example"
      ],
      "text/plain": [
       "<IPython.core.display.Markdown object>"
      ]
     },
     "metadata": {},
     "output_type": "display_data"
    },
    {
     "data": {
      "text/markdown": [
       "sequence properties"
      ],
      "text/plain": [
       "<IPython.core.display.Markdown object>"
      ]
     },
     "metadata": {},
     "output_type": "display_data"
    },
    {
     "data": {
      "text/markdown": [
       "**=== examples for derivatives ===**"
      ],
      "text/plain": [
       "<IPython.core.display.Markdown object>"
      ]
     },
     "metadata": {},
     "output_type": "display_data"
    },
    {
     "data": {
      "text/markdown": [
       "examples derivatives"
      ],
      "text/plain": [
       "<IPython.core.display.Markdown object>"
      ]
     },
     "metadata": {},
     "output_type": "display_data"
    },
    {
     "data": {
      "text/markdown": [
       "**=== examples for limits ===**"
      ],
      "text/plain": [
       "<IPython.core.display.Markdown object>"
      ]
     },
     "metadata": {},
     "output_type": "display_data"
    },
    {
     "data": {
      "text/markdown": [
       "examples limits"
      ],
      "text/plain": [
       "<IPython.core.display.Markdown object>"
      ]
     },
     "metadata": {},
     "output_type": "display_data"
    },
    {
     "data": {
      "text/markdown": [
       "**=== exp and log functions for complex numbers ===**"
      ],
      "text/plain": [
       "<IPython.core.display.Markdown object>"
      ]
     },
     "metadata": {},
     "output_type": "display_data"
    },
    {
     "data": {
      "text/markdown": [
       "exp complex numbers"
      ],
      "text/plain": [
       "<IPython.core.display.Markdown object>"
      ]
     },
     "metadata": {},
     "output_type": "display_data"
    },
    {
     "data": {
      "text/markdown": [
       "log complex numbers"
      ],
      "text/plain": [
       "<IPython.core.display.Markdown object>"
      ]
     },
     "metadata": {},
     "output_type": "display_data"
    },
    {
     "data": {
      "text/markdown": [
       "**=== explicit and recursive description ===**"
      ],
      "text/plain": [
       "<IPython.core.display.Markdown object>"
      ]
     },
     "metadata": {},
     "output_type": "display_data"
    },
    {
     "data": {
      "text/markdown": [
       "explicit description sequence"
      ],
      "text/plain": [
       "<IPython.core.display.Markdown object>"
      ]
     },
     "metadata": {},
     "output_type": "display_data"
    },
    {
     "data": {
      "text/markdown": [
       "recursive description sequence"
      ],
      "text/plain": [
       "<IPython.core.display.Markdown object>"
      ]
     },
     "metadata": {},
     "output_type": "display_data"
    },
    {
     "data": {
      "text/markdown": [
       "**=== exponential series ===**"
      ],
      "text/plain": [
       "<IPython.core.display.Markdown object>"
      ]
     },
     "metadata": {},
     "output_type": "display_data"
    },
    {
     "data": {
      "text/markdown": [
       "exponential series"
      ],
      "text/plain": [
       "<IPython.core.display.Markdown object>"
      ]
     },
     "metadata": {},
     "output_type": "display_data"
    },
    {
     "data": {
      "text/markdown": [
       "**=== extreme value theorem ===**"
      ],
      "text/plain": [
       "<IPython.core.display.Markdown object>"
      ]
     },
     "metadata": {},
     "output_type": "display_data"
    },
    {
     "data": {
      "text/markdown": [
       "extreme value theorem"
      ],
      "text/plain": [
       "<IPython.core.display.Markdown object>"
      ]
     },
     "metadata": {},
     "output_type": "display_data"
    },
    {
     "data": {
      "text/markdown": [
       "**=== field as a vector space ===**"
      ],
      "text/plain": [
       "<IPython.core.display.Markdown object>"
      ]
     },
     "metadata": {},
     "output_type": "display_data"
    },
    {
     "data": {
      "text/markdown": [
       "field vector space"
      ],
      "text/plain": [
       "<IPython.core.display.Markdown object>"
      ]
     },
     "metadata": {},
     "output_type": "display_data"
    },
    {
     "data": {
      "text/markdown": [
       "**=== function spaces ===**"
      ],
      "text/plain": [
       "<IPython.core.display.Markdown object>"
      ]
     },
     "metadata": {},
     "output_type": "display_data"
    },
    {
     "data": {
      "text/markdown": [
       "function spaces"
      ],
      "text/plain": [
       "<IPython.core.display.Markdown object>"
      ]
     },
     "metadata": {},
     "output_type": "display_data"
    },
    {
     "data": {
      "text/markdown": [
       "**=== generators ===**"
      ],
      "text/plain": [
       "<IPython.core.display.Markdown object>"
      ]
     },
     "metadata": {},
     "output_type": "display_data"
    },
    {
     "data": {
      "text/markdown": [
       "generators"
      ],
      "text/plain": [
       "<IPython.core.display.Markdown object>"
      ]
     },
     "metadata": {},
     "output_type": "display_data"
    },
    {
     "data": {
      "text/markdown": [
       "**=== geometric series ===**"
      ],
      "text/plain": [
       "<IPython.core.display.Markdown object>"
      ]
     },
     "metadata": {},
     "output_type": "display_data"
    },
    {
     "data": {
      "text/markdown": [
       "geometric series"
      ],
      "text/plain": [
       "<IPython.core.display.Markdown object>"
      ]
     },
     "metadata": {},
     "output_type": "display_data"
    },
    {
     "data": {
      "text/markdown": [
       "**=== harmonic series ===**"
      ],
      "text/plain": [
       "<IPython.core.display.Markdown object>"
      ]
     },
     "metadata": {},
     "output_type": "display_data"
    },
    {
     "data": {
      "text/markdown": [
       "harmonic series"
      ],
      "text/plain": [
       "<IPython.core.display.Markdown object>"
      ]
     },
     "metadata": {},
     "output_type": "display_data"
    },
    {
     "data": {
      "text/markdown": [
       "**=== how to prove convergence and divergence ===**"
      ],
      "text/plain": [
       "<IPython.core.display.Markdown object>"
      ]
     },
     "metadata": {},
     "output_type": "display_data"
    },
    {
     "data": {
      "text/markdown": [
       "prove convergence"
      ],
      "text/plain": [
       "<IPython.core.display.Markdown object>"
      ]
     },
     "metadata": {},
     "output_type": "display_data"
    },
    {
     "data": {
      "text/markdown": [
       "prove divergence"
      ],
      "text/plain": [
       "<IPython.core.display.Markdown object>"
      ]
     },
     "metadata": {},
     "output_type": "display_data"
    },
    {
     "data": {
      "text/markdown": [
       "**=== how to prove convergence for recursive sequences ===**"
      ],
      "text/plain": [
       "<IPython.core.display.Markdown object>"
      ]
     },
     "metadata": {},
     "output_type": "display_data"
    },
    {
     "data": {
      "text/markdown": [
       "prove convergence recursive sequences"
      ],
      "text/plain": [
       "<IPython.core.display.Markdown object>"
      ]
     },
     "metadata": {},
     "output_type": "display_data"
    },
    {
     "data": {
      "text/markdown": [
       "**=== how to prove existence of a supremum or infimum ===**"
      ],
      "text/plain": [
       "<IPython.core.display.Markdown object>"
      ]
     },
     "metadata": {},
     "output_type": "display_data"
    },
    {
     "data": {
      "text/markdown": [
       "prove existence supremum infimum"
      ],
      "text/plain": [
       "<IPython.core.display.Markdown object>"
      ]
     },
     "metadata": {},
     "output_type": "display_data"
    },
    {
     "data": {
      "text/markdown": [
       "**=== intermediate value theorem ===**"
      ],
      "text/plain": [
       "<IPython.core.display.Markdown object>"
      ]
     },
     "metadata": {},
     "output_type": "display_data"
    },
    {
     "data": {
      "text/markdown": [
       "intermediate value theorem"
      ],
      "text/plain": [
       "<IPython.core.display.Markdown object>"
      ]
     },
     "metadata": {},
     "output_type": "display_data"
    },
    {
     "data": {
      "text/markdown": [
       "**=== introduction: vector space ===**"
      ],
      "text/plain": [
       "<IPython.core.display.Markdown object>"
      ]
     },
     "metadata": {},
     "output_type": "display_data"
    },
    {
     "data": {
      "text/markdown": [
       "vector space introduction"
      ],
      "text/plain": [
       "<IPython.core.display.Markdown object>"
      ]
     },
     "metadata": {},
     "output_type": "display_data"
    },
    {
     "data": {
      "text/markdown": [
       "**=== l'hôspital's rule ===**"
      ],
      "text/plain": [
       "<IPython.core.display.Markdown object>"
      ]
     },
     "metadata": {},
     "output_type": "display_data"
    },
    {
     "data": {
      "text/markdown": [
       "l'hôspital's rule"
      ],
      "text/plain": [
       "<IPython.core.display.Markdown object>"
      ]
     },
     "metadata": {},
     "output_type": "display_data"
    },
    {
     "data": {
      "text/markdown": [
       "**=== lim sup and lim inf ===**"
      ],
      "text/plain": [
       "<IPython.core.display.Markdown object>"
      ]
     },
     "metadata": {},
     "output_type": "display_data"
    },
    {
     "data": {
      "text/markdown": [
       "lim sup"
      ],
      "text/plain": [
       "<IPython.core.display.Markdown object>"
      ]
     },
     "metadata": {},
     "output_type": "display_data"
    },
    {
     "data": {
      "text/markdown": [
       "lim inf"
      ],
      "text/plain": [
       "<IPython.core.display.Markdown object>"
      ]
     },
     "metadata": {},
     "output_type": "display_data"
    },
    {
     "data": {
      "text/markdown": [
       "**=== limit: convergence and divergence ===**"
      ],
      "text/plain": [
       "<IPython.core.display.Markdown object>"
      ]
     },
     "metadata": {},
     "output_type": "display_data"
    },
    {
     "data": {
      "text/markdown": [
       "convergence limit"
      ],
      "text/plain": [
       "<IPython.core.display.Markdown object>"
      ]
     },
     "metadata": {},
     "output_type": "display_data"
    },
    {
     "data": {
      "text/markdown": [
       "divergence limit"
      ],
      "text/plain": [
       "<IPython.core.display.Markdown object>"
      ]
     },
     "metadata": {},
     "output_type": "display_data"
    },
    {
     "data": {
      "text/markdown": [
       "**=== limit of functions ===**"
      ],
      "text/plain": [
       "<IPython.core.display.Markdown object>"
      ]
     },
     "metadata": {},
     "output_type": "display_data"
    },
    {
     "data": {
      "text/markdown": [
       "limit functions"
      ],
      "text/plain": [
       "<IPython.core.display.Markdown object>"
      ]
     },
     "metadata": {},
     "output_type": "display_data"
    },
    {
     "data": {
      "text/markdown": [
       "**=== limit theorems ===**"
      ],
      "text/plain": [
       "<IPython.core.display.Markdown object>"
      ]
     },
     "metadata": {},
     "output_type": "display_data"
    },
    {
     "data": {
      "text/markdown": [
       "limit theorems"
      ],
      "text/plain": [
       "<IPython.core.display.Markdown object>"
      ]
     },
     "metadata": {},
     "output_type": "display_data"
    },
    {
     "data": {
      "text/markdown": [
       "**=== linear combinations ===**"
      ],
      "text/plain": [
       "<IPython.core.display.Markdown object>"
      ]
     },
     "metadata": {},
     "output_type": "display_data"
    },
    {
     "data": {
      "text/markdown": [
       "linear combinations"
      ],
      "text/plain": [
       "<IPython.core.display.Markdown object>"
      ]
     },
     "metadata": {},
     "output_type": "display_data"
    },
    {
     "data": {
      "text/markdown": [
       "**=== linear continuation ===**"
      ],
      "text/plain": [
       "<IPython.core.display.Markdown object>"
      ]
     },
     "metadata": {},
     "output_type": "display_data"
    },
    {
     "data": {
      "text/markdown": [
       "linear continuation"
      ],
      "text/plain": [
       "<IPython.core.display.Markdown object>"
      ]
     },
     "metadata": {},
     "output_type": "display_data"
    },
    {
     "data": {
      "text/markdown": [
       "**=== linear independence ===**"
      ],
      "text/plain": [
       "<IPython.core.display.Markdown object>"
      ]
     },
     "metadata": {},
     "output_type": "display_data"
    },
    {
     "data": {
      "text/markdown": [
       "linear independence"
      ],
      "text/plain": [
       "<IPython.core.display.Markdown object>"
      ]
     },
     "metadata": {},
     "output_type": "display_data"
    },
    {
     "data": {
      "text/markdown": [
       "**=== linear map ===**"
      ],
      "text/plain": [
       "<IPython.core.display.Markdown object>"
      ]
     },
     "metadata": {},
     "output_type": "display_data"
    },
    {
     "data": {
      "text/markdown": [
       "linear map"
      ],
      "text/plain": [
       "<IPython.core.display.Markdown object>"
      ]
     },
     "metadata": {},
     "output_type": "display_data"
    },
    {
     "data": {
      "text/markdown": [
       "**=== lipschitz continuity ===**"
      ],
      "text/plain": [
       "<IPython.core.display.Markdown object>"
      ]
     },
     "metadata": {},
     "output_type": "display_data"
    },
    {
     "data": {
      "text/markdown": [
       "lipschitz continuity"
      ],
      "text/plain": [
       "<IPython.core.display.Markdown object>"
      ]
     },
     "metadata": {},
     "output_type": "display_data"
    },
    {
     "data": {
      "text/markdown": [
       "**=== logarithmic function ===**"
      ],
      "text/plain": [
       "<IPython.core.display.Markdown object>"
      ]
     },
     "metadata": {},
     "output_type": "display_data"
    },
    {
     "data": {
      "text/markdown": [
       "logarithmic function"
      ],
      "text/plain": [
       "<IPython.core.display.Markdown object>"
      ]
     },
     "metadata": {},
     "output_type": "display_data"
    },
    {
     "data": {
      "text/markdown": [
       "**=== mathematical induction ===**"
      ],
      "text/plain": [
       "<IPython.core.display.Markdown object>"
      ]
     },
     "metadata": {},
     "output_type": "display_data"
    },
    {
     "data": {
      "text/markdown": [
       "mathematical induction"
      ],
      "text/plain": [
       "<IPython.core.display.Markdown object>"
      ]
     },
     "metadata": {},
     "output_type": "display_data"
    },
    {
     "data": {
      "text/markdown": [
       "**=== mean value theorem ===**"
      ],
      "text/plain": [
       "<IPython.core.display.Markdown object>"
      ]
     },
     "metadata": {},
     "output_type": "display_data"
    },
    {
     "data": {
      "text/markdown": [
       "mean value theorem"
      ],
      "text/plain": [
       "<IPython.core.display.Markdown object>"
      ]
     },
     "metadata": {},
     "output_type": "display_data"
    },
    {
     "data": {
      "text/markdown": [
       "**=== monomorphisms ===**"
      ],
      "text/plain": [
       "<IPython.core.display.Markdown object>"
      ]
     },
     "metadata": {},
     "output_type": "display_data"
    },
    {
     "data": {
      "text/markdown": [
       "monomorphisms"
      ],
      "text/plain": [
       "<IPython.core.display.Markdown object>"
      ]
     },
     "metadata": {},
     "output_type": "display_data"
    },
    {
     "data": {
      "text/markdown": [
       "**=== monotone functions ===**"
      ],
      "text/plain": [
       "<IPython.core.display.Markdown object>"
      ]
     },
     "metadata": {},
     "output_type": "display_data"
    },
    {
     "data": {
      "text/markdown": [
       "monotone functions"
      ],
      "text/plain": [
       "<IPython.core.display.Markdown object>"
      ]
     },
     "metadata": {},
     "output_type": "display_data"
    },
    {
     "data": {
      "text/markdown": [
       "**=== monotony criterion ===**"
      ],
      "text/plain": [
       "<IPython.core.display.Markdown object>"
      ]
     },
     "metadata": {},
     "output_type": "display_data"
    },
    {
     "data": {
      "text/markdown": [
       "monotony criterion"
      ],
      "text/plain": [
       "<IPython.core.display.Markdown object>"
      ]
     },
     "metadata": {},
     "output_type": "display_data"
    },
    {
     "data": {
      "text/markdown": [
       "**=== overview: continuity and differentiability ===**"
      ],
      "text/plain": [
       "<IPython.core.display.Markdown object>"
      ]
     },
     "metadata": {},
     "output_type": "display_data"
    },
    {
     "data": {
      "text/markdown": [
       "continuity overview"
      ],
      "text/plain": [
       "<IPython.core.display.Markdown object>"
      ]
     },
     "metadata": {},
     "output_type": "display_data"
    },
    {
     "data": {
      "text/markdown": [
       "differentiability overview"
      ],
      "text/plain": [
       "<IPython.core.display.Markdown object>"
      ]
     },
     "metadata": {},
     "output_type": "display_data"
    },
    {
     "data": {
      "text/markdown": [
       "**=== overview: convergence criteria ===**"
      ],
      "text/plain": [
       "<IPython.core.display.Markdown object>"
      ]
     },
     "metadata": {},
     "output_type": "display_data"
    },
    {
     "data": {
      "text/markdown": [
       "convergence criteria overview"
      ],
      "text/plain": [
       "<IPython.core.display.Markdown object>"
      ]
     },
     "metadata": {},
     "output_type": "display_data"
    },
    {
     "data": {
      "text/markdown": [
       "**=== polar representation ===**"
      ],
      "text/plain": [
       "<IPython.core.display.Markdown object>"
      ]
     },
     "metadata": {},
     "output_type": "display_data"
    },
    {
     "data": {
      "text/markdown": [
       "polar representation"
      ],
      "text/plain": [
       "<IPython.core.display.Markdown object>"
      ]
     },
     "metadata": {},
     "output_type": "display_data"
    },
    {
     "data": {
      "text/markdown": [
       "**=== proofs for linear maps ===**"
      ],
      "text/plain": [
       "<IPython.core.display.Markdown object>"
      ]
     },
     "metadata": {},
     "output_type": "display_data"
    },
    {
     "data": {
      "text/markdown": [
       "proofs linear maps"
      ],
      "text/plain": [
       "<IPython.core.display.Markdown object>"
      ]
     },
     "metadata": {},
     "output_type": "display_data"
    },
    {
     "data": {
      "text/markdown": [
       "**=== proofs for vector spaces ===**"
      ],
      "text/plain": [
       "<IPython.core.display.Markdown object>"
      ]
     },
     "metadata": {},
     "output_type": "display_data"
    },
    {
     "data": {
      "text/markdown": [
       "proofs vector spaces"
      ],
      "text/plain": [
       "<IPython.core.display.Markdown object>"
      ]
     },
     "metadata": {},
     "output_type": "display_data"
    },
    {
     "data": {
      "text/markdown": [
       "**=== properties of linear maps ===**"
      ],
      "text/plain": [
       "<IPython.core.display.Markdown object>"
      ]
     },
     "metadata": {},
     "output_type": "display_data"
    },
    {
     "data": {
      "text/markdown": [
       "properties linear maps"
      ],
      "text/plain": [
       "<IPython.core.display.Markdown object>"
      ]
     },
     "metadata": {},
     "output_type": "display_data"
    },
    {
     "data": {
      "text/markdown": [
       "**=== properties of supremum and infimum ===**"
      ],
      "text/plain": [
       "<IPython.core.display.Markdown object>"
      ]
     },
     "metadata": {},
     "output_type": "display_data"
    },
    {
     "data": {
      "text/markdown": [
       "properties supremum"
      ],
      "text/plain": [
       "<IPython.core.display.Markdown object>"
      ]
     },
     "metadata": {},
     "output_type": "display_data"
    },
    {
     "data": {
      "text/markdown": [
       "properties infimum"
      ],
      "text/plain": [
       "<IPython.core.display.Markdown object>"
      ]
     },
     "metadata": {},
     "output_type": "display_data"
    },
    {
     "data": {
      "text/markdown": [
       "**=== properties of the exponential series ===**"
      ],
      "text/plain": [
       "<IPython.core.display.Markdown object>"
      ]
     },
     "metadata": {},
     "output_type": "display_data"
    },
    {
     "data": {
      "text/markdown": [
       "properties exponential series"
      ],
      "text/plain": [
       "<IPython.core.display.Markdown object>"
      ]
     },
     "metadata": {},
     "output_type": "display_data"
    },
    {
     "data": {
      "text/markdown": [
       "**=== propositional logic ===**"
      ],
      "text/plain": [
       "<IPython.core.display.Markdown object>"
      ]
     },
     "metadata": {},
     "output_type": "display_data"
    },
    {
     "data": {
      "text/markdown": [
       "propositional logic"
      ],
      "text/plain": [
       "<IPython.core.display.Markdown object>"
      ]
     },
     "metadata": {},
     "output_type": "display_data"
    },
    {
     "data": {
      "text/markdown": [
       "**=== proving continuity ===**"
      ],
      "text/plain": [
       "<IPython.core.display.Markdown object>"
      ]
     },
     "metadata": {},
     "output_type": "display_data"
    },
    {
     "data": {
      "text/markdown": [
       "proving continuity"
      ],
      "text/plain": [
       "<IPython.core.display.Markdown object>"
      ]
     },
     "metadata": {},
     "output_type": "display_data"
    },
    {
     "data": {
      "text/markdown": [
       "**=== proving discontinuity ===**"
      ],
      "text/plain": [
       "<IPython.core.display.Markdown object>"
      ]
     },
     "metadata": {},
     "output_type": "display_data"
    },
    {
     "data": {
      "text/markdown": [
       "proving discontinuity"
      ],
      "text/plain": [
       "<IPython.core.display.Markdown object>"
      ]
     },
     "metadata": {},
     "output_type": "display_data"
    },
    {
     "data": {
      "text/markdown": [
       "**=== ratio test ===**"
      ],
      "text/plain": [
       "<IPython.core.display.Markdown object>"
      ]
     },
     "metadata": {},
     "output_type": "display_data"
    },
    {
     "data": {
      "text/markdown": [
       "ratio test"
      ],
      "text/plain": [
       "<IPython.core.display.Markdown object>"
      ]
     },
     "metadata": {},
     "output_type": "display_data"
    },
    {
     "data": {
      "text/markdown": [
       "**=== real analysis ===**"
      ],
      "text/plain": [
       "<IPython.core.display.Markdown object>"
      ]
     },
     "metadata": {},
     "output_type": "display_data"
    },
    {
     "data": {
      "text/markdown": [
       "real analysis"
      ],
      "text/plain": [
       "<IPython.core.display.Markdown object>"
      ]
     },
     "metadata": {},
     "output_type": "display_data"
    },
    {
     "data": {
      "text/markdown": [
       "**=== real exponents ===**"
      ],
      "text/plain": [
       "<IPython.core.display.Markdown object>"
      ]
     },
     "metadata": {},
     "output_type": "display_data"
    },
    {
     "data": {
      "text/markdown": [
       "real exponents"
      ],
      "text/plain": [
       "<IPython.core.display.Markdown object>"
      ]
     },
     "metadata": {},
     "output_type": "display_data"
    },
    {
     "data": {
      "text/markdown": [
       "**=== real numbers ===**"
      ],
      "text/plain": [
       "<IPython.core.display.Markdown object>"
      ]
     },
     "metadata": {},
     "output_type": "display_data"
    },
    {
     "data": {
      "text/markdown": [
       "real numbers"
      ],
      "text/plain": [
       "<IPython.core.display.Markdown object>"
      ]
     },
     "metadata": {},
     "output_type": "display_data"
    },
    {
     "data": {
      "text/markdown": [
       "**=== rearrangement theorem for series ===**"
      ],
      "text/plain": [
       "<IPython.core.display.Markdown object>"
      ]
     },
     "metadata": {},
     "output_type": "display_data"
    },
    {
     "data": {
      "text/markdown": [
       "rearrangement theorem series"
      ],
      "text/plain": [
       "<IPython.core.display.Markdown object>"
      ]
     },
     "metadata": {},
     "output_type": "display_data"
    },
    {
     "data": {
      "text/markdown": [
       "**=== rolle's theorem ===**"
      ],
      "text/plain": [
       "<IPython.core.display.Markdown object>"
      ]
     },
     "metadata": {},
     "output_type": "display_data"
    },
    {
     "data": {
      "text/markdown": [
       "rolle's theorem"
      ],
      "text/plain": [
       "<IPython.core.display.Markdown object>"
      ]
     },
     "metadata": {},
     "output_type": "display_data"
    },
    {
     "data": {
      "text/markdown": [
       "**=== root test ===**"
      ],
      "text/plain": [
       "<IPython.core.display.Markdown object>"
      ]
     },
     "metadata": {},
     "output_type": "display_data"
    },
    {
     "data": {
      "text/markdown": [
       "root test"
      ],
      "text/plain": [
       "<IPython.core.display.Markdown object>"
      ]
     },
     "metadata": {},
     "output_type": "display_data"
    },
    {
     "data": {
      "text/markdown": [
       "**=== sequence spaces ===**"
      ],
      "text/plain": [
       "<IPython.core.display.Markdown object>"
      ]
     },
     "metadata": {},
     "output_type": "display_data"
    },
    {
     "data": {
      "text/markdown": [
       "sequence spaces"
      ],
      "text/plain": [
       "<IPython.core.display.Markdown object>"
      ]
     },
     "metadata": {},
     "output_type": "display_data"
    },
    {
     "data": {
      "text/markdown": [
       "**=== sequences ===**"
      ],
      "text/plain": [
       "<IPython.core.display.Markdown object>"
      ]
     },
     "metadata": {},
     "output_type": "display_data"
    },
    {
     "data": {
      "text/markdown": [
       "sequences"
      ],
      "text/plain": [
       "<IPython.core.display.Markdown object>"
      ]
     },
     "metadata": {},
     "output_type": "display_data"
    },
    {
     "data": {
      "text/markdown": [
       "**=== sequential definition of continuity ===**"
      ],
      "text/plain": [
       "<IPython.core.display.Markdown object>"
      ]
     },
     "metadata": {},
     "output_type": "display_data"
    },
    {
     "data": {
      "text/markdown": [
       "sequential definition continuity"
      ],
      "text/plain": [
       "<IPython.core.display.Markdown object>"
      ]
     },
     "metadata": {},
     "output_type": "display_data"
    },
    {
     "data": {
      "text/markdown": [
       "**=== series ===**"
      ],
      "text/plain": [
       "<IPython.core.display.Markdown object>"
      ]
     },
     "metadata": {},
     "output_type": "display_data"
    },
    {
     "data": {
      "text/markdown": [
       "series"
      ],
      "text/plain": [
       "<IPython.core.display.Markdown object>"
      ]
     },
     "metadata": {},
     "output_type": "display_data"
    },
    {
     "data": {
      "text/markdown": [
       "**=== sine and cosine ===**"
      ],
      "text/plain": [
       "<IPython.core.display.Markdown object>"
      ]
     },
     "metadata": {},
     "output_type": "display_data"
    },
    {
     "data": {
      "text/markdown": [
       "sine"
      ],
      "text/plain": [
       "<IPython.core.display.Markdown object>"
      ]
     },
     "metadata": {},
     "output_type": "display_data"
    },
    {
     "data": {
      "text/markdown": [
       "cosine"
      ],
      "text/plain": [
       "<IPython.core.display.Markdown object>"
      ]
     },
     "metadata": {},
     "output_type": "display_data"
    },
    {
     "data": {
      "text/markdown": [
       "**=== span ===**"
      ],
      "text/plain": [
       "<IPython.core.display.Markdown object>"
      ]
     },
     "metadata": {},
     "output_type": "display_data"
    },
    {
     "data": {
      "text/markdown": [
       "span"
      ],
      "text/plain": [
       "<IPython.core.display.Markdown object>"
      ]
     },
     "metadata": {},
     "output_type": "display_data"
    },
    {
     "data": {
      "text/markdown": [
       "**=== steinitz's theorem ===**"
      ],
      "text/plain": [
       "<IPython.core.display.Markdown object>"
      ]
     },
     "metadata": {},
     "output_type": "display_data"
    },
    {
     "data": {
      "text/markdown": [
       "steinitz's theorem"
      ],
      "text/plain": [
       "<IPython.core.display.Markdown object>"
      ]
     },
     "metadata": {},
     "output_type": "display_data"
    },
    {
     "data": {
      "text/markdown": [
       "**=== subsequence ===**"
      ],
      "text/plain": [
       "<IPython.core.display.Markdown object>"
      ]
     },
     "metadata": {},
     "output_type": "display_data"
    },
    {
     "data": {
      "text/markdown": [
       "subsequence"
      ],
      "text/plain": [
       "<IPython.core.display.Markdown object>"
      ]
     },
     "metadata": {},
     "output_type": "display_data"
    },
    {
     "data": {
      "text/markdown": [
       "**=== subspace ===**"
      ],
      "text/plain": [
       "<IPython.core.display.Markdown object>"
      ]
     },
     "metadata": {},
     "output_type": "display_data"
    },
    {
     "data": {
      "text/markdown": [
       "subspace"
      ],
      "text/plain": [
       "<IPython.core.display.Markdown object>"
      ]
     },
     "metadata": {},
     "output_type": "display_data"
    },
    {
     "data": {
      "text/markdown": [
       "**=== supremum and infimum ===**"
      ],
      "text/plain": [
       "<IPython.core.display.Markdown object>"
      ]
     },
     "metadata": {},
     "output_type": "display_data"
    },
    {
     "data": {
      "text/markdown": [
       "supremum"
      ],
      "text/plain": [
       "<IPython.core.display.Markdown object>"
      ]
     },
     "metadata": {},
     "output_type": "display_data"
    },
    {
     "data": {
      "text/markdown": [
       "infimum"
      ],
      "text/plain": [
       "<IPython.core.display.Markdown object>"
      ]
     },
     "metadata": {},
     "output_type": "display_data"
    },
    {
     "data": {
      "text/markdown": [
       "**=== telescoping sums and series ===**"
      ],
      "text/plain": [
       "<IPython.core.display.Markdown object>"
      ]
     },
     "metadata": {},
     "output_type": "display_data"
    },
    {
     "data": {
      "text/markdown": [
       "telescoping sum"
      ],
      "text/plain": [
       "<IPython.core.display.Markdown object>"
      ]
     },
     "metadata": {},
     "output_type": "display_data"
    },
    {
     "data": {
      "text/markdown": [
       "telescoping series"
      ],
      "text/plain": [
       "<IPython.core.display.Markdown object>"
      ]
     },
     "metadata": {},
     "output_type": "display_data"
    },
    {
     "data": {
      "text/markdown": [
       "**=== term test ===**"
      ],
      "text/plain": [
       "<IPython.core.display.Markdown object>"
      ]
     },
     "metadata": {},
     "output_type": "display_data"
    },
    {
     "data": {
      "text/markdown": [
       "term test"
      ],
      "text/plain": [
       "<IPython.core.display.Markdown object>"
      ]
     },
     "metadata": {},
     "output_type": "display_data"
    },
    {
     "data": {
      "text/markdown": [
       "**=== the bolzano-weierstrass theorem ===**"
      ],
      "text/plain": [
       "<IPython.core.display.Markdown object>"
      ]
     },
     "metadata": {},
     "output_type": "display_data"
    },
    {
     "data": {
      "text/markdown": [
       "bolzano-weierstrass theorem"
      ],
      "text/plain": [
       "<IPython.core.display.Markdown object>"
      ]
     },
     "metadata": {},
     "output_type": "display_data"
    },
    {
     "data": {
      "text/markdown": [
       "**=== the infinite case ===**"
      ],
      "text/plain": [
       "<IPython.core.display.Markdown object>"
      ]
     },
     "metadata": {},
     "output_type": "display_data"
    },
    {
     "data": {
      "text/markdown": [
       "infinite case"
      ],
      "text/plain": [
       "<IPython.core.display.Markdown object>"
      ]
     },
     "metadata": {},
     "output_type": "display_data"
    },
    {
     "data": {
      "text/markdown": [
       "**=== the squeeze theorem ===**"
      ],
      "text/plain": [
       "<IPython.core.display.Markdown object>"
      ]
     },
     "metadata": {},
     "output_type": "display_data"
    },
    {
     "data": {
      "text/markdown": [
       "squeeze theorem"
      ],
      "text/plain": [
       "<IPython.core.display.Markdown object>"
      ]
     },
     "metadata": {},
     "output_type": "display_data"
    },
    {
     "data": {
      "text/markdown": [
       "**=== unbounded sequences diverge ===**"
      ],
      "text/plain": [
       "<IPython.core.display.Markdown object>"
      ]
     },
     "metadata": {},
     "output_type": "display_data"
    },
    {
     "data": {
      "text/markdown": [
       "unbounded sequences diverge"
      ],
      "text/plain": [
       "<IPython.core.display.Markdown object>"
      ]
     },
     "metadata": {},
     "output_type": "display_data"
    },
    {
     "data": {
      "text/markdown": [
       "**=== uniform continuity ===**"
      ],
      "text/plain": [
       "<IPython.core.display.Markdown object>"
      ]
     },
     "metadata": {},
     "output_type": "display_data"
    },
    {
     "data": {
      "text/markdown": [
       "uniform continuity"
      ],
      "text/plain": [
       "<IPython.core.display.Markdown object>"
      ]
     },
     "metadata": {},
     "output_type": "display_data"
    },
    {
     "data": {
      "text/markdown": [
       "**=== vector space ===**"
      ],
      "text/plain": [
       "<IPython.core.display.Markdown object>"
      ]
     },
     "metadata": {},
     "output_type": "display_data"
    },
    {
     "data": {
      "text/markdown": [
       "vector space"
      ],
      "text/plain": [
       "<IPython.core.display.Markdown object>"
      ]
     },
     "metadata": {},
     "output_type": "display_data"
    },
    {
     "data": {
      "text/markdown": [
       "**=== vector space: properties ===**"
      ],
      "text/plain": [
       "<IPython.core.display.Markdown object>"
      ]
     },
     "metadata": {},
     "output_type": "display_data"
    },
    {
     "data": {
      "text/markdown": [
       "properties vector space"
      ],
      "text/plain": [
       "<IPython.core.display.Markdown object>"
      ]
     },
     "metadata": {},
     "output_type": "display_data"
    }
   ],
   "source": [
    "import json\n",
    "\n",
    "blacklist = [\n",
    " 'anwendungsbeispiele',\n",
    " 'autor*innenübersicht',\n",
    " 'banner',\n",
    " 'beobachtungsliste',\n",
    " 'best practices für entscheidungsprozesse',\n",
    " 'buchanfänge',\n",
    " 'eine persönliche spielwiese erstellen',\n",
    " 'erstellen von medien',\n",
    " 'formatierungskonventionen',\n",
    " 'formelumgebung',\n",
    " 'grundlagen der mathematik: zusammenfassung',\n",
    " 'grundlegende formatierungen',\n",
    " 'grundvorstellung finden',\n",
    " 'hilfreiche links',\n",
    " 'hinweise zu lizenzen',\n",
    " 'hochladen und einbinden von medien',\n",
    " 'inhalte doppelt einbinden',\n",
    " 'interaktion mit der community',\n",
    " 'kopiere uns',\n",
    " 'linter',\n",
    " 'liste mathematischer symbole',\n",
    " 'mathematische konventionen',\n",
    " 'mitmachen für (nicht-)freaks',\n",
    " 'phabricator',\n",
    " 'print specification',\n",
    " 'projektbeschreibung',\n",
    " 'sitemap',\n",
    " 'spenden',\n",
    " 'spickzettel für mathe-formeln',\n",
    " 'sprachliche konventionen',\n",
    " 'umfragen',\n",
    " 'unsere didaktische vision',\n",
    " 'unterstütze uns',\n",
    " 'volltextsuche',\n",
    " 'wörterbuch',\n",
    " 'zitieren und quellenangaben',\n",
    " 'zugriffszahlen messen',\n",
    " 'über das projekt',\n",
    " 'guidelines for translation',\n",
    " 'translating articles',\n",
    "\"vorlage\", \"archiv\", \"aufgaben\", \"buchanfang\",\n",
    "                \"abstellraum\", \"hilfe\", \"exercises\", \"analysis 2\",\n",
    "                \"artikel\", \"mathe für nicht-freaks\", \"serlo\",\n",
    "\"mitmachen für nicht-freaks\"]\n",
    "\n",
    "\n",
    "predefined_keywords = {\n",
    "    \"ableitung und lokale extrema\": [\"lokale extrema\", \"lokale extrema ableitung\"],\n",
    "    \"aufzählende und beschreibende mengenschreibweise\": [\"aufzählende mengenschreibweise\", \"beschreibende mengenschreibweise\"],\n",
    "    \"beispiele und eigenschaften von folgen\": [\"beispiele folgen\", \"eigenschaften folgen\"],\n",
    "    \"beschränkte reihen und konvergenz\": [\"beschränkte reihen konvergenz\", \"beschränke reihen\"],\n",
    "    \"direkter und indirekter beweis\": [\"direkter beweis\", \"indirekter beweis\"],\n",
    "    \"eigenschaften des sinus und kosinus\": [\"eigenschaften sinus\", \"eigenschaften kosinus\"],\n",
    "    \"explizite und rekursive bildungsgesetze für folgen\": [\"explizite bildungsgesetze folgen\", \"rekursive bildungsgesetze folgen\"],\n",
    "    \"exponential- und logarithmusfunktion in den komplexen zahlen\": [\n",
    "        \"exponentialfunktion komplexe zahlen\", \"logarithmusfunktion komplexe zahlen\"\n",
    "    ],\n",
    "    \"folgenkriterium der stetigkeit: folgenstetigkeit\": [\n",
    "        \"folgenkriterium stetigkeit\", \"folgenstetigkeit\"\n",
    "    ],\n",
    "    \"grenzwert: konvergenz und divergenz\": [\n",
    "        \"grenzwert\", \"konvergenz\", \"divergenz\"\n",
    "    ],\n",
    "    \"grenzwertsätze: grenzwert von folgen berechnen\": [\n",
    "        \"grenzwertsätze\", \"grenzwert berechnen\"\n",
    "    ],\n",
    "    \"hauptsatz der differential- und integralrechnung\": [\n",
    "        \"hauptsatz differentialrechnung\", \"hauptsatz integralrechnung\", \"hauptsatz der differential- und integralrechnung\"\n",
    "    ],\n",
    "    \"herleitung und definition der exponentialfunktion\": [\n",
    "        \"herleitung exponentialfunktion\", \"definition exponentialfunktion\"\n",
    "    ],\n",
    "    \"häufungspunkt und berührpunkt einer menge\": [\n",
    "        \"häufungspunkt menge\", \"berührpunkt menge\"\n",
    "    ],\n",
    "    \"intuition hinter isomorphiesatz und dimensionsformel\": [\n",
    "        \"isomorphiesatz\", \"dimensionsformel\"\n",
    "    ],\n",
    "    \"kern einer linearen abbildung\": [ \"kern lineare abbildung\" ],\n",
    "    \"komplexen zahlen: definition\": [\"definition komplexe zahlen\"],\n",
    "    \"konvergenz und divergenz beweisen\": [\"konvergenz beweis\", \"divergenz beweis\"],\n",
    "    \"konstanzkriterium: zusammenhang zwischen konstanz einer funktion und ihrer ableitung\": [\n",
    "        \"konstanzkriterium\", \"konstante funktion ableitung\"\n",
    "    ],\n",
    "    \"konvergenz und divergenz einer reihe beweisen: konvergenzkriterien\": [\n",
    "        \"konvergenz reihe\", \"divergenz reihe\", \"konvergenzkriterien\"\n",
    "    ],\n",
    "    \"leibniz-formel der determinante\": [\"leibniz-formel\"],\n",
    "    \"lineare abbildung und darstellende matrix\": [\n",
    "        \"darstellende matrix\", \"darstellende matrix lineare abbildung\"\n",
    "    ],\n",
    "    \"mengendiagramme: euler- und venn-diagramm\": [\n",
    "        \"mengendiagramm\", \"eulerdiagramm\", \"venn-diagramm\"\n",
    "    ],\n",
    "    \"mengenlehre: menge\": [\"mengenlehre\", \"menge\"],\n",
    "    \"monotoniekriterium: zusammenhang zwischen monotonie und ableitung einer funktion\": [\n",
    "        \"monotoniekriterium\", \"monotonie ableitung\"\n",
    "    ],\n",
    "    \"notwendige und hinreichende bedingungen\": [\n",
    "        \"notwendige bedingung\", \"hinreichende bedingung\"\n",
    "    ],\n",
    "    \"polarform bzw. polardarstellung komplexer zahlen\": [\n",
    "        \"polarform\", \"polardarstellung\"\n",
    "    ],\n",
    "    \"satz vom minimum und maximum\": [\"satz maximum\", \"satz minimum\"],\n",
    "    \"eigenschaften supremum infimum\": [\n",
    "        \"eigenschaften supremum\", \"eigenschaften infimum\"\n",
    "    ],\n",
    "    \"supremum und infimum bestimmen und beweisen\": [\n",
    "        \"beweis supremum\", \"beweis infimum\", \"supremum bestimmen\", \"infimum bestimmen\"\n",
    "    ],\n",
    "    \"uneigentliches supremum und infimum\": [\n",
    "        \"uneigentliches supremum\", \"uneigentliches infimum\"\n",
    "    ],\n",
    "    \"vektoren vektorräume schule\": [\n",
    "        \"vektoren schule\", \"vektorräume schule\"\n",
    "    ],\n",
    "    \"vektorraum: summe von unterräumen\": [\"summe vektorraum\", \"summe unterräume\"],\n",
    "    \"vereinigung und durchschnitt von vektorräumen\": [\"vereinigung vektorraum\", \"durschschnitt vektorraum\"],\n",
    "    \"vektorraum: summen und innere direkte summen von mehr als zwei unterräumen\": [\n",
    "        \"direkte summe vektorraum\", \"indirekte summe vektorraum\"\n",
    "    ],\n",
    "    \"derivation and definition of the exponential series\": [\n",
    "        \"derivation exponential series\", \"definition exponential series\"\n",
    "    ],\n",
    "    \"derivative and local extrema\": [\n",
    "        \"local extrema\", \"derivative local extrema\"\n",
    "    ],\n",
    "    \"examples and properties of sequences\": [\n",
    "        \"sequence example\", \"sequence properties\"\n",
    "    ],\n",
    "    \"exp and log functions for complex numbers\": [\n",
    "        \"exp complex numbers\", \"log complex numbers\"\n",
    "    ],\n",
    "    \"explicit and recursive description\": [\n",
    "        \"explicit description sequence\", \"recursive description sequence\"\n",
    "    ],\n",
    "    \"how to prove convergence and divergence\": [\n",
    "        \"prove convergence\", \"prove divergence\"\n",
    "    ],\n",
    "    \"prove existence supremum infimum\": [\n",
    "        \"prove supremum\", \"prove infimum\"\n",
    "    ],\n",
    "    \"introduction and motivation\": [],\n",
    "    \"properties of supremum and infimum\": [\"properties supremum\", \"properties infimum\"],\n",
    "    \"telescoping sums and series\": [\"telescoping sum\", \"telescoping series\"]\n",
    "}\n",
    "\n",
    "def get_wb_keywords():\n",
    "    titles = (list_wikibooks_pages(\"Mathe für Nicht-Freaks\") +\n",
    "              list_wikibooks_pages(\"Serlo\"))\n",
    "    titles = [ normalize(t) for t in titles if not is_redirect(t)]\n",
    "    titles = [ t for t in titles if is_article(t)]\n",
    "    \n",
    "    for title in titles:\n",
    "        yield from get_keyword_entries(title)\n",
    "\n",
    "def is_article(title):\n",
    "    for word in blacklist:\n",
    "        if word in title:\n",
    "            return False\n",
    "    \n",
    "    for word in [\"wer\", \"was\", \"wie\", \"what\", \"why\", \"wozu\"]:\n",
    "        if title.startswith(word):\n",
    "            return False\n",
    "    \n",
    "    return True\n",
    "\n",
    "def normalize(title):\n",
    "    title = remove_prefix(title.lower()).strip()\n",
    "    title = title.replace(\"ableitungsregeln\", \"ableitung\").replace(\"(\", \"\").replace(\")\", \"\")\n",
    "    \n",
    "    return title\n",
    "\n",
    "def remove_prefix(title):\n",
    "    return title.replace(\"mathe für nicht-freaks: \", \"\").replace(\"serlo: en: \", \"\")\n",
    "\n",
    "def list_keywords(title):\n",
    "    if title in predefined_keywords:\n",
    "        yield from predefined_keywords[title]\n",
    "    else:\n",
    "        suffix = \"\"\n",
    "\n",
    "        if \":\" in title:\n",
    "            parts = title.split(\":\")\n",
    "\n",
    "            title = parts[-1]\n",
    "            suffixes = parts[:-1]\n",
    "            suffixes.reverse()\n",
    "            suffix = \" \".join(suffixes)\n",
    "\n",
    "        kexwords = title.split(\",\")\n",
    "        keywords = sum((x.split(\" und \") for x in kexwords), [])\n",
    "        keywords = sum((x.split(\" and \") for x in kexwords), [])\n",
    "\n",
    "        for keyword in keywords:\n",
    "            keyword = (keyword.strip() + \" \" + suffix).strip()\n",
    "\n",
    "            words = [normalize_word(w) for w in keyword.split(\" \") if is_keyword(w)]\n",
    "            yield \" \".join(words)\n",
    "\n",
    "def get_keyword_entries(title):\n",
    "    keywords = list_keywords(title)\n",
    "    language = \"en\" if title.startswith(\"Serlo\") else \"de\"\n",
    "    \n",
    "    for keyword in keywords:\n",
    "        yield {\"keyword\": keyword, \"language\": language, \"scope\": \"hochschule\",\n",
    "               \"subject\": \"Mathe\", \"title\": title}\n",
    "                   \n",
    "def is_keyword(word):\n",
    "    if word in [\"1\", \"2\", \"lim\", \"sup\", \"inf\", \"map\"]:\n",
    "        return True\n",
    "    if len(word) <= 3:\n",
    "        return False\n",
    "    if len(word) == 4 and word.startswith(\"ein\"):\n",
    "        return False\n",
    "    if word in [\"einer\", \"eines\", \"führen\", \"besonderer\", \"einführung\", \"bzw.\", \"zwischen\"]:\n",
    "        return False\n",
    "    \n",
    "    return True\n",
    "\n",
    "def normalize_word(word):\n",
    "    if word == \"integrale\":\n",
    "        return \"integral\"\n",
    "    \n",
    "    return word\n",
    "\n",
    "def display_keywords(keywords):\n",
    "    display(Markdown(\"### Liste aller Keywords (Anzahl = %s):\" % len(keywords)))\n",
    "    \n",
    "    keyword_by_title = {}\n",
    "    \n",
    "    for keyword in keywords:\n",
    "        if keyword[\"title\"] not in keyword_by_title:\n",
    "            keyword_by_title[keyword[\"title\"]] = []\n",
    "            \n",
    "        keyword_by_title[keyword[\"title\"]].append(keyword[\"keyword\"])\n",
    "    \n",
    "    for title, keywords in keyword_by_title.items():\n",
    "        display(Markdown(\"**=== %s ===**\" % title))\n",
    "    \n",
    "        for keyword in keywords:\n",
    "            display(Markdown(keyword))\n",
    "\n",
    "wb_keywords = list(unique(get_wb_keywords()))\n",
    "display_keywords(wb_keywords)"
   ]
  },
  {
   "cell_type": "markdown",
   "id": "desirable-copper",
   "metadata": {},
   "source": [
    "# Speichern der Keywords"
   ]
  },
  {
   "cell_type": "code",
   "execution_count": 66,
   "id": "laughing-mileage",
   "metadata": {},
   "outputs": [],
   "source": [
    "import json\n",
    "\n",
    "with open(\"/home/kulla/workspace/serlo/seo/keywords.json\", \"w\") as fd:\n",
    "    keywords = list(serlo_keywords.to_dict(\"records\")) + wb_keywords\n",
    "    \n",
    "    json.dump(keywords, fd)"
   ]
  }
 ],
 "metadata": {
  "kernelspec": {
   "display_name": "Python 3",
   "language": "python",
   "name": "python3"
  },
  "language_info": {
   "codemirror_mode": {
    "name": "ipython",
    "version": 3
   },
   "file_extension": ".py",
   "mimetype": "text/x-python",
   "name": "python",
   "nbconvert_exporter": "python",
   "pygments_lexer": "ipython3",
   "version": "3.9.1"
  }
 },
 "nbformat": 4,
 "nbformat_minor": 5
}
