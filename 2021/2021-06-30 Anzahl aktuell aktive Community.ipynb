{
 "cells": [
  {
   "cell_type": "code",
   "execution_count": 9,
   "id": "unable-bidding",
   "metadata": {},
   "outputs": [
    {
     "data": {
      "text/markdown": [
       "# Aktuelle Anzahl aktiver Autor:innen"
      ],
      "text/plain": [
       "<IPython.core.display.Markdown object>"
      ]
     },
     "metadata": {},
     "output_type": "display_data"
    },
    {
     "data": {
      "text/plain": [
       "43"
      ]
     },
     "execution_count": 9,
     "metadata": {},
     "output_type": "execute_result"
    }
   ],
   "source": [
    "import mysql.connector\n",
    "from IPython.display import Markdown, display\n",
    "\n",
    "db = mysql.connector.connect(\n",
    "  host=\"localhost\",\n",
    "  user=\"root\",\n",
    "  password=\"secret\",\n",
    "  port=\"3306\",\n",
    "  database=\"serlo\"\n",
    ")\n",
    "\n",
    "import pandas as pd\n",
    "\n",
    "def anzahl_show(title, ids):\n",
    "    display(Markdown(f\"# {title}\"))\n",
    "    ids_sql = \",\".join(map(str, ids))\n",
    "    df = pd.read_sql(f\"\"\"\n",
    "        select actor_id, id from event_log\n",
    "        where event_id in ({ids_sql})\n",
    "        and date > now()-interval 3 month\n",
    "    \"\"\", db)\n",
    "    df = df.groupby(\"actor_id\").count()\n",
    "    return len(df[df[\"id\"] > 10])\n",
    "\n",
    "anzahl_show(\"Aktuelle Anzahl aktiver Autor:innen\", [5, 4])"
   ]
  },
  {
   "cell_type": "code",
   "execution_count": 10,
   "id": "circular-fusion",
   "metadata": {},
   "outputs": [
    {
     "data": {
      "text/markdown": [
       "# Aktuelle Anzahl aktiver Reviewer:innen"
      ],
      "text/plain": [
       "<IPython.core.display.Markdown object>"
      ]
     },
     "metadata": {},
     "output_type": "display_data"
    },
    {
     "data": {
      "text/plain": [
       "22"
      ]
     },
     "execution_count": 10,
     "metadata": {},
     "output_type": "execute_result"
    }
   ],
   "source": [
    "anzahl_show(\"Aktuelle Anzahl aktiver Reviewer:innen\", [6, 11])"
   ]
  },
  {
   "cell_type": "code",
   "execution_count": 11,
   "id": "flying-devil",
   "metadata": {},
   "outputs": [
    {
     "data": {
      "text/markdown": [
       "# Aktuelle Anzahl aktiver Taxonomybauer:innen"
      ],
      "text/plain": [
       "<IPython.core.display.Markdown object>"
      ]
     },
     "metadata": {},
     "output_type": "display_data"
    },
    {
     "data": {
      "text/plain": [
       "16"
      ]
     },
     "execution_count": 11,
     "metadata": {},
     "output_type": "execute_result"
    }
   ],
   "source": [
    "anzahl_show(\"Aktuelle Anzahl aktiver Taxonomybauer:innen\", [1,2,12,15,17])"
   ]
  },
  {
   "cell_type": "code",
   "execution_count": 12,
   "id": "pursuant-winter",
   "metadata": {},
   "outputs": [
    {
     "data": {
      "text/markdown": [
       "# Aktuelle Anzahl aktiver Moderator:innen"
      ],
      "text/plain": [
       "<IPython.core.display.Markdown object>"
      ]
     },
     "metadata": {},
     "output_type": "display_data"
    },
    {
     "data": {
      "text/plain": [
       "3"
      ]
     },
     "execution_count": 12,
     "metadata": {},
     "output_type": "execute_result"
    }
   ],
   "source": [
    "anzahl_show(\"Aktuelle Anzahl aktiver Moderator:innen\", [9,14,16])"
   ]
  },
  {
   "cell_type": "code",
   "execution_count": 14,
   "id": "outdoor-senate",
   "metadata": {},
   "outputs": [
    {
     "data": {
      "text/markdown": [
       "# Aktuelle Anzahl aktiver Admins"
      ],
      "text/plain": [
       "<IPython.core.display.Markdown object>"
      ]
     },
     "metadata": {},
     "output_type": "display_data"
    },
    {
     "data": {
      "text/plain": [
       "6"
      ]
     },
     "execution_count": 14,
     "metadata": {},
     "output_type": "execute_result"
    }
   ],
   "source": [
    "anzahl_show(\"Aktuelle Anzahl aktiver Admins (mit vorsicht zu genießen)\", [10,13])"
   ]
  }
 ],
 "metadata": {
  "kernelspec": {
   "display_name": "Python 3",
   "language": "python",
   "name": "python3"
  },
  "language_info": {
   "codemirror_mode": {
    "name": "ipython",
    "version": 3
   },
   "file_extension": ".py",
   "mimetype": "text/x-python",
   "name": "python",
   "nbconvert_exporter": "python",
   "pygments_lexer": "ipython3",
   "version": "3.9.1"
  }
 },
 "nbformat": 4,
 "nbformat_minor": 5
}
